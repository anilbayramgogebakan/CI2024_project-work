{
 "cells": [
  {
   "cell_type": "code",
   "execution_count": 10,
   "metadata": {},
   "outputs": [],
   "source": [
    "import numpy as np\n",
    "from src.utils import *"
   ]
  },
  {
   "cell_type": "code",
   "execution_count": 17,
   "metadata": {},
   "outputs": [],
   "source": [
    "def tournament_selection(fitness, n):\n",
    "    \"\"\"\n",
    "    Perform tournament selection\n",
    "    \n",
    "    Args:\n",
    "        fitness (array-like): Fitness values of the population.\n",
    "        n (int): Subset size of winners and losers.\n",
    "        \n",
    "    Returns:\n",
    "        best_n (list): Indices of best n individuals.\n",
    "        worst_n (list): Indices of worst n individuals\n",
    "    \"\"\"\n",
    "    sorted_indices = np.argsort(fitness)\n",
    "    best_n = sorted_indices[:n]\n",
    "    worst_n = sorted_indices[-n:][::-1]\n",
    "    return best_n, worst_n"
   ]
  },
  {
   "cell_type": "code",
   "execution_count": null,
   "metadata": {},
   "outputs": [],
   "source": [
    "fit = np.arange(20)\n",
    "fit"
   ]
  },
  {
   "cell_type": "code",
   "execution_count": null,
   "metadata": {},
   "outputs": [],
   "source": [
    "best_n, worst_n = tournament_selection(fit, 3)\n",
    "print(best_n)\n",
    "print(worst_n)"
   ]
  },
  {
   "cell_type": "code",
   "execution_count": 83,
   "metadata": {},
   "outputs": [],
   "source": [
    "import numpy as np\n",
    "import random\n",
    "import math\n",
    "operators=[np.add, np.subtract, np.multiply, np.sin, np.cos, np.exp]\n",
    "unary_operators=[np.sin, np.cos, np.exp]\n",
    "\n",
    "def is_operator(val):\n",
    "        return val in operators\n",
    "\n",
    "class Node:\n",
    "    op_list = {\n",
    "        np.add: '+',\n",
    "        np.subtract: '-',\n",
    "        np.multiply: '*',\n",
    "        np.sin: 'sin',\n",
    "        np.cos: 'cos',\n",
    "        np.exp: 'exp',  \n",
    "    }\n",
    "    def __init__(self, value=None, feature_index=None, left=None, right=None):\n",
    "        self.value = value \n",
    "        self.feature_index = feature_index\n",
    "        self.left = left\n",
    "        self.right = right\n",
    "\n",
    "    def evaluate(self,x=None):\n",
    "        # first check if it is an operator \n",
    "        # if not proceed\n",
    "        \n",
    "        if not is_operator(self.value):\n",
    "            #print(\"index\",self.feature_index)\n",
    "            if self.feature_index!= None:\n",
    "                #print(\"ben inputun indexiyim\")\n",
    "                return x[self.feature_index]\n",
    "            else:\n",
    "                #print(\"ben bir sayıyım\")\n",
    "                return self.value\n",
    "        # if it is an operator\n",
    "        if self.value in unary_operators:\n",
    "            operand_value = self.left.evaluate(x)\n",
    "            #print(\"tek\",operand_value)\n",
    "            return self.value(operand_value)\n",
    "        \n",
    "        left_value = self.left.evaluate(x)\n",
    "        right_value = self.right.evaluate(x)\n",
    "        #print(left_value)\n",
    "        #print(right_value)\n",
    "        return self.value(left_value, right_value)\n",
    "    def __str__(self):\n",
    "        if not is_operator(self.value):\n",
    "            if self.feature_index != None:\n",
    "                return f\"x[{self.feature_index}]\"\n",
    "            return str(self.value)\n",
    "\n",
    "        operator_symbol = self.op_list[self.value]\n",
    "\n",
    "        if self.value in {np.sin, np.cos, np.log, np.exp}:\n",
    "            return f\"{operator_symbol}({self.left})\"\n",
    "\n",
    "        return f\"({self.left} {operator_symbol} {self.right})\"\n",
    "\n",
    "def random_tree(depth, num_features):\n",
    "    if depth == 0:\n",
    "        if random.random() < 0.5:\n",
    "            return Node(feature_index=random.randint(0, num_features - 1))\n",
    "        else:\n",
    "            return Node(value=np.random.normal(0,1,1))\n",
    "\n",
    "    operator = random.choice(operators)\n",
    "    node = Node(value=operator)\n",
    "\n",
    "    if operator in unary_operators:\n",
    "        node.left = random_tree(depth - 1, num_features)\n",
    "        node.right = None\n",
    "    else:\n",
    "        node.left = random_tree(depth - 1, num_features)\n",
    "        node.right = random_tree(depth - 1, num_features)\n",
    "\n",
    "    return node\n",
    "\n",
    "def create_population(num_peop,depth,num_features):\n",
    "    population = []\n",
    "    num_ones = num_peop//2\n",
    "    for i in range(num_ones):\n",
    "        baby=random_tree(1,num_features)\n",
    "        population.append(baby)\n",
    "    for i in range(num_peop-num_ones):\n",
    "        baby=random_tree(depth,num_features)\n",
    "        population.append(baby)\n",
    "    return population\n",
    "\n",
    "def cost(genome,x, y):\n",
    "    predictions = np.array([genome.evaluate(x[:, i]) for i in range(x.shape[1])])\n",
    "    mse = np.mean((predictions - y) ** 2)\n",
    "    return mse"
   ]
  },
  {
   "cell_type": "code",
   "execution_count": 84,
   "metadata": {},
   "outputs": [],
   "source": [
    "meric = Node(value=np.add,\n",
    "             left=Node(feature_index=0),\n",
    "             right=Node(value=np.multiply,\n",
    "                        left=Node(value=2),\n",
    "                        right=Node(value=np.sin,\n",
    "                                   left=Node(value=np.add,\n",
    "                                            left=Node(feature_index=1),\n",
    "                                            right=Node(value=10)))))"
   ]
  },
  {
   "cell_type": "code",
   "execution_count": null,
   "metadata": {},
   "outputs": [],
   "source": [
    "x=[2,3]\n",
    "print(meric.evaluate(x))"
   ]
  },
  {
   "cell_type": "code",
   "execution_count": null,
   "metadata": {},
   "outputs": [],
   "source": [
    "# Collect all nodes in the tree\n",
    "def collect_nodes(n, nodes):\n",
    "    if n is None:\n",
    "        return\n",
    "    nodes.append(n)\n",
    "    collect_nodes(n.left, nodes)\n",
    "    collect_nodes(n.right, nodes)\n",
    "\n",
    "def mutation(individual, feature_count):\n",
    "    \"\"\"\n",
    "    Randomly modifies a node's value or feature_index in the tree.\n",
    "    \n",
    "    Args:\n",
    "        node (Node): The root of the tree.\n",
    "        feature_count (int): The number of input features (to determine valid feature indices).\n",
    "        max_constant (float): The maximum absolute value for random constants.\n",
    "\n",
    "    Returns:\n",
    "        bool: True if a node was modified, False otherwise.\n",
    "    \"\"\"\n",
    "    node = copy.deepcopy(individual)\n",
    "    nodes = []\n",
    "    collect_nodes(node, nodes)\n",
    "\n",
    "    # Randomly pick a node\n",
    "    if not nodes:\n",
    "        return False\n",
    "\n",
    "    target_node = random.choice(nodes)\n",
    "\n",
    "    # Modify the target node\n",
    "    if target_node.feature_index is not None: # Node is Xn\n",
    "        if random.random() < 0.5:\n",
    "        # Modify the feature index\n",
    "            target_node.feature_index = random.randint(0, feature_count - 1) #TODO: find a better way to exclude existing feature index\n",
    "        else:\n",
    "            # Assign constant value to feature node\n",
    "            target_node.feature_index = None\n",
    "            target_node.value = np.random.normal(0,1,1)\n",
    "    else:\n",
    "    # Modify the operator or constant\n",
    "        if target_node.value in operators:\n",
    "            if target_node.value in unary_operators: # If the operator is one-argument, pick another one-argument operator\n",
    "                target_node.value = np.random.choice([op for op in unary_operators if op != target_node.value])\n",
    "            else: # If the operator is two-argument, pick another two-argument operator\n",
    "                target_node.value = np.random.choice([op for op in set(operators)-set(unary_operators) if op != target_node.value])\n",
    "        else: # If the node is a constant, assign a new constant value\n",
    "            if random.random() < 0.5:\n",
    "                # Replace the constant value with constant value\n",
    "                target_node.value = np.random.normal(0,1,1)\n",
    "            else:\n",
    "                # Replace the constant value with a feature\n",
    "                target_node.value = None\n",
    "                target_node.feature_index = random.randint(0, feature_count - 1)\n",
    "    return node\n",
    "\n",
    "# Example tree\n",
    "# root = Node(\n",
    "#     value=np.add,\n",
    "#     left=Node(value=None, feature_index=0),\n",
    "#     right=Node(value=np.multiply, left=Node(value=None, feature_index=1), right=Node(value=5)),\n",
    "# )\n",
    "root = Node(value=np.add,\n",
    "             left=Node(feature_index=0),\n",
    "             right=Node(value=np.multiply,\n",
    "                        left=Node(value=2),\n",
    "                        right=Node(value=np.sin,\n",
    "                                   left=Node(value=np.add,\n",
    "                                            left=Node(feature_index=1),\n",
    "                                            right=Node(value=10)))))\n",
    "print(\"Original tree:\")\n",
    "print(root)\n",
    "\n",
    "# Modify a random node\n",
    "modified = mutation(root, feature_count=3)\n",
    "\n",
    "if modified:\n",
    "    print(\"\\nModified tree:\")\n",
    "    print(root)\n",
    "else:\n",
    "    print(\"\\nNo modification made.\")\n"
   ]
  },
  {
   "cell_type": "code",
   "execution_count": null,
   "metadata": {},
   "outputs": [],
   "source": [
    "my_population = create_population(10,3,3)\n",
    "for i in range(len(my_population)):\n",
    "    print(my_population[i])"
   ]
  },
  {
   "cell_type": "code",
   "execution_count": null,
   "metadata": {},
   "outputs": [],
   "source": [
    "for ind in range(len(my_population)):\n",
    "    if random.random() < 0.5:\n",
    "        my_population[ind] = mutation(my_population[ind], 3)\n",
    "        print(\"Mutation done\")\n",
    "    else:\n",
    "        print(\"No mutation made.\")"
   ]
  },
  {
   "cell_type": "code",
   "execution_count": null,
   "metadata": {},
   "outputs": [],
   "source": [
    "for i in range(len(my_population)):\n",
    "    print(my_population[i])"
   ]
  },
  {
   "cell_type": "code",
   "execution_count": 64,
   "metadata": {},
   "outputs": [],
   "source": [
    "problem0 = np.load(\"data/problem_0.npz\")\n",
    "x_train = problem0[\"x\"]\n",
    "y_train = problem0[\"y\"]\n",
    "print(\"x\")\n",
    "print(x_train.shape)\n",
    "print(x_train.mean(axis=1))\n",
    "print(x_train.max(axis=1))\n",
    "print(x_train.min(axis=1))\n",
    "print(x_train.std(axis=1))\n",
    "print(\"y\")\n",
    "print(y_train.shape)\n",
    "print(y_train.mean(axis=0))\n",
    "print(y_train.max(axis=0))\n",
    "print(y_train.min(axis=0))\n",
    "print(y_train.std(axis=0))"
   ]
  },
  {
   "cell_type": "code",
   "execution_count": null,
   "metadata": {},
   "outputs": [],
   "source": [
    "problem1 = np.load(\"data/problem_1.npz\")\n",
    "x_train = problem1[\"x\"]\n",
    "y_train = problem1[\"y\"]\n",
    "print(\"x\")\n",
    "print(x_train.shape)\n",
    "print(x_train.mean(axis=1))\n",
    "print(x_train.max(axis=1))\n",
    "print(x_train.min(axis=1))\n",
    "print(x_train.std(axis=1))\n",
    "print(\"y\")\n",
    "print(y_train.shape)\n",
    "print(y_train.mean(axis=0))\n",
    "print(y_train.max(axis=0))\n",
    "print(y_train.min(axis=0))\n",
    "print(y_train.std(axis=0))"
   ]
  },
  {
   "cell_type": "code",
   "execution_count": 122,
   "metadata": {},
   "outputs": [],
   "source": [
    "def crossover(parent1, parent2):\n",
    "    \"\"\"\n",
    "    Perform crossover between two parents.\n",
    "    \n",
    "    Args:\n",
    "        parent1 (Node): First parent.\n",
    "        parent2 (Node): Second parent.\n",
    "        \n",
    "    Returns:\n",
    "        child1 (Node): First child.\n",
    "        child2 (Node): Second child.\n",
    "    \"\"\"\n",
    "    # Copy parent to create new children\n",
    "    child1 = copy.deepcopy(parent1)\n",
    "    child2 = copy.deepcopy(parent2)\n",
    "\n",
    "    # Collect all nodes in the trees\n",
    "    nodes1 = []\n",
    "    collect_nodes(child1, nodes1)\n",
    "    nodes2 = []\n",
    "    collect_nodes(child2, nodes2)\n",
    "    \n",
    "    # Randomly pick a node from each parent\n",
    "    if not nodes1 or not nodes2:\n",
    "        return None\n",
    "    target_node1 = random.choice(nodes1)\n",
    "    target_node2 = random.choice(nodes2)\n",
    "\n",
    "    # Copy the target node from parent1\n",
    "    copy_target_node1 = copy.deepcopy(target_node1)\n",
    "\n",
    "    # Replace the target node with the target node from parent2\n",
    "    target_node1.value = target_node2.value\n",
    "    target_node1.feature_index = target_node2.feature_index\n",
    "    target_node1.left = target_node2.left\n",
    "    target_node1.right = target_node2.right\n",
    "\n",
    "    # Replace the target node with the target node from parent1\n",
    "    target_node2.value = copy_target_node1.value\n",
    "    target_node2.feature_index = copy_target_node1.feature_index\n",
    "    target_node2.left = copy_target_node1.left\n",
    "    target_node2.right = copy_target_node1.right\n",
    "    \n",
    "    return child1, child2"
   ]
  },
  {
   "cell_type": "code",
   "execution_count": 123,
   "metadata": {},
   "outputs": [],
   "source": [
    "a = random_tree(2,2)\n",
    "b = random_tree(2,2)"
   ]
  },
  {
   "cell_type": "code",
   "execution_count": null,
   "metadata": {},
   "outputs": [],
   "source": [
    "print(a)\n",
    "print()\n",
    "print(b)"
   ]
  },
  {
   "cell_type": "code",
   "execution_count": 125,
   "metadata": {},
   "outputs": [],
   "source": [
    "child1, child2 = crossover(a,b)"
   ]
  },
  {
   "cell_type": "code",
   "execution_count": null,
   "metadata": {},
   "outputs": [],
   "source": [
    "print(a)\n",
    "print()\n",
    "print(b)"
   ]
  },
  {
   "cell_type": "code",
   "execution_count": null,
   "metadata": {},
   "outputs": [],
   "source": [
    "print(child1)\n",
    "print()\n",
    "print(child2)"
   ]
  },
  {
   "cell_type": "code",
   "execution_count": 131,
   "metadata": {},
   "outputs": [],
   "source": [
    "def simplify(population, x, y):\n",
    "    \"\"\"\n",
    "    Simply population by removing overflowed individuals.\n",
    "\n",
    "    Args:\n",
    "        population (list): List of individuals.\n",
    "        x (array-like): Input data.\n",
    "\n",
    "    Returns:\n",
    "        simplified_population (list): List of simplified individuals.\n",
    "    \"\"\"\n",
    "    simplified_population = []\n",
    "    for individual in population:\n",
    "        try:\n",
    "            cost(individual, x, y)\n",
    "            simplified_population.append(individual)\n",
    "        except:\n",
    "            pass\n",
    "    return simplified_population\n"
   ]
  },
  {
   "cell_type": "code",
   "execution_count": null,
   "metadata": {},
   "outputs": [],
   "source": [
    "my_population = create_population(10,3,2)\n",
    "for i in range(len(my_population)):\n",
    "    print(my_population[i])"
   ]
  },
  {
   "cell_type": "code",
   "execution_count": 133,
   "metadata": {},
   "outputs": [],
   "source": [
    "simplified_population = simplify(my_population, x_train, y_train)"
   ]
  },
  {
   "cell_type": "code",
   "execution_count": null,
   "metadata": {},
   "outputs": [],
   "source": [
    "for i in simplified_population:\n",
    "    print(i)"
   ]
  },
  {
   "cell_type": "code",
   "execution_count": null,
   "metadata": {},
   "outputs": [],
   "source": [
    "a = [1,2,3,4,5,6,7,8,9,10]\n",
    "b = [3,5,7]\n",
    "\n",
    "# Remove elements from a whose indexes are in b\n",
    "a.remove()\n",
    "del a[b]"
   ]
  },
  {
   "cell_type": "code",
   "execution_count": 2,
   "metadata": {},
   "outputs": [],
   "source": [
    "import numpy as np\n",
    "a = np.arange(100)"
   ]
  },
  {
   "cell_type": "code",
   "execution_count": null,
   "metadata": {},
   "outputs": [],
   "source": [
    "a"
   ]
  },
  {
   "cell_type": "code",
   "execution_count": 4,
   "metadata": {},
   "outputs": [],
   "source": [
    "a = a*10"
   ]
  },
  {
   "cell_type": "code",
   "execution_count": null,
   "metadata": {},
   "outputs": [],
   "source": [
    "a"
   ]
  },
  {
   "cell_type": "code",
   "execution_count": null,
   "metadata": {},
   "outputs": [],
   "source": [
    "import numpy as np\n",
    "\n",
    "def select_k_winners(arr, n, k, sorted=False):\n",
    "    \"\"\"\n",
    "    Select k winners from the array by repeatedly comparing random n elements.\n",
    "    \n",
    "    Parameters:\n",
    "    - arr (np.ndarray): The input array.\n",
    "    - n (int): Number of elements to randomly select for each comparison.\n",
    "    - k (int): Number of winners to select.\n",
    "    \n",
    "    Returns:\n",
    "    - np.ndarray: Array of the k largest winners.\n",
    "    \"\"\"\n",
    "    \n",
    "    # Convert to a mutable list of indices\n",
    "    indices = np.arange(len(arr))\n",
    "    \n",
    "    while len(indices) > k:\n",
    "        # Randomly select `n` indices\n",
    "        selected_indices = np.random.choice(indices, n, replace=False)\n",
    "        \n",
    "        # Find the index of the maximum among the selected\n",
    "        max_idx = selected_indices[np.argmax(arr[selected_indices])]\n",
    "        \n",
    "        # Remove all selected indices except the winner\n",
    "        indices = np.setdiff1d(indices, selected_indices)\n",
    "        indices = np.append(indices, max_idx)\n",
    "    \n",
    "    # Extract and sort the k winners\n",
    "    winners = arr[indices]\n",
    "    \n",
    "    if sorted:\n",
    "        return np.sort(winners[:k])[::-1]\n",
    "    return winners\n",
    "\n",
    "# Example Usage\n",
    "arr = np.arange(0, 1000, 10)\n",
    "n = 3  # Number of elements to compare\n",
    "k = 5  # Number of winners\n",
    "winners = select_k_winners(arr, n, k)\n",
    "print(\"Top K Winners:\", winners)\n"
   ]
  },
  {
   "cell_type": "code",
   "execution_count": null,
   "metadata": {},
   "outputs": [],
   "source": [
    "root = Node(value=np.add,\n",
    "             left=Node(feature_index=0),\n",
    "             right=Node(value=np.multiply,\n",
    "                        left=Node(value=2),\n",
    "                        right=Node(value=np.sin,\n",
    "                                   left=Node(value=np.add,\n",
    "                                            left=Node(feature_index=1),\n",
    "                                            right=Node(value=10)))))"
   ]
  },
  {
   "cell_type": "code",
   "execution_count": 1,
   "metadata": {},
   "outputs": [],
   "source": [
    "import numpy as np\n",
    "from src.utils import *\n",
    "from tqdm import tqdm"
   ]
  },
  {
   "cell_type": "code",
   "execution_count": 2,
   "metadata": {},
   "outputs": [],
   "source": [
    "my_node1 = Node(value=0.2)\n",
    "my_node2 = Node(value=0.3)\n",
    "my_node3 = Node(value=0.1)\n",
    "my_node4 = Node(value=0.6)\n",
    "my_pop = [Individual(my_node4, age=4),Individual(my_node4, age=2),Individual(my_node4, age=1),Individual(my_node4, age=7),Individual(my_node2),Individual(my_node2),Individual(my_node2),Individual(my_node2),Individual(my_node1), Individual(my_node1),Individual(my_node1),Individual(my_node1),Individual(my_node3),Individual(my_node3),Individual(my_node3),Individual(my_node3) ]"
   ]
  },
  {
   "cell_type": "code",
   "execution_count": 3,
   "metadata": {},
   "outputs": [
    {
     "name": "stdout",
     "output_type": "stream",
     "text": [
      "Individual(genome=abs(abs(sin(0.3))), fitness=None, age=0, T=1)\n"
     ]
    }
   ],
   "source": [
    "abs_node = Node(value=np.abs,\n",
    "                left=Node(value=np.abs,\n",
    "                          left=Node(value=np.sin,\n",
    "                                    left=Node(value=0.3))))\n",
    "abs_ind = Individual(abs_node)\n",
    "print(abs_ind)"
   ]
  },
  {
   "cell_type": "code",
   "execution_count": 3,
   "metadata": {},
   "outputs": [
    {
     "name": "stdout",
     "output_type": "stream",
     "text": [
      "x.shape: (2, 5000)\n",
      "y.shape: (5000,)\n"
     ]
    }
   ],
   "source": [
    "# simplify(my_inidvidual[0].genome)\n",
    "problem_0 = np.load(\"data/problem_4.npz\")\n",
    "x = problem_0[\"x\"]\n",
    "y = problem_0[\"y\"]\n",
    "print(\"x.shape:\", x.shape)\n",
    "print(\"y.shape:\", y.shape)"
   ]
  },
  {
   "cell_type": "code",
   "execution_count": 5,
   "metadata": {},
   "outputs": [
    {
     "data": {
      "text/plain": [
       "Individual(genome=abs(sin(0.3)), fitness=None, age=0, T=1)"
      ]
     },
     "execution_count": 5,
     "metadata": {},
     "output_type": "execute_result"
    }
   ],
   "source": [
    "simplify_operation(abs_ind.genome)\n",
    "abs_ind"
   ]
  },
  {
   "cell_type": "code",
   "execution_count": 7,
   "metadata": {},
   "outputs": [
    {
     "name": "stdout",
     "output_type": "stream",
     "text": [
      "<ufunc 'sin'>\n",
      "<class 'numpy.ufunc'>\n"
     ]
    }
   ],
   "source": [
    "print(abs_ind.genome.left.value)\n",
    "print(type(abs_ind.genome.left.value))"
   ]
  },
  {
   "cell_type": "code",
   "execution_count": 4,
   "metadata": {},
   "outputs": [
    {
     "name": "stdout",
     "output_type": "stream",
     "text": [
      "0 Individual(genome=0.6, fitness=np.float64(23.581402809182254), age=4, T=1)\n",
      "1 Individual(genome=0.6, fitness=np.float64(23.581402809182254), age=2, T=1)\n",
      "2 Individual(genome=0.6, fitness=np.float64(23.581402809182254), age=1, T=1)\n",
      "3 Individual(genome=0.6, fitness=np.float64(23.581402809182254), age=7, T=1)\n",
      "4 Individual(genome=0.3, fitness=np.float64(24.51127448521074), age=0, T=1)\n",
      "5 Individual(genome=0.3, fitness=np.float64(24.51127448521074), age=0, T=1)\n",
      "6 Individual(genome=0.3, fitness=np.float64(24.51127448521074), age=0, T=1)\n",
      "7 Individual(genome=0.3, fitness=np.float64(24.51127448521074), age=0, T=1)\n",
      "8 Individual(genome=0.2, fitness=np.float64(24.861231710553575), age=0, T=1)\n",
      "9 Individual(genome=0.2, fitness=np.float64(24.861231710553575), age=0, T=1)\n",
      "10 Individual(genome=0.2, fitness=np.float64(24.861231710553575), age=0, T=1)\n",
      "11 Individual(genome=0.2, fitness=np.float64(24.861231710553575), age=0, T=1)\n",
      "12 Individual(genome=0.1, fitness=np.float64(25.231188935896405), age=0, T=1)\n",
      "13 Individual(genome=0.1, fitness=np.float64(25.231188935896405), age=0, T=1)\n",
      "14 Individual(genome=0.1, fitness=np.float64(25.231188935896405), age=0, T=1)\n",
      "15 Individual(genome=0.1, fitness=np.float64(25.231188935896405), age=0, T=1)\n"
     ]
    }
   ],
   "source": [
    "# my_pop=[abs_ind]\n",
    "assign_population_fitness(my_pop,x,y)\n",
    "for ind in range(len(my_pop)):\n",
    "    print(ind, my_pop[ind])"
   ]
  },
  {
   "cell_type": "code",
   "execution_count": 6,
   "metadata": {},
   "outputs": [
    {
     "name": "stdout",
     "output_type": "stream",
     "text": [
      "0 Individual(genome=0.6, fitness=np.float64(23.581402809182254), age=1, T=1)\n",
      "1 Individual(genome=0.3, fitness=np.float64(24.51127448521074), age=0, T=1)\n",
      "2 Individual(genome=0.2, fitness=np.float64(24.861231710553575), age=0, T=1)\n",
      "3 Individual(genome=0.1, fitness=np.float64(25.231188935896405), age=0, T=1)\n"
     ]
    }
   ],
   "source": [
    "my_pop = deduplicate_population(my_pop)\n",
    "for ind in range(len(my_pop)):\n",
    "    print(ind, my_pop[ind])"
   ]
  },
  {
   "cell_type": "code",
   "execution_count": null,
   "metadata": {},
   "outputs": [],
   "source": [
    "tournament_selection(my_pop,3,4,ELITISM=False)"
   ]
  },
  {
   "cell_type": "code",
   "execution_count": null,
   "metadata": {},
   "outputs": [],
   "source": [
    "val=np.array([32])\n",
    "if np.abs:\n",
    "    print(\"Hey\")"
   ]
  },
  {
   "cell_type": "code",
   "execution_count": null,
   "metadata": {},
   "outputs": [],
   "source": [
    "a = 0.2313212132\n",
    "b = 0.2313212132\n",
    "print(f\"Fitness: {a:.2f}, Genome: {b}\")"
   ]
  },
  {
   "cell_type": "code",
   "execution_count": 7,
   "metadata": {},
   "outputs": [],
   "source": [
    "my_node = Node(value=np.cos,\n",
    "               left=Node(feature_index=0))\n",
    "my_inidvidual = [Individual(my_node)]"
   ]
  },
  {
   "cell_type": "code",
   "execution_count": null,
   "metadata": {},
   "outputs": [],
   "source": [
    "print(my_inidvidual[0])\n",
    "print(my_inidvidual[0].genome.complexity)"
   ]
  },
  {
   "cell_type": "code",
   "execution_count": 9,
   "metadata": {},
   "outputs": [],
   "source": [
    "kill_constant(my_inidvidual)"
   ]
  },
  {
   "cell_type": "code",
   "execution_count": null,
   "metadata": {},
   "outputs": [],
   "source": [
    "my_inidvidual"
   ]
  },
  {
   "cell_type": "code",
   "execution_count": 11,
   "metadata": {},
   "outputs": [],
   "source": [
    "my_node = Node(value=np.array([0.1]))\n",
    "my_inidvidual = [Individual(my_node)]"
   ]
  },
  {
   "cell_type": "code",
   "execution_count": null,
   "metadata": {},
   "outputs": [],
   "source": [
    "print(my_inidvidual[0])\n",
    "print(my_inidvidual[0].genome.complexity)"
   ]
  },
  {
   "cell_type": "code",
   "execution_count": 13,
   "metadata": {},
   "outputs": [],
   "source": [
    "kill_constant(my_inidvidual)"
   ]
  },
  {
   "cell_type": "code",
   "execution_count": null,
   "metadata": {},
   "outputs": [],
   "source": [
    "my_inidvidual"
   ]
  },
  {
   "cell_type": "code",
   "execution_count": 36,
   "metadata": {},
   "outputs": [],
   "source": [
    "a = list(range(20))"
   ]
  },
  {
   "cell_type": "code",
   "execution_count": 37,
   "metadata": {},
   "outputs": [],
   "source": [
    "a[:] = [i for i in a if not(i % 3 == 0 and i % 2 == 0)]"
   ]
  },
  {
   "cell_type": "code",
   "execution_count": null,
   "metadata": {},
   "outputs": [],
   "source": [
    "a"
   ]
  },
  {
   "cell_type": "code",
   "execution_count": null,
   "metadata": {},
   "outputs": [],
   "source": [
    "for el in a:\n",
    "    print(el)\n",
    "    if el % 3 == 0:\n",
    "        a.remove(el)\n",
    "print(a)"
   ]
  },
  {
   "cell_type": "code",
   "execution_count": 1,
   "metadata": {},
   "outputs": [],
   "source": [
    "import threading"
   ]
  },
  {
   "cell_type": "code",
   "execution_count": 2,
   "metadata": {},
   "outputs": [],
   "source": [
    "def t1():\n",
    "    for i in range(10):\n",
    "        print(\"Thread 1\")\n",
    "def t2():\n",
    "    for i in range(10):\n",
    "        print(\"Thread 2\")\n",
    "        "
   ]
  },
  {
   "cell_type": "code",
   "execution_count": null,
   "metadata": {},
   "outputs": [],
   "source": [
    "thread_1 = threading.Thread(target=t1)\n",
    "thread_2 = threading.Thread(target=t2)\n",
    "\n",
    "thread_2.start()\n",
    "thread_1.start()\n",
    "print(\"Done\")\n",
    "thread_1.join()\n",
    "thread_2.join()\n",
    "\n",
    "\n"
   ]
  },
  {
   "cell_type": "code",
   "execution_count": 4,
   "metadata": {},
   "outputs": [],
   "source": []
  },
  {
   "cell_type": "code",
   "execution_count": 5,
   "metadata": {},
   "outputs": [],
   "source": []
  },
  {
   "cell_type": "code",
   "execution_count": null,
   "metadata": {},
   "outputs": [],
   "source": []
  }
 ],
 "metadata": {
  "kernelspec": {
   "display_name": "ci",
   "language": "python",
   "name": "python3"
  },
  "language_info": {
   "codemirror_mode": {
    "name": "ipython",
    "version": 3
   },
   "file_extension": ".py",
   "mimetype": "text/x-python",
   "name": "python",
   "nbconvert_exporter": "python",
   "pygments_lexer": "ipython3",
   "version": "3.10.15"
  }
 },
 "nbformat": 4,
 "nbformat_minor": 2
}
