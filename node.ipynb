{
 "cells": [
  {
   "cell_type": "code",
   "execution_count": 2,
   "metadata": {},
   "outputs": [],
   "source": [
    "import numpy as np\n",
    "import random\n",
    "import math"
   ]
  },
  {
   "cell_type": "code",
   "execution_count": null,
   "metadata": {},
   "outputs": [],
   "source": [
    "operators=[np.add, np.subtract, np.multiply, np.sin, np.cos, np.exp]\n",
    "one_arg_op=[np.sin, np.cos, np.exp]\n",
    "\n",
    "def is_operator(val):\n",
    "        return val in operators"
   ]
  },
  {
   "cell_type": "code",
   "execution_count": 33,
   "metadata": {},
   "outputs": [],
   "source": [
    "class Node:\n",
    "    def __init__(self, value=None, feature_index=None, left=None, right=None):\n",
    "        self.value = value \n",
    "        self.feature_index = feature_index\n",
    "        self.left = left\n",
    "        self.right = right\n",
    "\n",
    "    def evaluate(self,x=None):\n",
    "        # first check if it is an operator \n",
    "        # if not proceed\n",
    "        \n",
    "        if not is_operator(self.value):\n",
    "            #print(\"index\",self.feature_index)\n",
    "            if self.feature_index!= None:\n",
    "                #print(\"ben inputun indexiyim\")\n",
    "                return x[self.feature_index]\n",
    "            else:\n",
    "                #print(\"ben bir sayıyım\")\n",
    "                return self.value\n",
    "        # if it is an operator\n",
    "        if self.value in one_arg_op:\n",
    "            operand_value = self.left.evaluate(x)\n",
    "            #print(\"tek\",operand_value)\n",
    "            return self.value(operand_value)\n",
    "        \n",
    "        left_value = self.left.evaluate(x)\n",
    "        right_value = self.right.evaluate(x)\n",
    "        #print(left_value)\n",
    "        #print(right_value)\n",
    "        return self.value(left_value, right_value)"
   ]
  },
  {
   "cell_type": "code",
   "execution_count": 36,
   "metadata": {},
   "outputs": [],
   "source": [
    "meric = Node(value=np.add,left=Node(feature_index=0),right=Node(value=np.multiply,left=Node(value=2),right=Node(value=np.sin,left=Node(value=np.add,left=Node(feature_index=1),right=Node(value=10)))))\n"
   ]
  },
  {
   "cell_type": "code",
   "execution_count": 37,
   "metadata": {},
   "outputs": [
    {
     "name": "stdout",
     "output_type": "stream",
     "text": [
      "2.840334073653282\n"
     ]
    }
   ],
   "source": [
    "x=[2,3]\n",
    "print(meric.evaluate(x))"
   ]
  },
  {
   "cell_type": "code",
   "execution_count": null,
   "metadata": {},
   "outputs": [],
   "source": []
  }
 ],
 "metadata": {
  "kernelspec": {
   "display_name": "Python 3",
   "language": "python",
   "name": "python3"
  },
  "language_info": {
   "codemirror_mode": {
    "name": "ipython",
    "version": 3
   },
   "file_extension": ".py",
   "mimetype": "text/x-python",
   "name": "python",
   "nbconvert_exporter": "python",
   "pygments_lexer": "ipython3",
   "version": "3.12.6"
  }
 },
 "nbformat": 4,
 "nbformat_minor": 2
}
