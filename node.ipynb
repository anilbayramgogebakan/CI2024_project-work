{
 "cells": [
  {
   "cell_type": "code",
   "execution_count": 19,
   "metadata": {},
   "outputs": [],
   "source": [
    "import numpy as np\n",
    "import random\n",
    "import node\n"
   ]
  },
  {
   "cell_type": "code",
   "execution_count": 40,
   "metadata": {},
   "outputs": [],
   "source": [
    "operators=[np.add, np.subtract, np.multiply, np.sin, np.cos, np.exp]\n",
    "one_arg_op=[np.sin, np.cos, np.exp]\n",
    "\n",
    "def is_operator(val):\n",
    "        return val in operators"
   ]
  },
  {
   "cell_type": "code",
   "execution_count": null,
   "metadata": {},
   "outputs": [],
   "source": [
    "class Node:\n",
    "\n",
    "    op_list = {\n",
    "        np.add: '+',\n",
    "        np.subtract: '-',\n",
    "        np.multiply: '*',\n",
    "        np.sin: 'sin',\n",
    "        np.cos: 'cos',\n",
    "        np.exp: 'exp',  \n",
    "    }\n",
    "    def __init__(self, value=None, feature_index=None, left=None, right=None):\n",
    "        self.value = value \n",
    "        self.feature_index = feature_index\n",
    "        self.left = left\n",
    "        self.right = right\n",
    "        self.complexity = self.calculate_complexity()\n",
    "    \n",
    "    def calculate_complexity(self):\n",
    "        if not is_operator(self.value):\n",
    "            return 0\n",
    "        \n",
    "        if self.value in one_arg_op:\n",
    "            if self.value == np.exp:\n",
    "                return 3 + (self.left.calculate_complexity() if self.left else 0)\n",
    "            else:\n",
    "                return 2 + (self.left.calculate_complexity() if self.left else 0)\n",
    "\n",
    "        left_complexity = self.left.calculate_complexity() if self.left else 0\n",
    "        right_complexity = self.right.calculate_complexity() if self.right else 0\n",
    "        return 1 + left_complexity + right_complexity\n",
    "\n",
    "    def evaluate(self,x=None):\n",
    "        \"\"\"\n",
    "        calculates the result of the equation with the input x\n",
    "    \n",
    "        Args:\n",
    "            x : the input of the equation\n",
    "\n",
    "        Returns:\n",
    "            value : the result of the calculation.\n",
    "        \"\"\"\n",
    "        # first check if it is an operator \n",
    "        # if not proceed\n",
    "        \n",
    "        if not is_operator(self.value):\n",
    "            #print(\"index\",self.feature_index)\n",
    "            if self.feature_index!= None:\n",
    "                #print(\"ben inputun indexiyim\")\n",
    "                return x[self.feature_index]\n",
    "            else:\n",
    "                #print(\"ben bir sayıyım\")\n",
    "                return self.value\n",
    "        # if it is an operator\n",
    "        if self.value in one_arg_op:\n",
    "            operand_value = self.left.evaluate(x)\n",
    "            #print(\"tek\",operand_value)\n",
    "            return self.value(operand_value)\n",
    "        \n",
    "        left_value = self.left.evaluate(x)\n",
    "        right_value = self.right.evaluate(x)\n",
    "        #print(left_value)\n",
    "        #print(right_value)\n",
    "        return self.value(left_value, right_value)\n",
    "    def __str__(self):\n",
    "        if not is_operator(self.value):\n",
    "            if self.feature_index != None:\n",
    "                return f\"x[{self.feature_index}]\"\n",
    "            return str(self.value)\n",
    "\n",
    "        operator_symbol = self.op_list[self.value]\n",
    "\n",
    "        if self.value in {np.sin, np.cos, np.log, np.exp}:\n",
    "            return f\"{operator_symbol}({self.left})\"\n",
    "\n",
    "        return f\"({self.left} {operator_symbol} {self.right})\""
   ]
  },
  {
   "cell_type": "code",
   "execution_count": 42,
   "metadata": {},
   "outputs": [
    {
     "name": "stdout",
     "output_type": "stream",
     "text": [
      "(x[0] + (2 * sin((x[1] + 10))))\n"
     ]
    }
   ],
   "source": [
    "meric = Node(value=np.add,left=Node(feature_index=0),right=Node(value=np.multiply,left=Node(value=2),right=Node(value=np.sin,left=Node(value=np.add,left=Node(feature_index=1),right=Node(value=10)))))\n",
    "print(meric)"
   ]
  },
  {
   "cell_type": "code",
   "execution_count": 43,
   "metadata": {},
   "outputs": [
    {
     "name": "stdout",
     "output_type": "stream",
     "text": [
      "2.840334073653282\n"
     ]
    }
   ],
   "source": [
    "x=[2,3]\n",
    "print(meric.evaluate(x))"
   ]
  },
  {
   "cell_type": "code",
   "execution_count": null,
   "metadata": {},
   "outputs": [],
   "source": [
    "def random_tree(depth, num_features):\n",
    "    \"\"\"\n",
    "    \n",
    "\n",
    "    Args:\n",
    "        x : the input of the equation\n",
    "\n",
    "    Returns:\n",
    "        value : the result of the calculation.\n",
    "    \"\"\"\n",
    "    if depth == 0:\n",
    "        if random.random() < 0.5:\n",
    "            return Node(feature_index=random.randint(0, num_features - 1))\n",
    "        else:\n",
    "            return Node(value=np.random.normal(0,1))\n",
    "\n",
    "    operator = random.choice(operators)\n",
    "    node = Node(value=operator)\n",
    "\n",
    "    if operator in one_arg_op:\n",
    "        node.left = random_tree(depth - 1, num_features)\n",
    "        node.right = None\n",
    "    else:\n",
    "        node.left = random_tree(depth - 1, num_features)\n",
    "        node.right = random_tree(depth - 1, num_features)\n",
    "\n",
    "    return node"
   ]
  },
  {
   "cell_type": "code",
   "execution_count": 45,
   "metadata": {},
   "outputs": [
    {
     "name": "stdout",
     "output_type": "stream",
     "text": [
      "(((((x[0] - x[0]) - exp(6)) - ((5 * 6) * cos(4))) + exp(((x[0] + x[1]) - (x[0] - x[0])))) + (((exp(8) * (8 - x[1])) - ((x[1] - 9) + cos(3))) - sin(exp((x[1] - x[0])))))\n"
     ]
    }
   ],
   "source": [
    "bayram=random_tree(5,2)\n",
    "print(bayram)"
   ]
  },
  {
   "cell_type": "code",
   "execution_count": 46,
   "metadata": {},
   "outputs": [
    {
     "data": {
      "text/plain": [
       "np.float64(14675.962820650491)"
      ]
     },
     "execution_count": 46,
     "metadata": {},
     "output_type": "execute_result"
    }
   ],
   "source": [
    "bayram.evaluate(x)"
   ]
  },
  {
   "cell_type": "code",
   "execution_count": 78,
   "metadata": {},
   "outputs": [],
   "source": [
    "def create_population(num_peop,depth,num_features):\n",
    "    population = []\n",
    "    num_ones = num_peop//2\n",
    "    for i in range(num_ones):\n",
    "        baby=random_tree(1,num_features)\n",
    "        population.append(baby)\n",
    "    for i in range(num_peop-num_ones):\n",
    "        baby=random_tree(depth,num_features)\n",
    "        population.append(baby)\n",
    "    return population"
   ]
  },
  {
   "cell_type": "code",
   "execution_count": 86,
   "metadata": {},
   "outputs": [
    {
     "name": "stdout",
     "output_type": "stream",
     "text": [
      "cos(x[0])\n",
      "(x[1] - x[0])\n",
      "(((x[0] + x[0]) + (x[0] + x[0])) - cos((x[0] - x[0])))\n",
      "(cos(sin(x[0])) - (cos(-0.39726116844588705) * (x[0] + x[1])))\n"
     ]
    }
   ],
   "source": [
    "new_population=create_population(4,3,2)\n",
    "for i in range(len(new_population)):\n",
    "    print(new_population[i])"
   ]
  },
  {
   "cell_type": "code",
   "execution_count": 90,
   "metadata": {},
   "outputs": [
    {
     "name": "stdout",
     "output_type": "stream",
     "text": [
      "(1.0602829687704254 + x[1])\n",
      "(x[0] * 0.15453349013771153)\n",
      "(((x[0] + -0.6648895361303597) + cos(x[1])) + ((x[1] - x[0]) - sin(-0.791398794248259)))\n",
      "(sin(cos(x[1])) + ((1.3540560734533116 * -0.978236027265072) * sin(x[1])))\n"
     ]
    }
   ],
   "source": [
    "old_population = create_population(4,3,2)\n",
    "for i in range(len(old_population)):\n",
    "    print(old_population[i])"
   ]
  },
  {
   "cell_type": "code",
   "execution_count": 52,
   "metadata": {},
   "outputs": [],
   "source": [
    "data = np.load('../data/problem_0.npz')\n",
    "x = data['x']\n",
    "y = data['y']\n",
    "num_features=len(x)\n",
    "depth=3"
   ]
  },
  {
   "cell_type": "code",
   "execution_count": null,
   "metadata": {},
   "outputs": [],
   "source": [
    "def cost(genome,x,y):\n",
    "    predictions = np.array([genome.evaluate(x[:, i]) for i in range(x.shape[1])])\n",
    "    mse = np.mean((predictions - y) ** 2)\n",
    "    return mse"
   ]
  },
  {
   "cell_type": "code",
   "execution_count": 80,
   "metadata": {},
   "outputs": [
    {
     "name": "stdout",
     "output_type": "stream",
     "text": [
      "3.3988605675121466\n"
     ]
    }
   ],
   "source": [
    "c=cost(new_population[0],x,y)\n",
    "print(c)"
   ]
  },
  {
   "cell_type": "code",
   "execution_count": 69,
   "metadata": {},
   "outputs": [],
   "source": [
    "def cost_population(population, x, y):\n",
    "    costs = np.array([cost(population[j],x,y) for j in range(len(population))])\n",
    "    return costs"
   ]
  },
  {
   "cell_type": "code",
   "execution_count": 87,
   "metadata": {},
   "outputs": [
    {
     "name": "stdout",
     "output_type": "stream",
     "text": [
      "[ 3.86949114 13.77960458 31.05455319 13.38730661]\n"
     ]
    }
   ],
   "source": [
    "cost_pop = cost_population(new_population,x,y)\n",
    "print(cost_pop)"
   ]
  },
  {
   "cell_type": "code",
   "execution_count": 91,
   "metadata": {},
   "outputs": [
    {
     "name": "stdout",
     "output_type": "stream",
     "text": [
      "[4.57210022 2.4326046  4.2932951  4.46855433]\n"
     ]
    }
   ],
   "source": [
    "cost_pop2 = cost_population(old_population,x,y)\n",
    "print(cost_pop2)"
   ]
  },
  {
   "cell_type": "code",
   "execution_count": 95,
   "metadata": {},
   "outputs": [],
   "source": [
    "def migration(population_1,population_2,num_peop,x,y):\n",
    "    costs_1 = cost_population(population_1,x,y)\n",
    "    costs_2 = cost_population(population_2,x,y)\n",
    "    best_1, worst_1 = utils.tournament_selection(costs_1,num_peop)\n",
    "    best_2, worst_2 = utils.tournament_selection(costs_2,num_peop)\n",
    "    elements_1 = [population_1[i] for i in best_1]\n",
    "    elements_2 = [population_2[i] for i in best_2]\n",
    "    for i, idx in enumerate(best_1):\n",
    "        population_1[idx] = elements_2[i]\n",
    "    for i, idx in enumerate(best_2):\n",
    "        population_2[idx] = elements_1[i]\n",
    "    return population_1,population_2"
   ]
  },
  {
   "cell_type": "code",
   "execution_count": 97,
   "metadata": {},
   "outputs": [
    {
     "name": "stdout",
     "output_type": "stream",
     "text": [
      "(x[0] * 0.15453349013771153)\n",
      "(x[1] - x[0])\n",
      "(((x[0] + x[0]) + (x[0] + x[0])) - cos((x[0] - x[0])))\n",
      "(((x[0] + -0.6648895361303597) + cos(x[1])) + ((x[1] - x[0]) - sin(-0.791398794248259)))\n"
     ]
    }
   ],
   "source": [
    "pop1,pop2=migration(new_population,old_population,2,x,y)\n",
    "for i in range(len(pop1)):\n",
    "    print(pop1[i])"
   ]
  },
  {
   "cell_type": "code",
   "execution_count": 98,
   "metadata": {},
   "outputs": [
    {
     "name": "stdout",
     "output_type": "stream",
     "text": [
      "(1.0602829687704254 + x[1])\n",
      "cos(x[0])\n",
      "(cos(sin(x[0])) - (cos(-0.39726116844588705) * (x[0] + x[1])))\n",
      "(sin(cos(x[1])) + ((1.3540560734533116 * -0.978236027265072) * sin(x[1])))\n"
     ]
    }
   ],
   "source": [
    "for i in range(len(pop2)):\n",
    "    print(pop2[i])"
   ]
  },
  {
   "cell_type": "code",
   "execution_count": 23,
   "metadata": {},
   "outputs": [
    {
     "name": "stdout",
     "output_type": "stream",
     "text": [
      "[1 2]\n",
      "[0 3]\n"
     ]
    }
   ],
   "source": [
    "x,y=utils.tournament_selection([10,5,8,9],2)\n",
    "print(x)\n",
    "print(y)"
   ]
  },
  {
   "cell_type": "code",
   "execution_count": 66,
   "metadata": {},
   "outputs": [],
   "source": [
    "import numpy as np\n",
    "from node import *\n",
    "\n",
    "operators=[np.add, np.subtract, np.multiply, np.sin, np.cos, np.exp]\n",
    "one_arg_op=[np.sin, np.cos, np.exp]"
   ]
  },
  {
   "cell_type": "code",
   "execution_count": 67,
   "metadata": {},
   "outputs": [
    {
     "name": "stdout",
     "output_type": "stream",
     "text": [
      "x.shape: (3, 5000)\n",
      "y.shape: (5000,)\n"
     ]
    }
   ],
   "source": [
    "problem_0 = np.load(\"../data/problem_2.npz\")\n",
    "x = problem_0[\"x\"]\n",
    "y = problem_0[\"y\"]\n",
    "print(\"x.shape:\", x.shape)\n",
    "print(\"y.shape:\", y.shape)"
   ]
  },
  {
   "cell_type": "code",
   "execution_count": 50,
   "metadata": {},
   "outputs": [],
   "source": [
    "my_population = create_population(120,5,x.shape[0])"
   ]
  },
  {
   "cell_type": "code",
   "execution_count": 51,
   "metadata": {},
   "outputs": [
    {
     "name": "stdout",
     "output_type": "stream",
     "text": [
      "simplified.shape: 114\n"
     ]
    }
   ],
   "source": [
    "simplified = simplify(my_population, x, y)\n",
    "print(\"simplified.shape:\", len(simplified))"
   ]
  },
  {
   "cell_type": "code",
   "execution_count": 52,
   "metadata": {},
   "outputs": [
    {
     "name": "stdout",
     "output_type": "stream",
     "text": [
      "Cost population:  9.632750342517252e+116\n",
      "Best cost:  29616601983729.535\n"
     ]
    }
   ],
   "source": [
    "cost_pop = cost_population(simplified[0:100],x,y)\n",
    "print(\"Cost population: \", cost_pop.mean())\n",
    "print(\"Best cost: \", cost_pop.min())"
   ]
  },
  {
   "cell_type": "code",
   "execution_count": 53,
   "metadata": {},
   "outputs": [],
   "source": [
    "NUM_GENERATIONS = 10000\n",
    "operators=[np.add, np.subtract, np.multiply, np.sin, np.cos, np.exp]\n",
    "one_arg_op=[np.sin, np.cos, np.exp]\n",
    "\n",
    "for _ in range(NUM_GENERATIONS):\n",
    "    best_ind, worst_ind = tournament_selection(cost_pop,10)\n",
    "    # Mutate the best individual and replace worst individuals\n",
    "    for j in range(0,len(worst_ind)//2,2):\n",
    "        parent1 = simplified[best_ind[np.random.choice(len(worst_ind))]]\n",
    "        parent2 = simplified[best_ind[np.random.choice(len(worst_ind))]]\n",
    "        child1, child2 = crossover(parent1,parent2)\n",
    "        \n",
    "        simplified[worst_ind[j]] = child1\n",
    "        simplified[worst_ind[j+1]] = child2"
   ]
  },
  {
   "cell_type": "code",
   "execution_count": 54,
   "metadata": {},
   "outputs": [
    {
     "name": "stdout",
     "output_type": "stream",
     "text": [
      "Cost population:  2.4298258469666409e+263\n",
      "Best cost:  29595267646038.98\n"
     ]
    }
   ],
   "source": [
    "cost_pop_1 = cost_population(simplified,x,y)\n",
    "print(\"Cost population: \", cost_pop_1.mean())\n",
    "print(\"Best cost: \", cost_pop_1.min())"
   ]
  },
  {
   "cell_type": "code",
   "execution_count": 55,
   "metadata": {},
   "outputs": [
    {
     "name": "stdout",
     "output_type": "stream",
     "text": [
      "simplified.shape: 119\n"
     ]
    }
   ],
   "source": [
    "my_population_2 = create_population(120,3,x.shape[0])\n",
    "simplified_2 = simplify(my_population_2, x, y)\n",
    "print(\"simplified.shape:\", len(simplified_2))"
   ]
  },
  {
   "cell_type": "code",
   "execution_count": 56,
   "metadata": {},
   "outputs": [
    {
     "name": "stdout",
     "output_type": "stream",
     "text": [
      "Cost population:  2.3829934962022125e+123\n",
      "Best cost:  29616658628611.88\n"
     ]
    }
   ],
   "source": [
    "cost_pop_2 = cost_population(simplified_2[0:100],x,y)\n",
    "print(\"Cost population: \", cost_pop_2.mean())\n",
    "print(\"Best cost: \", cost_pop_2.min())"
   ]
  },
  {
   "cell_type": "code",
   "execution_count": 57,
   "metadata": {},
   "outputs": [],
   "source": [
    "NUM_GENERATIONS = 10000\n",
    "operators=[np.add, np.subtract, np.multiply, np.sin, np.cos, np.exp]\n",
    "one_arg_op=[np.sin, np.cos, np.exp]\n",
    "\n",
    "for _ in range(NUM_GENERATIONS):\n",
    "    best_ind_2, worst_ind_2 = tournament_selection(cost_pop_2,10)\n",
    "    # Mutate the best individual and replace worst individuals\n",
    "    for j in range(0,len(worst_ind_2)//2,2):\n",
    "        parent1_2 = simplified_2[best_ind_2[np.random.choice(len(worst_ind_2))]]\n",
    "        parent2_2 = simplified_2[best_ind_2[np.random.choice(len(worst_ind_2))]]\n",
    "        child1_2, child2_2 = crossover(parent1_2,parent2_2)\n",
    "        \n",
    "        simplified_2[worst_ind_2[j]] = child1_2\n",
    "        simplified_2[worst_ind_2[j+1]] = child2_2"
   ]
  },
  {
   "cell_type": "code",
   "execution_count": 58,
   "metadata": {},
   "outputs": [
    {
     "name": "stdout",
     "output_type": "stream",
     "text": [
      "Cost population:  4.275927397203199e+124\n",
      "Best cost:  29616096511237.004\n"
     ]
    }
   ],
   "source": [
    "cost_pop_3 = cost_population(simplified_2,x,y)\n",
    "print(\"Cost population: \", cost_pop_3.mean())\n",
    "print(\"Best cost: \", cost_pop_3.min())"
   ]
  },
  {
   "cell_type": "code",
   "execution_count": 60,
   "metadata": {},
   "outputs": [
    {
     "name": "stdout",
     "output_type": "stream",
     "text": [
      "Cost population:  2.4298258469666409e+263\n",
      "Best cost:  29595267646038.98\n"
     ]
    }
   ],
   "source": [
    "pop1,pop2=migration(simplified,simplified_2,10,x,y)\n",
    "cost_pop_4 = cost_population(pop1,x,y)\n",
    "print(\"Cost population: \", cost_pop_4.mean())\n",
    "print(\"Best cost: \", cost_pop_4.min())"
   ]
  },
  {
   "cell_type": "code",
   "execution_count": 61,
   "metadata": {},
   "outputs": [
    {
     "name": "stdout",
     "output_type": "stream",
     "text": [
      "Cost population:  4.275927397203199e+124\n",
      "Best cost:  29616096511237.004\n"
     ]
    }
   ],
   "source": [
    "cost_pop_5 = cost_population(pop2,x,y)\n",
    "print(\"Cost population: \", cost_pop_5.mean())\n",
    "print(\"Best cost: \", cost_pop_5.min())"
   ]
  },
  {
   "cell_type": "code",
   "execution_count": 62,
   "metadata": {},
   "outputs": [],
   "source": [
    "NUM_GENERATIONS = 10000\n",
    "operators=[np.add, np.subtract, np.multiply, np.sin, np.cos, np.exp]\n",
    "one_arg_op=[np.sin, np.cos, np.exp]\n",
    "\n",
    "for _ in range(NUM_GENERATIONS):\n",
    "    best_ind_3, worst_ind_3 = tournament_selection(cost_pop_4,10)\n",
    "    # Mutate the best individual and replace worst individuals\n",
    "    for j in range(0,len(worst_ind_3)//2,2):\n",
    "        parent1_3 = pop1[best_ind_3[np.random.choice(len(worst_ind_3))]]\n",
    "        parent2_3 = pop1[best_ind_3[np.random.choice(len(worst_ind_3))]]\n",
    "        child1_3, child2_3 = crossover(parent1_3,parent2_3)\n",
    "        \n",
    "        pop1[worst_ind_3[j]] = child1_3\n",
    "        pop1[worst_ind_3[j+1]] = child2_3"
   ]
  },
  {
   "cell_type": "code",
   "execution_count": 63,
   "metadata": {},
   "outputs": [
    {
     "name": "stdout",
     "output_type": "stream",
     "text": [
      "Cost population:  29616768786546.57\n",
      "Best cost:  29595267646038.98\n"
     ]
    }
   ],
   "source": [
    "cost_pop_6 = cost_population(pop1,x,y)\n",
    "print(\"Cost population: \", cost_pop_6.mean())\n",
    "print(\"Best cost: \", cost_pop_6.min())"
   ]
  },
  {
   "cell_type": "code",
   "execution_count": 64,
   "metadata": {},
   "outputs": [],
   "source": [
    "NUM_GENERATIONS = 10000\n",
    "operators=[np.add, np.subtract, np.multiply, np.sin, np.cos, np.exp]\n",
    "one_arg_op=[np.sin, np.cos, np.exp]\n",
    "\n",
    "for _ in range(NUM_GENERATIONS):\n",
    "    best_ind_4, worst_ind_4 = tournament_selection(cost_pop_5,10)\n",
    "    # Mutate the best individual and replace worst individuals\n",
    "    for j in range(0,len(worst_ind_4)//2,2):\n",
    "        parent1_4 = pop2[best_ind_4[np.random.choice(len(worst_ind_4))]]\n",
    "        parent2_4 = pop2[best_ind_4[np.random.choice(len(worst_ind_4))]]\n",
    "        child1_4, child2_4 = crossover(parent1_4,parent2_4)\n",
    "        \n",
    "        pop1[worst_ind_4[j]] = child1_4\n",
    "        pop1[worst_ind_4[j+1]] = child2_4"
   ]
  },
  {
   "cell_type": "code",
   "execution_count": 65,
   "metadata": {},
   "outputs": [
    {
     "name": "stdout",
     "output_type": "stream",
     "text": [
      "Cost population:  4.275927397203199e+124\n",
      "Best cost:  29616096511237.004\n"
     ]
    }
   ],
   "source": [
    "cost_pop_7 = cost_population(pop2,x,y)\n",
    "print(\"Cost population: \", cost_pop_7.mean())\n",
    "print(\"Best cost: \", cost_pop_7.min())"
   ]
  },
  {
   "cell_type": "code",
   "execution_count": null,
   "metadata": {},
   "outputs": [],
   "source": [
    "def mutation_w_sa(individual, feature_count,alpha):\n",
    "    child = mutation(individual, feature_count)\n",
    "    child.fitness = cost(child.genome)\n",
    "    if child.fitness > individual.fitness:\n",
    "        individual.T *=alpha\n",
    "        return child\n",
    "    else: \n",
    "        p= np.exp((child.fitness-individual.fitness)/(alpha*individual.T))\n",
    "        if np.random.random() < p:\n",
    "            return None\n",
    "        else:\n",
    "            individual.T *=alpha\n",
    "            return child"
   ]
  },
  {
   "cell_type": "code",
   "execution_count": null,
   "metadata": {},
   "outputs": [],
   "source": [
    "def age_update(population):\n",
    "    for i in population:\n",
    "        i.age += 1"
   ]
  },
  {
   "cell_type": "code",
   "execution_count": 1,
   "metadata": {},
   "outputs": [],
   "source": [
    "import numpy as np\n",
    "from src.Individual import Individual\n",
    "from src.meric_node import *\n",
    "\n",
    "operators=[np.add, np.subtract, np.multiply, np.sin, np.cos, np.exp, np.abs]\n",
    "one_arg_op=[np.sin, np.cos, np.exp, np.abs]"
   ]
  },
  {
   "cell_type": "code",
   "execution_count": 2,
   "metadata": {},
   "outputs": [
    {
     "name": "stdout",
     "output_type": "stream",
     "text": [
      "x.shape: (2, 1000)\n",
      "y.shape: (1000,)\n"
     ]
    }
   ],
   "source": [
    "problem_0 = np.load(\"data/problem_0.npz\")\n",
    "x = problem_0[\"x\"]\n",
    "y = problem_0[\"y\"]\n",
    "print(\"x.shape:\", x.shape)\n",
    "print(\"y.shape:\", y.shape)"
   ]
  },
  {
   "cell_type": "code",
   "execution_count": 3,
   "metadata": {},
   "outputs": [],
   "source": [
    "NUM_POPULATION = 20\n",
    "my_population = create_population(NUM_POPULATION,5,x.shape[0])"
   ]
  },
  {
   "cell_type": "code",
   "execution_count": 4,
   "metadata": {},
   "outputs": [
    {
     "name": "stdout",
     "output_type": "stream",
     "text": [
      "20\n"
     ]
    }
   ],
   "source": [
    "assign_population_fitness(my_population,x,y)\n",
    "print(len(my_population))\n",
    "# print(\"Cost population: \", cost_pop.mean())\n",
    "# print(\"Best cost: \", cost_pop.min())"
   ]
  },
  {
   "cell_type": "code",
   "execution_count": 5,
   "metadata": {},
   "outputs": [
    {
     "name": "stdout",
     "output_type": "stream",
     "text": [
      "Individual(genome=(x[1] * x[1]), fitness=np.float64(3.5312243425034984), age=0, T=1)\n",
      "3\n",
      "Individual(genome=exp(x[1]), fitness=np.float64(4.8881455049679285), age=0, T=1)\n",
      "6\n",
      "Individual(genome=abs(x[1]), fitness=np.float64(3.620156753500731), age=0, T=1)\n",
      "2\n",
      "Individual(genome=(x[1] - [-0.05266735]), fitness=np.float64(3.7199254545083495), age=0, T=1)\n",
      "3\n",
      "Individual(genome=([-0.94022194] - [-0.74581029]), fitness=np.float64(3.4654429798353505), age=0, T=1)\n",
      "3\n",
      "Individual(genome=(x[1] * x[0]), fitness=np.float64(4.586575180257536), age=0, T=1)\n",
      "3\n",
      "Individual(genome=cos([2.40156143]), fitness=np.float64(4.053507156875347), age=0, T=1)\n",
      "4\n",
      "Individual(genome=cos([1.00685666]), fitness=np.float64(3.6054258322227004), age=0, T=1)\n",
      "4\n",
      "Individual(genome=cos([2.61209496]), fitness=np.float64(4.271528042118085), age=0, T=1)\n",
      "4\n",
      "Individual(genome=(x[0] + [-0.13884782]), fitness=np.float64(6.7950422913120905), age=0, T=1)\n",
      "3\n",
      "Individual(genome=exp(sin((sin(abs([-2.29858336])) - (exp(x[0]) - sin([-1.24730085]))))), fitness=np.float64(4.479571636039542), age=0, T=1)\n",
      "117\n",
      "Individual(genome=(sin(abs((([0.1515743] + x[0]) - sin([0.89945917])))) - ((sin(sin(x[1])) * (([0.25618562] * x[1]) + cos(x[1]))) - ((cos(x[1]) + exp([0.59744937])) - (([-0.65462026] * [-1.62716179]) + cos(x[0]))))), fitness=np.float64(8.23584628848392), age=0, T=1)\n",
      "61\n",
      "Individual(genome=cos((sin((cos(x[1]) - cos(x[1]))) - exp(sin(abs(x[1]))))), fitness=np.float64(3.5851909633144006), age=0, T=1)\n",
      "86\n",
      "Individual(genome=(cos(((cos(x[1]) + abs([-0.01683803])) - abs((x[0] + [0.69740563])))) * cos((sin(sin(x[0])) + sin(sin(x[0]))))), fitness=np.float64(3.5671104218649), age=0, T=1)\n",
      "71\n",
      "Individual(genome=(abs((abs(cos(x[1])) + abs((x[0] - x[0])))) - (((exp(x[1]) - (x[1] + x[1])) - cos(sin(x[1]))) + abs(((x[0] - [-0.99841887]) * exp(x[1]))))), fitness=np.float64(9.379042269491878), age=0, T=1)\n",
      "45\n",
      "Individual(genome=(((abs(cos(x[0])) * abs(exp([0.6121488]))) - (abs(([-0.6579452] - x[1])) + (cos([-1.23172823]) - abs([-0.03979443])))) * exp(sin(sin(exp(x[0]))))), fitness=np.float64(4.778689393261838), age=0, T=1)\n",
      "120\n",
      "Individual(genome=abs(sin(sin(cos(sin([1.26889523]))))), fitness=np.float64(3.591751310732054), age=0, T=1)\n",
      "47\n",
      "Individual(genome=cos(sin(((abs([-1.55481345]) - cos(x[0])) + abs((x[0] - x[0]))))), fitness=np.float64(3.8130210585247775), age=0, T=1)\n",
      "54\n",
      "Individual(genome=((sin(cos(exp([0.09369163]))) + cos((abs([-1.42449646]) * (x[0] + [-0.6508896])))) - sin(((([1.14223869] * [0.09514172]) - abs(x[1])) + abs(abs([-1.3845353]))))), fitness=np.float64(4.1655620495201475), age=0, T=1)\n",
      "68\n",
      "Individual(genome=cos(sin(sin(sin(([2.33560595] - [0.72515355]))))), fitness=np.float64(3.8300648629002096), age=0, T=1)\n",
      "78\n"
     ]
    }
   ],
   "source": [
    "for i in range(len(my_population)):\n",
    "    print(my_population[i])\n",
    "    print(my_population[i].genome.complexity)"
   ]
  },
  {
   "cell_type": "code",
   "execution_count": 6,
   "metadata": {},
   "outputs": [],
   "source": [
    "my_population[0].genome.left=Node(value=np.add,left=Node(feature_index=1),right=Node(value=10))"
   ]
  },
  {
   "cell_type": "code",
   "execution_count": 7,
   "metadata": {},
   "outputs": [
    {
     "data": {
      "text/plain": [
       "(x[1] + 10)"
      ]
     },
     "execution_count": 7,
     "metadata": {},
     "output_type": "execute_result"
    }
   ],
   "source": [
    "my_population[0].genome.left"
   ]
  },
  {
   "cell_type": "code",
   "execution_count": 8,
   "metadata": {},
   "outputs": [
    {
     "name": "stdout",
     "output_type": "stream",
     "text": [
      "Individual(genome=((x[1] + 10) * x[1]), fitness=np.float64(3.5312243425034984), age=0, T=1)\n",
      "5\n",
      "Individual(genome=exp(x[1]), fitness=np.float64(4.8881455049679285), age=0, T=1)\n",
      "6\n",
      "Individual(genome=abs(x[1]), fitness=np.float64(3.620156753500731), age=0, T=1)\n",
      "2\n",
      "Individual(genome=(x[1] - [-0.05266735]), fitness=np.float64(3.7199254545083495), age=0, T=1)\n",
      "3\n",
      "Individual(genome=([-0.94022194] - [-0.74581029]), fitness=np.float64(3.4654429798353505), age=0, T=1)\n",
      "3\n",
      "Individual(genome=(x[1] * x[0]), fitness=np.float64(4.586575180257536), age=0, T=1)\n",
      "3\n",
      "Individual(genome=cos([2.40156143]), fitness=np.float64(4.053507156875347), age=0, T=1)\n",
      "4\n",
      "Individual(genome=cos([1.00685666]), fitness=np.float64(3.6054258322227004), age=0, T=1)\n",
      "4\n",
      "Individual(genome=cos([2.61209496]), fitness=np.float64(4.271528042118085), age=0, T=1)\n",
      "4\n",
      "Individual(genome=(x[0] + [-0.13884782]), fitness=np.float64(6.7950422913120905), age=0, T=1)\n",
      "3\n",
      "Individual(genome=exp(sin((sin(abs([-2.29858336])) - (exp(x[0]) - sin([-1.24730085]))))), fitness=np.float64(4.479571636039542), age=0, T=1)\n",
      "117\n",
      "Individual(genome=(sin(abs((([0.1515743] + x[0]) - sin([0.89945917])))) - ((sin(sin(x[1])) * (([0.25618562] * x[1]) + cos(x[1]))) - ((cos(x[1]) + exp([0.59744937])) - (([-0.65462026] * [-1.62716179]) + cos(x[0]))))), fitness=np.float64(8.23584628848392), age=0, T=1)\n",
      "61\n",
      "Individual(genome=cos((sin((cos(x[1]) - cos(x[1]))) - exp(sin(abs(x[1]))))), fitness=np.float64(3.5851909633144006), age=0, T=1)\n",
      "86\n",
      "Individual(genome=(cos(((cos(x[1]) + abs([-0.01683803])) - abs((x[0] + [0.69740563])))) * cos((sin(sin(x[0])) + sin(sin(x[0]))))), fitness=np.float64(3.5671104218649), age=0, T=1)\n",
      "71\n",
      "Individual(genome=(abs((abs(cos(x[1])) + abs((x[0] - x[0])))) - (((exp(x[1]) - (x[1] + x[1])) - cos(sin(x[1]))) + abs(((x[0] - [-0.99841887]) * exp(x[1]))))), fitness=np.float64(9.379042269491878), age=0, T=1)\n",
      "45\n",
      "Individual(genome=(((abs(cos(x[0])) * abs(exp([0.6121488]))) - (abs(([-0.6579452] - x[1])) + (cos([-1.23172823]) - abs([-0.03979443])))) * exp(sin(sin(exp(x[0]))))), fitness=np.float64(4.778689393261838), age=0, T=1)\n",
      "120\n",
      "Individual(genome=abs(sin(sin(cos(sin([1.26889523]))))), fitness=np.float64(3.591751310732054), age=0, T=1)\n",
      "47\n",
      "Individual(genome=cos(sin(((abs([-1.55481345]) - cos(x[0])) + abs((x[0] - x[0]))))), fitness=np.float64(3.8130210585247775), age=0, T=1)\n",
      "54\n",
      "Individual(genome=((sin(cos(exp([0.09369163]))) + cos((abs([-1.42449646]) * (x[0] + [-0.6508896])))) - sin(((([1.14223869] * [0.09514172]) - abs(x[1])) + abs(abs([-1.3845353]))))), fitness=np.float64(4.1655620495201475), age=0, T=1)\n",
      "68\n",
      "Individual(genome=cos(sin(sin(sin(([2.33560595] - [0.72515355]))))), fitness=np.float64(3.8300648629002096), age=0, T=1)\n",
      "78\n"
     ]
    }
   ],
   "source": [
    "for i in range(len(my_population)):\n",
    "    print(my_population[i])\n",
    "    print(my_population[i].genome.complexity)"
   ]
  },
  {
   "cell_type": "code",
   "execution_count": 9,
   "metadata": {},
   "outputs": [
    {
     "name": "stdout",
     "output_type": "stream",
     "text": [
      "Top 1: Fitness = 3.4654429798353505: Genome = ([-0.94022194] - [-0.74581029])\n",
      "Top 2: Fitness = 3.5312243425034984: Genome = ((x[1] + 10) * x[1])\n",
      "Top 3: Fitness = 3.5671104218649: Genome = (cos(((cos(x[1]) + abs([-0.01683803])) - abs((x[0] + [0.69740563])))) * cos((sin(sin(x[0])) + sin(sin(x[0])))))\n"
     ]
    }
   ],
   "source": [
    "# Sort the population by fitness (ascending), then take the top 5\n",
    "top_5_individuals = top_n_individuals(my_population, 3)\n",
    "\n",
    "# Print the top 5 individuals with the minimum fitness\n",
    "for i, individual in enumerate(top_5_individuals, 1):\n",
    "    print(f\"Top {i}: Fitness = {individual.fitness}: Genome = {individual.genome}\")"
   ]
  },
  {
   "cell_type": "code",
   "execution_count": 10,
   "metadata": {},
   "outputs": [],
   "source": [
    "NUM_GENERATIONS = 30\n",
    "DEDUPE_INTERVAL = 5\n",
    "operators=[np.add, np.subtract, np.multiply, np.sin, np.cos, np.exp]\n",
    "one_arg_op=[np.sin, np.cos, np.exp]\n",
    "XOVER = 0.5\n",
    "MUTATION = 0.5\n",
    "\n",
    "for generation in range(NUM_GENERATIONS):\n",
    "    age_population(my_population)\n",
    "    assign_population_fitness(my_population,x,y)\n",
    "\n",
    "    # Kill eldest individuals\n",
    "    kill_eldest(my_population, 10)\n",
    "\n",
    "\n",
    "    best_ind = tournament_selection(my_population,3,10)\n",
    "\n",
    "    \n",
    "    for _ in range(10): # CHECK\n",
    "        if random.random() < XOVER:\n",
    "            # Xover the best individual and replace worst individuals\n",
    "            parent1 = my_population[best_ind[np.random.choice(len(best_ind))]]\n",
    "            parent2 = my_population[best_ind[np.random.choice(len(best_ind))]]\n",
    "            child1, child2 = crossover(parent1,parent2)\n",
    "            my_population.append(child1)\n",
    "            my_population.append(child2)\n",
    "\n",
    "        if random.random() < MUTATION:\n",
    "            # Mutate best individuals and replace worst individuals\n",
    "            parent = my_population[best_ind[np.random.choice(len(best_ind))]]\n",
    "            try:\n",
    "                child = mutation_w_sa(parent, x.shape[0],0.95,x,y)\n",
    "                my_population.append(child)\n",
    "            except:\n",
    "                pass\n",
    "    assign_population_fitness(my_population,x,y)\n",
    "        \n",
    "    # # Deduplicate every few iterations\n",
    "    # if generation % DEDUPE_INTERVAL == 0:\n",
    "    #     print(\"Deduplicating population\")\n",
    "    #     my_population = list(dict.fromkeys(my_population))\n",
    "    #     print(\"Population size: \", len(my_population))"
   ]
  },
  {
   "cell_type": "code",
   "execution_count": 11,
   "metadata": {},
   "outputs": [
    {
     "name": "stdout",
     "output_type": "stream",
     "text": [
      "Individual(genome=[-0.94022194], fitness=np.float64(4.422096467281613), age=10, T=1)\n",
      "Individual(genome=x[0], fitness=np.float64(0.01067566400550203), age=10, T=1)\n",
      "Individual(genome=[-0.94022194], fitness=np.float64(4.422096467281613), age=10, T=1)\n",
      "Individual(genome=x[0], fitness=np.float64(0.01067566400550203), age=10, T=1)\n",
      "Individual(genome=x[0], fitness=np.float64(0.01067566400550203), age=10, T=1)\n",
      "Individual(genome=x[0], fitness=np.float64(0.01067566400550203), age=10, T=1)\n",
      "Individual(genome=([-0.94022194] - [-0.74581029]), fitness=np.float64(3.4654429798353505), age=10, T=1)\n",
      "Individual(genome=([-0.94022194] - [-0.74581029]), fitness=np.float64(3.4654429798353505), age=10, T=1)\n",
      "Individual(genome=x[0], fitness=np.float64(0.01067566400550203), age=10, T=1)\n",
      "Individual(genome=x[0], fitness=np.float64(0.01067566400550203), age=10, T=1)\n",
      "Individual(genome=x[0], fitness=np.float64(0.01067566400550203), age=10, T=1)\n",
      "Individual(genome=[-0.94022194], fitness=np.float64(4.422096467281613), age=10, T=1)\n",
      "Individual(genome=x[0], fitness=np.float64(0.01067566400550203), age=10, T=1)\n",
      "Individual(genome=x[0], fitness=np.float64(0.01067566400550203), age=10, T=1)\n",
      "Individual(genome=x[0], fitness=np.float64(0.01067566400550203), age=9, T=1)\n",
      "Individual(genome=x[0], fitness=np.float64(0.01067566400550203), age=9, T=1)\n",
      "Individual(genome=[-0.94022194], fitness=np.float64(4.422096467281613), age=9, T=1)\n",
      "Individual(genome=(cos(((cos(x[1]) + abs((x[0] - [-0.74581029]))) - ([-0.94022194] - [-0.74581029]))) * cos((x[0] + sin(sin(x[0]))))), fitness=np.float64(3.649202179086916), age=9, T=1)\n",
      "Individual(genome=x[0], fitness=np.float64(0.01067566400550203), age=9, T=1)\n",
      "Individual(genome=x[0], fitness=np.float64(0.01067566400550203), age=9, T=1)\n",
      "Individual(genome=sin(x[0]), fitness=np.float64(1.8910558431660756), age=8, T=1)\n",
      "Individual(genome=sin(x[0]), fitness=np.float64(1.8910558431660756), age=8, T=1)\n",
      "Individual(genome=x[0], fitness=np.float64(0.01067566400550203), age=8, T=1)\n",
      "Individual(genome=x[0], fitness=np.float64(0.01067566400550203), age=8, T=1)\n",
      "Individual(genome=x[0], fitness=np.float64(0.01067566400550203), age=8, T=1)\n",
      "Individual(genome=x[0], fitness=np.float64(0.01067566400550203), age=8, T=1)\n",
      "Individual(genome=x[0], fitness=np.float64(0.01067566400550203), age=8, T=1)\n",
      "Individual(genome=x[0], fitness=np.float64(0.01067566400550203), age=8, T=1)\n",
      "Individual(genome=x[0], fitness=np.float64(0.01067566400550203), age=8, T=1)\n",
      "Individual(genome=sin(abs(cos(x[1]))), fitness=np.float64(3.8512539801208914), age=8, T=1)\n",
      "Individual(genome=x[0], fitness=np.float64(0.01067566400550203), age=8, T=1)\n",
      "Individual(genome=x[0], fitness=np.float64(0.01067566400550203), age=8, T=1)\n",
      "Individual(genome=[-0.94022194], fitness=np.float64(4.422096467281613), age=7, T=1)\n",
      "Individual(genome=x[0], fitness=np.float64(0.01067566400550203), age=7, T=1)\n",
      "Individual(genome=abs((sin(sin(abs(x[1]))) - exp(sin(abs(x[1]))))), fitness=np.float64(4.6765063445983595), age=7, T=1)\n",
      "Individual(genome=abs((sin(abs([-1.3845353])) - exp(abs([-1.3845353])))), fitness=np.float64(12.014834609252713), age=7, T=1)\n",
      "Individual(genome=x[0], fitness=np.float64(0.01067566400550203), age=7, T=1)\n",
      "Individual(genome=x[0], fitness=np.float64(0.01067566400550203), age=7, T=1)\n",
      "Individual(genome=abs((x[0] - exp(sin(abs(x[1]))))), fitness=np.float64(13.795933599590438), age=7, T=1)\n",
      "Individual(genome=sin(abs([-1.3845353])), fitness=np.float64(4.219057910474563), age=7, T=1)\n",
      "Individual(genome=x[0], fitness=np.float64(0.01067566400550203), age=6, T=1)\n",
      "Individual(genome=x[0], fitness=np.float64(0.01067566400550203), age=6, T=1)\n",
      "Individual(genome=x[0], fitness=np.float64(0.01067566400550203), age=6, T=1)\n",
      "Individual(genome=x[0], fitness=np.float64(0.01067566400550203), age=6, T=1)\n",
      "Individual(genome=x[0], fitness=np.float64(0.01067566400550203), age=6, T=1)\n",
      "Individual(genome=x[0], fitness=np.float64(0.01067566400550203), age=6, T=1)\n",
      "Individual(genome=x[0], fitness=np.float64(0.01067566400550203), age=6, T=1)\n",
      "Individual(genome=x[0], fitness=np.float64(0.01067566400550203), age=6, T=1)\n",
      "Individual(genome=x[0], fitness=np.float64(0.01067566400550203), age=6, T=1)\n",
      "Individual(genome=x[0], fitness=np.float64(0.01067566400550203), age=6, T=1)\n",
      "Individual(genome=x[0], fitness=np.float64(0.01067566400550203), age=5, T=1)\n",
      "Individual(genome=x[0], fitness=np.float64(0.01067566400550203), age=5, T=1)\n",
      "Individual(genome=x[0], fitness=np.float64(0.01067566400550203), age=5, T=1)\n",
      "Individual(genome=x[0], fitness=np.float64(0.01067566400550203), age=5, T=1)\n",
      "Individual(genome=x[0], fitness=np.float64(0.01067566400550203), age=5, T=1)\n",
      "Individual(genome=x[0], fitness=np.float64(0.01067566400550203), age=5, T=1)\n",
      "Individual(genome=x[0], fitness=np.float64(0.01067566400550203), age=5, T=1)\n",
      "Individual(genome=x[0], fitness=np.float64(0.01067566400550203), age=5, T=1)\n",
      "Individual(genome=x[0], fitness=np.float64(0.01067566400550203), age=4, T=1)\n",
      "Individual(genome=x[0], fitness=np.float64(0.01067566400550203), age=4, T=1)\n",
      "Individual(genome=x[0], fitness=np.float64(0.01067566400550203), age=4, T=1)\n",
      "Individual(genome=x[0], fitness=np.float64(0.01067566400550203), age=4, T=1)\n",
      "Individual(genome=sin(x[0]), fitness=np.float64(1.8910558431660756), age=4, T=1)\n",
      "Individual(genome=sin(x[0]), fitness=np.float64(1.8910558431660756), age=4, T=1)\n",
      "Individual(genome=x[0], fitness=np.float64(0.01067566400550203), age=3, T=1)\n",
      "Individual(genome=x[0], fitness=np.float64(0.01067566400550203), age=3, T=1)\n",
      "Individual(genome=x[0], fitness=np.float64(0.01067566400550203), age=3, T=1)\n",
      "Individual(genome=x[0], fitness=np.float64(0.01067566400550203), age=3, T=1)\n",
      "Individual(genome=x[0], fitness=np.float64(0.01067566400550203), age=3, T=1)\n",
      "Individual(genome=x[0], fitness=np.float64(0.01067566400550203), age=3, T=1)\n",
      "Individual(genome=x[0], fitness=np.float64(0.01067566400550203), age=3, T=1)\n",
      "Individual(genome=x[0], fitness=np.float64(0.01067566400550203), age=3, T=1)\n",
      "Individual(genome=x[0], fitness=np.float64(0.01067566400550203), age=3, T=1)\n",
      "Individual(genome=x[0], fitness=np.float64(0.01067566400550203), age=3, T=1)\n",
      "Individual(genome=x[0], fitness=np.float64(0.01067566400550203), age=3, T=1)\n",
      "Individual(genome=x[0], fitness=np.float64(0.01067566400550203), age=3, T=1)\n",
      "Individual(genome=[-0.94022194], fitness=np.float64(4.422096467281613), age=2, T=1)\n",
      "Individual(genome=x[0], fitness=np.float64(0.01067566400550203), age=2, T=1)\n",
      "Individual(genome=x[0], fitness=np.float64(0.01067566400550203), age=2, T=1)\n",
      "Individual(genome=x[0], fitness=np.float64(0.01067566400550203), age=2, T=1)\n",
      "Individual(genome=x[0], fitness=np.float64(0.01067566400550203), age=2, T=1)\n",
      "Individual(genome=x[0], fitness=np.float64(0.01067566400550203), age=2, T=1)\n",
      "Individual(genome=x[0], fitness=np.float64(0.01067566400550203), age=2, T=1)\n",
      "Individual(genome=x[0], fitness=np.float64(0.01067566400550203), age=2, T=1)\n",
      "Individual(genome=x[0], fitness=np.float64(0.01067566400550203), age=1, T=1)\n",
      "Individual(genome=x[0], fitness=np.float64(0.01067566400550203), age=1, T=1)\n",
      "Individual(genome=x[0], fitness=np.float64(0.01067566400550203), age=1, T=1)\n",
      "Individual(genome=x[0], fitness=np.float64(0.01067566400550203), age=1, T=1)\n",
      "Individual(genome=x[0], fitness=np.float64(0.01067566400550203), age=1, T=1)\n",
      "Individual(genome=x[0], fitness=np.float64(0.01067566400550203), age=1, T=1)\n",
      "Individual(genome=x[0], fitness=np.float64(0.01067566400550203), age=0, T=1)\n",
      "Individual(genome=x[0], fitness=np.float64(0.01067566400550203), age=0, T=1)\n",
      "Individual(genome=x[0], fitness=np.float64(0.01067566400550203), age=0, T=1)\n",
      "Individual(genome=x[0], fitness=np.float64(0.01067566400550203), age=0, T=1)\n",
      "Individual(genome=x[0], fitness=np.float64(0.01067566400550203), age=0, T=1)\n",
      "Individual(genome=x[0], fitness=np.float64(0.01067566400550203), age=0, T=1)\n",
      "Individual(genome=x[0], fitness=np.float64(0.01067566400550203), age=0, T=1)\n",
      "Individual(genome=x[0], fitness=np.float64(0.01067566400550203), age=0, T=1)\n",
      "Individual(genome=x[0], fitness=np.float64(0.01067566400550203), age=0, T=1)\n",
      "Individual(genome=x[0], fitness=np.float64(0.01067566400550203), age=0, T=1)\n"
     ]
    }
   ],
   "source": [
    "for i in range(len(my_population)):\n",
    "    print(my_population[i])"
   ]
  },
  {
   "cell_type": "code",
   "execution_count": 12,
   "metadata": {},
   "outputs": [
    {
     "name": "stdout",
     "output_type": "stream",
     "text": [
      "Top 1: Fitness = 0.01067566400550203: Genome = x[0]\n",
      "Top 2: Fitness = 0.01067566400550203: Genome = x[0]\n",
      "Top 3: Fitness = 0.01067566400550203: Genome = x[0]\n",
      "Top 4: Fitness = 0.01067566400550203: Genome = x[0]\n",
      "Top 5: Fitness = 0.01067566400550203: Genome = x[0]\n"
     ]
    }
   ],
   "source": [
    "top_5_individuals = top_n_individuals(my_population, 5)\n",
    "\n",
    "# Print the top 5 individuals with the minimum fitness\n",
    "for i, individual in enumerate(top_5_individuals, 1):\n",
    "    print(f\"Top {i}: Fitness = {individual.fitness}: Genome = {individual.genome}\")"
   ]
  }
 ],
 "metadata": {
  "kernelspec": {
   "display_name": "Python 3",
   "language": "python",
   "name": "python3"
  },
  "language_info": {
   "codemirror_mode": {
    "name": "ipython",
    "version": 3
   },
   "file_extension": ".py",
   "mimetype": "text/x-python",
   "name": "python",
   "nbconvert_exporter": "python",
   "pygments_lexer": "ipython3",
   "version": "3.12.6"
  }
 },
 "nbformat": 4,
 "nbformat_minor": 2
}
