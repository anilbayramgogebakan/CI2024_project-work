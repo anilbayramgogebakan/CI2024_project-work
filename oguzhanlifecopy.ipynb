{
 "cells": [
  {
   "cell_type": "code",
   "execution_count": 7,
   "metadata": {},
   "outputs": [],
   "source": [
    "import numpy as np\n",
    "from src.utils import *\n",
    "from tqdm import tqdm\n",
    "from src.oguzhannodecopy import *\n",
    "\n",
    "\n",
    "unary_operators=[np.sin, np.cos, np.exp, np.abs, np.log, np.tan]\n",
    "binary_operators=[np.add, np.subtract, np.multiply, np.divide]\n",
    "\n",
    "\n",
    "operators = unary_operators + binary_operators"
   ]
  },
  {
   "cell_type": "code",
   "execution_count": 8,
   "metadata": {},
   "outputs": [
    {
     "name": "stdout",
     "output_type": "stream",
     "text": [
      "x.shape: (2, 1000)\n",
      "y.shape: (1000,)\n"
     ]
    }
   ],
   "source": [
    "problem = np.load(\"data/problem_0.npz\")\n",
    "x = problem[\"x\"]\n",
    "y = problem[\"y\"]\n",
    "print(\"x.shape:\", x.shape)\n",
    "print(\"y.shape:\", y.shape)"
   ]
  },
  {
   "cell_type": "code",
   "execution_count": 9,
   "metadata": {},
   "outputs": [
    {
     "name": "stdout",
     "output_type": "stream",
     "text": [
      "(2, 800)\n",
      "(2, 200)\n",
      "(800,)\n",
      "(200,)\n"
     ]
    }
   ],
   "source": [
    "x_train,y_train,x_val,y_val = split_dataset(x,y,0.8)\n",
    "print(x_train.shape)\n",
    "print(x_val.shape)\n",
    "print(y_train.shape)\n",
    "print(y_val.shape)"
   ]
  },
  {
   "cell_type": "code",
   "execution_count": 10,
   "metadata": {},
   "outputs": [],
   "source": [
    "# my_node = Node(value=np.add, left=Node(value=None, feature_index=0), right=Node(value=np.multiply, left=Node(value=0.2), right=Node(value=None, feature_index=1)))\n",
    "# my_inv = Individual(genome=my_node)\n",
    "# assign_population_fitness_train([my_inv], train_x, train_y)\n",
    "# print(my_inv.fitness)\n",
    "# assign_population_fitness_val([my_inv], val_x, val_y)\n",
    "# print(my_inv.fitness_val)"
   ]
  },
  {
   "cell_type": "code",
   "execution_count": 22,
   "metadata": {},
   "outputs": [],
   "source": [
    "def evolve(train_x, train_y, val_x, val_y):\n",
    "\n",
    "    NUM_POPULATION = 100\n",
    "    NUM_GENERATIONS = 600\n",
    "    MAX_DEPTH_INITIAL = 5\n",
    "    DEDUPE_INTERVAL = 15\n",
    "    ELITISM = False\n",
    "    ELITE_COUNT = 3\n",
    "    TOURNAMENT_SUBSET_SIZE = 3\n",
    "    TOURNAMENT_WINNER_SIZE = 20\n",
    "    XOVER = 0.8\n",
    "    MUTATION = 0.8\n",
    "    BREED_NEW = 15\n",
    "    KILL_AGE = 16\n",
    "    MAX_COMPLEXITY = 100\n",
    "    CONSTANT_FIT_INTERVAL = 30\n",
    "    CONSTANT_FIT_ITERATION = 6\n",
    "\n",
    "    print(\"Population is creating with a size: \", NUM_POPULATION)\n",
    "    my_population = create_population(NUM_POPULATION, MAX_DEPTH_INITIAL, train_x.shape[0])\n",
    "    print(\"Population has created.\")\n",
    "    print(\"Individual fitness values are assigning\")\n",
    "    assign_population_fitness_train(my_population, train_x, train_y)\n",
    "    assign_population_fitness_val(my_population, val_x, val_y)\n",
    "    print(f\" Population size: {len(my_population)}\")\n",
    "    print(f\"Population mean fitness: {calculate_mean_fitness(my_population)}\")\n",
    "    print(f\"Population mean complexity: {calculate_mean_complexity(my_population)}\")\n",
    "\n",
    "    best_result = top_n_individuals(my_population, 1)[0]\n",
    "\n",
    "    for generation in tqdm(range(NUM_GENERATIONS)):\n",
    "        num_xover = 0\n",
    "        num_mut = 0\n",
    "        num_succesfull_mut = 0\n",
    "        age_population(my_population)\n",
    "\n",
    "        # Kill eldest individuals\n",
    "        kill_eldest(my_population, KILL_AGE)\n",
    "\n",
    "        # Tournament selection for breeding\n",
    "        best_ind = tournament_selection(\n",
    "            my_population, TOURNAMENT_SUBSET_SIZE, TOURNAMENT_WINNER_SIZE, ELITISM=ELITISM, elite_count=ELITE_COUNT\n",
    "        )\n",
    "\n",
    "        # Breeding\n",
    "        for _ in range(BREED_NEW):\n",
    "            if random.random() < XOVER:\n",
    "                parent1 = my_population[best_ind[np.random.choice(len(best_ind))]]\n",
    "                parent2 = my_population[best_ind[np.random.choice(len(best_ind))]]\n",
    "                child1, child2 = crossover(parent1, parent2)\n",
    "                my_population.append(child1)\n",
    "                my_population.append(child2)\n",
    "                num_xover += 1\n",
    "\n",
    "            if random.random() < MUTATION:\n",
    "                parent = my_population[best_ind[np.random.choice(len(best_ind))]]\n",
    "                child, success = mutation_w_sa(parent, train_x.shape[0], train_x, train_y)\n",
    "                num_mut += 1\n",
    "                if success:\n",
    "                    my_population.append(child)\n",
    "                    num_succesfull_mut += 1\n",
    "\n",
    "        # Assign fitness to the updated population\n",
    "        assign_population_fitness_train(my_population, train_x, train_y)\n",
    "        assign_population_fitness_val(my_population, val_x, val_y)\n",
    "\n",
    "        # Simplify top genomes every 10 generations\n",
    "        if generation % 10 == 0:\n",
    "            top_individuals = top_n_individuals(my_population, 5)\n",
    "            print(f\"\\nGeneration {generation}: Top 5 genomes (simplified):\")\n",
    "            for i, individual in enumerate(top_individuals, 1):\n",
    "                original_genome = individual.genome\n",
    "                simplified_genome = simplify_tree_with_multiplication_and_division(original_genome)\n",
    "                print(f\"Top {i}: Fitness = {individual.fitness:.4f}, Fitness_val = {individual.fitness_val:.4f}\")\n",
    "                print(f\"Original Genome: {original_genome}\")\n",
    "                print(f\"Simplified Genome: {simplified_genome}\")\n",
    "\n",
    "        # Deduplicate and simplify population at intervals\n",
    "        if generation % DEDUPE_INTERVAL == DEDUPE_INTERVAL - 1:\n",
    "            init_population = len(my_population)\n",
    "            my_population = deduplicate_population(my_population)\n",
    "            dedup_population = len(my_population)\n",
    "            simplify_operation_population(my_population)\n",
    "            simplified_operations = len(my_population)\n",
    "            kill_constant(my_population)\n",
    "            no_constant = len(my_population)\n",
    "            kill_complex(my_population, MAX_COMPLEXITY)\n",
    "            no_complex = len(my_population)\n",
    "\n",
    "            print(f\"Initial: {init_population}, Deduplicated: {init_population - dedup_population}, \"\n",
    "                  f\"Operation simplified: {dedup_population - simplified_operations}, \"\n",
    "                  f\"Constant: {simplified_operations - no_constant}, Complex: {no_constant - no_complex}, Final: {no_complex}\")\n",
    "            print(f\"Population mean complexity: {calculate_mean_complexity(my_population)}\")\n",
    "            print(f\"Population mean fitness: {calculate_mean_fitness(my_population)}\\n\")\n",
    "\n",
    "            # Update elite individuals\n",
    "            elites = top_n_individuals(my_population, ELITE_COUNT)\n",
    "            for elite in elites:\n",
    "                my_population.remove(elite)\n",
    "                elite.age = 0\n",
    "                my_population.append(elite)\n",
    "\n",
    "        # Fit constants every specified interval\n",
    "        if generation % CONSTANT_FIT_INTERVAL == CONSTANT_FIT_INTERVAL - 1:\n",
    "            print(f\"Generation {generation}: Mean fitness before constant fitting: {calculate_mean_fitness(my_population)}\")\n",
    "            for ind in range(len(my_population)):\n",
    "                stronger_inv = fit_constants(my_population[ind], CONSTANT_FIT_ITERATION, train_x, train_y)\n",
    "                my_population[ind] = stronger_inv\n",
    "            assign_population_fitness_val(my_population, val_x, val_y)\n",
    "            print(f\"Population mean fitness after constant fitting: {calculate_mean_fitness(my_population)}\")\n",
    "\n",
    "    # Final deduplication and simplification\n",
    "    my_population = deduplicate_population(my_population)\n",
    "    assign_population_fitness_train(my_population, train_x, train_y)\n",
    "    assign_population_fitness_val(my_population, val_x, val_y)\n",
    "\n",
    "    # Print final results\n",
    "    top_5_individuals = top_n_individuals(my_population, 5)\n",
    "    for i, individual in enumerate(top_5_individuals, 1):\n",
    "        print(f\"Final Top {i}: Fitness = {individual.fitness:.4f}, Fitness_val = {individual.fitness_val:.4f}, \"\n",
    "              f\"Genome = {individual.genome}\")\n",
    "\n",
    "    return my_population\n"
   ]
  },
  {
   "cell_type": "code",
   "execution_count": 17,
   "metadata": {},
   "outputs": [],
   "source": [
    "# Evolve population and simplify top genomes\n",
    "def evolve_with_simplification(train_x, train_y, val_x, val_y):\n",
    "    my_population = evolve(train_x, train_y, val_x, val_y)  # Call existing evolve function\n",
    "\n",
    "    # Extract the top 1 individual and simplify its genome\n",
    "    top_individual = top_n_individuals(my_population, 1)[0]\n",
    "    original_genome = top_individual.genome\n",
    "    print(f\"Original Genome: {original_genome}\")\n",
    "\n",
    "    # Simplify the genome\n",
    "    simplified_genome = simplify_tree_with_multiplication_and_division(original_genome)\n",
    "    print(f\"Simplified Genome: {simplified_genome}\")\n",
    "\n",
    "    return my_population\n"
   ]
  },
  {
   "cell_type": "code",
   "execution_count": 23,
   "metadata": {},
   "outputs": [
    {
     "name": "stdout",
     "output_type": "stream",
     "text": [
      "x.shape: (2, 1000)\n",
      "y.shape: (1000,)\n",
      "x_train.shape:  (2, 800)\n",
      "x_val.shape:  (2, 200)\n",
      "y_train.shape:  (800,)\n",
      "y_val.shape:  (200,)\n",
      "Population is creating with a size:  100\n",
      "Population has created.\n",
      "Individual fitness values are assigning\n",
      " Population size: 69\n",
      "Population mean fitness: 579521287.5115411\n",
      "Population mean complexity: 189.97101449275362\n"
     ]
    },
    {
     "name": "stderr",
     "output_type": "stream",
     "text": [
      "  0%|          | 1/600 [00:01<17:06,  1.71s/it]"
     ]
    },
    {
     "name": "stdout",
     "output_type": "stream",
     "text": [
      "\n",
      "Generation 0: Top 5 genomes (simplified):\n",
      "Top 1: Fitness = 0.0108, Fitness_val = 0.0103\n",
      "Original Genome: x[0]\n",
      "Simplified Genome: x[0]\n",
      "Top 2: Fitness = 0.2207, Fitness_val = 0.2113\n",
      "Original Genome: (x[1] + x[0])\n",
      "Simplified Genome: (x[0] + x[1])\n",
      "Error during simplification: Unsupported operator: <ufunc 'tan'>\n",
      "Top 3: Fitness = 1.6765, Fitness_val = 1.7369\n",
      "Original Genome: tan(sin(x[0]))\n",
      "Simplified Genome: tan(sin(x[0]))\n",
      "Error during simplification: Unsupported operator: <ufunc 'sin'>\n",
      "Top 4: Fitness = 1.8755, Fitness_val = 1.9533\n",
      "Original Genome: sin(x[0])\n",
      "Simplified Genome: sin(x[0])\n",
      "Error during simplification: Unsupported operator: <ufunc 'sin'>\n",
      "Top 5: Fitness = 1.9766, Fitness_val = 2.0618\n",
      "Original Genome: sin(sin(x[0]))\n",
      "Simplified Genome: sin(sin(x[0]))\n"
     ]
    },
    {
     "name": "stderr",
     "output_type": "stream",
     "text": [
      "  2%|▏         | 11/600 [00:09<07:41,  1.28it/s]"
     ]
    },
    {
     "name": "stdout",
     "output_type": "stream",
     "text": [
      "\n",
      "Generation 10: Top 5 genomes (simplified):\n",
      "Top 1: Fitness = 0.0108, Fitness_val = 0.0103\n",
      "Original Genome: x[0]\n",
      "Simplified Genome: x[0]\n",
      "Top 2: Fitness = 0.2207, Fitness_val = 0.2113\n",
      "Original Genome: (x[1] + x[0])\n",
      "Simplified Genome: (x[0] + x[1])\n",
      "Error during simplification: Unsupported operator: <ufunc 'sin'>\n",
      "Top 3: Fitness = 0.5013, Fitness_val = 0.5154\n",
      "Original Genome: (x[0] - sin(x[0]))\n",
      "Simplified Genome: (x[0] - sin(x[0]))\n",
      "Error during simplification: Unsupported operator: <ufunc 'tan'>\n",
      "Top 4: Fitness = 1.6765, Fitness_val = 1.7369\n",
      "Original Genome: tan(sin(x[0]))\n",
      "Simplified Genome: tan(sin(x[0]))\n",
      "Error during simplification: Unsupported operator: <ufunc 'sin'>\n",
      "Top 5: Fitness = 1.8755, Fitness_val = 1.9533\n",
      "Original Genome: sin(x[0])\n",
      "Simplified Genome: sin(x[0])\n"
     ]
    },
    {
     "name": "stderr",
     "output_type": "stream",
     "text": [
      "  2%|▎         | 15/600 [00:11<05:26,  1.79it/s]"
     ]
    },
    {
     "name": "stdout",
     "output_type": "stream",
     "text": [
      "Initial: 601, Deduplicated: 377, Operation simplified: 0, Constant: 127, Complex: 30, Final: 67\n",
      "Population mean complexity: 19.73134328358209\n",
      "Population mean fitness: 596820405.9034994\n",
      "\n"
     ]
    },
    {
     "name": "stderr",
     "output_type": "stream",
     "text": [
      "  4%|▎         | 21/600 [00:17<06:24,  1.50it/s]"
     ]
    },
    {
     "name": "stdout",
     "output_type": "stream",
     "text": [
      "\n",
      "Generation 20: Top 5 genomes (simplified):\n",
      "Top 1: Fitness = 0.0108, Fitness_val = 0.0103\n",
      "Original Genome: x[0]\n",
      "Simplified Genome: x[0]\n",
      "Error during simplification: Unsupported operator: <ufunc 'sin'>\n",
      "Top 2: Fitness = 0.1422, Fitness_val = 0.1367\n",
      "Original Genome: (x[0] + sin(sin(x[1])))\n",
      "Simplified Genome: (x[0] + sin(sin(x[1])))\n",
      "Top 3: Fitness = 0.2207, Fitness_val = 0.2113\n",
      "Original Genome: (x[1] + x[0])\n",
      "Simplified Genome: (x[0] + x[1])\n",
      "Error during simplification: Unsupported operator: <ufunc 'sin'>\n",
      "Top 4: Fitness = 0.4005, Fitness_val = 0.4067\n",
      "Original Genome: (x[0] + sin(sin(x[0])))\n",
      "Simplified Genome: (x[0] + sin(sin(x[0])))\n",
      "Error during simplification: Unsupported operator: <ufunc 'sin'>\n",
      "Top 5: Fitness = 0.4724, Fitness_val = 0.4674\n",
      "Original Genome: (x[0] - sin((x[0] + (x[0] - sin(x[0])))))\n",
      "Simplified Genome: (x[0] - sin((x[0] + (x[0] - sin(x[0])))))\n"
     ]
    },
    {
     "name": "stderr",
     "output_type": "stream",
     "text": [
      "  5%|▍         | 29/600 [00:20<03:19,  2.86it/s]"
     ]
    },
    {
     "name": "stdout",
     "output_type": "stream",
     "text": [
      "Initial: 544, Deduplicated: 382, Operation simplified: 0, Constant: 78, Complex: 2, Final: 82\n",
      "Population mean complexity: 17.26829268292683\n",
      "Population mean fitness: 3868490468.302485\n",
      "\n",
      "Generation 29: Mean fitness before constant fitting: 3868490468.302485\n"
     ]
    },
    {
     "name": "stderr",
     "output_type": "stream",
     "text": [
      "  5%|▌         | 30/600 [00:44<1:09:06,  7.27s/it]"
     ]
    },
    {
     "name": "stdout",
     "output_type": "stream",
     "text": [
      "Population mean fitness after constant fitting: 2720211429.5172925\n"
     ]
    },
    {
     "name": "stderr",
     "output_type": "stream",
     "text": [
      "  5%|▌         | 31/600 [00:44<50:10,  5.29s/it]  "
     ]
    },
    {
     "name": "stdout",
     "output_type": "stream",
     "text": [
      "\n",
      "Generation 30: Top 5 genomes (simplified):\n",
      "Top 1: Fitness = 0.0108, Fitness_val = 0.0103\n",
      "Original Genome: x[0]\n",
      "Simplified Genome: x[0]\n",
      "Error during simplification: Unsupported operator: <ufunc 'sin'>\n",
      "Top 2: Fitness = 0.1422, Fitness_val = 0.1367\n",
      "Original Genome: (x[0] + sin(sin(x[1])))\n",
      "Simplified Genome: (x[0] + sin(sin(x[1])))\n",
      "Top 3: Fitness = 0.2207, Fitness_val = 0.2113\n",
      "Original Genome: (x[1] + x[0])\n",
      "Simplified Genome: (x[0] + x[1])\n",
      "Error during simplification: Unsupported operator: <ufunc 'sin'>\n",
      "Top 4: Fitness = 0.4005, Fitness_val = 0.4067\n",
      "Original Genome: (x[0] + sin(sin(x[0])))\n",
      "Simplified Genome: (x[0] + sin(sin(x[0])))\n",
      "Error during simplification: Unsupported operator: <ufunc 'sin'>\n",
      "Top 5: Fitness = 0.4724, Fitness_val = 0.4674\n",
      "Original Genome: (x[0] - sin((x[0] + (x[0] - sin(x[0])))))\n",
      "Simplified Genome: (x[0] - sin((x[0] + (x[0] - sin(x[0])))))\n"
     ]
    },
    {
     "name": "stderr",
     "output_type": "stream",
     "text": [
      "  7%|▋         | 41/600 [00:50<05:19,  1.75it/s]"
     ]
    },
    {
     "name": "stdout",
     "output_type": "stream",
     "text": [
      "\n",
      "Generation 40: Top 5 genomes (simplified):\n",
      "Top 1: Fitness = 0.0108, Fitness_val = 0.0103\n",
      "Original Genome: x[0]\n",
      "Simplified Genome: x[0]\n",
      "Error during simplification: Unsupported operator: <ufunc 'sin'>\n",
      "Top 2: Fitness = 0.1422, Fitness_val = 0.1367\n",
      "Original Genome: (x[0] + sin(sin(x[1])))\n",
      "Simplified Genome: (x[0] + sin(sin(x[1])))\n",
      "Error during simplification: Unsupported operator: <ufunc 'sin'>\n",
      "Top 3: Fitness = 0.1722, Fitness_val = 0.1652\n",
      "Original Genome: (sin(x[1]) + x[0])\n",
      "Simplified Genome: (sin(x[1]) + x[0])\n",
      "Top 4: Fitness = 0.2207, Fitness_val = 0.2113\n",
      "Original Genome: (x[1] + x[0])\n",
      "Simplified Genome: (x[0] + x[1])\n",
      "Error during simplification: Unsupported operator: <ufunc 'sin'>\n",
      "Top 5: Fitness = 0.3350, Fitness_val = 0.3387\n",
      "Original Genome: (x[0] + sin(sin(sin(x[0]))))\n",
      "Simplified Genome: (x[0] + sin(sin(sin(x[0]))))\n"
     ]
    },
    {
     "name": "stderr",
     "output_type": "stream",
     "text": [
      "  8%|▊         | 45/600 [00:52<04:07,  2.24it/s]"
     ]
    },
    {
     "name": "stdout",
     "output_type": "stream",
     "text": [
      "Initial: 559, Deduplicated: 368, Operation simplified: 0, Constant: 75, Complex: 3, Final: 113\n",
      "Population mean complexity: 16.92920353982301\n",
      "Population mean fitness: 9386.856391710877\n",
      "\n"
     ]
    },
    {
     "name": "stderr",
     "output_type": "stream",
     "text": [
      "  8%|▊         | 51/600 [00:55<04:51,  1.88it/s]"
     ]
    },
    {
     "name": "stdout",
     "output_type": "stream",
     "text": [
      "\n",
      "Generation 50: Top 5 genomes (simplified):\n",
      "Top 1: Fitness = 0.0108, Fitness_val = 0.0103\n",
      "Original Genome: x[0]\n",
      "Simplified Genome: x[0]\n",
      "Error during simplification: Unsupported operator: <ufunc 'sin'>\n",
      "Top 2: Fitness = 0.1422, Fitness_val = 0.1367\n",
      "Original Genome: (x[0] + sin(sin(x[1])))\n",
      "Simplified Genome: (x[0] + sin(sin(x[1])))\n",
      "Error during simplification: Unsupported operator: <ufunc 'sin'>\n",
      "Top 3: Fitness = 0.1722, Fitness_val = 0.1652\n",
      "Original Genome: (sin(x[1]) + x[0])\n",
      "Simplified Genome: (sin(x[1]) + x[0])\n",
      "Top 4: Fitness = 0.2207, Fitness_val = 0.2113\n",
      "Original Genome: (x[1] + x[0])\n",
      "Simplified Genome: (x[0] + x[1])\n",
      "Error during simplification: Unsupported operator: <ufunc 'sin'>\n",
      "Top 5: Fitness = 0.3389, Fitness_val = 0.3521\n",
      "Original Genome: (x[0] - sin(((x[0] - x[0]) + (x[0] - sin(x[0])))))\n",
      "Simplified Genome: (x[0] - sin(((x[0] - x[0]) + (x[0] - sin(x[0])))))\n"
     ]
    },
    {
     "name": "stderr",
     "output_type": "stream",
     "text": [
      " 10%|▉         | 59/600 [01:00<04:56,  1.83it/s]"
     ]
    },
    {
     "name": "stdout",
     "output_type": "stream",
     "text": [
      "Initial: 532, Deduplicated: 355, Operation simplified: 0, Constant: 40, Complex: 2, Final: 135\n",
      "Population mean complexity: 16.637037037037036\n",
      "Population mean fitness: 922801.3925458326\n",
      "\n",
      "Generation 59: Mean fitness before constant fitting: 922801.3925458327\n"
     ]
    },
    {
     "name": "stderr",
     "output_type": "stream",
     "text": [
      " 10%|█         | 60/600 [01:30<1:24:04,  9.34s/it]"
     ]
    },
    {
     "name": "stdout",
     "output_type": "stream",
     "text": [
      "Population mean fitness after constant fitting: 922799.641135419\n"
     ]
    },
    {
     "name": "stderr",
     "output_type": "stream",
     "text": [
      " 10%|█         | 61/600 [01:31<1:01:05,  6.80s/it]"
     ]
    },
    {
     "name": "stdout",
     "output_type": "stream",
     "text": [
      "\n",
      "Generation 60: Top 5 genomes (simplified):\n",
      "Error during simplification: Unsupported operator: <ufunc 'sin'>\n",
      "Top 1: Fitness = 0.0108, Fitness_val = 0.0103\n",
      "Original Genome: (sin(x[0]) + (x[0] - sin(x[0])))\n",
      "Simplified Genome: (sin(x[0]) + (x[0] - sin(x[0])))\n",
      "Error during simplification: Unsupported operator: <ufunc 'sin'>\n",
      "Top 2: Fitness = 0.0180, Fitness_val = 0.0183\n",
      "Original Genome: (sin(sin(x[0])) + (x[0] - sin(x[0])))\n",
      "Simplified Genome: (sin(sin(x[0])) + (x[0] - sin(x[0])))\n",
      "Error during simplification: Unsupported operator: <ufunc 'sin'>\n",
      "Top 3: Fitness = 0.0194, Fitness_val = 0.0191\n",
      "Original Genome: (sin(x[0]) + (x[0] - sin(sin(x[0]))))\n",
      "Simplified Genome: (sin(x[0]) + (x[0] - sin(sin(x[0]))))\n",
      "Error during simplification: Unsupported operator: <ufunc 'sin'>\n",
      "Top 4: Fitness = 0.1422, Fitness_val = 0.1367\n",
      "Original Genome: (x[0] + sin(sin(x[1])))\n",
      "Simplified Genome: (x[0] + sin(sin(x[1])))\n",
      "Error during simplification: Unsupported operator: <ufunc 'sin'>\n",
      "Top 5: Fitness = 0.1722, Fitness_val = 0.1652\n",
      "Original Genome: (x[0] + sin(x[1]))\n",
      "Simplified Genome: (x[0] + sin(x[1]))\n"
     ]
    },
    {
     "name": "stderr",
     "output_type": "stream",
     "text": [
      " 12%|█▏        | 71/600 [01:37<06:53,  1.28it/s]  "
     ]
    },
    {
     "name": "stdout",
     "output_type": "stream",
     "text": [
      "\n",
      "Generation 70: Top 5 genomes (simplified):\n",
      "Error during simplification: Unsupported operator: <ufunc 'sin'>\n",
      "Top 1: Fitness = 0.0108, Fitness_val = 0.0103\n",
      "Original Genome: (sin(x[0]) + (x[0] - sin(x[0])))\n",
      "Simplified Genome: (sin(x[0]) + (x[0] - sin(x[0])))\n",
      "Error during simplification: Unsupported operator: <ufunc 'sin'>\n",
      "Top 2: Fitness = 0.0180, Fitness_val = 0.0183\n",
      "Original Genome: (sin(sin(x[0])) + (x[0] - sin(x[0])))\n",
      "Simplified Genome: (sin(sin(x[0])) + (x[0] - sin(x[0])))\n",
      "Error during simplification: Unsupported operator: <ufunc 'sin'>\n",
      "Top 3: Fitness = 0.0194, Fitness_val = 0.0191\n",
      "Original Genome: (sin(x[0]) + (x[0] - sin(sin(x[0]))))\n",
      "Simplified Genome: (sin(x[0]) + (x[0] - sin(sin(x[0]))))\n",
      "Error during simplification: Unsupported operator: <ufunc 'sin'>\n",
      "Top 4: Fitness = 0.0447, Fitness_val = 0.0472\n",
      "Original Genome: (sin(sin(sin(sin(x[0])))) + (x[0] - sin(x[0])))\n",
      "Simplified Genome: (sin(sin(sin(sin(x[0])))) + (x[0] - sin(x[0])))\n",
      "Error during simplification: Unsupported operator: <ufunc 'sin'>\n",
      "Top 5: Fitness = 0.1057, Fitness_val = 0.1021\n",
      "Original Genome: (x[0] + sin(sin(sin(sin(x[1])))))\n",
      "Simplified Genome: (x[0] + sin(sin(sin(sin(x[1])))))\n"
     ]
    },
    {
     "name": "stderr",
     "output_type": "stream",
     "text": [
      " 12%|█▎        | 75/600 [01:40<06:04,  1.44it/s]"
     ]
    },
    {
     "name": "stdout",
     "output_type": "stream",
     "text": [
      "Initial: 577, Deduplicated: 337, Operation simplified: 0, Constant: 36, Complex: 30, Final: 174\n",
      "Population mean complexity: 20.350574712643677\n",
      "Population mean fitness: 30.441502504170494\n",
      "\n"
     ]
    },
    {
     "name": "stderr",
     "output_type": "stream",
     "text": [
      " 14%|█▎        | 81/600 [01:45<06:38,  1.30it/s]"
     ]
    },
    {
     "name": "stdout",
     "output_type": "stream",
     "text": [
      "\n",
      "Generation 80: Top 5 genomes (simplified):\n",
      "Top 1: Fitness = 0.0108, Fitness_val = 0.0103\n",
      "Original Genome: x[0]\n",
      "Simplified Genome: x[0]\n",
      "Error during simplification: Unsupported operator: <ufunc 'sin'>\n",
      "Top 2: Fitness = 0.0136, Fitness_val = 0.0136\n",
      "Original Genome: (sin(sin(sin(x[0]))) + (x[0] - sin(sin(x[0]))))\n",
      "Simplified Genome: (sin(sin(sin(x[0]))) + (x[0] - sin(sin(x[0]))))\n",
      "Error during simplification: Unsupported operator: <ufunc 'sin'>\n",
      "Top 3: Fitness = 0.0145, Fitness_val = 0.0140\n",
      "Original Genome: (sin(sin(x[0])) + (x[0] - sin(sin(sin(x[0])))))\n",
      "Simplified Genome: (sin(sin(x[0])) + (x[0] - sin(sin(sin(x[0])))))\n",
      "Error during simplification: Unsupported operator: <ufunc 'sin'>\n",
      "Top 4: Fitness = 0.0180, Fitness_val = 0.0183\n",
      "Original Genome: (sin(sin(x[0])) + (x[0] - sin(x[0])))\n",
      "Simplified Genome: (sin(sin(x[0])) + (x[0] - sin(x[0])))\n",
      "Error during simplification: Unsupported operator: <ufunc 'sin'>\n",
      "Top 5: Fitness = 0.0194, Fitness_val = 0.0191\n",
      "Original Genome: (sin(x[0]) + (x[0] - sin(sin(x[0]))))\n",
      "Simplified Genome: (sin(x[0]) + (x[0] - sin(sin(x[0]))))\n"
     ]
    },
    {
     "name": "stderr",
     "output_type": "stream",
     "text": [
      " 15%|█▍        | 89/600 [01:50<05:42,  1.49it/s]"
     ]
    },
    {
     "name": "stdout",
     "output_type": "stream",
     "text": [
      "Initial: 539, Deduplicated: 313, Operation simplified: 0, Constant: 27, Complex: 23, Final: 176\n",
      "Population mean complexity: 30.176136363636363\n",
      "Population mean fitness: 18.49078223841451\n",
      "\n",
      "Generation 89: Mean fitness before constant fitting: 18.49078223841451\n"
     ]
    },
    {
     "name": "stderr",
     "output_type": "stream",
     "text": [
      " 15%|█▌        | 90/600 [02:38<2:07:09, 14.96s/it]"
     ]
    },
    {
     "name": "stdout",
     "output_type": "stream",
     "text": [
      "Population mean fitness after constant fitting: 17.893181649309216\n"
     ]
    },
    {
     "name": "stderr",
     "output_type": "stream",
     "text": [
      " 15%|█▌        | 91/600 [02:40<1:33:54, 11.07s/it]"
     ]
    },
    {
     "name": "stdout",
     "output_type": "stream",
     "text": [
      "\n",
      "Generation 90: Top 5 genomes (simplified):\n",
      "Error during simplification: Unsupported operator: <ufunc 'sin'>\n",
      "Top 1: Fitness = 0.0108, Fitness_val = 0.0103\n",
      "Original Genome: (sin(sin(x[0])) + (x[0] - sin(sin(x[0]))))\n",
      "Simplified Genome: (sin(sin(x[0])) + (x[0] - sin(sin(x[0]))))\n",
      "Error during simplification: Unsupported operator: <ufunc 'sin'>\n",
      "Top 2: Fitness = 0.0180, Fitness_val = 0.0183\n",
      "Original Genome: (sin(sin(x[0])) + (x[0] - sin(x[0])))\n",
      "Simplified Genome: (sin(sin(x[0])) + (x[0] - sin(x[0])))\n",
      "Error during simplification: Unsupported operator: <ufunc 'sin'>\n",
      "Top 3: Fitness = 0.0194, Fitness_val = 0.0191\n",
      "Original Genome: (sin(x[0]) + (x[0] - sin(sin(x[0]))))\n",
      "Simplified Genome: (sin(x[0]) + (x[0] - sin(sin(x[0]))))\n",
      "Error during simplification: Unsupported operator: <ufunc 'sin'>\n",
      "Top 4: Fitness = 0.1422, Fitness_val = 0.1367\n",
      "Original Genome: (x[0] + sin(sin(x[1])))\n",
      "Simplified Genome: (x[0] + sin(sin(x[1])))\n",
      "Error during simplification: Unsupported operator: <ufunc 'sin'>\n",
      "Top 5: Fitness = 0.1722, Fitness_val = 0.1652\n",
      "Original Genome: (sin(x[1]) + x[0])\n",
      "Simplified Genome: (sin(x[1]) + x[0])\n"
     ]
    },
    {
     "name": "stderr",
     "output_type": "stream",
     "text": [
      " 17%|█▋        | 101/600 [02:49<09:31,  1.14s/it] "
     ]
    },
    {
     "name": "stdout",
     "output_type": "stream",
     "text": [
      "\n",
      "Generation 100: Top 5 genomes (simplified):\n",
      "Error during simplification: Unsupported operator: <ufunc 'sin'>\n",
      "Top 1: Fitness = 0.0108, Fitness_val = 0.0103\n",
      "Original Genome: (sin(sin(x[0])) + (x[0] - sin(sin(x[0]))))\n",
      "Simplified Genome: (sin(sin(x[0])) + (x[0] - sin(sin(x[0]))))\n",
      "Error during simplification: Unsupported operator: <ufunc 'sin'>\n",
      "Top 2: Fitness = 0.0136, Fitness_val = 0.0136\n",
      "Original Genome: (sin(sin(sin(x[0]))) + ((sin(x[0]) + (x[0] - sin(x[0]))) - sin(sin(x[0]))))\n",
      "Simplified Genome: (sin(sin(sin(x[0]))) + ((sin(x[0]) + (x[0] - sin(x[0]))) - sin(sin(x[0]))))\n",
      "Error during simplification: Unsupported operator: <ufunc 'sin'>\n",
      "Top 3: Fitness = 0.0180, Fitness_val = 0.0183\n",
      "Original Genome: (sin(sin(x[0])) + (x[0] - sin(x[0])))\n",
      "Simplified Genome: (sin(sin(x[0])) + (x[0] - sin(x[0])))\n",
      "Error during simplification: Unsupported operator: <ufunc 'sin'>\n",
      "Top 4: Fitness = 0.0194, Fitness_val = 0.0191\n",
      "Original Genome: (sin(x[0]) + (x[0] - sin(sin(x[0]))))\n",
      "Simplified Genome: (sin(x[0]) + (x[0] - sin(sin(x[0]))))\n",
      "Error during simplification: Unsupported operator: <ufunc 'sin'>\n",
      "Top 5: Fitness = 0.0199, Fitness_val = 0.0205\n",
      "Original Genome: (sin(sin(sin(sin(x[0])))) + ((sin(x[0]) + (x[0] - sin(x[0]))) - sin(sin(x[0]))))\n",
      "Simplified Genome: (sin(sin(sin(sin(x[0])))) + ((sin(x[0]) + (x[0] - sin(x[0]))) - sin(sin(x[0]))))\n"
     ]
    },
    {
     "name": "stderr",
     "output_type": "stream",
     "text": [
      " 18%|█▊        | 105/600 [02:54<09:08,  1.11s/it]"
     ]
    },
    {
     "name": "stdout",
     "output_type": "stream",
     "text": [
      "Initial: 556, Deduplicated: 269, Operation simplified: 0, Constant: 24, Complex: 51, Final: 212\n",
      "Population mean complexity: 43.882075471698116\n",
      "Population mean fitness: 32.53186512335848\n",
      "\n"
     ]
    },
    {
     "name": "stderr",
     "output_type": "stream",
     "text": [
      " 18%|█▊        | 109/600 [03:00<13:33,  1.66s/it]\n"
     ]
    },
    {
     "ename": "KeyboardInterrupt",
     "evalue": "",
     "output_type": "error",
     "traceback": [
      "\u001b[1;31m---------------------------------------------------------------------------\u001b[0m",
      "\u001b[1;31mKeyboardInterrupt\u001b[0m                         Traceback (most recent call last)",
      "Cell \u001b[1;32mIn[23], line 13\u001b[0m\n\u001b[0;32m     10\u001b[0m x_train, y_train, x_val, y_val \u001b[38;5;241m=\u001b[39m split_dataset(x,y,\u001b[38;5;241m0.8\u001b[39m)\n\u001b[0;32m     11\u001b[0m \u001b[38;5;66;03m#my_pop_0 = evolve(x_train,y_train,x_val,y_val)\u001b[39;00m\n\u001b[0;32m     12\u001b[0m \u001b[38;5;66;03m# Assuming train_x, train_y, val_x, val_y are already defined\u001b[39;00m\n\u001b[1;32m---> 13\u001b[0m evolved_population \u001b[38;5;241m=\u001b[39m \u001b[43mevolve\u001b[49m\u001b[43m(\u001b[49m\u001b[43mx_train\u001b[49m\u001b[43m,\u001b[49m\u001b[43m \u001b[49m\u001b[43my_train\u001b[49m\u001b[43m,\u001b[49m\u001b[43m \u001b[49m\u001b[43mx_val\u001b[49m\u001b[43m,\u001b[49m\u001b[43m \u001b[49m\u001b[43my_val\u001b[49m\u001b[43m)\u001b[49m\n",
      "Cell \u001b[1;32mIn[22], line 65\u001b[0m, in \u001b[0;36mevolve\u001b[1;34m(train_x, train_y, val_x, val_y)\u001b[0m\n\u001b[0;32m     63\u001b[0m \u001b[38;5;66;03m# Assign fitness to the updated population\u001b[39;00m\n\u001b[0;32m     64\u001b[0m assign_population_fitness_train(my_population, train_x, train_y)\n\u001b[1;32m---> 65\u001b[0m \u001b[43massign_population_fitness_val\u001b[49m\u001b[43m(\u001b[49m\u001b[43mmy_population\u001b[49m\u001b[43m,\u001b[49m\u001b[43m \u001b[49m\u001b[43mval_x\u001b[49m\u001b[43m,\u001b[49m\u001b[43m \u001b[49m\u001b[43mval_y\u001b[49m\u001b[43m)\u001b[49m\n\u001b[0;32m     67\u001b[0m \u001b[38;5;66;03m# Simplify top genomes every 10 generations\u001b[39;00m\n\u001b[0;32m     68\u001b[0m \u001b[38;5;28;01mif\u001b[39;00m generation \u001b[38;5;241m%\u001b[39m \u001b[38;5;241m10\u001b[39m \u001b[38;5;241m==\u001b[39m \u001b[38;5;241m0\u001b[39m:\n",
      "File \u001b[1;32mc:\\Users\\Asus\\Desktop\\polito\\year 2 semester 1\\computational intelligence\\project\\CI_project_draft\\src\\utils.py:270\u001b[0m, in \u001b[0;36massign_population_fitness_val\u001b[1;34m(population, x, y)\u001b[0m\n\u001b[0;32m    267\u001b[0m warnings\u001b[38;5;241m.\u001b[39msimplefilter(\u001b[38;5;124m\"\u001b[39m\u001b[38;5;124malways\u001b[39m\u001b[38;5;124m\"\u001b[39m)\n\u001b[0;32m    269\u001b[0m \u001b[38;5;28;01mif\u001b[39;00m individual\u001b[38;5;241m.\u001b[39mfitness_val \u001b[38;5;129;01mis\u001b[39;00m \u001b[38;5;28;01mNone\u001b[39;00m:\n\u001b[1;32m--> 270\u001b[0m     ind_cost \u001b[38;5;241m=\u001b[39m \u001b[43mcost\u001b[49m\u001b[43m(\u001b[49m\u001b[43mindividual\u001b[49m\u001b[38;5;241;43m.\u001b[39;49m\u001b[43mgenome\u001b[49m\u001b[43m,\u001b[49m\u001b[43m \u001b[49m\u001b[43mx\u001b[49m\u001b[43m,\u001b[49m\u001b[43m \u001b[49m\u001b[43my\u001b[49m\u001b[43m)\u001b[49m\n\u001b[0;32m    271\u001b[0m     \u001b[38;5;28;01mif\u001b[39;00m \u001b[38;5;28mlen\u001b[39m(w) \u001b[38;5;241m==\u001b[39m \u001b[38;5;241m0\u001b[39m:\n\u001b[0;32m    272\u001b[0m         individual\u001b[38;5;241m.\u001b[39mfitness_val \u001b[38;5;241m=\u001b[39m ind_cost\n",
      "File \u001b[1;32mc:\\Users\\Asus\\Desktop\\polito\\year 2 semester 1\\computational intelligence\\project\\CI_project_draft\\src\\utils.py:227\u001b[0m, in \u001b[0;36mcost\u001b[1;34m(genome, x, y)\u001b[0m\n\u001b[0;32m    225\u001b[0m \u001b[38;5;28;01mdef\u001b[39;00m \u001b[38;5;21mcost\u001b[39m(genome,x,y):\n\u001b[0;32m    226\u001b[0m     predictions \u001b[38;5;241m=\u001b[39m np\u001b[38;5;241m.\u001b[39marray([genome\u001b[38;5;241m.\u001b[39mevaluate(x[:, i]) \u001b[38;5;28;01mfor\u001b[39;00m i \u001b[38;5;129;01min\u001b[39;00m \u001b[38;5;28mrange\u001b[39m(x\u001b[38;5;241m.\u001b[39mshape[\u001b[38;5;241m1\u001b[39m])])\n\u001b[1;32m--> 227\u001b[0m     mse \u001b[38;5;241m=\u001b[39m \u001b[43mnp\u001b[49m\u001b[38;5;241;43m.\u001b[39;49m\u001b[43mmean\u001b[49m\u001b[43m(\u001b[49m\u001b[43m(\u001b[49m\u001b[43mpredictions\u001b[49m\u001b[43m \u001b[49m\u001b[38;5;241;43m-\u001b[39;49m\u001b[43m \u001b[49m\u001b[43my\u001b[49m\u001b[43m)\u001b[49m\u001b[43m \u001b[49m\u001b[38;5;241;43m*\u001b[39;49m\u001b[38;5;241;43m*\u001b[39;49m\u001b[43m \u001b[49m\u001b[38;5;241;43m2\u001b[39;49m\u001b[43m)\u001b[49m\n\u001b[0;32m    228\u001b[0m     \u001b[38;5;28;01mreturn\u001b[39;00m mse\n",
      "File \u001b[1;32mc:\\Users\\Asus\\AppData\\Local\\Programs\\Python\\Python310\\lib\\site-packages\\numpy\\_core\\fromnumeric.py:3778\u001b[0m, in \u001b[0;36m_mean_dispatcher\u001b[1;34m(a, axis, dtype, out, keepdims, where)\u001b[0m\n\u001b[0;32m   3763\u001b[0m \u001b[38;5;250m    \u001b[39m\u001b[38;5;124;03m\"\"\"\u001b[39;00m\n\u001b[0;32m   3764\u001b[0m \u001b[38;5;124;03m    Round an array to the given number of decimals.\u001b[39;00m\n\u001b[0;32m   3765\u001b[0m \n\u001b[1;32m   (...)\u001b[0m\n\u001b[0;32m   3773\u001b[0m \n\u001b[0;32m   3774\u001b[0m \u001b[38;5;124;03m    \"\"\"\u001b[39;00m\n\u001b[0;32m   3775\u001b[0m     \u001b[38;5;28;01mreturn\u001b[39;00m _wrapfunc(a, \u001b[38;5;124m'\u001b[39m\u001b[38;5;124mround\u001b[39m\u001b[38;5;124m'\u001b[39m, decimals\u001b[38;5;241m=\u001b[39mdecimals, out\u001b[38;5;241m=\u001b[39mout)\n\u001b[1;32m-> 3778\u001b[0m \u001b[38;5;28;01mdef\u001b[39;00m \u001b[38;5;21m_mean_dispatcher\u001b[39m(a, axis\u001b[38;5;241m=\u001b[39m\u001b[38;5;28;01mNone\u001b[39;00m, dtype\u001b[38;5;241m=\u001b[39m\u001b[38;5;28;01mNone\u001b[39;00m, out\u001b[38;5;241m=\u001b[39m\u001b[38;5;28;01mNone\u001b[39;00m, keepdims\u001b[38;5;241m=\u001b[39m\u001b[38;5;28;01mNone\u001b[39;00m, \u001b[38;5;241m*\u001b[39m,\n\u001b[0;32m   3779\u001b[0m                      where\u001b[38;5;241m=\u001b[39m\u001b[38;5;28;01mNone\u001b[39;00m):\n\u001b[0;32m   3780\u001b[0m     \u001b[38;5;28;01mreturn\u001b[39;00m (a, where, out)\n\u001b[0;32m   3783\u001b[0m \u001b[38;5;129m@array_function_dispatch\u001b[39m(_mean_dispatcher)\n\u001b[0;32m   3784\u001b[0m \u001b[38;5;28;01mdef\u001b[39;00m \u001b[38;5;21mmean\u001b[39m(a, axis\u001b[38;5;241m=\u001b[39m\u001b[38;5;28;01mNone\u001b[39;00m, dtype\u001b[38;5;241m=\u001b[39m\u001b[38;5;28;01mNone\u001b[39;00m, out\u001b[38;5;241m=\u001b[39m\u001b[38;5;28;01mNone\u001b[39;00m, keepdims\u001b[38;5;241m=\u001b[39mnp\u001b[38;5;241m.\u001b[39m_NoValue, \u001b[38;5;241m*\u001b[39m,\n\u001b[0;32m   3785\u001b[0m          where\u001b[38;5;241m=\u001b[39mnp\u001b[38;5;241m.\u001b[39m_NoValue):\n",
      "\u001b[1;31mKeyboardInterrupt\u001b[0m: "
     ]
    }
   ],
   "source": [
    "\n",
    "problem = np.load(\"data/problem_0.npz\")\n",
    "x = problem[\"x\"]\n",
    "y = problem[\"y\"]\n",
    "print(\"x.shape:\", x.shape)\n",
    "print(\"y.shape:\", y.shape)\n",
    "print(\"x_train.shape: \", x_train.shape)\n",
    "print(\"x_val.shape: \", x_val.shape)\n",
    "print(\"y_train.shape: \", y_train.shape)\n",
    "print(\"y_val.shape: \", y_val.shape)\n",
    "x_train, y_train, x_val, y_val = split_dataset(x,y,0.8)\n",
    "#my_pop_0 = evolve(x_train,y_train,x_val,y_val)\n",
    "# Assuming train_x, train_y, val_x, val_y are already defined\n",
    "evolved_population = evolve(x_train, y_train, x_val, y_val)\n",
    "\n"
   ]
  },
  {
   "cell_type": "code",
   "execution_count": 8,
   "metadata": {},
   "outputs": [
    {
     "name": "stdout",
     "output_type": "stream",
     "text": [
      "x.shape: (1, 500)\n",
      "y.shape: (500,)\n",
      "x_train.shape:  (2, 800)\n",
      "x_val.shape:  (2, 200)\n",
      "y_train.shape:  (800,)\n",
      "y_val.shape:  (200,)\n",
      "Population is creating with a size:  100\n",
      "Population has created.\n",
      "Individual fitness values are assigning\n",
      " Population size: 69\n",
      "Population mean fitness: 9.757507581658523e+256\n",
      "Population mean complexity: 244.85507246376812\n",
      "Top 1: Fitness = 0.0000 Fitness_val = 0.0000 Genome = sin(x[0])\n",
      "Top 2: Fitness = 0.0548 Fitness_val = 0.0502 Genome = tan(x[0])\n",
      "Top 3: Fitness = 0.2550 Fitness_val = 0.2518 Genome = (x[0] - x[0])\n",
      "Top 4: Fitness = 0.2550 Fitness_val = 0.2523 Genome = ((sin(abs((x[0] - [0.90868873]))) * tan((([-1.93671622] / x[0]) - cos([1.66923625])))) * abs(log(cos(log([0.97654505])))))\n",
      "Top 5: Fitness = 0.2708 Fitness_val = 0.2729 Genome = abs([0.1043224])\n"
     ]
    },
    {
     "name": "stderr",
     "output_type": "stream",
     "text": [
      "  2%|▎         | 15/600 [00:08<03:59,  2.44it/s]"
     ]
    },
    {
     "name": "stdout",
     "output_type": "stream",
     "text": [
      "Initial: 517, Deduplicated: 328, Operation simplified: 0, Constant: 103, Complex: 24, Final: 62\n",
      "Population mean complexity: 26.677419354838708\n",
      "Population mean fitness: 253.869982974211\n",
      "\n",
      "0. Fitness: 0.0000, Fitness_val = 0.0000, Genome: sin(x[0]), Age: 0, Complexity: 8\n",
      "1. Fitness: 0.0016, Fitness_val = 0.0015, Genome: sin(sin(x[0])), Age: 0, Complexity: 36\n",
      "2. Fitness: 0.0033, Fitness_val = 0.0031, Genome: x[0], Age: 0, Complexity: 1\n",
      "3. Fitness: 0.0548, Fitness_val = 0.0502, Genome: tan(x[0]), Age: 15, Complexity: 8\n",
      "4. Fitness: 0.0605, Fitness_val = 0.0573, Genome: (sin(x[0]) + log(cos(x[0]))), Age: 11, Complexity: 54\n"
     ]
    },
    {
     "name": "stderr",
     "output_type": "stream",
     "text": [
      "  5%|▍         | 29/600 [00:15<03:12,  2.96it/s]"
     ]
    },
    {
     "name": "stdout",
     "output_type": "stream",
     "text": [
      "Initial: 441, Deduplicated: 303, Operation simplified: 0, Constant: 71, Complex: 5, Final: 62\n",
      "Population mean complexity: 28.5\n",
      "Population mean fitness: 30.7245468536767\n",
      "\n",
      "0. Fitness: 0.0000, Fitness_val = 0.0000, Genome: sin(x[0]), Age: 0, Complexity: 8\n",
      "1. Fitness: 0.0016, Fitness_val = 0.0015, Genome: sin(sin(x[0])), Age: 0, Complexity: 36\n",
      "2. Fitness: 0.0033, Fitness_val = 0.0031, Genome: x[0], Age: 0, Complexity: 1\n",
      "3. Fitness: 0.0699, Fitness_val = 0.0715, Genome: sin((sin(x[0]) + x[0])), Age: 13, Complexity: 44\n",
      "4. Fitness: 0.0718, Fitness_val = 0.0737, Genome: sin((x[0] + x[0])), Age: 8, Complexity: 16\n",
      "Generation 29: Mean fitness 30.724546853676703\n"
     ]
    },
    {
     "name": "stderr",
     "output_type": "stream",
     "text": [
      "  5%|▍         | 29/600 [00:27<08:55,  1.07it/s]\n"
     ]
    },
    {
     "ename": "KeyboardInterrupt",
     "evalue": "",
     "output_type": "error",
     "traceback": [
      "\u001b[1;31m---------------------------------------------------------------------------\u001b[0m",
      "\u001b[1;31mKeyboardInterrupt\u001b[0m                         Traceback (most recent call last)",
      "Cell \u001b[1;32mIn[8], line 11\u001b[0m\n\u001b[0;32m      9\u001b[0m \u001b[38;5;28mprint\u001b[39m(\u001b[38;5;124m\"\u001b[39m\u001b[38;5;124my_val.shape: \u001b[39m\u001b[38;5;124m\"\u001b[39m, y_val\u001b[38;5;241m.\u001b[39mshape)\n\u001b[0;32m     10\u001b[0m x_train, y_train, x_val, y_val \u001b[38;5;241m=\u001b[39m split_dataset(x,y,\u001b[38;5;241m0.8\u001b[39m)\n\u001b[1;32m---> 11\u001b[0m my_pop_1 \u001b[38;5;241m=\u001b[39m \u001b[43mevolve\u001b[49m\u001b[43m(\u001b[49m\u001b[43mx_train\u001b[49m\u001b[43m,\u001b[49m\u001b[43my_train\u001b[49m\u001b[43m,\u001b[49m\u001b[43mx_val\u001b[49m\u001b[43m,\u001b[49m\u001b[43my_val\u001b[49m\u001b[43m)\u001b[49m\n",
      "Cell \u001b[1;32mIn[7], line 123\u001b[0m, in \u001b[0;36mevolve\u001b[1;34m(train_x, train_y, val_x, val_y)\u001b[0m\n\u001b[0;32m    121\u001b[0m \u001b[38;5;28mprint\u001b[39m(\u001b[38;5;124mf\u001b[39m\u001b[38;5;124m\"\u001b[39m\u001b[38;5;124mGeneration \u001b[39m\u001b[38;5;132;01m{\u001b[39;00mgeneration\u001b[38;5;132;01m}\u001b[39;00m\u001b[38;5;124m: Mean fitness \u001b[39m\u001b[38;5;132;01m{\u001b[39;00mcalculate_mean_fitness(my_population)\u001b[38;5;132;01m}\u001b[39;00m\u001b[38;5;124m\"\u001b[39m)\n\u001b[0;32m    122\u001b[0m \u001b[38;5;28;01mfor\u001b[39;00m ind \u001b[38;5;129;01min\u001b[39;00m \u001b[38;5;28mrange\u001b[39m(\u001b[38;5;28mlen\u001b[39m(my_population)):\n\u001b[1;32m--> 123\u001b[0m     stronger_inv \u001b[38;5;241m=\u001b[39m \u001b[43mfit_constants\u001b[49m\u001b[43m(\u001b[49m\u001b[43mmy_population\u001b[49m\u001b[43m[\u001b[49m\u001b[43mind\u001b[49m\u001b[43m]\u001b[49m\u001b[43m,\u001b[49m\u001b[43mCONSTANT_FIT_ITERATION\u001b[49m\u001b[43m,\u001b[49m\u001b[43m \u001b[49m\u001b[43mtrain_x\u001b[49m\u001b[43m,\u001b[49m\u001b[43m \u001b[49m\u001b[43mtrain_y\u001b[49m\u001b[43m)\u001b[49m\n\u001b[0;32m    124\u001b[0m     my_population[ind] \u001b[38;5;241m=\u001b[39m stronger_inv\n\u001b[0;32m    125\u001b[0m assign_population_fitness_val(my_population,val_x,val_y)\n",
      "File \u001b[1;32mc:\\Users\\abayr\\OneDrive\\Desktop\\Computational_Intelligence\\Projects\\CI_project_draft\\src\\utils.py:428\u001b[0m, in \u001b[0;36mfit_constants\u001b[1;34m(individual, iter, x, y)\u001b[0m\n\u001b[0;32m    426\u001b[0m \u001b[38;5;28;01mfor\u001b[39;00m _ \u001b[38;5;129;01min\u001b[39;00m \u001b[38;5;28mrange\u001b[39m(\u001b[38;5;28miter\u001b[39m):\n\u001b[0;32m    427\u001b[0m     \u001b[38;5;28;01mif\u001b[39;00m individual\u001b[38;5;241m.\u001b[39mgenome\u001b[38;5;241m.\u001b[39mcomplexity \u001b[38;5;241m!=\u001b[39m \u001b[38;5;241m1\u001b[39m:\n\u001b[1;32m--> 428\u001b[0m         child, success \u001b[38;5;241m=\u001b[39m \u001b[43mmutation_w_sa\u001b[49m\u001b[43m(\u001b[49m\u001b[43mindividual\u001b[49m\u001b[43m,\u001b[49m\u001b[43m \u001b[49m\u001b[43mx\u001b[49m\u001b[38;5;241;43m.\u001b[39;49m\u001b[43mshape\u001b[49m\u001b[43m[\u001b[49m\u001b[38;5;241;43m1\u001b[39;49m\u001b[43m]\u001b[49m\u001b[43m,\u001b[49m\u001b[43mx\u001b[49m\u001b[43m,\u001b[49m\u001b[43my\u001b[49m\u001b[43m,\u001b[49m\u001b[43m \u001b[49m\u001b[43mONLY_CONSTANT\u001b[49m\u001b[38;5;241;43m=\u001b[39;49m\u001b[38;5;28;43;01mTrue\u001b[39;49;00m\u001b[43m)\u001b[49m\n\u001b[0;32m    429\u001b[0m         \u001b[38;5;28;01mif\u001b[39;00m success:\n\u001b[0;32m    430\u001b[0m             child\u001b[38;5;241m.\u001b[39mT \u001b[38;5;241m=\u001b[39m individual\u001b[38;5;241m.\u001b[39mT\n",
      "File \u001b[1;32mc:\\Users\\abayr\\OneDrive\\Desktop\\Computational_Intelligence\\Projects\\CI_project_draft\\src\\utils.py:399\u001b[0m, in \u001b[0;36mmutation_w_sa\u001b[1;34m(individual, feature_count, x, y, ONLY_CONSTANT, alpha)\u001b[0m\n\u001b[0;32m    397\u001b[0m \u001b[38;5;28;01mwith\u001b[39;00m warnings\u001b[38;5;241m.\u001b[39mcatch_warnings(record\u001b[38;5;241m=\u001b[39m\u001b[38;5;28;01mTrue\u001b[39;00m) \u001b[38;5;28;01mas\u001b[39;00m w:\n\u001b[0;32m    398\u001b[0m         warnings\u001b[38;5;241m.\u001b[39msimplefilter(\u001b[38;5;124m\"\u001b[39m\u001b[38;5;124malways\u001b[39m\u001b[38;5;124m\"\u001b[39m)\n\u001b[1;32m--> 399\u001b[0m         ind_cost \u001b[38;5;241m=\u001b[39m \u001b[43mcost\u001b[49m\u001b[43m(\u001b[49m\u001b[43mchild\u001b[49m\u001b[38;5;241;43m.\u001b[39;49m\u001b[43mgenome\u001b[49m\u001b[43m,\u001b[49m\u001b[43mx\u001b[49m\u001b[43m,\u001b[49m\u001b[43my\u001b[49m\u001b[43m)\u001b[49m\n\u001b[0;32m    400\u001b[0m         \u001b[38;5;28;01mif\u001b[39;00m \u001b[38;5;28mlen\u001b[39m(w) \u001b[38;5;241m==\u001b[39m \u001b[38;5;241m0\u001b[39m:\n\u001b[0;32m    401\u001b[0m             child\u001b[38;5;241m.\u001b[39mfitness \u001b[38;5;241m=\u001b[39m ind_cost\n",
      "File \u001b[1;32mc:\\Users\\abayr\\OneDrive\\Desktop\\Computational_Intelligence\\Projects\\CI_project_draft\\src\\utils.py:226\u001b[0m, in \u001b[0;36mcost\u001b[1;34m(genome, x, y)\u001b[0m\n\u001b[0;32m    225\u001b[0m \u001b[38;5;28;01mdef\u001b[39;00m \u001b[38;5;21mcost\u001b[39m(genome,x,y):\n\u001b[1;32m--> 226\u001b[0m     predictions \u001b[38;5;241m=\u001b[39m np\u001b[38;5;241m.\u001b[39marray([genome\u001b[38;5;241m.\u001b[39mevaluate(x[:, i]) \u001b[38;5;28;01mfor\u001b[39;00m i \u001b[38;5;129;01min\u001b[39;00m \u001b[38;5;28mrange\u001b[39m(x\u001b[38;5;241m.\u001b[39mshape[\u001b[38;5;241m1\u001b[39m])])\n\u001b[0;32m    227\u001b[0m     mse \u001b[38;5;241m=\u001b[39m np\u001b[38;5;241m.\u001b[39mmean((predictions \u001b[38;5;241m-\u001b[39m y) \u001b[38;5;241m*\u001b[39m\u001b[38;5;241m*\u001b[39m \u001b[38;5;241m2\u001b[39m)\n\u001b[0;32m    228\u001b[0m     \u001b[38;5;28;01mreturn\u001b[39;00m mse\n",
      "File \u001b[1;32mc:\\Users\\abayr\\OneDrive\\Desktop\\Computational_Intelligence\\Projects\\CI_project_draft\\src\\utils.py:226\u001b[0m, in \u001b[0;36m<listcomp>\u001b[1;34m(.0)\u001b[0m\n\u001b[0;32m    225\u001b[0m \u001b[38;5;28;01mdef\u001b[39;00m \u001b[38;5;21mcost\u001b[39m(genome,x,y):\n\u001b[1;32m--> 226\u001b[0m     predictions \u001b[38;5;241m=\u001b[39m np\u001b[38;5;241m.\u001b[39marray([\u001b[43mgenome\u001b[49m\u001b[38;5;241;43m.\u001b[39;49m\u001b[43mevaluate\u001b[49m\u001b[43m(\u001b[49m\u001b[43mx\u001b[49m\u001b[43m[\u001b[49m\u001b[43m:\u001b[49m\u001b[43m,\u001b[49m\u001b[43m \u001b[49m\u001b[43mi\u001b[49m\u001b[43m]\u001b[49m\u001b[43m)\u001b[49m \u001b[38;5;28;01mfor\u001b[39;00m i \u001b[38;5;129;01min\u001b[39;00m \u001b[38;5;28mrange\u001b[39m(x\u001b[38;5;241m.\u001b[39mshape[\u001b[38;5;241m1\u001b[39m])])\n\u001b[0;32m    227\u001b[0m     mse \u001b[38;5;241m=\u001b[39m np\u001b[38;5;241m.\u001b[39mmean((predictions \u001b[38;5;241m-\u001b[39m y) \u001b[38;5;241m*\u001b[39m\u001b[38;5;241m*\u001b[39m \u001b[38;5;241m2\u001b[39m)\n\u001b[0;32m    228\u001b[0m     \u001b[38;5;28;01mreturn\u001b[39;00m mse\n",
      "File \u001b[1;32mc:\\Users\\abayr\\OneDrive\\Desktop\\Computational_Intelligence\\Projects\\CI_project_draft\\src\\node.py:103\u001b[0m, in \u001b[0;36mNode.evaluate\u001b[1;34m(self, x)\u001b[0m\n\u001b[0;32m    101\u001b[0m \u001b[38;5;66;03m# if it is an operator\u001b[39;00m\n\u001b[0;32m    102\u001b[0m \u001b[38;5;28;01mif\u001b[39;00m \u001b[38;5;28mself\u001b[39m\u001b[38;5;241m.\u001b[39mvalue \u001b[38;5;129;01min\u001b[39;00m \u001b[38;5;28mself\u001b[39m\u001b[38;5;241m.\u001b[39munary_operators:\n\u001b[1;32m--> 103\u001b[0m     operand_value \u001b[38;5;241m=\u001b[39m \u001b[38;5;28;43mself\u001b[39;49m\u001b[38;5;241;43m.\u001b[39;49m\u001b[43mleft\u001b[49m\u001b[38;5;241;43m.\u001b[39;49m\u001b[43mevaluate\u001b[49m\u001b[43m(\u001b[49m\u001b[43mx\u001b[49m\u001b[43m)\u001b[49m\n\u001b[0;32m    104\u001b[0m     \u001b[38;5;66;03m#print(\"tek\",operand_value)\u001b[39;00m\n\u001b[0;32m    105\u001b[0m     \u001b[38;5;28;01mreturn\u001b[39;00m \u001b[38;5;28mself\u001b[39m\u001b[38;5;241m.\u001b[39mvalue(operand_value)\n",
      "File \u001b[1;32mc:\\Users\\abayr\\OneDrive\\Desktop\\Computational_Intelligence\\Projects\\CI_project_draft\\src\\node.py:103\u001b[0m, in \u001b[0;36mNode.evaluate\u001b[1;34m(self, x)\u001b[0m\n\u001b[0;32m    101\u001b[0m \u001b[38;5;66;03m# if it is an operator\u001b[39;00m\n\u001b[0;32m    102\u001b[0m \u001b[38;5;28;01mif\u001b[39;00m \u001b[38;5;28mself\u001b[39m\u001b[38;5;241m.\u001b[39mvalue \u001b[38;5;129;01min\u001b[39;00m \u001b[38;5;28mself\u001b[39m\u001b[38;5;241m.\u001b[39munary_operators:\n\u001b[1;32m--> 103\u001b[0m     operand_value \u001b[38;5;241m=\u001b[39m \u001b[38;5;28;43mself\u001b[39;49m\u001b[38;5;241;43m.\u001b[39;49m\u001b[43mleft\u001b[49m\u001b[38;5;241;43m.\u001b[39;49m\u001b[43mevaluate\u001b[49m\u001b[43m(\u001b[49m\u001b[43mx\u001b[49m\u001b[43m)\u001b[49m\n\u001b[0;32m    104\u001b[0m     \u001b[38;5;66;03m#print(\"tek\",operand_value)\u001b[39;00m\n\u001b[0;32m    105\u001b[0m     \u001b[38;5;28;01mreturn\u001b[39;00m \u001b[38;5;28mself\u001b[39m\u001b[38;5;241m.\u001b[39mvalue(operand_value)\n",
      "\u001b[1;31mKeyboardInterrupt\u001b[0m: "
     ]
    }
   ],
   "source": [
    "\n",
    "problem = np.load(\"data/problem_1.npz\")\n",
    "x = problem[\"x\"]\n",
    "y = problem[\"y\"]\n",
    "print(\"x.shape:\", x.shape)\n",
    "print(\"y.shape:\", y.shape)\n",
    "print(\"x_train.shape: \", x_train.shape)\n",
    "print(\"x_val.shape: \", x_val.shape)\n",
    "print(\"y_train.shape: \", y_train.shape)\n",
    "print(\"y_val.shape: \", y_val.shape)\n",
    "x_train, y_train, x_val, y_val = split_dataset(x,y,0.8)\n",
    "my_pop_1 = evolve(x_train,y_train,x_val,y_val)\n"
   ]
  },
  {
   "cell_type": "code",
   "execution_count": null,
   "metadata": {},
   "outputs": [
    {
     "name": "stdout",
     "output_type": "stream",
     "text": [
      "x.shape: (3, 5000)\n",
      "y.shape: (5000,)\n",
      "x_train.shape:  (1, 400)\n",
      "x_val.shape:  (1, 100)\n",
      "y_train.shape:  (400,)\n",
      "y_val.shape:  (100,)\n",
      "Population is creating with a size:  100\n",
      "Population has created.\n",
      "Individual fitness values are assigning\n",
      " Population size: 66\n",
      "Population mean fitness: 29524810111923.305\n",
      "Population mean complexity: 162.83333333333334\n",
      "Top 1: Fitness = 29524701472459.5430 Fitness_val = 29985551587121.1367 Genome = exp(x[0])\n",
      "Top 2: Fitness = 29524783331679.5039 Fitness_val = 29985631766254.0078 Genome = exp(x[1])\n",
      "Top 3: Fitness = 29524780499453.8164 Fitness_val = 29985634520632.1758 Genome = exp(x[2])\n",
      "Top 4: Fitness = 29524823299209.3594 Fitness_val = 29985648160356.5430 Genome = tan((exp(cos(cos(x[1]))) / (sin(cos(x[0])) + ((x[1] / x[2]) * cos(x[2])))))\n",
      "Top 5: Fitness = 29524790345413.5977 Fitness_val = 29985654002376.6484 Genome = (x[0] + x[2])\n"
     ]
    },
    {
     "name": "stderr",
     "output_type": "stream",
     "text": [
      "  0%|          | 3/600 [00:43<2:22:07, 14.28s/it]"
     ]
    },
    {
     "name": "stdout",
     "output_type": "stream",
     "text": [
      "New best result found: Individual(genome=(([-1.61456221] + exp((log([0.38027449]) - ([1.0602722] * x[2])))) / exp(x[2])), fitness=np.float64(29524789830885.04), fitness_val=np.float64(29985488721454.3), age=0, T=1)\n"
     ]
    },
    {
     "name": "stderr",
     "output_type": "stream",
     "text": [
      "  2%|▏         | 12/600 [01:46<57:36,  5.88s/it] "
     ]
    },
    {
     "name": "stdout",
     "output_type": "stream",
     "text": [
      "New best result found: Individual(genome=(([-1.61456221] + exp(([0.61712626] - ([1.0602722] * x[2])))) / exp(x[2])), fitness=np.float64(29524754803028.957), fitness_val=np.float64(29984779310023.16), age=0, T=1)\n"
     ]
    },
    {
     "name": "stderr",
     "output_type": "stream",
     "text": [
      "  2%|▏         | 13/600 [01:52<57:26,  5.87s/it]"
     ]
    },
    {
     "name": "stdout",
     "output_type": "stream",
     "text": [
      "New best result found: Individual(genome=(x[2] + exp((x[0] + x[0]))), fitness=np.float64(29516861425659.258), fitness_val=np.float64(29975970146091.664), age=0, T=1)\n"
     ]
    },
    {
     "name": "stderr",
     "output_type": "stream",
     "text": [
      "  2%|▎         | 15/600 [01:56<39:34,  4.06s/it]"
     ]
    },
    {
     "name": "stdout",
     "output_type": "stream",
     "text": [
      "New best result found: Individual(genome=(x[0] + exp((x[0] + x[0]))), fitness=np.float64(29516847225458.496), fitness_val=np.float64(29975955661453.027), age=0, T=1)\n",
      "Initial: 588, Deduplicated: 330, Operation simplified: 0, Constant: 116, Complex: 40, Final: 102\n",
      "Population mean complexity: 18.441176470588236\n",
      "Population mean fitness: 7.355822100420346e+127\n",
      "\n",
      "0. Fitness: 29516847225458.4961, Fitness_val = 29975955661453.0273, Genome: (x[0] + exp((x[0] + x[0]))), Age: 0, Complexity: 22\n",
      "1. Fitness: 29516861425659.2578, Fitness_val = 29975970146091.6641, Genome: (x[2] + exp((x[0] + x[0]))), Age: 0, Complexity: 22\n",
      "2. Fitness: 29516865959254.4883, Fitness_val = 29975974610291.0469, Genome: exp((x[0] + x[0])), Age: 0, Complexity: 20\n",
      "3. Fitness: 29524754803028.9570, Fitness_val = 29984779310023.1602, Genome: (([-1.61456221] + exp(([0.61712626] - ([1.0602722] * x[2])))) / exp(x[2])), Age: 1, Complexity: 43\n",
      "4. Fitness: 29524416932985.1523, Fitness_val = 29984911673668.9844, Genome: (x[2] + exp((x[0] + x[1]))), Age: 0, Complexity: 22\n"
     ]
    },
    {
     "name": "stderr",
     "output_type": "stream",
     "text": [
      "  3%|▎         | 16/600 [02:02<45:22,  4.66s/it]"
     ]
    },
    {
     "name": "stdout",
     "output_type": "stream",
     "text": [
      "New best result found: Individual(genome=exp((x[0] + (x[0] + x[0]))), fitness=np.float64(28917327312487.477), fitness_val=np.float64(29286225920890.188), age=0, T=1)\n"
     ]
    },
    {
     "name": "stderr",
     "output_type": "stream",
     "text": [
      "  3%|▎         | 18/600 [02:19<1:04:47,  6.68s/it]"
     ]
    },
    {
     "name": "stdout",
     "output_type": "stream",
     "text": [
      "New best result found: Individual(genome=(exp((x[0] + (x[0] + x[0]))) + x[0]), fitness=np.float64(28917309464735.152), fitness_val=np.float64(29286208382535.098), age=0, T=1)\n"
     ]
    },
    {
     "name": "stderr",
     "output_type": "stream",
     "text": [
      "  4%|▍         | 26/600 [03:09<58:28,  6.11s/it]  "
     ]
    },
    {
     "name": "stdout",
     "output_type": "stream",
     "text": [
      "New best result found: Individual(genome=(exp((x[0] + x[0])) + exp((x[0] + (x[0] + x[0])))), fitness=np.float64(28911820829185.07), fitness_val=np.float64(29280966805946.332), age=0, T=1)\n"
     ]
    },
    {
     "name": "stderr",
     "output_type": "stream",
     "text": [
      "  4%|▍         | 27/600 [03:16<1:00:14,  6.31s/it]"
     ]
    }
   ],
   "source": [
    "problem = np.load(\"data/problem_2.npz\")\n",
    "x = problem[\"x\"]\n",
    "y = problem[\"y\"]\n",
    "print(\"x.shape:\", x.shape)\n",
    "print(\"y.shape:\", y.shape)\n",
    "print(\"x_train.shape: \", x_train.shape)\n",
    "print(\"x_val.shape: \", x_val.shape)\n",
    "print(\"y_train.shape: \", y_train.shape)\n",
    "print(\"y_val.shape: \", y_val.shape)\n",
    "x_train, y_train, x_val, y_val = split_dataset(x,y,0.8)\n",
    "my_pop_2 = evolve(x_train,y_train,x_val,y_val)"
   ]
  },
  {
   "cell_type": "code",
   "execution_count": null,
   "metadata": {},
   "outputs": [],
   "source": [
    "try:\n",
    "    problem = np.load(\"data/problem_3.npz\")\n",
    "    x = problem[\"x\"]\n",
    "    y = problem[\"y\"]\n",
    "    print(\"x.shape:\", x.shape)\n",
    "    print(\"y.shape:\", y.shape)\n",
    "    my_pop_3 = evolve(x,y)\n",
    "except: \n",
    "    print(\"ERROR\")"
   ]
  },
  {
   "cell_type": "code",
   "execution_count": null,
   "metadata": {},
   "outputs": [],
   "source": [
    "try:\n",
    "    problem = np.load(\"data/problem_4.npz\")\n",
    "    x = problem[\"x\"]\n",
    "    y = problem[\"y\"]\n",
    "    print(\"x.shape:\", x.shape)\n",
    "    print(\"y.shape:\", y.shape)\n",
    "    my_pop_4 = evolve(x,y)\n",
    "except: \n",
    "    print(\"ERROR\")"
   ]
  },
  {
   "cell_type": "code",
   "execution_count": null,
   "metadata": {},
   "outputs": [],
   "source": [
    "try:\n",
    "    problem = np.load(\"data/problem_5.npz\")\n",
    "    x = problem[\"x\"]\n",
    "    y = problem[\"y\"]\n",
    "    print(\"x.shape:\", x.shape)\n",
    "    print(\"y.shape:\", y.shape)\n",
    "    my_pop_5 = evolve(x,y)\n",
    "except: \n",
    "    print(\"ERROR\")"
   ]
  },
  {
   "cell_type": "code",
   "execution_count": null,
   "metadata": {},
   "outputs": [],
   "source": [
    "try:\n",
    "    problem = np.load(\"data/problem_6.npz\")\n",
    "    x = problem[\"x\"]\n",
    "    y = problem[\"y\"]\n",
    "    print(\"x.shape:\", x.shape)\n",
    "    print(\"y.shape:\", y.shape)\n",
    "    my_pop_6 = evolve(x,y)\n",
    "except: \n",
    "    print(\"ERROR\")"
   ]
  },
  {
   "cell_type": "code",
   "execution_count": null,
   "metadata": {},
   "outputs": [],
   "source": [
    "try:\n",
    "    problem = np.load(\"data/problem_7.npz\")\n",
    "    x = problem[\"x\"]\n",
    "    y = problem[\"y\"]\n",
    "    print(\"x.shape:\", x.shape)\n",
    "    print(\"y.shape:\", y.shape)\n",
    "    my_pop_7 = evolve(x,y)\n",
    "except: \n",
    "    print(\"ERROR\")"
   ]
  },
  {
   "cell_type": "code",
   "execution_count": null,
   "metadata": {},
   "outputs": [],
   "source": [
    "try:\n",
    "    problem = np.load(\"data/problem_8.npz\")\n",
    "    x = problem[\"x\"]\n",
    "    y = problem[\"y\"]\n",
    "    print(\"x.shape:\", x.shape)\n",
    "    print(\"y.shape:\", y.shape)\n",
    "    my_pop_8 = evolve(x,y)\n",
    "except: \n",
    "    print(\"ERROR\")"
   ]
  },
  {
   "cell_type": "code",
   "execution_count": null,
   "metadata": {},
   "outputs": [],
   "source": []
  },
  {
   "cell_type": "code",
   "execution_count": null,
   "metadata": {},
   "outputs": [],
   "source": []
  }
 ],
 "metadata": {
  "kernelspec": {
   "display_name": "Python 3",
   "language": "python",
   "name": "python3"
  },
  "language_info": {
   "codemirror_mode": {
    "name": "ipython",
    "version": 3
   },
   "file_extension": ".py",
   "mimetype": "text/x-python",
   "name": "python",
   "nbconvert_exporter": "python",
   "pygments_lexer": "ipython3",
   "version": "3.10.0"
  }
 },
 "nbformat": 4,
 "nbformat_minor": 2
}
