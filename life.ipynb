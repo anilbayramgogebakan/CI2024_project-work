{
 "cells": [
  {
   "cell_type": "code",
   "execution_count": 1,
   "metadata": {},
   "outputs": [],
   "source": [
    "import numpy as np\n",
    "from src.utils import *\n",
    "from tqdm import tqdm\n",
    "\n",
    "operators=[np.add, np.subtract, np.multiply, np.sin, np.cos, np.exp]\n",
    "one_arg_op=[np.sin, np.cos, np.exp]"
   ]
  },
  {
   "cell_type": "code",
   "execution_count": 11,
   "metadata": {},
   "outputs": [
    {
     "name": "stdout",
     "output_type": "stream",
     "text": [
      "x.shape: (2, 1000)\n",
      "y.shape: (1000,)\n"
     ]
    }
   ],
   "source": [
    "problem_0 = np.load(\"data/problem_0.npz\")\n",
    "x = problem_0[\"x\"]\n",
    "y = problem_0[\"y\"]\n",
    "print(\"x.shape:\", x.shape)\n",
    "print(\"y.shape:\", y.shape)"
   ]
  },
  {
   "cell_type": "code",
   "execution_count": 12,
   "metadata": {},
   "outputs": [],
   "source": [
    "NUM_POPULATION = 100\n",
    "my_population = create_population(NUM_POPULATION,4,x.shape[0])"
   ]
  },
  {
   "cell_type": "code",
   "execution_count": 13,
   "metadata": {},
   "outputs": [
    {
     "name": "stdout",
     "output_type": "stream",
     "text": [
      "100\n",
      "Cost population:  1.3891317850204529e+19\n",
      "Best cost:  0.21878415413758193\n"
     ]
    }
   ],
   "source": [
    "cost_pop = cost_population(my_population,x,y)\n",
    "print(len(my_population))\n",
    "print(\"Cost population: \", cost_pop.mean())\n",
    "print(\"Best cost: \", cost_pop.min())"
   ]
  },
  {
   "cell_type": "code",
   "execution_count": 14,
   "metadata": {},
   "outputs": [
    {
     "name": "stdout",
     "output_type": "stream",
     "text": [
      "Best individual:  (x[1] + x[0])\n"
     ]
    }
   ],
   "source": [
    "min_index = np.argmin(cost_pop)\n",
    "print(\"Best individual: \", my_population[min_index])"
   ]
  },
  {
   "cell_type": "code",
   "execution_count": 15,
   "metadata": {},
   "outputs": [
    {
     "name": "stderr",
     "output_type": "stream",
     "text": [
      "100%|██████████| 100/100 [01:49<00:00,  1.10s/it]\n"
     ]
    }
   ],
   "source": [
    "NUM_GENERATIONS = 100\n",
    "operators=[np.add, np.subtract, np.multiply, np.sin, np.cos, np.exp]\n",
    "one_arg_op=[np.sin, np.cos, np.exp]\n",
    "XOVER = 0.5\n",
    "MUTATION = 0.5\n",
    "\n",
    "for _ in tqdm(range(NUM_GENERATIONS)):\n",
    "    cost_pop = cost_population(my_population,x,y)\n",
    "    best_ind, worst_ind = tournament_selection(cost_pop,15)\n",
    "    \n",
    "    while len(my_population) + len(worst_ind) <= NUM_POPULATION:\n",
    "        if random.random() < XOVER:\n",
    "            # Xover the best individual and replace worst individuals\n",
    "            parent1 = my_population[best_ind[np.random.choice(len(best_ind))]]\n",
    "            parent2 = my_population[best_ind[np.random.choice(len(best_ind))]]\n",
    "            child1, child2 = crossover(parent1,parent2)\n",
    "            my_population.append(child1)\n",
    "            my_population.append(child2)\n",
    "\n",
    "        if random.random() < MUTATION:\n",
    "            # Mutate best individuals and replace worst individuals\n",
    "            parent = my_population[best_ind[np.random.choice(len(best_ind))]]\n",
    "            child = mutation(parent, x.shape[0])\n",
    "            my_population.append(child)\n",
    "    for ind in sorted(worst_ind, reverse=True):\n",
    "        del my_population[ind]\n",
    "    "
   ]
  },
  {
   "cell_type": "code",
   "execution_count": 16,
   "metadata": {},
   "outputs": [
    {
     "name": "stdout",
     "output_type": "stream",
     "text": [
      "my_population.shape: 72\n",
      "Cost population:  0.10580628606233737\n",
      "Best cost:  7.91561883182302e-06\n"
     ]
    }
   ],
   "source": [
    "print(\"my_population.shape:\", len(my_population))\n",
    "cost_pop = cost_population(my_population,x,y)\n",
    "print(\"Cost population: \", cost_pop.mean())\n",
    "print(\"Best cost: \", cost_pop.min())"
   ]
  },
  {
   "cell_type": "code",
   "execution_count": 17,
   "metadata": {},
   "outputs": [
    {
     "name": "stdout",
     "output_type": "stream",
     "text": [
      "Best individual:  ((sin(sin(sin((x[1] * exp(sin((7 - 9))))))) * exp(sin((exp(cos(sin((7 - 9)))) - 9)))) + x[0])\n"
     ]
    }
   ],
   "source": [
    "min_index = np.argmin(cost_pop)\n",
    "print(\"Best individual: \", my_population[min_index])"
   ]
  },
  {
   "cell_type": "code",
   "execution_count": 19,
   "metadata": {},
   "outputs": [
    {
     "name": "stdout",
     "output_type": "stream",
     "text": [
      "Individual:  ((sin(sin(sin((x[1] * exp(sin((7 - 9))))))) * exp(sin((exp(cos(sin((7 - 9)))) - 9)))) + x[0])\n",
      "Cost:  7.91561883182302e-06\n",
      "\n",
      "Individual:  ((sin(sin((x[1] * exp(sin((exp(sin(sin(7))) * 9)))))) * exp(sin((7 - [-0.15930227])))) + x[0])\n",
      "Cost:  7.076926543750189\n",
      "\n",
      "Individual:  ((sin(sin(sin((x[1] * exp(sin((7 - 9))))))) - exp(sin((exp(cos(sin((7 - 9)))) - 9)))) + x[0])\n",
      "Cost:  0.2313298967851252\n",
      "\n",
      "Individual:  ((sin(sin((x[1] * exp(sin((exp(sin(sin((7 - 9)))) - 9)))))) * exp(sin((7 - x[1])))) + x[0])\n",
      "Cost:  0.17492412415152084\n",
      "\n",
      "Individual:  ((sin(sin((x[1] * 7))) * exp(sin((7 - 9)))) + x[0])\n",
      "Cost:  0.08099923323090556\n",
      "\n",
      "Individual:  ((sin(sin((x[1] * exp(sin((exp(cos(sin(7))) * 9)))))) * exp(sin((7 - 9)))) + x[0])\n",
      "Cost:  0.030721768753360905\n",
      "\n",
      "Individual:  x[0]\n",
      "Cost:  0.01067566400550203\n",
      "\n",
      "Individual:  ((sin(sin(sin((x[1] * exp(sin((7 - 9))))))) * exp(sin((exp(cos(sin((7 - 9)))) - 9)))) + ((sin(sin((x[1] * exp(sin((exp(sin(sin(7))) - 9)))))) * exp(sin((7 - 9)))) + x[0]))\n",
      "Cost:  0.01029456948559199\n",
      "\n",
      "Individual:  ((sin(sin((x[1] * exp(sin((exp(sin(7)) * 9)))))) * exp(sin((7 - 9)))) + x[0])\n",
      "Cost:  0.0004371394912556\n",
      "\n",
      "Individual:  ((sin(sin((x[1] * exp(sin((cos(sin(sin(7))) - 9)))))) * exp(sin((7 - 9)))) + x[0])\n",
      "Cost:  0.0002887620255967752\n",
      "\n"
     ]
    }
   ],
   "source": [
    "# print the top 10 individuals witg lowest cost\n",
    "sorted_index = np.argsort(cost_pop)\n",
    "for i in range(10):\n",
    "    print(\"Individual: \", my_population[sorted_index[-i]])\n",
    "    print(\"Cost: \", cost_pop[sorted_index[-i]])\n",
    "    print(\"\")"
   ]
  },
  {
   "cell_type": "code",
   "execution_count": null,
   "metadata": {},
   "outputs": [],
   "source": []
  }
 ],
 "metadata": {
  "kernelspec": {
   "display_name": "ci",
   "language": "python",
   "name": "python3"
  },
  "language_info": {
   "codemirror_mode": {
    "name": "ipython",
    "version": 3
   },
   "file_extension": ".py",
   "mimetype": "text/x-python",
   "name": "python",
   "nbconvert_exporter": "python",
   "pygments_lexer": "ipython3",
   "version": "3.10.15"
  }
 },
 "nbformat": 4,
 "nbformat_minor": 2
}
