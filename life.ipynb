{
 "cells": [
  {
   "cell_type": "code",
   "execution_count": 1,
   "metadata": {},
   "outputs": [],
   "source": [
    "import numpy as np\n",
    "from src.utils import *\n",
    "from tqdm import tqdm\n",
    "\n",
    "# unary_operators=[np.sin, np.cos, np.exp, np.abs, np.log, np.tan]\n",
    "# binary_operators=[np.add, np.subtract, np.multiply, np.divide]\n",
    "\n",
    "\n",
    "unary_operators=[]\n",
    "binary_operators=[np.add, np.subtract, np.multiply, np.divide]\n",
    "\n",
    "operators = unary_operators + binary_operators"
   ]
  },
  {
   "cell_type": "code",
   "execution_count": 2,
   "metadata": {},
   "outputs": [
    {
     "name": "stdout",
     "output_type": "stream",
     "text": [
      "x.shape: (2, 5000)\n",
      "y.shape: (5000,)\n"
     ]
    }
   ],
   "source": [
    "problem_0 = np.load(\"data/problem_6.npz\")\n",
    "x = problem_0[\"x\"]\n",
    "y = problem_0[\"y\"]\n",
    "print(\"x.shape:\", x.shape)\n",
    "print(\"y.shape:\", y.shape)"
   ]
  },
  {
   "cell_type": "code",
   "execution_count": 3,
   "metadata": {},
   "outputs": [
    {
     "ename": "KeyboardInterrupt",
     "evalue": "",
     "output_type": "error",
     "traceback": [
      "\u001b[1;31m---------------------------------------------------------------------------\u001b[0m",
      "\u001b[1;31mKeyboardInterrupt\u001b[0m                         Traceback (most recent call last)",
      "Cell \u001b[1;32mIn[3], line 17\u001b[0m\n\u001b[0;32m     14\u001b[0m CONSTANT_FIT_ITERATION \u001b[38;5;241m=\u001b[39m \u001b[38;5;241m7\u001b[39m\n\u001b[0;32m     16\u001b[0m my_population \u001b[38;5;241m=\u001b[39m create_population(NUM_POPULATION,MAX_DEPTH_INITIAL,x\u001b[38;5;241m.\u001b[39mshape[\u001b[38;5;241m0\u001b[39m])\n\u001b[1;32m---> 17\u001b[0m \u001b[43massign_population_fitness\u001b[49m\u001b[43m(\u001b[49m\u001b[43mmy_population\u001b[49m\u001b[43m,\u001b[49m\u001b[43mx\u001b[49m\u001b[43m,\u001b[49m\u001b[43my\u001b[49m\u001b[43m)\u001b[49m\n\u001b[0;32m     18\u001b[0m \u001b[38;5;28mprint\u001b[39m(\u001b[38;5;124mf\u001b[39m\u001b[38;5;124m\"\u001b[39m\u001b[38;5;124m Population size: \u001b[39m\u001b[38;5;132;01m{\u001b[39;00m\u001b[38;5;28mlen\u001b[39m(my_population)\u001b[38;5;132;01m}\u001b[39;00m\u001b[38;5;124m\"\u001b[39m)\n\u001b[0;32m     19\u001b[0m \u001b[38;5;28mprint\u001b[39m(\u001b[38;5;124mf\u001b[39m\u001b[38;5;124m\"\u001b[39m\u001b[38;5;124mPopulation mean fitness: \u001b[39m\u001b[38;5;132;01m{\u001b[39;00mcalculate_mean_fitness(my_population)\u001b[38;5;132;01m}\u001b[39;00m\u001b[38;5;124m\"\u001b[39m)\n",
      "File \u001b[1;32mc:\\Users\\abayr\\OneDrive\\Desktop\\Computational_Intelligence\\Projects\\CI_project_draft\\src\\utils.py:222\u001b[0m, in \u001b[0;36massign_population_fitness\u001b[1;34m(population, x, y)\u001b[0m\n\u001b[0;32m    219\u001b[0m warnings\u001b[38;5;241m.\u001b[39msimplefilter(\u001b[38;5;124m\"\u001b[39m\u001b[38;5;124malways\u001b[39m\u001b[38;5;124m\"\u001b[39m)\n\u001b[0;32m    221\u001b[0m \u001b[38;5;28;01mif\u001b[39;00m individual\u001b[38;5;241m.\u001b[39mfitness \u001b[38;5;129;01mis\u001b[39;00m \u001b[38;5;28;01mNone\u001b[39;00m:\n\u001b[1;32m--> 222\u001b[0m     ind_cost \u001b[38;5;241m=\u001b[39m \u001b[43mcost\u001b[49m\u001b[43m(\u001b[49m\u001b[43mindividual\u001b[49m\u001b[38;5;241;43m.\u001b[39;49m\u001b[43mgenome\u001b[49m\u001b[43m,\u001b[49m\u001b[43m \u001b[49m\u001b[43mx\u001b[49m\u001b[43m,\u001b[49m\u001b[43m \u001b[49m\u001b[43my\u001b[49m\u001b[43m)\u001b[49m\n\u001b[0;32m    223\u001b[0m     \u001b[38;5;28;01mif\u001b[39;00m \u001b[38;5;28mlen\u001b[39m(w) \u001b[38;5;241m==\u001b[39m \u001b[38;5;241m0\u001b[39m:\n\u001b[0;32m    224\u001b[0m         individual\u001b[38;5;241m.\u001b[39mfitness \u001b[38;5;241m=\u001b[39m ind_cost\n",
      "File \u001b[1;32mc:\\Users\\abayr\\OneDrive\\Desktop\\Computational_Intelligence\\Projects\\CI_project_draft\\src\\utils.py:203\u001b[0m, in \u001b[0;36mcost\u001b[1;34m(genome, x, y)\u001b[0m\n\u001b[0;32m    202\u001b[0m \u001b[38;5;28;01mdef\u001b[39;00m \u001b[38;5;21mcost\u001b[39m(genome,x,y):\n\u001b[1;32m--> 203\u001b[0m     predictions \u001b[38;5;241m=\u001b[39m np\u001b[38;5;241m.\u001b[39marray([genome\u001b[38;5;241m.\u001b[39mevaluate(x[:, i]) \u001b[38;5;28;01mfor\u001b[39;00m i \u001b[38;5;129;01min\u001b[39;00m \u001b[38;5;28mrange\u001b[39m(x\u001b[38;5;241m.\u001b[39mshape[\u001b[38;5;241m1\u001b[39m])])\n\u001b[0;32m    204\u001b[0m     mse \u001b[38;5;241m=\u001b[39m np\u001b[38;5;241m.\u001b[39mmean((predictions \u001b[38;5;241m-\u001b[39m y) \u001b[38;5;241m*\u001b[39m\u001b[38;5;241m*\u001b[39m \u001b[38;5;241m2\u001b[39m)\n\u001b[0;32m    205\u001b[0m     \u001b[38;5;28;01mreturn\u001b[39;00m mse\n",
      "File \u001b[1;32mc:\\Users\\abayr\\OneDrive\\Desktop\\Computational_Intelligence\\Projects\\CI_project_draft\\src\\utils.py:203\u001b[0m, in \u001b[0;36m<listcomp>\u001b[1;34m(.0)\u001b[0m\n\u001b[0;32m    202\u001b[0m \u001b[38;5;28;01mdef\u001b[39;00m \u001b[38;5;21mcost\u001b[39m(genome,x,y):\n\u001b[1;32m--> 203\u001b[0m     predictions \u001b[38;5;241m=\u001b[39m np\u001b[38;5;241m.\u001b[39marray([\u001b[43mgenome\u001b[49m\u001b[38;5;241;43m.\u001b[39;49m\u001b[43mevaluate\u001b[49m\u001b[43m(\u001b[49m\u001b[43mx\u001b[49m\u001b[43m[\u001b[49m\u001b[43m:\u001b[49m\u001b[43m,\u001b[49m\u001b[43m \u001b[49m\u001b[43mi\u001b[49m\u001b[43m]\u001b[49m\u001b[43m)\u001b[49m \u001b[38;5;28;01mfor\u001b[39;00m i \u001b[38;5;129;01min\u001b[39;00m \u001b[38;5;28mrange\u001b[39m(x\u001b[38;5;241m.\u001b[39mshape[\u001b[38;5;241m1\u001b[39m])])\n\u001b[0;32m    204\u001b[0m     mse \u001b[38;5;241m=\u001b[39m np\u001b[38;5;241m.\u001b[39mmean((predictions \u001b[38;5;241m-\u001b[39m y) \u001b[38;5;241m*\u001b[39m\u001b[38;5;241m*\u001b[39m \u001b[38;5;241m2\u001b[39m)\n\u001b[0;32m    205\u001b[0m     \u001b[38;5;28;01mreturn\u001b[39;00m mse\n",
      "File \u001b[1;32mc:\\Users\\abayr\\OneDrive\\Desktop\\Computational_Intelligence\\Projects\\CI_project_draft\\src\\node.py:107\u001b[0m, in \u001b[0;36mNode.evaluate\u001b[1;34m(self, x)\u001b[0m\n\u001b[0;32m    104\u001b[0m     \u001b[38;5;66;03m#print(\"tek\",operand_value)\u001b[39;00m\n\u001b[0;32m    105\u001b[0m     \u001b[38;5;28;01mreturn\u001b[39;00m \u001b[38;5;28mself\u001b[39m\u001b[38;5;241m.\u001b[39mvalue(operand_value)\n\u001b[1;32m--> 107\u001b[0m left_value \u001b[38;5;241m=\u001b[39m \u001b[38;5;28;43mself\u001b[39;49m\u001b[38;5;241;43m.\u001b[39;49m\u001b[43mleft\u001b[49m\u001b[38;5;241;43m.\u001b[39;49m\u001b[43mevaluate\u001b[49m\u001b[43m(\u001b[49m\u001b[43mx\u001b[49m\u001b[43m)\u001b[49m\n\u001b[0;32m    108\u001b[0m right_value \u001b[38;5;241m=\u001b[39m \u001b[38;5;28mself\u001b[39m\u001b[38;5;241m.\u001b[39mright\u001b[38;5;241m.\u001b[39mevaluate(x)\n\u001b[0;32m    109\u001b[0m \u001b[38;5;66;03m#print(left_value)\u001b[39;00m\n\u001b[0;32m    110\u001b[0m \u001b[38;5;66;03m#print(right_value)\u001b[39;00m\n",
      "File \u001b[1;32mc:\\Users\\abayr\\OneDrive\\Desktop\\Computational_Intelligence\\Projects\\CI_project_draft\\src\\node.py:108\u001b[0m, in \u001b[0;36mNode.evaluate\u001b[1;34m(self, x)\u001b[0m\n\u001b[0;32m    105\u001b[0m     \u001b[38;5;28;01mreturn\u001b[39;00m \u001b[38;5;28mself\u001b[39m\u001b[38;5;241m.\u001b[39mvalue(operand_value)\n\u001b[0;32m    107\u001b[0m left_value \u001b[38;5;241m=\u001b[39m \u001b[38;5;28mself\u001b[39m\u001b[38;5;241m.\u001b[39mleft\u001b[38;5;241m.\u001b[39mevaluate(x)\n\u001b[1;32m--> 108\u001b[0m right_value \u001b[38;5;241m=\u001b[39m \u001b[38;5;28;43mself\u001b[39;49m\u001b[38;5;241;43m.\u001b[39;49m\u001b[43mright\u001b[49m\u001b[38;5;241;43m.\u001b[39;49m\u001b[43mevaluate\u001b[49m\u001b[43m(\u001b[49m\u001b[43mx\u001b[49m\u001b[43m)\u001b[49m\n\u001b[0;32m    109\u001b[0m \u001b[38;5;66;03m#print(left_value)\u001b[39;00m\n\u001b[0;32m    110\u001b[0m \u001b[38;5;66;03m#print(right_value)\u001b[39;00m\n\u001b[0;32m    111\u001b[0m \u001b[38;5;28;01mreturn\u001b[39;00m \u001b[38;5;28mself\u001b[39m\u001b[38;5;241m.\u001b[39mvalue(left_value, right_value)\n",
      "File \u001b[1;32mc:\\Users\\abayr\\OneDrive\\Desktop\\Computational_Intelligence\\Projects\\CI_project_draft\\src\\node.py:107\u001b[0m, in \u001b[0;36mNode.evaluate\u001b[1;34m(self, x)\u001b[0m\n\u001b[0;32m    104\u001b[0m     \u001b[38;5;66;03m#print(\"tek\",operand_value)\u001b[39;00m\n\u001b[0;32m    105\u001b[0m     \u001b[38;5;28;01mreturn\u001b[39;00m \u001b[38;5;28mself\u001b[39m\u001b[38;5;241m.\u001b[39mvalue(operand_value)\n\u001b[1;32m--> 107\u001b[0m left_value \u001b[38;5;241m=\u001b[39m \u001b[38;5;28;43mself\u001b[39;49m\u001b[38;5;241;43m.\u001b[39;49m\u001b[43mleft\u001b[49m\u001b[38;5;241;43m.\u001b[39;49m\u001b[43mevaluate\u001b[49m\u001b[43m(\u001b[49m\u001b[43mx\u001b[49m\u001b[43m)\u001b[49m\n\u001b[0;32m    108\u001b[0m right_value \u001b[38;5;241m=\u001b[39m \u001b[38;5;28mself\u001b[39m\u001b[38;5;241m.\u001b[39mright\u001b[38;5;241m.\u001b[39mevaluate(x)\n\u001b[0;32m    109\u001b[0m \u001b[38;5;66;03m#print(left_value)\u001b[39;00m\n\u001b[0;32m    110\u001b[0m \u001b[38;5;66;03m#print(right_value)\u001b[39;00m\n",
      "File \u001b[1;32mc:\\Users\\abayr\\OneDrive\\Desktop\\Computational_Intelligence\\Projects\\CI_project_draft\\src\\node.py:107\u001b[0m, in \u001b[0;36mNode.evaluate\u001b[1;34m(self, x)\u001b[0m\n\u001b[0;32m    104\u001b[0m     \u001b[38;5;66;03m#print(\"tek\",operand_value)\u001b[39;00m\n\u001b[0;32m    105\u001b[0m     \u001b[38;5;28;01mreturn\u001b[39;00m \u001b[38;5;28mself\u001b[39m\u001b[38;5;241m.\u001b[39mvalue(operand_value)\n\u001b[1;32m--> 107\u001b[0m left_value \u001b[38;5;241m=\u001b[39m \u001b[38;5;28;43mself\u001b[39;49m\u001b[38;5;241;43m.\u001b[39;49m\u001b[43mleft\u001b[49m\u001b[38;5;241;43m.\u001b[39;49m\u001b[43mevaluate\u001b[49m\u001b[43m(\u001b[49m\u001b[43mx\u001b[49m\u001b[43m)\u001b[49m\n\u001b[0;32m    108\u001b[0m right_value \u001b[38;5;241m=\u001b[39m \u001b[38;5;28mself\u001b[39m\u001b[38;5;241m.\u001b[39mright\u001b[38;5;241m.\u001b[39mevaluate(x)\n\u001b[0;32m    109\u001b[0m \u001b[38;5;66;03m#print(left_value)\u001b[39;00m\n\u001b[0;32m    110\u001b[0m \u001b[38;5;66;03m#print(right_value)\u001b[39;00m\n",
      "File \u001b[1;32mc:\\Users\\abayr\\OneDrive\\Desktop\\Computational_Intelligence\\Projects\\CI_project_draft\\src\\node.py:107\u001b[0m, in \u001b[0;36mNode.evaluate\u001b[1;34m(self, x)\u001b[0m\n\u001b[0;32m    104\u001b[0m     \u001b[38;5;66;03m#print(\"tek\",operand_value)\u001b[39;00m\n\u001b[0;32m    105\u001b[0m     \u001b[38;5;28;01mreturn\u001b[39;00m \u001b[38;5;28mself\u001b[39m\u001b[38;5;241m.\u001b[39mvalue(operand_value)\n\u001b[1;32m--> 107\u001b[0m left_value \u001b[38;5;241m=\u001b[39m \u001b[38;5;28;43mself\u001b[39;49m\u001b[38;5;241;43m.\u001b[39;49m\u001b[43mleft\u001b[49m\u001b[38;5;241;43m.\u001b[39;49m\u001b[43mevaluate\u001b[49m\u001b[43m(\u001b[49m\u001b[43mx\u001b[49m\u001b[43m)\u001b[49m\n\u001b[0;32m    108\u001b[0m right_value \u001b[38;5;241m=\u001b[39m \u001b[38;5;28mself\u001b[39m\u001b[38;5;241m.\u001b[39mright\u001b[38;5;241m.\u001b[39mevaluate(x)\n\u001b[0;32m    109\u001b[0m \u001b[38;5;66;03m#print(left_value)\u001b[39;00m\n\u001b[0;32m    110\u001b[0m \u001b[38;5;66;03m#print(right_value)\u001b[39;00m\n",
      "File \u001b[1;32mc:\\Users\\abayr\\OneDrive\\Desktop\\Computational_Intelligence\\Projects\\CI_project_draft\\src\\node.py:108\u001b[0m, in \u001b[0;36mNode.evaluate\u001b[1;34m(self, x)\u001b[0m\n\u001b[0;32m    105\u001b[0m     \u001b[38;5;28;01mreturn\u001b[39;00m \u001b[38;5;28mself\u001b[39m\u001b[38;5;241m.\u001b[39mvalue(operand_value)\n\u001b[0;32m    107\u001b[0m left_value \u001b[38;5;241m=\u001b[39m \u001b[38;5;28mself\u001b[39m\u001b[38;5;241m.\u001b[39mleft\u001b[38;5;241m.\u001b[39mevaluate(x)\n\u001b[1;32m--> 108\u001b[0m right_value \u001b[38;5;241m=\u001b[39m \u001b[38;5;28;43mself\u001b[39;49m\u001b[38;5;241;43m.\u001b[39;49m\u001b[43mright\u001b[49m\u001b[38;5;241;43m.\u001b[39;49m\u001b[43mevaluate\u001b[49m\u001b[43m(\u001b[49m\u001b[43mx\u001b[49m\u001b[43m)\u001b[49m\n\u001b[0;32m    109\u001b[0m \u001b[38;5;66;03m#print(left_value)\u001b[39;00m\n\u001b[0;32m    110\u001b[0m \u001b[38;5;66;03m#print(right_value)\u001b[39;00m\n\u001b[0;32m    111\u001b[0m \u001b[38;5;28;01mreturn\u001b[39;00m \u001b[38;5;28mself\u001b[39m\u001b[38;5;241m.\u001b[39mvalue(left_value, right_value)\n",
      "File \u001b[1;32mc:\\Users\\abayr\\OneDrive\\Desktop\\Computational_Intelligence\\Projects\\CI_project_draft\\src\\node.py:107\u001b[0m, in \u001b[0;36mNode.evaluate\u001b[1;34m(self, x)\u001b[0m\n\u001b[0;32m    104\u001b[0m     \u001b[38;5;66;03m#print(\"tek\",operand_value)\u001b[39;00m\n\u001b[0;32m    105\u001b[0m     \u001b[38;5;28;01mreturn\u001b[39;00m \u001b[38;5;28mself\u001b[39m\u001b[38;5;241m.\u001b[39mvalue(operand_value)\n\u001b[1;32m--> 107\u001b[0m left_value \u001b[38;5;241m=\u001b[39m \u001b[38;5;28;43mself\u001b[39;49m\u001b[38;5;241;43m.\u001b[39;49m\u001b[43mleft\u001b[49m\u001b[38;5;241m.\u001b[39mevaluate(x)\n\u001b[0;32m    108\u001b[0m right_value \u001b[38;5;241m=\u001b[39m \u001b[38;5;28mself\u001b[39m\u001b[38;5;241m.\u001b[39mright\u001b[38;5;241m.\u001b[39mevaluate(x)\n\u001b[0;32m    109\u001b[0m \u001b[38;5;66;03m#print(left_value)\u001b[39;00m\n\u001b[0;32m    110\u001b[0m \u001b[38;5;66;03m#print(right_value)\u001b[39;00m\n",
      "File \u001b[1;32mc:\\Users\\abayr\\OneDrive\\Desktop\\Computational_Intelligence\\Projects\\CI_project_draft\\src\\node.py:50\u001b[0m, in \u001b[0;36mNode.left\u001b[1;34m(self)\u001b[0m\n\u001b[0;32m     47\u001b[0m     \u001b[38;5;28mself\u001b[39m\u001b[38;5;241m.\u001b[39m_value \u001b[38;5;241m=\u001b[39m new_value\n\u001b[0;32m     48\u001b[0m     \u001b[38;5;28mself\u001b[39m\u001b[38;5;241m.\u001b[39mupdate_complexity()\n\u001b[1;32m---> 50\u001b[0m \u001b[38;5;129m@property\u001b[39m\n\u001b[0;32m     51\u001b[0m \u001b[38;5;28;01mdef\u001b[39;00m \u001b[38;5;21mleft\u001b[39m(\u001b[38;5;28mself\u001b[39m):\n\u001b[0;32m     52\u001b[0m     \u001b[38;5;28;01mreturn\u001b[39;00m \u001b[38;5;28mself\u001b[39m\u001b[38;5;241m.\u001b[39m_left\n\u001b[0;32m     54\u001b[0m \u001b[38;5;129m@left\u001b[39m\u001b[38;5;241m.\u001b[39msetter\n\u001b[0;32m     55\u001b[0m \u001b[38;5;28;01mdef\u001b[39;00m \u001b[38;5;21mleft\u001b[39m(\u001b[38;5;28mself\u001b[39m, new_left):\n",
      "\u001b[1;31mKeyboardInterrupt\u001b[0m: "
     ]
    }
   ],
   "source": [
    "NUM_POPULATION = 50\n",
    "NUM_GENERATIONS = 50\n",
    "MAX_DEPTH_INITIAL = 5\n",
    "DEDUPE_INTERVAL = 10\n",
    "ELITISM = True\n",
    "ELITE_COUNT = 3\n",
    "TOURNAMENT_SUBSET_SIZE = 3\n",
    "TOURNAMENT_WINNER_SIZE = 15\n",
    "XOVER = 0.8\n",
    "MUTATION = 0.8\n",
    "BREED_NEW = 10\n",
    "KILL_AGE = 10\n",
    "CONSTANT_FIT_INTERVAL = 10\n",
    "CONSTANT_FIT_ITERATION = 7\n",
    "\n",
    "my_population = create_population(NUM_POPULATION,MAX_DEPTH_INITIAL,x.shape[0])\n",
    "assign_population_fitness(my_population,x,y)\n",
    "print(f\" Population size: {len(my_population)}\")\n",
    "print(f\"Population mean fitness: {calculate_mean_fitness(my_population)}\")\n",
    "print(f\"Population mean complexity: {calculate_mean_complexity(my_population)}\")\n",
    "\n",
    "# Sort the population by fitness (ascending), then take the top 5\n",
    "top_5_individuals = top_n_individuals(my_population, 5)\n",
    "\n",
    "# Print the top 5 individuals with the minimum fitness\n",
    "for i, individual in enumerate(top_5_individuals, 1):\n",
    "    print(f\"Top {i}: Fitness = {individual.fitness}: Genome = {individual.genome}\")"
   ]
  },
  {
   "cell_type": "code",
   "execution_count": null,
   "metadata": {},
   "outputs": [],
   "source": [
    "\n",
    "assign_population_fitness(my_population,x,y)\n",
    "best_result = top_n_individuals(my_population, 1)[0]\n",
    "for generation in tqdm(range(NUM_GENERATIONS)):\n",
    "    num_xover=0\n",
    "    num_mut=0\n",
    "    num_succesfull_mut=0\n",
    "    age_population(my_population)\n",
    "    \n",
    "\n",
    "    # Kill eldest individuals\n",
    "    kill_eldest(my_population, KILL_AGE)\n",
    "    # print(\"Population size before killing constants: \", len(my_population))\n",
    "    \n",
    "    # print(\"Population size after killing constants: \", len(my_population))\n",
    "\n",
    "\n",
    "    best_ind = tournament_selection(my_population,TOURNAMENT_SUBSET_SIZE,TOURNAMENT_WINNER_SIZE,elitism=ELITISM, elite_count=ELITE_COUNT)\n",
    "\n",
    "    \n",
    "    for _ in range(BREED_NEW): # CHECK\n",
    "        if random.random() < XOVER:\n",
    "            # Xover the best individual and replace worst individuals\n",
    "            parent1 = my_population[best_ind[np.random.choice(len(best_ind))]]\n",
    "            parent2 = my_population[best_ind[np.random.choice(len(best_ind))]]\n",
    "            child1, child2 = crossover(parent1,parent2)\n",
    "            my_population.append(child1)\n",
    "            my_population.append(child2)\n",
    "            num_xover+=1\n",
    "\n",
    "        if random.random() < MUTATION:\n",
    "            # Mutate best individuals and replace worst individuals\n",
    "            parent = my_population[best_ind[np.random.choice(len(best_ind))]]\n",
    "            \n",
    "            child, success = mutation_w_sa(parent, x.shape[0], x, y)\n",
    "            num_mut+=1\n",
    "            if success:                \n",
    "                my_population.append(child)\n",
    "                num_succesfull_mut+=1\n",
    "\n",
    "    assign_population_fitness(my_population,x,y)\n",
    "    # print(f\"xover: {num_xover}, mut: {num_mut}, succesfull mut: {num_succesfull_mut}\")\n",
    "\n",
    "    elites = top_n_individuals(my_population, ELITE_COUNT)\n",
    "    if best_result.fitness > elites[0].fitness:\n",
    "        best_result = elites[0]\n",
    "        print(f\"New best result found: {best_result}\")\n",
    "    for elite in elites:\n",
    "        elite.age = 0\n",
    "    \n",
    "    \n",
    "\n",
    "    print(\"Population mean complexity: \", calculate_mean_complexity(my_population))\n",
    "    simplify_population(my_population)\n",
    "    print(\"Population mean complezity after simplifying: \", calculate_mean_complexity(my_population))\n",
    "\n",
    "    # Deduplicate every few iterations\n",
    "    if generation % DEDUPE_INTERVAL == DEDUPE_INTERVAL-1:\n",
    "        print(\"Population size before Deduplicating population\", len(my_population))\n",
    "        my_population = deduplicate_population(my_population, p=0)\n",
    "        print(\"Population size after deduplicating: \", len(my_population))\n",
    "        kill_constant(my_population)\n",
    "        print(\"Population size after killing constants: \", len(my_population))\n",
    "        print(f\"Population mean complexity: {calculate_mean_complexity(my_population)}\")\n",
    "    \n",
    "    #     # Fit constants of every individual\n",
    "    # if generation % CONSTANT_FIT_INTERVAL == CONSTANT_FIT_INTERVAL-1:\n",
    "    #     print(f\"Generation {generation}: Mean fitness {calculate_mean_fitness(my_population)}\")\n",
    "    #     for individual in my_population:\n",
    "    #         stronger_inv = fit_constants(individual,CONSTANT_FIT_ITERATION, x, y)\n",
    "    #         my_population.remove(individual)\n",
    "    #         my_population.append(stronger_inv)\n",
    "    #     print(f\"Population mean fitness after constant fit: {calculate_mean_fitness(my_population)}\")\n",
    "        \n",
    "my_population = deduplicate_population(my_population)"
   ]
  },
  {
   "cell_type": "code",
   "execution_count": null,
   "metadata": {},
   "outputs": [],
   "source": [
    "assign_population_fitness(my_population,x,y)\n",
    "# Sort the population by fitness (ascending), then take the top 5\n",
    "top_5_individuals = top_n_individuals(my_population, 15)\n",
    "\n",
    "# Print the best individual\n",
    "print(f\"Best individual: Fitness = {best_result.fitness}: Genome = {best_result.genome}\")\n",
    "# Print the top 5 individuals with the minimum fitness in population\n",
    "for i, individual in enumerate(top_5_individuals, 1):\n",
    "    print(f\"Top {i}: Fitness = {individual.fitness}: Genome = {individual.genome}\")\n",
    "\n",
    "# Print the mean fitness of the population\n",
    "print(\"Mean fitness of the population: \", calculate_mean_fitness(my_population))\n",
    "print(\"Population size: \", len(my_population))\n",
    "print(f\"Population mean complexity: {calculate_mean_complexity(my_population)}\")"
   ]
  },
  {
   "cell_type": "code",
   "execution_count": null,
   "metadata": {},
   "outputs": [],
   "source": [
    "top = top_n_individuals(my_population, len(my_population))\n",
    "top[-30:]"
   ]
  },
  {
   "cell_type": "code",
   "execution_count": null,
   "metadata": {},
   "outputs": [],
   "source": [
    "top[:30]"
   ]
  },
  {
   "cell_type": "code",
   "execution_count": null,
   "metadata": {},
   "outputs": [],
   "source": [
    "problem_4 = np.load(\"data/problem_4.npz\")\n",
    "x = problem_4[\"x\"]\n",
    "y = problem_4[\"y\"]\n",
    "print(\"x.shape:\", x.shape)\n",
    "print(\"y.shape:\", y.shape)"
   ]
  },
  {
   "cell_type": "code",
   "execution_count": null,
   "metadata": {},
   "outputs": [],
   "source": [
    "NUM_POPULATION = 1000\n",
    "NUM_GENERATIONS = 10_000\n",
    "DEDUPE_INTERVAL = 10\n",
    "MAX_DEPTH_INITIAL = 6\n",
    "ELITISM = True\n",
    "ELITE_COUNT = 7\n",
    "TOURNAMENT_SUBSET_SIZE = 3\n",
    "TOURNAMENT_WINNER_SIZE = 50\n",
    "XOVER = 0.8\n",
    "MUTATION = 0.8\n",
    "BREED_NEW = 100\n",
    "KILL_AGE = 20\n",
    "\n",
    "population_4 = create_population(NUM_POPULATION,MAX_DEPTH_INITIAL,x.shape[0])\n",
    "assign_population_fitness(population_4,x,y)\n",
    "print(f\" Population size: {len(population_4)}\")\n",
    "print(f\"Population mean fitness: {calculate_mean_fitness(population_4)}\")\n",
    "print(f\"Population mean complexity: {calculate_mean_complexity(population_4)}\")\n",
    "\n",
    "# Sort the population by fitness (ascending), then take the top 5\n",
    "top_5_individuals = top_n_individuals(population_4, 5)\n",
    "\n",
    "# Print the top 5 individuals with the minimum fitness\n",
    "for i, individual in enumerate(top_5_individuals, 1):\n",
    "    print(f\"Top {i}: Fitness = {individual.fitness}: Genome = {individual.genome}\")"
   ]
  },
  {
   "cell_type": "code",
   "execution_count": null,
   "metadata": {},
   "outputs": [],
   "source": [
    "\n",
    "operators=[np.add, np.subtract, np.multiply, np.sin, np.cos, np.exp]\n",
    "unary_operators=[np.sin, np.cos, np.exp]\n",
    "\n",
    "assign_population_fitness(population_4,x,y)\n",
    "best_result = top_n_individuals(population_4, 1)[0]\n",
    "for generation in tqdm(range(NUM_GENERATIONS)):\n",
    "    num_xover=0\n",
    "    num_mut=0\n",
    "    num_succesfull_mut=0\n",
    "    age_population(population_4)\n",
    "    \n",
    "\n",
    "    # Kill eldest individuals\n",
    "    kill_eldest(population_4, KILL_AGE)\n",
    "    # print(\"Population size before killing constants: \", len(population_4))\n",
    "    kill_constant(population_4)\n",
    "    # print(\"Population size after killing constants: \", len(population_4))\n",
    "\n",
    "\n",
    "    best_ind = tournament_selection(population_4,TOURNAMENT_SUBSET_SIZE,TOURNAMENT_WINNER_SIZE,elitism=ELITISM, elite_count=ELITE_COUNT)\n",
    "\n",
    "    \n",
    "    for _ in range(BREED_NEW): # CHECK\n",
    "        if random.random() < XOVER:\n",
    "            # Xover the best individual and replace worst individuals\n",
    "            parent1 = population_4[best_ind[np.random.choice(len(best_ind))]]\n",
    "            parent2 = population_4[best_ind[np.random.choice(len(best_ind))]]\n",
    "            child1, child2 = crossover(parent1,parent2)\n",
    "            population_4.append(child1)\n",
    "            population_4.append(child2)\n",
    "            num_xover+=1\n",
    "\n",
    "        if random.random() < MUTATION:\n",
    "            # Mutate best individuals and replace worst individuals\n",
    "            parent = population_4[best_ind[np.random.choice(len(best_ind))]]\n",
    "            \n",
    "            child, success = mutation_w_sa(parent, x.shape[0], x, y)\n",
    "            num_mut+=1\n",
    "            if success:                \n",
    "                population_4.append(child)\n",
    "                num_succesfull_mut+=1\n",
    "\n",
    "    assign_population_fitness(population_4,x,y)\n",
    "    # print(f\"xover: {num_xover}, mut: {num_mut}, succesfull mut: {num_succesfull_mut}\")\n",
    "\n",
    "    current_best_result = top_n_individuals(population_4, 1)[0]\n",
    "    if best_result.fitness > current_best_result.fitness:\n",
    "        best_result = current_best_result\n",
    "        print(f\"New best result found: {best_result}\")\n",
    "    \n",
    "\n",
    "        \n",
    "    # Deduplicate every few iterations\n",
    "    if generation % DEDUPE_INTERVAL == DEDUPE_INTERVAL-1:\n",
    "        # print(\"Population size before Deduplicating population\", len(population_4))\n",
    "        population_4 = deduplicate_population(population_4, p=0)\n",
    "        # print(\"Population size after deduplicating: \", len(population_4))\n",
    "        # print(f\"Population mean complexity: {calculate_mean_complexity(population_4)}\")\n",
    "population_4 = deduplicate_population(population_4)"
   ]
  },
  {
   "cell_type": "code",
   "execution_count": null,
   "metadata": {},
   "outputs": [],
   "source": [
    "assign_population_fitness(population_4,x,y)\n",
    "# Sort the population by fitness (ascending), then take the top 5\n",
    "top_5_individuals = top_n_individuals(population_4, 15)\n",
    "\n",
    "# Print the best individual\n",
    "print(f\"Best individual: Fitness = {best_result.fitness}: Genome = {best_result.genome}\")\n",
    "# Print the top 5 individuals with the minimum fitness in population\n",
    "for i, individual in enumerate(top_5_individuals, 1):\n",
    "    print(f\"Top {i}: Fitness = {individual.fitness}: Genome = {individual.genome}\")\n",
    "\n",
    "# Print the mean fitness of the population\n",
    "print(\"Mean fitness of the population: \", calculate_mean_fitness(population_4))\n",
    "print(\"Population size: \", len(population_4))\n",
    "print(f\"Population mean complexity: {calculate_mean_complexity(population_4)}\")"
   ]
  },
  {
   "cell_type": "code",
   "execution_count": null,
   "metadata": {},
   "outputs": [],
   "source": []
  },
  {
   "cell_type": "code",
   "execution_count": 10,
   "metadata": {},
   "outputs": [],
   "source": [
    "best_sol = Node(value=np.add, left=Node(feature_index=0), right=Node(np.multiply, left=Node(feature_index=1), right=Node(value=0.2)))"
   ]
  },
  {
   "cell_type": "code",
   "execution_count": null,
   "metadata": {},
   "outputs": [],
   "source": [
    "print(\"Best solution: \", best_sol)"
   ]
  },
  {
   "cell_type": "code",
   "execution_count": null,
   "metadata": {},
   "outputs": [],
   "source": [
    "cost(best_sol, x, y)"
   ]
  },
  {
   "cell_type": "code",
   "execution_count": null,
   "metadata": {},
   "outputs": [],
   "source": []
  },
  {
   "cell_type": "code",
   "execution_count": null,
   "metadata": {},
   "outputs": [],
   "source": []
  },
  {
   "cell_type": "code",
   "execution_count": null,
   "metadata": {},
   "outputs": [],
   "source": []
  }
 ],
 "metadata": {
  "kernelspec": {
   "display_name": "ci",
   "language": "python",
   "name": "python3"
  },
  "language_info": {
   "codemirror_mode": {
    "name": "ipython",
    "version": 3
   },
   "file_extension": ".py",
   "mimetype": "text/x-python",
   "name": "python",
   "nbconvert_exporter": "python",
   "pygments_lexer": "ipython3",
   "version": "3.10.15"
  }
 },
 "nbformat": 4,
 "nbformat_minor": 2
}
