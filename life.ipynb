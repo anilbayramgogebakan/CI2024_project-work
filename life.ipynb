{
 "cells": [
  {
   "cell_type": "code",
   "execution_count": 1,
   "metadata": {},
   "outputs": [],
   "source": [
    "import numpy as np\n",
    "from src.utils import *\n",
    "from tqdm import tqdm\n",
    "\n",
    "unary_operators=[np.sin, np.cos, np.exp, np.abs, np.log, np.tan]\n",
    "binary_operators=[np.add, np.subtract, np.multiply, np.divide]\n",
    "\n",
    "\n",
    "operators = unary_operators + binary_operators"
   ]
  },
  {
   "cell_type": "code",
   "execution_count": 2,
   "metadata": {},
   "outputs": [
    {
     "name": "stdout",
     "output_type": "stream",
     "text": [
      "x.shape: (2, 5000)\n",
      "y.shape: (5000,)\n"
     ]
    }
   ],
   "source": [
    "problem_0 = np.load(\"data/problem_4.npz\")\n",
    "x = problem_0[\"x\"]\n",
    "y = problem_0[\"y\"]\n",
    "print(\"x.shape:\", x.shape)\n",
    "print(\"y.shape:\", y.shape)"
   ]
  },
  {
   "cell_type": "code",
   "execution_count": null,
   "metadata": {},
   "outputs": [],
   "source": [
    "NUM_POPULATION = 100\n",
    "NUM_GENERATIONS = 1000\n",
    "MAX_DEPTH_INITIAL = 5\n",
    "DEDUPE_INTERVAL = 20\n",
    "ELITISM = True\n",
    "ELITE_COUNT = 3\n",
    "TOURNAMENT_SUBSET_SIZE = 3\n",
    "TOURNAMENT_WINNER_SIZE = 15\n",
    "XOVER = 0.8\n",
    "MUTATION = 0.8\n",
    "BREED_NEW = 15\n",
    "KILL_AGE = 15\n",
    "CONSTANT_FIT_INTERVAL = 10\n",
    "CONSTANT_FIT_ITERATION = 7\n",
    "\n",
    "my_population = create_population(NUM_POPULATION,MAX_DEPTH_INITIAL,x.shape[0])\n",
    "assign_population_fitness(my_population,x,y)\n",
    "print(f\" Population size: {len(my_population)}\")\n",
    "print(f\"Population mean fitness: {calculate_mean_fitness(my_population)}\")\n",
    "print(f\"Population mean complexity: {calculate_mean_complexity(my_population)}\")\n",
    "\n",
    "# Sort the population by fitness (ascending), then take the top 5\n",
    "top_5_individuals = top_n_individuals(my_population, 5)\n",
    "\n",
    "# Print the top 5 individuals with the minimum fitness\n",
    "for i, individual in enumerate(top_5_individuals, 1):\n",
    "    print(f\"Top {i}: Fitness = {individual.fitness}: Genome = {individual.genome}\")"
   ]
  },
  {
   "cell_type": "code",
   "execution_count": null,
   "metadata": {},
   "outputs": [],
   "source": [
    "assign_population_fitness(my_population,x,y)\n",
    "best_result = top_n_individuals(my_population, 1)[0]\n",
    "for generation in tqdm(range(NUM_GENERATIONS)):\n",
    "    num_xover=0\n",
    "    num_mut=0\n",
    "    num_succesfull_mut=0\n",
    "    age_population(my_population)\n",
    "    \n",
    "\n",
    "    # Kill eldest individuals\n",
    "    kill_eldest(my_population, KILL_AGE)\n",
    "    # print(\"Population size before killing constants: \", len(my_population))\n",
    "    \n",
    "    # print(\"Population size after killing constants: \", len(my_population))\n",
    "\n",
    "\n",
    "    best_ind = tournament_selection(my_population,TOURNAMENT_SUBSET_SIZE,TOURNAMENT_WINNER_SIZE,elitism=ELITISM, elite_count=ELITE_COUNT)\n",
    "\n",
    "    \n",
    "    for _ in range(BREED_NEW): # CHECK\n",
    "        if random.random() < XOVER:\n",
    "            # Xover the best individual and replace worst individuals\n",
    "            parent1 = my_population[best_ind[np.random.choice(len(best_ind))]]\n",
    "            parent2 = my_population[best_ind[np.random.choice(len(best_ind))]]\n",
    "            child1, child2 = crossover(parent1,parent2)\n",
    "            my_population.append(child1)\n",
    "            my_population.append(child2)\n",
    "            num_xover+=1\n",
    "\n",
    "        if random.random() < MUTATION:\n",
    "            # Mutate best individuals and replace worst individuals\n",
    "            parent = my_population[best_ind[np.random.choice(len(best_ind))]]\n",
    "            \n",
    "            child, success = mutation_w_sa(parent, x.shape[0], x, y)\n",
    "            num_mut+=1\n",
    "            if success:                \n",
    "                my_population.append(child)\n",
    "                num_succesfull_mut+=1\n",
    "\n",
    "    assign_population_fitness(my_population,x,y)\n",
    "    # print(f\"xover: {num_xover}, mut: {num_mut}, succesfull mut: {num_succesfull_mut}\")\n",
    "    simplify_constant_population(my_population)\n",
    "    # Update elites age as 0\n",
    "    elites = top_n_individuals(my_population, ELITE_COUNT)\n",
    "    if best_result.fitness > elites[0].fitness:\n",
    "        best_result = elites[0]\n",
    "        print(f\"New best result found: {best_result}\")\n",
    "    \n",
    "    for elite in elites:\n",
    "        my_population.remove(elite)\n",
    "        elite.age = 0\n",
    "        my_population.append(elite)\n",
    "\n",
    "        \n",
    "    \n",
    "    # best_10 = top_n_individuals(my_population, 20)\n",
    "    # for ind in best_10:\n",
    "    #     print(f\" Genome: {ind.genome}\")\n",
    "\n",
    "    # print(\"Population mean complexity: \", calculate_mean_complexity(my_population))\n",
    "    \n",
    "    # print(\"Population mean complezity after simplifying: \", calculate_mean_complexity(my_population))\n",
    "    # best_10 = top_n_individuals(my_population, 20)\n",
    "    # for ind in best_10:\n",
    "    #     print(f\" Genome: {ind.genome}\")\n",
    "\n",
    "    # Deduplicate every few iterations\n",
    "    if generation % DEDUPE_INTERVAL == DEDUPE_INTERVAL-1:\n",
    "        init_population = len(my_population)\n",
    "        my_population = deduplicate_population(my_population)\n",
    "        dedup_population = len(my_population)\n",
    "        simplify_operation_population(my_population)\n",
    "        simplified_operations = len(my_population)\n",
    "        kill_constant(my_population)\n",
    "        no_constant = len(my_population)\n",
    "\n",
    "        print(f\"Initial: {init_population}, Deduplicated: {init_population-dedup_population}, Operation simplified: {dedup_population-simplified_operations}, Constant: {simplified_operations-no_constant}, Final: {no_constant}\")\n",
    "        print(f\"Population mean complexity: {calculate_mean_complexity(my_population)}\")\n",
    "        print(f\"Population mean fitness: {calculate_mean_fitness(my_population)}\")\n",
    "        print()\n",
    "        best_5 = top_n_individuals(my_population, 5)\n",
    "        for ind in range(len(best_5)):\n",
    "            print(f\"{ind}. Fitness: {best_5[ind].fitness:.3f}, Genome: {best_5[ind].genome}, Age: {best_5[ind].age}\")\n",
    "    #     # Fit constants of every individual\n",
    "    # if generation % CONSTANT_FIT_INTERVAL == CONSTANT_FIT_INTERVAL-1:\n",
    "    #     print(f\"Generation {generation}: Mean fitness {calculate_mean_fitness(my_population)}\")\n",
    "    #     for individual in my_population:\n",
    "    #         stronger_inv = fit_constants(individual,CONSTANT_FIT_ITERATION, x, y)\n",
    "    #         my_population.remove(individual)\n",
    "    #         my_population.append(stronger_inv)\n",
    "    #     print(f\"Population mean fitness after constant fit: {calculate_mean_fitness(my_population)}\")\n",
    "        \n",
    "my_population = deduplicate_population(my_population)"
   ]
  },
  {
   "cell_type": "code",
   "execution_count": null,
   "metadata": {},
   "outputs": [],
   "source": [
    "assign_population_fitness(my_population,x,y)\n",
    "# Sort the population by fitness (ascending), then take the top 5\n",
    "top_5_individuals = top_n_individuals(my_population, 15)\n",
    "\n",
    "# Print the best individual\n",
    "print(f\"Best individual: Fitness = {best_result.fitness}: Genome = {best_result.genome}\")\n",
    "# Print the top 5 individuals with the minimum fitness in population\n",
    "for i, individual in enumerate(top_5_individuals, 1):\n",
    "    print(f\"Top {i}: Fitness = {individual.fitness}: Genome = {individual.genome}\")\n",
    "\n",
    "# Print the mean fitness of the population\n",
    "print(\"Mean fitness of the population: \", calculate_mean_fitness(my_population))\n",
    "print(\"Population size: \", len(my_population))\n",
    "print(f\"Population mean complexity: {calculate_mean_complexity(my_population)}\")"
   ]
  },
  {
   "cell_type": "code",
   "execution_count": 5,
   "metadata": {},
   "outputs": [],
   "source": [
    "no_constant_optimization = my_population"
   ]
  },
  {
   "cell_type": "code",
   "execution_count": 3,
   "metadata": {},
   "outputs": [
    {
     "name": "stdout",
     "output_type": "stream",
     "text": [
      " Population size: 66\n",
      "Population mean fitness: 33735564.981372274\n",
      "Population mean complexity: 29.393939393939394\n",
      "Top 1: Fitness = 20.664600300131436: Genome = cos(x[1])\n",
      "Top 2: Fitness = 21.648812423604546: Genome = abs([1.83604604])\n",
      "Top 3: Fitness = 21.796561472266546: Genome = abs([1.58198251])\n",
      "Top 4: Fitness = 22.04313693206508: Genome = exp(abs(abs(exp(cos([1.59705876])))))\n",
      "Top 5: Fitness = 22.46491656974902: Genome = ([-0.05771258] + [1.13939471])\n"
     ]
    }
   ],
   "source": [
    "NUM_POPULATION = 100\n",
    "NUM_GENERATIONS = 500\n",
    "MAX_DEPTH_INITIAL = 5\n",
    "DEDUPE_INTERVAL = 15\n",
    "ELITISM = True\n",
    "ELITE_COUNT = 3\n",
    "TOURNAMENT_SUBSET_SIZE = 3\n",
    "TOURNAMENT_WINNER_SIZE = 15\n",
    "XOVER = 0.8\n",
    "MUTATION = 0.8\n",
    "BREED_NEW = 15\n",
    "KILL_AGE = 15\n",
    "CONSTANT_FIT_INTERVAL = 30\n",
    "CONSTANT_FIT_ITERATION = 5\n",
    "\n",
    "my_population = create_population(NUM_POPULATION,MAX_DEPTH_INITIAL,x.shape[0])\n",
    "assign_population_fitness(my_population,x,y)\n",
    "print(f\" Population size: {len(my_population)}\")\n",
    "print(f\"Population mean fitness: {calculate_mean_fitness(my_population)}\")\n",
    "print(f\"Population mean complexity: {calculate_mean_complexity(my_population)}\")\n",
    "\n",
    "# Sort the population by fitness (ascending), then take the top 5\n",
    "top_5_individuals = top_n_individuals(my_population, 5)\n",
    "\n",
    "# Print the top 5 individuals with the minimum fitness\n",
    "for i, individual in enumerate(top_5_individuals, 1):\n",
    "    print(f\"Top {i}: Fitness = {individual.fitness}: Genome = {individual.genome}\")"
   ]
  },
  {
   "cell_type": "code",
   "execution_count": 4,
   "metadata": {},
   "outputs": [
    {
     "name": "stderr",
     "output_type": "stream",
     "text": [
      "  3%|▎         | 15/500 [04:12<2:09:42, 16.05s/it]"
     ]
    },
    {
     "name": "stdout",
     "output_type": "stream",
     "text": [
      "Initial: 581, Deduplicated: 372, Operation simplified: 0, Constant: 128, Final: 81\n",
      "Population mean complexity: 49.79012345679013\n",
      "Population mean fitness: 49621319.74481875\n",
      "\n",
      "0. Fitness: 20.665, Genome: cos(x[1]), Age: 0\n",
      "1. Fitness: 22.995, Genome: (log(abs(abs(([0.18298715] * x[0])))) + [3.70780283]), Age: 12\n",
      "2. Fitness: 23.028, Genome: abs(sin(x[1])), Age: 11\n",
      "3. Fitness: 23.132, Genome: cos(cos(([-1.26917945] - ([-0.98615547] + (x[1] * [-1.06500517]))))), Age: 15\n",
      "4. Fitness: 23.155, Genome: cos(cos(x[0])), Age: 13\n"
     ]
    },
    {
     "name": "stderr",
     "output_type": "stream",
     "text": [
      "  6%|▌         | 30/500 [09:23<2:26:59, 18.76s/it]"
     ]
    },
    {
     "name": "stdout",
     "output_type": "stream",
     "text": [
      "Initial: 499, Deduplicated: 323, Operation simplified: 0, Constant: 70, Final: 106\n",
      "Population mean complexity: 57.490566037735846\n",
      "Population mean fitness: 7.897644106297515e+122\n",
      "\n",
      "0. Fitness: 20.665, Genome: cos(x[1]), Age: 0\n",
      "1. Fitness: 21.694, Genome: (cos(cos(x[0])) - [-1.43403746]), Age: 0\n",
      "2. Fitness: 22.286, Genome: ([1.446616] + (cos(x[0]) + [1.2288712])), Age: 5\n",
      "3. Fitness: 22.417, Genome: ([1.446616] + (cos(x[0]) + [0.15192654])), Age: 10\n",
      "4. Fitness: 22.995, Genome: (log(abs(abs(([0.18298715] * x[0])))) + [3.70780283]), Age: 12\n"
     ]
    },
    {
     "name": "stderr",
     "output_type": "stream",
     "text": [
      "  9%|▉         | 45/500 [13:20<1:57:08, 15.45s/it]"
     ]
    },
    {
     "name": "stdout",
     "output_type": "stream",
     "text": [
      "Initial: 514, Deduplicated: 284, Operation simplified: 0, Constant: 85, Final: 145\n",
      "Population mean complexity: 32.689655172413794\n",
      "Population mean fitness: 1.2158790367958795e+123\n",
      "\n",
      "0. Fitness: 20.665, Genome: cos(x[1]), Age: 0\n",
      "1. Fitness: 21.694, Genome: (cos(cos(x[0])) - [-1.43403746]), Age: 2\n",
      "2. Fitness: 22.190, Genome: abs((cos(x[0]) + [1.8341821])), Age: 9\n",
      "3. Fitness: 22.286, Genome: ([1.446616] + (cos(x[0]) + [1.2288712])), Age: 14\n",
      "4. Fitness: 22.514, Genome: exp(sin(x[1])), Age: 9\n"
     ]
    },
    {
     "name": "stderr",
     "output_type": "stream",
     "text": [
      " 12%|█▏        | 60/500 [16:57<1:51:02, 15.14s/it]"
     ]
    },
    {
     "name": "stdout",
     "output_type": "stream",
     "text": [
      "Initial: 503, Deduplicated: 305, Operation simplified: 0, Constant: 63, Final: 135\n",
      "Population mean complexity: 10.674074074074074\n",
      "Population mean fitness: 3.707514605058895e+118\n",
      "\n",
      "0. Fitness: 20.665, Genome: cos(x[1]), Age: 0\n",
      "1. Fitness: 21.694, Genome: (cos(cos(x[0])) - [-1.43403746]), Age: 9\n",
      "2. Fitness: 22.190, Genome: abs((cos(x[0]) + [1.8341821])), Age: 12\n",
      "3. Fitness: 22.640, Genome: abs((x[1] * [0.620729])), Age: 11\n",
      "4. Fitness: 22.658, Genome: abs((x[1] * [0.65306623])), Age: 9\n"
     ]
    },
    {
     "name": "stderr",
     "output_type": "stream",
     "text": [
      " 15%|█▌        | 75/500 [20:42<1:48:23, 15.30s/it]"
     ]
    },
    {
     "name": "stdout",
     "output_type": "stream",
     "text": [
      "Initial: 513, Deduplicated: 256, Operation simplified: 0, Constant: 69, Final: 188\n",
      "Population mean complexity: 9.691489361702128\n",
      "Population mean fitness: 288675396.0489021\n",
      "\n",
      "0. Fitness: 20.665, Genome: cos(x[1]), Age: 0\n",
      "1. Fitness: 21.694, Genome: (cos(cos(x[0])) - [-1.43403746]), Age: 0\n",
      "2. Fitness: 22.190, Genome: abs((cos(x[0]) + [1.8341821])), Age: 14\n",
      "3. Fitness: 23.028, Genome: abs(sin(abs(((x[0] - x[0]) - x[1])))), Age: 13\n",
      "4. Fitness: 23.107, Genome: abs(tan(cos(([1.446616] * (x[1] + [0.15192654]))))), Age: 13\n"
     ]
    },
    {
     "name": "stderr",
     "output_type": "stream",
     "text": [
      " 18%|█▊        | 90/500 [24:56<1:41:55, 14.92s/it]"
     ]
    },
    {
     "name": "stdout",
     "output_type": "stream",
     "text": [
      "Initial: 487, Deduplicated: 187, Operation simplified: 0, Constant: 62, Final: 238\n",
      "Population mean complexity: 374.02100840336135\n",
      "Population mean fitness: 3262205.9256538735\n",
      "\n",
      "0. Fitness: 20.665, Genome: cos(x[1]), Age: 0\n",
      "1. Fitness: 21.694, Genome: (cos(cos(x[0])) - [-1.43403746]), Age: 0\n",
      "2. Fitness: 22.190, Genome: abs((cos(x[0]) + [1.8341821])), Age: 10\n",
      "3. Fitness: 22.191, Genome: (sin(sin((x[0] - [0.65306623]))) + [1.446616]), Age: 2\n",
      "4. Fitness: 22.673, Genome: abs(tan(cos((sin(abs(([-0.70418462] - x[0]))) * [0.97084835])))), Age: 3\n"
     ]
    },
    {
     "name": "stderr",
     "output_type": "stream",
     "text": [
      " 21%|██        | 105/500 [30:43<1:51:49, 16.99s/it]"
     ]
    },
    {
     "name": "stdout",
     "output_type": "stream",
     "text": [
      "Initial: 498, Deduplicated: 159, Operation simplified: 0, Constant: 62, Final: 277\n",
      "Population mean complexity: 97.31768953068593\n",
      "Population mean fitness: 2869.5312061689733\n",
      "\n",
      "0. Fitness: 20.665, Genome: cos(x[1]), Age: 0\n",
      "1. Fitness: 21.694, Genome: (cos(cos(x[0])) - [-1.43403746]), Age: 0\n",
      "2. Fitness: 21.989, Genome: abs(tan(cos(([0.73040984] * (sin((sin(abs(((sin((x[0] - x[1])) - [1.446616]) - [0.15192654]))) - [0.15192654])) - [0.15192654]))))), Age: 7\n",
      "3. Fitness: 22.176, Genome: abs(tan(cos(([0.73040984] * (sin(abs(((sin((x[0] - abs(sin(abs(((x[0] - tan(exp(sin(sin(((x[0] - (x[1] + [0.15192654])) - x[0])))))) - [0.82435966])))))) - [1.446616]) - [0.15192654]))) - [0.15192654]))))), Age: 5\n",
      "4. Fitness: 22.190, Genome: abs((cos(x[0]) + [1.8341821])), Age: 14\n"
     ]
    },
    {
     "name": "stderr",
     "output_type": "stream",
     "text": [
      " 24%|██▍       | 119/500 [39:37<2:06:52, 19.98s/it]\n"
     ]
    },
    {
     "ename": "TypeError",
     "evalue": "'NoneType' object is not subscriptable",
     "output_type": "error",
     "traceback": [
      "\u001b[1;31m---------------------------------------------------------------------------\u001b[0m",
      "\u001b[1;31mTypeError\u001b[0m                                 Traceback (most recent call last)",
      "Cell \u001b[1;32mIn[4], line 61\u001b[0m\n\u001b[0;32m     59\u001b[0m my_population \u001b[38;5;241m=\u001b[39m deduplicate_population(my_population)\n\u001b[0;32m     60\u001b[0m dedup_population \u001b[38;5;241m=\u001b[39m \u001b[38;5;28mlen\u001b[39m(my_population)\n\u001b[1;32m---> 61\u001b[0m \u001b[43msimplify_operation_population\u001b[49m\u001b[43m(\u001b[49m\u001b[43mmy_population\u001b[49m\u001b[43m)\u001b[49m\n\u001b[0;32m     62\u001b[0m simplified_operations \u001b[38;5;241m=\u001b[39m \u001b[38;5;28mlen\u001b[39m(my_population)\n\u001b[0;32m     63\u001b[0m kill_constant(my_population)\n",
      "File \u001b[1;32mc:\\Users\\abayr\\OneDrive\\Desktop\\Computational_Intelligence\\Projects\\CI_project_draft\\src\\utils.py:361\u001b[0m, in \u001b[0;36msimplify_operation_population\u001b[1;34m(population)\u001b[0m\n\u001b[0;32m    359\u001b[0m \u001b[38;5;28;01mfor\u001b[39;00m i \u001b[38;5;129;01min\u001b[39;00m \u001b[38;5;28mrange\u001b[39m(\u001b[38;5;28mlen\u001b[39m(population)):\n\u001b[0;32m    360\u001b[0m     gen \u001b[38;5;241m=\u001b[39m population[i]\u001b[38;5;241m.\u001b[39mgenome\n\u001b[1;32m--> 361\u001b[0m     \u001b[43msimplify_operation\u001b[49m\u001b[43m(\u001b[49m\u001b[43mgen\u001b[49m\u001b[43m)\u001b[49m\n",
      "File \u001b[1;32mc:\\Users\\abayr\\OneDrive\\Desktop\\Computational_Intelligence\\Projects\\CI_project_draft\\src\\utils.py:365\u001b[0m, in \u001b[0;36msimplify_operation\u001b[1;34m(gen)\u001b[0m\n\u001b[0;32m    363\u001b[0m \u001b[38;5;28;01mdef\u001b[39;00m \u001b[38;5;21msimplify_operation\u001b[39m(gen):\n\u001b[0;32m    364\u001b[0m     \u001b[38;5;28;01mif\u001b[39;00m gen\u001b[38;5;241m.\u001b[39mleft:\n\u001b[1;32m--> 365\u001b[0m         \u001b[43msimplify_operation\u001b[49m\u001b[43m(\u001b[49m\u001b[43mgen\u001b[49m\u001b[38;5;241;43m.\u001b[39;49m\u001b[43mleft\u001b[49m\u001b[43m)\u001b[49m\n\u001b[0;32m    366\u001b[0m     \u001b[38;5;28;01mif\u001b[39;00m gen\u001b[38;5;241m.\u001b[39mright:\n\u001b[0;32m    367\u001b[0m         simplify_operation(gen\u001b[38;5;241m.\u001b[39mright)\n",
      "File \u001b[1;32mc:\\Users\\abayr\\OneDrive\\Desktop\\Computational_Intelligence\\Projects\\CI_project_draft\\src\\utils.py:365\u001b[0m, in \u001b[0;36msimplify_operation\u001b[1;34m(gen)\u001b[0m\n\u001b[0;32m    363\u001b[0m \u001b[38;5;28;01mdef\u001b[39;00m \u001b[38;5;21msimplify_operation\u001b[39m(gen):\n\u001b[0;32m    364\u001b[0m     \u001b[38;5;28;01mif\u001b[39;00m gen\u001b[38;5;241m.\u001b[39mleft:\n\u001b[1;32m--> 365\u001b[0m         \u001b[43msimplify_operation\u001b[49m\u001b[43m(\u001b[49m\u001b[43mgen\u001b[49m\u001b[38;5;241;43m.\u001b[39;49m\u001b[43mleft\u001b[49m\u001b[43m)\u001b[49m\n\u001b[0;32m    366\u001b[0m     \u001b[38;5;28;01mif\u001b[39;00m gen\u001b[38;5;241m.\u001b[39mright:\n\u001b[0;32m    367\u001b[0m         simplify_operation(gen\u001b[38;5;241m.\u001b[39mright)\n",
      "File \u001b[1;32mc:\\Users\\abayr\\OneDrive\\Desktop\\Computational_Intelligence\\Projects\\CI_project_draft\\src\\utils.py:365\u001b[0m, in \u001b[0;36msimplify_operation\u001b[1;34m(gen)\u001b[0m\n\u001b[0;32m    363\u001b[0m \u001b[38;5;28;01mdef\u001b[39;00m \u001b[38;5;21msimplify_operation\u001b[39m(gen):\n\u001b[0;32m    364\u001b[0m     \u001b[38;5;28;01mif\u001b[39;00m gen\u001b[38;5;241m.\u001b[39mleft:\n\u001b[1;32m--> 365\u001b[0m         \u001b[43msimplify_operation\u001b[49m\u001b[43m(\u001b[49m\u001b[43mgen\u001b[49m\u001b[38;5;241;43m.\u001b[39;49m\u001b[43mleft\u001b[49m\u001b[43m)\u001b[49m\n\u001b[0;32m    366\u001b[0m     \u001b[38;5;28;01mif\u001b[39;00m gen\u001b[38;5;241m.\u001b[39mright:\n\u001b[0;32m    367\u001b[0m         simplify_operation(gen\u001b[38;5;241m.\u001b[39mright)\n",
      "File \u001b[1;32mc:\\Users\\abayr\\OneDrive\\Desktop\\Computational_Intelligence\\Projects\\CI_project_draft\\src\\utils.py:367\u001b[0m, in \u001b[0;36msimplify_operation\u001b[1;34m(gen)\u001b[0m\n\u001b[0;32m    365\u001b[0m     simplify_operation(gen\u001b[38;5;241m.\u001b[39mleft)\n\u001b[0;32m    366\u001b[0m \u001b[38;5;28;01mif\u001b[39;00m gen\u001b[38;5;241m.\u001b[39mright:\n\u001b[1;32m--> 367\u001b[0m     \u001b[43msimplify_operation\u001b[49m\u001b[43m(\u001b[49m\u001b[43mgen\u001b[49m\u001b[38;5;241;43m.\u001b[39;49m\u001b[43mright\u001b[49m\u001b[43m)\u001b[49m\n\u001b[0;32m    369\u001b[0m \u001b[38;5;28;01mif\u001b[39;00m gen\u001b[38;5;241m.\u001b[39mright\u001b[38;5;241m!=\u001b[39m\u001b[38;5;28;01mNone\u001b[39;00m:\n\u001b[0;32m    370\u001b[0m     \u001b[38;5;28;01mif\u001b[39;00m \u001b[38;5;28misinstance\u001b[39m(gen\u001b[38;5;241m.\u001b[39mleft\u001b[38;5;241m.\u001b[39mvalue, np\u001b[38;5;241m.\u001b[39mndarray) \u001b[38;5;129;01mand\u001b[39;00m \u001b[38;5;28misinstance\u001b[39m(gen\u001b[38;5;241m.\u001b[39mright\u001b[38;5;241m.\u001b[39mvalue, np\u001b[38;5;241m.\u001b[39mndarray):\n",
      "File \u001b[1;32mc:\\Users\\abayr\\OneDrive\\Desktop\\Computational_Intelligence\\Projects\\CI_project_draft\\src\\utils.py:367\u001b[0m, in \u001b[0;36msimplify_operation\u001b[1;34m(gen)\u001b[0m\n\u001b[0;32m    365\u001b[0m     simplify_operation(gen\u001b[38;5;241m.\u001b[39mleft)\n\u001b[0;32m    366\u001b[0m \u001b[38;5;28;01mif\u001b[39;00m gen\u001b[38;5;241m.\u001b[39mright:\n\u001b[1;32m--> 367\u001b[0m     \u001b[43msimplify_operation\u001b[49m\u001b[43m(\u001b[49m\u001b[43mgen\u001b[49m\u001b[38;5;241;43m.\u001b[39;49m\u001b[43mright\u001b[49m\u001b[43m)\u001b[49m\n\u001b[0;32m    369\u001b[0m \u001b[38;5;28;01mif\u001b[39;00m gen\u001b[38;5;241m.\u001b[39mright\u001b[38;5;241m!=\u001b[39m\u001b[38;5;28;01mNone\u001b[39;00m:\n\u001b[0;32m    370\u001b[0m     \u001b[38;5;28;01mif\u001b[39;00m \u001b[38;5;28misinstance\u001b[39m(gen\u001b[38;5;241m.\u001b[39mleft\u001b[38;5;241m.\u001b[39mvalue, np\u001b[38;5;241m.\u001b[39mndarray) \u001b[38;5;129;01mand\u001b[39;00m \u001b[38;5;28misinstance\u001b[39m(gen\u001b[38;5;241m.\u001b[39mright\u001b[38;5;241m.\u001b[39mvalue, np\u001b[38;5;241m.\u001b[39mndarray):\n",
      "File \u001b[1;32mc:\\Users\\abayr\\OneDrive\\Desktop\\Computational_Intelligence\\Projects\\CI_project_draft\\src\\utils.py:376\u001b[0m, in \u001b[0;36msimplify_operation\u001b[1;34m(gen)\u001b[0m\n\u001b[0;32m    374\u001b[0m \u001b[38;5;28;01melif\u001b[39;00m gen\u001b[38;5;241m.\u001b[39mleft\u001b[38;5;241m!=\u001b[39m\u001b[38;5;28;01mNone\u001b[39;00m:    \u001b[38;5;66;03m# unary operator\u001b[39;00m\n\u001b[0;32m    375\u001b[0m     \u001b[38;5;28;01mif\u001b[39;00m \u001b[38;5;28misinstance\u001b[39m(gen\u001b[38;5;241m.\u001b[39mleft\u001b[38;5;241m.\u001b[39mvalue, np\u001b[38;5;241m.\u001b[39mndarray):\n\u001b[1;32m--> 376\u001b[0m         gen\u001b[38;5;241m.\u001b[39mvalue\u001b[38;5;241m=\u001b[39m\u001b[43mgen\u001b[49m\u001b[38;5;241;43m.\u001b[39;49m\u001b[43mevaluate\u001b[49m\u001b[43m(\u001b[49m\u001b[43m)\u001b[49m\n\u001b[0;32m    377\u001b[0m         gen\u001b[38;5;241m.\u001b[39mleft\u001b[38;5;241m=\u001b[39m\u001b[38;5;28;01mNone\u001b[39;00m\n",
      "File \u001b[1;32mc:\\Users\\abayr\\OneDrive\\Desktop\\Computational_Intelligence\\Projects\\CI_project_draft\\src\\node.py:97\u001b[0m, in \u001b[0;36mNode.evaluate\u001b[1;34m(self, x)\u001b[0m\n\u001b[0;32m     93\u001b[0m \u001b[38;5;28;01mif\u001b[39;00m \u001b[38;5;129;01mnot\u001b[39;00m \u001b[38;5;28mself\u001b[39m\u001b[38;5;241m.\u001b[39mis_operator(\u001b[38;5;28mself\u001b[39m\u001b[38;5;241m.\u001b[39mvalue):\n\u001b[0;32m     94\u001b[0m     \u001b[38;5;66;03m#print(\"index\",self.feature_index)\u001b[39;00m\n\u001b[0;32m     95\u001b[0m     \u001b[38;5;28;01mif\u001b[39;00m \u001b[38;5;28mself\u001b[39m\u001b[38;5;241m.\u001b[39mfeature_index\u001b[38;5;241m!=\u001b[39m \u001b[38;5;28;01mNone\u001b[39;00m:\n\u001b[0;32m     96\u001b[0m         \u001b[38;5;66;03m#print(\"ben inputun indexiyim\")\u001b[39;00m\n\u001b[1;32m---> 97\u001b[0m         \u001b[38;5;28;01mreturn\u001b[39;00m \u001b[43mx\u001b[49m\u001b[43m[\u001b[49m\u001b[38;5;28;43mself\u001b[39;49m\u001b[38;5;241;43m.\u001b[39;49m\u001b[43mfeature_index\u001b[49m\u001b[43m]\u001b[49m\n\u001b[0;32m     98\u001b[0m     \u001b[38;5;28;01melse\u001b[39;00m:\n\u001b[0;32m     99\u001b[0m         \u001b[38;5;66;03m#print(\"ben bir sayıyım\")\u001b[39;00m\n\u001b[0;32m    100\u001b[0m         \u001b[38;5;28;01mreturn\u001b[39;00m \u001b[38;5;28mself\u001b[39m\u001b[38;5;241m.\u001b[39mvalue\n",
      "\u001b[1;31mTypeError\u001b[0m: 'NoneType' object is not subscriptable"
     ]
    }
   ],
   "source": [
    "assign_population_fitness(my_population,x,y)\n",
    "best_result = top_n_individuals(my_population, 1)[0]\n",
    "for generation in tqdm(range(NUM_GENERATIONS)):\n",
    "    num_xover=0\n",
    "    num_mut=0\n",
    "    num_succesfull_mut=0\n",
    "    age_population(my_population)\n",
    "    \n",
    "\n",
    "    # Kill eldest individuals\n",
    "    kill_eldest(my_population, KILL_AGE)\n",
    "    # print(\"Population size before killing constants: \", len(my_population))\n",
    "    \n",
    "    # print(\"Population size after killing constants: \", len(my_population))\n",
    "\n",
    "\n",
    "    best_ind = tournament_selection(my_population,TOURNAMENT_SUBSET_SIZE,TOURNAMENT_WINNER_SIZE,elitism=ELITISM, elite_count=ELITE_COUNT)\n",
    "\n",
    "    \n",
    "    for _ in range(BREED_NEW): # CHECK\n",
    "        if random.random() < XOVER:\n",
    "            # Xover the best individual and replace worst individuals\n",
    "            parent1 = my_population[best_ind[np.random.choice(len(best_ind))]]\n",
    "            parent2 = my_population[best_ind[np.random.choice(len(best_ind))]]\n",
    "            child1, child2 = crossover(parent1,parent2)\n",
    "            my_population.append(child1)\n",
    "            my_population.append(child2)\n",
    "            num_xover+=1\n",
    "\n",
    "        if random.random() < MUTATION:\n",
    "            # Mutate best individuals and replace worst individuals\n",
    "            parent = my_population[best_ind[np.random.choice(len(best_ind))]]\n",
    "            \n",
    "            child, success = mutation_w_sa(parent, x.shape[0], x, y)\n",
    "            num_mut+=1\n",
    "            if success:                \n",
    "                my_population.append(child)\n",
    "                num_succesfull_mut+=1\n",
    "\n",
    "    assign_population_fitness(my_population,x,y)\n",
    "    # print(f\"xover: {num_xover}, mut: {num_mut}, succesfull mut: {num_succesfull_mut}\")\n",
    "    simplify_constant_population(my_population)\n",
    "    # Update elites age as 0\n",
    "    elites = top_n_individuals(my_population, ELITE_COUNT)\n",
    "    if best_result.fitness > elites[0].fitness:\n",
    "        best_result = elites[0]\n",
    "        print(f\"New best result found: {best_result}\")\n",
    "    \n",
    "    for elite in elites:\n",
    "        my_population.remove(elite)\n",
    "        elite.age = 0\n",
    "        my_population.append(elite)\n",
    "\n",
    "        \n",
    "\n",
    "    # Deduplicate every few iterations\n",
    "    if generation % DEDUPE_INTERVAL == DEDUPE_INTERVAL-1:\n",
    "        init_population = len(my_population)\n",
    "        my_population = deduplicate_population(my_population)\n",
    "        dedup_population = len(my_population)\n",
    "        simplify_operation_population(my_population)\n",
    "        simplified_operations = len(my_population)\n",
    "        kill_constant(my_population)\n",
    "        no_constant = len(my_population)\n",
    "\n",
    "        print(f\"Initial: {init_population}, Deduplicated: {init_population-dedup_population}, Operation simplified: {dedup_population-simplified_operations}, Constant: {simplified_operations-no_constant}, Final: {no_constant}\")\n",
    "        print(f\"Population mean complexity: {calculate_mean_complexity(my_population)}\")\n",
    "        print(f\"Population mean fitness: {calculate_mean_fitness(my_population)}\")\n",
    "        print()\n",
    "        best_5 = top_n_individuals(my_population, 5)\n",
    "        for ind in range(len(best_5)):\n",
    "            print(f\"{ind}. Fitness: {best_5[ind].fitness:.3f}, Genome: {best_5[ind].genome}, Age: {best_5[ind].age}\")\n",
    "        # Fit constants of every individual\n",
    "    # if generation % CONSTANT_FIT_INTERVAL == CONSTANT_FIT_INTERVAL-1:\n",
    "    #     print(f\"Generation {generation}: Mean fitness {calculate_mean_fitness(my_population)}\")\n",
    "    #     for individual in my_population:\n",
    "    #         stronger_inv = fit_constants(individual,CONSTANT_FIT_ITERATION, x, y)\n",
    "    #         my_population.remove(individual)\n",
    "    #         my_population.append(stronger_inv)\n",
    "    #     print(f\"Population mean fitness after constant fit: {calculate_mean_fitness(my_population)}\")\n",
    "    #     best_5 = top_n_individuals(my_population, 5)\n",
    "    #     for ind in range(len(best_5)):\n",
    "    #         print(f\"{ind}. Fitness: {best_5[ind].fitness:.3f}, Genome: {best_5[ind].genome}, Age: {best_5[ind].age}\")\n",
    "        \n",
    "        \n",
    "my_population = deduplicate_population(my_population)"
   ]
  },
  {
   "cell_type": "code",
   "execution_count": null,
   "metadata": {},
   "outputs": [],
   "source": [
    "assign_population_fitness(my_population,x,y)\n",
    "# Sort the population by fitness (ascending), then take the top 5\n",
    "top_5_individuals = top_n_individuals(my_population, 15)\n",
    "\n",
    "# Print the best individual\n",
    "print(f\"Best individual: Fitness = {best_result.fitness}: Genome = {best_result.genome}\")\n",
    "# Print the top 5 individuals with the minimum fitness in population\n",
    "for i, individual in enumerate(top_5_individuals, 1):\n",
    "    print(f\"Top {i}: Fitness = {individual.fitness}: Genome = {individual.genome}\")\n",
    "\n",
    "# Print the mean fitness of the population\n",
    "print(\"Mean fitness of the population: \", calculate_mean_fitness(my_population))\n",
    "print(\"Population size: \", len(my_population))\n",
    "print(f\"Population mean complexity: {calculate_mean_complexity(my_population)}\")"
   ]
  },
  {
   "cell_type": "code",
   "execution_count": null,
   "metadata": {},
   "outputs": [],
   "source": []
  }
 ],
 "metadata": {
  "kernelspec": {
   "display_name": "ci",
   "language": "python",
   "name": "python3"
  },
  "language_info": {
   "codemirror_mode": {
    "name": "ipython",
    "version": 3
   },
   "file_extension": ".py",
   "mimetype": "text/x-python",
   "name": "python",
   "nbconvert_exporter": "python",
   "pygments_lexer": "ipython3",
   "version": "3.10.15"
  }
 },
 "nbformat": 4,
 "nbformat_minor": 2
}
