{
 "cells": [
  {
   "cell_type": "code",
   "execution_count": 1,
   "metadata": {},
   "outputs": [],
   "source": [
    "import numpy as np\n",
    "from src.Individual import Individual\n",
    "from src.utils import *\n",
    "from tqdm import tqdm\n",
    "\n",
    "operators=[np.add, np.subtract, np.multiply, np.sin, np.cos, np.exp]\n",
    "one_arg_op=[np.sin, np.cos, np.exp]"
   ]
  },
  {
   "cell_type": "code",
   "execution_count": 2,
   "metadata": {},
   "outputs": [
    {
     "name": "stdout",
     "output_type": "stream",
     "text": [
      "x.shape: (2, 1000)\n",
      "y.shape: (1000,)\n"
     ]
    }
   ],
   "source": [
    "problem_0 = np.load(\"data/problem_0.npz\")\n",
    "x = problem_0[\"x\"]\n",
    "y = problem_0[\"y\"]\n",
    "print(\"x.shape:\", x.shape)\n",
    "print(\"y.shape:\", y.shape)"
   ]
  },
  {
   "cell_type": "code",
   "execution_count": 3,
   "metadata": {},
   "outputs": [],
   "source": [
    "NUM_POPULATION = 60\n",
    "my_population = create_population(NUM_POPULATION,6,x.shape[0])"
   ]
  },
  {
   "cell_type": "code",
   "execution_count": 4,
   "metadata": {},
   "outputs": [
    {
     "name": "stdout",
     "output_type": "stream",
     "text": [
      "58\n"
     ]
    }
   ],
   "source": [
    "assign_population_fitness(my_population,x,y)\n",
    "print(len(my_population))\n",
    "# print(\"Cost population: \", cost_pop.mean())\n",
    "# print(\"Best cost: \", cost_pop.min())"
   ]
  },
  {
   "cell_type": "code",
   "execution_count": null,
   "metadata": {},
   "outputs": [],
   "source": [
    "for i in range(len(my_population)):\n",
    "    print(my_population[i])"
   ]
  },
  {
   "cell_type": "code",
   "execution_count": 5,
   "metadata": {},
   "outputs": [
    {
     "name": "stdout",
     "output_type": "stream",
     "text": [
      "Top 1: Fitness = 0.21878415413758193: Genome = (x[1] + x[0])\n",
      "Top 2: Fitness = 1.8910558431660756: Genome = sin(x[0])\n",
      "Top 3: Fitness = 3.268059281812809: Genome = sin((cos(sin(exp((x[0] * x[1])))) * (exp((sin(x[0]) - exp(x[1]))) - cos(((x[0] * x[0]) * (x[0] + x[1]))))))\n",
      "Top 4: Fitness = 3.3988605675121466: Genome = (x[0] - x[0])\n",
      "Top 5: Fitness = 3.402257194425154: Genome = ([0.10142012] * x[1])\n"
     ]
    }
   ],
   "source": [
    "# Sort the population by fitness (ascending), then take the top 5\n",
    "top_5_individuals = top_n_individuals(my_population, 5)\n",
    "\n",
    "# Print the top 5 individuals with the minimum fitness\n",
    "for i, individual in enumerate(top_5_individuals, 1):\n",
    "    print(f\"Top {i}: Fitness = {individual.fitness}: Genome = {individual.genome}\")"
   ]
  },
  {
   "cell_type": "code",
   "execution_count": null,
   "metadata": {},
   "outputs": [],
   "source": [
    "NUM_GENERATIONS = 21\n",
    "DEDUPE_INTERVAL = 5\n",
    "operators=[np.add, np.subtract, np.multiply, np.sin, np.cos, np.exp]\n",
    "one_arg_op=[np.sin, np.cos, np.exp]\n",
    "XOVER = 0.5\n",
    "MUTATION = 0.5\n",
    "\n",
    "for generation in tqdm(range(NUM_GENERATIONS)):\n",
    "    age_population(my_population)\n",
    "    assign_population_fitness(my_population,x,y)\n",
    "\n",
    "    # Kill eldest individuals\n",
    "    kill_eldest(my_population, 10)\n",
    "\n",
    "\n",
    "    best_ind = tournament_selection(my_population,3,10)\n",
    "\n",
    "    \n",
    "    for _ in range(10): # CHECK\n",
    "        if random.random() < XOVER:\n",
    "            # Xover the best individual and replace worst individuals\n",
    "            parent1 = my_population[best_ind[np.random.choice(len(best_ind))]]\n",
    "            parent2 = my_population[best_ind[np.random.choice(len(best_ind))]]\n",
    "            child1, child2 = crossover(parent1,parent2)\n",
    "            my_population.append(child1)\n",
    "            my_population.append(child2)\n",
    "\n",
    "        if random.random() < MUTATION:\n",
    "            # Mutate best individuals and replace worst individuals\n",
    "            parent = my_population[best_ind[np.random.choice(len(best_ind))]]\n",
    "            child = mutation(parent, x.shape[0])\n",
    "            my_population.append(child)\n",
    "\n",
    "        \n",
    "    # # Deduplicate every few iterations\n",
    "    # if generation % DEDUPE_INTERVAL == 0:\n",
    "    #     print(\"Deduplicating population\")\n",
    "    #     my_population = list(dict.fromkeys(my_population))\n",
    "    #     print(\"Population size: \", len(my_population))"
   ]
  },
  {
   "cell_type": "code",
   "execution_count": null,
   "metadata": {},
   "outputs": [],
   "source": [
    "print(\"my_population.shape:\", len(my_population))\n",
    "cost_pop = cost_population(my_population,x,y)\n",
    "print(\"Cost population: \", cost_pop.mean())\n",
    "print(\"Best cost: \", cost_pop.min())"
   ]
  },
  {
   "cell_type": "code",
   "execution_count": null,
   "metadata": {},
   "outputs": [],
   "source": [
    "min_index = np.argmin(cost_pop)\n",
    "print(\"Best individual: \", my_population[min_index])"
   ]
  },
  {
   "cell_type": "code",
   "execution_count": null,
   "metadata": {},
   "outputs": [],
   "source": [
    "# print the top 10 individuals witg lowest cost\n",
    "sorted_index = np.argsort(cost_pop)\n",
    "for i in range(30):\n",
    "    print(\"Individual: \", my_population[sorted_index[i]])\n",
    "    print(\"Cost: \", cost_pop[sorted_index[i]])\n",
    "    print(\"\")"
   ]
  },
  {
   "cell_type": "code",
   "execution_count": 10,
   "metadata": {},
   "outputs": [],
   "source": [
    "best_sol = Node(value=np.add, left=Node(feature_index=0), right=Node(np.multiply, left=Node(feature_index=1), right=Node(value=0.2)))"
   ]
  },
  {
   "cell_type": "code",
   "execution_count": null,
   "metadata": {},
   "outputs": [],
   "source": [
    "print(\"Best solution: \", best_sol)"
   ]
  },
  {
   "cell_type": "code",
   "execution_count": null,
   "metadata": {},
   "outputs": [],
   "source": [
    "cost(best_sol, x, y)"
   ]
  },
  {
   "cell_type": "code",
   "execution_count": null,
   "metadata": {},
   "outputs": [],
   "source": []
  }
 ],
 "metadata": {
  "kernelspec": {
   "display_name": "ci",
   "language": "python",
   "name": "python3"
  },
  "language_info": {
   "codemirror_mode": {
    "name": "ipython",
    "version": 3
   },
   "file_extension": ".py",
   "mimetype": "text/x-python",
   "name": "python",
   "nbconvert_exporter": "python",
   "pygments_lexer": "ipython3",
   "version": "3.10.15"
  }
 },
 "nbformat": 4,
 "nbformat_minor": 2
}
