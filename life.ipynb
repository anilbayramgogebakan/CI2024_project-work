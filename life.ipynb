{
 "cells": [
  {
   "cell_type": "code",
   "execution_count": 1,
   "metadata": {},
   "outputs": [],
   "source": [
    "import numpy as np\n",
    "from src.utils import *\n",
    "from tqdm import tqdm\n",
    "\n",
    "unary_operators=[np.sin, np.cos, np.exp, np.abs, np.log, np.tan]\n",
    "binary_operators=[np.add, np.subtract, np.multiply, np.divide]\n",
    "\n",
    "\n",
    "operators = unary_operators + binary_operators"
   ]
  },
  {
   "cell_type": "code",
   "execution_count": 2,
   "metadata": {},
   "outputs": [
    {
     "name": "stdout",
     "output_type": "stream",
     "text": [
      "x.shape: (2, 5000)\n",
      "y.shape: (5000,)\n"
     ]
    }
   ],
   "source": [
    "problem_0 = np.load(\"data/problem_4.npz\")\n",
    "x = problem_0[\"x\"]\n",
    "y = problem_0[\"y\"]\n",
    "print(\"x.shape:\", x.shape)\n",
    "print(\"y.shape:\", y.shape)"
   ]
  },
  {
   "cell_type": "code",
   "execution_count": 3,
   "metadata": {},
   "outputs": [
    {
     "name": "stdout",
     "output_type": "stream",
     "text": [
      " Population size: 64\n",
      "Population mean fitness: 3.3273168919634495e+28\n",
      "Population mean complexity: 19.75\n",
      "Top 1: Fitness = 20.664600300131436: Genome = cos(x[1])\n",
      "Top 2: Fitness = 21.835749327762827: Genome = abs([1.53745754])\n",
      "Top 3: Fitness = 21.882847158921958: Genome = ([0.71339317] - [-1.79712336])\n",
      "Top 4: Fitness = 22.09932433529548: Genome = exp(cos(sin(abs(([-1.32218171] / [0.20573286])))))\n",
      "Top 5: Fitness = 22.12834817947589: Genome = (cos(cos(sin((x[0] - [2.27156539])))) - cos(exp(((x[0] / x[0]) / abs([-1.27216841])))))\n"
     ]
    }
   ],
   "source": [
    "NUM_POPULATION = 100\n",
    "NUM_GENERATIONS = 1000\n",
    "MAX_DEPTH_INITIAL = 5\n",
    "DEDUPE_INTERVAL = 5\n",
    "ELITISM = True\n",
    "ELITE_COUNT = 3\n",
    "TOURNAMENT_SUBSET_SIZE = 3\n",
    "TOURNAMENT_WINNER_SIZE = 10\n",
    "XOVER = 0.8\n",
    "MUTATION = 0.8\n",
    "BREED_NEW = 15\n",
    "KILL_AGE = 15\n",
    "CONSTANT_FIT_INTERVAL = 10\n",
    "CONSTANT_FIT_ITERATION = 7\n",
    "\n",
    "my_population = create_population(NUM_POPULATION,MAX_DEPTH_INITIAL,x.shape[0])\n",
    "assign_population_fitness(my_population,x,y)\n",
    "print(f\" Population size: {len(my_population)}\")\n",
    "print(f\"Population mean fitness: {calculate_mean_fitness(my_population)}\")\n",
    "print(f\"Population mean complexity: {calculate_mean_complexity(my_population)}\")\n",
    "\n",
    "# Sort the population by fitness (ascending), then take the top 5\n",
    "top_5_individuals = top_n_individuals(my_population, 5)\n",
    "\n",
    "# Print the top 5 individuals with the minimum fitness\n",
    "for i, individual in enumerate(top_5_individuals, 1):\n",
    "    print(f\"Top {i}: Fitness = {individual.fitness}: Genome = {individual.genome}\")"
   ]
  },
  {
   "cell_type": "code",
   "execution_count": 4,
   "metadata": {},
   "outputs": [
    {
     "name": "stderr",
     "output_type": "stream",
     "text": [
      "  0%|          | 4/1000 [01:10<4:54:24, 17.74s/it]"
     ]
    },
    {
     "name": "stdout",
     "output_type": "stream",
     "text": [
      "Population size before Deduplicating population 238\n"
     ]
    },
    {
     "name": "stderr",
     "output_type": "stream",
     "text": [
      "\n"
     ]
    },
    {
     "ename": "TypeError",
     "evalue": "deduplicate_population() got an unexpected keyword argument 'p'",
     "output_type": "error",
     "traceback": [
      "\u001b[1;31m---------------------------------------------------------------------------\u001b[0m",
      "\u001b[1;31mTypeError\u001b[0m                                 Traceback (most recent call last)",
      "Cell \u001b[1;32mIn[4], line 70\u001b[0m\n\u001b[0;32m     68\u001b[0m \u001b[38;5;28;01mif\u001b[39;00m generation \u001b[38;5;241m%\u001b[39m DEDUPE_INTERVAL \u001b[38;5;241m==\u001b[39m DEDUPE_INTERVAL\u001b[38;5;241m-\u001b[39m\u001b[38;5;241m1\u001b[39m:\n\u001b[0;32m     69\u001b[0m     \u001b[38;5;28mprint\u001b[39m(\u001b[38;5;124m\"\u001b[39m\u001b[38;5;124mPopulation size before Deduplicating population\u001b[39m\u001b[38;5;124m\"\u001b[39m, \u001b[38;5;28mlen\u001b[39m(my_population))\n\u001b[1;32m---> 70\u001b[0m     my_population \u001b[38;5;241m=\u001b[39m \u001b[43mdeduplicate_population\u001b[49m\u001b[43m(\u001b[49m\u001b[43mmy_population\u001b[49m\u001b[43m,\u001b[49m\u001b[43m \u001b[49m\u001b[43mp\u001b[49m\u001b[38;5;241;43m=\u001b[39;49m\u001b[38;5;241;43m0\u001b[39;49m\u001b[43m)\u001b[49m\n\u001b[0;32m     71\u001b[0m     \u001b[38;5;28mprint\u001b[39m(\u001b[38;5;124m\"\u001b[39m\u001b[38;5;124mPopulation size after deduplicating: \u001b[39m\u001b[38;5;124m\"\u001b[39m, \u001b[38;5;28mlen\u001b[39m(my_population))\n\u001b[0;32m     72\u001b[0m     kill_constant(my_population)\n",
      "\u001b[1;31mTypeError\u001b[0m: deduplicate_population() got an unexpected keyword argument 'p'"
     ]
    }
   ],
   "source": [
    "\n",
    "assign_population_fitness(my_population,x,y)\n",
    "best_result = top_n_individuals(my_population, 1)[0]\n",
    "for generation in tqdm(range(NUM_GENERATIONS)):\n",
    "    num_xover=0\n",
    "    num_mut=0\n",
    "    num_succesfull_mut=0\n",
    "    age_population(my_population)\n",
    "    \n",
    "\n",
    "    # Kill eldest individuals\n",
    "    kill_eldest(my_population, KILL_AGE)\n",
    "    # print(\"Population size before killing constants: \", len(my_population))\n",
    "    \n",
    "    # print(\"Population size after killing constants: \", len(my_population))\n",
    "\n",
    "\n",
    "    best_ind = tournament_selection(my_population,TOURNAMENT_SUBSET_SIZE,TOURNAMENT_WINNER_SIZE,elitism=ELITISM, elite_count=ELITE_COUNT)\n",
    "\n",
    "    \n",
    "    for _ in range(BREED_NEW): # CHECK\n",
    "        if random.random() < XOVER:\n",
    "            # Xover the best individual and replace worst individuals\n",
    "            parent1 = my_population[best_ind[np.random.choice(len(best_ind))]]\n",
    "            parent2 = my_population[best_ind[np.random.choice(len(best_ind))]]\n",
    "            child1, child2 = crossover(parent1,parent2)\n",
    "            my_population.append(child1)\n",
    "            my_population.append(child2)\n",
    "            num_xover+=1\n",
    "\n",
    "        if random.random() < MUTATION:\n",
    "            # Mutate best individuals and replace worst individuals\n",
    "            parent = my_population[best_ind[np.random.choice(len(best_ind))]]\n",
    "            \n",
    "            child, success = mutation_w_sa(parent, x.shape[0], x, y)\n",
    "            num_mut+=1\n",
    "            if success:                \n",
    "                my_population.append(child)\n",
    "                num_succesfull_mut+=1\n",
    "\n",
    "    assign_population_fitness(my_population,x,y)\n",
    "    # print(f\"xover: {num_xover}, mut: {num_mut}, succesfull mut: {num_succesfull_mut}\")\n",
    "\n",
    "    # Update elites age as 0\n",
    "    elites = top_n_individuals(my_population, ELITE_COUNT)\n",
    "    if best_result.fitness > elites[0].fitness:\n",
    "        best_result = elites[0]\n",
    "        print(f\"New best result found: {best_result}\")\n",
    "    \n",
    "    for elite in elites:\n",
    "        my_population.remove(elite)\n",
    "        elite.age = 0\n",
    "        my_population.append(elite)\n",
    "\n",
    "        \n",
    "    \n",
    "    # best_10 = top_n_individuals(my_population, 20)\n",
    "    # for ind in best_10:\n",
    "    #     print(f\" Genome: {ind.genome}\")\n",
    "\n",
    "    # print(\"Population mean complexity: \", calculate_mean_complexity(my_population))\n",
    "    simplify_population(my_population)\n",
    "    # print(\"Population mean complezity after simplifying: \", calculate_mean_complexity(my_population))\n",
    "    # best_10 = top_n_individuals(my_population, 20)\n",
    "    # for ind in best_10:\n",
    "    #     print(f\" Genome: {ind.genome}\")\n",
    "\n",
    "    # Deduplicate every few iterations\n",
    "    if generation % DEDUPE_INTERVAL == DEDUPE_INTERVAL-1:\n",
    "        print(\"Population size before Deduplicating population\", len(my_population))\n",
    "        my_population = deduplicate_population(my_population)\n",
    "        print(\"Population size after deduplicating: \", len(my_population))\n",
    "        kill_constant(my_population)\n",
    "        print(\"Population size after killing constants: \", len(my_population))\n",
    "        print(f\"Population mean complexity: {calculate_mean_complexity(my_population)}\")\n",
    "        best_10 = top_n_individuals(my_population, 5)\n",
    "        for ind in range(len(best_10)):\n",
    "            print(f\"{ind}. Fitness: {best_10[ind].fitness:.3f}, Genome: {best_10[ind].genome}, Age: {best_10[ind].age}\")\n",
    "        print()\n",
    "    #     # Fit constants of every individual\n",
    "    # if generation % CONSTANT_FIT_INTERVAL == CONSTANT_FIT_INTERVAL-1:\n",
    "    #     print(f\"Generation {generation}: Mean fitness {calculate_mean_fitness(my_population)}\")\n",
    "    #     for individual in my_population:\n",
    "    #         stronger_inv = fit_constants(individual,CONSTANT_FIT_ITERATION, x, y)\n",
    "    #         my_population.remove(individual)\n",
    "    #         my_population.append(stronger_inv)\n",
    "    #     print(f\"Population mean fitness after constant fit: {calculate_mean_fitness(my_population)}\")\n",
    "        \n",
    "my_population = deduplicate_population(my_population)"
   ]
  },
  {
   "cell_type": "code",
   "execution_count": null,
   "metadata": {},
   "outputs": [],
   "source": [
    "assign_population_fitness(my_population,x,y)\n",
    "# Sort the population by fitness (ascending), then take the top 5\n",
    "top_5_individuals = top_n_individuals(my_population, 15)\n",
    "\n",
    "# Print the best individual\n",
    "print(f\"Best individual: Fitness = {best_result.fitness}: Genome = {best_result.genome}\")\n",
    "# Print the top 5 individuals with the minimum fitness in population\n",
    "for i, individual in enumerate(top_5_individuals, 1):\n",
    "    print(f\"Top {i}: Fitness = {individual.fitness}: Genome = {individual.genome}\")\n",
    "\n",
    "# Print the mean fitness of the population\n",
    "print(\"Mean fitness of the population: \", calculate_mean_fitness(my_population))\n",
    "print(\"Population size: \", len(my_population))\n",
    "print(f\"Population mean complexity: {calculate_mean_complexity(my_population)}\")"
   ]
  },
  {
   "cell_type": "code",
   "execution_count": null,
   "metadata": {},
   "outputs": [],
   "source": [
    "top = top_n_individuals(my_population, len(my_population))\n",
    "top[-30:]"
   ]
  },
  {
   "cell_type": "code",
   "execution_count": null,
   "metadata": {},
   "outputs": [],
   "source": [
    "top[:30]"
   ]
  },
  {
   "cell_type": "code",
   "execution_count": null,
   "metadata": {},
   "outputs": [],
   "source": [
    "problem_4 = np.load(\"data/problem_4.npz\")\n",
    "x = problem_4[\"x\"]\n",
    "y = problem_4[\"y\"]\n",
    "print(\"x.shape:\", x.shape)\n",
    "print(\"y.shape:\", y.shape)"
   ]
  },
  {
   "cell_type": "code",
   "execution_count": null,
   "metadata": {},
   "outputs": [],
   "source": [
    "NUM_POPULATION = 1000\n",
    "NUM_GENERATIONS = 10_000\n",
    "DEDUPE_INTERVAL = 10\n",
    "MAX_DEPTH_INITIAL = 6\n",
    "ELITISM = True\n",
    "ELITE_COUNT = 7\n",
    "TOURNAMENT_SUBSET_SIZE = 3\n",
    "TOURNAMENT_WINNER_SIZE = 50\n",
    "XOVER = 0.8\n",
    "MUTATION = 0.8\n",
    "BREED_NEW = 100\n",
    "KILL_AGE = 20\n",
    "\n",
    "population_4 = create_population(NUM_POPULATION,MAX_DEPTH_INITIAL,x.shape[0])\n",
    "assign_population_fitness(population_4,x,y)\n",
    "print(f\" Population size: {len(population_4)}\")\n",
    "print(f\"Population mean fitness: {calculate_mean_fitness(population_4)}\")\n",
    "print(f\"Population mean complexity: {calculate_mean_complexity(population_4)}\")\n",
    "\n",
    "# Sort the population by fitness (ascending), then take the top 5\n",
    "top_5_individuals = top_n_individuals(population_4, 5)\n",
    "\n",
    "# Print the top 5 individuals with the minimum fitness\n",
    "for i, individual in enumerate(top_5_individuals, 1):\n",
    "    print(f\"Top {i}: Fitness = {individual.fitness}: Genome = {individual.genome}\")"
   ]
  },
  {
   "cell_type": "code",
   "execution_count": null,
   "metadata": {},
   "outputs": [],
   "source": [
    "\n",
    "operators=[np.add, np.subtract, np.multiply, np.sin, np.cos, np.exp]\n",
    "unary_operators=[np.sin, np.cos, np.exp]\n",
    "\n",
    "assign_population_fitness(population_4,x,y)\n",
    "best_result = top_n_individuals(population_4, 1)[0]\n",
    "for generation in tqdm(range(NUM_GENERATIONS)):\n",
    "    num_xover=0\n",
    "    num_mut=0\n",
    "    num_succesfull_mut=0\n",
    "    age_population(population_4)\n",
    "    \n",
    "\n",
    "    # Kill eldest individuals\n",
    "    kill_eldest(population_4, KILL_AGE)\n",
    "    # print(\"Population size before killing constants: \", len(population_4))\n",
    "    kill_constant(population_4)\n",
    "    # print(\"Population size after killing constants: \", len(population_4))\n",
    "\n",
    "\n",
    "    best_ind = tournament_selection(population_4,TOURNAMENT_SUBSET_SIZE,TOURNAMENT_WINNER_SIZE,elitism=ELITISM, elite_count=ELITE_COUNT)\n",
    "\n",
    "    \n",
    "    for _ in range(BREED_NEW): # CHECK\n",
    "        if random.random() < XOVER:\n",
    "            # Xover the best individual and replace worst individuals\n",
    "            parent1 = population_4[best_ind[np.random.choice(len(best_ind))]]\n",
    "            parent2 = population_4[best_ind[np.random.choice(len(best_ind))]]\n",
    "            child1, child2 = crossover(parent1,parent2)\n",
    "            population_4.append(child1)\n",
    "            population_4.append(child2)\n",
    "            num_xover+=1\n",
    "\n",
    "        if random.random() < MUTATION:\n",
    "            # Mutate best individuals and replace worst individuals\n",
    "            parent = population_4[best_ind[np.random.choice(len(best_ind))]]\n",
    "            \n",
    "            child, success = mutation_w_sa(parent, x.shape[0], x, y)\n",
    "            num_mut+=1\n",
    "            if success:                \n",
    "                population_4.append(child)\n",
    "                num_succesfull_mut+=1\n",
    "\n",
    "    assign_population_fitness(population_4,x,y)\n",
    "    # print(f\"xover: {num_xover}, mut: {num_mut}, succesfull mut: {num_succesfull_mut}\")\n",
    "\n",
    "    current_best_result = top_n_individuals(population_4, 1)[0]\n",
    "    if best_result.fitness > current_best_result.fitness:\n",
    "        best_result = current_best_result\n",
    "        print(f\"New best result found: {best_result}\")\n",
    "    \n",
    "\n",
    "        \n",
    "    # Deduplicate every few iterations\n",
    "    if generation % DEDUPE_INTERVAL == DEDUPE_INTERVAL-1:\n",
    "        # print(\"Population size before Deduplicating population\", len(population_4))\n",
    "        population_4 = deduplicate_population(population_4, p=0)\n",
    "        # print(\"Population size after deduplicating: \", len(population_4))\n",
    "        # print(f\"Population mean complexity: {calculate_mean_complexity(population_4)}\")\n",
    "population_4 = deduplicate_population(population_4)"
   ]
  },
  {
   "cell_type": "code",
   "execution_count": null,
   "metadata": {},
   "outputs": [],
   "source": [
    "assign_population_fitness(population_4,x,y)\n",
    "# Sort the population by fitness (ascending), then take the top 5\n",
    "top_5_individuals = top_n_individuals(population_4, 15)\n",
    "\n",
    "# Print the best individual\n",
    "print(f\"Best individual: Fitness = {best_result.fitness}: Genome = {best_result.genome}\")\n",
    "# Print the top 5 individuals with the minimum fitness in population\n",
    "for i, individual in enumerate(top_5_individuals, 1):\n",
    "    print(f\"Top {i}: Fitness = {individual.fitness}: Genome = {individual.genome}\")\n",
    "\n",
    "# Print the mean fitness of the population\n",
    "print(\"Mean fitness of the population: \", calculate_mean_fitness(population_4))\n",
    "print(\"Population size: \", len(population_4))\n",
    "print(f\"Population mean complexity: {calculate_mean_complexity(population_4)}\")"
   ]
  },
  {
   "cell_type": "code",
   "execution_count": null,
   "metadata": {},
   "outputs": [],
   "source": []
  },
  {
   "cell_type": "code",
   "execution_count": 10,
   "metadata": {},
   "outputs": [],
   "source": [
    "best_sol = Node(value=np.add, left=Node(feature_index=0), right=Node(np.multiply, left=Node(feature_index=1), right=Node(value=0.2)))"
   ]
  },
  {
   "cell_type": "code",
   "execution_count": null,
   "metadata": {},
   "outputs": [],
   "source": [
    "print(\"Best solution: \", best_sol)"
   ]
  },
  {
   "cell_type": "code",
   "execution_count": null,
   "metadata": {},
   "outputs": [],
   "source": [
    "cost(best_sol, x, y)"
   ]
  },
  {
   "cell_type": "code",
   "execution_count": null,
   "metadata": {},
   "outputs": [],
   "source": []
  },
  {
   "cell_type": "code",
   "execution_count": null,
   "metadata": {},
   "outputs": [],
   "source": []
  },
  {
   "cell_type": "code",
   "execution_count": null,
   "metadata": {},
   "outputs": [],
   "source": []
  }
 ],
 "metadata": {
  "kernelspec": {
   "display_name": "ci",
   "language": "python",
   "name": "python3"
  },
  "language_info": {
   "codemirror_mode": {
    "name": "ipython",
    "version": 3
   },
   "file_extension": ".py",
   "mimetype": "text/x-python",
   "name": "python",
   "nbconvert_exporter": "python",
   "pygments_lexer": "ipython3",
   "version": "3.10.15"
  }
 },
 "nbformat": 4,
 "nbformat_minor": 2
}
