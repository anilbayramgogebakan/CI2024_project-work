{
 "cells": [
  {
   "cell_type": "code",
   "execution_count": 1,
   "metadata": {},
   "outputs": [],
   "source": [
    "import numpy as np\n",
    "from src.utils import *\n",
    "from tqdm import tqdm\n",
    "\n",
    "unary_operators=[np.sin, np.cos, np.exp, np.abs, np.log, np.tan]\n",
    "binary_operators=[np.add, np.subtract, np.multiply, np.divide]\n",
    "\n",
    "\n",
    "operators = unary_operators + binary_operators"
   ]
  },
  {
   "cell_type": "code",
   "execution_count": 2,
   "metadata": {},
   "outputs": [
    {
     "name": "stdout",
     "output_type": "stream",
     "text": [
      "x.shape: (2, 1000)\n",
      "y.shape: (1000,)\n"
     ]
    }
   ],
   "source": [
    "problem = np.load(\"data/problem_0.npz\")\n",
    "x = problem[\"x\"]\n",
    "y = problem[\"y\"]\n",
    "print(\"x.shape:\", x.shape)\n",
    "print(\"y.shape:\", y.shape)"
   ]
  },
  {
   "cell_type": "code",
   "execution_count": 3,
   "metadata": {},
   "outputs": [
    {
     "data": {
      "text/plain": [
       "1000"
      ]
     },
     "execution_count": 3,
     "metadata": {},
     "output_type": "execute_result"
    }
   ],
   "source": [
    "x.shape[1]"
   ]
  },
  {
   "cell_type": "code",
   "execution_count": 4,
   "metadata": {},
   "outputs": [
    {
     "name": "stdout",
     "output_type": "stream",
     "text": [
      "(2, 800)\n",
      "(2, 200)\n",
      "(800,)\n",
      "(200,)\n"
     ]
    }
   ],
   "source": [
    "train_split_ratio = 0.8\n",
    "train_len = int(x.shape[1]*train_split_ratio)\n",
    "train_x = x[:,:train_len]\n",
    "val_x = x[:,train_len:]\n",
    "train_y = y[:train_len]\n",
    "val_y = y[train_len:]\n",
    "print(train_x.shape)\n",
    "print(val_x.shape)\n",
    "print(train_y.shape)\n",
    "print(val_y.shape)"
   ]
  },
  {
   "cell_type": "code",
   "execution_count": 5,
   "metadata": {},
   "outputs": [
    {
     "name": "stdout",
     "output_type": "stream",
     "text": [
      "0.00014421615402757763\n",
      "0.00013792776500560924\n"
     ]
    }
   ],
   "source": [
    "my_node = Node(value=np.add, left=Node(value=None, feature_index=0), right=Node(value=np.multiply, left=Node(value=0.2), right=Node(value=None, feature_index=1)))\n",
    "my_inv = Individual(genome=my_node)\n",
    "assign_population_fitness_train([my_inv], train_x, train_y)\n",
    "print(my_inv.fitness)\n",
    "assign_population_fitness_val([my_inv], val_x, val_y)\n",
    "print(my_inv.fitness_val)"
   ]
  },
  {
   "cell_type": "code",
   "execution_count": 6,
   "metadata": {},
   "outputs": [],
   "source": [
    "def evolve(train_x,train_y,val_x,val_y):\n",
    "    try:\n",
    "        NUM_POPULATION = 100\n",
    "        NUM_GENERATIONS = 600\n",
    "        MAX_DEPTH_INITIAL = 5\n",
    "        DEDUPE_INTERVAL = 15\n",
    "        ELITISM = False\n",
    "        ELITE_COUNT = 3\n",
    "        TOURNAMENT_SUBSET_SIZE = 3\n",
    "        TOURNAMENT_WINNER_SIZE = 20\n",
    "        XOVER = 0.8\n",
    "        MUTATION = 0.8\n",
    "        BREED_NEW = 15\n",
    "        KILL_AGE = 16\n",
    "        CONSTANT_FIT_INTERVAL = 30\n",
    "        CONSTANT_FIT_ITERATION = 6\n",
    "\n",
    "        print(\"Population is creating with a size: \", NUM_POPULATION)\n",
    "        my_population = create_population(NUM_POPULATION,MAX_DEPTH_INITIAL,train_x.shape[0])\n",
    "        print(\"Population has created.\")\n",
    "        print(\"Individual fitness values are assigning\")\n",
    "        assign_population_fitness_train(my_population,train_x,train_y)\n",
    "        assign_population_fitness_val(my_population,val_x,val_y)\n",
    "        print(f\" Population size: {len(my_population)}\")\n",
    "        print(f\"Population mean fitness: {calculate_mean_fitness(my_population)}\")\n",
    "        print(f\"Population mean complexity: {calculate_mean_complexity(my_population)}\")\n",
    "\n",
    "        # Sort the population by fitness (ascending), then take the top 5\n",
    "        top_5_individuals = top_n_individuals(my_population, 5)\n",
    "\n",
    "        # Print the top 5 individuals with the minimum fitness\n",
    "        for i, individual in enumerate(top_5_individuals, 1):\n",
    "            print(f\"Top {i}: Fitness = {individual.fitness} Fitness_val = {individual.fitness_val} Genome = {individual.genome}\")\n",
    "        #----------------------------------------------------------------------------\n",
    "        assign_population_fitness_train(my_population,train_x,train_y)\n",
    "        assign_population_fitness_val(my_population,val_x,val_y)\n",
    "        best_result = top_n_individuals(my_population, 1)[0]\n",
    "        for generation in tqdm(range(NUM_GENERATIONS)):\n",
    "            num_xover=0\n",
    "            num_mut=0\n",
    "            num_succesfull_mut=0\n",
    "            age_population(my_population)\n",
    "            \n",
    "\n",
    "            # Kill eldest individuals\n",
    "            kill_eldest(my_population, KILL_AGE)\n",
    "            # print(\"Population size before killing constants: \", len(my_population))\n",
    "            \n",
    "            # print(\"Population size after killing constants: \", len(my_population))\n",
    "\n",
    "\n",
    "            best_ind = tournament_selection(my_population,TOURNAMENT_SUBSET_SIZE,TOURNAMENT_WINNER_SIZE,ELITISM=ELITISM, elite_count=ELITE_COUNT)\n",
    "\n",
    "            \n",
    "            for _ in range(BREED_NEW): # CHECK\n",
    "                if random.random() < XOVER:\n",
    "                    # Xover the best individual and replace worst individuals\n",
    "                    parent1 = my_population[best_ind[np.random.choice(len(best_ind))]]\n",
    "                    parent2 = my_population[best_ind[np.random.choice(len(best_ind))]]\n",
    "                    child1, child2 = crossover(parent1,parent2)\n",
    "                    my_population.append(child1)\n",
    "                    my_population.append(child2)\n",
    "                    num_xover+=1\n",
    "\n",
    "                if random.random() < MUTATION:\n",
    "                    # Mutate best individuals and replace worst individuals\n",
    "                    parent = my_population[best_ind[np.random.choice(len(best_ind))]]\n",
    "                    \n",
    "                    child, success = mutation_w_sa(parent, x.shape[0], train_x, train_y)\n",
    "                    num_mut+=1\n",
    "                    if success:                \n",
    "                        my_population.append(child)\n",
    "                        num_succesfull_mut+=1\n",
    "\n",
    "            assign_population_fitness_train(my_population,train_x,train_y)\n",
    "            assign_population_fitness_val(my_population,val_x,val_y)\n",
    "\n",
    "            # print(f\"xover: {num_xover}, mut: {num_mut}, succesfull mut: {num_succesfull_mut}\")\n",
    "            simplify_constant_population(my_population)\n",
    "            # Update elites age as 0\n",
    "            elites = top_n_individuals(my_population, ELITE_COUNT)\n",
    "            if best_result.fitness > elites[0].fitness:\n",
    "                best_result = elites[0]\n",
    "                print(f\"New best result found: {best_result}\")\n",
    "            \n",
    "            for elite in elites:\n",
    "                my_population.remove(elite)\n",
    "                elite.age = 0\n",
    "                my_population.append(elite)\n",
    "\n",
    "            # Deduplicate every few iterations\n",
    "            if generation % DEDUPE_INTERVAL == DEDUPE_INTERVAL-1:\n",
    "                init_population = len(my_population)\n",
    "                my_population = deduplicate_population(my_population)\n",
    "                dedup_population = len(my_population)\n",
    "                simplify_operation_population(my_population)\n",
    "                simplified_operations = len(my_population)\n",
    "                kill_constant(my_population)\n",
    "                no_constant = len(my_population)\n",
    "\n",
    "                print(f\"Initial: {init_population}, Deduplicated: {init_population-dedup_population}, Operation simplified: {dedup_population-simplified_operations}, Constant: {simplified_operations-no_constant}, Final: {no_constant}\")\n",
    "                print(f\"Population mean complexity: {calculate_mean_complexity(my_population)}\")\n",
    "                print(f\"Population mean fitness: {calculate_mean_fitness(my_population)}\")\n",
    "                print()\n",
    "                best_5 = top_n_individuals(my_population, 5)\n",
    "                for ind in range(len(best_5)):\n",
    "                    print(f\"{ind}. Fitness: {best_5[ind].fitness:.3f}, Fitness_val = {best_5[ind].fitness_val}, Genome: {best_5[ind].genome}, Age: {best_5[ind].age}\")\n",
    "                    \n",
    "            #     # Fit constants of every individual\n",
    "            if generation % CONSTANT_FIT_INTERVAL == CONSTANT_FIT_INTERVAL-1:\n",
    "                print(f\"Generation {generation}: Mean fitness {calculate_mean_fitness(my_population)}\")\n",
    "                for ind in range(len(my_population)):\n",
    "                    stronger_inv = fit_constants(my_population[ind],CONSTANT_FIT_ITERATION, train_x, train_y)\n",
    "                    my_population[ind] = stronger_inv\n",
    "                print(f\"Population mean fitness after constant fit: {calculate_mean_fitness(my_population)}\")\n",
    "                best_5 = top_n_individuals(my_population, 5)\n",
    "                for ind in range(len(best_5)):\n",
    "                    print(f\"{ind}. Fitness: {best_5[ind].fitness:.3f}, Fitness_val = {best_5[ind].fitness_val}, Genome: {best_5[ind].genome}, Age: {best_5[ind].age}\")\n",
    "            \n",
    "\n",
    "        my_population = deduplicate_population(my_population)\n",
    "        #-------------------------------------------------------------------------------------------------------\n",
    "        assign_population_fitness_train(my_population,train_x,train_y)\n",
    "        assign_population_fitness_val(my_population,val_x,val_y)\n",
    "        # Sort the population by fitness (ascending), then take the top 5\n",
    "        top_5_individuals = top_n_individuals(my_population, 15)\n",
    "\n",
    "        # Print the best individual\n",
    "        print(f\"Best individual: Fitness = {best_result.fitness}: Genome = {best_result.genome}\")\n",
    "        # Print the top 5 individuals with the minimum fitness in population\n",
    "        for i, individual in enumerate(top_5_individuals, 1):\n",
    "            print(f\"Top {i}: Fitness = {individual.fitness} Fitness_val = {individual.fitness_val} Genome = {individual.genome}\")\n",
    "\n",
    "        # Print the mean fitness of the population\n",
    "        print(\"Mean fitness of the population: \", calculate_mean_fitness(my_population))\n",
    "        print(\"Population size: \", len(my_population))\n",
    "        print(f\"Population mean complexity: {calculate_mean_complexity(my_population)}\")\n",
    "        \n",
    "        return my_population\n",
    "    except:\n",
    "        print(\"ERROR\")\n",
    "        return my_population"
   ]
  },
  {
   "cell_type": "code",
   "execution_count": 7,
   "metadata": {},
   "outputs": [
    {
     "name": "stdout",
     "output_type": "stream",
     "text": [
      "x.shape: (2, 1000)\n",
      "y.shape: (1000,)\n",
      "Population is creating with a size:  100\n",
      "Population has created.\n",
      "Individual fitness values are assigning\n",
      " Population size: 73\n",
      "Population mean fitness: 1667.2640722921383\n",
      "Population mean complexity: 166.34246575342465\n",
      "Top 1: Fitness = 1.8754871708160181 Fitness_val = 1.9533305325663053 Genome = sin(x[0])\n",
      "Top 2: Fitness = 1.8754871708160181 Fitness_val = 1.9533305325663053 Genome = sin(x[0])\n",
      "Top 3: Fitness = 1.8754871708160181 Fitness_val = 1.9533305325663053 Genome = sin(x[0])\n",
      "Top 4: Fitness = 3.3940767455582725 Fitness_val = 3.4620375559556074 Genome = abs([0.19357373])\n",
      "Top 5: Fitness = 3.391886585581424 Fitness_val = 3.4626623716471405 Genome = log([1.20509943])\n"
     ]
    },
    {
     "name": "stderr",
     "output_type": "stream",
     "text": [
      "  0%|          | 1/600 [00:01<15:42,  1.57s/it]"
     ]
    },
    {
     "name": "stdout",
     "output_type": "stream",
     "text": [
      "New best result found: Individual(genome=x[0], fitness=np.float64(0.010763171848597946), fitness_val=np.float64(0.010325632633118373), age=0, T=1)\n"
     ]
    },
    {
     "name": "stderr",
     "output_type": "stream",
     "text": [
      "  2%|▎         | 15/600 [00:14<05:43,  1.70it/s]"
     ]
    },
    {
     "name": "stdout",
     "output_type": "stream",
     "text": [
      "Initial: 601, Deduplicated: 430, Operation simplified: 0, Constant: 100, Final: 71\n",
      "Population mean complexity: 179.43661971830986\n",
      "Population mean fitness: 39687.806029948246\n",
      "\n",
      "0. Fitness: 0.011, Genome: x[0], Age: 0\n",
      "1. Fitness: 0.172, Genome: (x[0] + sin(x[1])), Age: 12\n",
      "2. Fitness: 0.512, Genome: (x[0] + sin(x[0])), Age: 10\n",
      "3. Fitness: 1.875, Genome: sin(x[0]), Age: 0\n",
      "4. Fitness: 2.026, Genome: (x[1] + sin(x[0])), Age: 12\n"
     ]
    },
    {
     "name": "stderr",
     "output_type": "stream",
     "text": [
      "  5%|▍         | 29/600 [00:28<06:37,  1.43it/s]"
     ]
    },
    {
     "name": "stdout",
     "output_type": "stream",
     "text": [
      "Initial: 531, Deduplicated: 389, Operation simplified: 0, Constant: 79, Final: 63\n",
      "Population mean complexity: 98.4920634920635\n",
      "Population mean fitness: 3.8098861168745377e+64\n",
      "\n",
      "0. Fitness: 0.011, Genome: x[0], Age: 0\n",
      "1. Fitness: 0.172, Genome: (x[0] + sin(x[1])), Age: 11\n",
      "2. Fitness: 0.221, Genome: (x[0] + x[1]), Age: 10\n",
      "3. Fitness: 0.512, Genome: (x[0] + sin(x[0])), Age: 1\n",
      "4. Fitness: 0.646, Genome: ((x[0] + sin(x[1])) + sin(x[0])), Age: 11\n",
      "Generation 29: Mean fitness 3.8098861168745377e+64\n"
     ]
    },
    {
     "name": "stderr",
     "output_type": "stream",
     "text": [
      "  5%|▍         | 29/600 [00:53<17:24,  1.83s/it]"
     ]
    },
    {
     "name": "stdout",
     "output_type": "stream",
     "text": [
      "ERROR\n"
     ]
    },
    {
     "name": "stderr",
     "output_type": "stream",
     "text": [
      "\n"
     ]
    }
   ],
   "source": [
    "\n",
    "problem = np.load(\"data/problem_0.npz\")\n",
    "x = problem[\"x\"]\n",
    "y = problem[\"y\"]\n",
    "print(\"x.shape:\", x.shape)\n",
    "print(\"y.shape:\", y.shape)\n",
    "my_pop_0 = evolve(train_x,train_y,val_x,val_y)\n"
   ]
  },
  {
   "cell_type": "code",
   "execution_count": 8,
   "metadata": {},
   "outputs": [
    {
     "name": "stdout",
     "output_type": "stream",
     "text": [
      "Individual(genome=([0.41403854] + tan(sin(([0.44292473] + x[1])))), fitness=np.float64(4.509277060551148), fitness_val=None, age=3, T=0.9025)\n",
      "Individual(genome=([-0.71868489] * x[0]), fitness=np.float64(5.10356660636412), fitness_val=None, age=3, T=0.9025)\n",
      "Individual(genome=([-1.20236102] * x[0]), fitness=np.float64(8.220756233402055), fitness_val=None, age=7, T=0.95)\n",
      "Individual(genome=((tan((exp(x[0]) * [-1.18644836])) - sin(sin(exp(x[0])))) - [0.618507]), fitness=np.float64(369.639651358653), fitness_val=None, age=7, T=0.95)\n",
      "Individual(genome=(x[0] * ([0.02163507] + ((exp(sin(x[0])) / [1.52493302]) + ([0.67748022] - (([1.02319925] / x[0]) + tan(x[1])))))), fitness=np.float64(13.25879418259408), fitness_val=None, age=7, T=0.95)\n",
      "Individual(genome=([-1.35484562] * x[0]), fitness=np.float64(9.528804412833379), fitness_val=None, age=1, T=0.95)\n",
      "Individual(genome=((tan((exp(x[0]) * cos(x[1]))) - [-0.66312093]) - [1.10564705]), fitness=np.float64(2523.258301909403), fitness_val=None, age=7, T=0.95)\n",
      "Individual(genome=([-0.65728225] + sin(cos(sin(sin((x[0] * x[0])))))), fitness=np.float64(3.3777871067551883), fitness_val=None, age=7, T=0.95)\n",
      "Individual(genome=([-0.61326328] - x[0]), fitness=np.float64(7.185303156312042), fitness_val=None, age=5, T=0.95)\n",
      "Individual(genome=(x[1] * [-0.85560869]), fitness=np.float64(3.6103215515178593), fitness_val=None, age=3, T=0.95)\n",
      "Individual(genome=([-1.29103656] + x[0]), fitness=np.float64(8.386937746727995), fitness_val=None, age=7, T=0.95)\n",
      "Individual(genome=([0.23528089] + x[0]), fitness=np.float64(6.776546282049788), fitness_val=None, age=1, T=0.8573749999999999)\n",
      "Individual(genome=([0.67846752] + x[1]), fitness=np.float64(4.11128327345692), fitness_val=None, age=0, T=0.8145062499999999)\n",
      "Individual(genome=([0.87684349] + ((exp(sin(x[0])) / [1.52493302]) + ([0.67748022] + ((x[0] / x[0]) + tan(x[1]))))), fitness=np.float64(15.626232978150927), fitness_val=None, age=3, T=0.95)\n",
      "Individual(genome=([1.52897161] * ((exp(sin(x[0])) / [1.52493302]) + ([0.67748022] + ((x[0] / x[0]) + tan(x[1]))))), fitness=np.float64(20.098257419572985), fitness_val=None, age=6, T=0.95)\n",
      "Individual(genome=(x[1] / [0.9185995]), fitness=np.float64(3.7594041352366947), fitness_val=None, age=1, T=0.8573749999999999)\n",
      "Individual(genome=([0.11634546] - x[0]), fitness=np.float64(6.723357246635885), fitness_val=None, age=2, T=0.9025)\n",
      "Individual(genome=(x[0] - [0.13123622]), fitness=np.float64(6.738165557338793), fitness_val=None, age=4, T=0.95)\n",
      "Individual(genome=([0.02163507] + ([0.71538199] + ([0.67748022] + ((x[0] / x[0]) + tan(x[1]))))), fitness=np.float64(9.589723347214525), fitness_val=None, age=3, T=0.95)\n",
      "Individual(genome=([0.02163507] + ((exp(sin(x[0])) / [1.52493302]) + ([1.2079319] + ((x[0] / x[0]) + tan(x[0]))))), fitness=np.float64(383.46313080030137), fitness_val=None, age=3, T=0.95)\n"
     ]
    }
   ],
   "source": [
    "broken_inv = []\n",
    "for i in my_pop_0:\n",
    "    if i.fitness_val == None:\n",
    "        broken_inv.append(i)\n",
    "        print(i)"
   ]
  },
  {
   "cell_type": "code",
   "execution_count": null,
   "metadata": {},
   "outputs": [],
   "source": [
    "try:\n",
    "    problem = np.load(\"data/problem_1.npz\")\n",
    "    x = problem[\"x\"]\n",
    "    y = problem[\"y\"]\n",
    "    print(\"x.shape:\", x.shape)\n",
    "    print(\"y.shape:\", y.shape)\n",
    "    my_pop_1 = evolve(x,y)\n",
    "except:\n",
    "    print(\"ERROR\")"
   ]
  },
  {
   "cell_type": "code",
   "execution_count": null,
   "metadata": {},
   "outputs": [],
   "source": [
    "try:\n",
    "    problem = np.load(\"data/problem_2.npz\")\n",
    "    x = problem[\"x\"]\n",
    "    y = problem[\"y\"]\n",
    "    print(\"x.shape:\", x.shape)\n",
    "    print(\"y.shape:\", y.shape)\n",
    "    my_pop_2 = evolve(x,y)\n",
    "except:\n",
    "    print(\"ERROR\")"
   ]
  },
  {
   "cell_type": "code",
   "execution_count": null,
   "metadata": {},
   "outputs": [],
   "source": [
    "try:\n",
    "    problem = np.load(\"data/problem_3.npz\")\n",
    "    x = problem[\"x\"]\n",
    "    y = problem[\"y\"]\n",
    "    print(\"x.shape:\", x.shape)\n",
    "    print(\"y.shape:\", y.shape)\n",
    "    my_pop_3 = evolve(x,y)\n",
    "except: \n",
    "    print(\"ERROR\")"
   ]
  },
  {
   "cell_type": "code",
   "execution_count": null,
   "metadata": {},
   "outputs": [],
   "source": [
    "try:\n",
    "    problem = np.load(\"data/problem_4.npz\")\n",
    "    x = problem[\"x\"]\n",
    "    y = problem[\"y\"]\n",
    "    print(\"x.shape:\", x.shape)\n",
    "    print(\"y.shape:\", y.shape)\n",
    "    my_pop_4 = evolve(x,y)\n",
    "except: \n",
    "    print(\"ERROR\")"
   ]
  },
  {
   "cell_type": "code",
   "execution_count": null,
   "metadata": {},
   "outputs": [],
   "source": [
    "try:\n",
    "    problem = np.load(\"data/problem_5.npz\")\n",
    "    x = problem[\"x\"]\n",
    "    y = problem[\"y\"]\n",
    "    print(\"x.shape:\", x.shape)\n",
    "    print(\"y.shape:\", y.shape)\n",
    "    my_pop_5 = evolve(x,y)\n",
    "except: \n",
    "    print(\"ERROR\")"
   ]
  },
  {
   "cell_type": "code",
   "execution_count": null,
   "metadata": {},
   "outputs": [],
   "source": [
    "try:\n",
    "    problem = np.load(\"data/problem_6.npz\")\n",
    "    x = problem[\"x\"]\n",
    "    y = problem[\"y\"]\n",
    "    print(\"x.shape:\", x.shape)\n",
    "    print(\"y.shape:\", y.shape)\n",
    "    my_pop_6 = evolve(x,y)\n",
    "except: \n",
    "    print(\"ERROR\")"
   ]
  },
  {
   "cell_type": "code",
   "execution_count": null,
   "metadata": {},
   "outputs": [],
   "source": [
    "try:\n",
    "    problem = np.load(\"data/problem_7.npz\")\n",
    "    x = problem[\"x\"]\n",
    "    y = problem[\"y\"]\n",
    "    print(\"x.shape:\", x.shape)\n",
    "    print(\"y.shape:\", y.shape)\n",
    "    my_pop_7 = evolve(x,y)\n",
    "except: \n",
    "    print(\"ERROR\")"
   ]
  },
  {
   "cell_type": "code",
   "execution_count": null,
   "metadata": {},
   "outputs": [],
   "source": [
    "try:\n",
    "    problem = np.load(\"data/problem_8.npz\")\n",
    "    x = problem[\"x\"]\n",
    "    y = problem[\"y\"]\n",
    "    print(\"x.shape:\", x.shape)\n",
    "    print(\"y.shape:\", y.shape)\n",
    "    my_pop_8 = evolve(x,y)\n",
    "except: \n",
    "    print(\"ERROR\")"
   ]
  },
  {
   "cell_type": "code",
   "execution_count": null,
   "metadata": {},
   "outputs": [],
   "source": []
  },
  {
   "cell_type": "code",
   "execution_count": null,
   "metadata": {},
   "outputs": [],
   "source": []
  }
 ],
 "metadata": {
  "kernelspec": {
   "display_name": "ci",
   "language": "python",
   "name": "python3"
  },
  "language_info": {
   "codemirror_mode": {
    "name": "ipython",
    "version": 3
   },
   "file_extension": ".py",
   "mimetype": "text/x-python",
   "name": "python",
   "nbconvert_exporter": "python",
   "pygments_lexer": "ipython3",
   "version": "3.10.15"
  }
 },
 "nbformat": 4,
 "nbformat_minor": 2
}
