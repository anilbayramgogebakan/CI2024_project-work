{
 "cells": [
  {
   "cell_type": "code",
   "execution_count": 18,
   "metadata": {},
   "outputs": [],
   "source": [
    "import numpy as np\n",
    "from src.utils import *\n",
    "from src.node import *\n",
    "from tqdm import tqdm\n",
    "\n",
    "operators=[np.add, np.subtract, np.multiply, np.sin, np.cos, np.exp]\n",
    "one_arg_op=[np.sin, np.cos, np.exp]"
   ]
  },
  {
   "cell_type": "code",
   "execution_count": 19,
   "metadata": {},
   "outputs": [
    {
     "name": "stdout",
     "output_type": "stream",
     "text": [
      "x.shape: (2, 1000)\n",
      "y.shape: (1000,)\n"
     ]
    }
   ],
   "source": [
    "problem_0 = np.load(\"data/problem_0.npz\")\n",
    "x = problem_0[\"x\"]\n",
    "y = problem_0[\"y\"]\n",
    "print(\"x.shape:\", x.shape)\n",
    "print(\"y.shape:\", y.shape)"
   ]
  },
  {
   "cell_type": "code",
   "execution_count": 20,
   "metadata": {},
   "outputs": [],
   "source": [
    "my_population = create_population(100,3,x.shape[0])"
   ]
  },
  {
   "cell_type": "code",
   "execution_count": null,
   "metadata": {},
   "outputs": [
    {
     "name": "stdout",
     "output_type": "stream",
     "text": [
      "simplified.shape: 100\n"
     ]
    },
    {
     "name": "stderr",
     "output_type": "stream",
     "text": [
      "c:\\Users\\abayr\\OneDrive\\Desktop\\Computational_Intelligence\\Projects\\CI_project_draft\\src\\utils.py:236: RuntimeWarning: overflow encountered in square\n",
      "  mse = np.mean((predictions - y) ** 2)\n"
     ]
    }
   ],
   "source": [
    "simplified = simplify(my_population, x, y)\n",
    "print(\"simplified.shape:\", len(simplified))"
   ]
  },
  {
   "cell_type": "code",
   "execution_count": 23,
   "metadata": {},
   "outputs": [
    {
     "name": "stdout",
     "output_type": "stream",
     "text": [
      "Cost population:  inf\n",
      "Best cost:  0.21878415413758193\n"
     ]
    },
    {
     "name": "stderr",
     "output_type": "stream",
     "text": [
      "c:\\Users\\abayr\\OneDrive\\Desktop\\Computational_Intelligence\\Projects\\CI_project_draft\\src\\node.py:93: RuntimeWarning: overflow encountered in square\n",
      "  mse = np.mean((predictions - y) ** 2)\n"
     ]
    }
   ],
   "source": [
    "cost_pop = cost_population(simplified,x,y)\n",
    "print(\"Cost population: \", cost_pop.mean())\n",
    "print(\"Best cost: \", cost_pop.min())"
   ]
  },
  {
   "cell_type": "code",
   "execution_count": 10,
   "metadata": {},
   "outputs": [
    {
     "name": "stderr",
     "output_type": "stream",
     "text": [
      "100%|██████████| 10000/10000 [00:06<00:00, 1659.11it/s]\n"
     ]
    }
   ],
   "source": [
    "NUM_GENERATIONS = 10000\n",
    "operators=[np.add, np.subtract, np.multiply, np.sin, np.cos, np.exp]\n",
    "one_arg_op=[np.sin, np.cos, np.exp]\n",
    "\n",
    "for _ in tqdm(range(NUM_GENERATIONS)):\n",
    "    best_ind, worst_ind = tournament_selection(cost_pop,10)\n",
    "    # Mutate the best individual and replace worst individuals\n",
    "    for j in range(0,len(worst_ind)//2,2):\n",
    "        parent1 = my_population[best_ind[np.random.choice(len(worst_ind))]]\n",
    "        parent2 = my_population[best_ind[np.random.choice(len(worst_ind))]]\n",
    "        child1, child2 = crossover(parent1,parent2)\n",
    "        \n",
    "        my_population[worst_ind[j]] = child1\n",
    "        my_population[worst_ind[j+1]] = child2"
   ]
  },
  {
   "cell_type": "code",
   "execution_count": 11,
   "metadata": {},
   "outputs": [
    {
     "name": "stdout",
     "output_type": "stream",
     "text": [
      "Cost population:  67.91755868390331\n",
      "Best cost:  0.21878415413758193\n"
     ]
    }
   ],
   "source": [
    "cost_pop = cost_population(my_population,x,y)\n",
    "print(\"Cost population: \", cost_pop.mean())\n",
    "print(\"Best cost: \", cost_pop.min())"
   ]
  },
  {
   "cell_type": "code",
   "execution_count": 27,
   "metadata": {},
   "outputs": [
    {
     "data": {
      "text/plain": [
       "np.float64(-0.6805286532993463)"
      ]
     },
     "execution_count": 27,
     "metadata": {},
     "output_type": "execute_result"
    }
   ],
   "source": []
  },
  {
   "cell_type": "code",
   "execution_count": null,
   "metadata": {},
   "outputs": [],
   "source": []
  }
 ],
 "metadata": {
  "kernelspec": {
   "display_name": "ci",
   "language": "python",
   "name": "python3"
  },
  "language_info": {
   "codemirror_mode": {
    "name": "ipython",
    "version": 3
   },
   "file_extension": ".py",
   "mimetype": "text/x-python",
   "name": "python",
   "nbconvert_exporter": "python",
   "pygments_lexer": "ipython3",
   "version": "3.10.15"
  }
 },
 "nbformat": 4,
 "nbformat_minor": 2
}
