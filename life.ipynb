{
 "cells": [
  {
   "cell_type": "code",
   "execution_count": 1,
   "metadata": {},
   "outputs": [],
   "source": [
    "import numpy as np\n",
    "from src.Individual import Individual\n",
    "from src.utils import *\n",
    "from tqdm import tqdm\n",
    "\n",
    "operators=[np.add, np.subtract, np.multiply, np.sin, np.cos, np.exp]\n",
    "one_arg_op=[np.sin, np.cos, np.exp]"
   ]
  },
  {
   "cell_type": "code",
   "execution_count": 9,
   "metadata": {},
   "outputs": [
    {
     "name": "stdout",
     "output_type": "stream",
     "text": [
      "x.shape: (3, 5000)\n",
      "y.shape: (5000,)\n"
     ]
    }
   ],
   "source": [
    "problem_0 = np.load(\"data/problem_3.npz\")\n",
    "x = problem_0[\"x\"]\n",
    "y = problem_0[\"y\"]\n",
    "print(\"x.shape:\", x.shape)\n",
    "print(\"y.shape:\", y.shape)"
   ]
  },
  {
   "cell_type": "code",
   "execution_count": 10,
   "metadata": {},
   "outputs": [],
   "source": [
    "NUM_POPULATION = 100\n",
    "my_population = create_population(NUM_POPULATION,5,x.shape[0])"
   ]
  },
  {
   "cell_type": "code",
   "execution_count": 11,
   "metadata": {},
   "outputs": [
    {
     "name": "stdout",
     "output_type": "stream",
     "text": [
      "95\n"
     ]
    }
   ],
   "source": [
    "assign_population_fitness(my_population,x,y)\n",
    "print(len(my_population))\n",
    "# print(\"Cost population: \", cost_pop.mean())\n",
    "# print(\"Best cost: \", cost_pop.min())"
   ]
  },
  {
   "cell_type": "code",
   "execution_count": 12,
   "metadata": {},
   "outputs": [],
   "source": [
    "# for i in range(len(my_population)):\n",
    "#     print(my_population[i])"
   ]
  },
  {
   "cell_type": "code",
   "execution_count": 13,
   "metadata": {},
   "outputs": [
    {
     "name": "stdout",
     "output_type": "stream",
     "text": [
      "Top 1: Fitness = 2568.807870400599: Genome = (x[0] * x[0])\n",
      "Top 2: Fitness = 2706.4796257917733: Genome = exp((exp(cos(([-0.12365943] * [0.59547799]))) + sin((sin(x[0]) * (x[0] - x[2])))))\n",
      "Top 3: Fitness = 2772.425129865437: Genome = (x[1] * x[1])\n",
      "Top 4: Fitness = 2799.9708142863237: Genome = exp([1.75201527])\n",
      "Top 5: Fitness = 2836.1584646229903: Genome = (x[2] - x[1])\n"
     ]
    }
   ],
   "source": [
    "# Sort the population by fitness (ascending), then take the top 5\n",
    "top_5_individuals = top_n_individuals(my_population, 5)\n",
    "\n",
    "# Print the top 5 individuals with the minimum fitness\n",
    "for i, individual in enumerate(top_5_individuals, 1):\n",
    "    print(f\"Top {i}: Fitness = {individual.fitness}: Genome = {individual.genome}\")"
   ]
  },
  {
   "cell_type": "code",
   "execution_count": 14,
   "metadata": {},
   "outputs": [
    {
     "name": "stderr",
     "output_type": "stream",
     "text": [
      "  1%|          | 1/100 [00:14<23:59, 14.54s/it]"
     ]
    },
    {
     "name": "stdout",
     "output_type": "stream",
     "text": [
      "Deduplicating population\n",
      "Population size:  111\n"
     ]
    },
    {
     "name": "stderr",
     "output_type": "stream",
     "text": [
      " 11%|█         | 11/100 [04:03<33:35, 22.65s/it]"
     ]
    },
    {
     "name": "stdout",
     "output_type": "stream",
     "text": [
      "Deduplicating population\n",
      "Population size:  375\n"
     ]
    },
    {
     "name": "stderr",
     "output_type": "stream",
     "text": [
      " 21%|██        | 21/100 [08:30<34:03, 25.86s/it]"
     ]
    },
    {
     "name": "stdout",
     "output_type": "stream",
     "text": [
      "New best result found: Individual(genome=exp((exp(cos(([-0.12365943] * [0.59547799]))) + sin(exp(sin([1.57208267]))))), fitness=np.float64(2563.7183717052135), age=0, T=1)\n",
      "Deduplicating population\n",
      "Population size:  405\n"
     ]
    },
    {
     "name": "stderr",
     "output_type": "stream",
     "text": [
      " 22%|██▏       | 22/100 [09:00<35:27, 27.28s/it]"
     ]
    },
    {
     "name": "stdout",
     "output_type": "stream",
     "text": [
      "New best result found: Individual(genome=exp((exp(cos(([-0.12365943] * [0.59547799]))) - ([0.50401647] * ([-0.26845307] - [0.50401647])))), fitness=np.float64(2562.5276929227075), age=0, T=1)\n"
     ]
    },
    {
     "name": "stderr",
     "output_type": "stream",
     "text": [
      " 31%|███       | 31/100 [14:29<45:43, 39.77s/it]"
     ]
    },
    {
     "name": "stdout",
     "output_type": "stream",
     "text": [
      "Deduplicating population\n",
      "Population size:  404\n"
     ]
    },
    {
     "name": "stderr",
     "output_type": "stream",
     "text": [
      " 41%|████      | 41/100 [22:30<48:35, 49.41s/it]"
     ]
    },
    {
     "name": "stdout",
     "output_type": "stream",
     "text": [
      "Deduplicating population\n",
      "Population size:  382\n"
     ]
    },
    {
     "name": "stderr",
     "output_type": "stream",
     "text": [
      " 51%|█████     | 51/100 [34:08<1:03:05, 77.25s/it]"
     ]
    },
    {
     "name": "stdout",
     "output_type": "stream",
     "text": [
      "Deduplicating population\n",
      "Population size:  366\n"
     ]
    },
    {
     "name": "stderr",
     "output_type": "stream",
     "text": [
      " 61%|██████    | 61/100 [51:43<1:21:05, 124.75s/it]"
     ]
    },
    {
     "name": "stdout",
     "output_type": "stream",
     "text": [
      "Deduplicating population\n",
      "Population size:  378\n"
     ]
    },
    {
     "name": "stderr",
     "output_type": "stream",
     "text": [
      " 71%|███████   | 71/100 [1:11:59<1:09:06, 143.00s/it]"
     ]
    },
    {
     "name": "stdout",
     "output_type": "stream",
     "text": [
      "Deduplicating population\n",
      "Population size:  398\n"
     ]
    },
    {
     "name": "stderr",
     "output_type": "stream",
     "text": [
      " 81%|████████  | 81/100 [1:34:54<44:01, 139.05s/it]  "
     ]
    },
    {
     "name": "stdout",
     "output_type": "stream",
     "text": [
      "Deduplicating population\n",
      "Population size:  357\n"
     ]
    },
    {
     "name": "stderr",
     "output_type": "stream",
     "text": [
      " 91%|█████████ | 91/100 [1:55:13<20:33, 137.02s/it]"
     ]
    },
    {
     "name": "stdout",
     "output_type": "stream",
     "text": [
      "Deduplicating population\n",
      "Population size:  287\n"
     ]
    },
    {
     "name": "stderr",
     "output_type": "stream",
     "text": [
      "100%|██████████| 100/100 [2:19:15<00:00, 83.55s/it] \n"
     ]
    }
   ],
   "source": [
    "NUM_GENERATIONS = 100\n",
    "DEDUPE_INTERVAL = 10\n",
    "operators=[np.add, np.subtract, np.multiply, np.sin, np.cos, np.exp]\n",
    "one_arg_op=[np.sin, np.cos, np.exp]\n",
    "XOVER = 0.5\n",
    "MUTATION = 0.5\n",
    "assign_population_fitness(my_population,x,y)\n",
    "best_result = top_n_individuals(my_population, 1)[0]\n",
    "for generation in tqdm(range(NUM_GENERATIONS)):\n",
    "    age_population(my_population)\n",
    "    \n",
    "\n",
    "    # Kill eldest individuals\n",
    "    kill_eldest(my_population, 15)\n",
    "\n",
    "\n",
    "    best_ind = tournament_selection(my_population,4,15,elitism=True, elite_count=3)\n",
    "\n",
    "    \n",
    "    for _ in range(20): # CHECK\n",
    "        if random.random() < XOVER:\n",
    "            # Xover the best individual and replace worst individuals\n",
    "            parent1 = my_population[best_ind[np.random.choice(len(best_ind))]]\n",
    "            parent2 = my_population[best_ind[np.random.choice(len(best_ind))]]\n",
    "            child1, child2 = crossover(parent1,parent2)\n",
    "            my_population.append(child1)\n",
    "            my_population.append(child2)\n",
    "\n",
    "        if random.random() < MUTATION:\n",
    "            # Mutate best individuals and replace worst individuals\n",
    "            parent = my_population[best_ind[np.random.choice(len(best_ind))]]\n",
    "            child = mutation(parent, x.shape[0])\n",
    "            my_population.append(child)\n",
    "    assign_population_fitness(my_population,x,y)\n",
    "\n",
    "    current_best_result = top_n_individuals(my_population, 1)[0]\n",
    "    if best_result.fitness > current_best_result.fitness:\n",
    "        best_result = current_best_result\n",
    "        print(f\"New best result found: {best_result}\")\n",
    "    \n",
    "\n",
    "        \n",
    "    # Deduplicate every few iterations\n",
    "    if generation % DEDUPE_INTERVAL == 0:\n",
    "        print(\"Deduplicating population\")\n",
    "        my_population = deduplicate_population(my_population, p=0)\n",
    "        print(\"Population size: \", len(my_population))\n",
    "my_population = deduplicate_population(my_population)"
   ]
  },
  {
   "cell_type": "code",
   "execution_count": 16,
   "metadata": {},
   "outputs": [
    {
     "name": "stdout",
     "output_type": "stream",
     "text": [
      "Top 1: Fitness = 2598.170973680343: Genome = exp(exp(exp((((((x[2] + [0.03292384]) * ([0.31382449] - [0.4223994])) * [0.37494283]) * (x[2] * [0.03292384])) * ([-0.26845307] * ((([0.50401647] * ([-0.26845307] - [0.4223994])) + [0.37494283]) * ([0.37494283] * ([0.43211964] + [0.03292384]))))))))\n",
      "Top 2: Fitness = 2598.1777881191438: Genome = exp(exp(cos(((((([0.43211964] + [0.03292384]) * ([0.31382449] - [0.4223994])) * [0.37494283]) * (x[2] * [0.03292384])) * ([-0.26845307] * ((([0.50401647] * ([-0.26845307] - [0.4223994])) + [0.37494283]) * ((x[2] * [0.03292384]) * ([0.43211964] * [0.03292384]))))))))\n",
      "Top 3: Fitness = 2598.177788119144: Genome = exp(exp(cos(((([0.50401647] * ((([0.50401647] * ([-0.26845307] * [0.50401647])) + ((([0.50401647] * ([-0.26845307] - [0.4223994])) + [0.37494283]) * (x[2] * [-1.00237546]))) + ([-0.26845307] + [0.50401647]))) + (((cos((((([0.50401647] * ([-0.26845307] - [0.4223994])) + [0.37494283]) * (x[1] * [0.03292384])) * ([-0.26845307] * [0.50401647]))) + [0.37494283]) * (x[2] * [0.03292384])) * [0.03292384])) * (((([0.50401647] * ([-0.26845307] - [0.4223994])) + [0.37494283]) * (x[0] * [0.03292384])) * ((([0.50401647] * ([-0.26845307] - [0.4223994])) + [0.37494283]) * (exp((([-0.26845307] - [0.50401647]) - [0.4223994])) * [0.03292384])))))))\n",
      "Top 4: Fitness = 2598.1777881191456: Genome = exp(exp(cos((((((x[2] + [0.37494283]) * ([0.31382449] - [0.4223994])) - [-0.26845307]) * (x[2] * [0.03292384])) * (((((([-0.26845307] + [0.37494283]) * ([0.31382449] - [0.4223994])) + [0.37494283]) * (x[2] * [0.03292384])) * ([-0.26845307] * ((([0.50401647] * ([-0.26845307] - [0.4223994])) + [0.37494283]) * (([-0.26845307] - [0.50401647]) * [-0.48386983])))) * ((([0.4223994] * ([-0.26845307] - [0.4223994])) + [0.37494283]) * (x[2] * [0.03292384])))))))\n",
      "Top 5: Fitness = 2598.1777881191465: Genome = exp(exp(cos(((((((([0.03292384] * ([-0.26845307] - [0.4223994])) + [0.37494283]) * (x[1] * [0.03292384])) * ([0.31382449] - [0.37494283])) - [0.37494283]) * (x[2] * (([0.50401647] * ([-0.26845307] - [0.4223994])) + [0.37494283]))) * (((((([-0.26845307] + [0.37494283]) * ([0.31382449] - [0.4223994])) + [0.37494283]) * (x[2] * (((([-0.26845307] + [0.37494283]) * ([0.31382449] - [0.4223994])) + [0.37494283]) * ([-0.71276879] * [0.03292384])))) * ([-0.26845307] * ((([0.50401647] * ([-0.26845307] - [0.4223994])) + [0.37494283]) * (x[2] * [-1.00237546])))) * ((([0.4223994] * ([-0.26845307] - [0.4223994])) + [0.37494283]) * ([0.31382449] - [0.4223994])))))))\n",
      "Top 6: Fitness = 2598.177788119147: Genome = exp(exp(cos(((([0.50401647] * ((([0.50401647] * ([-0.26845307] * [0.50401647])) + cos(((cos(((([0.50401647] * ([-0.26845307] - [0.4223994])) + [0.37494283]) * ([0.50401647] - [0.50401647]))) + [0.37494283]) * cos(((([0.37494283] * [0.37494283]) * ([0.4223994] * [0.03292384])) * ([-0.26845307] * ((([0.50401647] * ([-0.26845307] - [0.4223994])) + [0.37494283]) * (exp((([-0.26845307] - [0.50401647]) - [0.4223994])) * [0.03292384])))))))) + ([-0.26845307] + [0.50401647]))) + (((cos((((([0.50401647] * ([-0.26845307] - [0.4223994])) + [0.37494283]) * (x[1] * [0.03292384])) * ([-0.26845307] - [0.50401647]))) + [0.37494283]) * (x[2] * [0.03292384])) * [0.03292384])) * (((([0.50401647] * ([-0.26845307] - [0.4223994])) + [0.37494283]) * (x[2] * [0.03292384])) * ((([0.50401647] * ([-0.26845307] - [0.4223994])) + [0.37494283]) * (exp((([-0.26845307] - [0.50401647]) - [0.4223994])) * [0.03292384])))))))\n",
      "Top 7: Fitness = 2598.1777881191474: Genome = exp(exp(cos(([0.03292384] * ((((x[2] * [-1.00237546]) * ([-0.71276879] * [0.03292384])) * ([-0.26845307] * ((([0.50401647] * ([-0.26845307] - [0.4223994])) + [0.37494283]) * (([-0.26845307] - [0.50401647]) * [-1.00237546])))) * ((([0.4223994] * ([-0.26845307] - [0.4223994])) + [0.37494283]) * (x[2] * [0.03292384])))))))\n",
      "Top 8: Fitness = 2598.177788119148: Genome = exp(exp(cos(((((((([0.03292384] * ([-0.26845307] - [0.4223994])) + [0.37494283]) * (x[1] * [0.03292384])) * ([0.31382449] - [0.37494283])) - [0.37494283]) * (x[2] * (([0.50401647] * ([-0.26845307] - [0.4223994])) + [0.37494283]))) * (((((([-0.26845307] + [0.37494283]) * ([0.31382449] - [0.4223994])) + [0.37494283]) * (x[2] * (((([-0.26845307] + [0.37494283]) * ([0.31382449] - [0.4223994])) + [0.37494283]) * ([-0.71276879] * [0.03292384])))) * ([-0.26845307] * ((([0.50401647] * ([-0.26845307] - [0.4223994])) + [0.37494283]) * (x[2] * [-1.00237546])))) * ((([0.4223994] * ([-0.26845307] - [0.4223994])) + [0.37494283]) * (x[2] * [0.03292384])))))))\n",
      "Top 9: Fitness = 2598.1777881191488: Genome = exp(exp(cos(((((([0.43211964] * x[2]) * ([0.31382449] - [0.4223994])) - [0.37494283]) * (x[2] * [0.03292384])) * (((((([-0.26845307] + [0.37494283]) * ([0.31382449] - (((([-0.12365943] - [0.59547799]) * ([-0.26845307] * (([0.4223994] * (x[2] * [0.03292384])) - ([-0.26845307] * [1.12855101])))) + [0.37494283]) * x[2]))) * [0.37494283]) * (x[2] * [0.03292384])) * ([-0.26845307] * ((([0.50401647] * ([-0.26845307] - [0.4223994])) + [0.37494283]) * (x[2] * [-1.00237546])))) * ((([0.4223994] * ([-0.26845307] - [0.4223994])) + [0.37494283]) * (x[2] * [0.03292384])))))))\n",
      "Top 10: Fitness = 2598.1777881191506: Genome = exp(exp(cos(((((([0.43211964] + [0.37494283]) * ((([0.50401647] * ([-0.26845307] - [0.4223994])) + [0.37494283]) - [0.4223994])) - [0.03292384]) * (x[2] * x[1])) * (((((([-0.26845307] + [0.37494283]) * ([0.31382449] - [0.4223994])) + [0.37494283]) * ([-0.71276879] * [0.03292384])) * ([-0.26845307] * ((([0.50401647] * ([-0.26845307] - [0.4223994])) + [0.37494283]) * (([-0.26845307] - [0.50401647]) * [-1.00237546])))) * ((([0.4223994] * ([-0.26845307] - [0.4223994])) + [0.37494283]) * ([0.43211964] * [0.03292384])))))))\n",
      "Top 11: Fitness = 2598.1777881191515: Genome = exp(exp(cos((((((([0.50401647] * ([0.37494283] * [0.50401647])) * x[2]) + (([0.43211964] + [0.37494283]) - cos((exp([0.26022717]) * [0.50401647])))) + [0.37494283]) * ([1.57208267] * [0.03292384])) * ([-0.26845307] * ((([0.50401647] * ([-0.26845307] - [0.4223994])) + [0.37494283]) * ([0.03292384] * [0.03292384])))))))\n",
      "Top 12: Fitness = 2598.177788119152: Genome = exp(exp(cos((((((([0.50401647] * ([0.37494283] * [0.50401647])) * cos(((([-0.26845307] - (([0.80832494] * ([-0.26845307] - [0.4223994])) - [0.37494283])) + [0.37494283]) * ([-0.26845307] - [0.50401647])))) + (([0.43211964] + [0.37494283]) - cos((exp([0.26022717]) * [0.50401647])))) + [0.37494283]) * ([1.57208267] * [0.03292384])) * ([-0.26845307] * ((([0.50401647] * ([-0.26845307] - [0.4223994])) + [0.37494283]) * ([0.03292384] * [0.03292384])))))))\n",
      "Top 13: Fitness = 2598.1777881191524: Genome = exp(exp(cos((((((([0.50401647] * ([0.37494283] * [0.50401647])) * cos(((([-0.26845307] - (([0.50401647] * ([-0.26845307] - [0.4223994])) - [0.37494283])) + [0.37494283]) * ([-0.26845307] - [0.50401647])))) + (([0.43211964] + [0.37494283]) - cos((exp([0.26022717]) * [0.50401647])))) + [0.37494283]) * ([1.57208267] * [0.03292384])) * ([-0.26845307] * ((([0.50401647] * ([-0.26845307] - [0.4223994])) + [0.37494283]) * ([0.03292384] * [0.03292384])))))))\n",
      "Top 14: Fitness = 2598.1777881191542: Genome = exp(exp(cos(((([0.50401647] * ([-0.2691892] - [0.4223994])) + [0.37494283]) * (((((sin(([-0.12365943] * [0.59547799])) + [0.4223994]) * (x[2] * [0.03292384])) * [0.03292384]) * ((([0.50401647] * ((([0.50401647] * ([-0.83438122] * [0.50401647])) + cos(((cos(((([0.50401647] * ([-0.26845307] - [0.4223994])) + [0.37494283]) * ([0.37494283] - [0.50401647]))) + [0.37494283]) * ([-0.26845307] - [0.50401647])))) + ([0.31382449] - [0.4223994]))) + x[2]) * (((([0.50401647] * ([-0.26845307] * [0.4223994])) + [0.37494283]) * (x[2] * [0.03292384])) * (cos(((([0.50401647] * ([-0.26845307] - [0.4223994])) + [0.37494283]) * ([0.50401647] - [0.50401647]))) + [0.37494283])))) * [0.03292384])))))\n",
      "Top 15: Fitness = 2598.1777881191556: Genome = exp(exp(cos(((([0.50401647] * ([-0.2691892] - [0.4223994])) + [0.37494283]) * (((((sin(([-0.12365943] * [0.59547799])) + [0.4223994]) * (x[2] * [0.03292384])) * [0.03292384]) * ((([0.50401647] * ((([0.50401647] * ([-0.83438122] * [0.50401647])) + cos(((cos(((([0.50401647] * ([-0.26845307] - [0.4223994])) + [0.37494283]) * ([0.37494283] - [0.50401647]))) + [0.37494283]) * ([-0.26845307] - [0.50401647])))) + ([-0.26845307] - [0.50401647]))) + x[2]) * (((([0.50401647] * ([-0.26845307] * [0.4223994])) + [0.37494283]) * (x[2] * [0.03292384])) * (cos(((([0.50401647] * ([-0.26845307] - [0.4223994])) + [0.37494283]) * ([0.50401647] - [0.50401647]))) + [0.37494283])))) * [0.03292384])))))\n"
     ]
    }
   ],
   "source": [
    "assign_population_fitness(my_population,x,y)\n",
    "# Sort the population by fitness (ascending), then take the top 5\n",
    "top_5_individuals = top_n_individuals(my_population, 15)\n",
    "\n",
    "# Print the top 5 individuals with the minimum fitness\n",
    "for i, individual in enumerate(top_5_individuals, 1):\n",
    "    print(f\"Top {i}: Fitness = {individual.fitness}: Genome = {individual.genome}\")"
   ]
  },
  {
   "cell_type": "code",
   "execution_count": 17,
   "metadata": {},
   "outputs": [
    {
     "data": {
      "text/plain": [
       "np.float64(2646.1774595012985)"
      ]
     },
     "execution_count": 17,
     "metadata": {},
     "output_type": "execute_result"
    }
   ],
   "source": [
    "calculate_mean_fitness(my_population)"
   ]
  },
  {
   "cell_type": "code",
   "execution_count": null,
   "metadata": {},
   "outputs": [],
   "source": [
    "top = top_n_individuals(my_population, 216)\n",
    "top[-30::]"
   ]
  },
  {
   "cell_type": "code",
   "execution_count": null,
   "metadata": {},
   "outputs": [],
   "source": [
    "# print the top 10 individuals witg lowest cost\n",
    "sorted_index = np.argsort(cost_pop)\n",
    "for i in range(30):\n",
    "    print(\"Individual: \", my_population[sorted_index[i]])\n",
    "    print(\"Cost: \", cost_pop[sorted_index[i]])\n",
    "    print(\"\")"
   ]
  },
  {
   "cell_type": "code",
   "execution_count": 10,
   "metadata": {},
   "outputs": [],
   "source": [
    "best_sol = Node(value=np.add, left=Node(feature_index=0), right=Node(np.multiply, left=Node(feature_index=1), right=Node(value=0.2)))"
   ]
  },
  {
   "cell_type": "code",
   "execution_count": null,
   "metadata": {},
   "outputs": [],
   "source": [
    "print(\"Best solution: \", best_sol)"
   ]
  },
  {
   "cell_type": "code",
   "execution_count": null,
   "metadata": {},
   "outputs": [],
   "source": [
    "cost(best_sol, x, y)"
   ]
  },
  {
   "cell_type": "code",
   "execution_count": null,
   "metadata": {},
   "outputs": [],
   "source": []
  },
  {
   "cell_type": "code",
   "execution_count": null,
   "metadata": {},
   "outputs": [],
   "source": []
  },
  {
   "cell_type": "code",
   "execution_count": null,
   "metadata": {},
   "outputs": [],
   "source": []
  }
 ],
 "metadata": {
  "kernelspec": {
   "display_name": "ci",
   "language": "python",
   "name": "python3"
  },
  "language_info": {
   "codemirror_mode": {
    "name": "ipython",
    "version": 3
   },
   "file_extension": ".py",
   "mimetype": "text/x-python",
   "name": "python",
   "nbconvert_exporter": "python",
   "pygments_lexer": "ipython3",
   "version": "3.10.15"
  }
 },
 "nbformat": 4,
 "nbformat_minor": 2
}
