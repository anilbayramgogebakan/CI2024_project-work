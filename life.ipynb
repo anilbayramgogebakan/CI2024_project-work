{
 "cells": [
  {
   "cell_type": "code",
   "execution_count": 1,
   "metadata": {},
   "outputs": [],
   "source": [
    "import numpy as np\n",
    "from src.utils import *\n",
    "from tqdm import tqdm\n",
    "\n",
    "unary_operators=[np.sin, np.cos, np.exp, np.abs, np.log, np.tan]\n",
    "binary_operators=[np.add, np.subtract, np.multiply, np.divide]\n",
    "\n",
    "\n",
    "operators = unary_operators + binary_operators"
   ]
  },
  {
   "cell_type": "code",
   "execution_count": 2,
   "metadata": {},
   "outputs": [
    {
     "name": "stdout",
     "output_type": "stream",
     "text": [
      "x.shape: (2, 1000)\n",
      "y.shape: (1000,)\n"
     ]
    }
   ],
   "source": [
    "problem = np.load(\"data/problem_0.npz\")\n",
    "x = problem[\"x\"]\n",
    "y = problem[\"y\"]\n",
    "print(\"x.shape:\", x.shape)\n",
    "print(\"y.shape:\", y.shape)"
   ]
  },
  {
   "cell_type": "code",
   "execution_count": 3,
   "metadata": {},
   "outputs": [
    {
     "name": "stdout",
     "output_type": "stream",
     "text": [
      "(2, 800)\n",
      "(2, 200)\n",
      "(800,)\n",
      "(200,)\n"
     ]
    }
   ],
   "source": [
    "x_train,y_train,x_val,y_val = split_dataset(x,y,0.8)\n",
    "print(x_train.shape)\n",
    "print(x_val.shape)\n",
    "print(y_train.shape)\n",
    "print(y_val.shape)"
   ]
  },
  {
   "cell_type": "code",
   "execution_count": 5,
   "metadata": {},
   "outputs": [
    {
     "name": "stdout",
     "output_type": "stream",
     "text": [
      "0.00014421615402757763\n",
      "0.00013792776500560924\n"
     ]
    }
   ],
   "source": [
    "my_node = Node(value=np.add, left=Node(value=None, feature_index=0), right=Node(value=np.multiply, left=Node(value=0.2), right=Node(value=None, feature_index=1)))\n",
    "my_inv = Individual(genome=my_node)\n",
    "assign_population_fitness_train([my_inv], x_train, y_train)\n",
    "print(my_inv.fitness)\n",
    "assign_population_fitness_val([my_inv], x_val, y_val)\n",
    "print(my_inv.fitness_val)"
   ]
  },
  {
   "cell_type": "code",
   "execution_count": 3,
   "metadata": {},
   "outputs": [],
   "source": [
    "conf={\n",
    "\"NUM_POPULATION\": 100,\n",
    "\"NUM_GENERATIONS\": 600,\n",
    "\"MAX_DEPTH_INITIAL\": 7,\n",
    "\"DEDUPE_INTERVAL\": 15,\n",
    "\"ELITISM\": False,\n",
    "\"ELITE_COUNT\": 3,\n",
    "\"TOURNAMENT_SUBSET_SIZE\": 3,\n",
    "\"TOURNAMENT_WINNER_SIZE\": 20,\n",
    "\"XOVER\": 0.8,\n",
    "\"MUTATION\": 0.8,\n",
    "\"BREED_NEW\": 15,\n",
    "\"KILL_AGE\": 16,\n",
    "\"MAX_COMPLEXITY\": 150,\n",
    "\"CONSTANT_FIT_INTERVAL\": 30,\n",
    "\"CONSTANT_FIT_ITERATION\": 6\n",
    "}"
   ]
  },
  {
   "cell_type": "code",
   "execution_count": 4,
   "metadata": {},
   "outputs": [],
   "source": [
    "def evolve(train_x,train_y,val_x,val_y, conf):\n",
    "    NUM_POPULATION = conf[\"NUM_POPULATION\"]\n",
    "    NUM_GENERATIONS = conf[\"NUM_GENERATIONS\"]\n",
    "    MAX_DEPTH_INITIAL = conf[\"MAX_DEPTH_INITIAL\"]\n",
    "    DEDUPE_INTERVAL = conf[\"DEDUPE_INTERVAL\"]\n",
    "    ELITISM = conf[\"ELITISM\"]\n",
    "    ELITE_COUNT = conf[\"ELITE_COUNT\"]\n",
    "    TOURNAMENT_SUBSET_SIZE = conf[\"TOURNAMENT_SUBSET_SIZE\"]\n",
    "    TOURNAMENT_WINNER_SIZE = conf[\"TOURNAMENT_WINNER_SIZE\"]\n",
    "    XOVER = conf[\"XOVER\"]\n",
    "    MUTATION = conf[\"MUTATION\"]\n",
    "    BREED_NEW = conf[\"BREED_NEW\"]\n",
    "    KILL_AGE = conf[\"KILL_AGE\"]\n",
    "    MAX_COMPLEXITY = conf[\"MAX_COMPLEXITY\"]\n",
    "    CONSTANT_FIT_INTERVAL = conf[\"CONSTANT_FIT_INTERVAL\"]\n",
    "    CONSTANT_FIT_ITERATION = conf[\"CONSTANT_FIT_ITERATION\"]\n",
    "\n",
    "    print(\"Population is creating with a size: \", NUM_POPULATION)\n",
    "    my_population = create_population(NUM_POPULATION,MAX_DEPTH_INITIAL,train_x.shape[0])\n",
    "    print(\"Population has created.\")\n",
    "    print(\"Individual fitness values are assigning\")\n",
    "    assign_population_fitness_train(my_population,train_x,train_y)\n",
    "    assign_population_fitness_val(my_population,val_x,val_y)\n",
    "    print(f\" Population size: {len(my_population)}\")\n",
    "    print(f\"Population mean fitness: {calculate_mean_fitness(my_population)}\")\n",
    "    print(f\"Population mean complexity: {calculate_mean_complexity(my_population)}\")\n",
    "\n",
    "    # Sort the population by fitness (ascending), then take the top 5\n",
    "    top_5_individuals = top_n_individuals(my_population, 5)\n",
    "\n",
    "    # Print the top 5 individuals with the minimum fitness\n",
    "    for i, individual in enumerate(top_5_individuals, 1):\n",
    "        print(f\"Top {i}: Fitness = {individual.fitness:.5f} Fitness_val = {individual.fitness_val:.5f} Genome = {individual.genome}\")\n",
    "    #----------------------------------------------------------------------------\n",
    "    assign_population_fitness_train(my_population,train_x,train_y)\n",
    "    assign_population_fitness_val(my_population,val_x,val_y)\n",
    "    best_result = top_n_individuals(my_population, 1)[0]\n",
    "    for generation in tqdm(range(NUM_GENERATIONS)):\n",
    "        num_xover=0\n",
    "        num_mut=0\n",
    "        num_succesfull_mut=0\n",
    "        age_population(my_population)\n",
    "        \n",
    "\n",
    "        # Kill eldest individuals\n",
    "        kill_eldest(my_population, KILL_AGE)\n",
    "        # print(\"Population size before killing constants: \", len(my_population))\n",
    "        \n",
    "        # print(\"Population size after killing constants: \", len(my_population))\n",
    "\n",
    "\n",
    "        best_ind = tournament_selection(my_population,TOURNAMENT_SUBSET_SIZE,TOURNAMENT_WINNER_SIZE,ELITISM=ELITISM, elite_count=ELITE_COUNT)\n",
    "\n",
    "        \n",
    "        for _ in range(BREED_NEW): # CHECK\n",
    "            if random.random() < XOVER:\n",
    "                # Xover the best individual and replace worst individuals\n",
    "                parent1 = my_population[best_ind[np.random.choice(len(best_ind))]]\n",
    "                parent2 = my_population[best_ind[np.random.choice(len(best_ind))]]\n",
    "                child1, child2 = crossover(parent1,parent2)\n",
    "                my_population.append(child1)\n",
    "                my_population.append(child2)\n",
    "                num_xover+=1\n",
    "\n",
    "            if random.random() < MUTATION:\n",
    "                # Mutate best individuals and replace worst individuals\n",
    "                parent = my_population[best_ind[np.random.choice(len(best_ind))]]\n",
    "                \n",
    "                child, success = mutation_w_sa(parent, x.shape[0], train_x, train_y)\n",
    "                num_mut+=1\n",
    "                if success:                \n",
    "                    my_population.append(child)\n",
    "                    num_succesfull_mut+=1\n",
    "\n",
    "        assign_population_fitness_train(my_population,train_x,train_y)\n",
    "        assign_population_fitness_val(my_population,val_x,val_y)\n",
    "\n",
    "        # print(f\"xover: {num_xover}, mut: {num_mut}, succesfull mut: {num_succesfull_mut}\")\n",
    "        simplify_constant_population(my_population)\n",
    "        # Update elites age as 0\n",
    "        elites = top_n_individuals(my_population, ELITE_COUNT)\n",
    "        if best_result.fitness_val > elites[0].fitness_val:\n",
    "            best_result = elites[0]\n",
    "            print(f\"New best result found: {best_result}\")\n",
    "        \n",
    "        for elite in elites:\n",
    "            my_population.remove(elite)\n",
    "            elite.age = 0\n",
    "            my_population.append(elite)\n",
    "\n",
    "        # Deduplicate every few iterations\n",
    "        if generation % DEDUPE_INTERVAL == DEDUPE_INTERVAL-1:\n",
    "            init_population = len(my_population)\n",
    "            my_population = deduplicate_population(my_population)\n",
    "            dedup_population = len(my_population)\n",
    "            simplify_operation_population(my_population)\n",
    "            simplified_operations = len(my_population)\n",
    "            kill_constant(my_population)\n",
    "            no_constant = len(my_population)\n",
    "            kill_complex(my_population, MAX_COMPLEXITY)\n",
    "            no_complex = len(my_population)\n",
    "            simplify_population(my_population)\n",
    "            \n",
    "\n",
    "            print(f\"Initial: {init_population}, Deduplicated: {init_population-dedup_population}, Operation simplified: {dedup_population-simplified_operations}, Constant: {simplified_operations-no_constant}, Complex: {no_constant - no_complex}, Final: {no_complex}\")\n",
    "            print(f\"Population mean complexity: {calculate_mean_complexity(my_population)}\")\n",
    "            print(f\"Population mean fitness: {calculate_mean_fitness(my_population)}\")\n",
    "            print()\n",
    "\n",
    "            elites = top_n_individuals(my_population, ELITE_COUNT)\n",
    "            for elite in elites:\n",
    "                my_population.remove(elite)\n",
    "                elite.age = 0\n",
    "                my_population.append(elite)\n",
    "                \n",
    "            best_5 = top_n_individuals(my_population, 5)\n",
    "            for ind in range(len(best_5)):\n",
    "                print(f\"{ind}. Fitness: {best_5[ind].fitness:.5f}, Fitness_val = {best_5[ind].fitness_val:.5f}, Genome: {best_5[ind].genome}, Age: {best_5[ind].age}, Complexity: {best_5[ind].genome.complexity}\")\n",
    "                \n",
    "        #     # Fit constants of every individual\n",
    "        # if generation % CONSTANT_FIT_INTERVAL == CONSTANT_FIT_INTERVAL-1:\n",
    "        #     print(f\"Generation {generation}: Mean fitness {calculate_mean_fitness(my_population)}\")\n",
    "        #     for ind in range(len(my_population)):\n",
    "        #         stronger_inv = fit_constants(my_population[ind],CONSTANT_FIT_ITERATION, train_x, train_y)\n",
    "        #         my_population[ind] = stronger_inv\n",
    "        #     assign_population_fitness_val(my_population,val_x,val_y)\n",
    "        #     print(f\"Population mean fitness after constant fit: {calculate_mean_fitness(my_population)}\")\n",
    "        #     best_5 = top_n_individuals(my_population, 5)\n",
    "        #     for ind in range(len(best_5)):\n",
    "        #         print(f\"{ind}. Fitness: {best_5[ind].fitness:.5f}, Fitness_val = {best_5[ind].fitness_val:.5f}, Genome: {best_5[ind].genome}, Age: {best_5[ind].age}, Complexity: {best_5[ind].genome.complexity}\")\n",
    "        \n",
    "\n",
    "    my_population = deduplicate_population(my_population)\n",
    "    #-------------------------------------------------------------------------------------------------------\n",
    "    assign_population_fitness_train(my_population,train_x,train_y)\n",
    "    for i in my_population:\n",
    "        if i.fitness == None:\n",
    "            print('Cannot assign fitness')\n",
    "            return my_population\n",
    "    assign_population_fitness_val(my_population,val_x,val_y)\n",
    "    for i in my_population:\n",
    "        if i.fitness_val == None:\n",
    "            print('Cannot assign fitness_val')\n",
    "            return my_population\n",
    "    # Sort the population by fitness (ascending), then take the top 5\n",
    "    top_5_individuals = top_n_individuals(my_population, 15)\n",
    "\n",
    "    # Print the best individual\n",
    "    print(f\"Best individual: Fitness = {best_result.fitness}: Genome = {best_result.genome}\")\n",
    "    # Print the top 5 individuals with the minimum fitness in population\n",
    "    for i, individual in enumerate(top_5_individuals, 1):\n",
    "        print(f\"Top {i}: Fitness = {individual.fitness} Fitness_val = {individual.fitness_val} Genome = {individual.genome}\")\n",
    "\n",
    "    # Print the mean fitness of the population\n",
    "    print(\"Mean fitness of the population: \", calculate_mean_fitness(my_population))\n",
    "    print(\"Population size: \", len(my_population))\n",
    "    print(f\"Population mean complexity: {calculate_mean_complexity(my_population)}\")\n",
    "    \n",
    "    return my_population"
   ]
  },
  {
   "cell_type": "code",
   "execution_count": 9,
   "metadata": {},
   "outputs": [
    {
     "name": "stdout",
     "output_type": "stream",
     "text": [
      "x.shape: (2, 1000)\n",
      "y.shape: (1000,)\n",
      "x_train.shape:  (2, 800)\n",
      "x_val.shape:  (2, 200)\n",
      "y_train.shape:  (800,)\n",
      "y_val.shape:  (200,)\n",
      "Population is creating with a size:  100\n",
      "Population has created.\n",
      "Individual fitness values are assigning\n",
      " Population size: 59\n",
      "Population mean fitness: 210.9997387484309\n",
      "Population mean complexity: 2163.2881355932204\n",
      "Top 1: Fitness = 1.87549 Fitness_val = 1.95333 Genome = sin(x[0])\n",
      "Top 2: Fitness = 3.41310 Fitness_val = 3.46046 Genome = exp([-1.40693152])\n",
      "Top 3: Fitness = 3.38401 Fitness_val = 3.46620 Genome = sin([0.1588025])\n",
      "Top 4: Fitness = 3.46352 Fitness_val = 3.47189 Genome = ([-0.32161835] * [-1.06341941])\n",
      "Top 5: Fitness = 3.54582 Fitness_val = 3.47286 Genome = (x[1] * x[1])\n"
     ]
    },
    {
     "name": "stderr",
     "output_type": "stream",
     "text": [
      "  0%|          | 1/600 [00:01<16:20,  1.64s/it]"
     ]
    },
    {
     "name": "stdout",
     "output_type": "stream",
     "text": [
      "New best result found: Individual(genome=x[0], fitness=np.float64(0.010763171848597946), fitness_val=np.float64(0.010325632633118373), age=0, T=1)\n"
     ]
    },
    {
     "name": "stderr",
     "output_type": "stream",
     "text": [
      "  2%|▎         | 15/600 [00:12<04:51,  2.01it/s]"
     ]
    },
    {
     "name": "stdout",
     "output_type": "stream",
     "text": [
      "Initial: 586, Deduplicated: 403, Operation simplified: 0, Constant: 111, Complex: 29, Final: 43\n",
      "Population mean complexity: 23.837209302325583\n",
      "Population mean fitness: 168.88178322812394\n",
      "\n",
      "0. Fitness: 0.01076, Fitness_val = 0.01033, Genome: x[0], Age: 0, Complexity: 1\n",
      "1. Fitness: 1.67647, Fitness_val = 1.73689, Genome: tan(sin(x[0])), Age: 0, Complexity: 36\n",
      "2. Fitness: 1.87549, Fitness_val = 1.95333, Genome: sin(x[0]), Age: 0, Complexity: 8\n",
      "3. Fitness: 1.97661, Fitness_val = 2.06181, Genome: sin(sin(x[0])), Age: 6, Complexity: 36\n",
      "4. Fitness: 3.43332, Fitness_val = 3.24075, Genome: exp(sin(x[0])), Age: 8, Complexity: 45\n"
     ]
    },
    {
     "name": "stderr",
     "output_type": "stream",
     "text": [
      "  5%|▌         | 30/600 [00:25<05:37,  1.69it/s]"
     ]
    },
    {
     "name": "stdout",
     "output_type": "stream",
     "text": [
      "Initial: 528, Deduplicated: 370, Operation simplified: 0, Constant: 97, Complex: 13, Final: 48\n",
      "Population mean complexity: 33.958333333333336\n",
      "Population mean fitness: 4667172.91979493\n",
      "\n",
      "0. Fitness: 0.01076, Fitness_val = 0.01033, Genome: x[0], Age: 0, Complexity: 1\n",
      "1. Fitness: 1.67647, Fitness_val = 1.73689, Genome: tan(sin(x[0])), Age: 0, Complexity: 36\n",
      "2. Fitness: 1.87549, Fitness_val = 1.95333, Genome: sin(x[0]), Age: 0, Complexity: 8\n",
      "3. Fitness: 3.43332, Fitness_val = 3.24075, Genome: exp(sin(x[0])), Age: 7, Complexity: 45\n",
      "4. Fitness: 3.54582, Fitness_val = 3.47286, Genome: (x[1] * x[1]), Age: 14, Complexity: 3\n"
     ]
    },
    {
     "name": "stderr",
     "output_type": "stream",
     "text": [
      "  8%|▊         | 45/600 [00:34<04:32,  2.04it/s]"
     ]
    },
    {
     "name": "stdout",
     "output_type": "stream",
     "text": [
      "Initial: 530, Deduplicated: 394, Operation simplified: 0, Constant: 85, Complex: 6, Final: 45\n",
      "Population mean complexity: 26.177777777777777\n",
      "Population mean fitness: 5.006767198862659e+254\n",
      "\n",
      "0. Fitness: 0.01076, Fitness_val = 0.01033, Genome: x[0], Age: 0, Complexity: 1\n",
      "1. Fitness: 1.67647, Fitness_val = 1.73689, Genome: tan(sin(x[0])), Age: 0, Complexity: 36\n",
      "2. Fitness: 1.87549, Fitness_val = 1.95333, Genome: sin(x[0]), Age: 0, Complexity: 8\n",
      "3. Fitness: 1.97661, Fitness_val = 2.06181, Genome: sin(sin(x[0])), Age: 14, Complexity: 36\n",
      "4. Fitness: 3.45383, Fitness_val = 3.49181, Genome: sin(((x[0] * [0.27728554]) * sin(([0.1588025] + x[0])))), Age: 13, Complexity: 84\n"
     ]
    },
    {
     "name": "stderr",
     "output_type": "stream",
     "text": [
      " 10%|█         | 60/600 [00:42<05:07,  1.76it/s]"
     ]
    },
    {
     "name": "stdout",
     "output_type": "stream",
     "text": [
      "Initial: 496, Deduplicated: 368, Operation simplified: 0, Constant: 76, Complex: 3, Final: 49\n",
      "Population mean complexity: 35.46938775510204\n",
      "Population mean fitness: 152.38033854832412\n",
      "\n",
      "0. Fitness: 0.01076, Fitness_val = 0.01033, Genome: x[0], Age: 0, Complexity: 1\n",
      "1. Fitness: 1.20273, Fitness_val = 1.24099, Genome: (abs(x[0]) / x[0]), Age: 0, Complexity: 4\n",
      "2. Fitness: 1.41286, Fitness_val = 1.46816, Genome: sin((abs(x[0]) / x[0])), Age: 0, Complexity: 20\n",
      "3. Fitness: 1.67647, Fitness_val = 1.73689, Genome: tan(sin(x[0])), Age: 11, Complexity: 36\n",
      "4. Fitness: 1.80296, Fitness_val = 1.87583, Genome: tan(sin(sin(x[0]))), Age: 10, Complexity: 148\n"
     ]
    },
    {
     "name": "stderr",
     "output_type": "stream",
     "text": [
      " 12%|█▎        | 75/600 [00:50<03:36,  2.43it/s]"
     ]
    },
    {
     "name": "stdout",
     "output_type": "stream",
     "text": [
      "Initial: 542, Deduplicated: 413, Operation simplified: 0, Constant: 79, Complex: 0, Final: 50\n",
      "Population mean complexity: 26.22\n",
      "Population mean fitness: 589.135852999866\n",
      "\n",
      "0. Fitness: 0.01076, Fitness_val = 0.01033, Genome: x[0], Age: 0, Complexity: 1\n",
      "1. Fitness: 1.20273, Fitness_val = 1.24099, Genome: (abs(x[0]) / x[0]), Age: 0, Complexity: 4\n",
      "2. Fitness: 1.41286, Fitness_val = 1.46816, Genome: sin((abs(x[0]) / x[0])), Age: 0, Complexity: 20\n",
      "3. Fitness: 1.67647, Fitness_val = 1.73689, Genome: tan(sin(x[0])), Age: 6, Complexity: 36\n",
      "4. Fitness: 1.80296, Fitness_val = 1.87583, Genome: tan(sin(sin(x[0]))), Age: 12, Complexity: 148\n"
     ]
    },
    {
     "name": "stderr",
     "output_type": "stream",
     "text": [
      " 15%|█▌        | 90/600 [01:01<04:35,  1.85it/s]"
     ]
    },
    {
     "name": "stdout",
     "output_type": "stream",
     "text": [
      "Initial: 523, Deduplicated: 372, Operation simplified: 0, Constant: 78, Complex: 13, Final: 60\n",
      "Population mean complexity: 43.9\n",
      "Population mean fitness: 5.235307967810839e+160\n",
      "\n",
      "0. Fitness: 0.01076, Fitness_val = 0.01033, Genome: x[0], Age: 0, Complexity: 1\n",
      "1. Fitness: 0.20223, Fitness_val = 0.19367, Genome: (tan(sin(sin(x[1]))) + x[0]), Age: 0, Complexity: 150\n",
      "2. Fitness: 0.40051, Fitness_val = 0.40670, Genome: (sin(sin(x[0])) + x[0]), Age: 0, Complexity: 38\n",
      "3. Fitness: 0.51220, Fitness_val = 0.52366, Genome: (sin(x[0]) + x[0]), Age: 8, Complexity: 10\n",
      "4. Fitness: 0.61385, Fitness_val = 0.62987, Genome: (tan(sin(sin(x[0]))) + x[0]), Age: 4, Complexity: 150\n"
     ]
    },
    {
     "name": "stderr",
     "output_type": "stream",
     "text": [
      " 18%|█▊        | 105/600 [01:12<05:38,  1.46it/s]"
     ]
    },
    {
     "name": "stdout",
     "output_type": "stream",
     "text": [
      "Initial: 534, Deduplicated: 364, Operation simplified: 0, Constant: 77, Complex: 16, Final: 77\n",
      "Population mean complexity: 28.0\n",
      "Population mean fitness: 206.80690521356613\n",
      "\n",
      "0. Fitness: 0.01076, Fitness_val = 0.01033, Genome: x[0], Age: 0, Complexity: 1\n",
      "1. Fitness: 0.20223, Fitness_val = 0.19367, Genome: (tan(sin(sin(x[1]))) + x[0]), Age: 0, Complexity: 150\n",
      "2. Fitness: 0.33496, Fitness_val = 0.33866, Genome: (sin(sin(sin(x[0]))) + x[0]), Age: 0, Complexity: 150\n",
      "3. Fitness: 0.40051, Fitness_val = 0.40670, Genome: (sin(sin(x[0])) + x[0]), Age: 4, Complexity: 38\n",
      "4. Fitness: 0.51220, Fitness_val = 0.52366, Genome: (sin(x[0]) + x[0]), Age: 4, Complexity: 10\n"
     ]
    },
    {
     "name": "stderr",
     "output_type": "stream",
     "text": [
      " 20%|██        | 120/600 [01:22<04:22,  1.83it/s]"
     ]
    },
    {
     "name": "stdout",
     "output_type": "stream",
     "text": [
      "Initial: 515, Deduplicated: 343, Operation simplified: 0, Constant: 63, Complex: 21, Final: 88\n",
      "Population mean complexity: 27.15909090909091\n",
      "Population mean fitness: 1.3237128012977086e+43\n",
      "\n",
      "0. Fitness: 0.01076, Fitness_val = 0.01033, Genome: x[0], Age: 0, Complexity: 1\n",
      "1. Fitness: 0.14219, Fitness_val = 0.13675, Genome: (sin(sin(x[1])) + x[0]), Age: 0, Complexity: 38\n",
      "2. Fitness: 0.17221, Fitness_val = 0.16521, Genome: (sin(x[1]) + x[0]), Age: 0, Complexity: 10\n",
      "3. Fitness: 0.20223, Fitness_val = 0.19367, Genome: (tan(sin(sin(x[1]))) + x[0]), Age: 3, Complexity: 150\n",
      "4. Fitness: 0.22067, Fitness_val = 0.21126, Genome: (x[1] + x[0]), Age: 8, Complexity: 3\n"
     ]
    },
    {
     "name": "stderr",
     "output_type": "stream",
     "text": [
      " 22%|██▎       | 135/600 [01:33<05:16,  1.47it/s]"
     ]
    },
    {
     "name": "stdout",
     "output_type": "stream",
     "text": [
      "Initial: 548, Deduplicated: 356, Operation simplified: 0, Constant: 71, Complex: 15, Final: 106\n",
      "Population mean complexity: 32.62264150943396\n",
      "Population mean fitness: 1.2231825391328932e+92\n",
      "\n",
      "0. Fitness: 0.01076, Fitness_val = 0.01033, Genome: x[0], Age: 0, Complexity: 1\n",
      "1. Fitness: 0.14219, Fitness_val = 0.13675, Genome: (sin(sin(x[1])) + x[0]), Age: 0, Complexity: 38\n",
      "2. Fitness: 0.18368, Fitness_val = 0.15753, Genome: (sin(sin((x[1] / x[0]))) + x[0]), Age: 0, Complexity: 70\n",
      "3. Fitness: 0.17221, Fitness_val = 0.16521, Genome: (sin(x[1]) + x[0]), Age: 1, Complexity: 10\n",
      "4. Fitness: 0.20223, Fitness_val = 0.19367, Genome: (tan(sin(sin(x[1]))) + x[0]), Age: 13, Complexity: 150\n"
     ]
    },
    {
     "name": "stderr",
     "output_type": "stream",
     "text": [
      " 25%|██▌       | 150/600 [01:42<03:47,  1.98it/s]"
     ]
    },
    {
     "name": "stdout",
     "output_type": "stream",
     "text": [
      "Initial: 553, Deduplicated: 388, Operation simplified: 0, Constant: 72, Complex: 12, Final: 81\n",
      "Population mean complexity: 30.074074074074073\n",
      "Population mean fitness: 1.932941961082426e+58\n",
      "\n",
      "0. Fitness: 0.01076, Fitness_val = 0.01033, Genome: x[0], Age: 0, Complexity: 1\n",
      "1. Fitness: 0.12128, Fitness_val = 0.11691, Genome: (sin(sin(sin(x[1]))) + x[0]), Age: 0, Complexity: 150\n",
      "2. Fitness: 0.14219, Fitness_val = 0.13675, Genome: (sin(sin(x[1])) + x[0]), Age: 0, Complexity: 38\n",
      "3. Fitness: 0.18368, Fitness_val = 0.15753, Genome: (sin(sin((x[1] / x[0]))) + x[0]), Age: 12, Complexity: 70\n",
      "4. Fitness: 0.17221, Fitness_val = 0.16521, Genome: (sin(x[1]) + x[0]), Age: 11, Complexity: 10\n"
     ]
    },
    {
     "name": "stderr",
     "output_type": "stream",
     "text": [
      " 28%|██▊       | 165/600 [01:52<03:47,  1.91it/s]"
     ]
    },
    {
     "name": "stdout",
     "output_type": "stream",
     "text": [
      "Initial: 521, Deduplicated: 367, Operation simplified: 0, Constant: 60, Complex: 5, Final: 89\n",
      "Population mean complexity: 20.651685393258425\n",
      "Population mean fitness: 40.61098381119519\n",
      "\n",
      "0. Fitness: 0.01076, Fitness_val = 0.01033, Genome: x[0], Age: 0, Complexity: 1\n",
      "1. Fitness: 0.12128, Fitness_val = 0.11691, Genome: (sin(sin(sin(x[1]))) + x[0]), Age: 0, Complexity: 150\n",
      "2. Fitness: 0.14219, Fitness_val = 0.13675, Genome: (sin(sin(x[1])) + x[0]), Age: 0, Complexity: 38\n",
      "3. Fitness: 0.17221, Fitness_val = 0.16521, Genome: (sin(x[1]) + x[0]), Age: 9, Complexity: 10\n",
      "4. Fitness: 0.22067, Fitness_val = 0.21126, Genome: (x[1] + x[0]), Age: 4, Complexity: 3\n"
     ]
    },
    {
     "name": "stderr",
     "output_type": "stream",
     "text": [
      " 30%|███       | 180/600 [02:00<02:52,  2.44it/s]"
     ]
    },
    {
     "name": "stdout",
     "output_type": "stream",
     "text": [
      "Initial: 505, Deduplicated: 363, Operation simplified: 0, Constant: 58, Complex: 4, Final: 80\n",
      "Population mean complexity: 19.85\n",
      "Population mean fitness: 469.74074065105606\n",
      "\n",
      "0. Fitness: 0.01076, Fitness_val = 0.01033, Genome: x[0], Age: 0, Complexity: 1\n",
      "1. Fitness: 0.05757, Fitness_val = 0.06271, Genome: (tan(sin((x[0] / x[0]))) * x[0]), Age: 0, Complexity: 70\n",
      "2. Fitness: 0.12128, Fitness_val = 0.11691, Genome: (sin(sin(sin(x[1]))) + x[0]), Age: 0, Complexity: 150\n",
      "3. Fitness: 0.14219, Fitness_val = 0.13675, Genome: (sin(sin(x[1])) + x[0]), Age: 12, Complexity: 38\n",
      "4. Fitness: 0.17221, Fitness_val = 0.16521, Genome: (sin(x[1]) + x[0]), Age: 7, Complexity: 10\n"
     ]
    },
    {
     "name": "stderr",
     "output_type": "stream",
     "text": [
      " 32%|███▎      | 195/600 [02:12<03:59,  1.69it/s]"
     ]
    },
    {
     "name": "stdout",
     "output_type": "stream",
     "text": [
      "Initial: 555, Deduplicated: 392, Operation simplified: 0, Constant: 81, Complex: 1, Final: 81\n",
      "Population mean complexity: 20.864197530864196\n",
      "Population mean fitness: 16.58517264158514\n",
      "\n",
      "0. Fitness: 0.01076, Fitness_val = 0.01033, Genome: x[0], Age: 0, Complexity: 1\n",
      "1. Fitness: 0.05757, Fitness_val = 0.06271, Genome: (tan(sin((x[0] / x[0]))) * x[0]), Age: 0, Complexity: 70\n",
      "2. Fitness: 0.12128, Fitness_val = 0.11691, Genome: (sin(sin(sin(x[1]))) + x[0]), Age: 0, Complexity: 150\n",
      "3. Fitness: 0.17221, Fitness_val = 0.16521, Genome: (sin(x[1]) + x[0]), Age: 12, Complexity: 10\n",
      "4. Fitness: 0.22067, Fitness_val = 0.21126, Genome: (x[0] + x[1]), Age: 12, Complexity: 3\n"
     ]
    },
    {
     "name": "stderr",
     "output_type": "stream",
     "text": [
      " 35%|███▌      | 210/600 [02:22<03:19,  1.96it/s]"
     ]
    },
    {
     "name": "stdout",
     "output_type": "stream",
     "text": [
      "Initial: 538, Deduplicated: 352, Operation simplified: 0, Constant: 79, Complex: 4, Final: 103\n",
      "Population mean complexity: 27.699029126213592\n",
      "Population mean fitness: 110.62893254076285\n",
      "\n",
      "0. Fitness: 0.01076, Fitness_val = 0.01033, Genome: x[0], Age: 0, Complexity: 1\n",
      "1. Fitness: 0.02558, Fitness_val = 0.02442, Genome: (sin(x[1]) + (x[0] - x[1])), Age: 0, Complexity: 12\n",
      "2. Fitness: 0.05757, Fitness_val = 0.06271, Genome: (tan(sin((x[0] / x[0]))) * x[0]), Age: 0, Complexity: 70\n",
      "3. Fitness: 0.12128, Fitness_val = 0.11691, Genome: (sin(sin(sin(x[1]))) + x[0]), Age: 14, Complexity: 150\n",
      "4. Fitness: 0.14219, Fitness_val = 0.13675, Genome: (sin(sin(x[1])) + x[0]), Age: 7, Complexity: 38\n"
     ]
    },
    {
     "name": "stderr",
     "output_type": "stream",
     "text": [
      " 38%|███▊      | 225/600 [02:32<02:44,  2.28it/s]"
     ]
    },
    {
     "name": "stdout",
     "output_type": "stream",
     "text": [
      "Initial: 535, Deduplicated: 367, Operation simplified: 0, Constant: 80, Complex: 6, Final: 82\n",
      "Population mean complexity: 37.59756097560975\n",
      "Population mean fitness: 100.5903031579163\n",
      "\n",
      "0. Fitness: 0.01076, Fitness_val = 0.01033, Genome: x[0], Age: 0, Complexity: 1\n",
      "1. Fitness: 0.02558, Fitness_val = 0.02442, Genome: (sin(x[1]) + (x[0] - x[1])), Age: 0, Complexity: 12\n",
      "2. Fitness: 0.05757, Fitness_val = 0.06271, Genome: (tan(sin((x[0] / x[0]))) * x[0]), Age: 0, Complexity: 70\n",
      "3. Fitness: 0.12128, Fitness_val = 0.11691, Genome: (sin(sin(sin(x[1]))) + x[0]), Age: 12, Complexity: 150\n",
      "4. Fitness: 0.14219, Fitness_val = 0.13675, Genome: (sin(sin(x[1])) + x[0]), Age: 5, Complexity: 38\n"
     ]
    },
    {
     "name": "stderr",
     "output_type": "stream",
     "text": [
      " 40%|████      | 240/600 [02:41<03:01,  1.99it/s]"
     ]
    },
    {
     "name": "stdout",
     "output_type": "stream",
     "text": [
      "Initial: 515, Deduplicated: 354, Operation simplified: 0, Constant: 63, Complex: 4, Final: 94\n",
      "Population mean complexity: 26.01063829787234\n",
      "Population mean fitness: 72.56182427002294\n",
      "\n",
      "0. Fitness: 0.01076, Fitness_val = 0.01033, Genome: x[0], Age: 0, Complexity: 1\n",
      "1. Fitness: 0.02558, Fitness_val = 0.02442, Genome: (sin(x[1]) + (x[0] - x[1])), Age: 0, Complexity: 12\n",
      "2. Fitness: 0.05757, Fitness_val = 0.06271, Genome: (tan(sin((x[0] / x[0]))) * x[0]), Age: 0, Complexity: 70\n",
      "3. Fitness: 0.12128, Fitness_val = 0.11691, Genome: (sin(sin(sin(x[1]))) + x[0]), Age: 12, Complexity: 150\n",
      "4. Fitness: 0.14219, Fitness_val = 0.13675, Genome: (sin(sin(x[1])) + x[0]), Age: 11, Complexity: 38\n"
     ]
    },
    {
     "name": "stderr",
     "output_type": "stream",
     "text": [
      " 42%|████▎     | 255/600 [02:51<03:24,  1.69it/s]"
     ]
    },
    {
     "name": "stdout",
     "output_type": "stream",
     "text": [
      "Initial: 545, Deduplicated: 344, Operation simplified: 0, Constant: 69, Complex: 11, Final: 121\n",
      "Population mean complexity: 35.735537190082646\n",
      "Population mean fitness: 88.51281834436527\n",
      "\n",
      "0. Fitness: 0.01076, Fitness_val = 0.01033, Genome: x[0], Age: 0, Complexity: 1\n",
      "1. Fitness: 0.02558, Fitness_val = 0.02442, Genome: (sin(x[1]) + (x[0] - x[1])), Age: 0, Complexity: 12\n",
      "2. Fitness: 0.06570, Fitness_val = 0.05516, Genome: ((sin(sin(x[1])) * x[0]) / x[1]), Age: 0, Complexity: 40\n",
      "3. Fitness: 0.05757, Fitness_val = 0.06271, Genome: (tan(sin((x[0] / x[0]))) * x[0]), Age: 11, Complexity: 70\n",
      "4. Fitness: 0.12128, Fitness_val = 0.11691, Genome: (sin(sin(sin(x[1]))) + x[0]), Age: 7, Complexity: 150\n"
     ]
    },
    {
     "name": "stderr",
     "output_type": "stream",
     "text": [
      " 45%|████▌     | 270/600 [03:01<02:56,  1.87it/s]"
     ]
    },
    {
     "name": "stdout",
     "output_type": "stream",
     "text": [
      "Initial: 534, Deduplicated: 345, Operation simplified: 0, Constant: 59, Complex: 16, Final: 114\n",
      "Population mean complexity: 35.89473684210526\n",
      "Population mean fitness: 341.5820601861587\n",
      "\n",
      "0. Fitness: 0.01076, Fitness_val = 0.01033, Genome: x[0], Age: 0, Complexity: 1\n",
      "1. Fitness: 0.02558, Fitness_val = 0.02442, Genome: (sin(x[1]) + (x[0] - x[1])), Age: 0, Complexity: 12\n",
      "2. Fitness: 0.06570, Fitness_val = 0.05516, Genome: ((sin(sin(x[1])) * x[0]) / x[1]), Age: 0, Complexity: 40\n",
      "3. Fitness: 0.05757, Fitness_val = 0.06271, Genome: (tan(sin((x[0] / x[0]))) * x[0]), Age: 8, Complexity: 70\n",
      "4. Fitness: 0.12128, Fitness_val = 0.11691, Genome: (sin(sin(sin(x[1]))) + x[0]), Age: 14, Complexity: 150\n"
     ]
    },
    {
     "name": "stderr",
     "output_type": "stream",
     "text": [
      " 48%|████▊     | 285/600 [03:12<03:05,  1.70it/s]"
     ]
    },
    {
     "name": "stdout",
     "output_type": "stream",
     "text": [
      "Initial: 569, Deduplicated: 357, Operation simplified: 0, Constant: 71, Complex: 14, Final: 127\n",
      "Population mean complexity: 30.22047244094488\n",
      "Population mean fitness: 316.3088002751929\n",
      "\n",
      "0. Fitness: 0.01076, Fitness_val = 0.01033, Genome: x[0], Age: 0, Complexity: 1\n",
      "1. Fitness: 0.02558, Fitness_val = 0.02442, Genome: (sin(x[1]) + (x[0] - x[1])), Age: 0, Complexity: 12\n",
      "2. Fitness: 0.06570, Fitness_val = 0.05516, Genome: ((sin(sin(x[1])) * x[0]) / x[1]), Age: 0, Complexity: 40\n",
      "3. Fitness: 0.05757, Fitness_val = 0.06271, Genome: (tan(sin((x[0] / x[0]))) * x[0]), Age: 11, Complexity: 70\n",
      "4. Fitness: 0.14219, Fitness_val = 0.13675, Genome: (sin(sin(x[1])) + x[0]), Age: 6, Complexity: 38\n"
     ]
    },
    {
     "name": "stderr",
     "output_type": "stream",
     "text": [
      " 50%|█████     | 300/600 [03:23<02:45,  1.82it/s]"
     ]
    },
    {
     "name": "stdout",
     "output_type": "stream",
     "text": [
      "Initial: 533, Deduplicated: 350, Operation simplified: 0, Constant: 55, Complex: 8, Final: 120\n",
      "Population mean complexity: 26.175\n",
      "Population mean fitness: 56.77410709485743\n",
      "\n",
      "0. Fitness: 0.01076, Fitness_val = 0.01033, Genome: x[0], Age: 0, Complexity: 1\n",
      "1. Fitness: 0.02558, Fitness_val = 0.02442, Genome: (sin(x[1]) + (x[0] - x[1])), Age: 0, Complexity: 12\n",
      "2. Fitness: 0.06570, Fitness_val = 0.05516, Genome: ((sin(sin(x[1])) * x[0]) / x[1]), Age: 0, Complexity: 40\n",
      "3. Fitness: 0.05757, Fitness_val = 0.06271, Genome: (tan(sin((x[0] / x[0]))) * x[0]), Age: 13, Complexity: 70\n",
      "4. Fitness: 0.14219, Fitness_val = 0.13675, Genome: (sin(sin(x[1])) + x[0]), Age: 4, Complexity: 38\n"
     ]
    },
    {
     "name": "stderr",
     "output_type": "stream",
     "text": [
      " 51%|█████     | 306/600 [03:26<03:04,  1.59it/s]"
     ]
    },
    {
     "name": "stdout",
     "output_type": "stream",
     "text": [
      "New best result found: Individual(genome=(x[1] + (x[0] - sin(x[1]))), fitness=np.float64(0.003156124693576345), fitness_val=np.float64(0.003124170601140427), age=0, T=1)\n"
     ]
    },
    {
     "name": "stderr",
     "output_type": "stream",
     "text": [
      " 52%|█████▎    | 315/600 [03:32<02:59,  1.59it/s]"
     ]
    },
    {
     "name": "stdout",
     "output_type": "stream",
     "text": [
      "Initial: 509, Deduplicated: 296, Operation simplified: 0, Constant: 46, Complex: 19, Final: 148\n",
      "Population mean complexity: 28.993243243243242\n",
      "Population mean fitness: 755.8006558421432\n",
      "\n",
      "0. Fitness: 0.00316, Fitness_val = 0.00312, Genome: (x[1] + (x[0] - sin(x[1]))), Age: 0, Complexity: 12\n",
      "1. Fitness: 0.01076, Fitness_val = 0.01033, Genome: x[0], Age: 0, Complexity: 1\n",
      "2. Fitness: 0.02990, Fitness_val = 0.02372, Genome: ((sin(x[1]) * x[0]) / x[1]), Age: 0, Complexity: 12\n",
      "3. Fitness: 0.02558, Fitness_val = 0.02442, Genome: (sin(x[1]) + (x[0] - x[1])), Age: 10, Complexity: 12\n",
      "4. Fitness: 0.02393, Fitness_val = 0.02694, Genome: ((tan(sin(x[1])) * x[0]) / x[1]), Age: 7, Complexity: 40\n"
     ]
    },
    {
     "name": "stderr",
     "output_type": "stream",
     "text": [
      " 55%|█████▌    | 330/600 [03:43<03:10,  1.42it/s]"
     ]
    },
    {
     "name": "stdout",
     "output_type": "stream",
     "text": [
      "Initial: 557, Deduplicated: 337, Operation simplified: 0, Constant: 59, Complex: 9, Final: 152\n",
      "Population mean complexity: 24.31578947368421\n",
      "Population mean fitness: 222.7282247437734\n",
      "\n",
      "0. Fitness: 0.00316, Fitness_val = 0.00312, Genome: (x[1] + (x[0] - sin(x[1]))), Age: 0, Complexity: 12\n",
      "1. Fitness: 0.01076, Fitness_val = 0.01033, Genome: x[0], Age: 0, Complexity: 1\n",
      "2. Fitness: 0.02990, Fitness_val = 0.02372, Genome: ((sin(x[1]) * x[0]) / x[1]), Age: 0, Complexity: 12\n",
      "3. Fitness: 0.02393, Fitness_val = 0.02694, Genome: ((tan(sin(x[1])) * x[0]) / x[1]), Age: 2, Complexity: 40\n",
      "4. Fitness: 0.05620, Fitness_val = 0.05408, Genome: (cos(sin(x[0])) * (sin(x[0]) + x[0])), Age: 7, Complexity: 47\n"
     ]
    },
    {
     "name": "stderr",
     "output_type": "stream",
     "text": [
      " 56%|█████▋    | 339/600 [03:50<02:33,  1.70it/s]"
     ]
    },
    {
     "name": "stdout",
     "output_type": "stream",
     "text": [
      "New best result found: Individual(genome=(x[1] + ((x[1] + (x[0] - sin(x[1]))) - sin(x[1]))), fitness=np.float64(0.0027598852399336234), fitness_val=np.float64(0.002819096819442911), age=0, T=1)\n"
     ]
    },
    {
     "name": "stderr",
     "output_type": "stream",
     "text": [
      " 57%|█████▊    | 345/600 [03:53<02:45,  1.55it/s]"
     ]
    },
    {
     "name": "stdout",
     "output_type": "stream",
     "text": [
      "Initial: 529, Deduplicated: 287, Operation simplified: 0, Constant: 26, Complex: 7, Final: 209\n",
      "Population mean complexity: 26.086124401913874\n",
      "Population mean fitness: 16946809.026109315\n",
      "\n",
      "0. Fitness: 0.00276, Fitness_val = 0.00282, Genome: (x[1] + ((x[1] + (x[0] - sin(x[1]))) - sin(x[1]))), Age: 0, Complexity: 23\n",
      "1. Fitness: 0.00316, Fitness_val = 0.00312, Genome: (x[1] + ((x[1] + (x[0] - x[1])) - sin(x[1]))), Age: 2, Complexity: 16\n",
      "2. Fitness: 0.01076, Fitness_val = 0.01033, Genome: x[0], Age: 0, Complexity: 1\n",
      "3. Fitness: 0.02990, Fitness_val = 0.02372, Genome: ((sin(x[1]) * x[0]) / x[1]), Age: 15, Complexity: 12\n",
      "4. Fitness: 0.02558, Fitness_val = 0.02442, Genome: (sin(x[1]) + (x[0] - x[1])), Age: 2, Complexity: 12\n"
     ]
    },
    {
     "name": "stderr",
     "output_type": "stream",
     "text": [
      " 58%|█████▊    | 350/600 [03:58<03:37,  1.15it/s]"
     ]
    },
    {
     "name": "stdout",
     "output_type": "stream",
     "text": [
      "New best result found: Individual(genome=(x[1] + (x[0] - sin(sin(x[1])))), fitness=np.float64(0.001829761561649137), fitness_val=np.float64(0.0018876435463135095), age=0, T=1)\n"
     ]
    },
    {
     "name": "stderr",
     "output_type": "stream",
     "text": [
      " 60%|██████    | 360/600 [04:07<04:05,  1.02s/it]"
     ]
    },
    {
     "name": "stdout",
     "output_type": "stream",
     "text": [
      "Initial: 564, Deduplicated: 275, Operation simplified: 0, Constant: 22, Complex: 21, Final: 246\n",
      "Population mean complexity: 28.817073170731707\n",
      "Population mean fitness: 316.4312695847015\n",
      "\n",
      "0. Fitness: 0.00183, Fitness_val = 0.00189, Genome: (x[1] + (x[0] - sin(sin(x[1])))), Age: 0, Complexity: 40\n",
      "1. Fitness: 0.00276, Fitness_val = 0.00282, Genome: (x[1] + ((x[1] + (x[0] - sin(x[1]))) - sin(x[1]))), Age: 0, Complexity: 23\n",
      "2. Fitness: 0.00316, Fitness_val = 0.00312, Genome: (x[1] + (x[0] - sin(x[1]))), Age: 0, Complexity: 12\n",
      "3. Fitness: 0.00452, Fitness_val = 0.00441, Genome: (sin(x[1]) + (x[0] - sin(sin(x[1])))), Age: 0, Complexity: 47\n",
      "4. Fitness: 0.00786, Fitness_val = 0.00756, Genome: (sin(sin(x[1])) + ((x[1] + (x[0] - sin(x[1]))) - sin(x[1]))), Age: 2, Complexity: 58\n"
     ]
    },
    {
     "name": "stderr",
     "output_type": "stream",
     "text": [
      " 62%|██████▏   | 374/600 [04:23<03:59,  1.06s/it]"
     ]
    },
    {
     "name": "stdout",
     "output_type": "stream",
     "text": [
      "New best result found: Individual(genome=(x[0] + (x[1] - sin(sin(x[1])))), fitness=np.float64(0.0018297615616491363), fitness_val=np.float64(0.0018876435463135077), age=0, T=1)\n"
     ]
    },
    {
     "name": "stderr",
     "output_type": "stream",
     "text": [
      " 62%|██████▎   | 375/600 [04:24<03:47,  1.01s/it]"
     ]
    },
    {
     "name": "stdout",
     "output_type": "stream",
     "text": [
      "Initial: 556, Deduplicated: 277, Operation simplified: 0, Constant: 26, Complex: 18, Final: 235\n",
      "Population mean complexity: 30.41276595744681\n",
      "Population mean fitness: 64.17825678788607\n",
      "\n",
      "0. Fitness: 0.00183, Fitness_val = 0.00189, Genome: (x[0] + (x[1] - sin(sin(x[1])))), Age: 0, Complexity: 40\n",
      "1. Fitness: 0.00183, Fitness_val = 0.00189, Genome: (x[1] + (x[0] - sin(sin(x[1])))), Age: 0, Complexity: 40\n",
      "2. Fitness: 0.00276, Fitness_val = 0.00282, Genome: (x[1] + ((x[1] + (x[0] - sin(x[1]))) - sin(x[1]))), Age: 0, Complexity: 23\n",
      "3. Fitness: 0.00316, Fitness_val = 0.00312, Genome: (x[0] + (x[1] - sin(x[1]))), Age: 0, Complexity: 12\n",
      "4. Fitness: 0.00316, Fitness_val = 0.00312, Genome: (x[1] + (x[0] - sin(x[1]))), Age: 0, Complexity: 12\n"
     ]
    },
    {
     "name": "stderr",
     "output_type": "stream",
     "text": [
      " 65%|██████▌   | 390/600 [04:37<03:02,  1.15it/s]"
     ]
    },
    {
     "name": "stdout",
     "output_type": "stream",
     "text": [
      "Initial: 547, Deduplicated: 242, Operation simplified: 0, Constant: 18, Complex: 30, Final: 257\n",
      "Population mean complexity: 34.85214007782101\n",
      "Population mean fitness: 4295961388148.0586\n",
      "\n",
      "0. Fitness: 0.00183, Fitness_val = 0.00189, Genome: (x[0] + (x[1] - sin(sin(x[1])))), Age: 0, Complexity: 40\n",
      "1. Fitness: 0.00183, Fitness_val = 0.00189, Genome: (x[1] + (x[0] - sin(sin(x[1])))), Age: 0, Complexity: 40\n",
      "2. Fitness: 0.00255, Fitness_val = 0.00258, Genome: (x[1] + (((x[1] + (x[0] - sin(x[1]))) - sin(x[1])) + (sin(sin(x[1])) - sin(x[1])))), Age: 0, Complexity: 69\n",
      "3. Fitness: 0.00276, Fitness_val = 0.00282, Genome: (x[1] + ((x[1] + (x[0] - sin(x[1]))) - sin(x[1]))), Age: 5, Complexity: 23\n",
      "4. Fitness: 0.00316, Fitness_val = 0.00312, Genome: (x[0] + (x[1] - sin(x[1]))), Age: 0, Complexity: 12\n"
     ]
    },
    {
     "name": "stderr",
     "output_type": "stream",
     "text": [
      " 68%|██████▊   | 405/600 [04:51<02:59,  1.09it/s]"
     ]
    },
    {
     "name": "stdout",
     "output_type": "stream",
     "text": [
      "Initial: 538, Deduplicated: 241, Operation simplified: 0, Constant: 19, Complex: 32, Final: 246\n",
      "Population mean complexity: 37.72357723577236\n",
      "Population mean fitness: 4488071411427.729\n",
      "\n",
      "0. Fitness: 0.00183, Fitness_val = 0.00189, Genome: (x[0] + (x[1] - sin(sin(x[1])))), Age: 0, Complexity: 40\n",
      "1. Fitness: 0.00183, Fitness_val = 0.00189, Genome: (x[1] + (x[0] - sin(sin(x[1])))), Age: 0, Complexity: 40\n",
      "2. Fitness: 0.00255, Fitness_val = 0.00258, Genome: (x[1] + (((x[1] + (x[0] - sin(x[1]))) - sin(x[1])) + (sin(sin(x[1])) - sin(x[1])))), Age: 0, Complexity: 69\n",
      "3. Fitness: 0.00316, Fitness_val = 0.00312, Genome: (x[0] + (x[1] - sin(x[1]))), Age: 0, Complexity: 12\n",
      "4. Fitness: 0.00316, Fitness_val = 0.00312, Genome: (x[1] + (x[0] - sin(x[1]))), Age: 0, Complexity: 12\n"
     ]
    },
    {
     "name": "stderr",
     "output_type": "stream",
     "text": [
      " 70%|███████   | 420/600 [05:06<02:47,  1.08it/s]"
     ]
    },
    {
     "name": "stdout",
     "output_type": "stream",
     "text": [
      "Initial: 538, Deduplicated: 217, Operation simplified: 0, Constant: 7, Complex: 45, Final: 269\n",
      "Population mean complexity: 40.10408921933085\n",
      "Population mean fitness: 4104319987943.784\n",
      "\n",
      "0. Fitness: 0.00183, Fitness_val = 0.00189, Genome: ((x[0] + (x[1] - sin(sin(x[1])))) + (sin(x[1]) - sin(x[1]))), Age: 0, Complexity: 58\n",
      "1. Fitness: 0.00183, Fitness_val = 0.00189, Genome: (x[1] + (x[0] - sin(sin(x[1])))), Age: 0, Complexity: 40\n",
      "2. Fitness: 0.00255, Fitness_val = 0.00258, Genome: (x[1] + (((x[1] + (x[0] - sin(x[1]))) - sin(x[1])) + (sin(sin(x[1])) - sin(x[1])))), Age: 0, Complexity: 69\n",
      "3. Fitness: 0.00276, Fitness_val = 0.00282, Genome: (x[1] + (((x[1] + (x[0] - sin(x[1]))) - sin(x[1])) + (sin(x[1]) - sin(x[1])))), Age: 1, Complexity: 41\n",
      "4. Fitness: 0.00316, Fitness_val = 0.00312, Genome: (x[0] + (x[1] - sin(x[1]))), Age: 0, Complexity: 12\n"
     ]
    },
    {
     "name": "stderr",
     "output_type": "stream",
     "text": [
      " 72%|███████▎  | 435/600 [05:21<02:52,  1.04s/it]"
     ]
    },
    {
     "name": "stdout",
     "output_type": "stream",
     "text": [
      "Initial: 541, Deduplicated: 251, Operation simplified: 0, Constant: 23, Complex: 38, Final: 229\n",
      "Population mean complexity: 47.082969432314414\n",
      "Population mean fitness: 9967535177807.674\n",
      "\n",
      "0. Fitness: 0.00183, Fitness_val = 0.00189, Genome: (x[1] + ((((x[0] + (sin(x[1]) - x[1])) + (x[1] - sin(sin(x[1])))) - sin(x[1])) + (sin(x[1]) - sin(x[1])))), Age: 1, Complexity: 80\n",
      "1. Fitness: 0.00183, Fitness_val = 0.00189, Genome: (x[1] + (((x[0] + (x[1] - sin(sin(x[1])))) - x[1]) + (sin(x[1]) - sin(x[1])))), Age: 0, Complexity: 62\n",
      "2. Fitness: 0.00255, Fitness_val = 0.00258, Genome: (x[1] + (((x[1] + (x[0] - sin(x[1]))) - sin(x[1])) + (sin(sin(x[1])) - sin(x[1])))), Age: 0, Complexity: 69\n",
      "3. Fitness: 0.00275, Fitness_val = 0.00281, Genome: ((x[0] + (x[1] - sin(x[1]))) + sin((x[1] - sin(x[1])))), Age: 1, Complexity: 57\n",
      "4. Fitness: 0.00276, Fitness_val = 0.00282, Genome: (x[1] + (((x[1] + (x[0] - sin(x[1]))) - sin(x[1])) + (sin(x[1]) - sin(x[1])))), Age: 8, Complexity: 41\n"
     ]
    },
    {
     "name": "stderr",
     "output_type": "stream",
     "text": [
      " 75%|███████▌  | 450/600 [05:39<02:49,  1.13s/it]"
     ]
    },
    {
     "name": "stdout",
     "output_type": "stream",
     "text": [
      "Initial: 540, Deduplicated: 219, Operation simplified: 0, Constant: 11, Complex: 43, Final: 267\n",
      "Population mean complexity: 54.06367041198502\n",
      "Population mean fitness: 16540301019437.457\n",
      "\n",
      "0. Fitness: 0.00183, Fitness_val = 0.00189, Genome: (x[1] + ((((x[0] + (sin(x[1]) - x[1])) + (x[1] - sin(sin(x[1])))) - sin(x[1])) + (sin(x[1]) - sin(x[1])))), Age: 1, Complexity: 80\n",
      "1. Fitness: 0.00183, Fitness_val = 0.00189, Genome: (x[1] + (((x[0] + (x[1] - sin(sin(x[1])))) - x[1]) + (sin(x[1]) - sin(x[1])))), Age: 0, Complexity: 62\n",
      "2. Fitness: 0.00183, Fitness_val = 0.00189, Genome: ((x[0] + (x[1] - sin(x[1]))) + (sin(x[1]) - sin(sin(x[1])))), Age: 0, Complexity: 58\n",
      "3. Fitness: 0.00255, Fitness_val = 0.00258, Genome: (x[1] + (((x[1] + (x[0] - sin(x[1]))) - sin(x[1])) + (sin(sin(x[1])) - sin(x[1])))), Age: 3, Complexity: 69\n",
      "4. Fitness: 0.00275, Fitness_val = 0.00281, Genome: ((x[0] + (x[1] - sin(x[1]))) + sin((x[1] - sin(x[1])))), Age: 16, Complexity: 57\n"
     ]
    },
    {
     "name": "stderr",
     "output_type": "stream",
     "text": [
      " 76%|███████▌  | 453/600 [05:43<03:02,  1.24s/it]"
     ]
    },
    {
     "name": "stdout",
     "output_type": "stream",
     "text": [
      "New best result found: Individual(genome=(((sin(x[1]) + (x[0] - x[1])) + (x[1] - sin(sin(x[1])))) + (sin(x[1]) - sin(sin(x[1])))), fitness=np.float64(0.0016615394573392384), fitness_val=np.float64(0.0016983177188405329), age=0, T=1)\n"
     ]
    },
    {
     "name": "stderr",
     "output_type": "stream",
     "text": [
      " 78%|███████▊  | 465/600 [05:58<02:43,  1.21s/it]"
     ]
    },
    {
     "name": "stdout",
     "output_type": "stream",
     "text": [
      "Initial: 539, Deduplicated: 197, Operation simplified: 0, Constant: 6, Complex: 52, Final: 284\n",
      "Population mean complexity: 68.05985915492958\n",
      "Population mean fitness: 3887542524222.3813\n",
      "\n",
      "0. Fitness: 0.00166, Fitness_val = 0.00170, Genome: (((sin(x[1]) + (x[0] - x[1])) + (x[1] - sin(sin(x[1])))) + (sin(x[1]) - sin(sin(x[1])))), Age: 0, Complexity: 97\n",
      "1. Fitness: 0.00183, Fitness_val = 0.00189, Genome: (x[1] + ((((x[0] + (sin(x[1]) - x[1])) + (x[1] - sin(sin(x[1])))) - sin(x[1])) + (sin(x[1]) - sin(x[1])))), Age: 0, Complexity: 80\n",
      "2. Fitness: 0.00183, Fitness_val = 0.00189, Genome: ((x[0] + (x[1] - sin(x[1]))) + (sin(x[1]) - sin(sin(x[1])))), Age: 0, Complexity: 58\n",
      "3. Fitness: 0.00183, Fitness_val = 0.00189, Genome: ((x[1] + (x[0] - sin(sin(x[1])))) + (sin(x[1]) - sin(x[1]))), Age: 2, Complexity: 58\n",
      "4. Fitness: 0.00255, Fitness_val = 0.00258, Genome: (x[1] + (((x[1] + (x[0] - sin(x[1]))) - sin(x[1])) + (sin(sin(x[1])) - sin(x[1])))), Age: 3, Complexity: 69\n"
     ]
    },
    {
     "name": "stderr",
     "output_type": "stream",
     "text": [
      " 80%|████████  | 480/600 [06:18<02:41,  1.34s/it]"
     ]
    },
    {
     "name": "stdout",
     "output_type": "stream",
     "text": [
      "Initial: 558, Deduplicated: 204, Operation simplified: 0, Constant: 6, Complex: 64, Final: 284\n",
      "Population mean complexity: 74.18661971830986\n",
      "Population mean fitness: 15557258886259.375\n",
      "\n",
      "0. Fitness: 0.00166, Fitness_val = 0.00170, Genome: (((sin(x[1]) + (x[0] - x[1])) + (x[1] - sin(sin(x[1])))) + (sin(x[1]) - sin(sin(x[1])))), Age: 0, Complexity: 97\n",
      "1. Fitness: 0.00166, Fitness_val = 0.00170, Genome: (((sin(x[1]) + (x[0] - x[1])) + (sin(x[1]) - sin(sin(x[1])))) + (x[1] - sin(sin(x[1])))), Age: 0, Complexity: 97\n",
      "2. Fitness: 0.00183, Fitness_val = 0.00189, Genome: (((x[1] + (x[0] - x[1])) + (x[1] - sin(sin(x[1])))) + (sin(x[1]) - sin(x[1]))), Age: 0, Complexity: 62\n",
      "3. Fitness: 0.00183, Fitness_val = 0.00189, Genome: ((x[0] + (x[1] - sin(sin(x[1])))) + (sin(x[1]) - sin(x[1]))), Age: 4, Complexity: 58\n",
      "4. Fitness: 0.00183, Fitness_val = 0.00189, Genome: ((x[0] + (x[1] - sin(x[1]))) + (sin(x[1]) - sin(sin(x[1])))), Age: 9, Complexity: 58\n"
     ]
    },
    {
     "name": "stderr",
     "output_type": "stream",
     "text": [
      " 81%|████████▏ | 488/600 [06:30<02:48,  1.50s/it]"
     ]
    },
    {
     "name": "stdout",
     "output_type": "stream",
     "text": [
      "New best result found: Individual(genome=(((sin(x[1]) + (((x[0] + (x[1] - sin(sin(x[1])))) + (sin(x[1]) - x[1])) - x[1])) + (x[1] - sin(sin(x[1])))) + (sin(x[1]) - sin(x[1]))), fitness=np.float64(0.0016615394573392384), fitness_val=np.float64(0.0016983177188405324), age=0, T=1)\n"
     ]
    },
    {
     "name": "stderr",
     "output_type": "stream",
     "text": [
      " 82%|████████▏ | 491/600 [06:34<02:36,  1.43s/it]"
     ]
    },
    {
     "name": "stdout",
     "output_type": "stream",
     "text": [
      "New best result found: Individual(genome=(((sin(x[1]) + (((x[0] + (x[1] - sin(sin(x[1])))) + (sin(x[1]) - x[1])) - x[1])) + (x[1] - sin(sin(sin(x[1]))))) + (sin(x[1]) - sin(x[1]))), fitness=np.float64(0.0016183303372231768), fitness_val=np.float64(0.0016489143268719605), age=0, T=1)\n"
     ]
    },
    {
     "name": "stderr",
     "output_type": "stream",
     "text": [
      " 82%|████████▏ | 493/600 [06:37<02:32,  1.43s/it]"
     ]
    },
    {
     "name": "stdout",
     "output_type": "stream",
     "text": [
      "New best result found: Individual(genome=(((sin(x[1]) + (((x[0] + (x[1] - sin(sin(x[1])))) + (sin(x[1]) - x[1])) - x[1])) + (sin(x[1]) - sin(x[1]))) + (sin(x[1]) - sin(sin(sin(sin(x[1])))))), fitness=np.float64(0.001277444438785662), fitness_val=np.float64(0.001302695988266909), age=0, T=1)\n"
     ]
    },
    {
     "name": "stderr",
     "output_type": "stream",
     "text": [
      " 82%|████████▎ | 495/600 [06:40<02:36,  1.49s/it]"
     ]
    },
    {
     "name": "stdout",
     "output_type": "stream",
     "text": [
      "Initial: 553, Deduplicated: 169, Operation simplified: 0, Constant: 8, Complex: 67, Final: 309\n",
      "Population mean complexity: 70.93527508090615\n",
      "Population mean fitness: 28595718000277.355\n",
      "\n",
      "0. Fitness: 0.00166, Fitness_val = 0.00170, Genome: (((sin(x[1]) + (x[0] - x[1])) + (x[1] - sin(sin(x[1])))) + (sin(x[1]) - sin(sin(x[1])))), Age: 0, Complexity: 97\n",
      "1. Fitness: 0.00166, Fitness_val = 0.00170, Genome: (((sin(x[1]) + (x[0] - x[1])) + (sin(x[1]) - sin(sin(x[1])))) + (x[1] - sin(sin(x[1])))), Age: 0, Complexity: 97\n",
      "2. Fitness: 0.00183, Fitness_val = 0.00189, Genome: ((((sin(x[1]) + (x[0] - sin(x[1]))) - x[1]) + (x[1] - sin(sin(x[1])))) + x[1]), Age: 0, Complexity: 62\n",
      "3. Fitness: 0.00183, Fitness_val = 0.00189, Genome: (((x[1] + (x[0] - x[1])) + (x[1] - sin(sin(x[1])))) + (sin(x[1]) - sin(x[1]))), Age: 5, Complexity: 62\n",
      "4. Fitness: 0.00183, Fitness_val = 0.00189, Genome: ((x[0] + (x[1] - sin(sin(x[1])))) + (sin(x[1]) - sin(x[1]))), Age: 1, Complexity: 58\n"
     ]
    },
    {
     "name": "stderr",
     "output_type": "stream",
     "text": [
      " 85%|████████▌ | 510/600 [07:01<02:08,  1.42s/it]"
     ]
    },
    {
     "name": "stdout",
     "output_type": "stream",
     "text": [
      "Initial: 554, Deduplicated: 190, Operation simplified: 0, Constant: 12, Complex: 86, Final: 266\n",
      "Population mean complexity: 63.20676691729323\n",
      "Population mean fitness: 4150609311087.9575\n",
      "\n",
      "0. Fitness: 0.00166, Fitness_val = 0.00170, Genome: (((sin(x[1]) + (x[0] - x[1])) + (x[1] - sin(sin(x[1])))) + (sin(x[1]) - sin(sin(x[1])))), Age: 0, Complexity: 97\n",
      "1. Fitness: 0.00166, Fitness_val = 0.00170, Genome: (((sin(x[1]) + (x[0] - x[1])) + (sin(x[1]) - sin(sin(x[1])))) + (x[1] - sin(sin(x[1])))), Age: 0, Complexity: 97\n",
      "2. Fitness: 0.00183, Fitness_val = 0.00189, Genome: (x[1] + (((sin(x[1]) + (x[0] - sin(x[1]))) - x[1]) + (x[1] - sin(sin(x[1]))))), Age: 0, Complexity: 62\n",
      "3. Fitness: 0.00183, Fitness_val = 0.00189, Genome: ((((sin(x[1]) + (x[0] - sin(sin(x[1])))) - x[1]) + (x[1] - sin(x[1]))) + x[1]), Age: 2, Complexity: 62\n",
      "4. Fitness: 0.00183, Fitness_val = 0.00189, Genome: ((x[0] + (x[1] - sin(sin(x[1])))) + (sin(x[1]) - sin(x[1]))), Age: 0, Complexity: 58\n"
     ]
    },
    {
     "name": "stderr",
     "output_type": "stream",
     "text": [
      " 87%|████████▋ | 524/600 [07:19<01:41,  1.34s/it]"
     ]
    },
    {
     "name": "stdout",
     "output_type": "stream",
     "text": [
      "New best result found: Individual(genome=(((((sin(x[1]) + (x[0] - x[1])) + (sin(x[1]) - sin(sin(x[1])))) + (sin(x[1]) - sin(sin(x[1])))) + (sin(x[1]) - sin(sin(sin(x[1]))))) + (x[1] - x[1])), fitness=np.float64(0.0010727741142635158), fitness_val=np.float64(0.0011103451614781685), age=0, T=1)\n"
     ]
    },
    {
     "name": "stderr",
     "output_type": "stream",
     "text": [
      " 88%|████████▊ | 525/600 [07:21<01:58,  1.58s/it]"
     ]
    },
    {
     "name": "stdout",
     "output_type": "stream",
     "text": [
      "Initial: 551, Deduplicated: 206, Operation simplified: 0, Constant: 5, Complex: 71, Final: 269\n",
      "Population mean complexity: 64.09665427509293\n",
      "Population mean fitness: 15429550755839.998\n",
      "\n",
      "0. Fitness: 0.00166, Fitness_val = 0.00170, Genome: (((sin(x[1]) + (((x[0] + (x[1] - sin(sin(x[1])))) + (x[1] - x[1])) - x[1])) + (sin(x[1]) - sin(sin(x[1])))) + (x[1] - x[1])), Age: 0, Complexity: 105\n",
      "1. Fitness: 0.00166, Fitness_val = 0.00170, Genome: (((sin(x[1]) + (x[0] - x[1])) + (sin(x[1]) - sin(sin(x[1])))) + (x[1] - sin(sin(x[1])))), Age: 0, Complexity: 97\n",
      "2. Fitness: 0.00182, Fitness_val = 0.00188, Genome: ((((sin(x[1]) - sin(x[1])) + (x[0] - x[1])) + (x[1] - sin((sin(x[1]) - x[1])))) + (sin(x[1]) - sin(sin(x[1])))), Age: 0, Complexity: 114\n",
      "3. Fitness: 0.00183, Fitness_val = 0.00189, Genome: (x[1] + (((sin(x[1]) + (x[0] - sin(x[1]))) - x[1]) + (x[1] - sin(sin(x[1]))))), Age: 2, Complexity: 62\n",
      "4. Fitness: 0.00183, Fitness_val = 0.00189, Genome: ((((sin(x[1]) + (x[0] - sin(sin(x[1])))) - x[1]) + (x[1] - sin(x[1]))) + x[1]), Age: 10, Complexity: 62\n"
     ]
    },
    {
     "name": "stderr",
     "output_type": "stream",
     "text": [
      " 90%|█████████ | 540/600 [07:45<01:28,  1.47s/it]"
     ]
    },
    {
     "name": "stdout",
     "output_type": "stream",
     "text": [
      "Initial: 564, Deduplicated: 193, Operation simplified: 0, Constant: 8, Complex: 43, Final: 320\n",
      "Population mean complexity: 69.0875\n",
      "Population mean fitness: 37966140160268.53\n",
      "\n",
      "0. Fitness: 0.00166, Fitness_val = 0.00170, Genome: (((sin(x[1]) + (((x[0] + (x[1] - sin(sin(x[1])))) + (x[1] - x[1])) - x[1])) + (x[1] - sin(sin(x[1])))) + (sin(x[1]) - x[1])), Age: 0, Complexity: 105\n",
      "1. Fitness: 0.00166, Fitness_val = 0.00170, Genome: (((sin(x[1]) + (((x[0] + (x[1] - sin(sin(x[1])))) + (x[1] - x[1])) - x[1])) + (sin(x[1]) - sin(sin(x[1])))) + (x[1] - x[1])), Age: 0, Complexity: 105\n",
      "2. Fitness: 0.00166, Fitness_val = 0.00170, Genome: (((sin(x[1]) + (x[0] - x[1])) + (sin(x[1]) - sin(sin(x[1])))) + (x[1] - sin(sin(x[1])))), Age: 0, Complexity: 97\n",
      "3. Fitness: 0.00182, Fitness_val = 0.00188, Genome: ((((sin(x[1]) - sin(x[1])) + (x[0] - x[1])) + (x[1] - sin((sin(x[1]) - x[1])))) + (sin(x[1]) - sin(sin(x[1])))), Age: 8, Complexity: 114\n",
      "4. Fitness: 0.00182, Fitness_val = 0.00188, Genome: (((x[0] - sin(x[1])) + (sin(x[1]) - sin((sin(x[1]) - x[1])))) + (sin(x[1]) - sin(sin(x[1])))), Age: 2, Complexity: 110\n"
     ]
    },
    {
     "name": "stderr",
     "output_type": "stream",
     "text": [
      " 92%|█████████▎| 555/600 [08:10<01:20,  1.79s/it]"
     ]
    },
    {
     "name": "stdout",
     "output_type": "stream",
     "text": [
      "Initial: 571, Deduplicated: 224, Operation simplified: 0, Constant: 2, Complex: 54, Final: 291\n",
      "Population mean complexity: 80.40893470790378\n",
      "Population mean fitness: 2.898703504956404e+18\n",
      "\n",
      "0. Fitness: 0.00166, Fitness_val = 0.00170, Genome: (((sin(x[1]) + (((x[0] + (x[1] - sin(sin(x[1])))) + (x[1] - x[1])) - x[1])) + (x[1] - sin(sin(x[1])))) + (sin(x[1]) - x[1])), Age: 0, Complexity: 105\n",
      "1. Fitness: 0.00166, Fitness_val = 0.00170, Genome: (((sin(x[1]) + (((x[0] + (x[1] - sin(sin(x[1])))) + (x[1] - x[1])) - x[1])) + (sin(x[1]) - sin(sin(x[1])))) + (x[1] - x[1])), Age: 0, Complexity: 105\n",
      "2. Fitness: 0.00166, Fitness_val = 0.00170, Genome: (((sin(x[1]) + (x[0] - x[1])) + (sin(x[1]) - sin(sin(x[1])))) + (x[1] - sin(sin(x[1])))), Age: 0, Complexity: 97\n",
      "3. Fitness: 0.00182, Fitness_val = 0.00188, Genome: ((((sin(x[1]) - sin(x[1])) + (x[0] - x[1])) + (x[1] - sin((sin(x[1]) - x[1])))) + (sin(x[1]) - sin(sin(x[1])))), Age: 12, Complexity: 114\n",
      "4. Fitness: 0.00183, Fitness_val = 0.00189, Genome: (((sin(x[1]) + (x[0] - sin(x[1]))) + (sin(x[1]) - sin(sin(x[1])))) + (x[1] - sin(x[1]))), Age: 6, Complexity: 76\n"
     ]
    },
    {
     "name": "stderr",
     "output_type": "stream",
     "text": [
      " 95%|█████████▌| 570/600 [08:35<00:52,  1.75s/it]"
     ]
    },
    {
     "name": "stdout",
     "output_type": "stream",
     "text": [
      "Initial: 570, Deduplicated: 205, Operation simplified: 0, Constant: 5, Complex: 76, Final: 284\n",
      "Population mean complexity: 78.8169014084507\n",
      "Population mean fitness: 2077.716986352439\n",
      "\n",
      "0. Fitness: 0.00166, Fitness_val = 0.00170, Genome: (((sin(x[1]) + (((x[0] + (x[1] - sin(sin(x[1])))) + (x[1] - x[1])) - x[1])) + (x[1] - sin(sin(x[1])))) + (sin(x[1]) - x[1])), Age: 0, Complexity: 105\n",
      "1. Fitness: 0.00166, Fitness_val = 0.00170, Genome: (((sin(x[1]) + ((((sin(x[1]) + (x[0] - sin(x[1]))) + (sin(x[1]) - sin(sin(x[1])))) + (x[1] - sin(x[1]))) - x[1])) + (x[1] - sin(sin(x[1])))) + (sin(x[1]) - x[1])), Age: 2, Complexity: 137\n",
      "2. Fitness: 0.00166, Fitness_val = 0.00170, Genome: (((sin(x[1]) + (x[0] - x[1])) + (sin(x[1]) - sin(sin(x[1])))) + (x[1] - sin(sin(x[1])))), Age: 0, Complexity: 97\n",
      "3. Fitness: 0.00182, Fitness_val = 0.00188, Genome: ((((sin(x[1]) - sin(x[1])) + (x[0] - x[1])) + (x[1] - sin((sin(x[1]) - x[1])))) + (sin(x[1]) - sin(sin(x[1])))), Age: 1, Complexity: 114\n",
      "4. Fitness: 0.00183, Fitness_val = 0.00189, Genome: (((x[0] + (x[1] - sin(sin(x[1])))) + (x[1] - x[1])) + (x[1] - x[1])), Age: 2, Complexity: 48\n"
     ]
    },
    {
     "name": "stderr",
     "output_type": "stream",
     "text": [
      " 98%|█████████▊| 585/600 [09:00<00:27,  1.81s/it]"
     ]
    },
    {
     "name": "stdout",
     "output_type": "stream",
     "text": [
      "Initial: 526, Deduplicated: 168, Operation simplified: 0, Constant: 8, Complex: 86, Final: 264\n",
      "Population mean complexity: 80.70075757575758\n",
      "Population mean fitness: 20910233983343.523\n",
      "\n",
      "0. Fitness: 0.00166, Fitness_val = 0.00170, Genome: (((sin(x[1]) + (((x[0] + (x[1] - sin(sin(x[1])))) + (x[1] - x[1])) - x[1])) + (x[1] - sin(sin(x[1])))) + (sin(x[1]) - x[1])), Age: 0, Complexity: 105\n",
      "1. Fitness: 0.00166, Fitness_val = 0.00170, Genome: (((sin(x[1]) + ((((sin(x[1]) + (x[0] - sin(x[1]))) + (sin(x[1]) - sin(sin(x[1])))) + (x[1] - sin(x[1]))) - x[1])) + (x[1] - sin(sin(x[1])))) + (sin(x[1]) - x[1])), Age: 9, Complexity: 137\n",
      "2. Fitness: 0.00166, Fitness_val = 0.00170, Genome: (((sin(x[1]) + (x[0] - x[1])) + (sin(x[1]) - sin(sin(x[1])))) + (x[1] - sin(sin(x[1])))), Age: 0, Complexity: 97\n",
      "3. Fitness: 0.00182, Fitness_val = 0.00188, Genome: ((((sin(x[1]) - sin(x[1])) + (x[0] - x[1])) + (x[1] - sin((sin(x[1]) - x[1])))) + (sin(x[1]) - sin(sin(x[1])))), Age: 16, Complexity: 114\n",
      "4. Fitness: 0.00183, Fitness_val = 0.00189, Genome: (((x[1] + (((x[0] + (x[1] - sin(x[1]))) + (x[1] - x[1])) - x[1])) + (sin(x[1]) - sin(sin(x[1])))) + (x[1] - x[1])), Age: 3, Complexity: 70\n"
     ]
    },
    {
     "name": "stderr",
     "output_type": "stream",
     "text": [
      "100%|██████████| 600/600 [09:25<00:00,  1.06it/s]"
     ]
    },
    {
     "name": "stdout",
     "output_type": "stream",
     "text": [
      "Initial: 559, Deduplicated: 208, Operation simplified: 0, Constant: 1, Complex: 96, Final: 254\n",
      "Population mean complexity: 81.32283464566929\n",
      "Population mean fitness: 13742002.029475426\n",
      "\n",
      "0. Fitness: 0.00166, Fitness_val = 0.00170, Genome: (((sin(x[1]) + (((x[0] + (x[1] - sin(sin(x[1])))) + (x[1] - x[1])) - x[1])) + (x[1] - sin(sin(x[1])))) + (sin(x[1]) - x[1])), Age: 0, Complexity: 105\n",
      "1. Fitness: 0.00166, Fitness_val = 0.00170, Genome: ((sin(x[1]) + (((x[0] + (x[1] - sin(sin(x[1])))) + (sin(x[1]) - x[1])) - x[1])) + (x[1] - sin(sin(x[1])))), Age: 0, Complexity: 101\n",
      "2. Fitness: 0.00166, Fitness_val = 0.00170, Genome: (((sin(x[1]) + ((((sin(x[1]) + (x[0] - sin(x[1]))) + (sin(x[1]) - sin(sin(x[1])))) + (x[1] - sin(x[1]))) - x[1])) + (x[1] - sin(sin(x[1])))) + (sin(x[1]) - x[1])), Age: 0, Complexity: 137\n",
      "3. Fitness: 0.00166, Fitness_val = 0.00170, Genome: (((sin(x[1]) + (x[0] - x[1])) + (sin(x[1]) - sin(sin(x[1])))) + (x[1] - sin(sin(x[1])))), Age: 7, Complexity: 97\n",
      "4. Fitness: 0.00183, Fitness_val = 0.00189, Genome: (((sin(x[1]) + (x[0] - x[1])) + (x[1] - sin(x[1]))) + (x[1] - sin(sin(x[1])))), Age: 6, Complexity: 62\n",
      "Best individual: Fitness = 0.0010727741142635158: Genome = (((((sin(x[1]) + (x[0] - x[1])) + (sin(x[1]) - sin(sin(x[1])))) + (sin(x[1]) - sin(sin(x[1])))) + (sin(x[1]) - sin(sin(sin(x[1]))))) + (x[1] - x[1]))\n",
      "Top 1: Fitness = 0.0016615394573392382 Fitness_val = 0.0016983177188405322 Genome = (((sin(x[1]) + (((x[0] + (x[1] - sin(sin(x[1])))) + (x[1] - x[1])) - x[1])) + (x[1] - sin(sin(x[1])))) + (sin(x[1]) - x[1]))\n",
      "Top 2: Fitness = 0.0016615394573392384 Fitness_val = 0.0016983177188405324 Genome = ((sin(x[1]) + (((x[0] + (x[1] - sin(sin(x[1])))) + (sin(x[1]) - x[1])) - x[1])) + (x[1] - sin(sin(x[1]))))\n",
      "Top 3: Fitness = 0.0016615394573392388 Fitness_val = 0.0016983177188405329 Genome = (((sin(x[1]) + ((((sin(x[1]) + (x[0] - sin(x[1]))) + (sin(x[1]) - sin(sin(x[1])))) + (x[1] - sin(x[1]))) - x[1])) + (x[1] - sin(sin(x[1])))) + (sin(x[1]) - x[1]))\n",
      "Top 4: Fitness = 0.0016615394573392386 Fitness_val = 0.0016983177188405333 Genome = (((sin(x[1]) + (x[0] - x[1])) + (sin(x[1]) - sin(sin(x[1])))) + (x[1] - sin(sin(x[1]))))\n",
      "Top 5: Fitness = 0.0018297615616491368 Fitness_val = 0.0018876435463135077 Genome = (((sin(x[1]) + (x[0] - x[1])) + (x[1] - sin(x[1]))) + (x[1] - sin(sin(x[1]))))\n",
      "Top 6: Fitness = 0.001829761561649137 Fitness_val = 0.001887643546313508 Genome = (((x[1] + (((x[0] + (x[1] - sin(sin(x[1])))) + (sin(x[1]) - sin(x[1]))) - x[1])) + (sin(x[1]) - sin(x[1]))) + (x[1] - x[1]))\n",
      "Top 7: Fitness = 0.0018297615616491374 Fitness_val = 0.0018876435463135084 Genome = (((sin(x[1]) + ((((((x[1] + (x[0] - x[1])) - sin(x[1])) + (x[1] - x[1])) + x[1]) + (sin(x[1]) - sin(x[1]))) - x[1])) + (sin(x[1]) - sin(sin(x[1])))) + (x[1] - sin(x[1])))\n",
      "Top 8: Fitness = 0.003156124693576346 Fitness_val = 0.0031241706011404247 Genome = (((x[1] + (((x[0] + (x[1] - sin(x[1]))) + (sin(sin(x[1])) - sin(x[1]))) - x[1])) + (sin(x[1]) - sin(sin(x[1])))) + (x[1] - x[1]))\n",
      "Top 9: Fitness = 0.003156124693576345 Fitness_val = 0.003124170601140427 Genome = ((((x[1] + ((sin(x[1]) - x[1]) - sin(x[1]))) - sin(x[1])) + (x[0] + (x[1] - x[1]))) + x[1])\n",
      "Top 10: Fitness = 0.00316083513579277 Fitness_val = 0.0031286024439043303 Genome = (((x[0] - x[1]) + ((x[1] - sin((x[1] - x[1]))) - sin((sin(x[1]) - x[1])))) + (sin(x[1]) - sin(x[1])))\n",
      "Top 11: Fitness = 0.0038792332674632444 Fitness_val = 0.0038538266049751376 Genome = (((sin(x[1]) + (x[0] - x[1])) + (x[1] - sin(sin(x[1])))) + (x[1] - sin(sin(x[1]))))\n",
      "Top 12: Fitness = 0.0038792332674632457 Fitness_val = 0.003853826604975138 Genome = (((x[1] + (((x[0] + (x[1] - sin(sin(x[1])))) + (sin(x[1]) - sin(x[1]))) - x[1])) + (sin(x[1]) - sin(sin(x[1])))) + (x[1] - x[1]))\n",
      "Top 13: Fitness = 0.0038792332674632453 Fitness_val = 0.003853826604975139 Genome = ((((sin(x[1]) + (((x[0] + (x[1] - sin(sin(x[1])))) + (sin(x[1]) - sin(x[1]))) - x[1])) + (x[1] - sin(sin(x[1])))) + (x[1] - x[1])) + (x[1] - x[1]))\n",
      "Top 14: Fitness = 0.004524438234097934 Fitness_val = 0.004410620119235181 Genome = (((sin(x[1]) + (((x[0] + (x[1] - sin(sin(x[1])))) + (sin(sin(x[1])) - sin(x[1]))) - x[1])) + (sin(x[1]) - sin(sin(x[1])))) + (x[1] - x[1]))\n",
      "Top 15: Fitness = 0.004524438234097932 Fitness_val = 0.004410620119235182 Genome = (((sin(x[1]) + (x[1] - x[1])) + (x[1] - sin(sin(x[1])))) + (x[0] - x[1]))\n",
      "Mean fitness of the population:  13742002.029475426\n",
      "Population size:  254\n",
      "Population mean complexity: 81.32283464566929\n"
     ]
    },
    {
     "name": "stderr",
     "output_type": "stream",
     "text": [
      "\n"
     ]
    }
   ],
   "source": [
    "\n",
    "problem = np.load(\"data/problem_0.npz\")\n",
    "x = problem[\"x\"]\n",
    "y = problem[\"y\"]\n",
    "print(\"x.shape:\", x.shape)\n",
    "print(\"y.shape:\", y.shape)\n",
    "print(\"x_train.shape: \", x_train.shape)\n",
    "print(\"x_val.shape: \", x_val.shape)\n",
    "print(\"y_train.shape: \", y_train.shape)\n",
    "print(\"y_val.shape: \", y_val.shape)\n",
    "x_train, y_train, x_val, y_val = split_dataset(x,y,0.8)\n",
    "my_pop_0 = evolve(x_train,y_train,x_val,y_val,conf)\n"
   ]
  },
  {
   "cell_type": "code",
   "execution_count": 10,
   "metadata": {},
   "outputs": [
    {
     "name": "stdout",
     "output_type": "stream",
     "text": [
      "x.shape: (1, 500)\n",
      "y.shape: (500,)\n",
      "x_train.shape:  (2, 800)\n",
      "x_val.shape:  (2, 200)\n",
      "y_train.shape:  (800,)\n",
      "y_val.shape:  (200,)\n",
      "Population is creating with a size:  100\n",
      "Population has created.\n",
      "Individual fitness values are assigning\n",
      " Population size: 56\n",
      "Population mean fitness: 44.60898124372013\n",
      "Population mean complexity: 966.9285714285714\n",
      "Top 1: Fitness = 0.00000 Fitness_val = 0.00000 Genome = sin(x[0])\n",
      "Top 2: Fitness = 0.05476 Fitness_val = 0.05025 Genome = tan(x[0])\n",
      "Top 3: Fitness = 0.25499 Fitness_val = 0.25180 Genome = (x[0] - x[0])\n",
      "Top 4: Fitness = 0.25738 Fitness_val = 0.25578 Genome = ([0.04965304] * [0.6201221])\n",
      "Top 5: Fitness = 0.26006 Fitness_val = 0.25727 Genome = (x[0] * [-0.12596665])\n"
     ]
    },
    {
     "name": "stderr",
     "output_type": "stream",
     "text": [
      "  2%|▎         | 15/600 [00:06<03:29,  2.79it/s]"
     ]
    },
    {
     "name": "stdout",
     "output_type": "stream",
     "text": [
      "Initial: 513, Deduplicated: 340, Operation simplified: 0, Constant: 114, Complex: 11, Final: 48\n",
      "Population mean complexity: 13.041666666666666\n",
      "Population mean fitness: 20.061174747056697\n",
      "\n",
      "0. Fitness: 0.00000, Fitness_val = 0.00000, Genome: sin(x[0]), Age: 0, Complexity: 8\n",
      "1. Fitness: 0.00156, Fitness_val = 0.00148, Genome: sin(sin(x[0])), Age: 0, Complexity: 36\n",
      "2. Fitness: 0.00333, Fitness_val = 0.00310, Genome: x[0], Age: 0, Complexity: 1\n",
      "3. Fitness: 0.00481, Fitness_val = 0.00457, Genome: sin(sin(sin(x[0]))), Age: 6, Complexity: 148\n",
      "4. Fitness: 0.05476, Fitness_val = 0.05025, Genome: tan(x[0]), Age: 3, Complexity: 8\n"
     ]
    },
    {
     "name": "stderr",
     "output_type": "stream",
     "text": [
      "  5%|▌         | 30/600 [00:13<03:27,  2.75it/s]"
     ]
    },
    {
     "name": "stdout",
     "output_type": "stream",
     "text": [
      "Initial: 461, Deduplicated: 324, Operation simplified: 0, Constant: 73, Complex: 6, Final: 58\n",
      "Population mean complexity: 24.03448275862069\n",
      "Population mean fitness: 121.30601487264863\n",
      "\n",
      "0. Fitness: 0.00000, Fitness_val = 0.00000, Genome: sin(x[0]), Age: 0, Complexity: 8\n",
      "1. Fitness: 0.00125, Fitness_val = 0.00119, Genome: tan(sin(sin(x[0]))), Age: 0, Complexity: 148\n",
      "2. Fitness: 0.00156, Fitness_val = 0.00148, Genome: sin(sin(x[0])), Age: 0, Complexity: 36\n",
      "3. Fitness: 0.00333, Fitness_val = 0.00310, Genome: x[0], Age: 0, Complexity: 1\n",
      "4. Fitness: 0.00481, Fitness_val = 0.00457, Genome: sin(sin(sin(x[0]))), Age: 11, Complexity: 148\n"
     ]
    },
    {
     "name": "stderr",
     "output_type": "stream",
     "text": [
      "  8%|▊         | 45/600 [00:19<03:27,  2.68it/s]"
     ]
    },
    {
     "name": "stdout",
     "output_type": "stream",
     "text": [
      "Initial: 456, Deduplicated: 280, Operation simplified: 0, Constant: 92, Complex: 10, Final: 74\n",
      "Population mean complexity: 27.2972972972973\n",
      "Population mean fitness: 0.48941531786505055\n",
      "\n",
      "0. Fitness: 0.00000, Fitness_val = 0.00000, Genome: sin(x[0]), Age: 0, Complexity: 8\n",
      "1. Fitness: 0.00044, Fitness_val = 0.00044, Genome: sin(sin(tan(x[0]))), Age: 0, Complexity: 148\n",
      "2. Fitness: 0.00125, Fitness_val = 0.00119, Genome: tan(sin(sin(x[0]))), Age: 0, Complexity: 148\n",
      "3. Fitness: 0.00156, Fitness_val = 0.00148, Genome: sin(sin(x[0])), Age: 0, Complexity: 36\n",
      "4. Fitness: 0.00333, Fitness_val = 0.00310, Genome: x[0], Age: 0, Complexity: 1\n"
     ]
    },
    {
     "name": "stderr",
     "output_type": "stream",
     "text": [
      " 10%|█         | 60/600 [00:26<03:32,  2.54it/s]"
     ]
    },
    {
     "name": "stdout",
     "output_type": "stream",
     "text": [
      "Initial: 463, Deduplicated: 288, Operation simplified: 0, Constant: 85, Complex: 15, Final: 75\n",
      "Population mean complexity: 30.72\n",
      "Population mean fitness: 0.4791968492908213\n",
      "\n",
      "0. Fitness: 0.00000, Fitness_val = 0.00000, Genome: sin(x[0]), Age: 0, Complexity: 8\n",
      "1. Fitness: 0.00044, Fitness_val = 0.00044, Genome: sin(sin(tan(x[0]))), Age: 0, Complexity: 148\n",
      "2. Fitness: 0.00089, Fitness_val = 0.00086, Genome: sin(tan(sin(x[0]))), Age: 0, Complexity: 148\n",
      "3. Fitness: 0.00125, Fitness_val = 0.00119, Genome: tan(sin(sin(x[0]))), Age: 1, Complexity: 148\n",
      "4. Fitness: 0.00156, Fitness_val = 0.00148, Genome: sin(sin(x[0])), Age: 0, Complexity: 36\n"
     ]
    },
    {
     "name": "stderr",
     "output_type": "stream",
     "text": [
      " 12%|█▎        | 75/600 [00:34<03:38,  2.41it/s]"
     ]
    },
    {
     "name": "stdout",
     "output_type": "stream",
     "text": [
      "Initial: 473, Deduplicated: 295, Operation simplified: 0, Constant: 79, Complex: 20, Final: 79\n",
      "Population mean complexity: 36.835443037974684\n",
      "Population mean fitness: 0.4311832378359536\n",
      "\n",
      "0. Fitness: 0.00000, Fitness_val = 0.00000, Genome: sin(x[0]), Age: 0, Complexity: 8\n",
      "1. Fitness: 0.00044, Fitness_val = 0.00044, Genome: sin(sin(tan(x[0]))), Age: 0, Complexity: 148\n",
      "2. Fitness: 0.00089, Fitness_val = 0.00086, Genome: sin(tan(sin(x[0]))), Age: 0, Complexity: 148\n",
      "3. Fitness: 0.00125, Fitness_val = 0.00119, Genome: tan(sin(sin(x[0]))), Age: 1, Complexity: 148\n",
      "4. Fitness: 0.00156, Fitness_val = 0.00148, Genome: sin(sin(x[0])), Age: 0, Complexity: 36\n"
     ]
    },
    {
     "name": "stderr",
     "output_type": "stream",
     "text": [
      " 15%|█▌        | 90/600 [00:40<02:58,  2.85it/s]"
     ]
    },
    {
     "name": "stdout",
     "output_type": "stream",
     "text": [
      "Initial: 461, Deduplicated: 299, Operation simplified: 0, Constant: 93, Complex: 12, Final: 57\n",
      "Population mean complexity: 35.1578947368421\n",
      "Population mean fitness: 0.3925110895080803\n",
      "\n",
      "0. Fitness: 0.00000, Fitness_val = 0.00000, Genome: sin(x[0]), Age: 0, Complexity: 8\n",
      "1. Fitness: 0.00044, Fitness_val = 0.00044, Genome: sin(sin(tan(x[0]))), Age: 0, Complexity: 148\n",
      "2. Fitness: 0.00089, Fitness_val = 0.00086, Genome: sin(tan(sin(x[0]))), Age: 0, Complexity: 148\n",
      "3. Fitness: 0.00125, Fitness_val = 0.00119, Genome: tan(sin(sin(x[0]))), Age: 0, Complexity: 148\n",
      "4. Fitness: 0.00156, Fitness_val = 0.00148, Genome: sin(sin(x[0])), Age: 0, Complexity: 36\n"
     ]
    },
    {
     "name": "stderr",
     "output_type": "stream",
     "text": [
      " 18%|█▊        | 105/600 [00:46<02:45,  2.99it/s]"
     ]
    },
    {
     "name": "stdout",
     "output_type": "stream",
     "text": [
      "Initial: 473, Deduplicated: 328, Operation simplified: 0, Constant: 81, Complex: 6, Final: 58\n",
      "Population mean complexity: 38.48275862068966\n",
      "Population mean fitness: 0.404500689864205\n",
      "\n",
      "0. Fitness: 0.00000, Fitness_val = 0.00000, Genome: sin(x[0]), Age: 0, Complexity: 8\n",
      "1. Fitness: 0.00044, Fitness_val = 0.00044, Genome: sin(sin(tan(x[0]))), Age: 0, Complexity: 148\n",
      "2. Fitness: 0.00089, Fitness_val = 0.00086, Genome: sin(tan(sin(x[0]))), Age: 0, Complexity: 148\n",
      "3. Fitness: 0.00125, Fitness_val = 0.00119, Genome: tan(sin(sin(x[0]))), Age: 14, Complexity: 148\n",
      "4. Fitness: 0.00156, Fitness_val = 0.00148, Genome: sin(sin(x[0])), Age: 0, Complexity: 36\n"
     ]
    },
    {
     "name": "stderr",
     "output_type": "stream",
     "text": [
      " 20%|██        | 120/600 [00:52<03:07,  2.56it/s]"
     ]
    },
    {
     "name": "stdout",
     "output_type": "stream",
     "text": [
      "Initial: 462, Deduplicated: 315, Operation simplified: 0, Constant: 81, Complex: 9, Final: 57\n",
      "Population mean complexity: 33.59649122807018\n",
      "Population mean fitness: 13.775091893001214\n",
      "\n",
      "0. Fitness: 0.00000, Fitness_val = 0.00000, Genome: sin(x[0]), Age: 0, Complexity: 8\n",
      "1. Fitness: 0.00044, Fitness_val = 0.00044, Genome: sin(sin(tan(x[0]))), Age: 0, Complexity: 148\n",
      "2. Fitness: 0.00089, Fitness_val = 0.00086, Genome: sin(tan(sin(x[0]))), Age: 0, Complexity: 148\n",
      "3. Fitness: 0.00125, Fitness_val = 0.00119, Genome: tan(sin(sin(x[0]))), Age: 9, Complexity: 148\n",
      "4. Fitness: 0.00156, Fitness_val = 0.00148, Genome: sin(sin(x[0])), Age: 0, Complexity: 36\n"
     ]
    },
    {
     "name": "stderr",
     "output_type": "stream",
     "text": [
      " 22%|██▎       | 135/600 [00:59<02:41,  2.88it/s]"
     ]
    },
    {
     "name": "stdout",
     "output_type": "stream",
     "text": [
      "Initial: 469, Deduplicated: 299, Operation simplified: 0, Constant: 77, Complex: 24, Final: 69\n",
      "Population mean complexity: 40.63768115942029\n",
      "Population mean fitness: 2.1657464378283118\n",
      "\n",
      "0. Fitness: 0.00000, Fitness_val = 0.00000, Genome: sin(x[0]), Age: 0, Complexity: 8\n",
      "1. Fitness: 0.00044, Fitness_val = 0.00044, Genome: sin(sin(tan(x[0]))), Age: 0, Complexity: 148\n",
      "2. Fitness: 0.00089, Fitness_val = 0.00086, Genome: sin(tan(sin(x[0]))), Age: 0, Complexity: 148\n",
      "3. Fitness: 0.00125, Fitness_val = 0.00119, Genome: tan(sin(sin(x[0]))), Age: 0, Complexity: 148\n",
      "4. Fitness: 0.00156, Fitness_val = 0.00148, Genome: sin(sin(x[0])), Age: 0, Complexity: 36\n"
     ]
    },
    {
     "name": "stderr",
     "output_type": "stream",
     "text": [
      " 25%|██▌       | 150/600 [01:05<02:46,  2.71it/s]"
     ]
    },
    {
     "name": "stdout",
     "output_type": "stream",
     "text": [
      "Initial: 474, Deduplicated: 284, Operation simplified: 0, Constant: 70, Complex: 30, Final: 90\n",
      "Population mean complexity: 36.666666666666664\n",
      "Population mean fitness: 0.5765331260756231\n",
      "\n",
      "0. Fitness: 0.00000, Fitness_val = 0.00000, Genome: sin(x[0]), Age: 0, Complexity: 8\n",
      "1. Fitness: 0.00044, Fitness_val = 0.00044, Genome: sin(sin(tan(x[0]))), Age: 0, Complexity: 148\n",
      "2. Fitness: 0.00089, Fitness_val = 0.00086, Genome: sin(tan(sin(x[0]))), Age: 0, Complexity: 148\n",
      "3. Fitness: 0.00125, Fitness_val = 0.00119, Genome: tan(sin(sin(x[0]))), Age: 15, Complexity: 148\n",
      "4. Fitness: 0.00156, Fitness_val = 0.00148, Genome: sin(sin(x[0])), Age: 0, Complexity: 36\n"
     ]
    },
    {
     "name": "stderr",
     "output_type": "stream",
     "text": [
      " 28%|██▊       | 165/600 [01:12<03:14,  2.23it/s]"
     ]
    },
    {
     "name": "stdout",
     "output_type": "stream",
     "text": [
      "Initial: 467, Deduplicated: 300, Operation simplified: 0, Constant: 77, Complex: 10, Final: 80\n",
      "Population mean complexity: 30.15\n",
      "Population mean fitness: 0.9582111254050177\n",
      "\n",
      "0. Fitness: 0.00000, Fitness_val = 0.00000, Genome: sin(x[0]), Age: 0, Complexity: 8\n",
      "1. Fitness: 0.00044, Fitness_val = 0.00044, Genome: sin(sin(tan(x[0]))), Age: 0, Complexity: 148\n",
      "2. Fitness: 0.00089, Fitness_val = 0.00086, Genome: sin(tan(sin(x[0]))), Age: 0, Complexity: 148\n",
      "3. Fitness: 0.00125, Fitness_val = 0.00119, Genome: tan(sin(sin(x[0]))), Age: 14, Complexity: 148\n",
      "4. Fitness: 0.00156, Fitness_val = 0.00148, Genome: sin(sin(x[0])), Age: 0, Complexity: 36\n"
     ]
    },
    {
     "name": "stderr",
     "output_type": "stream",
     "text": [
      " 30%|███       | 180/600 [01:18<02:32,  2.75it/s]"
     ]
    },
    {
     "name": "stdout",
     "output_type": "stream",
     "text": [
      "Initial: 475, Deduplicated: 316, Operation simplified: 0, Constant: 78, Complex: 20, Final: 61\n",
      "Population mean complexity: 33.67213114754098\n",
      "Population mean fitness: 10952.461582678885\n",
      "\n",
      "0. Fitness: 0.00000, Fitness_val = 0.00000, Genome: sin(x[0]), Age: 0, Complexity: 8\n",
      "1. Fitness: 0.00044, Fitness_val = 0.00044, Genome: sin(sin(tan(x[0]))), Age: 0, Complexity: 148\n",
      "2. Fitness: 0.00089, Fitness_val = 0.00086, Genome: sin(tan(sin(x[0]))), Age: 0, Complexity: 148\n",
      "3. Fitness: 0.00125, Fitness_val = 0.00119, Genome: tan(sin(sin(x[0]))), Age: 1, Complexity: 148\n",
      "4. Fitness: 0.00156, Fitness_val = 0.00148, Genome: sin(sin(x[0])), Age: 0, Complexity: 36\n"
     ]
    },
    {
     "name": "stderr",
     "output_type": "stream",
     "text": [
      " 32%|███▎      | 195/600 [01:24<02:01,  3.33it/s]"
     ]
    },
    {
     "name": "stdout",
     "output_type": "stream",
     "text": [
      "Initial: 471, Deduplicated: 308, Operation simplified: 0, Constant: 71, Complex: 34, Final: 58\n",
      "Population mean complexity: 38.275862068965516\n",
      "Population mean fitness: 1.3446392690776325\n",
      "\n",
      "0. Fitness: 0.00000, Fitness_val = 0.00000, Genome: sin(x[0]), Age: 0, Complexity: 8\n",
      "1. Fitness: 0.00044, Fitness_val = 0.00044, Genome: sin(sin(tan(x[0]))), Age: 0, Complexity: 148\n",
      "2. Fitness: 0.00089, Fitness_val = 0.00086, Genome: sin(tan(sin(x[0]))), Age: 0, Complexity: 148\n",
      "3. Fitness: 0.00125, Fitness_val = 0.00119, Genome: tan(sin(sin(x[0]))), Age: 4, Complexity: 148\n",
      "4. Fitness: 0.00156, Fitness_val = 0.00148, Genome: sin(sin(x[0])), Age: 0, Complexity: 36\n"
     ]
    },
    {
     "name": "stderr",
     "output_type": "stream",
     "text": [
      " 35%|███▌      | 210/600 [01:29<02:19,  2.79it/s]"
     ]
    },
    {
     "name": "stdout",
     "output_type": "stream",
     "text": [
      "Initial: 468, Deduplicated: 323, Operation simplified: 0, Constant: 78, Complex: 20, Final: 47\n",
      "Population mean complexity: 44.340425531914896\n",
      "Population mean fitness: 1.0384079052976793\n",
      "\n",
      "0. Fitness: 0.00000, Fitness_val = 0.00000, Genome: sin(x[0]), Age: 0, Complexity: 8\n",
      "1. Fitness: 0.00044, Fitness_val = 0.00044, Genome: sin(sin(tan(x[0]))), Age: 0, Complexity: 148\n",
      "2. Fitness: 0.00089, Fitness_val = 0.00086, Genome: sin(tan(sin(x[0]))), Age: 0, Complexity: 148\n",
      "3. Fitness: 0.00125, Fitness_val = 0.00119, Genome: tan(sin(sin(x[0]))), Age: 9, Complexity: 148\n",
      "4. Fitness: 0.00156, Fitness_val = 0.00148, Genome: sin(sin(x[0])), Age: 0, Complexity: 36\n"
     ]
    },
    {
     "name": "stderr",
     "output_type": "stream",
     "text": [
      " 38%|███▊      | 225/600 [01:35<02:04,  3.02it/s]"
     ]
    },
    {
     "name": "stdout",
     "output_type": "stream",
     "text": [
      "Initial: 460, Deduplicated: 315, Operation simplified: 0, Constant: 77, Complex: 15, Final: 53\n",
      "Population mean complexity: 37.735849056603776\n",
      "Population mean fitness: 41.841838778607524\n",
      "\n",
      "0. Fitness: 0.00000, Fitness_val = 0.00000, Genome: sin(x[0]), Age: 0, Complexity: 8\n",
      "1. Fitness: 0.00044, Fitness_val = 0.00044, Genome: sin(sin(tan(x[0]))), Age: 0, Complexity: 148\n",
      "2. Fitness: 0.00089, Fitness_val = 0.00086, Genome: sin(tan(sin(x[0]))), Age: 0, Complexity: 148\n",
      "3. Fitness: 0.00156, Fitness_val = 0.00148, Genome: sin(sin(x[0])), Age: 0, Complexity: 36\n",
      "4. Fitness: 0.00333, Fitness_val = 0.00310, Genome: x[0], Age: 0, Complexity: 1\n"
     ]
    },
    {
     "name": "stderr",
     "output_type": "stream",
     "text": [
      " 40%|████      | 240/600 [01:42<02:25,  2.47it/s]"
     ]
    },
    {
     "name": "stdout",
     "output_type": "stream",
     "text": [
      "Initial: 484, Deduplicated: 304, Operation simplified: 0, Constant: 82, Complex: 25, Final: 73\n",
      "Population mean complexity: 34.726027397260275\n",
      "Population mean fitness: 1313.620681064484\n",
      "\n",
      "0. Fitness: 0.00000, Fitness_val = 0.00000, Genome: sin(x[0]), Age: 0, Complexity: 8\n",
      "1. Fitness: 0.00044, Fitness_val = 0.00044, Genome: sin(sin(tan(x[0]))), Age: 0, Complexity: 148\n",
      "2. Fitness: 0.00089, Fitness_val = 0.00086, Genome: sin(tan(sin(x[0]))), Age: 0, Complexity: 148\n",
      "3. Fitness: 0.00125, Fitness_val = 0.00119, Genome: tan(sin(sin(x[0]))), Age: 4, Complexity: 148\n",
      "4. Fitness: 0.00156, Fitness_val = 0.00148, Genome: sin(sin(x[0])), Age: 0, Complexity: 36\n"
     ]
    },
    {
     "name": "stderr",
     "output_type": "stream",
     "text": [
      " 42%|████▎     | 255/600 [01:47<02:14,  2.57it/s]"
     ]
    },
    {
     "name": "stdout",
     "output_type": "stream",
     "text": [
      "Initial: 459, Deduplicated: 304, Operation simplified: 0, Constant: 72, Complex: 28, Final: 55\n",
      "Population mean complexity: 38.74545454545454\n",
      "Population mean fitness: 17.53612202485049\n",
      "\n",
      "0. Fitness: 0.00000, Fitness_val = 0.00000, Genome: sin(x[0]), Age: 0, Complexity: 8\n",
      "1. Fitness: 0.00044, Fitness_val = 0.00044, Genome: sin(sin(tan(x[0]))), Age: 0, Complexity: 148\n",
      "2. Fitness: 0.00089, Fitness_val = 0.00086, Genome: sin(tan(sin(x[0]))), Age: 0, Complexity: 148\n",
      "3. Fitness: 0.00125, Fitness_val = 0.00119, Genome: tan(sin(sin(x[0]))), Age: 7, Complexity: 148\n",
      "4. Fitness: 0.00156, Fitness_val = 0.00148, Genome: sin(sin(x[0])), Age: 0, Complexity: 36\n"
     ]
    },
    {
     "name": "stderr",
     "output_type": "stream",
     "text": [
      " 45%|████▌     | 270/600 [01:53<01:49,  3.01it/s]"
     ]
    },
    {
     "name": "stdout",
     "output_type": "stream",
     "text": [
      "Initial: 441, Deduplicated: 303, Operation simplified: 0, Constant: 52, Complex: 17, Final: 69\n",
      "Population mean complexity: 36.971014492753625\n",
      "Population mean fitness: 101647.5647536157\n",
      "\n",
      "0. Fitness: 0.00000, Fitness_val = 0.00000, Genome: sin(x[0]), Age: 0, Complexity: 8\n",
      "1. Fitness: 0.00044, Fitness_val = 0.00044, Genome: sin(sin(tan(x[0]))), Age: 0, Complexity: 148\n",
      "2. Fitness: 0.00089, Fitness_val = 0.00086, Genome: sin(tan(sin(x[0]))), Age: 0, Complexity: 148\n",
      "3. Fitness: 0.00125, Fitness_val = 0.00119, Genome: tan(sin(sin(x[0]))), Age: 5, Complexity: 148\n",
      "4. Fitness: 0.00156, Fitness_val = 0.00148, Genome: sin(sin(x[0])), Age: 0, Complexity: 36\n"
     ]
    },
    {
     "name": "stderr",
     "output_type": "stream",
     "text": [
      " 48%|████▊     | 285/600 [01:59<02:02,  2.58it/s]"
     ]
    },
    {
     "name": "stdout",
     "output_type": "stream",
     "text": [
      "Initial: 478, Deduplicated: 326, Operation simplified: 0, Constant: 83, Complex: 23, Final: 46\n",
      "Population mean complexity: 38.21739130434783\n",
      "Population mean fitness: 0.6595008922466892\n",
      "\n",
      "0. Fitness: 0.00000, Fitness_val = 0.00000, Genome: sin(x[0]), Age: 0, Complexity: 8\n",
      "1. Fitness: 0.00044, Fitness_val = 0.00044, Genome: sin(sin(tan(x[0]))), Age: 0, Complexity: 148\n",
      "2. Fitness: 0.00089, Fitness_val = 0.00086, Genome: sin(tan(sin(x[0]))), Age: 0, Complexity: 148\n",
      "3. Fitness: 0.00125, Fitness_val = 0.00119, Genome: tan(sin(sin(x[0]))), Age: 0, Complexity: 148\n",
      "4. Fitness: 0.00156, Fitness_val = 0.00148, Genome: sin(sin(x[0])), Age: 0, Complexity: 36\n"
     ]
    },
    {
     "name": "stderr",
     "output_type": "stream",
     "text": [
      " 50%|█████     | 300/600 [02:06<02:03,  2.43it/s]"
     ]
    },
    {
     "name": "stdout",
     "output_type": "stream",
     "text": [
      "Initial: 473, Deduplicated: 317, Operation simplified: 0, Constant: 77, Complex: 24, Final: 55\n",
      "Population mean complexity: 40.63636363636363\n",
      "Population mean fitness: 0.3369589336620939\n",
      "\n",
      "0. Fitness: 0.00000, Fitness_val = 0.00000, Genome: sin(x[0]), Age: 0, Complexity: 8\n",
      "1. Fitness: 0.00044, Fitness_val = 0.00044, Genome: sin(sin(tan(x[0]))), Age: 0, Complexity: 148\n",
      "2. Fitness: 0.00089, Fitness_val = 0.00086, Genome: sin(tan(sin(x[0]))), Age: 0, Complexity: 148\n",
      "3. Fitness: 0.00125, Fitness_val = 0.00119, Genome: tan(sin(sin(x[0]))), Age: 1, Complexity: 148\n",
      "4. Fitness: 0.00156, Fitness_val = 0.00148, Genome: sin(sin(x[0])), Age: 0, Complexity: 36\n"
     ]
    },
    {
     "name": "stderr",
     "output_type": "stream",
     "text": [
      " 52%|█████▎    | 315/600 [02:12<01:49,  2.60it/s]"
     ]
    },
    {
     "name": "stdout",
     "output_type": "stream",
     "text": [
      "Initial: 478, Deduplicated: 319, Operation simplified: 0, Constant: 87, Complex: 18, Final: 54\n",
      "Population mean complexity: 43.44444444444444\n",
      "Population mean fitness: 0.3430249576867273\n",
      "\n",
      "0. Fitness: 0.00000, Fitness_val = 0.00000, Genome: sin(x[0]), Age: 0, Complexity: 8\n",
      "1. Fitness: 0.00044, Fitness_val = 0.00044, Genome: sin(sin(tan(x[0]))), Age: 0, Complexity: 148\n",
      "2. Fitness: 0.00089, Fitness_val = 0.00086, Genome: sin(tan(sin(x[0]))), Age: 0, Complexity: 148\n",
      "3. Fitness: 0.00125, Fitness_val = 0.00119, Genome: tan(sin(sin(x[0]))), Age: 1, Complexity: 148\n",
      "4. Fitness: 0.00156, Fitness_val = 0.00148, Genome: sin(sin(x[0])), Age: 0, Complexity: 36\n"
     ]
    },
    {
     "name": "stderr",
     "output_type": "stream",
     "text": [
      " 55%|█████▌    | 330/600 [02:19<01:44,  2.57it/s]"
     ]
    },
    {
     "name": "stdout",
     "output_type": "stream",
     "text": [
      "Initial: 461, Deduplicated: 285, Operation simplified: 0, Constant: 82, Complex: 31, Final: 63\n",
      "Population mean complexity: 37.65079365079365\n",
      "Population mean fitness: 0.5164485941200547\n",
      "\n",
      "0. Fitness: 0.00000, Fitness_val = 0.00000, Genome: sin(x[0]), Age: 0, Complexity: 8\n",
      "1. Fitness: 0.00044, Fitness_val = 0.00044, Genome: sin(sin(tan(x[0]))), Age: 0, Complexity: 148\n",
      "2. Fitness: 0.00089, Fitness_val = 0.00086, Genome: sin(tan(sin(x[0]))), Age: 0, Complexity: 148\n",
      "3. Fitness: 0.00125, Fitness_val = 0.00119, Genome: tan(sin(sin(x[0]))), Age: 1, Complexity: 148\n",
      "4. Fitness: 0.00156, Fitness_val = 0.00148, Genome: sin(sin(x[0])), Age: 0, Complexity: 36\n"
     ]
    },
    {
     "name": "stderr",
     "output_type": "stream",
     "text": [
      " 57%|█████▊    | 345/600 [02:24<01:19,  3.22it/s]"
     ]
    },
    {
     "name": "stdout",
     "output_type": "stream",
     "text": [
      "Initial: 450, Deduplicated: 299, Operation simplified: 0, Constant: 80, Complex: 14, Final: 57\n",
      "Population mean complexity: 38.21052631578947\n",
      "Population mean fitness: 11720.436730296518\n",
      "\n",
      "0. Fitness: 0.00000, Fitness_val = 0.00000, Genome: sin(x[0]), Age: 0, Complexity: 8\n",
      "1. Fitness: 0.00044, Fitness_val = 0.00044, Genome: sin(sin(tan(x[0]))), Age: 0, Complexity: 148\n",
      "2. Fitness: 0.00089, Fitness_val = 0.00086, Genome: sin(tan(sin(x[0]))), Age: 0, Complexity: 148\n",
      "3. Fitness: 0.00125, Fitness_val = 0.00119, Genome: tan(sin(sin(x[0]))), Age: 16, Complexity: 148\n",
      "4. Fitness: 0.00156, Fitness_val = 0.00148, Genome: sin(sin(x[0])), Age: 0, Complexity: 36\n"
     ]
    },
    {
     "name": "stderr",
     "output_type": "stream",
     "text": [
      " 60%|██████    | 360/600 [02:30<01:24,  2.85it/s]"
     ]
    },
    {
     "name": "stdout",
     "output_type": "stream",
     "text": [
      "Initial: 461, Deduplicated: 302, Operation simplified: 0, Constant: 86, Complex: 33, Final: 40\n",
      "Population mean complexity: 45.275\n",
      "Population mean fitness: 0.5978871711379032\n",
      "\n",
      "0. Fitness: 0.00000, Fitness_val = 0.00000, Genome: sin(x[0]), Age: 0, Complexity: 8\n",
      "1. Fitness: 0.00044, Fitness_val = 0.00044, Genome: sin(sin(tan(x[0]))), Age: 0, Complexity: 148\n",
      "2. Fitness: 0.00089, Fitness_val = 0.00086, Genome: sin(tan(sin(x[0]))), Age: 0, Complexity: 148\n",
      "3. Fitness: 0.00125, Fitness_val = 0.00119, Genome: tan(sin(sin(x[0]))), Age: 9, Complexity: 148\n",
      "4. Fitness: 0.00156, Fitness_val = 0.00148, Genome: sin(sin(x[0])), Age: 0, Complexity: 36\n"
     ]
    },
    {
     "name": "stderr",
     "output_type": "stream",
     "text": [
      " 62%|██████▎   | 375/600 [02:36<01:24,  2.67it/s]"
     ]
    },
    {
     "name": "stdout",
     "output_type": "stream",
     "text": [
      "Initial: 447, Deduplicated: 277, Operation simplified: 0, Constant: 91, Complex: 21, Final: 58\n",
      "Population mean complexity: 43.724137931034484\n",
      "Population mean fitness: 10.747969848163748\n",
      "\n",
      "0. Fitness: 0.00000, Fitness_val = 0.00000, Genome: sin(x[0]), Age: 0, Complexity: 8\n",
      "1. Fitness: 0.00044, Fitness_val = 0.00044, Genome: sin(sin(tan(x[0]))), Age: 0, Complexity: 148\n",
      "2. Fitness: 0.00089, Fitness_val = 0.00086, Genome: sin(tan(sin(x[0]))), Age: 0, Complexity: 148\n",
      "3. Fitness: 0.00125, Fitness_val = 0.00119, Genome: tan(sin(sin(x[0]))), Age: 11, Complexity: 148\n",
      "4. Fitness: 0.00156, Fitness_val = 0.00148, Genome: sin(sin(x[0])), Age: 0, Complexity: 36\n"
     ]
    },
    {
     "name": "stderr",
     "output_type": "stream",
     "text": [
      " 65%|██████▌   | 390/600 [02:43<01:22,  2.55it/s]"
     ]
    },
    {
     "name": "stdout",
     "output_type": "stream",
     "text": [
      "Initial: 459, Deduplicated: 299, Operation simplified: 0, Constant: 75, Complex: 25, Final: 60\n",
      "Population mean complexity: 38.38333333333333\n",
      "Population mean fitness: 0.40623606449696686\n",
      "\n",
      "0. Fitness: 0.00000, Fitness_val = 0.00000, Genome: sin(x[0]), Age: 0, Complexity: 8\n",
      "1. Fitness: 0.00044, Fitness_val = 0.00044, Genome: sin(sin(tan(x[0]))), Age: 0, Complexity: 148\n",
      "2. Fitness: 0.00089, Fitness_val = 0.00086, Genome: sin(tan(sin(x[0]))), Age: 0, Complexity: 148\n",
      "3. Fitness: 0.00125, Fitness_val = 0.00119, Genome: tan(sin(sin(x[0]))), Age: 10, Complexity: 148\n",
      "4. Fitness: 0.00156, Fitness_val = 0.00148, Genome: sin(sin(x[0])), Age: 0, Complexity: 36\n"
     ]
    },
    {
     "name": "stderr",
     "output_type": "stream",
     "text": [
      " 68%|██████▊   | 405/600 [02:50<01:18,  2.48it/s]"
     ]
    },
    {
     "name": "stdout",
     "output_type": "stream",
     "text": [
      "Initial: 462, Deduplicated: 296, Operation simplified: 0, Constant: 88, Complex: 21, Final: 57\n",
      "Population mean complexity: 33.0\n",
      "Population mean fitness: 0.4280573139016965\n",
      "\n",
      "0. Fitness: 0.00000, Fitness_val = 0.00000, Genome: sin(x[0]), Age: 0, Complexity: 8\n",
      "1. Fitness: 0.00044, Fitness_val = 0.00044, Genome: sin(sin(tan(x[0]))), Age: 0, Complexity: 148\n",
      "2. Fitness: 0.00089, Fitness_val = 0.00086, Genome: sin(tan(sin(x[0]))), Age: 0, Complexity: 148\n",
      "3. Fitness: 0.00125, Fitness_val = 0.00119, Genome: tan(sin(sin(x[0]))), Age: 0, Complexity: 148\n",
      "4. Fitness: 0.00156, Fitness_val = 0.00148, Genome: sin(sin(x[0])), Age: 0, Complexity: 36\n"
     ]
    },
    {
     "name": "stderr",
     "output_type": "stream",
     "text": [
      " 70%|███████   | 420/600 [02:56<01:00,  2.99it/s]"
     ]
    },
    {
     "name": "stdout",
     "output_type": "stream",
     "text": [
      "Initial: 442, Deduplicated: 288, Operation simplified: 0, Constant: 75, Complex: 19, Final: 60\n",
      "Population mean complexity: 31.35\n",
      "Population mean fitness: 0.4444711676653426\n",
      "\n",
      "0. Fitness: 0.00000, Fitness_val = 0.00000, Genome: sin(x[0]), Age: 0, Complexity: 8\n",
      "1. Fitness: 0.00044, Fitness_val = 0.00044, Genome: sin(sin(tan(x[0]))), Age: 0, Complexity: 148\n",
      "2. Fitness: 0.00089, Fitness_val = 0.00086, Genome: sin(tan(sin(x[0]))), Age: 0, Complexity: 148\n",
      "3. Fitness: 0.00125, Fitness_val = 0.00119, Genome: tan(sin(sin(x[0]))), Age: 8, Complexity: 148\n",
      "4. Fitness: 0.00156, Fitness_val = 0.00148, Genome: sin(sin(x[0])), Age: 0, Complexity: 36\n"
     ]
    },
    {
     "name": "stderr",
     "output_type": "stream",
     "text": [
      " 72%|███████▎  | 435/600 [03:02<00:55,  2.96it/s]"
     ]
    },
    {
     "name": "stdout",
     "output_type": "stream",
     "text": [
      "Initial: 455, Deduplicated: 271, Operation simplified: 0, Constant: 78, Complex: 31, Final: 75\n",
      "Population mean complexity: 32.2\n",
      "Population mean fitness: 0.4281842011575513\n",
      "\n",
      "0. Fitness: 0.00000, Fitness_val = 0.00000, Genome: sin(x[0]), Age: 0, Complexity: 8\n",
      "1. Fitness: 0.00044, Fitness_val = 0.00044, Genome: sin(sin(tan(x[0]))), Age: 0, Complexity: 148\n",
      "2. Fitness: 0.00089, Fitness_val = 0.00086, Genome: sin(tan(sin(x[0]))), Age: 0, Complexity: 148\n",
      "3. Fitness: 0.00125, Fitness_val = 0.00119, Genome: tan(sin(sin(x[0]))), Age: 1, Complexity: 148\n",
      "4. Fitness: 0.00156, Fitness_val = 0.00148, Genome: sin(sin(x[0])), Age: 0, Complexity: 36\n"
     ]
    },
    {
     "name": "stderr",
     "output_type": "stream",
     "text": [
      " 75%|███████▌  | 450/600 [03:08<00:54,  2.77it/s]"
     ]
    },
    {
     "name": "stdout",
     "output_type": "stream",
     "text": [
      "Initial: 448, Deduplicated: 296, Operation simplified: 0, Constant: 65, Complex: 26, Final: 61\n",
      "Population mean complexity: 44.75409836065574\n",
      "Population mean fitness: 0.6465241364337263\n",
      "\n",
      "0. Fitness: 0.00000, Fitness_val = 0.00000, Genome: sin(x[0]), Age: 0, Complexity: 8\n",
      "1. Fitness: 0.00044, Fitness_val = 0.00044, Genome: sin(sin(tan(x[0]))), Age: 0, Complexity: 148\n",
      "2. Fitness: 0.00089, Fitness_val = 0.00086, Genome: sin(tan(sin(x[0]))), Age: 0, Complexity: 148\n",
      "3. Fitness: 0.00125, Fitness_val = 0.00119, Genome: tan(sin(sin(x[0]))), Age: 3, Complexity: 148\n",
      "4. Fitness: 0.00156, Fitness_val = 0.00148, Genome: sin(sin(x[0])), Age: 0, Complexity: 36\n"
     ]
    },
    {
     "name": "stderr",
     "output_type": "stream",
     "text": [
      " 78%|███████▊  | 465/600 [03:14<00:51,  2.60it/s]"
     ]
    },
    {
     "name": "stdout",
     "output_type": "stream",
     "text": [
      "Initial: 450, Deduplicated: 291, Operation simplified: 0, Constant: 81, Complex: 24, Final: 54\n",
      "Population mean complexity: 44.2962962962963\n",
      "Population mean fitness: 0.5415523742922136\n",
      "\n",
      "0. Fitness: 0.00000, Fitness_val = 0.00000, Genome: sin(x[0]), Age: 0, Complexity: 8\n",
      "1. Fitness: 0.00044, Fitness_val = 0.00044, Genome: sin(sin(tan(x[0]))), Age: 0, Complexity: 148\n",
      "2. Fitness: 0.00089, Fitness_val = 0.00086, Genome: sin(tan(sin(x[0]))), Age: 0, Complexity: 148\n",
      "3. Fitness: 0.00125, Fitness_val = 0.00119, Genome: tan(sin(sin(x[0]))), Age: 10, Complexity: 148\n",
      "4. Fitness: 0.00156, Fitness_val = 0.00148, Genome: sin(sin(x[0])), Age: 0, Complexity: 36\n"
     ]
    },
    {
     "name": "stderr",
     "output_type": "stream",
     "text": [
      " 80%|████████  | 480/600 [03:20<00:43,  2.79it/s]"
     ]
    },
    {
     "name": "stdout",
     "output_type": "stream",
     "text": [
      "Initial: 456, Deduplicated: 295, Operation simplified: 0, Constant: 78, Complex: 16, Final: 67\n",
      "Population mean complexity: 47.35820895522388\n",
      "Population mean fitness: 0.752178005164038\n",
      "\n",
      "0. Fitness: 0.00000, Fitness_val = 0.00000, Genome: sin(x[0]), Age: 0, Complexity: 8\n",
      "1. Fitness: 0.00044, Fitness_val = 0.00044, Genome: sin(sin(tan(x[0]))), Age: 0, Complexity: 148\n",
      "2. Fitness: 0.00089, Fitness_val = 0.00086, Genome: sin(tan(sin(x[0]))), Age: 0, Complexity: 148\n",
      "3. Fitness: 0.00125, Fitness_val = 0.00119, Genome: tan(sin(sin(x[0]))), Age: 11, Complexity: 148\n",
      "4. Fitness: 0.00156, Fitness_val = 0.00148, Genome: sin(sin(x[0])), Age: 0, Complexity: 36\n"
     ]
    },
    {
     "name": "stderr",
     "output_type": "stream",
     "text": [
      " 82%|████████▎ | 495/600 [03:26<00:38,  2.71it/s]"
     ]
    },
    {
     "name": "stdout",
     "output_type": "stream",
     "text": [
      "Initial: 465, Deduplicated: 322, Operation simplified: 0, Constant: 81, Complex: 14, Final: 48\n",
      "Population mean complexity: 36.0625\n",
      "Population mean fitness: 3.9058331601111522\n",
      "\n",
      "0. Fitness: 0.00000, Fitness_val = 0.00000, Genome: sin(x[0]), Age: 0, Complexity: 8\n",
      "1. Fitness: 0.00044, Fitness_val = 0.00044, Genome: sin(sin(tan(x[0]))), Age: 0, Complexity: 148\n",
      "2. Fitness: 0.00089, Fitness_val = 0.00086, Genome: sin(tan(sin(x[0]))), Age: 0, Complexity: 148\n",
      "3. Fitness: 0.00125, Fitness_val = 0.00119, Genome: tan(sin(sin(x[0]))), Age: 1, Complexity: 148\n",
      "4. Fitness: 0.00156, Fitness_val = 0.00148, Genome: sin(sin(x[0])), Age: 0, Complexity: 36\n"
     ]
    },
    {
     "name": "stderr",
     "output_type": "stream",
     "text": [
      " 85%|████████▌ | 510/600 [03:32<00:30,  2.96it/s]"
     ]
    },
    {
     "name": "stdout",
     "output_type": "stream",
     "text": [
      "Initial: 447, Deduplicated: 302, Operation simplified: 0, Constant: 83, Complex: 8, Final: 54\n",
      "Population mean complexity: 29.462962962962962\n",
      "Population mean fitness: 12374.339891917865\n",
      "\n",
      "0. Fitness: 0.00000, Fitness_val = 0.00000, Genome: sin(x[0]), Age: 0, Complexity: 8\n",
      "1. Fitness: 0.00044, Fitness_val = 0.00044, Genome: sin(sin(tan(x[0]))), Age: 0, Complexity: 148\n",
      "2. Fitness: 0.00089, Fitness_val = 0.00086, Genome: sin(tan(sin(x[0]))), Age: 0, Complexity: 148\n",
      "3. Fitness: 0.00125, Fitness_val = 0.00119, Genome: tan(sin(sin(x[0]))), Age: 16, Complexity: 148\n",
      "4. Fitness: 0.00156, Fitness_val = 0.00148, Genome: sin(sin(x[0])), Age: 0, Complexity: 36\n"
     ]
    },
    {
     "name": "stderr",
     "output_type": "stream",
     "text": [
      " 88%|████████▊ | 525/600 [03:38<00:29,  2.56it/s]"
     ]
    },
    {
     "name": "stdout",
     "output_type": "stream",
     "text": [
      "Initial: 454, Deduplicated: 285, Operation simplified: 0, Constant: 84, Complex: 24, Final: 61\n",
      "Population mean complexity: 41.73770491803279\n",
      "Population mean fitness: 0.379149818368708\n",
      "\n",
      "0. Fitness: 0.00000, Fitness_val = 0.00000, Genome: sin(x[0]), Age: 0, Complexity: 8\n",
      "1. Fitness: 0.00000, Fitness_val = 0.00000, Genome: sin(((x[0] * x[0]) / x[0])), Age: 0, Complexity: 24\n",
      "2. Fitness: 0.00044, Fitness_val = 0.00044, Genome: sin(sin(tan(x[0]))), Age: 0, Complexity: 148\n",
      "3. Fitness: 0.00089, Fitness_val = 0.00086, Genome: sin(tan(sin(x[0]))), Age: 1, Complexity: 148\n",
      "4. Fitness: 0.00125, Fitness_val = 0.00119, Genome: tan(sin(sin(x[0]))), Age: 5, Complexity: 148\n"
     ]
    },
    {
     "name": "stderr",
     "output_type": "stream",
     "text": [
      " 90%|█████████ | 540/600 [03:44<00:18,  3.29it/s]"
     ]
    },
    {
     "name": "stdout",
     "output_type": "stream",
     "text": [
      "Initial: 460, Deduplicated: 314, Operation simplified: 0, Constant: 59, Complex: 34, Final: 53\n",
      "Population mean complexity: 42.83018867924528\n",
      "Population mean fitness: 0.40013464620489897\n",
      "\n",
      "0. Fitness: 0.00000, Fitness_val = 0.00000, Genome: sin(x[0]), Age: 0, Complexity: 8\n",
      "1. Fitness: 0.00000, Fitness_val = 0.00000, Genome: sin(((x[0] * x[0]) / x[0])), Age: 0, Complexity: 24\n",
      "2. Fitness: 0.00044, Fitness_val = 0.00044, Genome: sin(sin(tan(x[0]))), Age: 0, Complexity: 148\n",
      "3. Fitness: 0.00089, Fitness_val = 0.00086, Genome: sin(tan(sin(x[0]))), Age: 7, Complexity: 148\n",
      "4. Fitness: 0.00125, Fitness_val = 0.00119, Genome: tan(sin(sin(x[0]))), Age: 5, Complexity: 148\n"
     ]
    },
    {
     "name": "stderr",
     "output_type": "stream",
     "text": [
      " 92%|█████████▎| 555/600 [03:49<00:14,  3.01it/s]"
     ]
    },
    {
     "name": "stdout",
     "output_type": "stream",
     "text": [
      "Initial: 450, Deduplicated: 290, Operation simplified: 0, Constant: 63, Complex: 33, Final: 64\n",
      "Population mean complexity: 45.28125\n",
      "Population mean fitness: 20.210589679371623\n",
      "\n",
      "0. Fitness: 0.00000, Fitness_val = 0.00000, Genome: sin(x[0]), Age: 0, Complexity: 8\n",
      "1. Fitness: 0.00000, Fitness_val = 0.00000, Genome: sin(((x[0] * x[0]) / x[0])), Age: 0, Complexity: 24\n",
      "2. Fitness: 0.00044, Fitness_val = 0.00044, Genome: sin(sin(tan(x[0]))), Age: 0, Complexity: 148\n",
      "3. Fitness: 0.00089, Fitness_val = 0.00086, Genome: sin(tan(sin(x[0]))), Age: 1, Complexity: 148\n",
      "4. Fitness: 0.00125, Fitness_val = 0.00119, Genome: tan(sin(sin(x[0]))), Age: 3, Complexity: 148\n"
     ]
    },
    {
     "name": "stderr",
     "output_type": "stream",
     "text": [
      " 95%|█████████▌| 570/600 [03:55<00:10,  2.80it/s]"
     ]
    },
    {
     "name": "stdout",
     "output_type": "stream",
     "text": [
      "Initial: 471, Deduplicated: 317, Operation simplified: 0, Constant: 73, Complex: 23, Final: 58\n",
      "Population mean complexity: 41.08620689655172\n",
      "Population mean fitness: 0.4814856355710402\n",
      "\n",
      "0. Fitness: 0.00000, Fitness_val = 0.00000, Genome: sin(x[0]), Age: 0, Complexity: 8\n",
      "1. Fitness: 0.00000, Fitness_val = 0.00000, Genome: sin(((x[0] * x[0]) / x[0])), Age: 0, Complexity: 24\n",
      "2. Fitness: 0.00044, Fitness_val = 0.00044, Genome: sin(sin(tan(x[0]))), Age: 0, Complexity: 148\n",
      "3. Fitness: 0.00089, Fitness_val = 0.00086, Genome: sin(tan(sin(x[0]))), Age: 12, Complexity: 148\n",
      "4. Fitness: 0.00125, Fitness_val = 0.00119, Genome: tan(sin(sin(x[0]))), Age: 7, Complexity: 148\n"
     ]
    },
    {
     "name": "stderr",
     "output_type": "stream",
     "text": [
      " 98%|█████████▊| 585/600 [04:00<00:05,  2.78it/s]"
     ]
    },
    {
     "name": "stdout",
     "output_type": "stream",
     "text": [
      "Initial: 459, Deduplicated: 310, Operation simplified: 0, Constant: 86, Complex: 6, Final: 57\n",
      "Population mean complexity: 37.63157894736842\n",
      "Population mean fitness: 11720.46430142706\n",
      "\n",
      "0. Fitness: 0.00000, Fitness_val = 0.00000, Genome: sin(x[0]), Age: 0, Complexity: 8\n",
      "1. Fitness: 0.00000, Fitness_val = 0.00000, Genome: sin(((x[0] * x[0]) / x[0])), Age: 0, Complexity: 24\n",
      "2. Fitness: 0.00044, Fitness_val = 0.00044, Genome: sin(sin(tan(x[0]))), Age: 0, Complexity: 148\n",
      "3. Fitness: 0.00089, Fitness_val = 0.00086, Genome: sin(tan(sin(x[0]))), Age: 1, Complexity: 148\n",
      "4. Fitness: 0.00125, Fitness_val = 0.00119, Genome: tan(sin(sin(x[0]))), Age: 5, Complexity: 148\n"
     ]
    },
    {
     "name": "stderr",
     "output_type": "stream",
     "text": [
      "100%|██████████| 600/600 [04:05<00:00,  2.44it/s]"
     ]
    },
    {
     "name": "stdout",
     "output_type": "stream",
     "text": [
      "Initial: 467, Deduplicated: 322, Operation simplified: 0, Constant: 56, Complex: 21, Final: 68\n",
      "Population mean complexity: 44.279411764705884\n",
      "Population mean fitness: 9825.4075983807\n",
      "\n",
      "0. Fitness: 0.00000, Fitness_val = 0.00000, Genome: sin(x[0]), Age: 0, Complexity: 8\n",
      "1. Fitness: 0.00000, Fitness_val = 0.00000, Genome: sin(((x[0] * x[0]) / x[0])), Age: 0, Complexity: 24\n",
      "2. Fitness: 0.00000, Fitness_val = 0.00000, Genome: ((x[0] * sin(x[0])) / x[0]), Age: 0, Complexity: 12\n",
      "3. Fitness: 0.00044, Fitness_val = 0.00044, Genome: sin(sin(tan(x[0]))), Age: 11, Complexity: 148\n",
      "4. Fitness: 0.00089, Fitness_val = 0.00086, Genome: sin(tan(sin(x[0]))), Age: 7, Complexity: 148\n",
      "Best individual: Fitness = 7.0537184213182515e-34: Genome = sin(x[0])\n",
      "Top 1: Fitness = 7.0537184213182515e-34 Fitness_val = 7.414830285890858e-34 Genome = sin(x[0])\n",
      "Top 2: Fitness = 1.083847168859298e-33 Fitness_val = 1.020742870525235e-33 Genome = sin(((x[0] * x[0]) / x[0]))\n",
      "Top 3: Fitness = 1.1555880592877225e-33 Fitness_val = 1.2962712231941339e-33 Genome = ((x[0] * sin(x[0])) / x[0])\n",
      "Top 4: Fitness = 0.00043594704472413683 Fitness_val = 0.00044460609830916084 Genome = sin(sin(tan(x[0])))\n",
      "Top 5: Fitness = 0.0008934970954112599 Fitness_val = 0.0008643124330942687 Genome = sin(tan(sin(x[0])))\n",
      "Top 6: Fitness = 0.0012514106384681795 Fitness_val = 0.001190862544099532 Genome = tan(sin(sin(x[0])))\n",
      "Top 7: Fitness = 0.0015106823797047745 Fitness_val = 0.0014408445105293958 Genome = sin(((x[0] * x[0]) / sin(x[0])))\n",
      "Top 8: Fitness = 0.0015595152069685402 Fitness_val = 0.0014757048022546535 Genome = sin(sin(x[0]))\n",
      "Top 9: Fitness = 0.0015595152069685406 Fitness_val = 0.0014757048022546538 Genome = sin(sin(((x[0] * x[0]) / x[0])))\n",
      "Top 10: Fitness = 0.0033274966726934336 Fitness_val = 0.0030977394286997822 Genome = x[0]\n",
      "Top 11: Fitness = 0.003327496672693433 Fitness_val = 0.0030977394286997827 Genome = log(exp(x[0]))\n",
      "Top 12: Fitness = 0.004809277931703531 Fitness_val = 0.004570163492171276 Genome = sin(sin(sin(x[0])))\n",
      "Top 13: Fitness = 0.0072101003710792165 Fitness_val = 0.0069364635464432035 Genome = sin(tan(x[0]))\n",
      "Top 14: Fitness = 0.01115159166998655 Fitness_val = 0.010439496910165167 Genome = tan(sin(x[0]))\n",
      "Top 15: Fitness = 0.012302162734550457 Fitness_val = 0.011471595877500112 Genome = (x[0] * cos(x[0]))\n",
      "Mean fitness of the population:  9825.407598380696\n",
      "Population size:  68\n",
      "Population mean complexity: 44.279411764705884\n"
     ]
    },
    {
     "name": "stderr",
     "output_type": "stream",
     "text": [
      "\n"
     ]
    }
   ],
   "source": [
    "\n",
    "problem = np.load(\"data/problem_1.npz\")\n",
    "x = problem[\"x\"]\n",
    "y = problem[\"y\"]\n",
    "print(\"x.shape:\", x.shape)\n",
    "print(\"y.shape:\", y.shape)\n",
    "print(\"x_train.shape: \", x_train.shape)\n",
    "print(\"x_val.shape: \", x_val.shape)\n",
    "print(\"y_train.shape: \", y_train.shape)\n",
    "print(\"y_val.shape: \", y_val.shape)\n",
    "x_train, y_train, x_val, y_val = split_dataset(x,y,0.8)\n",
    "my_pop_1 = evolve(x_train,y_train,x_val,y_val,conf)\n"
   ]
  },
  {
   "cell_type": "code",
   "execution_count": 11,
   "metadata": {},
   "outputs": [
    {
     "name": "stdout",
     "output_type": "stream",
     "text": [
      "x.shape: (3, 5000)\n",
      "y.shape: (5000,)\n",
      "x_train.shape:  (1, 400)\n",
      "x_val.shape:  (1, 100)\n",
      "y_train.shape:  (400,)\n",
      "y_val.shape:  (100,)\n",
      "Population is creating with a size:  100\n",
      "Population has created.\n",
      "Individual fitness values are assigning\n",
      " Population size: 55\n",
      "Population mean fitness: 29524809706919.81\n",
      "Population mean complexity: 983.9090909090909\n",
      "Top 1: Fitness = 29524701472459.54297 Fitness_val = 29985551587121.13672 Genome = exp(x[0])\n",
      "Top 2: Fitness = 29524780499453.81641 Fitness_val = 29985634520632.17578 Genome = exp(x[2])\n",
      "Top 3: Fitness = 29524803649596.75781 Fitness_val = 29985665929217.57031 Genome = (x[1] + x[1])\n",
      "Top 4: Fitness = 29524804102304.65625 Fitness_val = 29985667214708.00000 Genome = (x[2] + x[1])\n",
      "Top 5: Fitness = 29524810638326.23047 Fitness_val = 29985671172007.06250 Genome = (x[0] * x[0])\n"
     ]
    },
    {
     "name": "stderr",
     "output_type": "stream",
     "text": [
      "  0%|          | 2/600 [00:24<1:55:58, 11.64s/it]"
     ]
    },
    {
     "name": "stdout",
     "output_type": "stream",
     "text": [
      "New best result found: Individual(genome=(exp(x[0]) + x[1]), fitness=np.float64(29524696486520.35), fitness_val=np.float64(29985545837800.336), age=0, T=1)\n"
     ]
    },
    {
     "name": "stderr",
     "output_type": "stream",
     "text": [
      "  0%|          | 3/600 [00:30<1:31:10,  9.16s/it]"
     ]
    },
    {
     "name": "stdout",
     "output_type": "stream",
     "text": [
      "New best result found: Individual(genome=(exp(x[2]) * x[0]), fitness=np.float64(29524593228589.055), fitness_val=np.float64(29985492699982.316), age=0, T=1)\n"
     ]
    },
    {
     "name": "stderr",
     "output_type": "stream",
     "text": [
      "  1%|          | 5/600 [00:38<58:07,  5.86s/it]  "
     ]
    },
    {
     "name": "stdout",
     "output_type": "stream",
     "text": [
      "New best result found: Individual(genome=(exp(x[1]) * x[0]), fitness=np.float64(29524621528589.926), fitness_val=np.float64(29985450237874.016), age=0, T=1)\n"
     ]
    },
    {
     "name": "stderr",
     "output_type": "stream",
     "text": [
      "  1%|          | 6/600 [00:41<48:02,  4.85s/it]"
     ]
    },
    {
     "name": "stdout",
     "output_type": "stream",
     "text": [
      "New best result found: Individual(genome=(exp(x[0]) * x[0]), fitness=np.float64(29524362727960.18), fitness_val=np.float64(29985160544950.594), age=0, T=1)\n"
     ]
    },
    {
     "name": "stderr",
     "output_type": "stream",
     "text": [
      "  1%|          | 7/600 [00:44<44:24,  4.49s/it]"
     ]
    },
    {
     "name": "stdout",
     "output_type": "stream",
     "text": [
      "New best result found: Individual(genome=(exp(x[2]) * exp(x[2])), fitness=np.float64(29522180016132.7), fitness_val=np.float64(29981848785662.22), age=0, T=1)\n"
     ]
    },
    {
     "name": "stderr",
     "output_type": "stream",
     "text": [
      "  2%|▏         | 10/600 [00:54<36:58,  3.76s/it]"
     ]
    },
    {
     "name": "stdout",
     "output_type": "stream",
     "text": [
      "New best result found: Individual(genome=(exp(x[0]) * (exp(x[0]) * x[0])), fitness=np.float64(29489650971212.855), fitness_val=np.float64(29942123042281.816), age=0, T=1)\n"
     ]
    },
    {
     "name": "stderr",
     "output_type": "stream",
     "text": [
      "  2%|▏         | 12/600 [01:05<44:13,  4.51s/it]"
     ]
    },
    {
     "name": "stdout",
     "output_type": "stream",
     "text": [
      "New best result found: Individual(genome=((exp(x[0]) * exp(x[0])) * exp(x[0])), fitness=np.float64(28917327312487.477), fitness_val=np.float64(29286225920890.184), age=0, T=1)\n"
     ]
    },
    {
     "name": "stderr",
     "output_type": "stream",
     "text": [
      "  2%|▎         | 15/600 [01:17<41:22,  4.24s/it]"
     ]
    },
    {
     "name": "stdout",
     "output_type": "stream",
     "text": [
      "Initial: 584, Deduplicated: 320, Operation simplified: 0, Constant: 104, Complex: 15, Final: 145\n",
      "Population mean complexity: 18.49655172413793\n",
      "Population mean fitness: 8.31106797907517e+212\n",
      "\n",
      "0. Fitness: 28917327312487.47656, Fitness_val = 29286225920890.18359, Genome: ((exp(x[0]) * exp(x[0])) * exp(x[0])), Age: 0, Complexity: 32\n",
      "1. Fitness: 29489650971212.85547, Fitness_val = 29942123042281.81641, Genome: ((exp(x[0]) * exp(x[0])) * x[0]), Age: 0, Complexity: 23\n",
      "2. Fitness: 29516865959254.48828, Fitness_val = 29975974610291.04688, Genome: (exp(x[0]) * exp(x[0])), Age: 0, Complexity: 21\n",
      "3. Fitness: 29516998538521.92578, Fitness_val = 29976048400145.38281, Genome: (exp(x[0]) * (exp(x[0]) + x[1])), Age: 1, Complexity: 23\n",
      "4. Fitness: 29516752075417.54297, Fitness_val = 29976054048399.88672, Genome: (((exp(x[0]) * x[0]) * x[0]) * x[0]), Age: 4, Complexity: 16\n"
     ]
    },
    {
     "name": "stderr",
     "output_type": "stream",
     "text": [
      "  3%|▎         | 18/600 [01:33<47:22,  4.88s/it]"
     ]
    },
    {
     "name": "stdout",
     "output_type": "stream",
     "text": [
      "New best result found: Individual(genome=((((exp(x[0]) * exp(x[0])) * x[0]) * x[0]) * x[0]), fitness=np.float64(28919092946763.05), fitness_val=np.float64(29280956843432.016), age=0, T=1)\n"
     ]
    },
    {
     "name": "stderr",
     "output_type": "stream",
     "text": [
      "  4%|▍         | 25/600 [02:07<45:23,  4.74s/it]"
     ]
    },
    {
     "name": "stdout",
     "output_type": "stream",
     "text": [
      "New best result found: Individual(genome=((exp(x[0]) * (exp(x[0]) + exp(x[0]))) * exp(x[0])), fitness=np.float64(28608749149956.688), fitness_val=np.float64(29158450173936.062), age=0, T=1)\n"
     ]
    },
    {
     "name": "stderr",
     "output_type": "stream",
     "text": [
      "  5%|▌         | 30/600 [02:31<49:28,  5.21s/it]"
     ]
    },
    {
     "name": "stdout",
     "output_type": "stream",
     "text": [
      "Initial: 578, Deduplicated: 274, Operation simplified: 0, Constant: 21, Complex: 0, Final: 283\n",
      "Population mean complexity: 26.671378091872793\n",
      "Population mean fitness: 3.358888702562499e+251\n",
      "\n",
      "0. Fitness: 28608749149956.68750, Fitness_val = 29158450173936.06250, Genome: ((exp(x[0]) * (exp(x[0]) + exp(x[0]))) * exp(x[0])), Age: 0, Complexity: 43\n",
      "1. Fitness: 28893849020042.65234, Fitness_val = 29264195946348.16797, Genome: ((exp(x[0]) * (exp(x[0]) + x[0])) * exp(x[0])), Age: 0, Complexity: 34\n",
      "2. Fitness: 28893849227947.80078, Fitness_val = 29264196165367.79297, Genome: ((exp(x[0]) * (abs(x[0]) + exp(x[0]))) * exp(x[0])), Age: 0, Complexity: 35\n",
      "3. Fitness: 28919092946763.05078, Fitness_val = 29280956843432.01562, Genome: (exp(x[0]) * (((exp(x[0]) * x[0]) * x[0]) * x[0])), Age: 0, Complexity: 27\n",
      "4. Fitness: 28917327312487.47656, Fitness_val = 29286225920890.18359, Genome: ((exp(x[0]) * exp(x[0])) * exp(x[0])), Age: 0, Complexity: 32\n"
     ]
    },
    {
     "name": "stderr",
     "output_type": "stream",
     "text": [
      "  5%|▌         | 32/600 [02:42<51:18,  5.42s/it]"
     ]
    },
    {
     "name": "stdout",
     "output_type": "stream",
     "text": [
      "New best result found: Individual(genome=(((exp(x[0]) + exp(x[0])) * (exp(x[0]) + x[0])) * exp(x[0])), fitness=np.float64(28585630604310.414), fitness_val=np.float64(29158263486483.438), age=0, T=1)\n"
     ]
    },
    {
     "name": "stderr",
     "output_type": "stream",
     "text": [
      "  8%|▊         | 45/600 [03:54<53:46,  5.81s/it]"
     ]
    },
    {
     "name": "stdout",
     "output_type": "stream",
     "text": [
      "Initial: 587, Deduplicated: 267, Operation simplified: 0, Constant: 8, Complex: 0, Final: 312\n",
      "Population mean complexity: 34.756410256410255\n",
      "Population mean fitness: 2.5969821216046024e+261\n",
      "\n",
      "0. Fitness: 28585630604310.41406, Fitness_val = 29158263486483.43750, Genome: (((exp(x[0]) + exp(x[0])) * (exp(x[0]) + x[0])) * exp(x[0])), Age: 0, Complexity: 45\n",
      "1. Fitness: 28608747920469.43750, Fitness_val = 29158448854041.26562, Genome: (((exp(x[0]) * (exp(x[0]) + exp(x[0]))) * exp(x[0])) - abs(x[0])), Age: 0, Complexity: 46\n",
      "2. Fitness: 28608749149956.68750, Fitness_val = 29158450173936.06250, Genome: (((exp(x[0]) + exp(x[0])) * exp(x[0])) * exp(x[0])), Age: 0, Complexity: 43\n",
      "3. Fitness: 28608819444316.65625, Fitness_val = 29158504767212.60156, Genome: (((exp(x[0]) * (exp(x[0]) + exp(x[0]))) * exp(x[0])) - exp(x[0])), Age: 7, Complexity: 54\n",
      "4. Fitness: 28573894841002.33594, Fitness_val = 29158953489917.93750, Genome: ((((exp(x[0]) + x[0]) + exp(x[0])) * (exp(x[0]) + x[0])) * exp(x[0])), Age: 0, Complexity: 47\n"
     ]
    },
    {
     "name": "stderr",
     "output_type": "stream",
     "text": [
      " 10%|█         | 60/600 [05:27<59:41,  6.63s/it]  "
     ]
    },
    {
     "name": "stdout",
     "output_type": "stream",
     "text": [
      "New best result found: Individual(genome=((((exp(x[0]) + x[0]) + exp(x[0])) * exp(x[0])) * exp(x[0])), fitness=np.float64(28596955215294.61), fitness_val=np.float64(29157944610419.12), age=0, T=1)\n",
      "Initial: 570, Deduplicated: 192, Operation simplified: 0, Constant: 7, Complex: 7, Final: 364\n",
      "Population mean complexity: 44.75824175824176\n",
      "Population mean fitness: 7.157254677607252e+265\n",
      "\n",
      "0. Fitness: 28596955215294.60938, Fitness_val = 29157944610419.12109, Genome: ((((exp(x[0]) + x[0]) + exp(x[0])) * exp(x[0])) * exp(x[0])), Age: 0, Complexity: 45\n",
      "1. Fitness: 28585630604310.41406, Fitness_val = 29158263486483.43750, Genome: (((exp(x[0]) + exp(x[0])) * (exp(x[0]) + x[0])) * exp(x[0])), Age: 0, Complexity: 45\n",
      "2. Fitness: 28608747920469.43750, Fitness_val = 29158448854041.26562, Genome: (((exp(x[0]) * (exp(x[0]) + exp(x[0]))) * exp(x[0])) - abs(x[0])), Age: 0, Complexity: 46\n",
      "3. Fitness: 28608749149956.68750, Fitness_val = 29158450173936.06250, Genome: (((exp(x[0]) + exp(x[0])) * exp(x[0])) * exp(x[0])), Age: 1, Complexity: 43\n",
      "4. Fitness: 28608819444316.65625, Fitness_val = 29158504767212.60156, Genome: (((exp(x[0]) * (exp(x[0]) + exp(x[0]))) * exp(x[0])) - exp(x[0])), Age: 5, Complexity: 54\n"
     ]
    },
    {
     "name": "stderr",
     "output_type": "stream",
     "text": [
      " 11%|█▏        | 68/600 [06:20<1:03:37,  7.18s/it]"
     ]
    },
    {
     "name": "stdout",
     "output_type": "stream",
     "text": [
      "New best result found: Individual(genome=((((x[0] + (x[0] + x[0])) + exp(x[0])) * (x[0] + (exp(x[0]) + x[0]))) * (exp(x[0]) + x[0])), fitness=np.float64(28768102365619.87), fitness_val=np.float64(29152283924326.277), age=0, T=1)\n"
     ]
    },
    {
     "name": "stderr",
     "output_type": "stream",
     "text": [
      " 12%|█▏        | 70/600 [06:35<1:03:47,  7.22s/it]"
     ]
    },
    {
     "name": "stdout",
     "output_type": "stream",
     "text": [
      "New best result found: Individual(genome=(((exp(x[0]) + x[0]) * (exp(x[0]) + ((exp(x[0]) + (exp(x[0]) + x[0])) / x[0]))) * exp(x[0])), fitness=np.float64(28706412983909.08), fitness_val=np.float64(29124004464102.004), age=0, T=1)\n"
     ]
    },
    {
     "name": "stderr",
     "output_type": "stream",
     "text": [
      " 12%|█▏        | 72/600 [06:48<1:01:12,  6.96s/it]"
     ]
    },
    {
     "name": "stdout",
     "output_type": "stream",
     "text": [
      "New best result found: Individual(genome=((((x[0] + (x[0] + x[0])) + exp(x[0])) * (x[0] + (exp(x[0]) + x[0]))) * (((exp(x[0]) / x[0]) + x[0]) + exp(x[0]))), fitness=np.float64(28664595778515.19), fitness_val=np.float64(29081808275650.61), age=0, T=1)\n"
     ]
    },
    {
     "name": "stderr",
     "output_type": "stream",
     "text": [
      " 12%|█▎        | 75/600 [07:11<1:04:59,  7.43s/it]"
     ]
    },
    {
     "name": "stdout",
     "output_type": "stream",
     "text": [
      "Initial: 572, Deduplicated: 167, Operation simplified: 0, Constant: 6, Complex: 5, Final: 394\n",
      "Population mean complexity: 51.236040609137056\n",
      "Population mean fitness: 6.339427109068148e+265\n",
      "\n",
      "0. Fitness: 28664595778515.19141, Fitness_val = 29081808275650.60938, Genome: ((((x[0] + (x[0] + x[0])) + exp(x[0])) * (x[0] + (exp(x[0]) + x[0]))) * (((exp(x[0]) / x[0]) + x[0]) + exp(x[0]))), Age: 0, Complexity: 57\n",
      "1. Fitness: 28706412983909.07812, Fitness_val = 29124004464102.00391, Genome: (((exp(x[0]) + x[0]) * (exp(x[0]) + ((exp(x[0]) + (exp(x[0]) + x[0])) / x[0]))) * exp(x[0])), Age: 0, Complexity: 60\n",
      "2. Fitness: 28768102365619.87109, Fitness_val = 29152283924326.27734, Genome: ((((x[0] + (x[0] + x[0])) + exp(x[0])) * (x[0] + (exp(x[0]) + x[0]))) * (exp(x[0]) + x[0])), Age: 0, Complexity: 44\n",
      "3. Fitness: 28596955215294.60938, Fitness_val = 29157944610419.12109, Genome: ((((exp(x[0]) + x[0]) + exp(x[0])) * exp(x[0])) * exp(x[0])), Age: 4, Complexity: 45\n",
      "4. Fitness: 28585630604310.41406, Fitness_val = 29158263486483.43750, Genome: (((exp(x[0]) + exp(x[0])) * (exp(x[0]) + x[0])) * exp(x[0])), Age: 5, Complexity: 45\n"
     ]
    },
    {
     "name": "stderr",
     "output_type": "stream",
     "text": [
      " 13%|█▎        | 77/600 [07:23<58:12,  6.68s/it]  "
     ]
    },
    {
     "name": "stdout",
     "output_type": "stream",
     "text": [
      "New best result found: Individual(genome=((((x[0] - (x[0] * x[1])) + (exp(x[0]) + x[0])) * (x[0] + (exp(x[0]) + x[0]))) * (exp(x[0]) + exp(x[0]))), fitness=np.float64(28420110853662.24), fitness_val=np.float64(29063262943138.383), age=0, T=1)\n"
     ]
    },
    {
     "name": "stderr",
     "output_type": "stream",
     "text": [
      " 14%|█▍        | 84/600 [08:13<1:02:29,  7.27s/it]"
     ]
    },
    {
     "name": "stdout",
     "output_type": "stream",
     "text": [
      "New best result found: Individual(genome=((((((exp(x[0]) - x[0]) / (exp(x[0]) + x[0])) - (x[0] * x[1])) + (exp(x[0]) + x[0])) * (x[0] + (exp(x[0]) + x[0]))) * (exp(x[0]) + exp(x[0]))), fitness=np.float64(28434642778454.664), fitness_val=np.float64(29054909729432.367), age=0, T=1)\n"
     ]
    },
    {
     "name": "stderr",
     "output_type": "stream",
     "text": [
      " 14%|█▍        | 87/600 [08:40<1:10:10,  8.21s/it]"
     ]
    },
    {
     "name": "stdout",
     "output_type": "stream",
     "text": [
      "New best result found: Individual(genome=((((x[0] - (x[0] * x[1])) + (exp(x[0]) - x[0])) * (x[0] + (exp(x[0]) + x[0]))) * (exp(x[0]) + exp(x[0]))), fitness=np.float64(28460430841678.316), fitness_val=np.float64(29049171865074.29), age=0, T=1)\n"
     ]
    },
    {
     "name": "stderr",
     "output_type": "stream",
     "text": [
      " 15%|█▍        | 88/600 [08:47<1:06:10,  7.76s/it]"
     ]
    },
    {
     "name": "stdout",
     "output_type": "stream",
     "text": [
      "New best result found: Individual(genome=((((((x[0] - (x[0] * x[1])) + x[0]) - (x[0] * x[1])) + (exp(x[0]) + x[1])) * (x[0] + ((x[0] + (x[0] + x[0])) + exp(x[0])))) * (exp(x[0]) + exp(x[0]))), fitness=np.float64(28315460624545.008), fitness_val=np.float64(29013966060152.098), age=0, T=1)\n"
     ]
    },
    {
     "name": "stderr",
     "output_type": "stream",
     "text": [
      " 15%|█▌        | 90/600 [09:04<1:11:04,  8.36s/it]"
     ]
    },
    {
     "name": "stdout",
     "output_type": "stream",
     "text": [
      "New best result found: Individual(genome=((((((x[0] - (x[0] * x[1])) + x[0]) - (x[0] * (x[0] * x[1]))) + (exp(x[0]) + x[1])) * (x[0] + ((x[0] + (x[0] + x[0])) + exp(x[0])))) * (exp(x[0]) + exp(x[0]))), fitness=np.float64(28229274972206.31), fitness_val=np.float64(28934524437852.31), age=0, T=1)\n",
      "Initial: 588, Deduplicated: 159, Operation simplified: 0, Constant: 5, Complex: 5, Final: 419\n",
      "Population mean complexity: 53.517899761336515\n",
      "Population mean fitness: 5.039143341301758e+240\n",
      "\n",
      "0. Fitness: 28229274972206.30859, Fitness_val = 28934524437852.30859, Genome: ((((((x[0] - (x[0] * x[1])) + x[0]) - (x[0] * (x[0] * x[1]))) + (exp(x[0]) + x[1])) * (x[0] + ((x[0] + (x[0] + x[0])) + exp(x[0])))) * (exp(x[0]) + exp(x[0]))), Age: 0, Complexity: 67\n",
      "1. Fitness: 28315460624545.00781, Fitness_val = 29013966060152.09766, Genome: ((((((x[0] - (x[0] * x[1])) + x[0]) - (x[0] * x[1])) + (exp(x[0]) + x[1])) * (x[0] + ((x[0] + (x[0] + x[0])) + exp(x[0])))) * (exp(x[0]) + exp(x[0]))), Age: 0, Complexity: 65\n",
      "2. Fitness: 28460430841678.31641, Fitness_val = 29049171865074.28906, Genome: ((((x[0] - (x[0] * x[1])) + (exp(x[0]) - x[0])) * (x[0] + (exp(x[0]) + x[0]))) * (exp(x[0]) + exp(x[0]))), Age: 0, Complexity: 55\n",
      "3. Fitness: 28434642778454.66406, Fitness_val = 29054909729432.36719, Genome: ((((((exp(x[0]) - x[0]) / (exp(x[0]) + x[0])) - (x[0] * x[1])) + (exp(x[0]) + x[0])) * (x[0] + (exp(x[0]) + x[0]))) * (exp(x[0]) + exp(x[0]))), Age: 1, Complexity: 79\n",
      "4. Fitness: 28468586838714.83203, Fitness_val = 29055870900535.23047, Genome: ((((x[0] - (x[0] * x[1])) + (exp(x[0]) + x[0])) * exp(x[0])) * (exp(x[0]) + exp(x[0]))), Age: 3, Complexity: 51\n"
     ]
    },
    {
     "name": "stderr",
     "output_type": "stream",
     "text": [
      " 16%|█▌        | 94/600 [09:43<1:20:30,  9.55s/it]"
     ]
    },
    {
     "name": "stdout",
     "output_type": "stream",
     "text": [
      "New best result found: Individual(genome=((((((x[0] - (x[0] * x[1])) + x[0]) - (x[0] * (x[0] * x[1]))) + (exp(x[0]) + x[1])) * (x[0] + ((x[0] + (x[0] + x[0])) + exp(x[0])))) * (x[0] + exp(x[0]))), fitness=np.float64(28450425777266.324), fitness_val=np.float64(28860801361661.535), age=0, T=1)\n"
     ]
    },
    {
     "name": "stderr",
     "output_type": "stream",
     "text": [
      " 16%|█▋        | 98/600 [10:19<1:18:58,  9.44s/it]"
     ]
    },
    {
     "name": "stdout",
     "output_type": "stream",
     "text": [
      "New best result found: Individual(genome=((((((x[0] - x[0]) + x[0]) - (x[0] * (x[0] * x[2]))) + (exp(x[0]) + x[1])) * (x[0] + ((x[0] + (x[0] + x[0])) + exp(x[0])))) * (exp(x[0]) + exp(x[0]))), fitness=np.float64(28313321651562.09), fitness_val=np.float64(28672406850341.945), age=0, T=1)\n"
     ]
    },
    {
     "name": "stderr",
     "output_type": "stream",
     "text": [
      " 18%|█▊        | 105/600 [11:28<1:22:12,  9.97s/it]"
     ]
    },
    {
     "name": "stdout",
     "output_type": "stream",
     "text": [
      "Initial: 604, Deduplicated: 93, Operation simplified: 0, Constant: 7, Complex: 1, Final: 503\n",
      "Population mean complexity: 61.59642147117296\n",
      "Population mean fitness: 4.894804507202745e+257\n",
      "\n",
      "0. Fitness: 28313321651562.08984, Fitness_val = 28672406850341.94531, Genome: ((((((x[0] - x[0]) + x[0]) - (x[0] * (x[0] * x[2]))) + (exp(x[0]) + x[1])) * (x[0] + ((x[0] + (x[0] + x[0])) + exp(x[0])))) * (exp(x[0]) + exp(x[0]))), Age: 0, Complexity: 65\n",
      "1. Fitness: 28126343396422.09766, Fitness_val = 28719318662925.44141, Genome: ((((((x[0] - (x[0] * x[2])) + x[0]) - (x[0] * (x[0] * x[1]))) + (exp(x[0]) + x[1])) * (x[0] + ((x[0] + (x[0] + x[0])) + exp(x[0])))) * (exp(x[0]) + exp(x[0]))), Age: 0, Complexity: 67\n",
      "2. Fitness: 28432610612346.56641, Fitness_val = 28785604800880.04297, Genome: ((((((x[0] - (x[0] * x[2])) + x[0]) - (x[0] * (x[0] * x[1]))) + (exp(x[0]) + x[1])) * (x[0] + ((x[0] + (x[0] + x[0])) + exp(x[0])))) * (exp(x[0]) + x[0])), Age: 0, Complexity: 58\n",
      "3. Fitness: 28352926665219.16797, Fitness_val = 28797022445561.31250, Genome: ((((((x[0] - (x[0] * x[1])) + x[0]) - (x[0] * (x[0] * x[1]))) + (exp(x[0]) + x[1])) * (x[0] + ((x[0] + (x[0] + x[0])) + exp(x[0])))) * (((x[0] - (x[0] * x[1])) + x[0]) + exp(x[0]))), Age: 2, Complexity: 64\n",
      "4. Fitness: 28275126151762.48047, Fitness_val = 28839494322874.72656, Genome: ((((((x[0] - (x[0] * x[0])) + x[0]) - (x[0] * (x[0] * x[1]))) + (exp(x[0]) + x[1])) * (x[0] + ((x[0] + (x[0] + x[0])) + exp(x[0])))) * (exp(x[0]) + exp(x[0]))), Age: 0, Complexity: 67\n"
     ]
    },
    {
     "name": "stderr",
     "output_type": "stream",
     "text": [
      " 18%|█▊        | 107/600 [11:48<1:21:24,  9.91s/it]"
     ]
    },
    {
     "name": "stdout",
     "output_type": "stream",
     "text": [
      "New best result found: Individual(genome=((((((x[0] - (x[0] * x[2])) * x[0]) - (x[0] * (x[0] * x[1]))) + (exp(x[0]) + x[1])) * (x[0] + ((x[0] + (x[0] + x[0])) + exp(x[0])))) * (exp(x[0]) + exp(x[0]))), fitness=np.float64(27990660946928.316), fitness_val=np.float64(28436755665288.07), age=0, T=1)\n"
     ]
    },
    {
     "name": "stderr",
     "output_type": "stream",
     "text": [
      " 18%|█▊        | 110/600 [12:20<1:26:20, 10.57s/it]"
     ]
    },
    {
     "name": "stdout",
     "output_type": "stream",
     "text": [
      "New best result found: Individual(genome=((((((x[2] - (x[0] * x[2])) * x[0]) - (x[0] * (x[0] * x[1]))) + (exp(x[0]) + x[1])) * (x[0] + ((x[0] + (x[0] + x[0])) + exp(x[0])))) * (exp(x[0]) + exp(x[0]))), fitness=np.float64(28007178060338.33), fitness_val=np.float64(28362359501565.375), age=0, T=1)\n"
     ]
    },
    {
     "name": "stderr",
     "output_type": "stream",
     "text": [
      " 19%|█▉        | 114/600 [13:07<1:31:02, 11.24s/it]"
     ]
    },
    {
     "name": "stdout",
     "output_type": "stream",
     "text": [
      "New best result found: Individual(genome=((((((x[1] - (x[0] * x[2])) * x[0]) - (x[0] * (x[0] * x[1]))) + (exp(x[0]) + x[1])) * (x[0] + ((x[0] + (x[0] + x[1])) + exp(x[0])))) * (exp(x[0]) + exp(x[0]))), fitness=np.float64(28032061668563.97), fitness_val=np.float64(28306993347345.305), age=0, T=1)\n"
     ]
    },
    {
     "name": "stderr",
     "output_type": "stream",
     "text": [
      " 20%|██        | 120/600 [14:13<1:32:30, 11.56s/it]"
     ]
    },
    {
     "name": "stdout",
     "output_type": "stream",
     "text": [
      "New best result found: Individual(genome=((((((x[0] - (x[0] * x[2])) * x[0]) - (x[0] * (x[0] * x[1]))) + (exp(x[0]) + x[1])) * (x[0] + ((x[0] + ((x[0] - ((x[0] * x[1]) * x[2])) + x[0])) + exp(x[0])))) * (exp(x[0]) + exp(x[0]))), fitness=np.float64(27752956593976.293), fitness_val=np.float64(28204585609596.71), age=0, T=1)\n",
      "Initial: 605, Deduplicated: 84, Operation simplified: 0, Constant: 3, Complex: 4, Final: 514\n",
      "Population mean complexity: 65.96303501945525\n",
      "Population mean fitness: 3.3610452478852336e+145\n",
      "\n",
      "0. Fitness: 27752956593976.29297, Fitness_val = 28204585609596.71094, Genome: ((((((x[0] - (x[0] * x[2])) * x[0]) - (x[0] * (x[0] * x[1]))) + (exp(x[0]) + x[1])) * (x[0] + ((x[0] + ((x[0] - ((x[0] * x[1]) * x[2])) + x[0])) + exp(x[0])))) * (exp(x[0]) + exp(x[0]))), Age: 0, Complexity: 73\n",
      "1. Fitness: 28032061668563.96875, Fitness_val = 28306993347345.30469, Genome: ((((((x[1] - (x[0] * x[2])) * x[0]) - (x[0] * (x[0] * x[1]))) + (exp(x[0]) + x[1])) * (x[0] + ((x[0] + (x[0] + x[1])) + exp(x[0])))) * (exp(x[0]) + exp(x[0]))), Age: 0, Complexity: 67\n",
      "2. Fitness: 28020641982194.14844, Fitness_val = 28316538470023.75391, Genome: ((((((x[1] - (x[0] * x[2])) * x[0]) - (x[0] * (x[0] * x[1]))) + (exp(x[0]) + x[1])) * (x[0] + ((x[0] + (x[0] + x[0])) + exp(x[0])))) * (exp(x[0]) + exp(x[0]))), Age: 0, Complexity: 67\n",
      "3. Fitness: 28007178060338.32812, Fitness_val = 28362359501565.37500, Genome: ((((((x[2] - (x[0] * x[2])) * x[0]) - (x[0] * (x[0] * x[1]))) + (exp(x[0]) + x[1])) * (x[0] + ((x[0] + (x[0] + x[0])) + exp(x[0])))) * (exp(x[0]) + exp(x[0]))), Age: 1, Complexity: 67\n",
      "4. Fitness: 28040164736301.21484, Fitness_val = 28368126876444.08594, Genome: ((((((x[2] - (x[0] * x[2])) * x[0]) - (x[0] * (x[0] * x[1]))) + (exp(x[0]) + x[1])) * (x[0] + ((x[0] + x[2]) + exp(x[0])))) * (exp(x[0]) + exp(x[0]))), Age: 6, Complexity: 65\n"
     ]
    },
    {
     "name": "stderr",
     "output_type": "stream",
     "text": [
      " 21%|██        | 126/600 [15:26<1:32:22, 11.69s/it]"
     ]
    },
    {
     "name": "stdout",
     "output_type": "stream",
     "text": [
      "New best result found: Individual(genome=((((((x[0] - (x[0] * x[2])) * x[0]) - (x[0] * (x[0] * x[1]))) + (exp(x[0]) + x[1])) * (x[1] + ((x[0] + ((x[0] - ((x[0] * x[1]) * x[2])) + x[0])) + exp(x[0])))) * (exp(x[0]) + exp(x[0]))), fitness=np.float64(27774097606037.74), fitness_val=np.float64(28191305989339.832), age=0, T=1)\n"
     ]
    },
    {
     "name": "stderr",
     "output_type": "stream",
     "text": [
      " 22%|██▏       | 134/600 [17:01<1:35:30, 12.30s/it]"
     ]
    },
    {
     "name": "stdout",
     "output_type": "stream",
     "text": [
      "New best result found: Individual(genome=(((((((x[0] - x[0]) - (x[0] * x[2])) * x[0]) - (x[0] * (x[0] * x[1]))) + (exp(x[0]) + x[1])) * ((x[0] + ((x[0] - ((x[0] * x[1]) * x[2])) + x[0])) + exp(x[0]))) * (exp(x[0]) + exp(x[0]))), fitness=np.float64(27822964680274.637), fitness_val=np.float64(28114560550359.363), age=0, T=1)\n"
     ]
    },
    {
     "name": "stderr",
     "output_type": "stream",
     "text": [
      " 22%|██▎       | 135/600 [17:14<1:35:33, 12.33s/it]"
     ]
    },
    {
     "name": "stdout",
     "output_type": "stream",
     "text": [
      "Initial: 627, Deduplicated: 95, Operation simplified: 0, Constant: 3, Complex: 8, Final: 521\n",
      "Population mean complexity: 69.18809980806142\n",
      "Population mean fitness: 1.755978049811459e+145\n",
      "\n",
      "0. Fitness: 27822964680274.63672, Fitness_val = 28114560550359.36328, Genome: (((((((x[0] - x[0]) - (x[0] * x[2])) * x[0]) - (x[0] * (x[0] * x[1]))) + (exp(x[0]) + x[1])) * ((x[0] + ((x[0] - ((x[0] * x[1]) * x[2])) + x[0])) + exp(x[0]))) * (exp(x[0]) + exp(x[0]))), Age: 0, Complexity: 73\n",
      "1. Fitness: 27774097606037.73828, Fitness_val = 28191305989339.83203, Genome: ((((((x[0] - (x[0] * x[2])) * x[0]) - (x[0] * (x[0] * x[1]))) + (exp(x[0]) + x[1])) * (x[1] + ((x[0] + ((x[0] - ((x[0] * x[1]) * x[2])) + x[0])) + exp(x[0])))) * (exp(x[0]) + exp(x[0]))), Age: 0, Complexity: 73\n",
      "2. Fitness: 27770692543329.68750, Fitness_val = 28195284730067.00781, Genome: ((((((x[0] - (x[0] * x[2])) * x[0]) - (x[0] * (x[0] * x[1]))) + (exp(x[0]) + x[1])) * ((x[0] + ((x[0] - ((x[0] * x[1]) * x[2])) + x[0])) + exp(x[0]))) * (exp(x[0]) + exp(x[0]))), Age: 0, Complexity: 71\n",
      "3. Fitness: 27754144172895.02344, Fitness_val = 28198460914176.21094, Genome: ((((((x[0] - (x[0] * x[2])) * x[0]) - (x[0] * (x[0] * x[1]))) + (exp(x[0]) + x[1])) * (x[0] + (x[1] + ((x[0] + ((x[0] - ((x[0] * x[1]) * x[2])) + x[0])) + exp(x[0]))))) * (exp(x[0]) + exp(x[0]))), Age: 2, Complexity: 75\n",
      "4. Fitness: 27774279569088.52344, Fitness_val = 28203299739654.50781, Genome: ((((((x[0] - (x[0] * x[2])) * x[0]) - (x[0] * (x[0] * x[1]))) + (exp(x[0]) + x[1])) * (x[0] + ((x[0] + ((x[2] - ((x[0] * x[1]) * x[2])) + x[0])) + exp(x[0])))) * (exp(x[0]) + exp(x[0]))), Age: 4, Complexity: 73\n"
     ]
    },
    {
     "name": "stderr",
     "output_type": "stream",
     "text": [
      " 24%|██▍       | 143/600 [18:54<1:41:34, 13.34s/it]"
     ]
    },
    {
     "name": "stdout",
     "output_type": "stream",
     "text": [
      "New best result found: Individual(genome=((((((x[0] - (x[0] * x[2])) * x[0]) - (x[0] * (x[0] * x[1]))) + (exp(x[0]) + x[1])) * (x[0] + (x[1] + ((x[0] + ((x[0] - ((x[0] * x[1]) * x[2])) + x[0])) + exp(x[0]))))) * ((((x[0] - (x[0] * x[2])) * x[0]) - (x[0] * (x[0] * x[1]))) + (exp(x[0]) + (x[2] - (x[0] * x[2]))))), fitness=np.float64(27642003564161.02), fitness_val=np.float64(27835581015488.855), age=0, T=1)\n"
     ]
    },
    {
     "name": "stderr",
     "output_type": "stream",
     "text": [
      " 24%|██▍       | 146/600 [19:29<1:32:18, 12.20s/it]"
     ]
    },
    {
     "name": "stdout",
     "output_type": "stream",
     "text": [
      "New best result found: Individual(genome=((((((x[0] - (x[0] * x[2])) * x[0]) - (x[0] * (x[0] * x[1]))) + (exp(x[0]) + x[1])) * ((x[0] + ((x[0] - ((x[0] * x[1]) * x[2])) + x[0])) + (x[1] + ((x[0] + ((x[0] - ((x[0] * x[1]) * x[2])) + x[0])) + exp(x[0]))))) * ((((x[0] - (x[0] * x[2])) * x[0]) - (x[0] * (x[0] * x[1]))) + (exp(x[0]) + (x[2] - (x[0] * x[2]))))), fitness=np.float64(27506921110634.312), fitness_val=np.float64(27669833973641.055), age=0, T=1)\n"
     ]
    },
    {
     "name": "stderr",
     "output_type": "stream",
     "text": [
      " 25%|██▍       | 149/600 [20:10<1:39:04, 13.18s/it]"
     ]
    },
    {
     "name": "stdout",
     "output_type": "stream",
     "text": [
      "New best result found: Individual(genome=(((((((x[0] + x[0]) - (x[0] * x[2])) * x[0]) - (x[0] * (x[0] * x[1]))) + (exp(x[0]) + x[1])) * ((x[0] * x[1]) + ((x[0] + ((x[0] - ((x[0] * x[1]) * x[2])) + x[0])) + exp(x[0])))) * ((((x[0] - (x[0] * x[2])) * x[0]) - (x[0] * (x[0] * x[1]))) + exp(x[0]))), fitness=np.float64(27440839228823.656), fitness_val=np.float64(27575387218067.223), age=0, T=1)\n"
     ]
    },
    {
     "name": "stderr",
     "output_type": "stream",
     "text": [
      " 25%|██▌       | 150/600 [20:23<1:38:03, 13.07s/it]"
     ]
    },
    {
     "name": "stdout",
     "output_type": "stream",
     "text": [
      "Initial: 600, Deduplicated: 74, Operation simplified: 0, Constant: 0, Complex: 1, Final: 525\n",
      "Population mean complexity: 72.59238095238095\n",
      "Population mean fitness: 8.70555849212849e+132\n",
      "\n",
      "0. Fitness: 27440839228823.65625, Fitness_val = 27575387218067.22266, Genome: (((((((x[0] + x[0]) - (x[0] * x[2])) * x[0]) - (x[0] * (x[0] * x[1]))) + (exp(x[0]) + x[1])) * ((x[0] * x[1]) + ((x[0] + ((x[0] - ((x[0] * x[1]) * x[2])) + x[0])) + exp(x[0])))) * ((((x[0] - (x[0] * x[2])) * x[0]) - (x[0] * (x[0] * x[1]))) + exp(x[0]))), Age: 0, Complexity: 80\n",
      "1. Fitness: 27506921110634.31250, Fitness_val = 27669833973641.05469, Genome: ((((((x[0] - (x[0] * x[2])) * x[0]) - (x[0] * (x[0] * x[1]))) + (exp(x[0]) + x[1])) * ((x[0] + ((x[0] - ((x[0] * x[1]) * x[2])) + x[0])) + (x[1] + ((x[0] + ((x[0] - ((x[0] * x[1]) * x[2])) + x[0])) + exp(x[0]))))) * ((((x[0] - (x[0] * x[2])) * x[0]) - (x[0] * (x[0] * x[1]))) + (exp(x[0]) + (x[2] - (x[0] * x[2]))))), Age: 0, Complexity: 94\n",
      "2. Fitness: 27758644416920.13672, Fitness_val = 27802434773104.11328, Genome: ((((((x[0] - (x[0] * x[2])) * x[0]) - (x[0] * (x[0] * x[1]))) + (exp(x[0]) + x[1])) * (x[0] + (x[1] + ((x[0] + ((x[0] - ((x[0] * x[1]) * x[2])) + x[0])) + exp(x[0]))))) * ((((x[0] - (x[0] * x[2])) * x[0]) - (x[2] * (x[0] * x[1]))) + (exp(x[0]) + (x[2] - (x[0] * x[2]))))), Age: 0, Complexity: 84\n",
      "3. Fitness: 27619142443424.16406, Fitness_val = 27821300094303.71875, Genome: ((((((x[0] - (x[0] * x[2])) * x[0]) - (x[0] * (x[0] * x[1]))) + (exp(x[0]) + x[1])) * (x[0] + (x[1] + ((x[0] + ((x[0] - ((x[0] * x[1]) * x[2])) + x[0])) + exp(x[0]))))) * ((((x[0] - (x[0] * x[2])) * x[0]) - (x[0] * (x[0] * x[1]))) + (exp(x[0]) + (x[0] - (x[0] * x[2]))))), Age: 1, Complexity: 84\n",
      "4. Fitness: 27642003564161.01953, Fitness_val = 27835581015488.85547, Genome: ((((((x[0] - (x[0] * x[2])) * x[0]) - (x[0] * (x[0] * x[1]))) + (exp(x[0]) + x[1])) * (x[0] + (x[1] + ((x[0] + ((x[0] - ((x[0] * x[1]) * x[2])) + x[0])) + exp(x[0]))))) * ((((x[0] - (x[0] * x[2])) * x[0]) - (x[0] * (x[0] * x[1]))) + (exp(x[0]) + (x[2] - (x[0] * x[2]))))), Age: 2, Complexity: 84\n"
     ]
    },
    {
     "name": "stderr",
     "output_type": "stream",
     "text": [
      " 28%|██▊       | 165/600 [24:03<1:55:59, 16.00s/it]"
     ]
    },
    {
     "name": "stdout",
     "output_type": "stream",
     "text": [
      "Initial: 601, Deduplicated: 44, Operation simplified: 0, Constant: 3, Complex: 5, Final: 549\n",
      "Population mean complexity: 78.55737704918033\n",
      "Population mean fitness: 5.811376768159214e+132\n",
      "\n",
      "0. Fitness: 27440839228823.65625, Fitness_val = 27575387218067.22266, Genome: (((((((x[0] + x[0]) - (x[0] * x[2])) * x[0]) - (x[0] * (x[0] * x[1]))) + (exp(x[0]) + x[1])) * ((x[0] * x[1]) + ((x[0] + ((x[0] - ((x[0] * x[1]) * x[2])) + x[0])) + exp(x[0])))) * ((((x[0] - (x[0] * x[2])) * x[0]) - (x[0] * (x[0] * x[1]))) + exp(x[0]))), Age: 0, Complexity: 80\n",
      "1. Fitness: 27419388703186.72656, Fitness_val = 27625129585462.64453, Genome: ((((((x[0] - (x[0] * x[2])) * x[0]) - (x[0] * (x[0] * x[1]))) + (exp(x[0]) + x[1])) * ((x[0] + ((x[0] - ((x[0] * x[1]) * x[2])) + x[0])) + (x[1] + (x[0] + exp(x[0]))))) * ((((x[0] - (x[0] * x[2])) * x[0]) - (x[0] * (x[0] * x[1]))) + ((x[0] + ((x[0] - ((x[0] * x[1]) * x[2])) + x[0])) + exp(x[0])))), Age: 0, Complexity: 90\n",
      "2. Fitness: 27437191432208.20312, Fitness_val = 27628258772770.83203, Genome: ((((((x[0] - (x[0] * x[2])) * x[0]) - (x[0] * (x[0] * x[1]))) + (exp(x[0]) + x[1])) * ((x[0] + ((x[0] - ((x[0] * x[1]) * x[2])) + x[0])) + (x[1] + ((x[0] / ((x[0] - ((x[0] * x[1]) * x[2])) + x[0])) + exp(x[0]))))) * ((((x[0] - (x[0] * x[2])) * x[0]) - (x[0] * (x[0] * x[1]))) + ((x[0] + ((x[0] - ((x[0] * x[1]) * x[2])) + x[0])) + exp(x[0])))), Age: 0, Complexity: 100\n",
      "3. Fitness: 27410851319043.16406, Fitness_val = 27629422036797.13281, Genome: ((((((x[0] - (x[0] * x[2])) * x[0]) - (x[0] * (x[0] * x[1]))) + (exp(x[0]) + x[1])) * ((x[0] + ((x[0] - ((x[0] * x[1]) * x[2])) + x[0])) + (x[1] + ((x[0] + ((x[0] - x[0]) + x[0])) + exp(x[0]))))) * ((((x[0] - (x[0] * x[2])) * x[0]) - (x[0] * (x[0] * x[1]))) + ((x[0] + ((x[0] - ((x[0] * x[1]) * x[2])) + x[0])) + exp(x[0])))), Age: 1, Complexity: 96\n",
      "4. Fitness: 27456110226868.53125, Fitness_val = 27629631171815.12109, Genome: ((((((x[0] - (x[0] * x[2])) * x[0]) - (x[0] * (x[0] * x[1]))) + (exp(x[0]) + x[1])) * ((x[0] + ((x[0] - ((x[0] * x[1]) * x[2])) + x[0])) + (x[1] + ((x[0] / ((x[0] - ((x[0] * x[1]) * x[2])) + x[0])) + exp(x[0]))))) * ((((x[0] - (x[0] * x[2])) * x[0]) - (x[0] * (x[0] * x[1]))) + ((x[0] + ((x[0] - ((x[0] * x[1]) * x[2])) + x[1])) + exp(x[0])))), Age: 0, Complexity: 100\n"
     ]
    },
    {
     "name": "stderr",
     "output_type": "stream",
     "text": [
      " 29%|██▊       | 172/600 [26:15<2:16:09, 19.09s/it]"
     ]
    },
    {
     "name": "stdout",
     "output_type": "stream",
     "text": [
      "New best result found: Individual(genome=((((((x[0] - (x[0] * x[2])) * x[0]) - (x[0] * (x[0] * x[1]))) + (exp(x[0]) + x[1])) * ((x[0] + ((x[0] - ((x[0] * x[1]) * x[2])) + x[0])) + (x[1] + ((x[0] + ((x[0] * x[1]) + x[0])) + exp(x[0]))))) * ((((x[0] - (x[0] * x[2])) * x[0]) - (x[0] * (x[0] * x[1]))) + ((x[0] + ((x[0] - ((x[0] * x[1]) * x[2])) + x[0])) + exp(x[0])))), fitness=np.float64(27356215365061.625), fitness_val=np.float64(27500638379566.67), age=0, T=1)\n"
     ]
    },
    {
     "name": "stderr",
     "output_type": "stream",
     "text": [
      " 30%|██▉       | 179/600 [28:29<2:24:39, 20.62s/it]"
     ]
    },
    {
     "name": "stdout",
     "output_type": "stream",
     "text": [
      "New best result found: Individual(genome=((((((x[0] - (x[0] * x[2])) * x[0]) - (x[0] * (x[2] * x[1]))) + (exp(x[0]) + x[1])) * ((x[0] + ((x[0] - ((x[0] * x[1]) * x[2])) + x[0])) + (x[1] + ((x[0] + ((x[2] * x[1]) + x[0])) + exp(x[0]))))) * ((((x[0] - (x[0] * x[2])) * x[0]) - (x[0] * (x[0] * x[1]))) + ((x[0] + ((x[0] - ((x[0] * x[1]) * x[2])) + x[0])) + exp(x[0])))), fitness=np.float64(27480475647919.344), fitness_val=np.float64(27493515387845.445), age=0, T=1)\n"
     ]
    },
    {
     "name": "stderr",
     "output_type": "stream",
     "text": [
      " 30%|███       | 180/600 [28:46<2:15:07, 19.30s/it]"
     ]
    },
    {
     "name": "stdout",
     "output_type": "stream",
     "text": [
      "Initial: 603, Deduplicated: 54, Operation simplified: 0, Constant: 2, Complex: 7, Final: 540\n",
      "Population mean complexity: 90.41851851851852\n",
      "Population mean fitness: 2.9364443893934378e+128\n",
      "\n",
      "0. Fitness: 27480475647919.34375, Fitness_val = 27493515387845.44531, Genome: ((((((x[0] - (x[0] * x[2])) * x[0]) - (x[0] * (x[2] * x[1]))) + (exp(x[0]) + x[1])) * ((x[0] + ((x[0] - ((x[0] * x[1]) * x[2])) + x[0])) + (x[1] + ((x[0] + ((x[2] * x[1]) + x[0])) + exp(x[0]))))) * ((((x[0] - (x[0] * x[2])) * x[0]) - (x[0] * (x[0] * x[1]))) + ((x[0] + ((x[0] - ((x[0] * x[1]) * x[2])) + x[0])) + exp(x[0])))), Age: 0, Complexity: 96\n",
      "1. Fitness: 27356215365061.62500, Fitness_val = 27500638379566.67188, Genome: ((((((x[0] - (x[0] * x[2])) * x[0]) - (x[0] * (x[0] * x[1]))) + (exp(x[0]) + x[1])) * ((x[0] + ((x[0] - ((x[0] * x[1]) * x[2])) + x[0])) + (x[1] + ((x[0] + ((x[0] * x[1]) + x[0])) + exp(x[0]))))) * ((((x[0] - (x[0] * x[2])) * x[0]) - (x[0] * (x[0] * x[1]))) + ((x[0] + ((x[0] - ((x[0] * x[1]) * x[2])) + x[0])) + exp(x[0])))), Age: 0, Complexity: 96\n",
      "2. Fitness: 27440839228823.65625, Fitness_val = 27575387218067.22266, Genome: (((((((x[0] + x[0]) - (x[0] * x[2])) * x[0]) - (x[0] * (x[0] * x[1]))) + (exp(x[0]) + x[1])) * ((x[0] * x[1]) + ((x[0] + ((x[0] - ((x[0] * x[1]) * x[2])) + x[0])) + exp(x[0])))) * ((((x[0] - (x[0] * x[2])) * x[0]) - (x[0] * (x[0] * x[1]))) + exp(x[0]))), Age: 0, Complexity: 80\n",
      "3. Fitness: 27516269899412.14453, Fitness_val = 27621669345797.89062, Genome: ((((((x[0] - (x[0] * x[2])) * x[0]) - (x[0] * (x[0] * x[1]))) + (exp(x[0]) + x[1])) * ((x[0] + ((x[0] - ((x[0] * x[1]) * x[2])) + x[0])) + (x[1] + ((x[0] + ((x[0] - ((x[1] * x[1]) * x[2])) + x[0])) + exp(x[0]))))) * ((((x[0] - (x[0] * x[2])) * x[0]) - (x[0] * (x[0] * x[1]))) + ((x[1] + ((x[0] - ((x[0] * x[1]) * x[2])) + x[0])) + exp(x[0])))), Age: 2, Complexity: 100\n",
      "4. Fitness: 27428802625571.48438, Fitness_val = 27624888854381.10547, Genome: ((((((x[0] - (x[0] * x[2])) * x[0]) - (x[0] * (x[0] * x[1]))) + (exp(x[0]) + x[1])) * ((x[0] + ((x[0] - ((x[0] * x[1]) * x[2])) + x[0])) + (x[1] + ((x[0] + ((x[2] * x[1]) + x[0])) + exp(x[0]))))) * ((((x[0] - (x[0] * x[2])) * x[0]) - (x[0] * (x[0] * x[1]))) + ((x[0] + ((x[0] - ((x[0] * x[1]) * x[2])) + x[0])) + exp(x[0])))), Age: 4, Complexity: 96\n"
     ]
    },
    {
     "name": "stderr",
     "output_type": "stream",
     "text": [
      " 32%|███▎      | 195/600 [33:40<2:15:50, 20.12s/it]"
     ]
    },
    {
     "name": "stdout",
     "output_type": "stream",
     "text": [
      "Initial: 609, Deduplicated: 57, Operation simplified: 0, Constant: 2, Complex: 8, Final: 542\n",
      "Population mean complexity: 95.46863468634686\n",
      "Population mean fitness: 7.87565907464876e+131\n",
      "\n",
      "0. Fitness: 27480475647919.34375, Fitness_val = 27493515387845.44531, Genome: ((((((x[0] - (x[0] * x[2])) * x[0]) - (x[0] * (x[2] * x[1]))) + (exp(x[0]) + x[1])) * ((x[0] + ((x[0] - ((x[0] * x[1]) * x[2])) + x[0])) + (x[1] + ((x[0] + ((x[2] * x[1]) + x[0])) + exp(x[0]))))) * ((((x[0] - (x[0] * x[2])) * x[0]) - (x[0] * (x[0] * x[1]))) + ((x[0] + ((x[0] - ((x[0] * x[1]) * x[2])) + x[0])) + exp(x[0])))), Age: 0, Complexity: 96\n",
      "1. Fitness: 27356215365061.62500, Fitness_val = 27500638379566.67188, Genome: ((((((x[0] - (x[0] * x[2])) * x[0]) - (x[0] * (x[0] * x[1]))) + (exp(x[0]) + x[1])) * ((x[0] + ((x[0] - ((x[0] * x[1]) * x[2])) + x[0])) + (x[1] + ((x[0] + ((x[0] * x[1]) + x[0])) + exp(x[0]))))) * ((((x[0] - (x[0] * x[2])) * x[0]) - (x[0] * (x[0] * x[1]))) + ((x[0] + ((x[0] - ((x[0] * x[1]) * x[2])) + x[0])) + exp(x[0])))), Age: 0, Complexity: 96\n",
      "2. Fitness: 27379581276552.58594, Fitness_val = 27546451267306.72266, Genome: ((((((x[0] - (x[0] * x[2])) * x[0]) - (x[0] * (x[0] * x[1]))) + (exp(x[0]) - x[1])) * ((x[0] * x[1]) + (x[0] + ((x[2] + ((x[0] - ((x[0] * x[1]) * x[2])) + x[0])) + exp(x[0]))))) * ((((x[0] - (x[0] * x[2])) * x[0]) - (x[0] * (x[0] * x[1]))) + ((x[0] + ((x[0] - ((x[0] * x[1]) * x[2])) + x[0])) + exp(x[0])))), Age: 0, Complexity: 92\n",
      "3. Fitness: 27384715347059.09766, Fitness_val = 27568561051179.07031, Genome: ((((((x[0] - (x[0] * x[2])) * x[0]) - (x[0] * (x[0] * x[1]))) + (exp(x[0]) + x[1])) * ((x[0] + ((x[0] - ((x[0] * x[1]) * x[2])) + x[0])) + (x[2] + ((x[0] + (x[0] * x[2])) + exp(x[0]))))) * ((((x[0] - (x[0] * x[2])) * x[0]) - (x[0] * (x[0] * x[1]))) + ((x[0] + ((x[0] - ((x[0] * x[1]) * x[2])) + x[0])) + exp(x[0])))), Age: 2, Complexity: 94\n",
      "4. Fitness: 27440839228823.65625, Fitness_val = 27575387218067.22266, Genome: (((((((x[0] + x[0]) - (x[0] * x[2])) * x[0]) - (x[0] * (x[0] * x[1]))) + (exp(x[0]) + x[1])) * ((x[0] * x[1]) + ((x[0] + ((x[0] - ((x[0] * x[1]) * x[2])) + x[0])) + exp(x[0])))) * ((((x[0] - (x[0] * x[2])) * x[0]) - (x[0] * (x[0] * x[1]))) + exp(x[0]))), Age: 7, Complexity: 80\n"
     ]
    },
    {
     "name": "stderr",
     "output_type": "stream",
     "text": [
      " 33%|███▎      | 196/600 [34:00<2:14:57, 20.04s/it]"
     ]
    },
    {
     "name": "stdout",
     "output_type": "stream",
     "text": [
      "New best result found: Individual(genome=((((((x[0] - (x[0] * x[2])) * x[0]) - (x[0] * (x[0] * x[1]))) + (exp(x[0]) + x[1])) * ((x[0] + ((x[1] - ((x[0] * x[1]) * x[2])) + x[0])) + ((x[0] * x[1]) + ((x[0] + ((x[1] * x[1]) + x[0])) + exp(x[0]))))) * ((((x[0] - (x[0] * x[2])) * x[0]) - (x[0] * (x[0] * x[1]))) + ((x[0] + ((x[0] - ((x[0] * x[1]) * x[2])) + x[0])) + exp(x[0])))), fitness=np.float64(27317666609853.42), fitness_val=np.float64(27490854692448.848), age=0, T=1)\n"
     ]
    },
    {
     "name": "stderr",
     "output_type": "stream",
     "text": [
      " 33%|███▎      | 200/600 [35:20<2:11:28, 19.72s/it]"
     ]
    },
    {
     "name": "stdout",
     "output_type": "stream",
     "text": [
      "New best result found: Individual(genome=((((((x[0] - (x[0] * x[2])) * x[0]) - (x[0] * (x[0] * x[1]))) + (exp(x[0]) - x[1])) * ((x[0] + ((x[0] - ((x[0] * x[1]) * x[2])) + x[0])) + (x[0] + (((x[0] * x[1]) + ((x[0] - x[0]) + x[0])) + exp(x[0]))))) * ((((x[0] - (x[0] * x[2])) * x[0]) - (x[0] * (x[0] * x[1]))) + ((x[0] + ((x[0] - ((x[0] * x[1]) * x[2])) + x[0])) + exp(x[0])))), fitness=np.float64(27303048159369.457), fitness_val=np.float64(27485075326188.227), age=0, T=1)\n"
     ]
    },
    {
     "name": "stderr",
     "output_type": "stream",
     "text": [
      " 34%|███▍      | 204/600 [36:42<2:13:57, 20.30s/it]"
     ]
    },
    {
     "name": "stdout",
     "output_type": "stream",
     "text": [
      "New best result found: Individual(genome=((((((x[0] - (x[0] * x[2])) * x[0]) - (x[0] * (x[0] * x[1]))) + (exp(x[0]) - x[1])) * ((x[0] + (x[0] * x[1])) + (x[0] + (((x[0] * x[1]) + ((x[0] - ((x[0] * x[1]) * x[2])) + x[0])) + exp(x[0]))))) * ((((x[0] - (x[0] * x[2])) * x[0]) - (x[0] * (x[0] * x[1]))) + ((x[0] + ((x[0] - ((x[0] * x[1]) * x[2])) + x[0])) + exp(x[0])))), fitness=np.float64(27339492062239.066), fitness_val=np.float64(27447487118407.688), age=0, T=1)\n"
     ]
    },
    {
     "name": "stderr",
     "output_type": "stream",
     "text": [
      " 35%|███▍      | 209/600 [38:26<2:19:00, 21.33s/it]"
     ]
    },
    {
     "name": "stdout",
     "output_type": "stream",
     "text": [
      "Initial: 606, Deduplicated: 63, Operation simplified: 0, Constant: 0, Complex: 11, Final: 532\n",
      "Population mean complexity: 96.3796992481203\n",
      "Population mean fitness: 1.7543462237601154e+132\n",
      "\n",
      "0. Fitness: 27339492062239.06641, Fitness_val = 27447487118407.68750, Genome: ((((((x[0] - (x[0] * x[2])) * x[0]) - (x[0] * (x[0] * x[1]))) + (exp(x[0]) - x[1])) * ((x[0] + (x[0] * x[1])) + (x[0] + (((x[0] * x[1]) + ((x[0] - ((x[0] * x[1]) * x[2])) + x[0])) + exp(x[0]))))) * ((((x[0] - (x[0] * x[2])) * x[0]) - (x[0] * (x[0] * x[1]))) + ((x[0] + ((x[0] - ((x[0] * x[1]) * x[2])) + x[0])) + exp(x[0])))), Age: 0, Complexity: 96\n",
      "1. Fitness: 27303048159369.45703, Fitness_val = 27485075326188.22656, Genome: ((((((x[0] - (x[0] * x[2])) * x[0]) - (x[0] * (x[0] * x[1]))) + (exp(x[0]) - x[1])) * ((x[0] + ((x[0] - ((x[0] * x[1]) * x[2])) + x[0])) + (x[0] + (((x[0] * x[1]) + ((x[0] - x[0]) + x[0])) + exp(x[0]))))) * ((((x[0] - (x[0] * x[2])) * x[0]) - (x[0] * (x[0] * x[1]))) + ((x[0] + ((x[0] - ((x[0] * x[1]) * x[2])) + x[0])) + exp(x[0])))), Age: 0, Complexity: 98\n",
      "2. Fitness: 27317666609853.42188, Fitness_val = 27490854692448.84766, Genome: ((((((x[0] - (x[0] * x[2])) * x[0]) - (x[0] * (x[0] * x[1]))) + (exp(x[0]) + x[1])) * ((x[0] + ((x[1] - ((x[0] * x[1]) * x[2])) + x[0])) + ((x[0] * x[1]) + ((x[0] + ((x[1] * x[1]) + x[0])) + exp(x[0]))))) * ((((x[0] - (x[0] * x[2])) * x[0]) - (x[0] * (x[0] * x[1]))) + ((x[0] + ((x[0] - ((x[0] * x[1]) * x[2])) + x[0])) + exp(x[0])))), Age: 0, Complexity: 98\n",
      "3. Fitness: 27480475647919.34375, Fitness_val = 27493515387845.44531, Genome: ((((((x[0] - (x[0] * x[2])) * x[0]) - (x[0] * (x[2] * x[1]))) + (exp(x[0]) + x[1])) * ((x[0] + ((x[0] - ((x[0] * x[1]) * x[2])) + x[0])) + (x[1] + ((x[0] + ((x[2] * x[1]) + x[0])) + exp(x[0]))))) * ((((x[0] - (x[0] * x[2])) * x[0]) - (x[0] * (x[0] * x[1]))) + ((x[0] + ((x[0] - ((x[0] * x[1]) * x[2])) + x[0])) + exp(x[0])))), Age: 6, Complexity: 96\n",
      "4. Fitness: 27323899367323.48828, Fitness_val = 27495295130105.96094, Genome: ((((((x[0] - (x[0] * x[2])) * x[0]) - (x[0] * (x[0] * x[1]))) + (exp(x[0]) - x[1])) * ((x[0] * x[1]) + (x[0] + ((x[0] + ((x[0] - ((x[0] * x[1]) * x[2])) + x[0])) + exp(x[0]))))) * ((((x[0] - (x[0] * x[2])) * x[0]) - (x[0] * (x[0] * x[1]))) + ((x[0] + ((x[0] - ((x[0] * x[1]) * x[2])) + x[0])) + exp(x[0])))), Age: 10, Complexity: 92\n"
     ]
    },
    {
     "name": "stderr",
     "output_type": "stream",
     "text": [
      " 37%|███▋      | 224/600 [43:41<2:11:49, 21.04s/it]"
     ]
    },
    {
     "name": "stdout",
     "output_type": "stream",
     "text": [
      "Initial: 598, Deduplicated: 63, Operation simplified: 0, Constant: 3, Complex: 8, Final: 524\n",
      "Population mean complexity: 99.67175572519083\n",
      "Population mean fitness: 2.1170827710283958e+108\n",
      "\n"
     ]
    },
    {
     "name": "stderr",
     "output_type": "stream",
     "text": [
      " 38%|███▊      | 225/600 [44:03<2:14:42, 21.55s/it]"
     ]
    },
    {
     "name": "stdout",
     "output_type": "stream",
     "text": [
      "0. Fitness: 27339492062239.06641, Fitness_val = 27447487118407.68750, Genome: ((((((x[0] - (x[0] * x[2])) * x[0]) - (x[0] * (x[0] * x[1]))) + (exp(x[0]) - x[1])) * ((x[0] + (x[0] * x[1])) + (x[0] + (((x[0] * x[1]) + ((x[0] - ((x[0] * x[1]) * x[2])) + x[0])) + exp(x[0]))))) * ((((x[0] - (x[0] * x[2])) * x[0]) - (x[0] * (x[0] * x[1]))) + ((x[0] + ((x[0] - ((x[0] * x[1]) * x[2])) + x[0])) + exp(x[0])))), Age: 0, Complexity: 96\n",
      "1. Fitness: 27298632056928.06250, Fitness_val = 27453058239519.92969, Genome: ((((((x[0] - (x[0] * x[2])) * x[0]) - (x[0] * (x[0] * x[1]))) + (exp(x[0]) - x[1])) * ((x[0] + ((x[0] - ((x[0] * x[1]) * x[2])) + x[0])) + (x[0] + ((x[0] + ((x[0] - (x[0] - (x[0] * x[1]))) + x[0])) + exp(x[0]))))) * ((((x[0] - (x[0] * x[2])) * x[0]) - (x[0] * (x[0] * x[1]))) + ((x[0] + (((x[0] * x[1]) - ((x[0] * x[1]) * x[2])) + x[0])) + exp(x[0])))), Age: 0, Complexity: 102\n",
      "2. Fitness: 27296591304967.09766, Fitness_val = 27472252855182.22266, Genome: ((((((x[0] - (x[0] * x[2])) * x[0]) - (x[0] * (x[0] * x[1]))) + (exp(x[0]) - x[1])) * ((x[0] + ((x[0] - ((x[0] * x[1]) * x[2])) + x[0])) + (x[0] + ((x[0] + ((x[0] - (x[0] - (x[0] * x[2]))) + x[0])) + exp(x[0]))))) * ((((x[0] - (x[0] * x[2])) * x[0]) - (x[0] * (x[0] * x[1]))) + ((x[0] + (((x[0] * x[1]) - ((x[0] * x[1]) * x[2])) + x[0])) + exp(x[0])))), Age: 0, Complexity: 102\n",
      "3. Fitness: 27288264562254.17969, Fitness_val = 27482584773353.35156, Genome: ((((((x[0] - (x[0] * x[2])) * x[0]) - (x[0] * (x[0] * x[1]))) + (exp(x[0]) - x[1])) * ((x[0] + (((x[0] - ((x[0] * x[1]) * x[2])) + x[0]) + x[0])) + (x[0] + (((x[0] * x[1]) + ((x[0] - x[0]) + x[0])) + exp(x[0]))))) * ((((x[0] - (x[0] * x[2])) * x[0]) - (x[0] * (x[0] * x[1]))) + ((x[0] + ((x[0] - ((x[0] * x[1]) * x[2])) + x[0])) + exp(x[0])))), Age: 9, Complexity: 100\n",
      "4. Fitness: 27303048159369.45703, Fitness_val = 27485075326188.22656, Genome: ((((((x[0] - (x[0] * x[2])) * x[0]) - (x[0] * (x[0] * x[1]))) + (exp(x[0]) - x[1])) * ((x[0] + ((x[0] - ((x[0] * x[1]) * x[2])) + x[0])) + (x[0] + (((x[0] * x[1]) + ((x[0] - x[0]) + x[0])) + exp(x[0]))))) * ((((x[0] - (x[0] * x[2])) * x[0]) - (x[0] * (x[0] * x[1]))) + ((x[0] + ((x[0] - ((x[0] * x[1]) * x[2])) + x[0])) + exp(x[0])))), Age: 2, Complexity: 98\n"
     ]
    },
    {
     "name": "stderr",
     "output_type": "stream",
     "text": [
      " 40%|███▉      | 239/600 [49:06<2:08:29, 21.36s/it]"
     ]
    },
    {
     "name": "stdout",
     "output_type": "stream",
     "text": [
      "Initial: 608, Deduplicated: 45, Operation simplified: 0, Constant: 1, Complex: 13, Final: 549\n",
      "Population mean complexity: 100.85610200364299\n",
      "Population mean fitness: 1.0633113480867863e+109\n",
      "\n"
     ]
    },
    {
     "name": "stderr",
     "output_type": "stream",
     "text": [
      " 40%|████      | 240/600 [49:27<2:09:01, 21.50s/it]"
     ]
    },
    {
     "name": "stdout",
     "output_type": "stream",
     "text": [
      "0. Fitness: 27339492062239.06641, Fitness_val = 27447487118407.68750, Genome: ((((((x[0] - (x[0] * x[2])) * x[0]) - (x[0] * (x[0] * x[1]))) + (exp(x[0]) - x[1])) * ((x[0] + (x[0] * x[1])) + (x[0] + (((x[0] * x[1]) + ((x[0] - ((x[0] * x[1]) * x[2])) + x[0])) + exp(x[0]))))) * ((((x[0] - (x[0] * x[2])) * x[0]) - (x[0] * (x[0] * x[1]))) + ((x[0] + ((x[0] - ((x[0] * x[1]) * x[2])) + x[0])) + exp(x[0])))), Age: 0, Complexity: 96\n",
      "1. Fitness: 27298632056928.06250, Fitness_val = 27453058239519.92969, Genome: ((((((x[0] - (x[0] * x[2])) * x[0]) - (x[0] * (x[0] * x[1]))) + (exp(x[0]) - x[1])) * ((x[0] + ((x[0] - ((x[0] * x[1]) * x[2])) + x[0])) + (x[0] + ((x[0] + ((x[0] - (x[0] - (x[0] * x[1]))) + x[0])) + exp(x[0]))))) * ((((x[0] - (x[0] * x[2])) * x[0]) - (x[0] * (x[0] * x[1]))) + ((x[0] + (((x[0] * x[1]) - ((x[0] * x[1]) * x[2])) + x[0])) + exp(x[0])))), Age: 0, Complexity: 102\n",
      "2. Fitness: 27296591304967.09766, Fitness_val = 27472252855182.22266, Genome: ((((((x[0] - (x[0] * x[2])) * x[0]) - (x[0] * (x[0] * x[1]))) + (exp(x[0]) - x[1])) * ((x[0] + ((x[0] - ((x[0] * x[1]) * x[2])) + x[0])) + (x[0] + ((x[0] + ((x[0] - (x[0] - (x[0] * x[2]))) + x[0])) + exp(x[0]))))) * ((((x[0] - (x[0] * x[2])) * x[0]) - (x[0] * (x[0] * x[1]))) + ((x[0] + (((x[0] * x[1]) - ((x[0] * x[1]) * x[2])) + x[0])) + exp(x[0])))), Age: 0, Complexity: 102\n",
      "3. Fitness: 27298184398612.42578, Fitness_val = 27500309703282.47266, Genome: ((((((x[0] - (x[0] * x[2])) * x[0]) - (x[0] * (x[0] * x[1]))) + (exp(x[0]) - x[1])) * ((x[0] + ((x[0] + ((x[0] - ((x[0] * x[1]) * x[2])) + x[0])) + x[0])) + (x[0] + ((x[0] + (x[0] * x[1])) + exp(x[0]))))) * ((((x[0] - (x[0] * x[2])) * x[0]) - (x[0] * (x[0] * x[1]))) + ((x[0] + ((x[2] - ((x[0] * x[1]) * x[2])) + x[0])) + exp(x[0])))), Age: 15, Complexity: 98\n",
      "4. Fitness: 27290340909939.82422, Fitness_val = 27534763978469.41406, Genome: ((((((x[0] - (x[0] * x[2])) * x[0]) - (x[0] * (x[0] * x[1]))) + (exp(x[0]) - x[1])) * ((x[0] + (((x[0] * x[1]) - ((x[0] * x[1]) * x[2])) + x[0])) + (x[0] + ((x[0] + ((x[0] - (x[0] - (x[0] * x[2]))) + x[0])) + exp(x[0]))))) * ((((x[0] - (x[0] * x[2])) * x[0]) - (x[0] * (x[0] * x[1]))) + ((x[0] + (((x[0] * x[1]) - ((x[0] * x[1]) * x[2])) + ((x[0] - ((x[0] * x[1]) * x[2])) + x[0]))) + exp(x[0])))), Age: 14, Complexity: 112\n"
     ]
    },
    {
     "name": "stderr",
     "output_type": "stream",
     "text": [
      " 40%|████      | 241/600 [49:52<2:14:22, 22.46s/it]"
     ]
    },
    {
     "name": "stdout",
     "output_type": "stream",
     "text": [
      "New best result found: Individual(genome=((((((x[0] - (x[0] * x[2])) * x[0]) - (x[0] * (x[0] * x[1]))) + ((x[0] + ((((x[0] + ((x[0] - x[2]) + x[0])) + x[0]) - ((x[0] * x[1]) * x[2])) + x[2])) + exp(x[0]))) * ((x[0] + ((x[0] + ((x[0] - ((x[0] * x[1]) * x[2])) + x[0])) + x[0])) + (x[0] + ((x[0] + ((x[0] - ((x[0] * x[1]) * x[2])) + x[0])) + exp(x[0]))))) * ((((x[0] - (x[0] * x[2])) * x[0]) - (x[0] * (x[0] * x[1]))) + ((x[0] + ((x[2] - ((x[0] * x[1]) * x[2])) + x[0])) + x[0]))), fitness=np.float64(26742905346682.17), fitness_val=np.float64(27355124440974.207), age=0, T=1)\n"
     ]
    },
    {
     "name": "stderr",
     "output_type": "stream",
     "text": [
      " 41%|████      | 244/600 [51:03<2:16:29, 23.00s/it]"
     ]
    },
    {
     "name": "stdout",
     "output_type": "stream",
     "text": [
      "New best result found: Individual(genome=((((((x[0] - (x[0] * x[2])) * x[0]) - x[1]) + ((x[0] + ((((x[0] + ((x[0] - x[2]) + x[0])) + x[0]) - ((x[0] * x[1]) * x[2])) + x[2])) + exp(x[0]))) * ((x[0] + ((x[0] + ((x[0] - ((x[0] * x[1]) * x[2])) + x[0])) + x[0])) + (x[0] + ((x[0] + ((x[0] - ((x[0] * x[1]) * x[2])) + x[0])) + exp(x[0]))))) * ((((x[0] - (x[0] * x[2])) * x[0]) - (x[0] * (x[0] * x[1]))) + ((x[0] + ((x[2] - ((x[0] * x[1]) * x[2])) + x[0])) + x[0]))), fitness=np.float64(27067723631591.1), fitness_val=np.float64(27267956601684.996), age=0, T=1)\n"
     ]
    },
    {
     "name": "stderr",
     "output_type": "stream",
     "text": [
      " 42%|████▏     | 250/600 [53:22<2:14:53, 23.12s/it]"
     ]
    },
    {
     "name": "stdout",
     "output_type": "stream",
     "text": [
      "New best result found: Individual(genome=((((((x[0] - (x[0] * x[2])) * x[0]) - (x[0] * (x[0] * x[1]))) + ((x[0] + ((((x[0] + ((x[0] - ((x[0] * x[1]) * x[2])) + x[0])) + x[0]) - ((x[0] * x[1]) * x[2])) + x[2])) + exp(x[0]))) * ((x[0] + ((x[0] + ((x[0] - ((x[0] * x[1]) * x[2])) + x[0])) + x[0])) + (x[0] + (((x[0] + ((x[0] - ((x[0] * x[0]) * x[2])) + x[0])) + x[0]) + exp(x[0]))))) * ((((x[0] - (x[0] * x[2])) * x[0]) - (x[0] * (x[0] * x[1]))) + ((x[0] + ((x[2] - ((x[0] * x[1]) * x[2])) + x[0])) + x[0]))), fitness=np.float64(26520868859851.71), fitness_val=np.float64(27070682649604.637), age=0, T=1)\n",
      "New best result found: Individual(genome=((((((x[0] - (x[0] * x[2])) * x[0]) - (x[0] * (x[0] * x[1]))) + ((x[0] + ((((x[0] + (((((x[0] + ((x[0] - x[2]) + x[0])) + x[0]) - ((x[0] * x[1]) * x[2])) + x[2]) + x[0])) + x[0]) - ((x[0] * x[1]) * x[2])) + x[2])) + exp(x[0]))) * ((x[0] + ((x[0] + ((x[0] - ((x[0] * x[1]) * x[2])) + x[0])) + x[0])) + (x[0] + (((x[0] + ((x[0] - ((x[0] * x[0]) * x[2])) + x[0])) + x[0]) + exp(x[0]))))) * ((((x[0] - (x[0] * x[2])) * x[0]) - (x[0] * (x[0] * x[1]))) + ((x[0] + ((x[2] - ((x[0] * x[1]) * x[2])) + x[0])) + x[0]))), fitness=np.float64(26406136690918.227), fitness_val=np.float64(26917497988168.11), age=0, T=1)\n"
     ]
    },
    {
     "name": "stderr",
     "output_type": "stream",
     "text": [
      " 42%|████▏     | 252/600 [54:11<2:17:15, 23.67s/it]"
     ]
    },
    {
     "name": "stdout",
     "output_type": "stream",
     "text": [
      "New best result found: Individual(genome=((((((x[0] - (x[0] * x[2])) * x[0]) - (x[0] * (x[0] * x[1]))) + ((x[0] + ((((x[0] + (((((x[0] + ((x[0] - x[2]) + x[0])) + x[0]) - ((x[0] * x[1]) * x[2])) + x[2]) + x[0])) + x[0]) - ((x[0] * x[1]) * x[2])) + x[2])) + exp(x[0]))) * ((x[0] + ((x[0] + ((x[0] - ((x[0] * x[1]) * x[2])) + x[0])) + x[0])) + (x[0] + (((x[0] + ((x[0] - ((x[0] * x[0]) * x[2])) + x[0])) + x[0]) + exp(x[0]))))) * ((((x[0] - (x[0] * x[2])) * x[0]) - (x[0] * (x[0] * x[1]))) + ((x[0] + ((x[0] - ((x[0] * x[1]) * x[2])) + x[0])) + x[0]))), fitness=np.float64(26327812594141.773), fitness_val=np.float64(26823432975053.625), age=0, T=1)\n"
     ]
    },
    {
     "name": "stderr",
     "output_type": "stream",
     "text": [
      " 42%|████▏     | 254/600 [55:06<2:27:57, 25.66s/it]"
     ]
    },
    {
     "name": "stdout",
     "output_type": "stream",
     "text": [
      "Initial: 613, Deduplicated: 68, Operation simplified: 0, Constant: 1, Complex: 16, Final: 528\n",
      "Population mean complexity: 105.89204545454545\n",
      "Population mean fitness: 1.44727024188906e+129\n",
      "\n",
      "0. Fitness: 26327812594141.77344, Fitness_val = 26823432975053.62500, Genome: ((((((x[0] - (x[0] * x[2])) * x[0]) - (x[0] * (x[0] * x[1]))) + ((x[0] + ((((x[0] + (((((x[0] + ((x[0] - x[2]) + x[0])) + x[0]) - ((x[0] * x[1]) * x[2])) + x[2]) + x[0])) + x[0]) - ((x[0] * x[1]) * x[2])) + x[2])) + exp(x[0]))) * ((x[0] + ((x[0] + ((x[0] - ((x[0] * x[1]) * x[2])) + x[0])) + x[0])) + (x[0] + (((x[0] + ((x[0] - ((x[0] * x[0]) * x[2])) + x[0])) + x[0]) + exp(x[0]))))) * ((((x[0] - (x[0] * x[2])) * x[0]) - (x[0] * (x[0] * x[1]))) + ((x[0] + ((x[0] - ((x[0] * x[1]) * x[2])) + x[0])) + x[0]))), Age: 0, Complexity: 129\n",
      "1. Fitness: 26540815767741.52734, Fitness_val = 26836039214930.77734, Genome: ((((((x[0] - (x[0] * x[2])) * x[0]) - (x[0] * (x[0] * x[1]))) + ((x[0] + ((((x[0] + (((((x[0] + ((x[0] - x[2]) + x[0])) + x[0]) - ((x[0] * x[1]) - x[2])) + x[2]) + x[0])) + x[0]) - ((x[0] * x[1]) * x[2])) + x[2])) + exp(x[0]))) * ((x[0] + ((x[0] + ((x[0] - ((x[0] * x[1]) * x[2])) + x[0])) + x[0])) + (x[0] + (((x[0] + ((x[0] - ((x[0] * x[0]) * x[2])) + x[0])) + x[0]) + exp(x[0]))))) * ((((x[0] - (x[0] * x[2])) * x[0]) - (x[0] * (x[0] * x[1]))) + ((x[0] + ((x[0] - ((x[0] * x[1]) * x[2])) + x[0])) + x[0]))), Age: 0, Complexity: 129\n",
      "2. Fitness: 26406136690918.22656, Fitness_val = 26917497988168.10938, Genome: ((((((x[0] - (x[0] * x[2])) * x[0]) - (x[0] * (x[0] * x[1]))) + ((x[0] + ((((x[0] + (((((x[0] + ((x[0] - x[2]) + x[0])) + x[0]) - ((x[0] * x[1]) * x[2])) + x[2]) + x[0])) + x[0]) - ((x[0] * x[1]) * x[2])) + x[2])) + exp(x[0]))) * ((x[0] + ((x[0] + ((x[0] - ((x[0] * x[1]) * x[2])) + x[0])) + x[0])) + (x[0] + (((x[0] + ((x[0] - ((x[0] * x[0]) * x[2])) + x[0])) + x[0]) + exp(x[0]))))) * ((((x[0] - (x[0] * x[2])) * x[0]) - (x[0] * (x[0] * x[1]))) + ((x[0] + ((x[2] - ((x[0] * x[1]) * x[2])) + x[0])) + x[0]))), Age: 0, Complexity: 129\n",
      "3. Fitness: 26401978393085.88672, Fitness_val = 26998878331244.64062, Genome: ((((((x[0] - (x[0] * x[2])) * x[0]) - (x[0] * (x[0] * x[1]))) + ((x[0] + ((((x[0] + (((((x[0] + ((x[0] * x[2]) + x[0])) + x[0]) - ((x[0] * x[1]) * x[2])) + x[2]) + x[0])) + x[0]) - ((x[0] * x[1]) * x[2])) + x[2])) + exp(x[0]))) * ((x[0] + ((x[0] + ((x[0] - ((x[0] * x[1]) * x[2])) + x[0])) + x[0])) + (x[0] + (((x[0] + ((x[0] - ((x[0] * x[0]) * x[2])) + x[0])) + x[0]) + exp(x[0]))))) * ((((x[0] - (x[0] * x[2])) * x[0]) - (x[0] * (x[0] * x[1]))) + ((x[0] + ((x[2] - ((x[0] * x[1]) * x[2])) + x[0])) + x[0]))), Age: 0, Complexity: 129\n",
      "4. Fitness: 26485377297761.21094, Fitness_val = 27065841579493.48828, Genome: ((((((x[0] - (x[0] * x[2])) * x[0]) - (x[0] * (x[0] * x[1]))) + ((x[0] + ((((x[0] + (((((x[0] + ((x[0] * x[2]) + x[0])) + x[0]) - ((x[0] * x[1]) * x[2])) + x[2]) + x[0])) + x[0]) - ((x[0] * x[1]) * x[2])) + x[2])) + exp(x[0]))) * ((x[0] + ((x[1] + ((x[0] - ((x[0] * x[1]) * x[2])) + x[0])) + x[0])) + (x[0] + (((x[0] + ((x[0] - ((x[0] * x[0]) * x[2])) + x[0])) + x[0]) + exp(x[0]))))) * ((((x[0] - (x[0] * x[2])) * x[0]) - (x[0] * (x[0] * x[1]))) + ((x[0] + ((x[2] - ((x[0] * x[1]) * x[2])) + x[0])) + x[0]))), Age: 1, Complexity: 129\n"
     ]
    },
    {
     "name": "stderr",
     "output_type": "stream",
     "text": [
      " 44%|████▎     | 261/600 [58:23<2:39:31, 28.24s/it]"
     ]
    },
    {
     "name": "stdout",
     "output_type": "stream",
     "text": [
      "New best result found: Individual(genome=((((((x[0] - (x[0] * x[2])) * x[0]) - (x[0] * (x[0] * x[1]))) + ((x[0] + ((((x[0] + (((((x[0] + ((x[0] - x[2]) + x[0])) + x[0]) - ((x[0] * x[1]) * x[2])) + x[2]) + x[0])) + x[0]) - ((x[0] * x[1]) * x[2])) + ((x[0] * x[1]) * x[2]))) + exp(x[0]))) * ((x[0] + ((x[0] + ((x[0] - ((x[0] * x[1]) * x[2])) + x[0])) + x[0])) + (x[0] + (((x[0] + ((x[0] - ((x[0] * x[0]) * x[2])) + x[0])) + x[0]) + exp(x[0]))))) * ((((x[0] - (x[0] * x[2])) * x[0]) - (x[0] * (x[0] * x[1]))) + ((x[0] + ((x[0] - ((x[0] * x[1]) * x[2])) + x[0])) + x[0]))), fitness=np.float64(26525364779212.12), fitness_val=np.float64(26788196244875.15), age=0, T=1)\n"
     ]
    },
    {
     "name": "stderr",
     "output_type": "stream",
     "text": [
      " 44%|████▍     | 266/600 [1:00:43<2:40:25, 28.82s/it]"
     ]
    },
    {
     "name": "stdout",
     "output_type": "stream",
     "text": [
      "New best result found: Individual(genome=((((((x[0] - (x[0] * x[2])) * x[0]) - (x[0] * (x[0] * x[1]))) + ((x[0] + ((((x[0] + (((((x[0] + ((x[0] - x[2]) + x[0])) + x[0]) - ((x[0] * x[1]) * x[2])) + x[2]) + (x[0] + ((((x[0] + ((x[0] - ((x[0] * x[1]) * x[2])) + x[0])) + x[0]) - x[0]) + x[2])))) + x[0]) - x[1]) + x[2])) + exp(x[0]))) * ((x[0] + ((x[0] + ((x[0] - ((x[0] * x[1]) * x[2])) + x[0])) + x[0])) + (x[0] + (((x[0] + ((x[0] - ((x[0] * x[0]) * x[2])) + x[0])) + x[0]) + exp(x[0]))))) * ((((x[0] - (x[0] * x[2])) * x[0]) - (x[0] * (x[0] * x[1]))) + ((x[0] + ((x[0] - ((x[0] * x[1]) * x[2])) + x[0])) + x[0]))), fitness=np.float64(26225664005343.7), fitness_val=np.float64(26699553220091.453), age=0, T=1)\n"
     ]
    },
    {
     "name": "stderr",
     "output_type": "stream",
     "text": [
      " 44%|████▍     | 267/600 [1:01:14<2:42:21, 29.25s/it]"
     ]
    },
    {
     "name": "stdout",
     "output_type": "stream",
     "text": [
      "New best result found: Individual(genome=((((((x[0] - (x[0] * x[2])) * x[0]) - (x[0] * (x[0] * x[1]))) + ((x[0] + ((((x[0] + (((((x[0] + ((x[0] - x[2]) + x[0])) + x[0]) - ((x[0] * x[1]) * x[2])) + x[0]) + (x[0] + ((((x[0] + ((x[0] - ((x[0] * x[1]) * x[2])) + x[0])) + x[0]) - x[0]) + x[2])))) + x[0]) - x[1]) + x[2])) + exp(x[0]))) * ((x[0] + ((x[0] + ((x[0] - ((x[0] * x[1]) * x[2])) + x[0])) + x[0])) + (x[0] + (((x[0] + ((x[0] - ((x[0] * x[0]) * x[2])) + x[0])) + x[0]) + exp(x[0]))))) * ((((x[0] - (x[0] * x[2])) * x[0]) - (x[0] * (x[0] * x[1]))) + ((x[0] + ((x[0] - ((x[0] * x[1]) * x[2])) + x[0])) + x[0]))), fitness=np.float64(26191643643212.61), fitness_val=np.float64(26663489508388.68), age=0, T=1)\n"
     ]
    },
    {
     "name": "stderr",
     "output_type": "stream",
     "text": [
      " 45%|████▍     | 269/600 [1:02:11<2:39:16, 28.87s/it]"
     ]
    },
    {
     "name": "stdout",
     "output_type": "stream",
     "text": [
      "Initial: 603, Deduplicated: 55, Operation simplified: 0, Constant: 1, Complex: 30, Final: 517\n",
      "Population mean complexity: 118.03675048355899\n",
      "Population mean fitness: 3.1513011725062123e+23\n",
      "\n"
     ]
    },
    {
     "name": "stderr",
     "output_type": "stream",
     "text": [
      " 45%|████▌     | 270/600 [1:02:41<2:40:31, 29.19s/it]"
     ]
    },
    {
     "name": "stdout",
     "output_type": "stream",
     "text": [
      "0. Fitness: 26191643643212.60938, Fitness_val = 26663489508388.67969, Genome: ((((((x[0] - (x[0] * x[2])) * x[0]) - (x[0] * (x[0] * x[1]))) + ((x[0] + ((((x[0] + (((((x[0] + ((x[0] - x[2]) + x[0])) + x[0]) - ((x[0] * x[1]) * x[2])) + x[0]) + (x[0] + ((((x[0] + ((x[0] - ((x[0] * x[1]) * x[2])) + x[0])) + x[0]) - x[0]) + x[2])))) + x[0]) - x[1]) + x[2])) + exp(x[0]))) * ((x[0] + ((x[0] + ((x[0] - ((x[0] * x[1]) * x[2])) + x[0])) + x[0])) + (x[0] + (((x[0] + ((x[0] - ((x[0] * x[0]) * x[2])) + x[0])) + x[0]) + exp(x[0]))))) * ((((x[0] - (x[0] * x[2])) * x[0]) - (x[0] * (x[0] * x[1]))) + ((x[0] + ((x[0] - ((x[0] * x[1]) * x[2])) + x[0])) + x[0]))), Age: 0, Complexity: 143\n",
      "1. Fitness: 26225664005343.69922, Fitness_val = 26699553220091.45312, Genome: ((((((x[0] - (x[0] * x[2])) * x[0]) - (x[0] * (x[0] * x[1]))) + ((x[0] + ((((x[0] + (((((x[0] + ((x[0] - x[2]) + x[0])) + x[0]) - ((x[0] * x[1]) * x[2])) + x[2]) + (x[0] + ((((x[0] + ((x[0] - ((x[0] * x[1]) * x[2])) + x[0])) + x[0]) - x[0]) + x[2])))) + x[0]) - x[1]) + x[2])) + exp(x[0]))) * ((x[0] + ((x[0] + ((x[0] - ((x[0] * x[1]) * x[2])) + x[0])) + x[0])) + (x[0] + (((x[0] + ((x[0] - ((x[0] * x[0]) * x[2])) + x[0])) + x[0]) + exp(x[0]))))) * ((((x[0] - (x[0] * x[2])) * x[0]) - (x[0] * (x[0] * x[1]))) + ((x[0] + ((x[0] - ((x[0] * x[1]) * x[2])) + x[0])) + x[0]))), Age: 0, Complexity: 143\n",
      "2. Fitness: 26265018368303.47266, Fitness_val = 26731238071839.50391, Genome: ((((((x[0] - (x[0] * x[2])) * x[0]) - (x[0] * (x[0] * x[1]))) + ((x[0] + ((((x[0] + (((((x[0] + ((x[0] - x[2]) + x[0])) + x[0]) - x[0]) + x[2]) + (x[0] + ((((x[0] + ((x[0] - ((x[0] * x[1]) * x[2])) + x[0])) + x[0]) - x[0]) + x[2])))) + x[0]) - ((x[0] * x[1]) * x[2])) + x[2])) + exp(x[0]))) * ((x[0] + ((x[0] + ((x[0] - ((x[0] * x[1]) * x[2])) + x[0])) + x[0])) + (x[0] + (((x[0] + ((x[0] - ((x[0] * x[0]) * x[2])) + x[0])) + x[0]) + exp(x[0]))))) * ((((x[0] - (x[0] * x[2])) * x[0]) - (x[0] * (x[0] * x[1]))) + ((x[0] + ((x[0] - ((x[0] * x[1]) * x[2])) + x[0])) + x[0]))), Age: 0, Complexity: 143\n",
      "3. Fitness: 26264207888299.67188, Fitness_val = 26743981509965.55078, Genome: ((((((x[0] - (x[0] * x[2])) * x[0]) - (x[0] * (x[0] * x[1]))) + ((x[0] + ((((x[0] + (((((x[0] + ((x[0] - x[2]) + x[0])) + x[0]) - ((x[0] * x[1]) * x[2])) + x[2]) + (x[0] + ((((x[0] + ((x[0] - ((x[0] * x[1]) * x[2])) + x[0])) + x[0]) - x[0]) + x[2])))) + x[0]) - x[1]) + x[2])) + exp(x[0]))) * ((x[0] + ((x[0] + ((x[0] - ((x[0] * x[1]) * x[2])) + x[0])) + x[2])) + (x[0] + (((x[0] + ((x[0] - ((x[0] * x[0]) * x[2])) + x[0])) + x[0]) + exp(x[0]))))) * ((((x[0] - (x[0] * x[2])) * x[0]) - (x[0] * (x[0] * x[1]))) + ((x[0] + ((x[0] - ((x[0] * x[1]) * x[2])) + x[0])) + x[0]))), Age: 1, Complexity: 143\n",
      "4. Fitness: 26557962345279.39062, Fitness_val = 26778532731167.05469, Genome: ((((((x[0] - (x[0] * x[2])) * x[0]) - (x[0] * (x[0] * x[1]))) + ((x[0] + ((((x[0] + (((((x[0] + ((x[0] - x[2]) + x[0])) + x[0]) - (x[0] * x[2])) + x[2]) + (x[0] + ((((x[0] + ((x[0] - ((x[0] * x[1]) * x[2])) + x[0])) + x[0]) - x[0]) + x[2])))) + x[0]) - x[1]) + x[2])) + exp(x[0]))) * ((x[0] + ((x[0] + ((x[0] - ((x[0] * x[1]) * x[2])) + x[0])) + x[0])) + (x[0] + (((x[0] + ((x[0] - ((x[0] * x[0]) * x[2])) + x[0])) + x[0]) + exp(x[0]))))) * ((((x[0] - (x[0] * x[2])) * x[0]) - (x[0] * (x[0] * x[1]))) + ((x[0] + ((x[0] - ((x[0] * x[1]) * x[2])) + x[0])) + x[0]))), Age: 1, Complexity: 141\n"
     ]
    },
    {
     "name": "stderr",
     "output_type": "stream",
     "text": [
      " 46%|████▌     | 273/600 [1:04:09<2:39:17, 29.23s/it]"
     ]
    },
    {
     "name": "stdout",
     "output_type": "stream",
     "text": [
      "New best result found: Individual(genome=((((((x[0] - (x[0] * x[2])) * x[0]) - (x[0] * (x[0] * x[1]))) + ((x[0] + ((((x[0] + (((((x[0] + ((x[0] - x[2]) + x[0])) + x[0]) - ((x[0] * x[1]) * x[2])) + x[0]) + (x[0] + ((((x[0] + ((x[0] - ((x[0] * x[1]) * x[2])) + x[0])) + x[0]) - x[0]) + x[2])))) + x[0]) - x[1]) + x[2])) + exp(x[0]))) * ((x[0] + ((x[0] + (x[0] + ((x[0] + ((x[0] - ((x[0] * x[1]) * x[2])) + x[0])) + x[0]))) + x[0])) + (x[0] + (((x[0] + ((x[0] - ((x[0] * x[0]) * x[2])) + x[0])) + x[0]) + exp(x[0]))))) * ((((x[0] - (x[0] * x[2])) * x[0]) - (x[0] * (x[0] * x[1]))) + ((x[0] + ((x[0] - ((x[0] * x[1]) * x[2])) + x[0])) + x[0]))), fitness=np.float64(26092836452963.016), fitness_val=np.float64(26503876553787.89), age=0, T=1)\n"
     ]
    },
    {
     "name": "stderr",
     "output_type": "stream",
     "text": [
      " 47%|████▋     | 281/600 [1:08:29<3:00:09, 33.89s/it]"
     ]
    },
    {
     "name": "stdout",
     "output_type": "stream",
     "text": [
      "New best result found: Individual(genome=((((((x[0] - (x[0] * x[2])) * x[0]) - (x[0] * (x[0] * x[1]))) + ((x[0] + ((((x[0] + (((((x[0] + ((x[0] - x[2]) + x[0])) + x[0]) - ((x[0] * x[1]) * x[2])) + x[2]) + (x[0] + ((((x[0] + ((x[0] - ((x[0] * x[1]) * x[2])) + x[0])) + x[0]) - x[0]) + x[2])))) + x[0]) - x[1]) + x[2])) + exp(x[0]))) * ((x[0] + ((x[0] + ((x[0] - ((x[0] * x[1]) * x[2])) + x[0])) + x[0])) + (x[0] + (((x[0] + ((x[0] - ((x[0] * x[0]) * x[2])) + x[0])) + x[0]) + exp(x[0]))))) * ((((x[2] - (x[0] * x[2])) * x[0]) - (x[0] * (x[0] * x[1]))) + ((x[0] + ((x[0] - x[1]) + x[0])) + ((((x[0] + ((x[0] - x[2]) + x[0])) + x[0]) - ((x[0] * x[1]) * x[2])) + x[2])))), fitness=np.float64(25815285946382.04), fitness_val=np.float64(26461507081874.15), age=0, T=1)\n"
     ]
    },
    {
     "name": "stderr",
     "output_type": "stream",
     "text": [
      " 47%|████▋     | 283/600 [1:09:40<3:02:22, 34.52s/it]"
     ]
    },
    {
     "name": "stdout",
     "output_type": "stream",
     "text": [
      "New best result found: Individual(genome=((((((x[0] - (x[0] * x[2])) * x[0]) - (x[0] * (x[0] * x[1]))) + ((x[0] + ((((x[0] + (((((x[0] + ((x[0] - x[2]) + x[0])) + x[0]) - ((x[0] * x[1]) * x[2])) + x[0]) + (x[0] + ((((x[0] + ((x[0] - ((x[0] * x[1]) * x[2])) + x[0])) + x[0]) - x[0]) + x[2])))) + x[0]) - x[1]) + x[2])) + exp(x[0]))) * ((x[0] + ((x[0] + (x[0] + (((x[0] + ((x[0] - x[1]) + x[0])) + ((x[0] - ((x[0] * x[1]) * x[2])) + x[2])) + x[0]))) + x[0])) + (x[0] + (((x[0] + ((x[0] - ((x[0] * x[0]) * x[2])) + x[0])) + x[0]) + exp(x[0]))))) * ((((x[0] - (x[0] * x[2])) * x[0]) - (x[0] * (x[0] * x[1]))) + ((x[0] + ((x[0] - ((x[0] * x[1]) * x[2])) + x[0])) + x[0]))), fitness=np.float64(26030240862683.824), fitness_val=np.float64(26448390525175.61), age=0, T=1)\n"
     ]
    },
    {
     "name": "stderr",
     "output_type": "stream",
     "text": [
      " 47%|████▋     | 284/600 [1:10:17<3:06:04, 35.33s/it]"
     ]
    },
    {
     "name": "stdout",
     "output_type": "stream",
     "text": [
      "Initial: 608, Deduplicated: 61, Operation simplified: 0, Constant: 2, Complex: 97, Final: 448\n",
      "Population mean complexity: 128.125\n",
      "Population mean fitness: 49722522210861.76\n",
      "\n"
     ]
    },
    {
     "name": "stderr",
     "output_type": "stream",
     "text": [
      " 48%|████▊     | 285/600 [1:10:57<3:12:29, 36.66s/it]"
     ]
    },
    {
     "name": "stdout",
     "output_type": "stream",
     "text": [
      "0. Fitness: 26092836452963.01562, Fitness_val = 26503876553787.89062, Genome: ((((((x[0] - (x[0] * x[2])) * x[0]) - (x[0] * (x[0] * x[1]))) + ((x[0] + ((((x[0] + (((((x[0] + ((x[0] - x[2]) + x[0])) + x[0]) - ((x[0] * x[1]) * x[2])) + x[0]) + (x[0] + ((((x[0] + ((x[0] - ((x[0] * x[1]) * x[2])) + x[0])) + x[0]) - x[0]) + x[2])))) + x[0]) - x[1]) + x[2])) + exp(x[0]))) * ((x[0] + ((x[0] + (x[0] + ((x[0] + ((x[0] - ((x[0] * x[1]) * x[2])) + x[0])) + x[0]))) + x[0])) + (x[0] + (((x[0] + ((x[0] - ((x[0] * x[0]) * x[2])) + x[0])) + x[0]) + exp(x[0]))))) * ((((x[0] - (x[0] * x[2])) * x[0]) - (x[0] * (x[0] * x[1]))) + ((x[0] + ((x[0] - ((x[0] * x[1]) * x[2])) + x[0])) + x[0]))), Age: 0, Complexity: 149\n",
      "1. Fitness: 26119360696736.14844, Fitness_val = 26534338502080.58594, Genome: ((((((x[0] - (x[0] * x[2])) * x[0]) - (x[0] * (x[0] * x[1]))) + ((x[0] + ((((x[0] + (((((x[0] + ((x[0] - x[2]) + x[0])) + x[0]) - ((x[0] * x[1]) * x[2])) + x[0]) + (x[0] + ((((x[0] + ((x[0] - ((x[0] * x[1]) * x[2])) + x[0])) + x[0]) - x[0]) + x[2])))) + x[0]) - x[1]) + x[2])) + exp(x[0]))) * ((x[0] + ((x[0] + (x[0] + ((x[0] + ((x[0] - ((x[0] * x[1]) * x[2])) + x[2])) + x[0]))) + x[0])) + (x[0] + (((x[0] + ((x[0] - ((x[0] * x[0]) * x[2])) + x[0])) + x[0]) + exp(x[0]))))) * ((((x[0] - (x[0] * x[2])) * x[0]) - (x[0] * (x[0] * x[1]))) + ((x[0] + ((x[0] - ((x[0] * x[1]) * x[2])) + x[0])) + x[0]))), Age: 0, Complexity: 149\n",
      "2. Fitness: 26161312890109.28125, Fitness_val = 26550838178145.16406, Genome: ((((((x[0] - (x[0] * x[2])) * x[0]) - (x[0] * (x[0] * x[1]))) + ((x[0] + ((((x[0] + (((((x[0] + ((x[0] - x[2]) + x[0])) + x[0]) - ((x[0] * x[1]) * x[2])) + x[0]) + (x[0] + ((((x[0] + ((x[0] - ((x[0] * x[1]) * x[2])) + x[0])) + x[0]) - x[0]) + x[2])))) + x[0]) - x[1]) + x[2])) + exp(x[0]))) * ((x[0] + ((x[0] + (x[0] + ((x[0] + ((x[0] - ((x[0] * x[1]) * x[2])) + x[0])) + x[0]))) + x[1])) + (x[0] + (((x[0] + ((x[0] - ((x[0] * x[0]) * x[2])) + x[0])) + x[0]) + exp(x[0]))))) * ((((x[0] - (x[0] * x[2])) * x[0]) - (x[0] * (x[0] * x[1]))) + ((x[0] + ((x[0] - ((x[0] * x[1]) * x[2])) + x[0])) + x[0]))), Age: 0, Complexity: 149\n",
      "3. Fitness: 26101186843075.53125, Fitness_val = 26554319019557.16016, Genome: ((((((x[0] - (x[0] * x[2])) * x[0]) - (x[0] * (x[0] * x[1]))) + ((x[0] + ((((x[0] + (((((x[0] + ((x[0] - x[2]) + x[0])) + x[0]) - ((x[0] * x[1]) * x[2])) + x[2]) + (x[0] + ((((x[0] + ((x[0] - ((x[0] * x[1]) * x[2])) + x[0])) + x[0]) - x[0]) + x[2])))) + x[0]) - x[1]) + x[2])) + exp(x[0]))) * ((x[0] + ((x[0] + ((x[0] - ((x[0] * x[1]) * x[2])) + x[0])) + x[0])) + (x[0] + (((x[0] + ((x[0] - ((x[0] * x[0]) * x[2])) + x[0])) + x[0]) + exp(x[0]))))) * ((((x[0] - (x[0] * x[2])) * x[0]) - (x[0] * (x[0] * x[1]))) + ((x[0] + ((x[0] + ((x[0] - ((x[0] * x[1]) * x[2])) + x[0])) + x[0])) + x[0]))), Age: 0, Complexity: 147\n",
      "4. Fitness: 26157734957142.59766, Fitness_val = 26563489440689.27344, Genome: ((((((x[0] - (x[0] * x[2])) * x[0]) - (x[0] * (x[0] * x[1]))) + ((x[0] + ((((x[0] + (((((x[0] + ((x[0] - x[2]) + x[1])) + x[0]) - ((x[0] * x[1]) * x[2])) + x[0]) + (x[0] + ((((x[0] + ((x[0] - ((x[0] * x[1]) * x[2])) + x[0])) + x[0]) - x[0]) + x[2])))) + x[0]) - x[1]) + x[2])) + exp(x[0]))) * ((x[0] + ((x[0] + (x[0] + ((x[0] + ((x[0] - ((x[0] * x[1]) * x[2])) + x[2])) + x[0]))) + x[0])) + (x[0] + (((x[0] + ((x[0] - ((x[0] * x[0]) * x[2])) + x[0])) + x[0]) + exp(x[0]))))) * ((((x[0] - (x[0] * x[2])) * x[0]) - (x[0] * (x[0] * x[1]))) + ((x[0] + ((x[0] - ((x[0] * x[1]) * x[2])) + x[0])) + x[0]))), Age: 1, Complexity: 149\n"
     ]
    },
    {
     "name": "stderr",
     "output_type": "stream",
     "text": [
      " 49%|████▊     | 292/600 [1:14:46<2:55:44, 34.23s/it]"
     ]
    },
    {
     "name": "stdout",
     "output_type": "stream",
     "text": [
      "New best result found: Individual(genome=((((((x[0] - (x[0] + x[2])) * x[0]) - (x[0] * (x[0] * x[1]))) + ((x[0] + ((((x[0] + (((((x[0] + ((x[0] - x[2]) + x[0])) + x[0]) - ((x[0] * x[1]) * x[2])) + x[0]) + (x[0] + ((((x[0] + ((x[0] + (((((x[0] + ((x[0] - x[2]) + x[0])) + x[0]) - ((x[0] * x[1]) * x[2])) + x[0]) + (x[0] + ((((x[0] + ((x[0] - ((x[0] * x[1]) * x[2])) + x[0])) + x[0]) - x[0]) + x[2])))) + x[0])) + x[0]) - x[0]) + x[2])))) + x[0]) - x[1]) + x[2])) + exp(x[0]))) * ((x[0] + ((x[0] + ((x[0] - ((x[0] * x[1]) * x[2])) + x[0])) + x[0])) + (x[0] + (((x[0] + ((x[0] - ((x[0] * x[0]) * x[2])) + x[0])) + x[0]) + exp(x[0]))))) * ((((x[0] - (x[0] * x[2])) * x[0]) - (x[0] * (x[0] * x[1]))) + ((x[0] + ((x[0] - ((x[0] * x[1]) * x[2])) + x[0])) + x[0]))), fitness=np.float64(25956402954482.504), fitness_val=np.float64(26385495790701.633), age=0, T=1)\n"
     ]
    },
    {
     "name": "stderr",
     "output_type": "stream",
     "text": [
      " 50%|████▉     | 299/600 [1:18:51<2:59:21, 35.75s/it]"
     ]
    },
    {
     "name": "stdout",
     "output_type": "stream",
     "text": [
      "Initial: 583, Deduplicated: 51, Operation simplified: 0, Constant: 1, Complex: 176, Final: 355\n",
      "Population mean complexity: 132.54929577464787\n",
      "Population mean fitness: 39644837347833.484\n",
      "\n"
     ]
    },
    {
     "name": "stderr",
     "output_type": "stream",
     "text": [
      " 50%|█████     | 300/600 [1:19:29<3:00:53, 36.18s/it]"
     ]
    },
    {
     "name": "stdout",
     "output_type": "stream",
     "text": [
      "0. Fitness: 26092836452963.01562, Fitness_val = 26503876553787.89062, Genome: ((((((x[0] - (x[0] * x[2])) * x[0]) - (x[0] * (x[0] * x[1]))) + ((x[0] + ((((x[0] + (((((x[0] + ((x[0] - x[2]) + x[0])) + x[0]) - ((x[0] * x[1]) * x[2])) + x[0]) + (x[0] + ((((x[0] + ((x[0] - ((x[0] * x[1]) * x[2])) + x[0])) + x[0]) - x[0]) + x[2])))) + x[0]) - x[1]) + x[2])) + exp(x[0]))) * ((x[0] + ((x[0] + (x[0] + ((x[0] + ((x[0] - ((x[0] * x[1]) * x[2])) + x[0])) + x[0]))) + x[0])) + (x[0] + (((x[0] + ((x[0] - ((x[0] * x[0]) * x[2])) + x[0])) + x[0]) + exp(x[0]))))) * ((((x[0] - (x[0] * x[2])) * x[0]) - (x[0] * (x[0] * x[1]))) + ((x[0] + ((x[0] - ((x[0] * x[1]) * x[2])) + x[0])) + x[0]))), Age: 0, Complexity: 149\n",
      "1. Fitness: 25888250452988.08984, Fitness_val = 26512882570196.12109, Genome: ((((((x[0] - (x[0] * x[2])) * x[0]) - (x[0] * (x[0] * x[1]))) + ((x[0] + ((((x[0] + (((((x[0] + ((x[0] - x[2]) + x[0])) + x[0]) - ((x[0] * x[1]) * x[2])) + x[2]) + (x[0] + ((((x[0] + ((x[0] - ((x[0] * x[1]) * x[2])) + x[0])) + x[0]) - x[0]) + x[1])))) + x[0]) - x[1]) + x[2])) + exp(x[0]))) * ((x[0] + ((x[0] + ((x[0] - ((x[0] * x[1]) * x[2])) + x[0])) + x[0])) + (x[0] + (((x[0] + ((x[0] - ((x[0] * x[0]) * x[2])) + x[0])) + x[0]) + exp(x[0]))))) * ((((x[2] - (x[0] * x[2])) * x[0]) - (x[0] * (x[0] * x[1]))) + (x[0] + ((((x[0] + ((x[0] - x[2]) + x[0])) + x[0]) - ((x[0] * x[1]) * x[2])) + x[0])))), Age: 0, Complexity: 149\n",
      "2. Fitness: 26303234095862.46484, Fitness_val = 26527329411069.00781, Genome: ((((((x[0] - (x[0] * x[2])) * x[0]) - (x[0] * (x[0] * x[1]))) + ((x[0] + ((((x[0] + (((((x[0] + ((x[0] - x[2]) + x[0])) + x[0]) - ((x[0] * x[1]) * x[2])) + x[0]) + (x[0] + ((((x[0] + ((x[0] - (x[0] * x[0])) + x[0])) + x[0]) - x[0]) + x[2])))) + x[0]) - x[1]) + x[2])) + exp(x[0]))) * ((x[0] + ((x[0] + (x[0] + ((x[0] + ((x[0] - ((x[0] * x[1]) * x[2])) + x[2])) + x[0]))) + x[0])) + (x[0] + (((x[0] + ((x[0] - ((x[0] * x[0]) * x[2])) + x[0])) + x[0]) + exp(x[0]))))) * ((((x[0] - (x[0] * x[2])) * x[0]) - (x[0] * (x[0] * x[1]))) + ((x[0] + ((x[0] - ((x[0] * x[1]) * x[2])) + x[0])) + x[0]))), Age: 0, Complexity: 147\n",
      "3. Fitness: 26119360696736.14844, Fitness_val = 26534338502080.58594, Genome: ((((((x[0] - (x[0] * x[2])) * x[0]) - (x[0] * (x[0] * x[1]))) + ((x[0] + ((((x[0] + (((((x[0] + ((x[0] - x[2]) + x[0])) + x[0]) - ((x[0] * x[1]) * x[2])) + x[0]) + (x[0] + ((((x[0] + ((x[0] - ((x[0] * x[1]) * x[2])) + x[0])) + x[0]) - x[0]) + x[2])))) + x[0]) - x[1]) + x[2])) + exp(x[0]))) * ((x[0] + ((x[0] + (x[0] + ((x[0] + ((x[0] - ((x[0] * x[1]) * x[2])) + x[2])) + x[0]))) + x[0])) + (x[0] + (((x[0] + ((x[0] - ((x[0] * x[0]) * x[2])) + x[0])) + x[0]) + exp(x[0]))))) * ((((x[0] - (x[0] * x[2])) * x[0]) - (x[0] * (x[0] * x[1]))) + ((x[0] + ((x[0] - ((x[0] * x[1]) * x[2])) + x[0])) + x[0]))), Age: 8, Complexity: 149\n",
      "4. Fitness: 26124050595774.82422, Fitness_val = 26535593495723.30859, Genome: ((((((x[0] - (x[0] * x[2])) * x[0]) - (x[0] * (x[0] * x[1]))) + ((x[0] + ((((x[0] + (((((x[0] + ((x[0] - x[2]) + x[0])) + x[0]) - ((x[0] * x[1]) * x[2])) + x[0]) + (x[2] + ((((x[0] + ((x[0] - ((x[0] * x[1]) * x[2])) + x[0])) + x[0]) - x[0]) + x[2])))) + x[0]) - x[1]) + x[2])) + exp(x[0]))) * ((x[0] + ((x[0] + (x[0] + ((x[0] + ((x[0] - ((x[0] * x[1]) * x[2])) + x[0])) + x[0]))) + x[0])) + (x[0] + (((x[0] + ((x[0] - ((x[0] * x[0]) * x[2])) + x[0])) + x[0]) + exp(x[0]))))) * ((((x[0] - (x[0] * x[2])) * x[0]) - (x[0] * (x[0] * x[1]))) + ((x[0] + ((x[0] - ((x[0] * x[1]) * x[2])) + x[0])) + x[0]))), Age: 9, Complexity: 149\n",
      "New best result found: Individual(genome=((((((x[0] - (x[0] * x[2])) * x[0]) - (x[0] * (x[0] * x[1]))) + ((x[0] + ((((x[0] + (((((x[0] + ((x[0] - x[2]) + x[0])) + x[0]) - ((x[0] * x[1]) * x[2])) + x[2]) + (x[0] + ((((x[0] + ((x[0] - ((x[0] * x[1]) * x[2])) + x[0])) + x[0]) - x[0]) + x[1])))) + x[0]) - x[1]) + x[2])) + exp(x[0]))) * ((x[0] + ((x[0] + ((x[0] - ((x[0] * x[1]) * x[2])) + x[0])) + x[0])) + (x[0] + (((x[0] + ((x[0] - ((x[0] * x[0]) * x[2])) + x[0])) + x[0]) + exp(x[0]))))) * ((((x[2] - (x[0] * x[2])) * x[0]) - (x[0] * (x[0] * x[1]))) + (x[0] + (((((x[0] + (((((x[0] + ((x[0] - x[2]) + x[0])) + x[0]) - ((x[0] * x[1]) * x[2])) + x[2]) + x[0])) + x[0]) - x[1]) + x[2]) + x[0])))), fitness=np.float64(25649947406181.207), fitness_val=np.float64(26268022447669.96), age=0, T=1)\n"
     ]
    },
    {
     "name": "stderr",
     "output_type": "stream",
     "text": [
      " 50%|█████     | 302/600 [1:20:43<3:02:04, 36.66s/it]"
     ]
    },
    {
     "name": "stdout",
     "output_type": "stream",
     "text": [
      "New best result found: Individual(genome=((((((x[0] - (x[0] * x[2])) * x[0]) - (x[0] * (x[0] * x[1]))) + ((x[0] + ((((x[0] + (((((x[0] + ((x[0] - x[2]) + x[0])) + x[0]) - ((x[0] * x[1]) * x[2])) + x[2]) + (x[0] + ((((x[0] + ((x[0] - ((x[0] * x[1]) * x[2])) + x[0])) + x[0]) - x[0]) + x[1])))) + x[0]) - x[1]) + x[2])) + exp(x[0]))) * ((x[0] + ((x[0] + ((x[0] - ((x[0] * x[1]) * x[2])) + x[0])) + x[0])) + (x[0] + (((x[0] + ((x[0] - ((x[0] * x[0]) * x[2])) + x[0])) + x[0]) + exp(x[0]))))) * ((((x[1] - (x[0] * x[2])) * x[0]) - (x[0] * (x[0] * x[1]))) + (x[0] + (((((x[0] + (((((x[0] + ((x[0] - x[2]) + x[0])) + x[0]) - ((x[0] * x[1]) * x[2])) + x[2]) + x[0])) + x[0]) - x[1]) + x[2]) + x[0])))), fitness=np.float64(25942085373288.066), fitness_val=np.float64(26242546427177.395), age=0, T=1)\n"
     ]
    },
    {
     "name": "stderr",
     "output_type": "stream",
     "text": [
      " 52%|█████▏    | 311/600 [1:25:48<2:42:33, 33.75s/it]"
     ]
    },
    {
     "name": "stdout",
     "output_type": "stream",
     "text": [
      "New best result found: Individual(genome=((((((x[0] - (x[0] * x[2])) * x[0]) - (x[0] * (x[0] * x[1]))) + ((x[0] + ((((x[0] + (((((x[0] + ((x[0] - x[2]) + x[0])) + x[0]) - ((x[0] * x[1]) * x[2])) + x[2]) + (x[0] + ((((x[0] + ((x[0] - ((x[0] * x[1]) * x[2])) + x[0])) + x[0]) - x[0]) + x[1])))) + x[0]) - x[1]) + x[2])) + exp(x[0]))) * ((x[0] + ((x[0] + ((((((x[0] + (((((x[0] + ((x[0] - x[2]) + x[0])) + x[0]) - ((x[0] * x[1]) * x[2])) + x[2]) + x[0])) + x[0]) - x[1]) + x[2]) + x[0]) + x[0])) + x[0])) + (x[0] + (((x[0] + ((x[0] - ((x[0] * x[0]) * x[2])) + x[0])) + x[0]) + exp(x[0]))))) * ((((x[2] - (x[0] * x[2])) * x[0]) - (x[0] * (x[0] * x[1]))) + (x[0] + (((((x[0] + (((((x[0] + ((x[0] - x[2]) + x[0])) + x[0]) - ((x[0] * x[1]) * x[2])) + x[2]) + x[0])) + x[0]) - x[1]) + x[2]) + x[0])))), fitness=np.float64(25279263637688.312), fitness_val=np.float64(25861873514484.152), age=0, T=1)\n"
     ]
    },
    {
     "name": "stderr",
     "output_type": "stream",
     "text": [
      " 52%|█████▏    | 313/600 [1:27:09<2:58:43, 37.36s/it]"
     ]
    },
    {
     "name": "stdout",
     "output_type": "stream",
     "text": [
      "New best result found: Individual(genome=((((((x[0] - (x[0] * x[2])) * x[0]) - (x[0] * (x[0] * x[1]))) + ((x[0] + ((((x[0] + (((((x[0] + ((x[0] - x[2]) + x[0])) + x[0]) - ((x[0] * x[1]) * x[2])) + x[0]) + (x[0] + ((((x[0] + ((x[0] - ((x[0] * x[1]) * x[2])) + x[0])) + x[0]) - x[0]) + x[1])))) + x[0]) - x[1]) + x[2])) + exp(x[0]))) * ((x[0] + ((x[0] + ((((((x[0] + (((((x[0] + ((x[0] - x[2]) + x[0])) + x[0]) - ((x[0] * x[1]) * x[2])) + x[2]) + x[0])) + x[0]) - x[1]) + x[2]) + x[0]) + x[0])) + x[0])) + (x[0] + (((x[0] + ((x[0] - ((x[0] * x[0]) * x[2])) + x[0])) + x[0]) + exp(x[0]))))) * ((((x[2] - (x[0] * x[2])) * x[0]) - (x[0] * (x[0] * x[1]))) + (x[0] + (((((x[0] + (((((x[0] + ((x[0] - x[2]) + x[0])) + x[0]) - ((x[0] * x[1]) * x[2])) + x[2]) + x[0])) + x[0]) - x[1]) + x[2]) + x[0])))), fitness=np.float64(25213759093466.152), fitness_val=np.float64(25802352573244.32), age=0, T=1)\n"
     ]
    },
    {
     "name": "stderr",
     "output_type": "stream",
     "text": [
      " 52%|█████▎    | 315/600 [1:28:18<2:49:30, 35.69s/it]"
     ]
    },
    {
     "name": "stdout",
     "output_type": "stream",
     "text": [
      "Initial: 558, Deduplicated: 49, Operation simplified: 0, Constant: 1, Complex: 265, Final: 243\n",
      "Population mean complexity: 134.7283950617284\n",
      "Population mean fitness: 33844831688566.3\n",
      "\n",
      "0. Fitness: 26145267164206.02344, Fitness_val = 26464735213453.49219, Genome: ((((((x[0] - (x[0] * x[2])) * x[0]) - (x[0] * (x[0] * x[1]))) + ((x[0] + ((((x[0] + (((((x[0] + ((x[0] - x[2]) + x[0])) + x[0]) - ((x[0] * x[1]) * x[2])) + x[2]) + (x[0] + (x[0] + x[1])))) + x[0]) - x[1]) + x[2])) + exp(x[0]))) * ((x[0] + ((x[0] + ((x[0] - ((x[0] * x[1]) * x[2])) + x[0])) + x[0])) + (x[0] + (((x[0] + ((x[0] - ((x[0] * x[0]) * x[2])) + x[2])) + x[0]) + exp(x[0]))))) * ((((x[2] - (x[0] * x[2])) * x[0]) - (x[0] * (x[0] * x[1]))) + (x[0] + (((((x[0] + (((((x[0] + ((x[0] - x[2]) + x[0])) + x[0]) - ((x[0] * x[1]) * x[2])) + x[2]) + x[0])) + x[0]) - x[1]) + x[2]) + x[0])))), Age: 0, Complexity: 147\n",
      "1. Fitness: 26145422248498.37891, Fitness_val = 26466979875681.32031, Genome: ((((((x[0] - (x[0] * x[2])) * x[0]) - (x[0] * (x[0] * x[1]))) + ((x[0] + ((((x[0] + (((((x[0] + ((x[0] - x[2]) + x[0])) + x[0]) - ((x[0] * x[1]) * x[2])) + x[2]) + (x[0] + ((((x[0] + ((x[0] - x[2]) + x[0])) + x[0]) - x[0]) + x[1])))) + x[0]) - x[1]) + x[2])) + exp(x[0]))) * ((x[0] + ((x[0] + ((x[0] - ((x[0] * x[1]) * x[2])) + x[0])) + x[0])) + (x[0] + (((x[0] + ((x[0] - ((x[0] * x[0]) * x[2])) + x[0])) + x[0]) + exp(x[0]))))) * ((((x[2] - (x[0] * x[2])) * x[0]) - (x[0] * (x[0] * x[1]))) + (x[0] + ((((x[0] + ((x[0] - x[2]) + x[0])) + x[0]) - ((x[0] * x[1]) * x[2])) + x[0])))), Age: 0, Complexity: 145\n",
      "2. Fitness: 26164733271876.43359, Fitness_val = 26476404588202.74609, Genome: ((((((x[0] - (x[0] * x[2])) * x[0]) - (x[0] * (x[0] * x[1]))) + ((x[0] + ((((x[0] + ((x[0] + x[2]) + (x[0] + ((((x[0] + ((x[0] - ((x[0] * x[1]) * x[2])) + x[0])) + x[0]) - x[0]) + x[1])))) + x[0]) - x[1]) + x[2])) + exp(x[0]))) * ((x[0] + ((x[0] + ((x[0] - ((x[0] * x[1]) * x[2])) + x[0])) + x[0])) + (x[0] + (((x[0] + ((x[0] - ((x[0] * x[0]) * x[2])) + x[0])) + x[0]) + exp(x[0]))))) * ((((x[2] - (x[0] * x[2])) * x[0]) - (x[0] * (x[0] * x[1]))) + (x[0] + (((((x[0] + (((((x[0] + ((x[0] - x[2]) + x[0])) + x[0]) - ((x[0] * x[1]) * x[2])) + x[2]) + x[0])) + x[0]) - x[1]) + x[2]) + x[0])))), Age: 0, Complexity: 147\n",
      "3. Fitness: 26173270315216.60547, Fitness_val = 26502711543695.03125, Genome: ((((((x[0] - (x[0] * x[2])) * x[0]) - (x[0] * (x[0] * x[1]))) + ((x[0] + ((((x[0] + (((x[0] + ((x[0] - x[2]) + x[0])) + x[0]) - ((x[0] * x[1]) * x[2]))) + x[0]) - x[1]) + x[2])) + exp(x[0]))) * ((x[0] + ((x[0] + ((x[0] - ((x[0] * x[1]) * x[2])) + x[0])) + x[0])) + (x[0] + (((x[0] + ((x[0] - ((x[0] * x[0]) * x[2])) + x[0])) + x[0]) + exp(x[0]))))) * ((((x[2] - (x[0] * x[2])) * x[0]) - (x[0] * (x[0] * x[1]))) + (x[0] + (((((x[0] + (((((x[0] + ((x[0] - x[2]) + x[0])) + x[0]) - ((x[0] * x[1]) * x[2])) + x[2]) + x[0])) + x[0]) - x[1]) + x[2]) + x[0])))), Age: 11, Complexity: 139\n",
      "4. Fitness: 26092836452963.01562, Fitness_val = 26503876553787.89062, Genome: ((((((x[0] - (x[0] * x[2])) * x[0]) - (x[0] * (x[0] * x[1]))) + ((x[0] + ((((x[0] + (((((x[0] + ((x[0] - x[2]) + x[0])) + x[0]) - ((x[0] * x[1]) * x[2])) + x[0]) + (x[0] + ((((x[0] + ((x[0] - ((x[0] * x[1]) * x[2])) + x[0])) + x[0]) - x[0]) + x[2])))) + x[0]) - x[1]) + x[2])) + exp(x[0]))) * ((x[0] + ((x[0] + (x[0] + ((x[0] + ((x[0] - ((x[0] * x[1]) * x[2])) + x[0])) + x[0]))) + x[0])) + (x[0] + (((x[0] + ((x[0] - ((x[0] * x[0]) * x[2])) + x[0])) + x[0]) + exp(x[0]))))) * ((((x[0] - (x[0] * x[2])) * x[0]) - (x[0] * (x[0] * x[1]))) + ((x[0] + ((x[0] - ((x[0] * x[1]) * x[2])) + x[0])) + x[0]))), Age: 12, Complexity: 149\n"
     ]
    },
    {
     "name": "stderr",
     "output_type": "stream",
     "text": [
      " 55%|█████▌    | 330/600 [1:37:23<2:56:42, 39.27s/it]"
     ]
    },
    {
     "name": "stdout",
     "output_type": "stream",
     "text": [
      "Initial: 564, Deduplicated: 50, Operation simplified: 0, Constant: 2, Complex: 248, Final: 264\n",
      "Population mean complexity: 133.29545454545453\n",
      "Population mean fitness: 30902741691341.996\n",
      "\n",
      "0. Fitness: 26068541293115.29688, Fitness_val = 26395595430511.77344, Genome: ((((((x[0] - (x[0] * x[2])) * x[0]) - (x[0] * (x[0] * x[1]))) + ((x[0] + ((((x[0] + (((((x[0] + ((x[0] - x[2]) + x[0])) + x[0]) - ((x[0] * x[1]) * x[2])) + x[0]) + (x[0] + ((((x[0] + ((x[0] - x[2]) + x[0])) + x[0]) - x[0]) + x[1])))) + x[0]) - x[1]) + x[2])) + exp(x[0]))) * ((x[0] + ((x[0] + ((x[0] - ((x[0] * x[1]) * x[2])) + x[0])) + x[0])) + (x[0] + (((x[0] + ((x[0] - ((x[0] * x[0]) * x[2])) + x[0])) + x[0]) + exp(x[0]))))) * ((((x[2] - (x[0] * x[2])) * x[0]) - (x[0] * (x[0] * x[1]))) + (x[0] + ((((x[0] + ((x[0] - x[2]) + x[0])) + x[0]) - ((x[0] * x[1]) * x[2])) + x[0])))), Age: 0, Complexity: 145\n",
      "1. Fitness: 26145267164206.02344, Fitness_val = 26464735213453.49219, Genome: ((((((x[0] - (x[0] * x[2])) * x[0]) - (x[0] * (x[0] * x[1]))) + ((x[0] + ((((x[0] + (((((x[0] + ((x[0] - x[2]) + x[0])) + x[0]) - ((x[0] * x[1]) * x[2])) + x[2]) + (x[0] + (x[0] + x[1])))) + x[0]) - x[1]) + x[2])) + exp(x[0]))) * ((x[0] + ((x[0] + ((x[0] - ((x[0] * x[1]) * x[2])) + x[0])) + x[0])) + (x[0] + (((x[0] + ((x[0] - ((x[0] * x[0]) * x[2])) + x[2])) + x[0]) + exp(x[0]))))) * ((((x[2] - (x[0] * x[2])) * x[0]) - (x[0] * (x[0] * x[1]))) + (x[0] + (((((x[0] + (((((x[0] + ((x[0] - x[2]) + x[0])) + x[0]) - ((x[0] * x[1]) * x[2])) + x[2]) + x[0])) + x[0]) - x[1]) + x[2]) + x[0])))), Age: 0, Complexity: 147\n",
      "2. Fitness: 26145422248498.37891, Fitness_val = 26466979875681.32031, Genome: ((((((x[0] - (x[0] * x[2])) * x[0]) - (x[0] * (x[0] * x[1]))) + ((x[0] + ((((x[0] + (((((x[0] + ((x[0] - x[2]) + x[0])) + x[0]) - ((x[0] * x[1]) * x[2])) + x[2]) + (x[0] + ((((x[0] + ((x[0] - x[2]) + x[0])) + x[0]) - x[0]) + x[1])))) + x[0]) - x[1]) + x[2])) + exp(x[0]))) * ((x[0] + ((x[0] + ((x[0] - ((x[0] * x[1]) * x[2])) + x[0])) + x[0])) + (x[0] + (((x[0] + ((x[0] - ((x[0] * x[0]) * x[2])) + x[0])) + x[0]) + exp(x[0]))))) * ((((x[2] - (x[0] * x[2])) * x[0]) - (x[0] * (x[0] * x[1]))) + (x[0] + ((((x[0] + ((x[0] - x[2]) + x[0])) + x[0]) - ((x[0] * x[1]) * x[2])) + x[0])))), Age: 0, Complexity: 145\n",
      "3. Fitness: 26164733271876.43359, Fitness_val = 26476404588202.74609, Genome: ((((((x[0] - (x[0] * x[2])) * x[0]) - (x[0] * (x[0] * x[1]))) + ((x[0] + ((((x[0] + ((x[0] + x[2]) + (x[0] + ((((x[0] + ((x[0] - ((x[0] * x[1]) * x[2])) + x[0])) + x[0]) - x[0]) + x[1])))) + x[0]) - x[1]) + x[2])) + exp(x[0]))) * ((x[0] + ((x[0] + ((x[0] - ((x[0] * x[1]) * x[2])) + x[0])) + x[0])) + (x[0] + (((x[0] + ((x[0] - ((x[0] * x[0]) * x[2])) + x[0])) + x[0]) + exp(x[0]))))) * ((((x[2] - (x[0] * x[2])) * x[0]) - (x[0] * (x[0] * x[1]))) + (x[0] + (((((x[0] + (((((x[0] + ((x[0] - x[2]) + x[0])) + x[0]) - ((x[0] * x[1]) * x[2])) + x[2]) + x[0])) + x[0]) - x[1]) + x[2]) + x[0])))), Age: 13, Complexity: 147\n",
      "4. Fitness: 26220229555463.39844, Fitness_val = 26524836939977.84766, Genome: ((((((x[0] - (x[0] * x[2])) * x[0]) - (x[0] * (x[0] * x[1]))) + ((x[0] + ((((x[0] + (((((x[0] + ((x[0] - x[2]) + x[0])) + x[0]) - ((x[0] * x[1]) * x[2])) + x[2]) + (x[0] + ((((x[0] + x[0]) + x[0]) - x[0]) + x[1])))) + x[0]) - x[0]) + x[2])) + exp(x[0]))) * ((x[0] + ((x[0] + ((x[0] - ((x[0] * x[1]) * x[2])) + x[0])) + x[0])) + (x[0] + (((x[0] + ((x[0] - ((x[0] * x[0]) * x[2])) + x[0])) + x[0]) + exp(x[0]))))) * ((((x[2] - (x[0] * x[2])) * x[0]) - (x[0] * (x[0] * x[1]))) + (x[0] + ((((((x[0] + ((x[0] - x[2]) + x[0])) + x[0]) - ((x[0] * x[1]) * x[2])) + x[2]) + x[0]) + x[0])))), Age: 9, Complexity: 145\n"
     ]
    },
    {
     "name": "stderr",
     "output_type": "stream",
     "text": [
      " 57%|█████▊    | 345/600 [1:46:17<2:44:51, 38.79s/it]"
     ]
    },
    {
     "name": "stdout",
     "output_type": "stream",
     "text": [
      "Initial: 564, Deduplicated: 53, Operation simplified: 0, Constant: 1, Complex: 182, Final: 328\n",
      "Population mean complexity: 132.95731707317074\n",
      "Population mean fitness: 52279807659874.8\n",
      "\n",
      "0. Fitness: 26068541293115.29688, Fitness_val = 26395595430511.77344, Genome: ((((((x[0] - (x[0] * x[2])) * x[0]) - (x[0] * (x[0] * x[1]))) + ((x[0] + ((((x[0] + (((((x[0] + ((x[0] - x[2]) + x[0])) + x[0]) - ((x[0] * x[1]) * x[2])) + x[0]) + (x[0] + ((((x[0] + ((x[0] - x[2]) + x[0])) + x[0]) - x[0]) + x[1])))) + x[0]) - x[1]) + x[2])) + exp(x[0]))) * ((x[0] + ((x[0] + ((x[0] - ((x[0] * x[1]) * x[2])) + x[0])) + x[0])) + (x[0] + (((x[0] + ((x[0] - ((x[0] * x[0]) * x[2])) + x[0])) + x[0]) + exp(x[0]))))) * ((((x[2] - (x[0] * x[2])) * x[0]) - (x[0] * (x[0] * x[1]))) + (x[0] + ((((x[0] + ((x[0] - x[2]) + x[0])) + x[0]) - ((x[0] * x[1]) * x[2])) + x[0])))), Age: 0, Complexity: 145\n",
      "1. Fitness: 26145267164206.02344, Fitness_val = 26464735213453.49219, Genome: ((((((x[0] - (x[0] * x[2])) * x[0]) - (x[0] * (x[0] * x[1]))) + ((x[0] + ((((x[0] + (((((x[0] + ((x[0] - x[2]) + x[0])) + x[0]) - ((x[0] * x[1]) * x[2])) + x[2]) + (x[0] + (x[0] + x[1])))) + x[0]) - x[1]) + x[2])) + exp(x[0]))) * ((x[0] + ((x[0] + ((x[0] - ((x[0] * x[1]) * x[2])) + x[0])) + x[0])) + (x[0] + (((x[0] + ((x[0] - ((x[0] * x[0]) * x[2])) + x[2])) + x[0]) + exp(x[0]))))) * ((((x[2] - (x[0] * x[2])) * x[0]) - (x[0] * (x[0] * x[1]))) + (x[0] + (((((x[0] + (((((x[0] + ((x[0] - x[2]) + x[0])) + x[0]) - ((x[0] * x[1]) * x[2])) + x[2]) + x[0])) + x[0]) - x[1]) + x[2]) + x[0])))), Age: 0, Complexity: 147\n",
      "2. Fitness: 26145422248498.37891, Fitness_val = 26466979875681.32031, Genome: ((((((x[0] - (x[0] * x[2])) * x[0]) - (x[0] * (x[0] * x[1]))) + ((x[0] + ((((x[0] + (((((x[0] + ((x[0] - x[2]) + x[0])) + x[0]) - ((x[0] * x[1]) * x[2])) + x[2]) + (x[0] + ((((x[0] + ((x[0] - x[2]) + x[0])) + x[0]) - x[0]) + x[1])))) + x[0]) - x[1]) + x[2])) + exp(x[0]))) * ((x[0] + ((x[0] + ((x[0] - ((x[0] * x[1]) * x[2])) + x[0])) + x[0])) + (x[0] + (((x[0] + ((x[0] - ((x[0] * x[0]) * x[2])) + x[0])) + x[0]) + exp(x[0]))))) * ((((x[2] - (x[0] * x[2])) * x[0]) - (x[0] * (x[0] * x[1]))) + (x[0] + ((((x[0] + ((x[0] - x[2]) + x[0])) + x[0]) - ((x[0] * x[1]) * x[2])) + x[0])))), Age: 0, Complexity: 145\n",
      "3. Fitness: 26189563172443.57422, Fitness_val = 26512902635615.64844, Genome: ((((((x[0] - (x[0] * x[2])) * x[0]) - (x[0] * (x[0] * x[1]))) + ((x[0] + ((((x[0] + (((((x[0] + ((x[0] - x[2]) + x[0])) + x[0]) - ((x[0] * x[1]) * x[2])) + x[2]) + (x[0] + ((((x[0] + ((x[0] - x[1]) + x[0])) + x[0]) - x[0]) + x[1])))) + (x[0] + x[0])) - x[1]) + x[2])) + exp(x[0]))) * ((x[0] + ((x[0] + ((x[0] - ((x[0] * x[1]) * x[2])) + x[0])) + x[2])) + (x[0] + (((x[0] + ((x[0] - ((x[0] * x[0]) * x[2])) + x[0])) + x[0]) + exp(x[0]))))) * ((((x[2] - (x[0] * x[2])) * x[0]) - (x[0] * (x[0] * x[1]))) + (x[0] + ((((x[0] + ((x[0] - x[2]) + x[0])) + x[0]) - ((x[0] * x[1]) * x[2])) + x[0])))), Age: 2, Complexity: 147\n",
      "4. Fitness: 26217441416972.94531, Fitness_val = 26540969380618.60547, Genome: ((((((x[0] - (x[0] * x[2])) * x[0]) - (x[0] * (x[0] * x[1]))) + ((x[0] + ((((x[0] + (((((x[0] + ((x[0] - x[2]) + x[0])) + x[0]) - ((x[0] * x[1]) * x[2])) + x[2]) + (x[0] + (x[0] + x[1])))) + x[0]) - x[1]) + x[2])) + exp(x[0]))) * ((x[0] + ((x[0] + ((x[0] - ((x[0] * x[1]) * x[2])) + x[0])) + x[0])) + (x[2] + (((x[0] + ((x[0] - ((x[0] * x[0]) * x[2])) + x[2])) + x[0]) + exp(x[0]))))) * ((((x[2] - (x[0] * x[2])) * x[0]) - (x[0] * (x[0] * x[1]))) + (x[0] + (((((x[0] + (((((x[0] + ((x[0] - x[2]) + x[0])) + x[0]) - ((x[0] * x[1]) * x[2])) + x[2]) + x[0])) + x[0]) - x[1]) + x[2]) + x[0])))), Age: 6, Complexity: 147\n"
     ]
    },
    {
     "name": "stderr",
     "output_type": "stream",
     "text": [
      " 60%|██████    | 360/600 [1:55:06<2:19:41, 34.92s/it]"
     ]
    },
    {
     "name": "stdout",
     "output_type": "stream",
     "text": [
      "Initial: 555, Deduplicated: 39, Operation simplified: 0, Constant: 0, Complex: 247, Final: 269\n",
      "Population mean complexity: 132.32342007434943\n",
      "Population mean fitness: 37654913480736.58\n",
      "\n",
      "0. Fitness: 26068541293115.29688, Fitness_val = 26395595430511.77344, Genome: ((((((x[0] - (x[0] * x[2])) * x[0]) - (x[0] * (x[0] * x[1]))) + ((x[0] + ((((x[0] + (((((x[0] + ((x[0] - x[2]) + x[0])) + x[0]) - ((x[0] * x[1]) * x[2])) + x[0]) + (x[0] + ((((x[0] + ((x[0] - x[2]) + x[0])) + x[0]) - x[0]) + x[1])))) + x[0]) - x[1]) + x[2])) + exp(x[0]))) * ((x[0] + ((x[0] + ((x[0] - ((x[0] * x[1]) * x[2])) + x[0])) + x[0])) + (x[0] + (((x[0] + ((x[0] - ((x[0] * x[0]) * x[2])) + x[0])) + x[0]) + exp(x[0]))))) * ((((x[2] - (x[0] * x[2])) * x[0]) - (x[0] * (x[0] * x[1]))) + (x[0] + ((((x[0] + ((x[0] - x[2]) + x[0])) + x[0]) - ((x[0] * x[1]) * x[2])) + x[0])))), Age: 0, Complexity: 145\n",
      "1. Fitness: 26145267164206.02344, Fitness_val = 26464735213453.49219, Genome: ((((((x[0] - (x[0] * x[2])) * x[0]) - (x[0] * (x[0] * x[1]))) + ((x[0] + ((((x[0] + (((((x[0] + ((x[0] - x[2]) + x[0])) + x[0]) - ((x[0] * x[1]) * x[2])) + x[2]) + (x[0] + (x[0] + x[1])))) + x[0]) - x[1]) + x[2])) + exp(x[0]))) * ((x[0] + ((x[0] + ((x[0] - ((x[0] * x[1]) * x[2])) + x[0])) + x[0])) + (x[0] + (((x[0] + ((x[0] - ((x[0] * x[0]) * x[2])) + x[2])) + x[0]) + exp(x[0]))))) * ((((x[2] - (x[0] * x[2])) * x[0]) - (x[0] * (x[0] * x[1]))) + (x[0] + (((((x[0] + (((((x[0] + ((x[0] - x[2]) + x[0])) + x[0]) - ((x[0] * x[1]) * x[2])) + x[2]) + x[0])) + x[0]) - x[1]) + x[2]) + x[0])))), Age: 0, Complexity: 147\n",
      "2. Fitness: 26145422248498.37891, Fitness_val = 26466979875681.32031, Genome: ((((((x[0] - (x[0] * x[2])) * x[0]) - (x[0] * (x[0] * x[1]))) + ((x[0] + ((((x[0] + (((((x[0] + ((x[0] - x[2]) + x[0])) + x[0]) - ((x[0] * x[1]) * x[2])) + x[2]) + (x[0] + ((((x[0] + ((x[0] - x[2]) + x[0])) + x[0]) - x[0]) + x[1])))) + x[0]) - x[1]) + x[2])) + exp(x[0]))) * ((x[0] + ((x[0] + ((x[0] - ((x[0] * x[1]) * x[2])) + x[0])) + x[0])) + (x[0] + (((x[0] + ((x[0] - ((x[0] * x[0]) * x[2])) + x[0])) + x[0]) + exp(x[0]))))) * ((((x[2] - (x[0] * x[2])) * x[0]) - (x[0] * (x[0] * x[1]))) + (x[0] + ((((x[0] + ((x[0] - x[2]) + x[0])) + x[0]) - ((x[0] * x[1]) * x[2])) + x[0])))), Age: 0, Complexity: 145\n",
      "3. Fitness: 26188212854683.71094, Fitness_val = 26487995708896.83984, Genome: ((((x[0] + (((x[0] + ((x[0] - ((x[0] * x[0]) * x[2])) + x[0])) + x[0]) + exp(x[0]))) + ((x[0] + (((((x[0] - ((x[0] * x[1]) * x[2])) + ((x[1] + x[0]) + x[0])) + x[0]) - x[1]) + x[2])) + exp(x[0]))) * ((x[0] + ((x[0] + (((x[0] - x[2]) + x[0]) + ((x[0] + ((x[0] - x[2]) + x[0])) + ((x[0] - ((x[0] * x[1]) * x[2])) + x[0])))) + (x[0] - x[2]))) + (x[0] + (((x[0] + ((x[0] - ((x[0] * x[0]) * x[2])) + x[0])) + x[0]) + exp(x[0]))))) * ((((x[2] - (x[0] * x[2])) * x[0]) - (x[0] * (x[0] * x[1]))) + (((x[0] + ((x[0] - ((x[0] * x[1]) * x[2])) + x[0])) + x[0]) + x[0]))), Age: 3, Complexity: 148\n",
      "4. Fitness: 26005540103886.25781, Fitness_val = 26616331362859.71094, Genome: ((((((x[0] - (x[0] * x[2])) * x[0]) - (x[0] * (x[0] * x[1]))) + ((x[0] + ((((x[0] + (((((x[0] + ((x[0] - x[2]) + x[0])) + x[0]) - ((x[0] * x[1]) * x[2])) + x[2]) + (x[0] + ((((x[0] + ((x[0] - ((x[0] * x[1]) * x[2])) + x[0])) + x[0]) - x[0]) + x[2])))) + x[0]) - x[1]) + x[2])) + exp(x[0]))) * ((x[0] + ((x[0] + ((x[0] - ((x[0] * x[1]) * x[2])) + x[0])) + x[0])) + (x[1] + (((x[0] + ((x[0] - ((x[0] * x[0]) * x[2])) + x[0])) + x[0]) + exp(x[0]))))) * ((((x[2] - (x[0] * x[2])) * x[0]) - (x[0] * (x[0] * x[1]))) + (x[0] + ((((x[0] + ((x[0] - x[2]) + x[0])) + x[0]) - ((x[0] * x[1]) * x[2])) + x[0])))), Age: 3, Complexity: 149\n"
     ]
    },
    {
     "name": "stderr",
     "output_type": "stream",
     "text": [
      " 62%|██████▎   | 375/600 [2:04:35<2:38:13, 42.19s/it]"
     ]
    },
    {
     "name": "stdout",
     "output_type": "stream",
     "text": [
      "Initial: 571, Deduplicated: 47, Operation simplified: 0, Constant: 0, Complex: 230, Final: 294\n",
      "Population mean complexity: 131.81632653061226\n",
      "Population mean fitness: 34200931165206.332\n",
      "\n",
      "0. Fitness: 26068541293115.29688, Fitness_val = 26395595430511.77344, Genome: ((((((x[0] - (x[0] * x[2])) * x[0]) - (x[0] * (x[0] * x[1]))) + ((x[0] + ((((x[0] + (((((x[0] + ((x[0] - x[2]) + x[0])) + x[0]) - ((x[0] * x[1]) * x[2])) + x[0]) + (x[0] + ((((x[0] + ((x[0] - x[2]) + x[0])) + x[0]) - x[0]) + x[1])))) + x[0]) - x[1]) + x[2])) + exp(x[0]))) * ((x[0] + ((x[0] + ((x[0] - ((x[0] * x[1]) * x[2])) + x[0])) + x[0])) + (x[0] + (((x[0] + ((x[0] - ((x[0] * x[0]) * x[2])) + x[0])) + x[0]) + exp(x[0]))))) * ((((x[2] - (x[0] * x[2])) * x[0]) - (x[0] * (x[0] * x[1]))) + (x[0] + ((((x[0] + ((x[0] - x[2]) + x[0])) + x[0]) - ((x[0] * x[1]) * x[2])) + x[0])))), Age: 0, Complexity: 145\n",
      "1. Fitness: 26145267164206.02344, Fitness_val = 26464735213453.49219, Genome: ((((((x[0] - (x[0] * x[2])) * x[0]) - (x[0] * (x[0] * x[1]))) + ((x[0] + ((((x[0] + (((((x[0] + ((x[0] - x[2]) + x[0])) + x[0]) - ((x[0] * x[1]) * x[2])) + x[2]) + (x[0] + (x[0] + x[1])))) + x[0]) - x[1]) + x[2])) + exp(x[0]))) * ((x[0] + ((x[0] + ((x[0] - ((x[0] * x[1]) * x[2])) + x[0])) + x[0])) + (x[0] + (((x[0] + ((x[0] - ((x[0] * x[0]) * x[2])) + x[2])) + x[0]) + exp(x[0]))))) * ((((x[2] - (x[0] * x[2])) * x[0]) - (x[0] * (x[0] * x[1]))) + (x[0] + (((((x[0] + (((((x[0] + ((x[0] - x[2]) + x[0])) + x[0]) - ((x[0] * x[1]) * x[2])) + x[2]) + x[0])) + x[0]) - x[1]) + x[2]) + x[0])))), Age: 0, Complexity: 147\n",
      "2. Fitness: 26145422248498.37891, Fitness_val = 26466979875681.32031, Genome: ((((((x[0] - (x[0] * x[2])) * x[0]) - (x[0] * (x[0] * x[1]))) + ((x[0] + ((((x[0] + (((((x[0] + ((x[0] - x[2]) + x[0])) + x[0]) - ((x[0] * x[1]) * x[2])) + x[2]) + (x[0] + ((((x[0] + ((x[0] - x[2]) + x[0])) + x[0]) - x[0]) + x[1])))) + x[0]) - x[1]) + x[2])) + exp(x[0]))) * ((x[0] + ((x[0] + ((x[0] - ((x[0] * x[1]) * x[2])) + x[0])) + x[0])) + (x[0] + (((x[0] + ((x[0] - ((x[0] * x[0]) * x[2])) + x[0])) + x[0]) + exp(x[0]))))) * ((((x[2] - (x[0] * x[2])) * x[0]) - (x[0] * (x[0] * x[1]))) + (x[0] + ((((x[0] + ((x[0] - x[2]) + x[0])) + x[0]) - ((x[0] * x[1]) * x[2])) + x[0])))), Age: 0, Complexity: 145\n",
      "3. Fitness: 26171830660003.28125, Fitness_val = 26487147556247.96484, Genome: ((((((x[0] - (x[0] * x[2])) * x[0]) - (x[0] * (x[0] * x[1]))) + ((x[0] + ((((x[0] + (((((x[0] + ((x[0] - x[2]) + x[0])) + x[0]) - ((x[0] * x[1]) * x[2])) + x[0]) + (x[0] + ((((x[0] + (x[2] + x[0])) + x[0]) - x[0]) + x[1])))) + x[0]) - x[1]) + x[2])) + exp(x[0]))) * ((x[0] + ((x[0] + ((x[0] - ((x[0] * x[1]) * x[2])) + x[0])) + x[0])) + (x[0] + (((x[0] + ((x[0] - ((x[0] * x[0]) * x[2])) + x[0])) + x[0]) + exp(x[0]))))) * ((((x[2] - (x[0] * x[2])) * x[0]) - (x[0] * (x[0] * x[1]))) + (x[0] + ((((x[0] + ((x[0] - x[2]) + x[0])) + x[0]) - ((x[0] * x[1]) * x[2])) + x[0])))), Age: 6, Complexity: 143\n",
      "4. Fitness: 26188212854683.71094, Fitness_val = 26487995708896.83984, Genome: ((((x[0] + (((x[0] + ((x[0] - ((x[0] * x[0]) * x[2])) + x[0])) + x[0]) + exp(x[0]))) + ((x[0] + (((((x[0] - ((x[0] * x[1]) * x[2])) + ((x[1] + x[0]) + x[0])) + x[0]) - x[1]) + x[2])) + exp(x[0]))) * ((x[0] + ((x[0] + (((x[0] - x[2]) + x[0]) + ((x[0] + ((x[0] - x[2]) + x[0])) + ((x[0] - ((x[0] * x[1]) * x[2])) + x[0])))) + (x[0] - x[2]))) + (x[0] + (((x[0] + ((x[0] - ((x[0] * x[0]) * x[2])) + x[0])) + x[0]) + exp(x[0]))))) * ((((x[2] - (x[0] * x[2])) * x[0]) - (x[0] * (x[0] * x[1]))) + (((x[0] + ((x[0] - ((x[0] * x[1]) * x[2])) + x[0])) + x[0]) + x[0]))), Age: 13, Complexity: 148\n"
     ]
    },
    {
     "name": "stderr",
     "output_type": "stream",
     "text": [
      " 65%|██████▌   | 390/600 [2:13:32<2:12:01, 37.72s/it]"
     ]
    },
    {
     "name": "stdout",
     "output_type": "stream",
     "text": [
      "Initial: 557, Deduplicated: 54, Operation simplified: 0, Constant: 0, Complex: 232, Final: 271\n",
      "Population mean complexity: 134.35055350553506\n",
      "Population mean fitness: 36412648788288.46\n",
      "\n",
      "0. Fitness: 25711131462829.43359, Fitness_val = 26285433822139.83984, Genome: ((((((x[1] - (x[0] * x[2])) * x[0]) - (x[0] * (x[0] * x[1]))) + ((x[0] + ((((x[0] + (((((x[0] + ((x[0] - x[2]) + x[0])) + x[0]) - ((x[0] * x[1]) * x[2])) + x[0]) + x[0])) + x[0]) - x[1]) + x[2])) + exp(x[0]))) * ((x[0] + ((x[0] + ((x[0] - ((x[2] * x[1]) * x[0])) + ((x[0] + ((x[0] - x[2]) + x[0])) + ((x[0] - ((x[0] * x[1]) * x[2])) + x[0])))) + x[0])) + (x[0] + (((x[0] + ((x[0] - (((x[0] - x[2]) * x[0]) * x[2])) + x[0])) + x[0]) + exp(x[0]))))) * ((((x[2] - (x[0] * x[2])) * x[0]) - (x[0] * (x[0] * x[1]))) + (((x[1] + ((x[0] - ((x[0] * x[1]) * x[2])) + x[0])) + x[0]) + x[0]))), Age: 0, Complexity: 145\n",
      "1. Fitness: 26068541293115.29688, Fitness_val = 26395595430511.77344, Genome: ((((((x[0] - (x[0] * x[2])) * x[0]) - (x[0] * (x[0] * x[1]))) + ((x[0] + ((((x[0] + (((((x[0] + ((x[0] - x[2]) + x[0])) + x[0]) - ((x[0] * x[1]) * x[2])) + x[0]) + (x[0] + ((((x[0] + ((x[0] - x[2]) + x[0])) + x[0]) - x[0]) + x[1])))) + x[0]) - x[1]) + x[2])) + exp(x[0]))) * ((x[0] + ((x[0] + ((x[0] - ((x[0] * x[1]) * x[2])) + x[0])) + x[0])) + (x[0] + (((x[0] + ((x[0] - ((x[0] * x[0]) * x[2])) + x[0])) + x[0]) + exp(x[0]))))) * ((((x[2] - (x[0] * x[2])) * x[0]) - (x[0] * (x[0] * x[1]))) + (x[0] + ((((x[0] + ((x[0] - x[2]) + x[0])) + x[0]) - ((x[0] * x[1]) * x[2])) + x[0])))), Age: 0, Complexity: 145\n",
      "2. Fitness: 26069427279074.66406, Fitness_val = 26402564923974.00781, Genome: ((((((x[0] - (x[0] * x[2])) * x[0]) - (x[0] * (x[0] * x[1]))) + ((x[0] + ((((x[0] + (((((x[0] + ((x[0] - x[2]) + x[0])) + x[0]) - ((x[0] * x[1]) * x[2])) + x[0]) + (x[0] + ((((x[0] + ((x[0] - x[2]) + x[0])) + x[0]) - x[0]) + x[1])))) + x[0]) - x[1]) + x[0])) + exp(x[0]))) * ((x[0] + ((x[0] + ((x[0] - ((x[0] * x[1]) * x[2])) + x[0])) + x[0])) + (x[0] + (((x[2] + ((x[0] - ((x[0] * x[0]) * x[2])) + x[0])) + x[0]) + exp(x[0]))))) * ((((x[2] - (x[0] * x[2])) * x[0]) - (x[0] * (x[0] * x[1]))) + (x[0] + ((((x[0] + ((x[0] - x[2]) + x[0])) + x[0]) - ((x[0] * x[1]) * x[2])) + x[0])))), Age: 0, Complexity: 145\n",
      "3. Fitness: 26145267164206.02344, Fitness_val = 26464735213453.49219, Genome: ((((((x[0] - (x[0] * x[2])) * x[0]) - (x[0] * (x[0] * x[1]))) + ((x[0] + ((((x[0] + (((((x[0] + ((x[0] - x[2]) + x[0])) + x[0]) - ((x[0] * x[1]) * x[2])) + x[2]) + (x[0] + (x[0] + x[1])))) + x[0]) - x[1]) + x[2])) + exp(x[0]))) * ((x[0] + ((x[0] + ((x[0] - ((x[0] * x[1]) * x[2])) + x[0])) + x[0])) + (x[0] + (((x[0] + ((x[0] - ((x[0] * x[0]) * x[2])) + x[2])) + x[0]) + exp(x[0]))))) * ((((x[2] - (x[0] * x[2])) * x[0]) - (x[0] * (x[0] * x[1]))) + (x[0] + (((((x[0] + (((((x[0] + ((x[0] - x[2]) + x[0])) + x[0]) - ((x[0] * x[1]) * x[2])) + x[2]) + x[0])) + x[0]) - x[1]) + x[2]) + x[0])))), Age: 13, Complexity: 147\n",
      "4. Fitness: 26145422248498.37891, Fitness_val = 26466979875681.32031, Genome: ((((((x[0] - (x[0] * x[2])) * x[0]) - (x[0] * (x[0] * x[1]))) + ((x[0] + ((((x[0] + (((((x[0] + ((x[0] - x[2]) + x[0])) + x[0]) - ((x[0] * x[1]) * x[2])) + x[2]) + (x[0] + ((((x[0] + ((x[0] - x[2]) + x[0])) + x[0]) - x[0]) + x[1])))) + x[0]) - x[1]) + x[2])) + exp(x[0]))) * ((x[0] + ((x[0] + ((x[0] - ((x[0] * x[1]) * x[2])) + x[0])) + x[0])) + (x[0] + (((x[0] + ((x[0] - ((x[0] * x[0]) * x[2])) + x[0])) + x[0]) + exp(x[0]))))) * ((((x[2] - (x[0] * x[2])) * x[0]) - (x[0] * (x[0] * x[1]))) + (x[0] + ((((x[0] + ((x[0] - x[2]) + x[0])) + x[0]) - ((x[0] * x[1]) * x[2])) + x[0])))), Age: 15, Complexity: 145\n"
     ]
    },
    {
     "name": "stderr",
     "output_type": "stream",
     "text": [
      " 68%|██████▊   | 405/600 [2:22:51<2:13:07, 40.96s/it]"
     ]
    },
    {
     "name": "stdout",
     "output_type": "stream",
     "text": [
      "Initial: 571, Deduplicated: 46, Operation simplified: 0, Constant: 1, Complex: 234, Final: 290\n",
      "Population mean complexity: 133.67241379310346\n",
      "Population mean fitness: 42591261146402.63\n",
      "\n",
      "0. Fitness: 25711131462829.43359, Fitness_val = 26285433822139.83984, Genome: ((((((x[1] - (x[0] * x[2])) * x[0]) - (x[0] * (x[0] * x[1]))) + ((x[0] + ((((x[0] + (((((x[0] + ((x[0] - x[2]) + x[0])) + x[0]) - ((x[0] * x[1]) * x[2])) + x[0]) + x[0])) + x[0]) - x[1]) + x[2])) + exp(x[0]))) * ((x[0] + ((x[0] + ((x[0] - ((x[2] * x[1]) * x[0])) + ((x[0] + ((x[0] - x[2]) + x[0])) + ((x[0] - ((x[0] * x[1]) * x[2])) + x[0])))) + x[0])) + (x[0] + (((x[0] + ((x[0] - (((x[0] - x[2]) * x[0]) * x[2])) + x[0])) + x[0]) + exp(x[0]))))) * ((((x[2] - (x[0] * x[2])) * x[0]) - (x[0] * (x[0] * x[1]))) + (((x[1] + ((x[0] - ((x[0] * x[1]) * x[2])) + x[0])) + x[0]) + x[0]))), Age: 0, Complexity: 145\n",
      "1. Fitness: 25937055905468.39453, Fitness_val = 26369739530550.43359, Genome: ((((((x[1] - (x[0] * x[2])) * x[0]) - (x[0] * (x[0] * x[1]))) + ((x[0] + ((((x[0] + (((((x[0] + (x[0] * x[1])) + x[0]) - ((x[0] * x[1]) * x[2])) + x[0]) + x[0])) + x[0]) - x[1]) + x[2])) + exp(x[0]))) * ((x[0] + ((x[0] + ((x[0] - ((x[2] * x[1]) * x[0])) + ((x[0] + ((x[0] - x[2]) + x[0])) + ((x[0] - ((x[0] * x[1]) * x[2])) + x[0])))) + x[0])) + (x[0] + (((x[0] + ((x[0] - (((x[0] - x[2]) * x[0]) * x[2])) + x[0])) + x[0]) + exp(x[0]))))) * ((((x[2] - (x[0] * x[2])) * x[0]) - (x[0] * (x[0] * x[1]))) + (((x[1] + ((x[0] - ((x[0] * x[1]) * x[2])) + x[0])) + x[0]) + x[0]))), Age: 0, Complexity: 143\n",
      "2. Fitness: 26068541293115.29688, Fitness_val = 26395595430511.77344, Genome: ((((((x[0] - (x[0] * x[2])) * x[0]) - (x[0] * (x[0] * x[1]))) + ((x[0] + ((((x[0] + (((((x[0] + ((x[0] - x[2]) + x[0])) + x[0]) - ((x[0] * x[1]) * x[2])) + x[0]) + (x[0] + ((((x[0] + ((x[0] - x[2]) + x[0])) + x[0]) - x[0]) + x[1])))) + x[0]) - x[1]) + x[2])) + exp(x[0]))) * ((x[0] + ((x[0] + ((x[0] - ((x[0] * x[1]) * x[2])) + x[0])) + x[0])) + (x[0] + (((x[0] + ((x[0] - ((x[0] * x[0]) * x[2])) + x[0])) + x[0]) + exp(x[0]))))) * ((((x[2] - (x[0] * x[2])) * x[0]) - (x[0] * (x[0] * x[1]))) + (x[0] + ((((x[0] + ((x[0] - x[2]) + x[0])) + x[0]) - ((x[0] * x[1]) * x[2])) + x[0])))), Age: 0, Complexity: 145\n",
      "3. Fitness: 26141690990285.85156, Fitness_val = 26397561066081.04297, Genome: ((((((x[1] - (x[0] * x[2])) * x[0]) - (x[0] * (x[0] * x[1]))) + ((x[0] + ((((x[0] + (((((x[0] + (x[0] * x[1])) + x[0]) - ((x[0] * x[1]) * x[2])) + x[0]) + x[0])) + x[0]) - x[1]) + x[2])) + exp(x[0]))) * ((x[0] + ((x[0] + ((x[0] - ((x[2] * x[1]) * x[0])) + ((x[0] + ((x[0] - x[2]) + x[0])) + ((x[0] - ((x[0] * x[1]) * x[2])) + x[0])))) + x[0])) + (x[0] + (((x[0] + ((x[0] - (((x[0] - x[2]) * x[0]) * x[2])) + x[0])) + x[0]) + exp(x[0]))))) * ((((x[2] - (x[0] * x[2])) * x[0]) - (x[0] * (x[0] * x[1]))) + (((x[1] + (((x[0] * x[1]) - ((x[0] * x[1]) * x[2])) + x[0])) + x[0]) + x[0]))), Age: 10, Complexity: 145\n",
      "4. Fitness: 26069427279074.66406, Fitness_val = 26402564923974.00781, Genome: ((((((x[0] - (x[0] * x[2])) * x[0]) - (x[0] * (x[0] * x[1]))) + ((x[0] + ((((x[0] + (((((x[0] + ((x[0] - x[2]) + x[0])) + x[0]) - ((x[0] * x[1]) * x[2])) + x[0]) + (x[0] + ((((x[0] + ((x[0] - x[2]) + x[0])) + x[0]) - x[0]) + x[1])))) + x[0]) - x[1]) + x[0])) + exp(x[0]))) * ((x[0] + ((x[0] + ((x[0] - ((x[0] * x[1]) * x[2])) + x[0])) + x[0])) + (x[0] + (((x[2] + ((x[0] - ((x[0] * x[0]) * x[2])) + x[0])) + x[0]) + exp(x[0]))))) * ((((x[2] - (x[0] * x[2])) * x[0]) - (x[0] * (x[0] * x[1]))) + (x[0] + ((((x[0] + ((x[0] - x[2]) + x[0])) + x[0]) - ((x[0] * x[1]) * x[2])) + x[0])))), Age: 15, Complexity: 145\n"
     ]
    },
    {
     "name": "stderr",
     "output_type": "stream",
     "text": [
      " 70%|███████   | 420/600 [2:32:21<1:56:41, 38.90s/it]"
     ]
    },
    {
     "name": "stdout",
     "output_type": "stream",
     "text": [
      "Initial: 573, Deduplicated: 36, Operation simplified: 0, Constant: 0, Complex: 242, Final: 295\n",
      "Population mean complexity: 132.6949152542373\n",
      "Population mean fitness: 33080385445245.477\n",
      "\n",
      "0. Fitness: 25711131462829.43359, Fitness_val = 26285433822139.83984, Genome: ((((((x[1] - (x[0] * x[2])) * x[0]) - (x[0] * (x[0] * x[1]))) + ((x[0] + ((((x[0] + (((((x[0] + ((x[0] - x[2]) + x[0])) + x[0]) - ((x[0] * x[1]) * x[2])) + x[0]) + x[0])) + x[0]) - x[1]) + x[2])) + exp(x[0]))) * ((x[0] + ((x[0] + ((x[0] - ((x[2] * x[1]) * x[0])) + ((x[0] + ((x[0] - x[2]) + x[0])) + ((x[0] - ((x[0] * x[1]) * x[2])) + x[0])))) + x[0])) + (x[0] + (((x[0] + ((x[0] - (((x[0] - x[2]) * x[0]) * x[2])) + x[0])) + x[0]) + exp(x[0]))))) * ((((x[2] - (x[0] * x[2])) * x[0]) - (x[0] * (x[0] * x[1]))) + (((x[1] + ((x[0] - ((x[0] * x[1]) * x[2])) + x[0])) + x[0]) + x[0]))), Age: 0, Complexity: 145\n",
      "1. Fitness: 25403631756587.76953, Fitness_val = 26326541705315.50391, Genome: (((((((x[0] - x[2]) + x[0]) - ((x[0] * x[1]) * x[2])) - (x[0] * (x[0] * x[1]))) + ((x[0] + (((((x[0] - ((x[0] * x[1]) * x[2])) + (((((((x[0] - (((x[0] - x[2]) * x[0]) * x[2])) + x[0]) + ((x[0] - x[2]) + x[0])) + x[0]) - ((x[0] * x[1]) * x[2])) + x[0]) + x[0])) + x[0]) - x[1]) + x[0])) + exp(x[0]))) * ((x[0] + ((x[0] + ((x[0] - ((x[0] * x[1]) * x[0])) + ((x[0] + ((x[0] - x[2]) + x[0])) + x[2]))) + x[0])) + (x[0] + (((x[2] + ((x[0] - (((x[0] - x[2]) * x[0]) * x[2])) + x[0])) + x[0]) + x[0])))) * ((((x[2] - (x[0] * x[2])) * x[0]) - (x[0] * (x[0] * x[1]))) + (((x[1] + ((x[0] - ((x[0] * x[1]) * x[2])) + x[0])) + x[0]) + x[0]))), Age: 0, Complexity: 148\n",
      "2. Fitness: 25758896377848.30078, Fitness_val = 26336841321055.78516, Genome: ((((((x[1] - (x[0] * x[2])) * x[0]) - (x[0] * (x[0] * x[1]))) + ((x[0] + ((((x[0] + (((((x[0] + ((x[0] - x[2]) + x[0])) + x[0]) - ((x[0] * x[1]) * x[2])) + x[0]) + x[0])) + x[0]) - x[1]) + x[2])) + exp(x[0]))) * ((x[0] + ((x[2] + ((x[0] - ((x[2] * x[1]) * x[0])) + ((x[0] + ((x[0] - x[2]) + x[0])) + ((x[0] - ((x[0] * x[1]) * x[2])) + x[0])))) + x[0])) + (x[0] + (((x[0] + ((x[0] - (((x[0] - x[2]) * x[0]) * x[2])) + x[0])) + x[0]) + exp(x[0]))))) * ((((x[2] - (x[0] * x[2])) * x[0]) - (x[0] * (x[0] * x[1]))) + (((x[1] + ((x[0] - ((x[0] * x[1]) * x[2])) + x[0])) + x[0]) + x[0]))), Age: 0, Complexity: 145\n",
      "3. Fitness: 25053136643010.79297, Fitness_val = 26337913505738.83203, Genome: (((((((x[0] - x[2]) + x[0]) - x[1]) - (x[0] * (x[0] * x[1]))) + ((x[0] + (((((x[0] - ((x[0] * x[1]) * x[2])) + (((((((x[0] - (((x[0] - x[2]) * x[0]) * x[2])) + x[0]) + x[0]) + x[0]) - ((x[0] * x[1]) * x[2])) + x[0]) + x[0])) + x[0]) - x[1]) + x[0])) + exp(x[0]))) * ((x[0] + ((x[0] + ((x[0] - ((x[0] * x[1]) * x[0])) + ((x[0] + ((x[0] - x[2]) + x[0])) + ((x[0] - ((x[0] * x[1]) * x[2])) + x[0])))) + x[0])) + (x[0] + (((x[2] + ((x[0] - (((x[0] - x[2]) * x[0]) * x[2])) + x[0])) + x[0]) + x[0])))) * ((((x[2] - (x[0] * x[2])) * x[0]) - (x[0] * (x[0] * x[1]))) + (((x[1] + ((x[0] - ((x[0] * x[1]) * x[2])) + x[0])) + x[0]) + x[0]))), Age: 2, Complexity: 148\n",
      "4. Fitness: 25089364422619.82031, Fitness_val = 26357942706240.35938, Genome: (((((((x[0] - x[2]) + x[0]) - ((x[0] * x[1]) * x[2])) - (x[0] * (x[0] * x[1]))) + ((x[0] + (((((x[0] - ((x[0] * x[1]) * x[2])) + (((((((x[0] - (((x[0] - x[2]) * x[0]) * x[2])) + x[0]) + ((x[0] - x[2]) + x[0])) + x[0]) - x[1]) + x[0]) + x[0])) + x[0]) - x[1]) + x[0])) + exp(x[0]))) * ((x[0] + ((x[0] + ((x[0] - ((x[0] * x[1]) * x[0])) + ((x[0] + (x[1] + x[0])) + ((x[0] - ((x[0] * x[1]) * x[2])) + x[0])))) + x[0])) + (x[0] + (((x[2] + ((x[0] - (((x[0] - x[2]) * x[0]) * x[2])) + x[0])) + x[0]) + x[0])))) * ((((x[2] - (x[0] * x[2])) * x[0]) - (x[0] * (x[0] * x[1]))) + (((x[1] + ((x[0] - ((x[0] * x[1]) * x[2])) + x[0])) + x[0]) + x[0]))), Age: 2, Complexity: 150\n"
     ]
    },
    {
     "name": "stderr",
     "output_type": "stream",
     "text": [
      " 72%|███████▎  | 435/600 [2:41:43<1:45:21, 38.31s/it]"
     ]
    },
    {
     "name": "stdout",
     "output_type": "stream",
     "text": [
      "Initial: 567, Deduplicated: 51, Operation simplified: 0, Constant: 1, Complex: 171, Final: 344\n",
      "Population mean complexity: 137.45639534883722\n",
      "Population mean fitness: 28945333519493.37\n",
      "\n",
      "0. Fitness: 25809654316970.58594, Fitness_val = 26240663277174.06641, Genome: ((((((x[1] - (x[0] * x[2])) * x[0]) - (x[0] * (x[0] * x[1]))) + ((x[0] + (((((x[0] - ((x[0] * x[1]) * x[2])) + (((((x[0] + ((x[0] - x[2]) + x[0])) + x[0]) - ((x[0] * x[1]) * x[2])) + x[0]) + x[0])) + x[0]) - x[1]) + x[2])) + exp(x[0]))) * ((x[0] + ((x[0] + ((x[0] - ((x[0] * x[1]) * x[0])) + ((x[0] + (((x[0] * x[1]) - x[2]) + x[0])) + x[1]))) + x[0])) + (x[0] + (((x[0] + ((x[0] - (((x[0] - x[2]) * x[0]) * x[2])) + x[0])) + x[0]) + exp(x[0]))))) * ((((x[2] - (x[0] * x[2])) * x[0]) - (x[0] * (x[0] * x[1]))) + (((((x[0] + (x[0] + x[0])) + x[0]) - ((x[0] * x[1]) * x[2])) + x[0]) + x[0]))), Age: 0, Complexity: 147\n",
      "1. Fitness: 25711131462829.43359, Fitness_val = 26285433822139.83984, Genome: ((((((x[1] - (x[0] * x[2])) * x[0]) - (x[0] * (x[0] * x[1]))) + ((x[0] + ((((x[0] + (((((x[0] + ((x[0] - x[2]) + x[0])) + x[0]) - ((x[0] * x[1]) * x[2])) + x[0]) + x[0])) + x[0]) - x[1]) + x[2])) + exp(x[0]))) * ((x[0] + ((x[0] + ((x[0] - ((x[2] * x[1]) * x[0])) + ((x[0] + ((x[0] - x[2]) + x[0])) + ((x[0] - ((x[0] * x[1]) * x[2])) + x[0])))) + x[0])) + (x[0] + (((x[0] + ((x[0] - (((x[0] - x[2]) * x[0]) * x[2])) + x[0])) + x[0]) + exp(x[0]))))) * ((((x[2] - (x[0] * x[2])) * x[0]) - (x[0] * (x[0] * x[1]))) + (((x[1] + ((x[0] - ((x[0] * x[1]) * x[2])) + x[0])) + x[0]) + x[0]))), Age: 0, Complexity: 145\n",
      "2. Fitness: 25060996184657.32031, Fitness_val = 26292171861793.24609, Genome: (((((((x[0] - x[2]) + x[0]) - x[1]) - (x[0] * (x[0] * x[1]))) + ((x[0] + (((((x[0] - ((x[0] * x[1]) * x[2])) + (((((((x[0] - (((x[0] - x[2]) * x[0]) * x[2])) + x[0]) + (x[0] * x[1])) + x[0]) - ((x[0] * x[1]) * x[2])) + x[0]) + x[0])) + x[0]) - x[1]) + x[0])) + exp(x[0]))) * ((x[0] + ((x[0] + ((x[0] - ((x[0] * x[1]) * x[0])) + ((x[0] + ((x[0] - x[2]) + x[0])) + ((x[0] - ((x[0] * x[1]) * x[2])) + x[0])))) + x[0])) + (x[0] + (((x[2] + ((x[0] - (((x[0] - x[2]) * x[0]) * x[2])) + x[0])) + x[0]) + x[0])))) * ((((x[2] - (x[0] * x[2])) * x[0]) - (x[0] * (x[0] * x[1]))) + (((x[1] + ((x[0] - ((x[0] * x[1]) * x[2])) + x[0])) + x[0]) + x[0]))), Age: 0, Complexity: 150\n",
      "3. Fitness: 25126518450735.92969, Fitness_val = 26317397066023.18359, Genome: ((((((x[0] * x[1]) - ((x[0] * x[1]) * x[2])) - (x[0] * (x[0] * x[1]))) + ((x[0] + (((((x[0] - ((x[0] * x[1]) * x[2])) + (((((((x[0] - (((x[0] - x[2]) * x[0]) * x[2])) + x[0]) + ((x[0] - x[2]) + x[0])) + x[0]) - x[1]) + x[0]) + x[0])) + x[0]) - x[1]) + x[0])) + exp(x[0]))) * ((x[0] + ((x[0] + ((x[0] - ((x[0] * x[1]) * x[0])) + ((x[0] + (x[1] + x[0])) + ((x[0] - ((x[0] * x[1]) * x[2])) + x[0])))) + x[0])) + (x[0] + (((x[2] + ((x[0] - (((x[0] - x[2]) * x[0]) * x[2])) + x[0])) + x[0]) + x[0])))) * ((((x[2] - (x[0] * x[2])) * x[0]) - (x[0] * (x[0] * x[1]))) + (((x[1] + ((x[0] - ((x[0] * x[1]) * x[2])) + x[0])) + x[0]) + x[0]))), Age: 4, Complexity: 148\n",
      "4. Fitness: 25007114015037.83984, Fitness_val = 26323230397333.10156, Genome: (((((((x[0] - x[2]) + x[0]) - x[1]) - (x[0] * (x[0] * x[1]))) + ((x[0] + (((((x[0] - ((x[0] * x[1]) * x[2])) + (((((((x[0] - (((x[0] - x[2]) * x[0]) * x[2])) + x[0]) + x[0]) + x[0]) - ((x[0] * x[1]) * x[2])) + x[0]) + x[0])) + x[0]) - x[1]) + x[0])) + exp(x[0]))) * ((x[0] + ((x[0] + ((x[0] - ((x[0] * x[1]) * x[0])) + ((x[0] + ((x[0] - x[2]) + x[0])) + ((x[0] - ((x[0] * x[1]) * x[2])) + x[0])))) + x[0])) + (x[0] + ((((x[0] + x[0]) + ((x[0] - (((x[0] - x[2]) * x[0]) * x[2])) + x[0])) + x[0]) + x[0])))) * ((((x[2] - (x[0] * x[2])) * x[0]) - (x[0] * (x[0] * x[1]))) + (((x[1] + ((x[0] - ((x[0] * x[1]) * x[2])) + x[0])) + x[0]) + x[0]))), Age: 5, Complexity: 150\n"
     ]
    },
    {
     "name": "stderr",
     "output_type": "stream",
     "text": [
      " 75%|███████▍  | 449/600 [2:50:59<1:46:21, 42.26s/it]"
     ]
    },
    {
     "name": "stdout",
     "output_type": "stream",
     "text": [
      "New best result found: Individual(genome=(((((((x[0] - x[2]) + x[0]) - x[1]) - (x[0] * (x[0] * x[1]))) + ((x[0] + (((((x[0] - ((x[0] * x[1]) * x[2])) + (((((((x[0] - ((x[0] * x[0]) * x[2])) + x[0]) + x[0]) + x[0]) - ((x[0] * x[1]) * x[2])) + x[0]) + x[0])) + x[0]) - x[1]) + x[0])) + exp(x[0]))) * ((x[0] + ((x[0] + ((x[0] - ((x[0] * x[1]) * x[0])) + ((x[0] + ((x[0] - x[2]) + x[0])) + ((x[0] - ((x[0] * x[1]) * x[2])) + x[0])))) + x[0])) + (x[0] + (((x[2] + ((x[0] - (((x[0] - x[2]) * x[0]) * x[2])) + x[1])) + x[0]) + x[0])))) * ((((x[2] - (x[0] * x[2])) * x[0]) - (x[0] * (x[0] * x[1]))) + (((((x[0] + ((((((x[0] - x[2]) + ((x[0] - x[2]) + x[0])) + x[0]) - ((x[0] * x[1]) * x[2])) + x[0]) + x[0])) + x[0]) - x[1]) + x[0]) + x[0]))), fitness=np.float64(24489665691880.008), fitness_val=np.float64(25594125611485.55), age=0, T=1)\n"
     ]
    },
    {
     "name": "stderr",
     "output_type": "stream",
     "text": [
      " 75%|███████▌  | 450/600 [2:51:40<1:44:50, 41.94s/it]"
     ]
    },
    {
     "name": "stdout",
     "output_type": "stream",
     "text": [
      "Initial: 567, Deduplicated: 42, Operation simplified: 0, Constant: 0, Complex: 234, Final: 291\n",
      "Population mean complexity: 135.10996563573883\n",
      "Population mean fitness: 56749954057828.67\n",
      "\n",
      "0. Fitness: 25775116018406.23828, Fitness_val = 26201482414701.88672, Genome: (((((((x[0] - x[2]) + x[0]) - x[1]) - x[2]) + ((x[0] + (((((x[0] - ((x[0] * x[1]) * x[2])) + (((((((x[0] - (((x[0] - x[2]) * x[0]) * x[2])) + x[0]) + x[0]) + x[0]) - ((x[0] * x[1]) * x[2])) + x[0]) + x[0])) + x[0]) - x[1]) + x[0])) + exp(x[0]))) * ((x[0] + ((x[0] + ((x[0] - ((x[0] * x[1]) * x[0])) + ((x[0] + ((x[0] - x[2]) + x[0])) + ((x[0] - ((x[0] * x[1]) * x[2])) + x[0])))) + x[0])) + (x[0] + (((x[2] + ((x[0] - (((x[0] - x[2]) * x[0]) * x[2])) + x[0])) + x[0]) + x[0])))) * ((((x[1] - (x[0] * x[2])) * x[0]) - (x[0] * (x[0] * x[1]))) + (((x[1] + ((x[0] - ((x[0] * x[1]) * x[2])) + x[0])) + x[0]) + x[0]))), Age: 0, Complexity: 144\n",
      "1. Fitness: 25181128332014.74219, Fitness_val = 26205326401491.21875, Genome: (((((((x[0] - x[2]) + x[0]) - x[1]) - (x[0] * (x[0] * x[1]))) + ((x[0] + (((((x[0] - ((x[0] * x[1]) * x[2])) + (((((((x[0] - ((x[0] * x[0]) * x[2])) + x[0]) + x[0]) + x[0]) - ((x[0] * x[1]) * x[2])) + x[0]) + x[0])) + x[0]) - x[1]) + x[0])) + exp(x[0]))) * ((x[0] + ((x[0] + ((x[0] - ((x[0] * x[1]) * x[0])) + ((x[0] + ((x[0] - x[2]) + x[0])) + ((x[0] - ((x[0] * x[1]) * x[2])) + x[0])))) + x[0])) + (x[0] + (((x[2] + ((x[0] - (((x[0] - x[2]) * x[0]) * x[2])) + x[1])) + x[0]) + x[0])))) * ((((x[2] - (x[0] * x[2])) * x[0]) - (x[0] * (x[0] * x[1]))) + (((x[1] + ((x[0] - ((x[0] * x[1]) * x[2])) + x[0])) + x[0]) + x[0]))), Age: 0, Complexity: 146\n",
      "2. Fitness: 25809654316970.58594, Fitness_val = 26240663277174.06641, Genome: ((((((x[1] - (x[0] * x[2])) * x[0]) - (x[0] * (x[0] * x[1]))) + ((x[0] + (((((x[0] - ((x[0] * x[1]) * x[2])) + (((((x[0] + ((x[0] - x[2]) + x[0])) + x[0]) - ((x[0] * x[1]) * x[2])) + x[0]) + x[0])) + x[0]) - x[1]) + x[2])) + exp(x[0]))) * ((x[0] + ((x[0] + ((x[0] - ((x[0] * x[1]) * x[0])) + ((x[0] + (((x[0] * x[1]) - x[2]) + x[0])) + x[1]))) + x[0])) + (x[0] + (((x[0] + ((x[0] - (((x[0] - x[2]) * x[0]) * x[2])) + x[0])) + x[0]) + exp(x[0]))))) * ((((x[2] - (x[0] * x[2])) * x[0]) - (x[0] * (x[0] * x[1]))) + (((((x[0] + (x[0] + x[0])) + x[0]) - ((x[0] * x[1]) * x[2])) + x[0]) + x[0]))), Age: 0, Complexity: 147\n",
      "3. Fitness: 25013723872733.09766, Fitness_val = 26262955869766.79688, Genome: ((((((x[0] * x[1]) - ((x[0] * x[1]) * x[2])) - (x[0] * (x[0] * x[1]))) + ((x[0] + (((((x[0] - ((x[0] * x[1]) * x[2])) + (((((((x[0] - (((x[0] - x[2]) * x[0]) * x[2])) + x[0]) + (x[0] + x[0])) + x[0]) - x[1]) + x[0]) + x[0])) + x[0]) - x[1]) + x[0])) + exp(x[0]))) * ((x[0] + ((x[0] + ((x[0] - ((x[0] * x[1]) * x[0])) + ((x[0] + (x[1] + x[0])) + ((x[0] - ((x[0] * x[1]) * x[2])) + x[0])))) + x[0])) + (x[0] + (((x[2] + ((x[0] - (((x[0] - x[2]) * x[0]) * x[2])) + x[0])) + x[0]) + x[0])))) * ((((x[2] - (x[0] * x[2])) * x[0]) - (x[0] * (x[0] * x[1]))) + (((x[0] + ((x[0] - ((x[0] * x[1]) * x[2])) + x[0])) + x[0]) + x[0]))), Age: 8, Complexity: 146\n",
      "4. Fitness: 25009892271025.03125, Fitness_val = 26269614436077.61719, Genome: ((((((x[0] * x[1]) - ((x[0] * x[1]) * x[2])) - (x[0] * (x[0] * x[1]))) + ((x[0] + (((((x[0] - ((x[0] * x[1]) * x[2])) + (((((((x[0] - (((x[0] - x[2]) * x[0]) * x[2])) + x[0]) + ((x[0] - x[2]) + x[0])) + x[0]) - x[1]) + x[0]) + x[0])) + x[0]) - x[1]) + x[0])) + exp(x[0]))) * ((x[0] + ((x[0] + ((x[0] - ((x[0] * x[1]) * x[0])) + ((x[0] + (x[1] + x[0])) + ((x[0] - ((x[0] * x[1]) * x[2])) + x[0])))) + x[0])) + (x[0] + (((x[2] + ((x[0] - (((x[0] - x[2]) * x[0]) * x[2])) + x[0])) + x[0]) + x[0])))) * ((((x[2] - (x[0] * x[2])) * x[0]) - (x[0] * (x[0] * x[1]))) + (((x[0] + ((x[0] - ((x[0] * x[1]) * x[2])) + x[0])) + x[0]) + x[0]))), Age: 1, Complexity: 148\n"
     ]
    },
    {
     "name": "stderr",
     "output_type": "stream",
     "text": [
      " 78%|███████▊  | 465/600 [3:00:37<1:22:47, 36.80s/it]"
     ]
    },
    {
     "name": "stdout",
     "output_type": "stream",
     "text": [
      "Initial: 542, Deduplicated: 32, Operation simplified: 0, Constant: 1, Complex: 216, Final: 293\n",
      "Population mean complexity: 131.87372013651878\n",
      "Population mean fitness: 40774234392986.3\n",
      "\n",
      "0. Fitness: 25111602069665.13281, Fitness_val = 25891110360437.17188, Genome: ((((((x[0] * x[2]) - ((x[0] * x[1]) * x[2])) - (x[0] * (x[0] * x[1]))) + ((x[0] + (((((x[0] - ((x[0] * x[1]) * x[2])) + (((((((x[0] - (((x[0] - x[2]) * x[0]) * x[2])) + x[0]) + x[0]) + x[0]) - x[1]) + x[0]) + x[0])) + x[0]) - x[1]) + x[0])) + exp(x[0]))) * ((x[0] + ((x[0] + ((x[0] - ((x[0] * x[1]) * x[0])) + ((x[0] + (x[1] + x[0])) + ((x[0] - ((x[0] * x[1]) * x[2])) + x[0])))) + x[0])) + (x[0] + (((x[2] + ((x[0] - (((x[0] - x[2]) * x[0]) * x[2])) + x[0])) + x[0]) + x[0])))) * ((((x[1] - (x[0] * x[2])) * x[0]) - (x[0] * (x[0] * x[1]))) + (((x[0] + ((x[0] - ((x[0] * x[1]) * x[2])) + x[0])) + x[0]) + x[0]))), Age: 0, Complexity: 144\n",
      "1. Fitness: 25150343081266.11328, Fitness_val = 25925015233330.05078, Genome: ((((((x[0] * x[2]) - ((x[0] * x[1]) * x[2])) - (x[0] * (x[0] * x[1]))) + ((x[0] + (((((x[0] - ((x[0] * x[1]) * x[2])) + (((((((x[0] - (((x[0] - x[2]) * x[0]) * x[2])) + x[0]) + x[0]) + x[0]) - x[1]) + x[0]) + x[0])) + x[0]) - x[1]) + x[0])) + exp(x[0]))) * ((x[0] + ((x[0] + ((x[0] - ((x[0] * x[1]) * x[0])) + ((x[0] + (x[1] + x[0])) + ((x[0] - ((x[0] * x[1]) * x[2])) + x[0])))) + x[0])) + (x[0] + (((x[2] + ((x[2] - (((x[0] - x[2]) * x[0]) * x[2])) + x[0])) + x[0]) + x[0])))) * ((((x[1] - (x[0] * x[2])) * x[0]) - (x[0] * (x[0] * x[1]))) + (((x[0] + ((x[0] - ((x[0] * x[1]) * x[2])) + x[0])) + x[0]) + x[0]))), Age: 0, Complexity: 144\n",
      "2. Fitness: 25110559202186.22656, Fitness_val = 26140224304935.91406, Genome: (((((((x[0] - x[2]) + x[0]) - x[1]) - (x[0] * (x[0] * x[1]))) + ((x[0] + (((((x[0] - ((x[0] * x[1]) * x[2])) + (((((((x[0] - ((x[0] * x[0]) * x[2])) + x[0]) + x[0]) + x[2]) - ((x[0] * x[1]) * x[2])) + x[0]) + x[0])) + x[0]) - x[1]) + x[0])) + exp(x[0]))) * ((x[0] + ((x[0] + ((x[0] - ((x[0] * x[1]) * x[0])) + ((x[0] + ((x[0] - x[2]) + x[0])) + ((x[0] - ((x[0] * x[1]) * x[2])) + x[0])))) + x[0])) + (x[0] + (((x[0] + ((x[0] - (((x[0] - x[2]) * x[0]) * x[2])) + x[0])) + x[0]) + x[0])))) * ((((x[2] - (x[0] * x[2])) * x[0]) - (x[0] * (x[0] * x[1]))) + (((x[1] + ((x[0] - ((x[0] * x[1]) * x[2])) + x[0])) + x[0]) + x[0]))), Age: 0, Complexity: 146\n",
      "3. Fitness: 25775116018406.23828, Fitness_val = 26201482414701.88672, Genome: (((((((x[0] - x[2]) + x[0]) - x[1]) - x[2]) + ((x[0] + (((((x[0] - ((x[0] * x[1]) * x[2])) + (((((((x[0] - (((x[0] - x[2]) * x[0]) * x[2])) + x[0]) + x[0]) + x[0]) - ((x[0] * x[1]) * x[2])) + x[0]) + x[0])) + x[0]) - x[1]) + x[0])) + exp(x[0]))) * ((x[0] + ((x[0] + ((x[0] - ((x[0] * x[1]) * x[0])) + ((x[0] + ((x[0] - x[2]) + x[0])) + ((x[0] - ((x[0] * x[1]) * x[2])) + x[0])))) + x[0])) + (x[0] + (((x[2] + ((x[0] - (((x[0] - x[2]) * x[0]) * x[2])) + x[0])) + x[0]) + x[0])))) * ((((x[1] - (x[0] * x[2])) * x[0]) - (x[0] * (x[0] * x[1]))) + (((x[1] + ((x[0] - ((x[0] * x[1]) * x[2])) + x[0])) + x[0]) + x[0]))), Age: 8, Complexity: 144\n",
      "4. Fitness: 25181128332014.74219, Fitness_val = 26205326401491.21875, Genome: (((((((x[0] - x[2]) + x[0]) - x[1]) - (x[0] * (x[0] * x[1]))) + ((x[0] + (((((x[0] - ((x[0] * x[1]) * x[2])) + (((((((x[0] - ((x[0] * x[0]) * x[2])) + x[0]) + x[0]) + x[0]) - ((x[0] * x[1]) * x[2])) + x[0]) + x[0])) + x[0]) - x[1]) + x[0])) + exp(x[0]))) * ((x[0] + ((x[0] + ((x[0] - ((x[0] * x[1]) * x[0])) + ((x[0] + ((x[0] - x[2]) + x[0])) + ((x[0] - ((x[0] * x[1]) * x[2])) + x[0])))) + x[0])) + (x[0] + (((x[2] + ((x[0] - (((x[0] - x[2]) * x[0]) * x[2])) + x[1])) + x[0]) + x[0])))) * ((((x[2] - (x[0] * x[2])) * x[0]) - (x[0] * (x[0] * x[1]))) + (((x[1] + ((x[0] - ((x[0] * x[1]) * x[2])) + x[0])) + x[0]) + x[0]))), Age: 13, Complexity: 146\n"
     ]
    },
    {
     "name": "stderr",
     "output_type": "stream",
     "text": [
      " 80%|████████  | 480/600 [3:10:02<1:20:06, 40.06s/it]"
     ]
    },
    {
     "name": "stdout",
     "output_type": "stream",
     "text": [
      "Initial: 569, Deduplicated: 42, Operation simplified: 0, Constant: 0, Complex: 177, Final: 350\n",
      "Population mean complexity: 131.0457142857143\n",
      "Population mean fitness: 37849809677014.43\n",
      "\n",
      "0. Fitness: 25111602069665.13281, Fitness_val = 25891110360437.17188, Genome: ((((((x[0] * x[2]) - ((x[0] * x[1]) * x[2])) - (x[0] * (x[0] * x[1]))) + ((x[0] + (((((x[0] - ((x[0] * x[1]) * x[2])) + (((((((x[0] - (((x[0] - x[2]) * x[0]) * x[2])) + x[0]) + x[0]) + x[0]) - x[1]) + x[0]) + x[0])) + x[0]) - x[1]) + x[0])) + exp(x[0]))) * ((x[0] + ((x[0] + ((x[0] - ((x[0] * x[1]) * x[0])) + ((x[0] + (x[1] + x[0])) + ((x[0] - ((x[0] * x[1]) * x[2])) + x[0])))) + x[0])) + (x[0] + (((x[2] + ((x[0] - (((x[0] - x[2]) * x[0]) * x[2])) + x[0])) + x[0]) + x[0])))) * ((((x[1] - (x[0] * x[2])) * x[0]) - (x[0] * (x[0] * x[1]))) + (((x[0] + ((x[0] - ((x[0] * x[1]) * x[2])) + x[0])) + x[0]) + x[0]))), Age: 0, Complexity: 144\n",
      "1. Fitness: 25150343081266.11328, Fitness_val = 25925015233330.05078, Genome: ((((((x[0] * x[2]) - ((x[0] * x[1]) * x[2])) - (x[0] * (x[0] * x[1]))) + ((x[0] + (((((x[0] - ((x[0] * x[1]) * x[2])) + (((((((x[0] - (((x[0] - x[2]) * x[0]) * x[2])) + x[0]) + x[0]) + x[0]) - x[1]) + x[0]) + x[0])) + x[0]) - x[1]) + x[0])) + exp(x[0]))) * ((x[0] + ((x[0] + ((x[0] - ((x[0] * x[1]) * x[0])) + ((x[0] + (x[1] + x[0])) + ((x[0] - ((x[0] * x[1]) * x[2])) + x[0])))) + x[0])) + (x[0] + (((x[2] + ((x[2] - (((x[0] - x[2]) * x[0]) * x[2])) + x[0])) + x[0]) + x[0])))) * ((((x[1] - (x[0] * x[2])) * x[0]) - (x[0] * (x[0] * x[1]))) + (((x[0] + ((x[0] - ((x[0] * x[1]) * x[2])) + x[0])) + x[0]) + x[0]))), Age: 0, Complexity: 144\n",
      "2. Fitness: 25110559202186.22656, Fitness_val = 26140224304935.91406, Genome: (((((((x[0] - x[2]) + x[0]) - x[1]) - (x[0] * (x[0] * x[1]))) + ((x[0] + (((((x[0] - ((x[0] * x[1]) * x[2])) + (((((((x[0] - ((x[0] * x[0]) * x[2])) + x[0]) + x[0]) + x[2]) - ((x[0] * x[1]) * x[2])) + x[0]) + x[0])) + x[0]) - x[1]) + x[0])) + exp(x[0]))) * ((x[0] + ((x[0] + ((x[0] - ((x[0] * x[1]) * x[0])) + ((x[0] + ((x[0] - x[2]) + x[0])) + ((x[0] - ((x[0] * x[1]) * x[2])) + x[0])))) + x[0])) + (x[0] + (((x[0] + ((x[0] - (((x[0] - x[2]) * x[0]) * x[2])) + x[0])) + x[0]) + x[0])))) * ((((x[2] - (x[0] * x[2])) * x[0]) - (x[0] * (x[0] * x[1]))) + (((x[1] + ((x[0] - ((x[0] * x[1]) * x[2])) + x[0])) + x[0]) + x[0]))), Age: 0, Complexity: 146\n",
      "3. Fitness: 25090252595691.60547, Fitness_val = 26196544869158.15625, Genome: ((((((x[0] * x[1]) - ((x[0] * x[1]) * x[2])) - (x[0] * (x[0] * x[1]))) + ((x[0] + (((((x[0] - ((x[0] * x[1]) * x[2])) + (((((((x[0] - (((x[0] - x[2]) * x[0]) * x[2])) + x[0]) + (x[0] + x[0])) + x[0]) - x[1]) + x[0]) + x[0])) + x[0]) - x[1]) + x[0])) + exp(x[0]))) * ((x[0] + ((((x[0] - x[2]) * x[0]) + ((x[0] - ((x[0] * x[1]) * x[0])) + (x[0] + ((x[0] - ((x[0] * x[1]) * x[2])) + x[0])))) + x[0])) + (x[0] + (((x[2] + ((x[0] - (((x[0] - x[2]) * x[0]) * x[2])) + x[0])) + x[0]) + x[0])))) * ((((x[2] - (x[0] * x[2])) * x[0]) - (x[0] * (x[0] * x[1]))) + (((((x[0] - x[2]) + x[0]) + ((x[0] - ((x[0] * x[1]) * x[2])) + x[0])) + x[0]) + x[0]))), Age: 9, Complexity: 150\n",
      "4. Fitness: 25775116018406.23828, Fitness_val = 26201482414701.88672, Genome: (((((((x[0] - x[2]) + x[0]) - x[1]) - x[2]) + ((x[0] + (((((x[0] - ((x[0] * x[1]) * x[2])) + (((((((x[0] - (((x[0] - x[2]) * x[0]) * x[2])) + x[0]) + x[0]) + x[0]) - ((x[0] * x[1]) * x[2])) + x[0]) + x[0])) + x[0]) - x[1]) + x[0])) + exp(x[0]))) * ((x[0] + ((x[0] + ((x[0] - ((x[0] * x[1]) * x[0])) + ((x[0] + ((x[0] - x[2]) + x[0])) + ((x[0] - ((x[0] * x[1]) * x[2])) + x[0])))) + x[0])) + (x[0] + (((x[2] + ((x[0] - (((x[0] - x[2]) * x[0]) * x[2])) + x[0])) + x[0]) + x[0])))) * ((((x[1] - (x[0] * x[2])) * x[0]) - (x[0] * (x[0] * x[1]))) + (((x[1] + ((x[0] - ((x[0] * x[1]) * x[2])) + x[0])) + x[0]) + x[0]))), Age: 10, Complexity: 144\n"
     ]
    },
    {
     "name": "stderr",
     "output_type": "stream",
     "text": [
      " 82%|████████▎ | 495/600 [3:19:11<1:03:26, 36.25s/it]"
     ]
    },
    {
     "name": "stdout",
     "output_type": "stream",
     "text": [
      "Initial: 562, Deduplicated: 62, Operation simplified: 0, Constant: 0, Complex: 171, Final: 329\n",
      "Population mean complexity: 135.69604863221883\n",
      "Population mean fitness: 78578669022347.0\n",
      "\n",
      "0. Fitness: 25111602069665.13281, Fitness_val = 25891110360437.17188, Genome: ((((((x[0] * x[2]) - ((x[0] * x[1]) * x[2])) - (x[0] * (x[0] * x[1]))) + ((x[0] + (((((x[0] - ((x[0] * x[1]) * x[2])) + (((((((x[0] - (((x[0] - x[2]) * x[0]) * x[2])) + x[0]) + x[0]) + x[0]) - x[1]) + x[0]) + x[0])) + x[0]) - x[1]) + x[0])) + exp(x[0]))) * ((x[0] + ((x[0] + ((x[0] - ((x[0] * x[1]) * x[0])) + ((x[0] + (x[1] + x[0])) + ((x[0] - ((x[0] * x[1]) * x[2])) + x[0])))) + x[0])) + (x[0] + (((x[2] + ((x[0] - (((x[0] - x[2]) * x[0]) * x[2])) + x[0])) + x[0]) + x[0])))) * ((((x[1] - (x[0] * x[2])) * x[0]) - (x[0] * (x[0] * x[1]))) + (((x[0] + ((x[0] - ((x[0] * x[1]) * x[2])) + x[0])) + x[0]) + x[0]))), Age: 0, Complexity: 144\n",
      "1. Fitness: 25150343081266.11328, Fitness_val = 25925015233330.05078, Genome: ((((((x[0] * x[2]) - ((x[0] * x[1]) * x[2])) - (x[0] * (x[0] * x[1]))) + ((x[0] + (((((x[0] - ((x[0] * x[1]) * x[2])) + (((((((x[0] - (((x[0] - x[2]) * x[0]) * x[2])) + x[0]) + x[0]) + x[0]) - x[1]) + x[0]) + x[0])) + x[0]) - x[1]) + x[0])) + exp(x[0]))) * ((x[0] + ((x[0] + ((x[0] - ((x[0] * x[1]) * x[0])) + ((x[0] + (x[1] + x[0])) + ((x[0] - ((x[0] * x[1]) * x[2])) + x[0])))) + x[0])) + (x[0] + (((x[2] + ((x[2] - (((x[0] - x[2]) * x[0]) * x[2])) + x[0])) + x[0]) + x[0])))) * ((((x[1] - (x[0] * x[2])) * x[0]) - (x[0] * (x[0] * x[1]))) + (((x[0] + ((x[0] - ((x[0] * x[1]) * x[2])) + x[0])) + x[0]) + x[0]))), Age: 0, Complexity: 144\n",
      "2. Fitness: 25217678574900.30859, Fitness_val = 25973790847874.78516, Genome: ((((((x[0] * x[2]) - ((x[0] * x[1]) * x[2])) - (x[0] * (x[0] * x[1]))) + ((x[0] + (((((x[0] - ((x[0] * x[1]) * x[2])) + (((((((x[0] - (((x[0] - x[2]) * x[0]) * x[2])) + x[0]) + x[0]) + x[0]) - x[1]) + x[0]) + x[0])) + x[0]) - x[1]) + x[0])) + exp(x[0]))) * ((x[1] + ((x[0] + ((x[0] - ((x[0] * x[1]) * x[0])) + ((x[0] + (x[1] + x[0])) + ((x[0] - ((x[0] * x[1]) * x[2])) + x[0])))) + x[0])) + (x[0] + (((x[2] + ((x[2] - (((x[0] - x[2]) * x[0]) * x[2])) + x[0])) + x[0]) + x[0])))) * ((((x[1] - (x[0] * x[2])) * x[0]) - (x[0] * (x[0] * x[1]))) + (((x[0] + ((x[0] - ((x[0] * x[1]) * x[2])) + x[0])) + x[0]) + x[0]))), Age: 0, Complexity: 144\n",
      "3. Fitness: 25115474729796.28125, Fitness_val = 26073672024322.62109, Genome: ((((((x[0] * x[1]) - ((x[0] * x[1]) * x[2])) - (x[0] * (x[0] * x[1]))) + ((x[0] + (((((x[0] - ((x[0] * x[1]) * x[2])) + (((((((x[0] - (((x[0] - x[2]) * x[0]) * x[2])) + x[0]) + (x[2] + x[0])) + x[0]) - x[1]) + x[0]) + x[0])) + x[0]) - x[1]) + x[0])) + (x[2] - (x[0] * x[2])))) * ((x[0] + ((x[0] + ((x[0] - ((x[0] * x[1]) * x[0])) + (x[1] + ((x[0] - ((x[0] * x[1]) * x[2])) + x[0])))) + x[0])) + (x[0] + (((((x[0] - x[2]) + x[0]) + ((x[0] - (((x[0] - x[2]) * x[0]) * x[2])) + x[0])) + x[0]) + x[0])))) * ((((x[2] - (x[0] * x[2])) * x[0]) - (x[0] * (x[0] * x[1]))) + (((((x[0] - x[2]) + x[0]) + ((x[0] - ((x[0] * x[1]) * x[2])) + x[0])) + x[0]) + x[0]))), Age: 2, Complexity: 145\n",
      "4. Fitness: 24916906716814.37109, Fitness_val = 26116559009794.64844, Genome: ((((((x[0] * x[1]) - ((x[0] * x[1]) * x[2])) - (x[0] * (x[0] * x[1]))) + ((x[0] + (((((x[0] - ((x[0] * x[1]) * x[2])) + (((((((x[0] - (((x[0] - x[2]) * x[0]) * x[2])) + x[0]) + (x[0] + x[0])) + x[0]) - x[1]) + x[0]) + x[0])) + x[0]) - x[1]) + x[0])) + abs(x[0]))) * ((x[0] + ((x[0] + ((x[0] - ((x[0] * x[1]) * x[0])) + (x[0] + ((x[0] - ((x[0] * x[1]) * x[2])) + x[0])))) + x[0])) + (x[0] + (((x[2] + ((x[0] - (((x[0] - x[2]) * x[0]) * x[2])) + x[0])) + x[0]) + x[0])))) * ((((x[2] - (x[0] * x[2])) * x[0]) - (x[0] * (x[0] * x[1]))) + (((((x[0] - x[2]) + x[0]) + ((x[0] - ((x[0] * x[1]) * x[2])) + (x[0] + ((x[0] - x[2]) + x[0])))) + x[0]) + x[0]))), Age: 5, Complexity: 144\n"
     ]
    },
    {
     "name": "stderr",
     "output_type": "stream",
     "text": [
      " 84%|████████▍ | 506/600 [3:26:26<1:08:20, 43.62s/it]"
     ]
    },
    {
     "name": "stdout",
     "output_type": "stream",
     "text": [
      "New best result found: Individual(genome=((((((x[0] * x[1]) - ((x[0] * x[1]) * x[2])) - (x[0] * (x[0] * x[1]))) + ((x[0] + ((((x[0] + (((((((x[0] + (((((x[0] - ((x[0] * x[1]) * x[2])) + (((((((x[0] - ((x[0] * x[0]) * x[2])) + x[1]) + (x[0] + x[2])) + x[0]) - x[1]) + x[0]) + x[0])) + x[0]) - x[1]) + x[0])) + exp(x[0])) + (x[0] + x[0])) + x[0]) - x[1]) + x[0]) + x[0])) + x[0]) - x[1]) + x[0])) + abs(x[0]))) * ((x[0] + ((x[0] + ((x[0] - ((x[0] * x[1]) * x[0])) + (x[0] + ((x[0] - ((x[0] * x[1]) * x[2])) + x[0])))) + x[0])) + (x[0] + (((x[2] + ((x[0] - (((x[0] - x[2]) * x[0]) * x[2])) + x[0])) + x[0]) + x[0])))) * ((((x[2] - (x[0] * x[2])) * x[0]) - (x[0] * (x[0] * x[1]))) + (((((x[0] - x[2]) + x[0]) + ((x[0] - ((x[0] * x[1]) * x[2])) + (x[0] + ((x[0] - x[2]) + x[0])))) + x[0]) + x[0]))), fitness=np.float64(24488481098150.844), fitness_val=np.float64(25581282135096.12), age=0, T=1)\n"
     ]
    },
    {
     "name": "stderr",
     "output_type": "stream",
     "text": [
      " 85%|████████▌ | 510/600 [3:29:07<1:00:55, 40.61s/it]"
     ]
    },
    {
     "name": "stdout",
     "output_type": "stream",
     "text": [
      "Initial: 558, Deduplicated: 46, Operation simplified: 0, Constant: 0, Complex: 224, Final: 288\n",
      "Population mean complexity: 133.50694444444446\n",
      "Population mean fitness: 43999638263857.21\n",
      "\n",
      "0. Fitness: 25111602069665.13281, Fitness_val = 25891110360437.17188, Genome: ((((((x[0] * x[2]) - ((x[0] * x[1]) * x[2])) - (x[0] * (x[0] * x[1]))) + ((x[0] + (((((x[0] - ((x[0] * x[1]) * x[2])) + (((((((x[0] - (((x[0] - x[2]) * x[0]) * x[2])) + x[0]) + x[0]) + x[0]) - x[1]) + x[0]) + x[0])) + x[0]) - x[1]) + x[0])) + exp(x[0]))) * ((x[0] + ((x[0] + ((x[0] - ((x[0] * x[1]) * x[0])) + ((x[0] + (x[1] + x[0])) + ((x[0] - ((x[0] * x[1]) * x[2])) + x[0])))) + x[0])) + (x[0] + (((x[2] + ((x[0] - (((x[0] - x[2]) * x[0]) * x[2])) + x[0])) + x[0]) + x[0])))) * ((((x[1] - (x[0] * x[2])) * x[0]) - (x[0] * (x[0] * x[1]))) + (((x[0] + ((x[0] - ((x[0] * x[1]) * x[2])) + x[0])) + x[0]) + x[0]))), Age: 0, Complexity: 144\n",
      "1. Fitness: 25264048139537.19531, Fitness_val = 25891739430130.34375, Genome: (((((x[2] - ((x[0] * x[1]) * x[2])) - (x[0] * (x[0] * x[1]))) + ((x[0] + (((((x[0] - ((x[0] * x[1]) * x[2])) + (((((((x[0] - (((x[0] - x[2]) * x[0]) * x[2])) + x[0]) + x[0]) + x[0]) - x[1]) + x[0]) + x[0])) + x[0]) - x[1]) + x[0])) + exp(x[0]))) * ((x[1] + ((x[0] + ((x[0] - ((x[0] * x[1]) * x[0])) + ((x[0] + (x[1] + x[0])) + ((x[0] - ((x[0] * x[1]) * x[2])) + x[0])))) + x[0])) + (x[0] + (((x[2] + ((x[2] - (((x[0] - x[2]) * x[0]) * x[2])) + x[0])) + x[0]) + x[0])))) * ((((x[1] - (x[0] * x[2])) * x[0]) - (x[0] * (x[0] * x[1]))) + (((x[0] + ((x[0] - ((x[0] * x[1]) * x[2])) + x[0])) + x[0]) + x[0]))), Age: 0, Complexity: 142\n",
      "2. Fitness: 25150343081266.11328, Fitness_val = 25925015233330.05078, Genome: ((((((x[0] * x[2]) - ((x[0] * x[1]) * x[2])) - (x[0] * (x[0] * x[1]))) + ((x[0] + (((((x[0] - ((x[0] * x[1]) * x[2])) + (((((((x[0] - (((x[0] - x[2]) * x[0]) * x[2])) + x[0]) + x[0]) + x[0]) - x[1]) + x[0]) + x[0])) + x[0]) - x[1]) + x[0])) + exp(x[0]))) * ((x[0] + ((x[0] + ((x[0] - ((x[0] * x[1]) * x[0])) + ((x[0] + (x[1] + x[0])) + ((x[0] - ((x[0] * x[1]) * x[2])) + x[0])))) + x[0])) + (x[0] + (((x[2] + ((x[2] - (((x[0] - x[2]) * x[0]) * x[2])) + x[0])) + x[0]) + x[0])))) * ((((x[1] - (x[0] * x[2])) * x[0]) - (x[0] * (x[0] * x[1]))) + (((x[0] + ((x[0] - ((x[0] * x[1]) * x[2])) + x[0])) + x[0]) + x[0]))), Age: 0, Complexity: 144\n",
      "3. Fitness: 25217678574900.30859, Fitness_val = 25973790847874.78516, Genome: ((((((x[0] * x[2]) - ((x[0] * x[1]) * x[2])) - (x[0] * (x[0] * x[1]))) + ((x[0] + (((((x[0] - ((x[0] * x[1]) * x[2])) + (((((((x[0] - (((x[0] - x[2]) * x[0]) * x[2])) + x[0]) + x[0]) + x[0]) - x[1]) + x[0]) + x[0])) + x[0]) - x[1]) + x[0])) + exp(x[0]))) * ((x[1] + ((x[0] + ((x[0] - ((x[0] * x[1]) * x[0])) + ((x[0] + (x[1] + x[0])) + ((x[0] - ((x[0] * x[1]) * x[2])) + x[0])))) + x[0])) + (x[0] + (((x[2] + ((x[2] - (((x[0] - x[2]) * x[0]) * x[2])) + x[0])) + x[0]) + x[0])))) * ((((x[1] - (x[0] * x[2])) * x[0]) - (x[0] * (x[0] * x[1]))) + (((x[0] + ((x[0] - ((x[0] * x[1]) * x[2])) + x[0])) + x[0]) + x[0]))), Age: 10, Complexity: 144\n",
      "4. Fitness: 24816264103544.21094, Fitness_val = 26055477022098.20703, Genome: ((((((x[0] * x[1]) - ((x[0] * x[1]) * x[2])) - (x[0] * (x[0] * x[1]))) + ((x[0] + (((((x[0] - ((x[0] * x[1]) * x[2])) + (((((((x[0] - (((x[0] - x[2]) * x[0]) * x[2])) + x[0]) + (x[0] + x[0])) + x[0]) - x[1]) + x[0]) + x[0])) + x[0]) - x[1]) + x[0])) + abs(x[0]))) * ((x[0] + ((x[0] + ((x[0] - ((x[0] * x[1]) * x[0])) + (x[0] + ((x[0] - ((x[0] * x[1]) * x[2])) + x[0])))) + x[0])) + (x[0] + (((x[0] + (((x[2] + ((x[0] - (((x[0] - x[2]) * x[0]) * x[2])) + x[0])) + x[0]) + x[0])) + x[0]) + x[0])))) * ((((x[2] - (x[0] * x[2])) * x[0]) - (x[0] * (x[0] * x[1]))) + (((((x[0] - x[2]) + x[0]) + ((x[0] - ((x[0] * x[1]) * x[2])) + (x[0] + ((x[0] - x[2]) + x[0])))) + x[0]) + x[0]))), Age: 11, Complexity: 150\n"
     ]
    },
    {
     "name": "stderr",
     "output_type": "stream",
     "text": [
      " 88%|████████▊ | 525/600 [3:38:36<46:14, 37.00s/it]  "
     ]
    },
    {
     "name": "stdout",
     "output_type": "stream",
     "text": [
      "Initial: 567, Deduplicated: 27, Operation simplified: 0, Constant: 0, Complex: 143, Final: 397\n",
      "Population mean complexity: 133.96725440806046\n",
      "Population mean fitness: 31433898768705.977\n",
      "\n",
      "0. Fitness: 25111602069665.13281, Fitness_val = 25891110360437.17188, Genome: ((((((x[0] * x[2]) - ((x[0] * x[1]) * x[2])) - (x[0] * (x[0] * x[1]))) + ((x[0] + (((((x[0] - ((x[0] * x[1]) * x[2])) + (((((((x[0] - (((x[0] - x[2]) * x[0]) * x[2])) + x[0]) + x[0]) + x[0]) - x[1]) + x[0]) + x[0])) + x[0]) - x[1]) + x[0])) + exp(x[0]))) * ((x[0] + ((x[0] + ((x[0] - ((x[0] * x[1]) * x[0])) + ((x[0] + (x[1] + x[0])) + ((x[0] - ((x[0] * x[1]) * x[2])) + x[0])))) + x[0])) + (x[0] + (((x[2] + ((x[0] - (((x[0] - x[2]) * x[0]) * x[2])) + x[0])) + x[0]) + x[0])))) * ((((x[1] - (x[0] * x[2])) * x[0]) - (x[0] * (x[0] * x[1]))) + (((x[0] + ((x[0] - ((x[0] * x[1]) * x[2])) + x[0])) + x[0]) + x[0]))), Age: 0, Complexity: 144\n",
      "1. Fitness: 25264048139537.19531, Fitness_val = 25891739430130.34375, Genome: (((((x[2] - ((x[0] * x[1]) * x[2])) - (x[0] * (x[0] * x[1]))) + ((x[0] + (((((x[0] - ((x[0] * x[1]) * x[2])) + (((((((x[0] - (((x[0] - x[2]) * x[0]) * x[2])) + x[0]) + x[0]) + x[0]) - x[1]) + x[0]) + x[0])) + x[0]) - x[1]) + x[0])) + exp(x[0]))) * ((x[1] + ((x[0] + ((x[0] - ((x[0] * x[1]) * x[0])) + ((x[0] + (x[1] + x[0])) + ((x[0] - ((x[0] * x[1]) * x[2])) + x[0])))) + x[0])) + (x[0] + (((x[2] + ((x[2] - (((x[0] - x[2]) * x[0]) * x[2])) + x[0])) + x[0]) + x[0])))) * ((((x[1] - (x[0] * x[2])) * x[0]) - (x[0] * (x[0] * x[1]))) + (((x[0] + ((x[0] - ((x[0] * x[1]) * x[2])) + x[0])) + x[0]) + x[0]))), Age: 0, Complexity: 142\n",
      "2. Fitness: 25150343081266.11328, Fitness_val = 25925015233330.05078, Genome: ((((((x[0] * x[2]) - ((x[0] * x[1]) * x[2])) - (x[0] * (x[0] * x[1]))) + ((x[0] + (((((x[0] - ((x[0] * x[1]) * x[2])) + (((((((x[0] - (((x[0] - x[2]) * x[0]) * x[2])) + x[0]) + x[0]) + x[0]) - x[1]) + x[0]) + x[0])) + x[0]) - x[1]) + x[0])) + exp(x[0]))) * ((x[0] + ((x[0] + ((x[0] - ((x[0] * x[1]) * x[0])) + ((x[0] + (x[1] + x[0])) + ((x[0] - ((x[0] * x[1]) * x[2])) + x[0])))) + x[0])) + (x[0] + (((x[2] + ((x[2] - (((x[0] - x[2]) * x[0]) * x[2])) + x[0])) + x[0]) + x[0])))) * ((((x[1] - (x[0] * x[2])) * x[0]) - (x[0] * (x[0] * x[1]))) + (((x[0] + ((x[0] - ((x[0] * x[1]) * x[2])) + x[0])) + x[0]) + x[0]))), Age: 0, Complexity: 144\n",
      "3. Fitness: 25220587106067.17578, Fitness_val = 25972838056115.05469, Genome: ((((((x[0] * x[2]) - ((x[0] * x[1]) * x[2])) - (x[0] * (x[0] * x[1]))) + ((x[0] + (((((x[0] - ((x[0] * x[1]) * x[2])) + (((((((x[0] - (((x[0] - x[2]) * x[0]) * x[2])) + x[0]) + x[0]) + x[0]) - (x[0] + ((x[0] - x[2]) + x[0]))) + x[0]) + x[0])) + x[0]) - x[1]) + x[0])) + exp(x[0]))) * ((x[0] + ((x[0] + ((x[0] - ((x[0] * x[1]) * x[0])) + ((x[0] + (x[1] + x[0])) + ((x[0] - ((x[0] * x[1]) * x[2])) + x[0])))) + x[0])) + (x[0] + (((x[2] + ((x[0] - (((x[0] - x[2]) * x[0]) * x[2])) + x[0])) + x[0]) + x[0])))) * ((((x[1] - (x[0] * x[2])) * x[0]) - (x[0] * (x[0] * x[1]))) + (((x[0] + ((x[0] - ((x[0] * x[1]) * x[2])) + x[0])) + x[0]) + x[0]))), Age: 11, Complexity: 150\n",
      "4. Fitness: 24981539545173.70703, Fitness_val = 25976467904974.49609, Genome: ((((((x[0] * x[1]) - ((x[0] * x[1]) * x[2])) - (x[0] * (x[0] * x[1]))) + ((x[0] + (((((x[0] - ((x[0] * x[1]) * x[2])) + (((((((x[0] - (((x[0] - x[2]) * x[0]) * x[2])) + x[0]) + (x[0] + x[0])) + x[0]) - x[1]) + x[0]) + x[0])) - x[0]) - x[1]) + x[0])) + abs(x[0]))) * ((x[0] + ((x[0] + ((x[0] - ((x[0] * x[1]) * x[0])) + (x[0] + ((x[0] - ((x[0] * x[1]) * x[2])) + x[0])))) + x[0])) + (x[0] + (((x[0] + (((x[2] + ((x[0] - (((x[0] - x[2]) * x[0]) * x[2])) + x[0])) + x[0]) + x[0])) + x[0]) + x[0])))) * ((((x[2] - (x[0] * x[2])) * x[0]) - (x[0] * (x[0] * x[1]))) + ((((((x[0] * x[1]) - x[2]) + x[0]) + ((x[0] - ((x[0] * x[1]) * x[2])) + (x[0] + (x[0] + x[0])))) + x[0]) + x[0]))), Age: 6, Complexity: 150\n"
     ]
    },
    {
     "name": "stderr",
     "output_type": "stream",
     "text": [
      " 90%|█████████ | 540/600 [3:48:07<40:18, 40.30s/it]"
     ]
    },
    {
     "name": "stdout",
     "output_type": "stream",
     "text": [
      "Initial: 562, Deduplicated: 38, Operation simplified: 0, Constant: 0, Complex: 147, Final: 377\n",
      "Population mean complexity: 135.57029177718832\n",
      "Population mean fitness: 36425112031980.55\n",
      "\n",
      "0. Fitness: 25111602069665.13281, Fitness_val = 25891110360437.17188, Genome: ((((((x[0] * x[2]) - ((x[0] * x[1]) * x[2])) - (x[0] * (x[0] * x[1]))) + ((x[0] + (((((x[0] - ((x[0] * x[1]) * x[2])) + (((((((x[0] - (((x[0] - x[2]) * x[0]) * x[2])) + x[0]) + x[0]) + x[0]) - x[1]) + x[0]) + x[0])) + x[0]) - x[1]) + x[0])) + exp(x[0]))) * ((x[0] + ((x[0] + ((x[0] - ((x[0] * x[1]) * x[0])) + ((x[0] + (x[1] + x[0])) + ((x[0] - ((x[0] * x[1]) * x[2])) + x[0])))) + x[0])) + (x[0] + (((x[2] + ((x[0] - (((x[0] - x[2]) * x[0]) * x[2])) + x[0])) + x[0]) + x[0])))) * ((((x[1] - (x[0] * x[2])) * x[0]) - (x[0] * (x[0] * x[1]))) + (((x[0] + ((x[0] - ((x[0] * x[1]) * x[2])) + x[0])) + x[0]) + x[0]))), Age: 0, Complexity: 144\n",
      "1. Fitness: 25264048139537.19531, Fitness_val = 25891739430130.34375, Genome: (((((x[2] - ((x[0] * x[1]) * x[2])) - (x[0] * (x[0] * x[1]))) + ((x[0] + (((((x[0] - ((x[0] * x[1]) * x[2])) + (((((((x[0] - (((x[0] - x[2]) * x[0]) * x[2])) + x[0]) + x[0]) + x[0]) - x[1]) + x[0]) + x[0])) + x[0]) - x[1]) + x[0])) + exp(x[0]))) * ((x[1] + ((x[0] + ((x[0] - ((x[0] * x[1]) * x[0])) + ((x[0] + (x[1] + x[0])) + ((x[0] - ((x[0] * x[1]) * x[2])) + x[0])))) + x[0])) + (x[0] + (((x[2] + ((x[2] - (((x[0] - x[2]) * x[0]) * x[2])) + x[0])) + x[0]) + x[0])))) * ((((x[1] - (x[0] * x[2])) * x[0]) - (x[0] * (x[0] * x[1]))) + (((x[0] + ((x[0] - ((x[0] * x[1]) * x[2])) + x[0])) + x[0]) + x[0]))), Age: 0, Complexity: 142\n",
      "2. Fitness: 24830404194532.71094, Fitness_val = 25903498195217.18750, Genome: (((((x[0] - ((x[0] * x[1]) * x[2])) - (x[0] * (x[0] * x[1]))) + ((x[0] + (((((x[0] - ((x[0] * x[1]) * x[2])) + (((((((x[0] - (((x[0] - x[2]) * x[0]) * x[2])) + x[0]) + (x[0] + x[0])) + x[0]) - x[1]) + x[0]) + x[0])) - x[0]) - x[1]) + x[0])) + abs(x[0]))) * ((x[0] + ((x[0] + ((x[0] - ((x[0] * x[1]) * x[0])) + (x[0] + ((x[0] - ((x[0] * x[1]) * x[2])) + ((x[0] - x[2]) * x[0]))))) + x[0])) + (x[0] + (((x[0] + (((x[2] + ((x[0] - (((x[0] - x[2]) * x[0]) * x[2])) + x[0])) + x[0]) + x[0])) + x[0]) + x[0])))) * ((((x[2] - (x[0] * x[2])) * x[0]) - (x[0] * (x[0] * x[1]))) + (((((x[0] - x[2]) + x[0]) + ((x[0] - ((x[0] * x[1]) * x[2])) + (x[0] + (x[0] + x[0])))) + x[0]) + x[0]))), Age: 0, Complexity: 150\n",
      "3. Fitness: 25150343081266.11328, Fitness_val = 25925015233330.05078, Genome: ((((((x[0] * x[2]) - ((x[0] * x[1]) * x[2])) - (x[0] * (x[0] * x[1]))) + ((x[0] + (((((x[0] - ((x[0] * x[1]) * x[2])) + (((((((x[0] - (((x[0] - x[2]) * x[0]) * x[2])) + x[0]) + x[0]) + x[0]) - x[1]) + x[0]) + x[0])) + x[0]) - x[1]) + x[0])) + exp(x[0]))) * ((x[0] + ((x[0] + ((x[0] - ((x[0] * x[1]) * x[0])) + ((x[0] + (x[1] + x[0])) + ((x[0] - ((x[0] * x[1]) * x[2])) + x[0])))) + x[0])) + (x[0] + (((x[2] + ((x[2] - (((x[0] - x[2]) * x[0]) * x[2])) + x[0])) + x[0]) + x[0])))) * ((((x[1] - (x[0] * x[2])) * x[0]) - (x[0] * (x[0] * x[1]))) + (((x[0] + ((x[0] - ((x[0] * x[1]) * x[2])) + x[0])) + x[0]) + x[0]))), Age: 10, Complexity: 144\n",
      "4. Fitness: 25240479518243.03125, Fitness_val = 25995209625406.41406, Genome: (((((x[0] - ((x[0] * x[1]) * x[2])) - (x[0] * (x[0] * x[1]))) + ((x[0] + (((((x[0] - ((x[0] * x[1]) * x[2])) + (((((((x[0] - (((x[0] - x[2]) * x[0]) * x[2])) + x[0]) + (x[0] - (((x[0] - x[2]) + x[0]) * x[2]))) + x[0]) - x[1]) + x[0]) + x[0])) - x[0]) - x[1]) + x[0])) + abs(x[0]))) * ((x[0] + ((x[0] + ((x[0] - ((x[0] * x[1]) * x[0])) + (x[0] + ((x[0] - ((x[0] * x[1]) * x[2])) + x[0])))) + x[0])) + (x[0] + (((x[0] + (((x[2] + ((x[0] - ((x[0] * x[0]) * x[2])) + x[0])) + x[0]) + x[0])) + x[0]) + x[0])))) * ((((x[2] - (x[0] * x[2])) * x[0]) - (x[0] * (x[0] * x[1]))) + (((((x[0] - x[2]) + x[0]) + ((x[0] - ((x[0] * x[1]) * x[2])) + (x[0] + (x[0] + x[0])))) + x[0]) + x[0]))), Age: 8, Complexity: 150\n"
     ]
    },
    {
     "name": "stderr",
     "output_type": "stream",
     "text": [
      " 92%|█████████▏| 554/600 [3:57:25<29:53, 38.98s/it]"
     ]
    },
    {
     "name": "stdout",
     "output_type": "stream",
     "text": [
      "Initial: 589, Deduplicated: 48, Operation simplified: 0, Constant: 2, Complex: 129, Final: 410\n",
      "Population mean complexity: 138.11951219512196\n",
      "Population mean fitness: 44536070126007.164\n",
      "\n"
     ]
    },
    {
     "name": "stderr",
     "output_type": "stream",
     "text": [
      " 92%|█████████▎| 555/600 [3:58:02<28:40, 38.23s/it]"
     ]
    },
    {
     "name": "stdout",
     "output_type": "stream",
     "text": [
      "0. Fitness: 24836403220047.37500, Fitness_val = 25745647672958.53906, Genome: (((((x[0] - ((x[0] * x[1]) * x[2])) - (x[0] * (x[0] * x[1]))) + ((x[0] + (((((x[0] - ((x[0] * x[1]) * x[2])) + (((((((x[0] - (((x[0] - x[2]) * x[0]) * x[2])) + x[0]) + (x[0] + x[0])) + x[0]) - x[1]) + x[0]) + x[0])) - x[0]) - x[1]) + x[2])) + abs(x[0]))) * ((x[0] + ((x[0] + ((x[0] - ((x[0] * x[1]) * x[0])) + (x[0] + ((x[0] - ((x[0] * x[1]) * x[2])) + x[0])))) + x[0])) + (x[0] + (((x[0] + (((x[2] + ((x[0] - (((x[0] - x[2]) * x[0]) * x[2])) + x[0])) + x[0]) + x[0])) + x[0]) + x[0])))) * ((((x[2] - (x[0] * x[2])) * x[0]) - (x[0] * (x[0] * x[1]))) + (((((x[0] - (x[0] * x[2])) + x[0]) + ((x[0] - ((x[0] * x[1]) * x[2])) + (x[0] + (x[0] + x[0])))) + x[0]) + x[0]))), Age: 0, Complexity: 148\n",
      "1. Fitness: 24887137422438.21875, Fitness_val = 25781919987278.51953, Genome: (((((x[0] - ((x[0] * x[1]) * x[2])) - (x[0] * (x[0] * x[1]))) + ((x[0] + (((((x[0] - ((x[0] * x[1]) * x[2])) + (((((((x[0] - (((x[0] - x[2]) * x[0]) * x[2])) + x[0]) + (x[0] + x[0])) + x[0]) - x[1]) + x[2]) + x[0])) - x[0]) - x[1]) + x[0])) + abs(x[0]))) * ((x[0] + ((x[0] + ((x[0] - ((x[0] * x[1]) * x[0])) + (x[0] + ((x[0] - ((x[0] * x[1]) * x[2])) + x[0])))) + x[0])) + (x[0] + ((((x[0] + (((x[2] + ((x[0] - (((x[0] - x[2]) * x[0]) * x[2])) + x[0])) + x[0]) + x[0])) + x[0]) + x[0]) + x[0])))) * ((((x[2] - (x[0] * x[2])) * x[0]) - (x[0] * (x[0] * x[1]))) + ((((x[0] + x[0]) + (((x[2] - (x[0] * x[2])) - ((x[0] * x[1]) * x[2])) + (x[0] + (x[0] + x[0])))) + x[0]) + x[0]))), Age: 0, Complexity: 150\n",
      "2. Fitness: 24907362077140.12109, Fitness_val = 25802183814347.13281, Genome: (((((x[0] - ((x[0] * x[1]) * x[2])) - (x[0] * (x[0] * x[1]))) + ((x[0] + (((((x[0] - ((x[0] * x[1]) * x[2])) + (((((((x[0] - (((x[0] - x[2]) * x[0]) * x[2])) + x[0]) + (x[0] + x[0])) + x[0]) - x[0]) + x[0]) + x[0])) - x[0]) - x[1]) + x[2])) + abs(x[0]))) * ((x[0] + ((x[0] + ((x[0] - ((x[0] * x[1]) * x[0])) + (x[0] + ((x[0] - ((x[0] * x[1]) * x[2])) + x[0])))) + x[0])) + (x[0] + (((x[0] + (((x[2] + ((x[0] - (((x[0] - x[2]) * x[0]) * x[2])) + x[0])) + x[0]) + x[0])) + x[0]) + x[0])))) * ((((x[2] - (x[0] * x[2])) * x[0]) - (x[0] * (x[0] * x[1]))) + (((((x[0] - (x[0] * x[2])) + x[0]) + ((x[0] - ((x[0] * x[1]) * x[2])) + (x[0] + (x[0] + x[0])))) + x[0]) + x[0]))), Age: 0, Complexity: 148\n",
      "3. Fitness: 24946686881045.90625, Fitness_val = 25816037522409.53516, Genome: (((((x[0] - ((x[0] * x[1]) * x[2])) - (x[0] * (x[0] * x[1]))) + ((x[0] + (((((x[0] - ((x[0] * x[1]) * x[2])) + (((((((x[0] - (((x[0] - x[2]) * x[0]) * x[2])) + x[0]) + (x[0] * x[1])) + x[0]) - x[1]) + x[0]) + x[0])) - x[0]) - x[1]) + x[0])) + abs(x[0]))) * ((x[0] + ((x[0] + ((x[0] - ((x[0] * x[1]) * x[0])) + (x[0] + ((x[0] - ((x[0] * x[1]) * x[2])) + x[0])))) + x[0])) + (x[0] + (((x[0] + (((x[2] + ((x[0] - (((x[0] - x[2]) * x[0]) * x[2])) + x[0])) + x[0]) + x[0])) + x[0]) + x[0])))) * ((((x[0] - (x[0] * x[2])) * x[0]) - (x[0] * (x[0] * x[1]))) + (((((x[0] - x[2]) + x[0]) + ((x[0] - ((x[0] * x[1]) * x[2])) + (x[0] + (x[0] + x[0])))) + x[0]) + x[0]))), Age: 0, Complexity: 146\n",
      "4. Fitness: 25111602069665.13281, Fitness_val = 25891110360437.17188, Genome: ((((((x[0] * x[2]) - ((x[0] * x[1]) * x[2])) - (x[0] * (x[0] * x[1]))) + ((x[0] + (((((x[0] - ((x[0] * x[1]) * x[2])) + (((((((x[0] - (((x[0] - x[2]) * x[0]) * x[2])) + x[0]) + x[0]) + x[0]) - x[1]) + x[0]) + x[0])) + x[0]) - x[1]) + x[0])) + exp(x[0]))) * ((x[0] + ((x[0] + ((x[0] - ((x[0] * x[1]) * x[0])) + ((x[0] + (x[1] + x[0])) + ((x[0] - ((x[0] * x[1]) * x[2])) + x[0])))) + x[0])) + (x[0] + (((x[2] + ((x[0] - (((x[0] - x[2]) * x[0]) * x[2])) + x[0])) + x[0]) + x[0])))) * ((((x[1] - (x[0] * x[2])) * x[0]) - (x[0] * (x[0] * x[1]))) + (((x[0] + ((x[0] - ((x[0] * x[1]) * x[2])) + x[0])) + x[0]) + x[0]))), Age: 9, Complexity: 144\n"
     ]
    },
    {
     "name": "stderr",
     "output_type": "stream",
     "text": [
      " 95%|█████████▌| 570/600 [4:07:49<20:00, 40.02s/it]"
     ]
    },
    {
     "name": "stdout",
     "output_type": "stream",
     "text": [
      "Initial: 580, Deduplicated: 47, Operation simplified: 0, Constant: 0, Complex: 189, Final: 344\n",
      "Population mean complexity: 137.45058139534885\n",
      "Population mean fitness: 39879780417916.83\n",
      "\n",
      "0. Fitness: 24836403220047.37500, Fitness_val = 25745647672958.53906, Genome: (((((x[0] - ((x[0] * x[1]) * x[2])) - (x[0] * (x[0] * x[1]))) + ((x[0] + (((((x[0] - ((x[0] * x[1]) * x[2])) + (((((((x[0] - (((x[0] - x[2]) * x[0]) * x[2])) + x[0]) + (x[0] + x[0])) + x[0]) - x[1]) + x[0]) + x[0])) - x[0]) - x[1]) + x[2])) + abs(x[0]))) * ((x[0] + ((x[0] + ((x[0] - ((x[0] * x[1]) * x[0])) + (x[0] + ((x[0] - ((x[0] * x[1]) * x[2])) + x[0])))) + x[0])) + (x[0] + (((x[0] + (((x[2] + ((x[0] - (((x[0] - x[2]) * x[0]) * x[2])) + x[0])) + x[0]) + x[0])) + x[0]) + x[0])))) * ((((x[2] - (x[0] * x[2])) * x[0]) - (x[0] * (x[0] * x[1]))) + (((((x[0] - (x[0] * x[2])) + x[0]) + ((x[0] - ((x[0] * x[1]) * x[2])) + (x[0] + (x[0] + x[0])))) + x[0]) + x[0]))), Age: 0, Complexity: 148\n",
      "1. Fitness: 24887137422438.21875, Fitness_val = 25781919987278.51953, Genome: (((((x[0] - ((x[0] * x[1]) * x[2])) - (x[0] * (x[0] * x[1]))) + ((x[0] + (((((x[0] - ((x[0] * x[1]) * x[2])) + (((((((x[0] - (((x[0] - x[2]) * x[0]) * x[2])) + x[0]) + (x[0] + x[0])) + x[0]) - x[1]) + x[2]) + x[0])) - x[0]) - x[1]) + x[0])) + abs(x[0]))) * ((x[0] + ((x[0] + ((x[0] - ((x[0] * x[1]) * x[0])) + (x[0] + ((x[0] - ((x[0] * x[1]) * x[2])) + x[0])))) + x[0])) + (x[0] + ((((x[0] + (((x[2] + ((x[0] - (((x[0] - x[2]) * x[0]) * x[2])) + x[0])) + x[0]) + x[0])) + x[0]) + x[0]) + x[0])))) * ((((x[2] - (x[0] * x[2])) * x[0]) - (x[0] * (x[0] * x[1]))) + ((((x[0] + x[0]) + (((x[2] - (x[0] * x[2])) - ((x[0] * x[1]) * x[2])) + (x[0] + (x[0] + x[0])))) + x[0]) + x[0]))), Age: 0, Complexity: 150\n",
      "2. Fitness: 24907362077140.12109, Fitness_val = 25802183814347.13281, Genome: (((((x[0] - ((x[0] * x[1]) * x[2])) - (x[0] * (x[0] * x[1]))) + ((x[0] + (((((x[0] - ((x[0] * x[1]) * x[2])) + (((((((x[0] - (((x[0] - x[2]) * x[0]) * x[2])) + x[0]) + (x[0] + x[0])) + x[0]) - x[0]) + x[0]) + x[0])) - x[0]) - x[1]) + x[2])) + abs(x[0]))) * ((x[0] + ((x[0] + ((x[0] - ((x[0] * x[1]) * x[0])) + (x[0] + ((x[0] - ((x[0] * x[1]) * x[2])) + x[0])))) + x[0])) + (x[0] + (((x[0] + (((x[2] + ((x[0] - (((x[0] - x[2]) * x[0]) * x[2])) + x[0])) + x[0]) + x[0])) + x[0]) + x[0])))) * ((((x[2] - (x[0] * x[2])) * x[0]) - (x[0] * (x[0] * x[1]))) + (((((x[0] - (x[0] * x[2])) + x[0]) + ((x[0] - ((x[0] * x[1]) * x[2])) + (x[0] + (x[0] + x[0])))) + x[0]) + x[0]))), Age: 0, Complexity: 148\n",
      "3. Fitness: 24946686881045.90625, Fitness_val = 25816037522409.53516, Genome: (((((x[0] - ((x[0] * x[1]) * x[2])) - (x[0] * (x[0] * x[1]))) + ((x[0] + (((((x[0] - ((x[0] * x[1]) * x[2])) + (((((((x[0] - (((x[0] - x[2]) * x[0]) * x[2])) + x[0]) + (x[0] * x[1])) + x[0]) - x[1]) + x[0]) + x[0])) - x[0]) - x[1]) + x[0])) + abs(x[0]))) * ((x[0] + ((x[0] + ((x[0] - ((x[0] * x[1]) * x[0])) + (x[0] + ((x[0] - ((x[0] * x[1]) * x[2])) + x[0])))) + x[0])) + (x[0] + (((x[0] + (((x[2] + ((x[0] - (((x[0] - x[2]) * x[0]) * x[2])) + x[0])) + x[0]) + x[0])) + x[0]) + x[0])))) * ((((x[0] - (x[0] * x[2])) * x[0]) - (x[0] * (x[0] * x[1]))) + (((((x[0] - x[2]) + x[0]) + ((x[0] - ((x[0] * x[1]) * x[2])) + (x[0] + (x[0] + x[0])))) + x[0]) + x[0]))), Age: 15, Complexity: 146\n",
      "4. Fitness: 24984360255487.44922, Fitness_val = 25865420796124.24609, Genome: (((((x[0] - ((x[0] * x[1]) * x[2])) - (x[0] * (x[0] * x[1]))) + ((x[1] + (((((x[0] - ((x[0] * x[1]) * x[2])) + (((((((x[0] - (((x[0] - x[2]) * x[0]) * x[2])) + x[0]) + (x[0] + x[0])) + x[0]) - x[0]) + x[0]) + x[0])) - x[0]) - x[1]) + x[2])) + abs(x[0]))) * ((x[0] + ((x[0] + ((x[0] - ((x[0] * x[1]) * x[0])) + (x[0] + ((x[0] - ((x[0] * x[1]) * x[2])) + x[0])))) + x[0])) + (x[0] + (((x[0] + (((x[2] + ((x[0] - (((x[0] - x[2]) * x[0]) * x[2])) + x[0])) + x[0]) + x[0])) + x[0]) + x[0])))) * ((((x[2] - (x[0] * x[2])) * x[0]) - (x[0] * (x[0] * x[1]))) + (((((x[0] - (x[0] * x[2])) + x[0]) + ((x[0] - ((x[0] * x[1]) * x[2])) + (x[0] + (x[0] + x[0])))) + x[0]) + x[0]))), Age: 6, Complexity: 148\n"
     ]
    },
    {
     "name": "stderr",
     "output_type": "stream",
     "text": [
      " 97%|█████████▋| 584/600 [4:16:50<10:24, 39.00s/it]"
     ]
    },
    {
     "name": "stdout",
     "output_type": "stream",
     "text": [
      "Initial: 561, Deduplicated: 35, Operation simplified: 0, Constant: 0, Complex: 165, Final: 361\n",
      "Population mean complexity: 138.33518005540165\n",
      "Population mean fitness: 38935390674948.5\n",
      "\n"
     ]
    },
    {
     "name": "stderr",
     "output_type": "stream",
     "text": [
      " 98%|█████████▊| 585/600 [4:17:35<10:14, 40.94s/it]"
     ]
    },
    {
     "name": "stdout",
     "output_type": "stream",
     "text": [
      "0. Fitness: 24701781006323.71875, Fitness_val = 25712405860069.13672, Genome: (((((x[0] - ((x[0] * x[1]) * x[2])) - (x[0] * (x[0] * x[1]))) + ((x[0] + (((((x[0] - ((x[0] * x[1]) * x[2])) + (((((((x[0] - (((x[0] - x[2]) * x[0]) * x[2])) + x[0]) + (x[0] + x[0])) + x[0]) - x[1]) + x[0]) + x[0])) - x[1]) - x[1]) + x[0])) + abs(x[0]))) * ((x[0] + ((x[0] + ((x[0] - ((x[0] * x[1]) * x[0])) + (x[0] + ((x[0] - ((x[0] * x[1]) * x[2])) + x[0])))) + x[0])) + (x[0] + (((x[0] + (((x[2] + ((x[0] - (((x[0] - x[2]) * x[0]) * x[2])) + x[0])) + x[0]) + x[0])) + x[0]) + x[0])))) * ((((x[0] - (x[0] * x[2])) * x[0]) - (x[0] * (x[0] * x[1]))) + (((((x[0] - x[1]) + x[0]) + ((x[0] - ((x[0] * x[1]) * x[2])) + (x[0] + (x[0] + x[0])))) + (x[0] + x[0])) + x[0]))), Age: 0, Complexity: 148\n",
      "1. Fitness: 24836403220047.37500, Fitness_val = 25745647672958.53906, Genome: (((((x[0] - ((x[0] * x[1]) * x[2])) - (x[0] * (x[0] * x[1]))) + ((x[0] + (((((x[0] - ((x[0] * x[1]) * x[2])) + (((((((x[0] - (((x[0] - x[2]) * x[0]) * x[2])) + x[0]) + (x[0] + x[0])) + x[0]) - x[1]) + x[0]) + x[0])) - x[0]) - x[1]) + x[2])) + abs(x[0]))) * ((x[0] + ((x[0] + ((x[0] - ((x[0] * x[1]) * x[0])) + (x[0] + ((x[0] - ((x[0] * x[1]) * x[2])) + x[0])))) + x[0])) + (x[0] + (((x[0] + (((x[2] + ((x[0] - (((x[0] - x[2]) * x[0]) * x[2])) + x[0])) + x[0]) + x[0])) + x[0]) + x[0])))) * ((((x[2] - (x[0] * x[2])) * x[0]) - (x[0] * (x[0] * x[1]))) + (((((x[0] - (x[0] * x[2])) + x[0]) + ((x[0] - ((x[0] * x[1]) * x[2])) + (x[0] + (x[0] + x[0])))) + x[0]) + x[0]))), Age: 0, Complexity: 148\n",
      "2. Fitness: 24887137422438.21875, Fitness_val = 25781919987278.51953, Genome: (((((x[0] - ((x[0] * x[1]) * x[2])) - (x[0] * (x[0] * x[1]))) + ((x[0] + (((((x[0] - ((x[0] * x[1]) * x[2])) + (((((((x[0] - (((x[0] - x[2]) * x[0]) * x[2])) + x[0]) + (x[0] + x[0])) + x[0]) - x[1]) + x[2]) + x[0])) - x[0]) - x[1]) + x[0])) + abs(x[0]))) * ((x[0] + ((x[0] + ((x[0] - ((x[0] * x[1]) * x[0])) + (x[0] + ((x[0] - ((x[0] * x[1]) * x[2])) + x[0])))) + x[0])) + (x[0] + ((((x[0] + (((x[2] + ((x[0] - (((x[0] - x[2]) * x[0]) * x[2])) + x[0])) + x[0]) + x[0])) + x[0]) + x[0]) + x[0])))) * ((((x[2] - (x[0] * x[2])) * x[0]) - (x[0] * (x[0] * x[1]))) + ((((x[0] + x[0]) + (((x[2] - (x[0] * x[2])) - ((x[0] * x[1]) * x[2])) + (x[0] + (x[0] + x[0])))) + x[0]) + x[0]))), Age: 0, Complexity: 150\n",
      "3. Fitness: 24907362077140.12109, Fitness_val = 25802183814347.13281, Genome: (((((x[0] - ((x[0] * x[1]) * x[2])) - (x[0] * (x[0] * x[1]))) + ((x[0] + (((((x[0] - ((x[0] * x[1]) * x[2])) + (((((((x[0] - (((x[0] - x[2]) * x[0]) * x[2])) + x[0]) + (x[0] + x[0])) + x[0]) - x[0]) + x[0]) + x[0])) - x[0]) - x[1]) + x[2])) + abs(x[0]))) * ((x[0] + ((x[0] + ((x[0] - ((x[0] * x[1]) * x[0])) + (x[0] + ((x[0] - ((x[0] * x[1]) * x[2])) + x[0])))) + x[0])) + (x[0] + (((x[0] + (((x[2] + ((x[0] - (((x[0] - x[2]) * x[0]) * x[2])) + x[0])) + x[0]) + x[0])) + x[0]) + x[0])))) * ((((x[2] - (x[0] * x[2])) * x[0]) - (x[0] * (x[0] * x[1]))) + (((((x[0] - (x[0] * x[2])) + x[0]) + ((x[0] - ((x[0] * x[1]) * x[2])) + (x[0] + (x[0] + x[0])))) + x[0]) + x[0]))), Age: 11, Complexity: 148\n",
      "4. Fitness: 24940660567994.30469, Fitness_val = 25827611595209.14062, Genome: (((((x[0] - ((x[0] * x[1]) * x[2])) - (x[0] * (x[0] * x[1]))) + ((x[0] + (((((x[0] - ((x[0] * x[1]) * x[2])) + (((((((x[0] - (((x[0] - x[2]) * x[0]) * x[2])) + x[0]) + (x[0] + x[0])) + x[0]) - x[1]) + x[2]) + x[0])) - x[0]) - x[1]) + x[0])) + abs(x[0]))) * ((x[2] + ((x[0] + ((x[0] - ((x[0] * x[1]) * x[0])) + (x[0] + ((x[0] - ((x[0] * x[1]) * x[2])) + x[0])))) + x[0])) + (x[0] + ((((x[0] + (((x[2] + ((x[0] - (((x[0] - x[2]) * x[0]) * x[2])) + x[0])) + x[0]) + x[0])) + x[0]) + x[0]) + x[0])))) * ((((x[2] - (x[0] * x[2])) * x[0]) - (x[0] * (x[0] * x[1]))) + ((((x[0] + x[0]) + (((x[2] - (x[0] * x[2])) - ((x[0] * x[1]) * x[2])) + (x[0] + (x[0] + x[0])))) + x[0]) + x[0]))), Age: 13, Complexity: 150\n"
     ]
    },
    {
     "name": "stderr",
     "output_type": "stream",
     "text": [
      "100%|█████████▉| 599/600 [4:26:57<00:41, 41.80s/it]"
     ]
    },
    {
     "name": "stdout",
     "output_type": "stream",
     "text": [
      "Initial: 568, Deduplicated: 34, Operation simplified: 0, Constant: 0, Complex: 189, Final: 345\n",
      "Population mean complexity: 137.73333333333332\n",
      "Population mean fitness: 39574491022102.96\n",
      "\n"
     ]
    },
    {
     "name": "stderr",
     "output_type": "stream",
     "text": [
      "100%|██████████| 600/600 [4:27:37<00:00, 26.76s/it]"
     ]
    },
    {
     "name": "stdout",
     "output_type": "stream",
     "text": [
      "0. Fitness: 24701781006323.71875, Fitness_val = 25712405860069.13672, Genome: (((((x[0] - ((x[0] * x[1]) * x[2])) - (x[0] * (x[0] * x[1]))) + ((x[0] + (((((x[0] - ((x[0] * x[1]) * x[2])) + (((((((x[0] - (((x[0] - x[2]) * x[0]) * x[2])) + x[0]) + (x[0] + x[0])) + x[0]) - x[1]) + x[0]) + x[0])) - x[1]) - x[1]) + x[0])) + abs(x[0]))) * ((x[0] + ((x[0] + ((x[0] - ((x[0] * x[1]) * x[0])) + (x[0] + ((x[0] - ((x[0] * x[1]) * x[2])) + x[0])))) + x[0])) + (x[0] + (((x[0] + (((x[2] + ((x[0] - (((x[0] - x[2]) * x[0]) * x[2])) + x[0])) + x[0]) + x[0])) + x[0]) + x[0])))) * ((((x[0] - (x[0] * x[2])) * x[0]) - (x[0] * (x[0] * x[1]))) + (((((x[0] - x[1]) + x[0]) + ((x[0] - ((x[0] * x[1]) * x[2])) + (x[0] + (x[0] + x[0])))) + (x[0] + x[0])) + x[0]))), Age: 0, Complexity: 148\n",
      "1. Fitness: 24836403220047.37500, Fitness_val = 25745647672958.53906, Genome: (((((x[0] - ((x[0] * x[1]) * x[2])) - (x[0] * (x[0] * x[1]))) + ((x[0] + (((((x[0] - ((x[0] * x[1]) * x[2])) + (((((((x[0] - (((x[0] - x[2]) * x[0]) * x[2])) + x[0]) + (x[0] + x[0])) + x[0]) - x[1]) + x[0]) + x[0])) - x[0]) - x[1]) + x[2])) + abs(x[0]))) * ((x[0] + ((x[0] + ((x[0] - ((x[0] * x[1]) * x[0])) + (x[0] + ((x[0] - ((x[0] * x[1]) * x[2])) + x[0])))) + x[0])) + (x[0] + (((x[0] + (((x[2] + ((x[0] - (((x[0] - x[2]) * x[0]) * x[2])) + x[0])) + x[0]) + x[0])) + x[0]) + x[0])))) * ((((x[2] - (x[0] * x[2])) * x[0]) - (x[0] * (x[0] * x[1]))) + (((((x[0] - (x[0] * x[2])) + x[0]) + ((x[0] - ((x[0] * x[1]) * x[2])) + (x[0] + (x[0] + x[0])))) + x[0]) + x[0]))), Age: 0, Complexity: 148\n",
      "2. Fitness: 24737487181230.12109, Fitness_val = 25746127619925.19141, Genome: (((((x[0] - ((x[0] * x[1]) * x[2])) - (x[0] * (x[0] * x[1]))) + ((x[0] + (((((x[0] - ((x[0] * x[1]) * x[2])) + (((((((x[0] - (((x[0] - x[2]) * x[0]) * x[2])) + x[0]) + (x[0] + x[0])) + x[0]) - x[1]) + x[0]) + x[0])) - x[1]) - x[1]) + x[0])) + abs(x[0]))) * ((x[0] + ((x[2] + ((x[0] - ((x[0] * x[1]) * x[0])) + (x[0] + ((x[0] - ((x[0] * x[1]) * x[2])) + x[0])))) + x[0])) + (x[0] + (((x[0] + (((x[2] + ((x[0] - (((x[0] - x[2]) * x[0]) * x[2])) + x[0])) + x[0]) + x[0])) + x[0]) + x[0])))) * ((((x[0] - (x[0] * x[2])) * x[0]) - (x[0] * (x[0] * x[1]))) + (((((x[0] - x[1]) + x[0]) + ((x[0] - ((x[0] * x[1]) * x[2])) + (x[0] + (x[0] + x[0])))) + (x[0] + x[0])) + x[0]))), Age: 0, Complexity: 148\n",
      "3. Fitness: 24887137422438.21875, Fitness_val = 25781919987278.51953, Genome: (((((x[0] - ((x[0] * x[1]) * x[2])) - (x[0] * (x[0] * x[1]))) + ((x[0] + (((((x[0] - ((x[0] * x[1]) * x[2])) + (((((((x[0] - (((x[0] - x[2]) * x[0]) * x[2])) + x[0]) + (x[0] + x[0])) + x[0]) - x[1]) + x[2]) + x[0])) - x[0]) - x[1]) + x[0])) + abs(x[0]))) * ((x[0] + ((x[0] + ((x[0] - ((x[0] * x[1]) * x[0])) + (x[0] + ((x[0] - ((x[0] * x[1]) * x[2])) + x[0])))) + x[0])) + (x[0] + ((((x[0] + (((x[2] + ((x[0] - (((x[0] - x[2]) * x[0]) * x[2])) + x[0])) + x[0]) + x[0])) + x[0]) + x[0]) + x[0])))) * ((((x[2] - (x[0] * x[2])) * x[0]) - (x[0] * (x[0] * x[1]))) + ((((x[0] + x[0]) + (((x[2] - (x[0] * x[2])) - ((x[0] * x[1]) * x[2])) + (x[0] + (x[0] + x[0])))) + x[0]) + x[0]))), Age: 15, Complexity: 150\n",
      "4. Fitness: 24662038844674.79688, Fitness_val = 25963098702944.80469, Genome: (((((x[0] - ((x[0] * x[1]) * x[2])) - (x[0] * (x[0] * x[1]))) + (((x[0] * x[1]) + (((((x[0] - ((x[0] * x[1]) * x[2])) + (((((((x[0] - (((x[0] - x[2]) * x[0]) * x[2])) + x[0]) + (x[0] + x[0])) + x[0]) - x[1]) + x[0]) + x[0])) - x[1]) - x[1]) + x[0])) + abs(x[0]))) * ((x[0] + ((x[0] + ((x[0] - ((x[0] * x[1]) * x[0])) + (x[0] + ((x[0] - ((x[0] * x[1]) * x[2])) + x[0])))) + x[0])) + (x[0] + (((x[0] + (((x[0] + ((x[0] - (((x[0] - x[2]) * x[0]) * x[2])) + x[0])) + x[0]) + x[0])) + x[0]) + x[0])))) * ((((x[2] - (x[0] * x[2])) * x[0]) - (x[0] * (x[0] * x[1]))) + (((((x[0] - x[1]) + x[0]) + ((x[0] - ((x[0] * x[1]) * x[2])) + (x[0] + (x[0] + x[0])))) + (x[0] + x[0])) + x[0]))), Age: 6, Complexity: 150\n",
      "Best individual: Fitness = 24488481098150.844: Genome = ((((((x[0] * x[1]) - ((x[0] * x[1]) * x[2])) - (x[0] * (x[0] * x[1]))) + ((x[0] + ((((x[0] + (((((((x[0] + (((((x[0] - ((x[0] * x[1]) * x[2])) + (((((((x[0] - ((x[0] * x[0]) * x[2])) + x[1]) + (x[0] + x[2])) + x[0]) - x[1]) + x[0]) + x[0])) + x[0]) - x[1]) + x[0])) + exp(x[0])) + (x[0] + x[0])) + x[0]) - x[1]) + x[0]) + x[0])) + x[0]) - x[1]) + x[0])) + abs(x[0]))) * ((x[0] + ((x[0] + ((x[0] - ((x[0] * x[1]) * x[0])) + (x[0] + ((x[0] - ((x[0] * x[1]) * x[2])) + x[0])))) + x[0])) + (x[0] + (((x[2] + ((x[0] - (((x[0] - x[2]) * x[0]) * x[2])) + x[0])) + x[0]) + x[0])))) * ((((x[2] - (x[0] * x[2])) * x[0]) - (x[0] * (x[0] * x[1]))) + (((((x[0] - x[2]) + x[0]) + ((x[0] - ((x[0] * x[1]) * x[2])) + (x[0] + ((x[0] - x[2]) + x[0])))) + x[0]) + x[0])))\n",
      "Top 1: Fitness = 24701781006323.72 Fitness_val = 25712405860069.137 Genome = (((((x[0] - ((x[0] * x[1]) * x[2])) - (x[0] * (x[0] * x[1]))) + ((x[0] + (((((x[0] - ((x[0] * x[1]) * x[2])) + (((((((x[0] - (((x[0] - x[2]) * x[0]) * x[2])) + x[0]) + (x[0] + x[0])) + x[0]) - x[1]) + x[0]) + x[0])) - x[1]) - x[1]) + x[0])) + abs(x[0]))) * ((x[0] + ((x[0] + ((x[0] - ((x[0] * x[1]) * x[0])) + (x[0] + ((x[0] - ((x[0] * x[1]) * x[2])) + x[0])))) + x[0])) + (x[0] + (((x[0] + (((x[2] + ((x[0] - (((x[0] - x[2]) * x[0]) * x[2])) + x[0])) + x[0]) + x[0])) + x[0]) + x[0])))) * ((((x[0] - (x[0] * x[2])) * x[0]) - (x[0] * (x[0] * x[1]))) + (((((x[0] - x[1]) + x[0]) + ((x[0] - ((x[0] * x[1]) * x[2])) + (x[0] + (x[0] + x[0])))) + (x[0] + x[0])) + x[0])))\n",
      "Top 2: Fitness = 24836403220047.375 Fitness_val = 25745647672958.54 Genome = (((((x[0] - ((x[0] * x[1]) * x[2])) - (x[0] * (x[0] * x[1]))) + ((x[0] + (((((x[0] - ((x[0] * x[1]) * x[2])) + (((((((x[0] - (((x[0] - x[2]) * x[0]) * x[2])) + x[0]) + (x[0] + x[0])) + x[0]) - x[1]) + x[0]) + x[0])) - x[0]) - x[1]) + x[2])) + abs(x[0]))) * ((x[0] + ((x[0] + ((x[0] - ((x[0] * x[1]) * x[0])) + (x[0] + ((x[0] - ((x[0] * x[1]) * x[2])) + x[0])))) + x[0])) + (x[0] + (((x[0] + (((x[2] + ((x[0] - (((x[0] - x[2]) * x[0]) * x[2])) + x[0])) + x[0]) + x[0])) + x[0]) + x[0])))) * ((((x[2] - (x[0] * x[2])) * x[0]) - (x[0] * (x[0] * x[1]))) + (((((x[0] - (x[0] * x[2])) + x[0]) + ((x[0] - ((x[0] * x[1]) * x[2])) + (x[0] + (x[0] + x[0])))) + x[0]) + x[0])))\n",
      "Top 3: Fitness = 24737487181230.12 Fitness_val = 25746127619925.19 Genome = (((((x[0] - ((x[0] * x[1]) * x[2])) - (x[0] * (x[0] * x[1]))) + ((x[0] + (((((x[0] - ((x[0] * x[1]) * x[2])) + (((((((x[0] - (((x[0] - x[2]) * x[0]) * x[2])) + x[0]) + (x[0] + x[0])) + x[0]) - x[1]) + x[0]) + x[0])) - x[1]) - x[1]) + x[0])) + abs(x[0]))) * ((x[0] + ((x[2] + ((x[0] - ((x[0] * x[1]) * x[0])) + (x[0] + ((x[0] - ((x[0] * x[1]) * x[2])) + x[0])))) + x[0])) + (x[0] + (((x[0] + (((x[2] + ((x[0] - (((x[0] - x[2]) * x[0]) * x[2])) + x[0])) + x[0]) + x[0])) + x[0]) + x[0])))) * ((((x[0] - (x[0] * x[2])) * x[0]) - (x[0] * (x[0] * x[1]))) + (((((x[0] - x[1]) + x[0]) + ((x[0] - ((x[0] * x[1]) * x[2])) + (x[0] + (x[0] + x[0])))) + (x[0] + x[0])) + x[0])))\n",
      "Top 4: Fitness = 24887137422438.22 Fitness_val = 25781919987278.52 Genome = (((((x[0] - ((x[0] * x[1]) * x[2])) - (x[0] * (x[0] * x[1]))) + ((x[0] + (((((x[0] - ((x[0] * x[1]) * x[2])) + (((((((x[0] - (((x[0] - x[2]) * x[0]) * x[2])) + x[0]) + (x[0] + x[0])) + x[0]) - x[1]) + x[2]) + x[0])) - x[0]) - x[1]) + x[0])) + abs(x[0]))) * ((x[0] + ((x[0] + ((x[0] - ((x[0] * x[1]) * x[0])) + (x[0] + ((x[0] - ((x[0] * x[1]) * x[2])) + x[0])))) + x[0])) + (x[0] + ((((x[0] + (((x[2] + ((x[0] - (((x[0] - x[2]) * x[0]) * x[2])) + x[0])) + x[0]) + x[0])) + x[0]) + x[0]) + x[0])))) * ((((x[2] - (x[0] * x[2])) * x[0]) - (x[0] * (x[0] * x[1]))) + ((((x[0] + x[0]) + (((x[2] - (x[0] * x[2])) - ((x[0] * x[1]) * x[2])) + (x[0] + (x[0] + x[0])))) + x[0]) + x[0])))\n",
      "Top 5: Fitness = 24662038844674.797 Fitness_val = 25963098702944.805 Genome = (((((x[0] - ((x[0] * x[1]) * x[2])) - (x[0] * (x[0] * x[1]))) + (((x[0] * x[1]) + (((((x[0] - ((x[0] * x[1]) * x[2])) + (((((((x[0] - (((x[0] - x[2]) * x[0]) * x[2])) + x[0]) + (x[0] + x[0])) + x[0]) - x[1]) + x[0]) + x[0])) - x[1]) - x[1]) + x[0])) + abs(x[0]))) * ((x[0] + ((x[0] + ((x[0] - ((x[0] * x[1]) * x[0])) + (x[0] + ((x[0] - ((x[0] * x[1]) * x[2])) + x[0])))) + x[0])) + (x[0] + (((x[0] + (((x[0] + ((x[0] - (((x[0] - x[2]) * x[0]) * x[2])) + x[0])) + x[0]) + x[0])) + x[0]) + x[0])))) * ((((x[2] - (x[0] * x[2])) * x[0]) - (x[0] * (x[0] * x[1]))) + (((((x[0] - x[1]) + x[0]) + ((x[0] - ((x[0] * x[1]) * x[2])) + (x[0] + (x[0] + x[0])))) + (x[0] + x[0])) + x[0])))\n",
      "Top 6: Fitness = 24665775060366.41 Fitness_val = 25973136630584.95 Genome = (((((x[0] - ((x[0] * x[1]) * x[2])) - (x[0] * (x[0] * x[1]))) + (((x[0] * x[1]) + (((((x[0] - ((x[0] * x[1]) * x[2])) + (((((((x[0] - (((x[0] - x[2]) * x[0]) * x[2])) + x[0]) + (x[0] + x[0])) + x[0]) - x[1]) + x[0]) + x[0])) - x[1]) - x[1]) + x[0])) + abs(x[1]))) * ((x[0] + ((x[0] + ((x[0] - ((x[0] * x[1]) * x[0])) + (x[0] + ((x[0] - ((x[0] * x[1]) * x[2])) + x[0])))) + x[0])) + (x[0] + (((x[0] + (((x[0] + ((x[0] - (((x[0] - x[2]) * x[0]) * x[2])) + x[0])) + x[0]) + x[0])) + x[0]) + x[0])))) * ((((x[2] - (x[0] * x[2])) * x[0]) - (x[0] * (x[0] * x[1]))) + (((((x[0] - x[1]) + x[0]) + ((x[0] - ((x[0] * x[1]) * x[2])) + (x[0] + (x[0] + x[0])))) + (x[0] + x[0])) + x[0])))\n",
      "Top 7: Fitness = 24698932437096.098 Fitness_val = 25974705439404.12 Genome = (((((x[0] - ((x[0] * x[1]) * x[2])) - (x[0] * (x[0] * x[1]))) + (((x[0] * x[1]) + (((((x[0] - ((x[0] * x[1]) * x[2])) + (((((((x[0] - (((x[0] - x[2]) * x[0]) * x[2])) + x[0]) + (x[0] + x[0])) + x[0]) - x[1]) + x[0]) + x[0])) - x[1]) - x[1]) + x[0])) + abs(x[0]))) * ((x[0] + ((x[0] + ((x[0] - ((x[0] * x[1]) * x[0])) + (x[0] + ((x[0] - ((x[0] * x[1]) * x[2])) + x[0])))) + x[0])) + (x[0] + (((x[0] + (((x[0] + ((x[0] - (((x[0] - x[2]) * x[0]) * x[2])) + x[0])) + x[0]) + x[2])) + x[0]) + x[0])))) * ((((x[2] - (x[0] * x[2])) * x[0]) - (x[0] * (x[0] * x[1]))) + (((((x[0] - x[1]) + x[0]) + ((x[0] - ((x[0] * x[1]) * x[2])) + (x[0] + (x[0] + x[0])))) + (x[0] + x[0])) + x[0])))\n",
      "Top 8: Fitness = 24707392923320.08 Fitness_val = 25979657962194.547 Genome = (((((x[0] - ((x[0] * x[1]) * x[2])) - (x[0] * (x[0] * x[1]))) + (((x[0] * x[1]) + (((((x[0] - ((x[0] * x[1]) * x[2])) + (((((((x[0] - (((x[0] - x[2]) * x[0]) * x[2])) + x[0]) + (x[0] + x[2])) + x[0]) - x[1]) + x[0]) + x[0])) - x[1]) - x[1]) + x[0])) + abs(x[1]))) * ((x[0] + ((x[0] + ((x[0] - ((x[0] * x[1]) * x[0])) + (x[0] + ((x[0] - ((x[0] * x[1]) * x[2])) + x[0])))) + x[0])) + (x[0] + (((x[0] + (((x[0] + ((x[0] - (((x[0] - x[2]) * x[0]) * x[2])) + x[0])) + x[0]) + x[0])) + x[0]) + x[0])))) * ((((x[2] - (x[0] * x[2])) * x[0]) - (x[0] * (x[0] * x[1]))) + (((((x[0] - x[1]) + x[0]) + ((x[0] - ((x[0] * x[1]) * x[2])) + (x[0] + (x[0] + x[0])))) + (x[0] + x[0])) + x[0])))\n",
      "Top 9: Fitness = 24941182316669.215 Fitness_val = 25984920644401.02 Genome = (((((x[0] - ((x[0] * x[1]) * x[2])) - (x[0] * (x[0] * x[1]))) + ((x[0] + (((((x[0] - ((x[0] * x[1]) * x[2])) + (((((((x[0] - (((x[0] - x[2]) * x[0]) * x[2])) + x[0]) + (x[0] + x[0])) + x[0]) - x[1]) + x[0]) + x[0])) - x[0]) - x[1]) + x[0])) + x[1])) * ((x[0] + ((x[0] + ((x[0] - ((x[0] * x[1]) * x[0])) + (x[0] + ((x[0] - ((x[0] * x[1]) * x[2])) + ((x[0] - x[2]) * x[0]))))) + x[0])) + (x[0] + (((x[0] + (((x[2] + ((x[0] - (((x[0] - x[2]) * x[0]) * x[2])) + x[0])) + x[0]) + x[0])) + x[0]) + x[0])))) * ((((x[2] - (x[0] * x[2])) * x[0]) - (x[0] * (x[0] * x[1]))) + (((((x[0] - x[2]) + x[0]) + ((x[0] - ((x[0] * x[1]) * x[2])) + (x[0] + x[0]))) + x[0]) + x[0])))\n",
      "Top 10: Fitness = 24761317635055.38 Fitness_val = 26001259622969.12 Genome = (((((x[0] - ((x[0] * x[1]) * x[2])) - (x[0] * (x[0] * x[1]))) + (((x[0] * x[1]) + (((((x[0] - ((x[0] * x[1]) * x[2])) + (((((((x[0] - (((x[0] - x[2]) * x[0]) * x[2])) + x[0]) + (x[0] + x[0])) + x[0]) - x[0]) + x[0]) + x[0])) - x[1]) - x[1]) + x[0])) + abs(x[0]))) * ((x[0] + ((x[0] + ((x[0] - ((x[0] * x[1]) * x[0])) + (x[0] + ((x[0] - ((x[0] * x[1]) * x[2])) + x[0])))) + x[0])) + (x[0] + (((x[0] + (((x[2] + ((x[0] - (((x[0] - x[2]) * x[0]) * x[2])) + x[0])) + x[0]) + x[0])) + x[0]) + x[0])))) * ((((x[2] - (x[0] * x[2])) * x[0]) - (x[0] * (x[0] * x[1]))) + (((((x[0] - x[1]) + x[0]) + ((x[0] - ((x[0] * x[1]) * x[2])) + (x[0] + (x[0] + x[0])))) + (x[0] + x[0])) + x[0])))\n",
      "Top 11: Fitness = 24655669771465.145 Fitness_val = 26005772015131.547 Genome = (((((x[0] - ((x[0] * x[1]) * x[2])) - (x[0] * (x[0] * x[1]))) + ((x[0] + (((((x[0] - ((x[0] * x[1]) * x[2])) + (((((((x[0] - (((x[0] - x[2]) * x[0]) * x[2])) + x[0]) + (x[0] + x[0])) + x[0]) - x[1]) + x[0]) + x[0])) - x[1]) - x[1]) + x[0])) + abs(x[0]))) * ((x[0] + ((x[0] + ((x[0] - ((x[0] * x[1]) * x[0])) + (x[0] + ((x[0] - ((x[0] * x[1]) * x[2])) + x[0])))) + x[0])) + (x[0] + (((x[0] + (((x[2] + ((x[0] - (((x[0] - x[2]) * x[0]) * x[2])) + x[0])) + x[0]) + x[0])) + x[0]) + x[0])))) * ((((x[2] - (x[0] * x[2])) * x[0]) - (x[0] * (x[0] * x[1]))) + (((((x[0] - x[1]) + x[0]) + ((x[0] - ((x[0] * x[1]) * x[2])) + (x[0] + (x[0] + x[0])))) + (x[0] + x[0])) + x[0])))\n",
      "Top 12: Fitness = 24764541059958.92 Fitness_val = 26009974215177.125 Genome = (((((x[0] - ((x[0] * x[1]) * x[2])) - (x[0] * (x[0] * x[1]))) + (((x[0] * x[1]) + (((((x[0] - ((x[0] * x[1]) * x[2])) + (((((((x[0] - (((x[0] - x[2]) * x[0]) * x[2])) + x[0]) + (x[0] + x[0])) + x[0]) - x[1]) + x[0]) + x[0])) - x[0]) - x[1]) + x[0])) + abs(x[1]))) * ((x[0] + ((x[0] + ((x[0] - ((x[0] * x[1]) * x[0])) + (x[0] + ((x[0] - ((x[0] * x[1]) * x[2])) + x[0])))) + x[0])) + (x[0] + (((x[0] + (((x[2] + ((x[0] - (((x[0] - x[2]) * x[0]) * x[2])) + x[0])) + x[0]) + x[0])) + x[0]) + x[0])))) * ((((x[2] - (x[0] * x[2])) * x[0]) - (x[0] * (x[0] * x[1]))) + (((((x[0] - x[1]) + x[0]) + ((x[0] - ((x[0] * x[1]) * x[2])) + (x[0] + (x[0] + x[0])))) + (x[0] + x[0])) + x[0])))\n",
      "Top 13: Fitness = 24717139073876.504 Fitness_val = 26021560248813.062 Genome = (((((x[0] - ((x[0] * x[1]) * x[2])) - (x[0] * (x[0] * x[1]))) + ((x[0] + (((((x[0] - ((x[0] * x[1]) * x[2])) + (((((((x[2] + ((x[0] - (((x[0] - x[2]) * x[0]) * x[2])) + x[0])) + x[0]) + x[0]) + x[0]) - x[1]) + x[0]) + x[0])) - x[1]) - x[1]) + x[0])) + abs(x[0]))) * ((x[0] + ((x[0] + ((x[0] - ((x[0] * x[1]) * x[0])) + (x[0] + ((x[0] - ((x[0] * x[1]) * x[2])) + x[0])))) + x[1])) + (x[0] + (((x[0] + (((x[2] + ((x[0] - (((x[0] - x[2]) * x[0]) * x[2])) + x[0])) + x[0]) + x[0])) + x[0]) + x[0])))) * ((((x[2] - (x[0] * x[2])) * x[0]) - (x[0] * (x[0] * x[1]))) + (((((x[0] - x[1]) + x[0]) + ((x[0] - ((x[0] * x[1]) * x[2])) + (x[0] + (x[0] + x[0])))) + (x[0] + x[0])) + x[0])))\n",
      "Top 14: Fitness = 24696250879976.277 Fitness_val = 26022181453822.84 Genome = (((((x[0] - ((x[0] * x[1]) * x[2])) - (x[0] * (x[0] * x[1]))) + ((x[0] + (((((x[0] - ((x[0] * x[1]) * x[2])) + (((((((x[0] - (((x[0] - x[2]) * x[0]) * x[2])) + x[0]) + (x[0] + x[0])) + x[0]) - x[1]) + x[0]) + x[0])) - x[1]) - x[1]) + x[0])) + abs(x[0]))) * ((x[0] + ((x[2] + ((x[0] - ((x[0] * x[1]) * x[0])) + (x[0] + ((x[0] - ((x[0] * x[1]) * x[2])) + x[0])))) + x[0])) + (x[0] + (((x[0] + (((x[2] + ((x[0] - (((x[0] - x[2]) * x[0]) * x[2])) + x[0])) + x[0]) + x[0])) + x[0]) + x[0])))) * ((((x[2] - (x[0] * x[2])) * x[0]) - (x[0] * (x[0] * x[1]))) + (((((x[0] - x[1]) + x[0]) + ((x[0] - ((x[0] * x[1]) * x[2])) + (x[0] + (x[0] + x[0])))) + (x[0] + x[0])) + x[0])))\n",
      "Top 15: Fitness = 24812432293443.816 Fitness_val = 26022283090291.8 Genome = (((((x[0] - ((x[0] * x[1]) * x[2])) - (x[0] * (x[0] * x[1]))) + (((x[0] * x[1]) + (((((x[0] - ((x[0] * x[1]) * x[2])) + (((((((x[0] - (((x[0] - x[2]) * x[0]) * x[2])) + x[0]) + (x[0] + x[2])) + x[0]) - x[1]) + x[1]) + x[0])) - x[1]) - x[1]) + x[0])) + abs(x[0]))) * ((x[0] + ((x[0] + ((x[0] - ((x[0] * x[1]) * x[0])) + (x[0] + ((x[0] - ((x[0] * x[1]) * x[2])) + x[0])))) + x[0])) + (x[0] + (((x[0] + (((x[2] + ((x[0] - (((x[0] - x[2]) * x[0]) * x[2])) + x[0])) + x[0]) + x[0])) + x[0]) + x[0])))) * ((((x[2] - (x[0] * x[2])) * x[0]) - (x[0] * (x[0] * x[1]))) + (((((x[0] - x[1]) + x[0]) + ((x[0] - ((x[0] * x[1]) * x[2])) + (x[0] + (x[0] + x[0])))) + (x[0] + x[0])) + x[0])))\n",
      "Mean fitness of the population:  39574491022102.96\n",
      "Population size:  345\n",
      "Population mean complexity: 137.73333333333332\n"
     ]
    },
    {
     "name": "stderr",
     "output_type": "stream",
     "text": [
      "\n"
     ]
    }
   ],
   "source": [
    "problem = np.load(\"data/problem_2.npz\")\n",
    "x = problem[\"x\"]\n",
    "y = problem[\"y\"]\n",
    "print(\"x.shape:\", x.shape)\n",
    "print(\"y.shape:\", y.shape)\n",
    "print(\"x_train.shape: \", x_train.shape)\n",
    "print(\"x_val.shape: \", x_val.shape)\n",
    "print(\"y_train.shape: \", y_train.shape)\n",
    "print(\"y_val.shape: \", y_val.shape)\n",
    "x_train, y_train, x_val, y_val = split_dataset(x,y,0.8)\n",
    "my_pop_2 = evolve(x_train,y_train,x_val,y_val,conf)"
   ]
  },
  {
   "cell_type": "code",
   "execution_count": 4,
   "metadata": {},
   "outputs": [],
   "source": [
    "conf[\"MAX_DEPTH_INITIAL\"] = 7\n",
    "conf[\"MAX_COMPLEXITY\"] = 150"
   ]
  },
  {
   "cell_type": "code",
   "execution_count": 6,
   "metadata": {},
   "outputs": [
    {
     "name": "stdout",
     "output_type": "stream",
     "text": [
      "x.shape: (3, 5000)\n",
      "y.shape: (5000,)\n",
      "x_train.shape:  (3, 800)\n",
      "x_val.shape:  (3, 200)\n",
      "y_train.shape:  (800,)\n",
      "y_val.shape:  (200,)\n",
      "Population is creating with a size:  100\n",
      "Population has created.\n",
      "Individual fitness values are assigning\n",
      " Population size: 55\n",
      "Population mean fitness: 2881.474525219636\n",
      "Population mean complexity: 1065.8363636363636\n",
      "Top 1: Fitness = 2716.53769 Fitness_val = 2553.09164 Genome = exp(x[0])\n",
      "Top 2: Fitness = 2667.37719 Fitness_val = 2746.52960 Genome = tan([1.36412633])\n",
      "Top 3: Fitness = 2710.64799 Fitness_val = 2809.69084 Genome = exp([1.23372264])\n",
      "Top 4: Fitness = 2720.26248 Fitness_val = 2823.51462 Genome = ([-1.90807936] / [-0.60547923])\n",
      "Top 5: Fitness = 2742.00725 Fitness_val = 2865.48502 Genome = abs(x[2])\n"
     ]
    },
    {
     "name": "stderr",
     "output_type": "stream",
     "text": [
      "  0%|          | 1/600 [00:03<38:07,  3.82s/it]"
     ]
    },
    {
     "name": "stdout",
     "output_type": "stream",
     "text": [
      "New best result found: Individual(genome=(x[1] * x[1]), fitness=np.float64(2613.550126004394), fitness_val=np.float64(2505.6195112219652), age=0, T=1)\n"
     ]
    },
    {
     "name": "stderr",
     "output_type": "stream",
     "text": [
      "  1%|          | 4/600 [00:14<36:31,  3.68s/it]"
     ]
    },
    {
     "name": "stdout",
     "output_type": "stream",
     "text": [
      "New best result found: Individual(genome=exp([3.15135395]), fitness=np.float64(2435.543789019943), fitness_val=np.float64(2237.713848311181), age=0, T=1)\n"
     ]
    },
    {
     "name": "stderr",
     "output_type": "stream",
     "text": [
      "  1%|          | 5/600 [00:17<36:35,  3.69s/it]"
     ]
    },
    {
     "name": "stdout",
     "output_type": "stream",
     "text": [
      "New best result found: Individual(genome=exp((tan([1.36412633]) * [0.70692579])), fitness=np.float64(2504.0588160434336), fitness_val=np.float64(2220.4342084424884), age=0, T=1)\n"
     ]
    },
    {
     "name": "stderr",
     "output_type": "stream",
     "text": [
      "  2%|▏         | 14/600 [01:00<49:52,  5.11s/it]"
     ]
    },
    {
     "name": "stdout",
     "output_type": "stream",
     "text": [
      "New best result found: Individual(genome=(exp([3.15135395]) + tan(([4.51548028] * cos((sin(abs(cos((x[0] / x[1])))) * cos((tan([-4.85752494]) + [4.51548028]))))))), fitness=np.float64(2467.0262890605927), fitness_val=np.float64(2220.2685359013935), age=0, T=1)\n"
     ]
    },
    {
     "name": "stderr",
     "output_type": "stream",
     "text": [
      "  2%|▏         | 14/600 [01:06<46:04,  4.72s/it]"
     ]
    },
    {
     "name": "stdout",
     "output_type": "stream",
     "text": [
      "Simplified genome: (x[0] + x[2])\n",
      "Original genome: (x[0] + x[2])\n",
      "Simplified genome: ([0.65289924] + x[2])\n",
      "Original genome: ([0.65289924] + x[2])\n",
      "Simplified genome: ([0.72625855] + x[2])\n",
      "Original genome: (x[2] + [0.72625855])\n",
      "Simplified genome: ((-1 * x[0]) + x[1])\n",
      "Original genome: (x[1] - x[0])\n",
      "Simplified genome: cos(x[0])\n",
      "Original genome: cos(x[0])\n",
      "Simplified genome: ([-1.24453998] * x[2])\n",
      "Original genome: ([-1.24453998] * x[2])\n",
      "Simplified genome: ([-1.42102378] + x[1])\n",
      "Original genome: (x[1] - [1.42102378])\n",
      "Simplified genome: ([0.70692579] * x[1])\n",
      "Original genome: (x[1] * [0.70692579])\n",
      "Simplified genome: tan(x[2])\n",
      "Original genome: tan(x[2])\n",
      "Simplified genome: ([-0.746572] + (-1 * x[2]))\n",
      "Original genome: ([-0.746572] - x[2])\n",
      "Simplified genome: ([0.58917039] + (-1 * x[0]))\n",
      "Original genome: ([0.58917039] - x[0])\n",
      "Simplified genome: ([0.43987855] * x[2])\n",
      "Original genome: (x[2] * [0.43987855])\n",
      "Simplified genome: ([-0.13273082] + (-1 * x[0]))\n",
      "Original genome: ([-0.13273082] - x[0])\n",
      "No simplification applied for genome: (x[2] / x[2])\n",
      "Simplified genome: ([-1.22205393] + x[2])\n",
      "Original genome: (x[2] + [-1.22205393])\n",
      "Simplified genome: (x[0] + x[1])\n",
      "Original genome: (x[0] + x[1])\n",
      "Simplified genome: ([5.45877302] * x[1])\n",
      "Original genome: (x[1] / [0.18319135])\n",
      "Simplified genome: sin(x[0])\n",
      "Original genome: sin(x[0])\n",
      "Simplified genome: ([-0.93648007] * x[2])\n",
      "Original genome: (x[2] / [-1.06782838])\n",
      "No simplification applied for genome: (x[2] / x[1])\n",
      "Simplified genome: ([-0.58927481] * x[2])\n",
      "Original genome: ([-0.58927481] * x[2])\n",
      "Simplified genome: (2 * x[0])\n",
      "Original genome: (x[0] + x[0])\n",
      "Simplified genome: cos(x[2])\n",
      "Original genome: cos(x[2])\n",
      "Simplified genome: ([0.85805766] + (-1 * x[2]))\n",
      "Original genome: ([0.85805766] - x[2])\n",
      "Simplified genome: ([0.28312597] + (-1 * x[2]))\n",
      "Original genome: ([0.28312597] - x[2])\n",
      "Simplified genome: ([0.49697235] + (-1 * x[0]))\n",
      "Original genome: ([0.49697235] - x[0])\n",
      "Simplified genome: abs(x[2])\n",
      "Original genome: abs(x[2])\n",
      "Simplified genome: ([0.1752641] + x[0])\n",
      "Original genome: (x[0] - [-0.1752641])\n",
      "Simplified genome: (2 * x[2])\n",
      "Original genome: (x[2] + x[2])\n",
      "Simplified genome: ([-0.75851885] * x[1])\n",
      "Original genome: (x[1] / [-1.3183588])\n",
      "Simplified genome: x[0]\n",
      "Original genome: x[0]\n",
      "Error during simplification: could not convert string to float: '[-1.24453998]'\n",
      "Simplified genome: exp(([-1.24453998] * x[2]))\n",
      "Original genome: exp(([-1.24453998] * x[2]))\n",
      "Simplified genome: (([0.49697235] + (-1 * x[0])) + x[2])\n",
      "Original genome: (([0.49697235] - x[0]) + x[2])\n",
      "Simplified genome: x[2]\n",
      "Original genome: x[2]\n",
      "Simplified genome: ([-1.24453998] * x[1])\n",
      "Original genome: (x[1] * [-1.24453998])\n",
      "Simplified genome: exp(x[2])\n",
      "Original genome: ((x[0] + exp(x[2])) - x[0])\n",
      "Simplified genome: ([0.58917039] + (-1 * x[2]))\n",
      "Original genome: ([0.58917039] - x[2])\n",
      "Simplified genome: ([0.85805766] + (-1 * x[0]))\n",
      "Original genome: ([0.85805766] - x[0])\n",
      "Simplified genome: tan((2.0 * x[2]))\n",
      "Original genome: tan((x[2] + x[2]))\n",
      "Simplified genome: (3 * x[2])\n",
      "Original genome: ((x[2] + x[2]) + x[2])\n",
      "Simplified genome: ([2.40143118] * x[2])\n",
      "Original genome: (x[2] / [0.41641835])\n",
      "Simplified genome: x[1]\n",
      "Original genome: x[1]\n",
      "Simplified genome: ([0.49697235] + x[0])\n",
      "Original genome: ([0.49697235] + x[0])\n",
      "Simplified genome: ((-1 * x[0]) + x[2])\n",
      "Original genome: (x[2] - x[0])\n",
      "Error during simplification: could not convert string to float: '[-0.93648007]'\n",
      "Simplified genome: tan((x[2] / [-1.06782838]))\n",
      "Original genome: tan((x[2] / [-1.06782838]))\n",
      "Simplified genome: tan(x[0])\n",
      "Original genome: tan(x[0])\n",
      "Simplified genome: ([-0.746572] + (-1 * abs(x[2])))\n",
      "Original genome: ([-0.746572] - abs(x[2]))\n",
      "No simplification applied for genome: ([-1.90807936] / (x[1] * [0.70692579]))\n",
      "Simplified genome: ([0.49697235] + (-1 * x[2]))\n",
      "Original genome: ([0.49697235] - x[2])\n",
      "Simplified genome: ([0.81055496] * x[2])\n",
      "Original genome: (x[2] / [1.23372264])\n",
      "Simplified genome: ([0.97051076] + (-1 * x[2]))\n",
      "Original genome: ([0.97051076] - x[2])\n",
      "No simplification applied for genome: (x[0] * x[2])\n",
      "Simplified genome: exp(x[0])\n",
      "Original genome: exp(x[0])\n",
      "Simplified genome: ([3.37171411] * x[2])\n",
      "Original genome: ([3.37171411] * x[2])\n",
      "No simplification applied for genome: (x[2] / x[0])\n",
      "Simplified genome: ([-2.82164006] * x[2])\n",
      "Original genome: (x[2] / [-0.35440381])\n",
      "Simplified genome: ([0.90635225] + x[0])\n",
      "Original genome: (x[0] + [0.90635225])\n",
      "Simplified genome: ([3.91230348] + (-1 * x[0]))\n",
      "Original genome: ([3.91230348] - x[0])\n",
      "Simplified genome: ([0.26460934] * x[1])\n",
      "Original genome: ([0.26460934] * x[1])\n",
      "Simplified genome: exp(x[1])\n",
      "Original genome: exp(x[1])\n",
      "Simplified genome: ([0.1682478] * x[2])\n",
      "Original genome: (x[2] / [5.94361404])\n"
     ]
    },
    {
     "name": "stderr",
     "output_type": "stream",
     "text": [
      "\n"
     ]
    },
    {
     "ename": "StopIteration",
     "evalue": "",
     "output_type": "error",
     "traceback": [
      "\u001b[1;31m---------------------------------------------------------------------------\u001b[0m",
      "\u001b[1;31mStopIteration\u001b[0m                             Traceback (most recent call last)",
      "Cell \u001b[1;32mIn[6], line 11\u001b[0m\n\u001b[0;32m      9\u001b[0m \u001b[38;5;28mprint\u001b[39m(\u001b[38;5;124m\"\u001b[39m\u001b[38;5;124my_train.shape: \u001b[39m\u001b[38;5;124m\"\u001b[39m, y_train\u001b[38;5;241m.\u001b[39mshape)\n\u001b[0;32m     10\u001b[0m \u001b[38;5;28mprint\u001b[39m(\u001b[38;5;124m\"\u001b[39m\u001b[38;5;124my_val.shape: \u001b[39m\u001b[38;5;124m\"\u001b[39m, y_val\u001b[38;5;241m.\u001b[39mshape)\n\u001b[1;32m---> 11\u001b[0m my_pop_3 \u001b[38;5;241m=\u001b[39m \u001b[43mevolve\u001b[49m\u001b[43m(\u001b[49m\u001b[43mx_train\u001b[49m\u001b[43m,\u001b[49m\u001b[43my_train\u001b[49m\u001b[43m,\u001b[49m\u001b[43mx_val\u001b[49m\u001b[43m,\u001b[49m\u001b[43my_val\u001b[49m\u001b[43m,\u001b[49m\u001b[43mconf\u001b[49m\u001b[43m)\u001b[49m\n",
      "Cell \u001b[1;32mIn[4], line 102\u001b[0m, in \u001b[0;36mevolve\u001b[1;34m(train_x, train_y, val_x, val_y, conf)\u001b[0m\n\u001b[0;32m    100\u001b[0m kill_complex(my_population, MAX_COMPLEXITY)\n\u001b[0;32m    101\u001b[0m no_complex \u001b[38;5;241m=\u001b[39m \u001b[38;5;28mlen\u001b[39m(my_population)\n\u001b[1;32m--> 102\u001b[0m \u001b[43msimplify_population\u001b[49m\u001b[43m(\u001b[49m\u001b[43mmy_population\u001b[49m\u001b[43m)\u001b[49m\n\u001b[0;32m    105\u001b[0m \u001b[38;5;28mprint\u001b[39m(\u001b[38;5;124mf\u001b[39m\u001b[38;5;124m\"\u001b[39m\u001b[38;5;124mInitial: \u001b[39m\u001b[38;5;132;01m{\u001b[39;00minit_population\u001b[38;5;132;01m}\u001b[39;00m\u001b[38;5;124m, Deduplicated: \u001b[39m\u001b[38;5;132;01m{\u001b[39;00minit_population\u001b[38;5;241m-\u001b[39mdedup_population\u001b[38;5;132;01m}\u001b[39;00m\u001b[38;5;124m, Operation simplified: \u001b[39m\u001b[38;5;132;01m{\u001b[39;00mdedup_population\u001b[38;5;241m-\u001b[39msimplified_operations\u001b[38;5;132;01m}\u001b[39;00m\u001b[38;5;124m, Constant: \u001b[39m\u001b[38;5;132;01m{\u001b[39;00msimplified_operations\u001b[38;5;241m-\u001b[39mno_constant\u001b[38;5;132;01m}\u001b[39;00m\u001b[38;5;124m, Complex: \u001b[39m\u001b[38;5;132;01m{\u001b[39;00mno_constant\u001b[38;5;250m \u001b[39m\u001b[38;5;241m-\u001b[39m\u001b[38;5;250m \u001b[39mno_complex\u001b[38;5;132;01m}\u001b[39;00m\u001b[38;5;124m, Final: \u001b[39m\u001b[38;5;132;01m{\u001b[39;00mno_complex\u001b[38;5;132;01m}\u001b[39;00m\u001b[38;5;124m\"\u001b[39m)\n\u001b[0;32m    106\u001b[0m \u001b[38;5;28mprint\u001b[39m(\u001b[38;5;124mf\u001b[39m\u001b[38;5;124m\"\u001b[39m\u001b[38;5;124mPopulation mean complexity: \u001b[39m\u001b[38;5;132;01m{\u001b[39;00mcalculate_mean_complexity(my_population)\u001b[38;5;132;01m}\u001b[39;00m\u001b[38;5;124m\"\u001b[39m)\n",
      "File \u001b[1;32mc:\\Users\\abayr\\OneDrive\\Desktop\\Computational_Intelligence\\Projects\\CI_project_draft\\src\\utils.py:493\u001b[0m, in \u001b[0;36msimplify_population\u001b[1;34m(population)\u001b[0m\n\u001b[0;32m    490\u001b[0m \u001b[38;5;28;01mfor\u001b[39;00m individual \u001b[38;5;129;01min\u001b[39;00m population:\n\u001b[0;32m    491\u001b[0m     \u001b[38;5;66;03m# Attempt to simplify the genome\u001b[39;00m\n\u001b[0;32m    492\u001b[0m     existing_genome \u001b[38;5;241m=\u001b[39m copy\u001b[38;5;241m.\u001b[39mdeepcopy(individual\u001b[38;5;241m.\u001b[39mgenome)\n\u001b[1;32m--> 493\u001b[0m     simplified_genome \u001b[38;5;241m=\u001b[39m \u001b[43msimplify_tree_with_multiplication_and_division\u001b[49m\u001b[43m(\u001b[49m\u001b[43mindividual\u001b[49m\u001b[38;5;241;43m.\u001b[39;49m\u001b[43mgenome\u001b[49m\u001b[43m)\u001b[49m\n\u001b[0;32m    494\u001b[0m     \u001b[38;5;28;01mif\u001b[39;00m simplified_genome \u001b[38;5;129;01mis\u001b[39;00m \u001b[38;5;28;01mNone\u001b[39;00m:\n\u001b[0;32m    495\u001b[0m         \u001b[38;5;66;03m# Retain the original genome if simplification fails\u001b[39;00m\n\u001b[0;32m    496\u001b[0m         \u001b[38;5;28mprint\u001b[39m(\u001b[38;5;124mf\u001b[39m\u001b[38;5;124m\"\u001b[39m\u001b[38;5;124mNo simplification applied for genome: \u001b[39m\u001b[38;5;132;01m{\u001b[39;00mindividual\u001b[38;5;241m.\u001b[39mgenome\u001b[38;5;132;01m}\u001b[39;00m\u001b[38;5;124m\"\u001b[39m)\n",
      "File \u001b[1;32mc:\\Users\\abayr\\OneDrive\\Desktop\\Computational_Intelligence\\Projects\\CI_project_draft\\src\\utils.py:509\u001b[0m, in \u001b[0;36msimplify_tree_with_multiplication_and_division\u001b[1;34m(node)\u001b[0m\n\u001b[0;32m    506\u001b[0m \u001b[38;5;28;01mtry\u001b[39;00m:\n\u001b[0;32m    507\u001b[0m     \u001b[38;5;66;03m# Simplify arithmetic terms\u001b[39;00m\n\u001b[0;32m    508\u001b[0m     terms \u001b[38;5;241m=\u001b[39m collect_terms_with_multiplication_division(node)\n\u001b[1;32m--> 509\u001b[0m     simplified_tree \u001b[38;5;241m=\u001b[39m \u001b[43mrebuild_tree_with_multiplication_division\u001b[49m\u001b[43m(\u001b[49m\u001b[43mterms\u001b[49m\u001b[43m)\u001b[49m\n\u001b[0;32m    510\u001b[0m     \u001b[38;5;28;01mreturn\u001b[39;00m simplified_tree\n\u001b[0;32m    511\u001b[0m \u001b[38;5;28;01mexcept\u001b[39;00m \u001b[38;5;167;01mValueError\u001b[39;00m \u001b[38;5;28;01mas\u001b[39;00m e:\n",
      "File \u001b[1;32mc:\\Users\\abayr\\OneDrive\\Desktop\\Computational_Intelligence\\Projects\\CI_project_draft\\src\\utils.py:642\u001b[0m, in \u001b[0;36mrebuild_tree_with_multiplication_division\u001b[1;34m(terms)\u001b[0m\n\u001b[0;32m    639\u001b[0m inner_expr \u001b[38;5;241m=\u001b[39m unary_key[unary_key\u001b[38;5;241m.\u001b[39mfind(\u001b[38;5;124m'\u001b[39m\u001b[38;5;124m(\u001b[39m\u001b[38;5;124m'\u001b[39m)\u001b[38;5;241m+\u001b[39m\u001b[38;5;241m1\u001b[39m:\u001b[38;5;241m-\u001b[39m\u001b[38;5;241m1\u001b[39m]\n\u001b[0;32m    641\u001b[0m \u001b[38;5;66;03m# Find the corresponding numpy operator\u001b[39;00m\n\u001b[1;32m--> 642\u001b[0m op_func \u001b[38;5;241m=\u001b[39m \u001b[38;5;28;43mnext\u001b[39;49m\u001b[43m(\u001b[49m\u001b[43mop\u001b[49m\u001b[43m \u001b[49m\u001b[38;5;28;43;01mfor\u001b[39;49;00m\u001b[43m \u001b[49m\u001b[43mop\u001b[49m\u001b[43m,\u001b[49m\u001b[43m \u001b[49m\u001b[43msymbol\u001b[49m\u001b[43m \u001b[49m\u001b[38;5;129;43;01min\u001b[39;49;00m\u001b[43m \u001b[49m\u001b[43mNode\u001b[49m\u001b[38;5;241;43m.\u001b[39;49m\u001b[43mop_list\u001b[49m\u001b[38;5;241;43m.\u001b[39;49m\u001b[43mitems\u001b[49m\u001b[43m(\u001b[49m\u001b[43m)\u001b[49m\u001b[43m \u001b[49m\u001b[38;5;28;43;01mif\u001b[39;49;00m\u001b[43m \u001b[49m\u001b[43msymbol\u001b[49m\u001b[43m \u001b[49m\u001b[38;5;241;43m==\u001b[39;49m\u001b[43m \u001b[49m\u001b[43mop_name\u001b[49m\u001b[43m)\u001b[49m\n\u001b[0;32m    644\u001b[0m \u001b[38;5;66;03m# Parse the inner expression using our custom parser\u001b[39;00m\n\u001b[0;32m    645\u001b[0m inner_node \u001b[38;5;241m=\u001b[39m parse_inner_expression(inner_expr)\n",
      "\u001b[1;31mStopIteration\u001b[0m: "
     ]
    }
   ],
   "source": [
    "problem = np.load(\"data/problem_3.npz\")\n",
    "x = problem[\"x\"]\n",
    "y = problem[\"y\"]\n",
    "print(\"x.shape:\", x.shape)\n",
    "print(\"y.shape:\", y.shape)\n",
    "x_train, y_train, x_val, y_val = split_dataset(x[:,:1000],y[:1000],0.8)\n",
    "print(\"x_train.shape: \", x_train.shape)\n",
    "print(\"x_val.shape: \", x_val.shape)\n",
    "print(\"y_train.shape: \", y_train.shape)\n",
    "print(\"y_val.shape: \", y_val.shape)\n",
    "my_pop_3 = evolve(x_train,y_train,x_val,y_val,conf)"
   ]
  },
  {
   "cell_type": "code",
   "execution_count": 13,
   "metadata": {},
   "outputs": [
    {
     "name": "stdout",
     "output_type": "stream",
     "text": [
      "x.shape: (2, 5000)\n",
      "y.shape: (5000,)\n",
      "x_train.shape:  (2, 4000)\n",
      "x_val.shape:  (2, 1000)\n",
      "y_train.shape:  (4000,)\n",
      "y_val.shape:  (1000,)\n",
      "Population is creating with a size:  100\n",
      "Population has created.\n",
      "Individual fitness values are assigning\n",
      " Population size: 50\n",
      "Population mean fitness: 424.182134192444\n",
      "Population mean complexity: 234.76\n",
      "Top 1: Fitness = 21.54983 Fitness_val = 22.08658 Genome = exp([0.59455368])\n",
      "Top 2: Fitness = 21.74200 Fitness_val = 22.38322 Genome = exp([0.40649865])\n",
      "Top 3: Fitness = 22.57378 Fitness_val = 23.29537 Genome = (sin((sin(abs(((x[0] - [0.44041989]) + abs([-0.12643391])))) - (sin(sin(([0.69438677] * [-1.03459123]))) - ((exp([-1.42742308]) - tan([0.33236254])) / (tan(x[0]) - (x[0] - x[1])))))) + tan(sin(sin(tan(abs(cos(x[0])))))))\n",
      "Top 4: Fitness = 22.69284 Fitness_val = 23.54105 Genome = sin([2.05290583])\n",
      "Top 5: Fitness = 22.75268 Fitness_val = 23.61010 Genome = tan([0.70950123])\n"
     ]
    },
    {
     "name": "stderr",
     "output_type": "stream",
     "text": [
      "  0%|          | 2/600 [00:26<2:13:54, 13.44s/it]"
     ]
    },
    {
     "name": "stdout",
     "output_type": "stream",
     "text": [
      "New best result found: Individual(genome=[1.8200091], fitness=np.float64(21.547495781629152), fitness_val=np.float64(22.081623812030095), age=0, T=1)\n"
     ]
    },
    {
     "name": "stderr",
     "output_type": "stream",
     "text": [
      "  0%|          | 3/600 [00:36<1:59:43, 12.03s/it]"
     ]
    },
    {
     "name": "stdout",
     "output_type": "stream",
     "text": [
      "New best result found: Individual(genome=[2.17851859], fitness=np.float64(21.57123331758726), fitness_val=np.float64(21.98480123179138), age=0, T=1)\n"
     ]
    },
    {
     "name": "stderr",
     "output_type": "stream",
     "text": [
      "  1%|          | 6/600 [01:14<2:00:32, 12.18s/it]"
     ]
    },
    {
     "name": "stdout",
     "output_type": "stream",
     "text": [
      "New best result found: Individual(genome=exp(abs(sin(x[1]))), fitness=np.float64(20.859451535944434), fitness_val=np.float64(21.635653078151265), age=0, T=1)\n"
     ]
    },
    {
     "name": "stderr",
     "output_type": "stream",
     "text": [
      "  2%|▎         | 15/600 [03:06<1:59:45, 12.28s/it]"
     ]
    },
    {
     "name": "stdout",
     "output_type": "stream",
     "text": [
      "Initial: 585, Deduplicated: 331, Operation simplified: 0, Constant: 209, Complex: 6, Final: 39\n",
      "Population mean complexity: 14.538461538461538\n",
      "Population mean fitness: 16293.213999020396\n",
      "\n",
      "0. Fitness: 20.85945, Fitness_val = 21.63565, Genome: exp(abs(sin(x[1]))), Age: 0, Complexity: 50\n",
      "1. Fitness: 21.66248, Fitness_val = 22.21165, Genome: ([2.42545424] - abs(sin(abs(x[1])))), Age: 0, Complexity: 15\n",
      "2. Fitness: 21.86388, Fitness_val = 22.45991, Genome: exp(abs(sin(x[0]))), Age: 0, Complexity: 50\n",
      "3. Fitness: 22.60627, Fitness_val = 22.85514, Genome: ([2.69749347] + sin(x[0])), Age: 13, Complexity: 10\n",
      "4. Fitness: 22.05145, Fitness_val = 23.18764, Genome: tan(abs(sin(x[1]))), Age: 5, Complexity: 40\n"
     ]
    },
    {
     "name": "stderr",
     "output_type": "stream",
     "text": [
      "  3%|▎         | 17/600 [03:23<1:41:43, 10.47s/it]"
     ]
    },
    {
     "name": "stdout",
     "output_type": "stream",
     "text": [
      "New best result found: Individual(genome=exp(sin(abs(x[1]))), fitness=np.float64(20.321913577268532), fitness_val=np.float64(21.176706782723013), age=0, T=1)\n"
     ]
    },
    {
     "name": "stderr",
     "output_type": "stream",
     "text": [
      "  5%|▍         | 28/600 [04:51<1:05:30,  6.87s/it]"
     ]
    },
    {
     "name": "stdout",
     "output_type": "stream",
     "text": [
      "New best result found: Individual(genome=exp(sin(cos(x[1]))), fitness=np.float64(17.16668180550109), fitness_val=np.float64(17.72720817502549), age=0, T=1)\n"
     ]
    },
    {
     "name": "stderr",
     "output_type": "stream",
     "text": [
      "  5%|▌         | 30/600 [05:02<1:00:47,  6.40s/it]"
     ]
    },
    {
     "name": "stdout",
     "output_type": "stream",
     "text": [
      "Initial: 509, Deduplicated: 235, Operation simplified: 0, Constant: 136, Complex: 35, Final: 103\n",
      "Population mean complexity: 33.883495145631066\n",
      "Population mean fitness: 6.939031747819025e+123\n",
      "\n",
      "0. Fitness: 20.03814, Fitness_val = 20.97770, Genome: tan(sin(cos(x[1]))), Age: 0, Complexity: 148\n",
      "1. Fitness: 20.32191, Fitness_val = 21.17671, Genome: exp(sin(abs(x[1]))), Age: 0, Complexity: 65\n",
      "2. Fitness: 20.85945, Fitness_val = 21.63565, Genome: exp(abs(sin(x[1]))), Age: 0, Complexity: 50\n",
      "3. Fitness: 21.63175, Fitness_val = 22.08815, Genome: ([2.70872341] - abs(sin(abs(x[1])))), Age: 10, Complexity: 15\n",
      "4. Fitness: 21.60730, Fitness_val = 22.13257, Genome: ([2.42545424] - abs(sin(sin(abs(x[1]))))), Age: 9, Complexity: 55\n"
     ]
    },
    {
     "name": "stderr",
     "output_type": "stream",
     "text": [
      "  6%|▌         | 33/600 [05:25<1:06:18,  7.02s/it]"
     ]
    },
    {
     "name": "stdout",
     "output_type": "stream",
     "text": [
      "New best result found: Individual(genome=exp(abs(exp(sin(cos(x[1]))))), fitness=np.float64(8.407545957645413), fitness_val=np.float64(8.020972072036638), age=0, T=1)\n"
     ]
    },
    {
     "name": "stderr",
     "output_type": "stream",
     "text": [
      "  6%|▋         | 38/600 [06:00<1:06:22,  7.09s/it]"
     ]
    },
    {
     "name": "stdout",
     "output_type": "stream",
     "text": [
      "New best result found: Individual(genome=(exp(exp(sin(cos(x[1])))) - abs(sin(abs(x[0])))), fitness=np.float64(6.9803065720628545), fitness_val=np.float64(6.638746126320182), age=0, T=1)\n"
     ]
    },
    {
     "name": "stderr",
     "output_type": "stream",
     "text": [
      "  8%|▊         | 45/600 [06:38<51:08,  5.53s/it]  "
     ]
    },
    {
     "name": "stdout",
     "output_type": "stream",
     "text": [
      "New best result found: Individual(genome=(exp(exp(sin(sin(tan(sin(cos(x[1]))))))) - abs(x[1])), fitness=np.float64(6.464018741176923), fitness_val=np.float64(6.568701704615931), age=0, T=1)\n",
      "Initial: 511, Deduplicated: 191, Operation simplified: 0, Constant: 77, Complex: 93, Final: 150\n",
      "Population mean complexity: 31.873333333333335\n",
      "Population mean fitness: 4.764801800169064e+123\n",
      "\n",
      "0. Fitness: 16.33062, Fitness_val = 16.81585, Genome: exp(cos(x[1])), Age: 0, Complexity: 45\n",
      "1. Fitness: 18.63672, Fitness_val = 19.15072, Genome: (exp(cos(x[1])) - abs(sin(x[1]))), Age: 0, Complexity: 55\n",
      "2. Fitness: 20.03814, Fitness_val = 20.97770, Genome: tan(sin(cos(x[1]))), Age: 0, Complexity: 148\n",
      "3. Fitness: 20.32191, Fitness_val = 21.17671, Genome: exp(sin(abs(x[1]))), Age: 2, Complexity: 65\n",
      "4. Fitness: 20.47203, Fitness_val = 21.43488, Genome: cos(x[1]), Age: 5, Complexity: 8\n"
     ]
    },
    {
     "name": "stderr",
     "output_type": "stream",
     "text": [
      " 10%|█         | 60/600 [07:57<42:04,  4.67s/it]  "
     ]
    },
    {
     "name": "stdout",
     "output_type": "stream",
     "text": [
      "Initial: 533, Deduplicated: 258, Operation simplified: 0, Constant: 77, Complex: 53, Final: 145\n",
      "Population mean complexity: 37.84137931034483\n",
      "Population mean fitness: 1.519558593685652e+123\n",
      "\n",
      "0. Fitness: 16.33062, Fitness_val = 16.81585, Genome: exp(cos(x[1])), Age: 0, Complexity: 45\n",
      "1. Fitness: 16.75926, Fitness_val = 17.23383, Genome: (exp(cos(x[1])) - sin(sin(x[1]))), Age: 0, Complexity: 82\n",
      "2. Fitness: 16.82844, Fitness_val = 17.32058, Genome: (exp(cos(x[1])) + sin(x[1])), Age: 0, Complexity: 54\n",
      "3. Fitness: 16.88722, Fitness_val = 17.35713, Genome: (exp(cos(x[1])) - sin(x[1])), Age: 9, Complexity: 54\n",
      "4. Fitness: 17.23585, Fitness_val = 17.75213, Genome: (exp(cos(x[1])) - abs(sin(abs((x[1] * x[1]))))), Age: 2, Complexity: 67\n"
     ]
    },
    {
     "name": "stderr",
     "output_type": "stream",
     "text": [
      " 12%|█▎        | 75/600 [09:23<46:43,  5.34s/it]"
     ]
    },
    {
     "name": "stdout",
     "output_type": "stream",
     "text": [
      "Initial: 531, Deduplicated: 210, Operation simplified: 0, Constant: 92, Complex: 80, Final: 149\n",
      "Population mean complexity: 40.93288590604027\n",
      "Population mean fitness: 1.0682142450188249e+125\n",
      "\n",
      "0. Fitness: 10.52379, Fitness_val = 10.53873, Genome: (exp(cos(x[1])) + exp(cos(x[1]))), Age: 0, Complexity: 91\n",
      "1. Fitness: 11.96274, Fitness_val = 12.34597, Genome: (exp(cos(x[1])) + cos(x[1])), Age: 0, Complexity: 54\n",
      "2. Fitness: 16.46221, Fitness_val = 16.72076, Genome: (exp(cos(x[1])) - cos(x[0])), Age: 0, Complexity: 54\n",
      "3. Fitness: 16.33062, Fitness_val = 16.81585, Genome: exp(cos(x[1])), Age: 0, Complexity: 45\n",
      "4. Fitness: 16.75926, Fitness_val = 17.23383, Genome: (exp(cos(x[1])) - sin(sin(x[1]))), Age: 9, Complexity: 82\n"
     ]
    },
    {
     "name": "stderr",
     "output_type": "stream",
     "text": [
      " 15%|█▌        | 90/600 [10:40<39:42,  4.67s/it]"
     ]
    },
    {
     "name": "stdout",
     "output_type": "stream",
     "text": [
      "New best result found: Individual(genome=(exp(exp(sin(cos(x[1])))) + sin(cos(x[1]))), fitness=np.float64(5.705173447265157), fitness_val=np.float64(5.427022779254314), age=0, T=1)\n",
      "Initial: 528, Deduplicated: 177, Operation simplified: 0, Constant: 47, Complex: 112, Final: 192\n",
      "Population mean complexity: 44.197916666666664\n",
      "Population mean fitness: 3.5520529223254225e+123\n",
      "\n",
      "0. Fitness: 10.52379, Fitness_val = 10.53873, Genome: (exp(cos(x[1])) + exp(cos(x[1]))), Age: 0, Complexity: 91\n",
      "1. Fitness: 11.96274, Fitness_val = 12.34597, Genome: (cos(x[1]) + exp(cos(x[1]))), Age: 0, Complexity: 54\n",
      "2. Fitness: 12.44561, Fitness_val = 12.84687, Genome: (exp(cos(x[1])) + sin(cos(x[1]))), Age: 0, Complexity: 82\n",
      "3. Fitness: 13.85214, Fitness_val = 13.85265, Genome: (exp(cos((x[1] * x[1]))) + exp(cos(x[1]))), Age: 9, Complexity: 131\n",
      "4. Fitness: 14.54851, Fitness_val = 14.74802, Genome: (exp(cos(x[1])) + exp(sin(abs(x[1])))), Age: 10, Complexity: 111\n"
     ]
    },
    {
     "name": "stderr",
     "output_type": "stream",
     "text": [
      " 17%|█▋        | 102/600 [11:39<38:46,  4.67s/it]"
     ]
    },
    {
     "name": "stdout",
     "output_type": "stream",
     "text": [
      "New best result found: Individual(genome=(exp(exp(sin(cos(x[1])))) + tan(cos(x[1]))), fitness=np.float64(4.516315556318418), fitness_val=np.float64(4.311054804192165), age=0, T=1)\n"
     ]
    },
    {
     "name": "stderr",
     "output_type": "stream",
     "text": [
      " 17%|█▋        | 103/600 [11:45<42:04,  5.08s/it]"
     ]
    },
    {
     "name": "stdout",
     "output_type": "stream",
     "text": [
      "New best result found: Individual(genome=(exp(exp(cos(x[1]))) + tan(exp(cos(cos(x[1]))))), fitness=np.float64(2.1482273802265657), fitness_val=np.float64(2.082780439168718), age=0, T=1)\n"
     ]
    },
    {
     "name": "stderr",
     "output_type": "stream",
     "text": [
      " 18%|█▊        | 105/600 [11:56<43:38,  5.29s/it]"
     ]
    },
    {
     "name": "stdout",
     "output_type": "stream",
     "text": [
      "Initial: 547, Deduplicated: 177, Operation simplified: 0, Constant: 23, Complex: 132, Final: 215\n",
      "Population mean complexity: 53.91627906976744\n",
      "Population mean fitness: 2.4659589017579407e+123\n",
      "\n",
      "0. Fitness: 5.75980, Fitness_val = 5.62416, Genome: (exp((cos(x[1]) + cos(x[1]))) + sin(cos(x[1]))), Age: 0, Complexity: 127\n",
      "1. Fitness: 7.12168, Fitness_val = 7.12119, Genome: ((exp(cos(x[1])) + sin(cos(x[1]))) + exp(cos(x[1]))), Age: 0, Complexity: 128\n",
      "2. Fitness: 8.05895, Fitness_val = 7.83453, Genome: (exp((cos(x[1]) + cos(x[1]))) + abs(cos(cos(x[1])))), Age: 0, Complexity: 128\n",
      "3. Fitness: 8.42884, Fitness_val = 8.27368, Genome: (exp(cos(x[1])) * exp(cos(x[1]))), Age: 7, Complexity: 91\n",
      "4. Fitness: 8.80948, Fitness_val = 8.43341, Genome: ((exp(cos(x[1])) * exp(cos(x[1]))) - cos(x[0])), Age: 6, Complexity: 100\n"
     ]
    },
    {
     "name": "stderr",
     "output_type": "stream",
     "text": [
      " 18%|█▊        | 110/600 [12:24<43:00,  5.27s/it]"
     ]
    },
    {
     "name": "stdout",
     "output_type": "stream",
     "text": [
      "New best result found: Individual(genome=((exp(cos(x[1])) + sin(cos(x[1]))) + (exp((cos(x[1]) + cos(x[1]))) + cos(x[1]))), fitness=np.float64(2.0868765384585317), fitness_val=np.float64(1.9999107745471796), age=0, T=1)\n"
     ]
    },
    {
     "name": "stderr",
     "output_type": "stream",
     "text": [
      " 19%|█▉        | 116/600 [13:02<50:23,  6.25s/it]"
     ]
    },
    {
     "name": "stdout",
     "output_type": "stream",
     "text": [
      "New best result found: Individual(genome=((exp(cos(x[1])) + cos(x[1])) + (exp((cos(x[1]) + cos(x[1]))) + cos(x[1]))), fitness=np.float64(1.9618896126594094), fitness_val=np.float64(1.8894530586580371), age=0, T=1)\n"
     ]
    },
    {
     "name": "stderr",
     "output_type": "stream",
     "text": [
      " 20%|██        | 120/600 [13:23<42:46,  5.35s/it]"
     ]
    },
    {
     "name": "stdout",
     "output_type": "stream",
     "text": [
      "Initial: 520, Deduplicated: 160, Operation simplified: 0, Constant: 18, Complex: 117, Final: 225\n",
      "Population mean complexity: 71.37777777777778\n",
      "Population mean fitness: 2.3563607283464765e+123\n",
      "\n",
      "0. Fitness: 2.33416, Fitness_val = 2.26346, Genome: ((cos(x[1]) + cos(x[1])) + (exp((cos(x[1]) + cos(x[1]))) + cos(x[1]))), Age: 0, Complexity: 117\n",
      "1. Fitness: 2.41426, Fitness_val = 2.34024, Genome: ((cos(x[1]) + sin(cos(x[1]))) + (exp((cos(x[1]) + cos(x[1]))) + cos(x[1]))), Age: 0, Complexity: 145\n",
      "2. Fitness: 3.44144, Fitness_val = 3.25955, Genome: (exp((cos(x[1]) + cos(x[1]))) + (exp(cos(x[1])) + cos(x[1]))), Age: 0, Complexity: 145\n",
      "3. Fitness: 3.42015, Fitness_val = 3.31286, Genome: (exp((cos(x[1]) + cos(x[1]))) + (cos(x[1]) + cos(x[1]))), Age: 0, Complexity: 108\n",
      "4. Fitness: 4.15498, Fitness_val = 4.14668, Genome: ((cos(x[1]) + cos(x[0])) + (exp((cos(x[1]) + cos(x[1]))) + cos(x[1]))), Age: 2, Complexity: 117\n"
     ]
    },
    {
     "name": "stderr",
     "output_type": "stream",
     "text": [
      " 21%|██        | 125/600 [13:56<50:53,  6.43s/it]"
     ]
    },
    {
     "name": "stdout",
     "output_type": "stream",
     "text": [
      "New best result found: Individual(genome=((cos(x[1]) + (cos(x[1]) + cos(sin(x[1])))) + (exp((cos(x[1]) + cos(x[1]))) + cos(x[1]))), fitness=np.float64(1.9225495271812343), fitness_val=np.float64(1.8370764211537989), age=0, T=1)\n"
     ]
    },
    {
     "name": "stderr",
     "output_type": "stream",
     "text": [
      " 21%|██        | 127/600 [14:08<50:40,  6.43s/it]"
     ]
    },
    {
     "name": "stdout",
     "output_type": "stream",
     "text": [
      "New best result found: Individual(genome=((cos(x[1]) + (cos(sin(cos(x[1]))) + cos(x[1]))) + (exp((cos(x[1]) + cos(x[1]))) + cos(x[1]))), fitness=np.float64(1.2873566096448763), fitness_val=np.float64(1.219301998476543), age=0, T=1)\n"
     ]
    },
    {
     "name": "stderr",
     "output_type": "stream",
     "text": [
      " 22%|██▏       | 130/600 [14:31<56:24,  7.20s/it]"
     ]
    },
    {
     "name": "stdout",
     "output_type": "stream",
     "text": [
      "New best result found: Individual(genome=((cos(x[1]) + (cos(cos(x[1])) + cos(x[1]))) + (exp((cos(x[1]) + cos(x[1]))) + cos(x[1]))), fitness=np.float64(1.214316153459424), fitness_val=np.float64(1.1487889454544815), age=0, T=1)\n"
     ]
    },
    {
     "name": "stderr",
     "output_type": "stream",
     "text": [
      " 22%|██▎       | 135/600 [15:03<49:40,  6.41s/it]"
     ]
    },
    {
     "name": "stdout",
     "output_type": "stream",
     "text": [
      "Initial: 539, Deduplicated: 147, Operation simplified: 0, Constant: 7, Complex: 152, Final: 233\n",
      "Population mean complexity: 85.01716738197425\n",
      "Population mean fitness: 5.414764706980408e+251\n",
      "\n",
      "0. Fitness: 2.19374, Fitness_val = 2.16806, Genome: ((cos(x[1]) + (cos(x[1]) + cos(x[1]))) + (exp((cos(x[1]) + cos(x[1]))) + cos(x[1]))), Age: 0, Complexity: 126\n",
      "1. Fitness: 2.33416, Fitness_val = 2.26346, Genome: ((cos(x[1]) + cos(x[1])) + (exp((cos(x[1]) + cos(x[1]))) + cos(x[1]))), Age: 0, Complexity: 117\n",
      "2. Fitness: 2.41426, Fitness_val = 2.34024, Genome: ((cos(x[1]) + sin(cos(x[1]))) + (exp((cos(x[1]) + cos(x[1]))) + cos(x[1]))), Age: 0, Complexity: 145\n",
      "3. Fitness: 2.55029, Fitness_val = 2.42337, Genome: ((cos(cos(x[1])) + cos(x[1])) + (exp((cos(x[1]) + cos(x[1]))) + cos(x[1]))), Age: 1, Complexity: 145\n",
      "4. Fitness: 2.80878, Fitness_val = 2.79929, Genome: ((cos(x[1]) + (cos(x[1]) + cos(x[1]))) + (exp((cos(x[1]) + cos(x[1]))) + sin(x[1]))), Age: 4, Complexity: 126\n"
     ]
    },
    {
     "name": "stderr",
     "output_type": "stream",
     "text": [
      " 23%|██▎       | 140/600 [15:42<57:11,  7.46s/it]  "
     ]
    },
    {
     "name": "stdout",
     "output_type": "stream",
     "text": [
      "New best result found: Individual(genome=((cos(x[1]) + (cos(x[1]) + cos(x[1]))) + (exp((cos(cos(x[1])) + cos(x[1]))) + cos(x[1]))), fitness=np.float64(0.5719670662245937), fitness_val=np.float64(0.5934104437991213), age=0, T=1)\n"
     ]
    },
    {
     "name": "stderr",
     "output_type": "stream",
     "text": [
      " 25%|██▍       | 148/600 [16:50<1:08:00,  9.03s/it]"
     ]
    },
    {
     "name": "stdout",
     "output_type": "stream",
     "text": [
      "New best result found: Individual(genome=(((cos((cos(x[1]) + (cos(x[1]) + cos(x[1])))) + cos(x[1])) + cos(x[1])) + (exp((cos(x[1]) + cos(x[1]))) + (cos(x[1]) + cos(cos(x[1]))))), fitness=np.float64(0.5774263267752742), fitness_val=np.float64(0.5702438922286189), age=0, T=1)\n"
     ]
    },
    {
     "name": "stderr",
     "output_type": "stream",
     "text": [
      " 25%|██▌       | 150/600 [17:05<1:03:02,  8.41s/it]"
     ]
    },
    {
     "name": "stdout",
     "output_type": "stream",
     "text": [
      "Initial: 565, Deduplicated: 188, Operation simplified: 0, Constant: 5, Complex: 168, Final: 204\n",
      "Population mean complexity: 86.44607843137256\n",
      "Population mean fitness: 1.6571282790008183e+123\n",
      "\n",
      "0. Fitness: 1.86277, Fitness_val = 1.80025, Genome: ((cos(x[1]) + (cos(x[1]) + cos(x[1]))) + (exp((abs(cos(x[1])) + cos(x[1]))) + cos(x[1]))), Age: 0, Complexity: 131\n",
      "1. Fitness: 2.19374, Fitness_val = 2.16806, Genome: ((cos(x[1]) + (cos(x[1]) + cos(x[1]))) + (exp((cos(x[1]) + cos(x[1]))) + cos(x[1]))), Age: 0, Complexity: 126\n",
      "2. Fitness: 2.33416, Fitness_val = 2.26346, Genome: ((cos(x[1]) + cos(x[1])) + (exp((cos(x[1]) + cos(x[1]))) + cos(x[1]))), Age: 0, Complexity: 117\n",
      "3. Fitness: 2.41426, Fitness_val = 2.34024, Genome: ((cos(x[1]) + sin(cos(x[1]))) + (exp((cos(x[1]) + cos(x[1]))) + cos(x[1]))), Age: 13, Complexity: 145\n",
      "4. Fitness: 2.55029, Fitness_val = 2.42337, Genome: ((cos(cos(x[1])) + cos(x[1])) + (exp((cos(x[1]) + cos(x[1]))) + cos(x[1]))), Age: 5, Complexity: 145\n"
     ]
    },
    {
     "name": "stderr",
     "output_type": "stream",
     "text": [
      " 26%|██▋       | 159/600 [18:14<1:02:25,  8.49s/it]"
     ]
    },
    {
     "name": "stdout",
     "output_type": "stream",
     "text": [
      "New best result found: Individual(genome=((cos(x[1]) + exp(cos(x[1]))) + (exp((cos(x[1]) + cos((cos(x[1]) + sin(cos(x[1])))))) + (cos(x[1]) + (cos(x[1]) + cos(x[1]))))), fitness=np.float64(0.415116978141688), fitness_val=np.float64(0.43508954462420746), age=0, T=1)\n"
     ]
    },
    {
     "name": "stderr",
     "output_type": "stream",
     "text": [
      " 28%|██▊       | 165/600 [19:03<58:20,  8.05s/it]  "
     ]
    },
    {
     "name": "stdout",
     "output_type": "stream",
     "text": [
      "Initial: 547, Deduplicated: 144, Operation simplified: 0, Constant: 7, Complex: 190, Final: 206\n",
      "Population mean complexity: 80.64077669902913\n",
      "Population mean fitness: 386.0029938380732\n",
      "\n",
      "0. Fitness: 1.86277, Fitness_val = 1.80025, Genome: ((cos(x[1]) + (cos(x[1]) + cos(x[1]))) + (exp((abs(cos(x[1])) + cos(x[1]))) + cos(x[1]))), Age: 0, Complexity: 131\n",
      "1. Fitness: 2.19374, Fitness_val = 2.16806, Genome: ((cos(x[1]) + (cos(x[1]) + cos(x[1]))) + (exp((cos(x[1]) + cos(x[1]))) + cos(x[1]))), Age: 0, Complexity: 126\n",
      "2. Fitness: 2.33416, Fitness_val = 2.26346, Genome: ((cos(x[1]) + cos(x[1])) + (exp((cos(x[1]) + cos(x[1]))) + cos(x[1]))), Age: 0, Complexity: 117\n",
      "3. Fitness: 2.41426, Fitness_val = 2.34024, Genome: ((cos(x[1]) + sin(cos(x[1]))) + (exp((cos(x[1]) + cos(x[1]))) + cos(x[1]))), Age: 11, Complexity: 145\n",
      "4. Fitness: 2.55029, Fitness_val = 2.42337, Genome: ((cos(cos(x[1])) + cos(x[1])) + (exp((cos(x[1]) + cos(x[1]))) + cos(x[1]))), Age: 5, Complexity: 145\n"
     ]
    },
    {
     "name": "stderr",
     "output_type": "stream",
     "text": [
      " 29%|██▉       | 173/600 [20:05<56:37,  7.96s/it]"
     ]
    },
    {
     "name": "stdout",
     "output_type": "stream",
     "text": [
      "New best result found: Individual(genome=((cos(x[1]) + (cos(x[1]) + (cos(x[1]) + cos(x[1])))) + (exp((cos(x[1]) + cos(cos(x[1])))) + (cos(x[1]) + cos(cos(x[1]))))), fitness=np.float64(0.1530058904730857), fitness_val=np.float64(0.15524981931852905), age=0, T=1)\n"
     ]
    },
    {
     "name": "stderr",
     "output_type": "stream",
     "text": [
      " 30%|███       | 180/600 [21:04<1:01:58,  8.85s/it]"
     ]
    },
    {
     "name": "stdout",
     "output_type": "stream",
     "text": [
      "Initial: 566, Deduplicated: 163, Operation simplified: 0, Constant: 7, Complex: 210, Final: 186\n",
      "Population mean complexity: 86.40860215053763\n",
      "Population mean fitness: 198.7293856424283\n",
      "\n",
      "0. Fitness: 1.58149, Fitness_val = 1.62318, Genome: ((cos(x[1]) + (cos(x[1]) + (cos(x[1]) + cos(x[1])))) + (exp(cos(x[1])) + (cos(x[1]) + cos(cos(x[1]))))), Age: 0, Complexity: 127\n",
      "1. Fitness: 1.86277, Fitness_val = 1.80025, Genome: ((cos(x[1]) + (cos(x[1]) + cos(x[1]))) + (exp((abs(cos(x[1])) + cos(x[1]))) + cos(x[1]))), Age: 0, Complexity: 131\n",
      "2. Fitness: 2.05873, Fitness_val = 2.06772, Genome: ((cos(x[1]) + (cos(x[1]) + (cos(x[1]) + (cos(x[1]) + cos(x[1]))))) + exp((abs(cos(x[1])) + cos(x[1])))), Age: 0, Complexity: 140\n",
      "3. Fitness: 2.19374, Fitness_val = 2.16806, Genome: ((cos(x[1]) + (cos(x[1]) + cos(x[1]))) + (exp((cos(x[1]) + cos(x[1]))) + cos(x[1]))), Age: 6, Complexity: 126\n",
      "4. Fitness: 2.33416, Fitness_val = 2.26346, Genome: ((cos(x[1]) + cos(x[1])) + (exp((cos(x[1]) + cos(x[1]))) + cos(x[1]))), Age: 11, Complexity: 117\n"
     ]
    },
    {
     "name": "stderr",
     "output_type": "stream",
     "text": [
      " 32%|███▎      | 195/600 [23:10<58:21,  8.65s/it]  "
     ]
    },
    {
     "name": "stdout",
     "output_type": "stream",
     "text": [
      "Initial: 549, Deduplicated: 132, Operation simplified: 0, Constant: 4, Complex: 216, Final: 197\n",
      "Population mean complexity: 90.34517766497461\n",
      "Population mean fitness: 252.59405885383063\n",
      "\n",
      "0. Fitness: 1.58149, Fitness_val = 1.62318, Genome: ((cos(x[1]) + exp(cos(x[1]))) + ((cos(x[1]) + (cos(x[1]) + (cos(cos(x[1])) + cos(x[1])))) + cos(x[1]))), Age: 0, Complexity: 127\n",
      "1. Fitness: 1.86277, Fitness_val = 1.80025, Genome: (cos(x[1]) + (exp((abs(cos(x[1])) + cos(x[1]))) + (cos(x[1]) + (cos(x[1]) + cos(x[1]))))), Age: 0, Complexity: 131\n",
      "2. Fitness: 2.05873, Fitness_val = 2.06772, Genome: ((cos(x[1]) + (cos(x[1]) + (cos(x[1]) + (cos(x[1]) + cos(x[1]))))) + exp((abs(cos(x[1])) + cos(x[1])))), Age: 0, Complexity: 140\n",
      "3. Fitness: 2.19374, Fitness_val = 2.16806, Genome: ((cos(x[1]) + (cos(x[1]) + cos(x[1]))) + (exp((cos(x[1]) + cos(x[1]))) + cos(x[1]))), Age: 5, Complexity: 126\n",
      "4. Fitness: 2.33416, Fitness_val = 2.26346, Genome: ((cos(x[1]) + cos(x[1])) + (exp((cos(x[1]) + cos(x[1]))) + cos(x[1]))), Age: 11, Complexity: 117\n"
     ]
    },
    {
     "name": "stderr",
     "output_type": "stream",
     "text": [
      " 34%|███▍      | 203/600 [24:28<1:04:47,  9.79s/it]"
     ]
    },
    {
     "name": "stdout",
     "output_type": "stream",
     "text": [
      "New best result found: Individual(genome=((exp(cos(x[1])) + (cos(x[1]) + (cos(x[1]) + cos(x[1])))) + (exp(cos(x[1])) + (cos(x[1]) + (cos(cos(x[1])) + cos(x[1]))))), fitness=np.float64(0.13739424879702358), fitness_val=np.float64(0.14323016993515558), age=0, T=1)\n"
     ]
    },
    {
     "name": "stderr",
     "output_type": "stream",
     "text": [
      " 35%|███▌      | 210/600 [25:37<1:04:00,  9.85s/it]"
     ]
    },
    {
     "name": "stdout",
     "output_type": "stream",
     "text": [
      "Initial: 563, Deduplicated: 133, Operation simplified: 0, Constant: 3, Complex: 200, Final: 227\n",
      "Population mean complexity: 91.01321585903084\n",
      "Population mean fitness: 263.6836708993191\n",
      "\n",
      "0. Fitness: 0.83227, Fitness_val = 0.80881, Genome: ((abs(cos(x[1])) + (cos(x[1]) + (cos(x[1]) + cos(x[1])))) + (exp(cos(x[1])) + (cos(x[1]) + (cos(cos(x[1])) + cos(x[1]))))), Age: 0, Complexity: 137\n",
      "1. Fitness: 1.58149, Fitness_val = 1.62318, Genome: ((cos(cos(x[1])) + (cos(x[1]) + (cos(x[1]) + cos(x[1])))) + (exp(cos(x[1])) + (cos(x[1]) + cos(x[1])))), Age: 0, Complexity: 127\n",
      "2. Fitness: 1.69147, Fitness_val = 1.69814, Genome: ((cos(cos(x[1])) + (cos(x[1]) + (cos(x[1]) + cos(x[1])))) + (exp(cos(x[1])) + (cos(x[1]) + (cos(x[1]) + cos(x[1]))))), Age: 0, Complexity: 136\n",
      "3. Fitness: 1.86277, Fitness_val = 1.80025, Genome: (cos(x[1]) + (exp((abs(cos(x[1])) + cos(x[1]))) + (cos(x[1]) + (cos(x[1]) + cos(x[1]))))), Age: 5, Complexity: 131\n",
      "4. Fitness: 1.81208, Fitness_val = 1.82933, Genome: ((exp(cos(x[1])) + (cos(x[1]) + (cos(x[1]) + cos(x[1])))) + (exp(cos(x[1])) + (cos(x[1]) + (cos(x[1]) + cos(x[1]))))), Age: 2, Complexity: 145\n"
     ]
    },
    {
     "name": "stderr",
     "output_type": "stream",
     "text": [
      " 38%|███▊      | 225/600 [27:49<57:56,  9.27s/it]  "
     ]
    },
    {
     "name": "stdout",
     "output_type": "stream",
     "text": [
      "Initial: 559, Deduplicated: 142, Operation simplified: 0, Constant: 6, Complex: 159, Final: 252\n",
      "Population mean complexity: 90.60714285714286\n",
      "Population mean fitness: 257.032600449043\n",
      "\n",
      "0. Fitness: 0.63383, Fitness_val = 0.62408, Genome: ((abs(cos(x[1])) + (cos(x[1]) + (cos(x[1]) + (cos(x[1]) + cos(x[1]))))) + (exp(cos(x[1])) + (cos(x[1]) + (cos(cos(x[1])) + cos(x[1]))))), Age: 0, Complexity: 146\n",
      "1. Fitness: 0.83227, Fitness_val = 0.80881, Genome: ((abs(cos(x[1])) + (cos(x[1]) + (cos(x[1]) + cos(x[1])))) + (exp(cos(x[1])) + (cos(x[1]) + (cos(cos(x[1])) + cos(x[1]))))), Age: 0, Complexity: 137\n",
      "2. Fitness: 1.58149, Fitness_val = 1.62318, Genome: ((cos(x[1]) + exp(cos(x[1]))) + (((cos(x[1]) + cos(cos(x[1]))) + (cos(x[1]) + cos(x[1]))) + cos(x[1]))), Age: 0, Complexity: 127\n",
      "3. Fitness: 1.70317, Fitness_val = 1.66513, Genome: ((exp(cos(x[1])) + (cos(x[0]) + (cos(x[1]) + cos(x[1])))) + (exp(cos(x[1])) + (cos(x[1]) + (cos(x[1]) + cos(x[1]))))), Age: 9, Complexity: 145\n",
      "4. Fitness: 1.69147, Fitness_val = 1.69814, Genome: ((cos(cos(x[1])) + (cos(x[1]) + (cos(x[1]) + cos(x[1])))) + (exp(cos(x[1])) + (cos(x[1]) + (cos(x[1]) + cos(x[1]))))), Age: 0, Complexity: 136\n"
     ]
    },
    {
     "name": "stderr",
     "output_type": "stream",
     "text": [
      " 40%|████      | 240/600 [30:25<1:05:34, 10.93s/it]"
     ]
    },
    {
     "name": "stdout",
     "output_type": "stream",
     "text": [
      "New best result found: Individual(genome=((abs(cos(x[1])) + (cos(x[1]) + ((cos(x[1]) + cos(x[1])) + cos(x[1])))) + (exp(cos(cos(cos(cos(x[1]))))) + ((cos(x[1]) + cos(cos(x[1]))) + (cos(x[1]) + cos(x[1]))))), fitness=np.float64(0.13312186387195374), fitness_val=np.float64(0.12939131568226345), age=0, T=1)\n",
      "Initial: 570, Deduplicated: 119, Operation simplified: 0, Constant: 3, Complex: 240, Final: 208\n",
      "Population mean complexity: 96.375\n",
      "Population mean fitness: 120.07478405483529\n",
      "\n",
      "0. Fitness: 0.63383, Fitness_val = 0.62408, Genome: ((abs(cos(x[1])) + (cos(x[1]) + (cos(x[1]) + (cos(x[1]) + cos(x[1]))))) + (exp(cos(x[1])) + (cos(x[1]) + (cos(cos(x[1])) + cos(x[1]))))), Age: 0, Complexity: 146\n",
      "1. Fitness: 0.83227, Fitness_val = 0.80881, Genome: ((abs(cos(x[1])) + (cos(x[1]) + (cos(x[1]) + (cos(x[1]) + cos(x[1]))))) + (exp(cos(x[1])) + (cos(x[1]) + cos(cos(x[1]))))), Age: 5, Complexity: 137\n",
      "2. Fitness: 1.37339, Fitness_val = 1.41707, Genome: ((abs(cos(x[1])) + (cos(x[1]) + (cos(x[1]) + (cos(x[1]) + cos(x[1]))))) + (cos(x[1]) + (cos(x[1]) + (cos(cos(x[1])) + cos(cos(x[1])))))), Age: 0, Complexity: 137\n",
      "3. Fitness: 1.49094, Fitness_val = 1.50012, Genome: ((abs(cos(x[1])) + (cos(x[1]) + (cos(x[1]) + (cos(x[0]) + cos(x[1]))))) + (exp(cos(x[1])) + (cos(x[1]) + (cos(cos(x[1])) + cos(x[1]))))), Age: 3, Complexity: 146\n",
      "4. Fitness: 1.56972, Fitness_val = 1.59700, Genome: ((abs(cos(x[1])) + (cos(x[1]) + (cos(x[1]) + (cos(x[1]) + cos(x[1]))))) + (exp(cos(x[0])) + (cos(x[1]) + (cos(cos(x[1])) + cos(x[1]))))), Age: 5, Complexity: 146\n"
     ]
    },
    {
     "name": "stderr",
     "output_type": "stream",
     "text": [
      " 41%|████      | 247/600 [31:33<58:24,  9.93s/it]  "
     ]
    },
    {
     "name": "stdout",
     "output_type": "stream",
     "text": [
      "New best result found: Individual(genome=((abs(cos(x[1])) + (cos(x[1]) + (((cos(x[1]) + cos(cos(x[1]))) + (cos(x[1]) + cos(x[1]))) + cos(x[1])))) + (exp(cos(x[1])) + (cos(x[1]) + cos(cos(x[1]))))), fitness=np.float64(0.12009431397383054), fitness_val=np.float64(0.1182770476397709), age=0, T=1)\n"
     ]
    },
    {
     "name": "stderr",
     "output_type": "stream",
     "text": [
      " 42%|████▎     | 255/600 [32:48<54:18,  9.44s/it]"
     ]
    },
    {
     "name": "stdout",
     "output_type": "stream",
     "text": [
      "Initial: 530, Deduplicated: 141, Operation simplified: 0, Constant: 2, Complex: 174, Final: 213\n",
      "Population mean complexity: 101.46478873239437\n",
      "Population mean fitness: 943.8113635734022\n",
      "\n",
      "0. Fitness: 0.60700, Fitness_val = 0.60287, Genome: ((abs(cos(x[1])) + (cos(x[1]) + (cos(x[1]) + (cos(x[1]) + cos(x[1]))))) + (exp(cos(x[1])) + (cos(x[1]) + exp(cos(x[1]))))), Age: 0, Complexity: 146\n",
      "1. Fitness: 0.63383, Fitness_val = 0.62408, Genome: ((abs(cos(x[1])) + (cos(x[1]) + (cos(x[1]) + (cos(cos(x[1])) + cos(x[1]))))) + (exp(cos(x[1])) + (cos(x[1]) + (cos(x[1]) + cos(x[1]))))), Age: 0, Complexity: 146\n",
      "2. Fitness: 0.61612, Fitness_val = 0.62487, Genome: ((abs(cos(x[0])) + (cos(x[1]) + (cos(x[1]) + cos(x[1])))) + ((exp(cos(x[1])) + cos(x[1])) + (cos(x[1]) + (cos(cos(x[1])) + cos(x[1]))))), Age: 0, Complexity: 146\n",
      "3. Fitness: 0.83227, Fitness_val = 0.80881, Genome: ((abs(cos(x[1])) + (cos(x[1]) + (cos(x[1]) + cos(x[1])))) + (exp(cos(x[1])) + (cos(x[1]) + (cos(cos(x[1])) + cos(x[1]))))), Age: 5, Complexity: 137\n",
      "4. Fitness: 1.31608, Fitness_val = 1.34072, Genome: ((abs(cos(x[0])) + (cos(x[1]) + (cos(x[1]) + cos(x[0])))) + ((exp(cos(x[1])) + cos(x[1])) + (cos(x[1]) + (cos(cos(x[1])) + cos(x[1]))))), Age: 0, Complexity: 146\n"
     ]
    },
    {
     "name": "stderr",
     "output_type": "stream",
     "text": [
      " 45%|████▌     | 270/600 [35:30<1:00:42, 11.04s/it]"
     ]
    },
    {
     "name": "stdout",
     "output_type": "stream",
     "text": [
      "Initial: 526, Deduplicated: 89, Operation simplified: 0, Constant: 5, Complex: 248, Final: 184\n",
      "Population mean complexity: 100.06521739130434\n",
      "Population mean fitness: 972.0179707834542\n",
      "\n",
      "0. Fitness: 0.57471, Fitness_val = 0.57461, Genome: ((abs(cos(x[0])) + (cos(x[1]) + (cos(x[1]) + cos(x[1])))) + ((cos(x[1]) + cos(x[1])) + (exp(cos(x[1])) + (cos(cos(x[0])) + cos(x[1]))))), Age: 0, Complexity: 146\n",
      "1. Fitness: 0.60700, Fitness_val = 0.60287, Genome: ((abs(cos(x[1])) + (cos(x[1]) + (cos(x[1]) + (cos(x[1]) + cos(x[1]))))) + (exp(cos(x[1])) + (cos(x[1]) + exp(cos(x[1]))))), Age: 0, Complexity: 146\n",
      "2. Fitness: 0.63383, Fitness_val = 0.62408, Genome: ((abs(cos(x[1])) + (cos(x[1]) + (cos(x[1]) + (cos(cos(x[1])) + cos(x[1]))))) + (exp(cos(x[1])) + (cos(x[1]) + (cos(x[1]) + cos(x[1]))))), Age: 0, Complexity: 146\n",
      "3. Fitness: 0.61612, Fitness_val = 0.62487, Genome: ((abs(cos(x[0])) + (cos(x[1]) + (cos(x[1]) + cos(x[1])))) + ((exp(cos(x[1])) + cos(x[1])) + (cos(x[1]) + (cos(cos(x[1])) + cos(x[1]))))), Age: 15, Complexity: 146\n",
      "4. Fitness: 0.73223, Fitness_val = 0.72781, Genome: ((abs(cos(x[0])) + (cos(x[1]) + (cos(x[1]) + cos(x[1])))) + (cos(x[1]) + (exp(cos(x[1])) + (cos(cos(x[0])) + cos(x[1]))))), Age: 11, Complexity: 137\n"
     ]
    },
    {
     "name": "stderr",
     "output_type": "stream",
     "text": [
      " 48%|████▊     | 285/600 [38:05<54:07, 10.31s/it]  "
     ]
    },
    {
     "name": "stdout",
     "output_type": "stream",
     "text": [
      "Initial: 525, Deduplicated: 88, Operation simplified: 0, Constant: 6, Complex: 230, Final: 201\n",
      "Population mean complexity: 101.65174129353234\n",
      "Population mean fitness: 237.92767669007037\n",
      "\n",
      "0. Fitness: 0.57471, Fitness_val = 0.57461, Genome: ((abs(cos(x[0])) + (cos(x[1]) + (cos(x[1]) + cos(x[1])))) + ((cos(x[1]) + cos(x[1])) + (exp(cos(x[1])) + (cos(cos(x[0])) + cos(x[1]))))), Age: 0, Complexity: 146\n",
      "1. Fitness: 0.60700, Fitness_val = 0.60287, Genome: ((abs(cos(x[1])) + (cos(x[1]) + (cos(x[1]) + (cos(x[1]) + cos(x[1]))))) + (exp(cos(x[1])) + (cos(x[1]) + exp(cos(x[1]))))), Age: 0, Complexity: 146\n",
      "2. Fitness: 0.63383, Fitness_val = 0.62408, Genome: (((cos(cos(x[1])) + exp(cos(x[1]))) + (cos(x[1]) + (cos(x[1]) + cos(x[1])))) + (abs(cos(x[1])) + (cos(x[1]) + (cos(x[1]) + cos(x[1]))))), Age: 0, Complexity: 146\n",
      "3. Fitness: 0.72881, Fitness_val = 0.68674, Genome: ((abs(cos(x[0])) + (cos(x[1]) + (cos(x[1]) + cos(x[1])))) + ((abs(cos(x[0])) + cos(x[1])) + (exp(cos(x[1])) + (cos(cos(x[0])) + cos(x[1]))))), Age: 2, Complexity: 147\n",
      "4. Fitness: 0.73223, Fitness_val = 0.72781, Genome: ((abs(cos(x[0])) + (cos(x[1]) + (cos(x[1]) + cos(x[1])))) + (cos(x[1]) + (exp(cos(x[1])) + (cos(cos(x[0])) + cos(x[1]))))), Age: 1, Complexity: 137\n"
     ]
    },
    {
     "name": "stderr",
     "output_type": "stream",
     "text": [
      " 48%|████▊     | 290/600 [38:52<50:35,  9.79s/it]"
     ]
    },
    {
     "name": "stdout",
     "output_type": "stream",
     "text": [
      "New best result found: Individual(genome=((abs(cos(x[0])) + (cos(x[1]) + (cos(x[1]) + cos(x[1])))) + (cos(x[1]) + ((exp(cos(x[1])) + (cos(cos(x[1])) + cos(x[1]))) + (cos(cos(x[0])) + cos(x[1]))))), fitness=np.float64(0.11594408376133261), fitness_val=np.float64(0.1175160028847311), age=0, T=1)\n"
     ]
    },
    {
     "name": "stderr",
     "output_type": "stream",
     "text": [
      " 50%|█████     | 300/600 [40:38<53:32, 10.71s/it]"
     ]
    },
    {
     "name": "stdout",
     "output_type": "stream",
     "text": [
      "Initial: 529, Deduplicated: 99, Operation simplified: 0, Constant: 3, Complex: 212, Final: 215\n",
      "Population mean complexity: 107.74418604651163\n",
      "Population mean fitness: 444.67943155613386\n",
      "\n",
      "0. Fitness: 0.57471, Fitness_val = 0.57461, Genome: ((abs(cos(x[0])) + (cos(x[1]) + (cos(x[1]) + cos(x[1])))) + ((cos(x[1]) + cos(x[1])) + (exp(cos(x[1])) + (cos(cos(x[0])) + cos(x[1]))))), Age: 0, Complexity: 146\n",
      "1. Fitness: 0.60700, Fitness_val = 0.60287, Genome: ((abs(cos(x[1])) + (cos(x[1]) + (cos(x[1]) + (cos(x[1]) + cos(x[1]))))) + (exp(cos(x[1])) + (cos(x[1]) + exp(cos(x[1]))))), Age: 0, Complexity: 146\n",
      "2. Fitness: 0.63383, Fitness_val = 0.62408, Genome: (((cos(cos(x[1])) + exp(cos(x[1]))) + (cos(x[1]) + (cos(x[1]) + cos(x[1])))) + (abs(cos(x[1])) + (cos(x[1]) + (cos(x[1]) + cos(x[1]))))), Age: 0, Complexity: 146\n",
      "3. Fitness: 0.73223, Fitness_val = 0.72781, Genome: ((abs(cos(x[0])) + (cos(x[1]) + (cos(x[1]) + cos(x[1])))) + (cos(x[1]) + (exp(cos(x[1])) + (cos(cos(x[0])) + cos(x[1]))))), Age: 14, Complexity: 137\n",
      "4. Fitness: 0.82662, Fitness_val = 0.76475, Genome: ((abs(cos(x[0])) + (cos(x[1]) + (cos(x[1]) + cos(x[1])))) + ((abs(cos(x[1])) + cos(x[1])) + (exp(cos(x[1])) + (cos(cos(x[0])) + cos(x[1]))))), Age: 5, Complexity: 147\n"
     ]
    },
    {
     "name": "stderr",
     "output_type": "stream",
     "text": [
      " 52%|█████▎    | 315/600 [43:26<53:25, 11.25s/it]"
     ]
    },
    {
     "name": "stdout",
     "output_type": "stream",
     "text": [
      "Initial: 549, Deduplicated: 121, Operation simplified: 0, Constant: 6, Complex: 205, Final: 217\n",
      "Population mean complexity: 108.6036866359447\n",
      "Population mean fitness: 125.29913541178733\n",
      "\n",
      "0. Fitness: 0.13539, Fitness_val = 0.13873, Genome: ((abs(sin(x[1])) + (cos(x[1]) + (cos(x[1]) + (cos(x[1]) + cos(x[1]))))) + (exp(cos(x[1])) + (cos(x[1]) + exp(cos(x[1]))))), Age: 0, Complexity: 146\n",
      "1. Fitness: 0.57471, Fitness_val = 0.57461, Genome: ((abs(cos(x[0])) + (cos(x[1]) + (cos(x[1]) + cos(x[1])))) + ((cos(x[1]) + cos(x[1])) + (exp(cos(x[1])) + (cos(cos(x[0])) + cos(x[1]))))), Age: 0, Complexity: 146\n",
      "2. Fitness: 0.60700, Fitness_val = 0.60287, Genome: ((abs(cos(x[1])) + (cos(x[1]) + (cos(x[1]) + (cos(x[1]) + cos(x[1]))))) + (exp(cos(x[1])) + (cos(x[1]) + exp(cos(x[1]))))), Age: 0, Complexity: 146\n",
      "3. Fitness: 0.63383, Fitness_val = 0.62408, Genome: (((cos(cos(x[1])) + exp(cos(x[1]))) + (cos(x[1]) + (cos(x[1]) + cos(x[1])))) + (abs(cos(x[1])) + (cos(x[1]) + (cos(x[1]) + cos(x[1]))))), Age: 10, Complexity: 146\n",
      "4. Fitness: 0.80641, Fitness_val = 0.78235, Genome: ((abs(cos(x[1])) + (cos(x[1]) + (cos(x[1]) + cos(x[1])))) + ((cos(x[1]) + cos(x[1])) + (exp(cos(x[1])) + (cos(cos(x[0])) + cos(x[1]))))), Age: 7, Complexity: 146\n"
     ]
    },
    {
     "name": "stderr",
     "output_type": "stream",
     "text": [
      " 55%|█████▌    | 330/600 [46:13<46:38, 10.37s/it]"
     ]
    },
    {
     "name": "stdout",
     "output_type": "stream",
     "text": [
      "Initial: 555, Deduplicated: 117, Operation simplified: 0, Constant: 2, Complex: 160, Final: 276\n",
      "Population mean complexity: 106.54347826086956\n",
      "Population mean fitness: 424.3363585531818\n",
      "\n",
      "0. Fitness: 0.13539, Fitness_val = 0.13873, Genome: ((abs(sin(x[1])) + (cos(x[1]) + (cos(x[1]) + (cos(x[1]) + cos(x[1]))))) + (exp(cos(x[1])) + (cos(x[1]) + exp(cos(x[1]))))), Age: 0, Complexity: 146\n",
      "1. Fitness: 0.33832, Fitness_val = 0.31995, Genome: ((abs(sin(x[1])) + (cos(x[1]) + (cos(x[1]) + cos(x[1])))) + (exp(cos(x[1])) + (cos(x[1]) + exp(cos(x[1]))))), Age: 0, Complexity: 137\n",
      "2. Fitness: 0.50708, Fitness_val = 0.50922, Genome: ((abs(sin(x[1])) + (cos(x[1]) + (cos(x[1]) + (cos(x[1]) + cos(x[1]))))) + (exp(cos(x[1])) + (cos(x[1]) + (cos(cos(x[0])) + cos(x[1]))))), Age: 0, Complexity: 146\n",
      "3. Fitness: 0.54561, Fitness_val = 0.55896, Genome: (((cos(cos(x[1])) + exp(cos(x[1]))) + (cos(x[1]) + (cos(x[1]) + cos(x[1])))) + (abs(sin(x[1])) + (cos(x[1]) + (cos(x[1]) + cos(x[1]))))), Age: 11, Complexity: 146\n",
      "4. Fitness: 0.57471, Fitness_val = 0.57461, Genome: ((abs(cos(x[0])) + (cos(x[1]) + (cos(x[1]) + cos(x[1])))) + ((cos(x[1]) + cos(x[1])) + (exp(cos(x[1])) + (cos(cos(x[0])) + cos(x[1]))))), Age: 12, Complexity: 146\n"
     ]
    },
    {
     "name": "stderr",
     "output_type": "stream",
     "text": [
      " 57%|█████▊    | 345/600 [48:45<42:47, 10.07s/it]"
     ]
    },
    {
     "name": "stdout",
     "output_type": "stream",
     "text": [
      "Initial: 543, Deduplicated: 141, Operation simplified: 0, Constant: 6, Complex: 138, Final: 258\n",
      "Population mean complexity: 110.78682170542636\n",
      "Population mean fitness: 5119.5597771386065\n",
      "\n",
      "0. Fitness: 0.13539, Fitness_val = 0.13873, Genome: ((abs(sin(x[1])) + (cos(x[1]) + (cos(x[1]) + (cos(x[1]) + cos(x[1]))))) + (exp(cos(x[1])) + (cos(x[1]) + exp(cos(x[1]))))), Age: 0, Complexity: 146\n",
      "1. Fitness: 0.33832, Fitness_val = 0.31995, Genome: ((abs(sin(x[1])) + (cos(x[1]) + (cos(x[1]) + cos(x[1])))) + (exp(cos(x[1])) + (cos(x[1]) + exp(cos(x[1]))))), Age: 0, Complexity: 137\n",
      "2. Fitness: 0.35626, Fitness_val = 0.34105, Genome: ((abs(sin(x[0])) + (cos(x[1]) + (cos(x[1]) + (cos(x[1]) + cos(x[1]))))) + (exp(cos(x[1])) + (cos(x[1]) + exp(cos(x[1]))))), Age: 0, Complexity: 146\n",
      "3. Fitness: 0.50708, Fitness_val = 0.50922, Genome: ((abs(sin(x[1])) + (cos(x[1]) + (cos(x[1]) + (cos(x[1]) + cos(x[1]))))) + (exp(cos(x[1])) + (cos(x[1]) + (cos(cos(x[0])) + cos(x[1]))))), Age: 14, Complexity: 146\n",
      "4. Fitness: 0.54561, Fitness_val = 0.55896, Genome: ((abs(sin(x[1])) + (cos(x[1]) + (cos(x[1]) + (cos(x[1]) + cos(x[1]))))) + (exp(cos(x[1])) + (cos(x[1]) + (cos(cos(x[1])) + cos(x[1]))))), Age: 0, Complexity: 146\n"
     ]
    },
    {
     "name": "stderr",
     "output_type": "stream",
     "text": [
      " 60%|██████    | 360/600 [51:30<47:37, 11.91s/it]"
     ]
    },
    {
     "name": "stdout",
     "output_type": "stream",
     "text": [
      "Initial: 562, Deduplicated: 109, Operation simplified: 0, Constant: 6, Complex: 183, Final: 264\n",
      "Population mean complexity: 107.30681818181819\n",
      "Population mean fitness: 7.2775376879466e+122\n",
      "\n",
      "0. Fitness: 0.13539, Fitness_val = 0.13873, Genome: ((abs(sin(x[1])) + (cos(x[1]) + (cos(x[1]) + (cos(x[1]) + cos(x[1]))))) + (exp(cos(x[1])) + (cos(x[1]) + exp(cos(x[1]))))), Age: 0, Complexity: 146\n",
      "1. Fitness: 0.33832, Fitness_val = 0.31995, Genome: ((abs(sin(x[1])) + (cos(x[1]) + (cos(x[1]) + (cos(x[1]) + cos(x[1]))))) + (exp(cos(x[1])) + exp(cos(x[1])))), Age: 0, Complexity: 137\n",
      "2. Fitness: 0.35626, Fitness_val = 0.34105, Genome: ((abs(sin(x[0])) + (cos(x[1]) + (cos(x[1]) + (cos(x[1]) + cos(x[1]))))) + (exp(cos(x[1])) + (cos(x[1]) + exp(cos(x[1]))))), Age: 0, Complexity: 146\n",
      "3. Fitness: 0.54561, Fitness_val = 0.55896, Genome: ((abs(sin(x[1])) + (cos(x[1]) + (cos(x[1]) + (cos(x[1]) + cos(x[1]))))) + (exp(cos(x[1])) + (cos(x[1]) + (cos(cos(x[1])) + cos(x[1]))))), Age: 13, Complexity: 146\n",
      "4. Fitness: 0.63591, Fitness_val = 0.59142, Genome: ((abs(sin(x[0])) + (cos(x[1]) + (cos(x[1]) + cos(x[1])))) + (exp(cos(x[1])) + (cos(x[1]) + exp(cos(x[1]))))), Age: 4, Complexity: 137\n"
     ]
    },
    {
     "name": "stderr",
     "output_type": "stream",
     "text": [
      " 62%|██████▎   | 375/600 [53:56<38:43, 10.33s/it]"
     ]
    },
    {
     "name": "stdout",
     "output_type": "stream",
     "text": [
      "Initial: 555, Deduplicated: 143, Operation simplified: 0, Constant: 4, Complex: 141, Final: 267\n",
      "Population mean complexity: 107.7940074906367\n",
      "Population mean fitness: 7.195767601565178e+122\n",
      "\n",
      "0. Fitness: 0.13539, Fitness_val = 0.13873, Genome: ((abs(sin(x[1])) + (cos(x[1]) + (cos(x[1]) + (cos(x[1]) + cos(x[1]))))) + (exp(cos(x[1])) + (cos(x[1]) + exp(cos(x[1]))))), Age: 0, Complexity: 146\n",
      "1. Fitness: 0.13539, Fitness_val = 0.13873, Genome: ((abs(sin(x[1])) + ((cos(x[1]) + cos(x[1])) + (cos(x[1]) + (cos(x[1]) + cos(x[1]))))) + (exp(cos(x[1])) + exp(cos(x[1])))), Age: 0, Complexity: 146\n",
      "2. Fitness: 0.33832, Fitness_val = 0.31995, Genome: ((abs(sin(x[1])) + (cos(x[1]) + (cos(x[1]) + cos(x[1])))) + (exp(cos(x[1])) + (cos(x[1]) + exp(cos(x[1]))))), Age: 0, Complexity: 137\n",
      "3. Fitness: 0.35626, Fitness_val = 0.34105, Genome: ((abs(sin(x[0])) + (cos(x[1]) + (cos(x[1]) + (cos(x[1]) + cos(x[1]))))) + (exp(cos(x[1])) + (cos(x[1]) + exp(cos(x[1]))))), Age: 1, Complexity: 146\n",
      "4. Fitness: 0.54561, Fitness_val = 0.55896, Genome: (((cos(x[1]) + exp(cos(x[1]))) + (cos(cos(x[1])) + (cos(x[1]) + cos(x[1])))) + (abs(sin(x[1])) + (cos(x[1]) + (cos(x[1]) + cos(x[1]))))), Age: 8, Complexity: 146\n"
     ]
    },
    {
     "name": "stderr",
     "output_type": "stream",
     "text": [
      " 65%|██████▌   | 390/600 [56:21<32:12,  9.20s/it]"
     ]
    },
    {
     "name": "stdout",
     "output_type": "stream",
     "text": [
      "Initial: 550, Deduplicated: 162, Operation simplified: 0, Constant: 6, Complex: 140, Final: 242\n",
      "Population mean complexity: 116.12396694214875\n",
      "Population mean fitness: 3085.6427183303927\n",
      "\n",
      "0. Fitness: 0.13539, Fitness_val = 0.13873, Genome: ((cos(x[1]) + (cos(x[1]) + (abs(sin(x[1])) + (cos(x[1]) + cos(x[1]))))) + (exp(cos(x[1])) + (cos(x[1]) + exp(cos(x[1]))))), Age: 0, Complexity: 146\n",
      "1. Fitness: 0.13539, Fitness_val = 0.13873, Genome: ((abs(sin(x[1])) + ((cos(x[1]) + cos(x[1])) + (cos(x[1]) + (cos(x[1]) + cos(x[1]))))) + (exp(cos(x[1])) + exp(cos(x[1])))), Age: 0, Complexity: 146\n",
      "2. Fitness: 0.33832, Fitness_val = 0.31995, Genome: ((abs(sin(x[1])) + (cos(x[1]) + (cos(x[1]) + (cos(x[1]) + cos(x[1]))))) + (exp(cos(x[1])) + exp(cos(x[1])))), Age: 0, Complexity: 137\n",
      "3. Fitness: 0.35626, Fitness_val = 0.34105, Genome: ((abs(sin(x[0])) + (cos(x[1]) + (cos(x[1]) + (cos(x[1]) + cos(x[1]))))) + (exp(cos(x[1])) + (cos(x[1]) + exp(cos(x[1]))))), Age: 16, Complexity: 146\n",
      "4. Fitness: 0.54561, Fitness_val = 0.55896, Genome: (((cos(x[1]) + exp(cos(x[1]))) + (cos(cos(x[1])) + (cos(x[1]) + cos(x[1])))) + (abs(sin(x[1])) + (cos(x[1]) + (cos(x[1]) + cos(x[1]))))), Age: 6, Complexity: 146\n"
     ]
    },
    {
     "name": "stderr",
     "output_type": "stream",
     "text": [
      " 68%|██████▊   | 405/600 [58:51<30:18,  9.33s/it]"
     ]
    },
    {
     "name": "stdout",
     "output_type": "stream",
     "text": [
      "Initial: 551, Deduplicated: 148, Operation simplified: 0, Constant: 6, Complex: 131, Final: 266\n",
      "Population mean complexity: 110.43609022556392\n",
      "Population mean fitness: 4.967610719031326e+122\n",
      "\n",
      "0. Fitness: 0.13539, Fitness_val = 0.13873, Genome: ((cos(x[1]) + (cos(x[1]) + (abs(sin(x[1])) + (cos(x[1]) + cos(x[1]))))) + (exp(cos(x[1])) + (cos(x[1]) + exp(cos(x[1]))))), Age: 0, Complexity: 146\n",
      "1. Fitness: 0.13539, Fitness_val = 0.13873, Genome: ((abs(sin(x[1])) + ((cos(x[1]) + cos(x[1])) + (cos(x[1]) + (cos(x[1]) + cos(x[1]))))) + (exp(cos(x[1])) + exp(cos(x[1])))), Age: 0, Complexity: 146\n",
      "2. Fitness: 0.33832, Fitness_val = 0.31995, Genome: ((cos(x[1]) + (cos(x[1]) + (abs(sin(x[1])) + cos(x[1])))) + (exp(cos(x[1])) + (cos(x[1]) + exp(cos(x[1]))))), Age: 0, Complexity: 137\n",
      "3. Fitness: 0.54561, Fitness_val = 0.55896, Genome: (((cos(x[1]) + exp(cos(x[1]))) + (cos(cos(x[1])) + (cos(x[1]) + cos(x[1])))) + (abs(sin(x[1])) + (cos(x[1]) + (cos(x[1]) + cos(x[1]))))), Age: 12, Complexity: 146\n",
      "4. Fitness: 0.63591, Fitness_val = 0.59142, Genome: ((abs(sin(x[0])) + (cos(x[1]) + (cos(x[1]) + cos(x[1])))) + (exp(cos(x[1])) + (cos(x[1]) + exp(cos(x[1]))))), Age: 12, Complexity: 137\n"
     ]
    },
    {
     "name": "stderr",
     "output_type": "stream",
     "text": [
      " 70%|███████   | 420/600 [1:01:16<30:34, 10.19s/it]"
     ]
    },
    {
     "name": "stdout",
     "output_type": "stream",
     "text": [
      "Initial: 554, Deduplicated: 134, Operation simplified: 0, Constant: 2, Complex: 160, Final: 258\n",
      "Population mean complexity: 106.68217054263566\n",
      "Population mean fitness: 7.446782750456987e+122\n",
      "\n",
      "0. Fitness: 0.13539, Fitness_val = 0.13873, Genome: ((cos(x[1]) + (cos(x[1]) + (abs(sin(x[1])) + (cos(x[1]) + cos(x[1]))))) + (exp(cos(x[1])) + (cos(x[1]) + exp(cos(x[1]))))), Age: 0, Complexity: 146\n",
      "1. Fitness: 0.13539, Fitness_val = 0.13873, Genome: ((abs(sin(x[1])) + ((cos(x[1]) + cos(x[1])) + (cos(x[1]) + (cos(x[1]) + cos(x[1]))))) + (exp(cos(x[1])) + exp(cos(x[1])))), Age: 0, Complexity: 146\n",
      "2. Fitness: 0.33832, Fitness_val = 0.31995, Genome: ((abs(sin(x[1])) + (cos(x[1]) + (cos(x[1]) + (cos(x[1]) + cos(x[1]))))) + (exp(cos(x[1])) + exp(cos(x[1])))), Age: 0, Complexity: 137\n",
      "3. Fitness: 0.63591, Fitness_val = 0.59142, Genome: ((abs(sin(x[0])) + (cos(x[1]) + (cos(x[1]) + (cos(x[1]) + cos(x[1]))))) + (exp(cos(x[1])) + exp(cos(x[1])))), Age: 7, Complexity: 137\n",
      "4. Fitness: 0.60700, Fitness_val = 0.60287, Genome: ((cos(x[1]) + (cos(x[1]) + (abs(cos(x[1])) + cos(x[1])))) + (exp(cos(x[1])) + ((cos(x[1]) + cos(x[1])) + exp(cos(x[1]))))), Age: 5, Complexity: 146\n"
     ]
    },
    {
     "name": "stderr",
     "output_type": "stream",
     "text": [
      " 72%|███████▎  | 435/600 [1:03:42<24:52,  9.05s/it]"
     ]
    },
    {
     "name": "stdout",
     "output_type": "stream",
     "text": [
      "Initial: 555, Deduplicated: 146, Operation simplified: 0, Constant: 3, Complex: 174, Final: 232\n",
      "Population mean complexity: 110.34482758620689\n",
      "Population mean fitness: 355.20362120907345\n",
      "\n",
      "0. Fitness: 0.13539, Fitness_val = 0.13873, Genome: ((abs(sin(x[1])) + (cos(x[1]) + (cos(x[1]) + (cos(x[1]) + (cos(x[1]) + cos(x[1])))))) + (exp(cos(x[1])) + exp(cos(x[1])))), Age: 0, Complexity: 146\n",
      "1. Fitness: 0.33832, Fitness_val = 0.31995, Genome: ((abs(sin(x[1])) + ((cos(x[1]) + cos(x[1])) + (cos(x[1]) + cos(x[1])))) + (exp(cos(x[1])) + exp(cos(x[1])))), Age: 0, Complexity: 137\n",
      "2. Fitness: 0.60700, Fitness_val = 0.60287, Genome: ((abs(cos(x[1])) + (cos(x[1]) + (cos(x[1]) + (cos(x[1]) + (cos(x[1]) + cos(x[1])))))) + (exp(cos(x[1])) + exp(cos(x[1])))), Age: 0, Complexity: 146\n",
      "3. Fitness: 0.62568, Fitness_val = 0.63381, Genome: ((cos(sin(x[1])) + (cos(x[1]) + (abs(sin(x[1])) + cos(x[1])))) + (exp(cos(x[1])) + (cos(x[1]) + (cos(x[1]) + cos(x[1]))))), Age: 14, Complexity: 137\n",
      "4. Fitness: 0.60496, Fitness_val = 0.64466, Genome: ((cos(cos(x[1])) + (cos(x[1]) + (abs(sin(x[1])) + cos(x[1])))) + (exp(cos(x[1])) + (cos(x[1]) + (cos(x[1]) + cos(x[1]))))), Age: 14, Complexity: 137\n"
     ]
    },
    {
     "name": "stderr",
     "output_type": "stream",
     "text": [
      " 75%|███████▌  | 450/600 [1:05:57<21:16,  8.51s/it]"
     ]
    },
    {
     "name": "stdout",
     "output_type": "stream",
     "text": [
      "Initial: 553, Deduplicated: 132, Operation simplified: 0, Constant: 4, Complex: 167, Final: 250\n",
      "Population mean complexity: 109.56\n",
      "Population mean fitness: 7.68507979847161e+122\n",
      "\n",
      "0. Fitness: 0.13539, Fitness_val = 0.13873, Genome: ((abs(sin(x[1])) + ((cos(x[1]) + cos(x[1])) + (cos(x[1]) + (cos(x[1]) + cos(x[1]))))) + (exp(cos(x[1])) + exp(cos(x[1])))), Age: 0, Complexity: 146\n",
      "1. Fitness: 0.33832, Fitness_val = 0.31995, Genome: ((abs(sin(x[1])) + ((cos(x[1]) + cos(x[1])) + (cos(x[1]) + cos(x[1])))) + (exp(cos(x[1])) + exp(cos(x[1])))), Age: 0, Complexity: 137\n",
      "2. Fitness: 0.60700, Fitness_val = 0.60287, Genome: ((abs(cos(x[1])) + (cos(x[1]) + (cos(x[1]) + (cos(x[1]) + (cos(x[1]) + cos(x[1])))))) + (exp(cos(x[1])) + exp(cos(x[1])))), Age: 0, Complexity: 146\n",
      "3. Fitness: 0.68287, Fitness_val = 0.71214, Genome: ((abs(sin(x[1])) + ((cos(x[1]) + cos(x[1])) + (cos(x[1]) + (cos(x[1]) + (cos(x[1]) + abs(sin(x[1]))))))) + (exp(cos(x[1])) + cos(cos(x[1])))), Age: 11, Complexity: 147\n",
      "4. Fitness: 0.79735, Fitness_val = 0.76944, Genome: ((abs(sin(x[1])) + ((cos(x[1]) + cos(x[1])) + (cos(x[1]) + cos(x[1])))) + ((exp(cos(x[1])) + abs(sin(x[1]))) + exp(cos(x[1])))), Age: 4, Complexity: 147\n"
     ]
    },
    {
     "name": "stderr",
     "output_type": "stream",
     "text": [
      " 78%|███████▊  | 465/600 [1:08:16<21:00,  9.34s/it]"
     ]
    },
    {
     "name": "stdout",
     "output_type": "stream",
     "text": [
      "Initial: 547, Deduplicated: 122, Operation simplified: 0, Constant: 3, Complex: 147, Final: 275\n",
      "Population mean complexity: 112.12\n",
      "Population mean fitness: 105.86843307827893\n",
      "\n",
      "0. Fitness: 0.13539, Fitness_val = 0.13873, Genome: ((abs(sin(x[1])) + ((cos(x[1]) + cos(x[1])) + (cos(x[1]) + (cos(x[1]) + cos(x[1]))))) + (exp(cos(x[1])) + exp(cos(x[1])))), Age: 0, Complexity: 146\n",
      "1. Fitness: 0.33832, Fitness_val = 0.31995, Genome: ((abs(sin(x[1])) + ((cos(x[1]) + cos(x[1])) + (cos(x[1]) + cos(x[1])))) + (exp(cos(x[1])) + exp(cos(x[1])))), Age: 0, Complexity: 137\n",
      "2. Fitness: 0.49307, Fitness_val = 0.49607, Genome: ((abs(sin(x[1])) + ((cos(x[1]) + cos(x[1])) + (cos(x[1]) + (cos(x[1]) + (cos(x[1]) + cos(x[1])))))) + (exp(cos(x[1])) + cos(sin(x[1])))), Age: 0, Complexity: 146\n",
      "3. Fitness: 0.54561, Fitness_val = 0.55896, Genome: ((abs(sin(x[1])) + ((cos(x[1]) + cos(x[1])) + (cos(x[1]) + (cos(x[1]) + (cos(x[1]) + cos(x[1])))))) + (exp(cos(x[1])) + cos(cos(x[1])))), Age: 1, Complexity: 146\n",
      "4. Fitness: 0.56946, Fitness_val = 0.58299, Genome: ((abs(sin(x[1])) + ((cos(x[1]) + cos(x[1])) + (cos(x[1]) + (cos(x[1]) + (cos(x[1]) + abs(sin(x[0]))))))) + (exp(cos(x[1])) + cos(cos(x[1])))), Age: 12, Complexity: 147\n"
     ]
    },
    {
     "name": "stderr",
     "output_type": "stream",
     "text": [
      " 80%|████████  | 480/600 [1:10:44<20:04, 10.04s/it]"
     ]
    },
    {
     "name": "stdout",
     "output_type": "stream",
     "text": [
      "Initial: 550, Deduplicated: 144, Operation simplified: 0, Constant: 2, Complex: 143, Final: 261\n",
      "Population mean complexity: 107.02298850574712\n",
      "Population mean fitness: 166.26694090377603\n",
      "\n",
      "0. Fitness: 0.13539, Fitness_val = 0.13873, Genome: ((abs(sin(x[1])) + (cos(x[1]) + (cos(x[1]) + (cos(x[1]) + (cos(x[1]) + cos(x[1])))))) + (exp(cos(x[1])) + exp(cos(x[1])))), Age: 0, Complexity: 146\n",
      "1. Fitness: 0.33832, Fitness_val = 0.31995, Genome: ((abs(sin(x[1])) + (cos(x[1]) + (cos(x[1]) + (cos(x[1]) + cos(x[1]))))) + (exp(cos(x[1])) + exp(cos(x[1])))), Age: 0, Complexity: 137\n",
      "2. Fitness: 0.49307, Fitness_val = 0.49607, Genome: ((abs(sin(x[1])) + ((cos(x[1]) + cos(x[1])) + (cos(x[1]) + (cos(x[1]) + (cos(x[1]) + cos(x[1])))))) + (exp(cos(x[1])) + cos(sin(x[1])))), Age: 0, Complexity: 146\n",
      "3. Fitness: 0.54561, Fitness_val = 0.55896, Genome: ((abs(sin(x[1])) + ((cos(x[1]) + cos(x[1])) + (cos(x[1]) + (cos(x[1]) + (cos(x[1]) + cos(x[1])))))) + (exp(cos(x[1])) + cos(cos(x[1])))), Age: 16, Complexity: 146\n",
      "4. Fitness: 0.56946, Fitness_val = 0.58299, Genome: ((abs(sin(x[1])) + ((cos(x[1]) + cos(x[1])) + (cos(x[1]) + (cos(x[1]) + (cos(x[1]) + abs(sin(x[0]))))))) + (exp(cos(x[1])) + cos(cos(x[1])))), Age: 11, Complexity: 147\n"
     ]
    },
    {
     "name": "stderr",
     "output_type": "stream",
     "text": [
      " 82%|████████▎ | 495/600 [1:13:25<17:57, 10.26s/it]"
     ]
    },
    {
     "name": "stdout",
     "output_type": "stream",
     "text": [
      "Initial: 570, Deduplicated: 160, Operation simplified: 0, Constant: 5, Complex: 141, Final: 264\n",
      "Population mean complexity: 109.62878787878788\n",
      "Population mean fitness: 7.2775376879466e+122\n",
      "\n",
      "0. Fitness: 0.13539, Fitness_val = 0.13873, Genome: ((abs(sin(x[1])) + (cos(x[1]) + (cos(x[1]) + (cos(x[1]) + (cos(x[1]) + cos(x[1])))))) + (exp(cos(x[1])) + exp(cos(x[1])))), Age: 2, Complexity: 146\n",
      "1. Fitness: 0.33832, Fitness_val = 0.31995, Genome: ((abs(sin(x[1])) + (cos(x[1]) + (cos(x[1]) + (cos(x[1]) + cos(x[1]))))) + (exp(cos(x[1])) + exp(cos(x[1])))), Age: 0, Complexity: 137\n",
      "2. Fitness: 0.49307, Fitness_val = 0.49607, Genome: ((abs(sin(x[1])) + ((cos(x[1]) + cos(x[1])) + (cos(x[1]) + (cos(x[1]) + (cos(x[1]) + cos(x[1])))))) + (exp(cos(x[1])) + cos(sin(x[1])))), Age: 0, Complexity: 146\n",
      "3. Fitness: 0.60700, Fitness_val = 0.60287, Genome: ((abs(cos(x[1])) + (cos(x[1]) + (cos(x[1]) + (cos(x[1]) + (cos(x[1]) + cos(x[1])))))) + (exp(cos(x[1])) + exp(cos(x[1])))), Age: 2, Complexity: 146\n",
      "4. Fitness: 0.60496, Fitness_val = 0.64466, Genome: ((abs(sin(x[1])) + (cos(x[1]) + (cos(x[1]) + (cos(cos(x[1])) + (cos(x[1]) + cos(x[1])))))) + (exp(cos(x[1])) + cos(x[1]))), Age: 3, Complexity: 137\n"
     ]
    },
    {
     "name": "stderr",
     "output_type": "stream",
     "text": [
      " 85%|████████▌ | 510/600 [1:16:02<15:09, 10.11s/it]"
     ]
    },
    {
     "name": "stdout",
     "output_type": "stream",
     "text": [
      "New best result found: Individual(genome=((abs(sin(x[1])) + (cos(x[1]) + (cos(x[1]) + (cos(x[1]) + (sin(cos(x[1])) + cos(x[1])))))) + (exp(cos(x[1])) + exp(cos(x[1])))), fitness=np.float64(0.10799462203117374), fitness_val=np.float64(0.10841233562328002), age=0, T=1)\n",
      "Initial: 568, Deduplicated: 122, Operation simplified: 0, Constant: 3, Complex: 149, Final: 294\n",
      "Population mean complexity: 107.25510204081633\n",
      "Population mean fitness: 124.00691354474502\n",
      "\n",
      "0. Fitness: 0.13539, Fitness_val = 0.13873, Genome: ((abs(sin(x[1])) + ((cos(x[1]) + cos(x[1])) + (cos(x[1]) + (cos(x[1]) + cos(x[1]))))) + (exp(cos(x[1])) + exp(cos(x[1])))), Age: 1, Complexity: 146\n",
      "1. Fitness: 0.14917, Fitness_val = 0.14880, Genome: ((abs(sin(x[1])) + ((cos(x[1]) + cos(x[1])) + ((abs(sin(x[1])) + (cos(x[1]) + (cos(x[1]) + (cos(x[1]) + (cos(x[1]) + cos(x[1])))))) + abs((cos(x[1]) + cos(x[1])))))) + abs(sin((x[1] + cos(x[1]))))), Age: 0, Complexity: 147\n",
      "2. Fitness: 0.24389, Fitness_val = 0.23364, Genome: ((abs(sin(x[1])) + ((cos(x[1]) + cos(x[1])) + ((abs(sin(x[1])) + (cos(x[1]) + (cos(x[1]) + (cos(x[1]) + (cos(x[1]) + cos(x[1])))))) + abs((cos(x[1]) + cos(x[1])))))) + abs(sin(x[0]))), Age: 0, Complexity: 111\n",
      "3. Fitness: 0.33832, Fitness_val = 0.31995, Genome: ((abs(sin(x[1])) + (cos(x[1]) + (cos(x[1]) + (cos(x[1]) + cos(x[1]))))) + (exp(cos(x[1])) + exp(cos(x[1])))), Age: 3, Complexity: 137\n",
      "4. Fitness: 0.46063, Fitness_val = 0.43667, Genome: ((abs(sin(x[1])) + ((cos(x[1]) + cos(x[1])) + (cos(x[1]) + (cos(x[1]) + (cos(x[1]) + abs(cos(x[1]))))))) + (exp(cos(x[1])) + cos(cos(x[1])))), Age: 3, Complexity: 147\n"
     ]
    },
    {
     "name": "stderr",
     "output_type": "stream",
     "text": [
      " 88%|████████▊ | 525/600 [1:18:31<12:04,  9.67s/it]"
     ]
    },
    {
     "name": "stdout",
     "output_type": "stream",
     "text": [
      "Initial: 557, Deduplicated: 150, Operation simplified: 0, Constant: 3, Complex: 130, Final: 274\n",
      "Population mean complexity: 109.2919708029197\n",
      "Population mean fitness: 339.2553621152812\n",
      "\n",
      "0. Fitness: 0.13539, Fitness_val = 0.13873, Genome: ((abs(sin(x[1])) + ((cos(x[1]) + cos(x[1])) + (cos(x[1]) + (cos(x[1]) + cos(x[1]))))) + (exp(cos(x[1])) + exp(cos(x[1])))), Age: 0, Complexity: 146\n",
      "1. Fitness: 0.14917, Fitness_val = 0.14880, Genome: ((abs(sin(x[1])) + ((cos(x[1]) + cos(x[1])) + ((abs(sin(x[1])) + (cos(x[1]) + (cos(x[1]) + (cos(x[1]) + (cos(x[1]) + cos(x[1])))))) + abs((cos(x[1]) + cos(x[1])))))) + abs(sin((x[1] + cos(x[1]))))), Age: 0, Complexity: 147\n",
      "2. Fitness: 0.24389, Fitness_val = 0.23364, Genome: ((abs(sin(x[1])) + ((cos(x[1]) + cos(x[1])) + ((abs(sin(x[1])) + (cos(x[1]) + (cos(x[1]) + (cos(x[1]) + (cos(x[1]) + cos(x[1])))))) + abs((cos(x[1]) + cos(x[1])))))) + abs(sin(x[0]))), Age: 0, Complexity: 111\n",
      "3. Fitness: 0.33832, Fitness_val = 0.31995, Genome: ((abs(sin(x[1])) + (cos(x[1]) + (cos(x[1]) + (cos(x[1]) + cos(x[1]))))) + (exp(cos(x[1])) + exp(cos(x[1])))), Age: 1, Complexity: 137\n",
      "4. Fitness: 0.54561, Fitness_val = 0.55896, Genome: ((abs(sin(x[1])) + (cos(x[1]) + (cos(x[1]) + (cos(x[1]) + (cos(cos(x[1])) + (cos(x[1]) + cos(x[1]))))))) + (cos(x[1]) + exp(cos(x[1])))), Age: 6, Complexity: 146\n"
     ]
    },
    {
     "name": "stderr",
     "output_type": "stream",
     "text": [
      " 90%|█████████ | 540/600 [1:21:05<09:49,  9.83s/it]"
     ]
    },
    {
     "name": "stdout",
     "output_type": "stream",
     "text": [
      "Initial: 550, Deduplicated: 147, Operation simplified: 0, Constant: 7, Complex: 128, Final: 268\n",
      "Population mean complexity: 109.91417910447761\n",
      "Population mean fitness: 87.01328966774068\n",
      "\n",
      "0. Fitness: 0.13539, Fitness_val = 0.13873, Genome: ((abs(sin(x[1])) + ((cos(x[1]) + cos(x[1])) + (cos(x[1]) + (cos(x[1]) + cos(x[1]))))) + (exp(cos(x[1])) + exp(cos(x[1])))), Age: 0, Complexity: 146\n",
      "1. Fitness: 0.14917, Fitness_val = 0.14880, Genome: ((abs(sin(x[1])) + ((cos(x[1]) + cos(x[1])) + ((abs(sin(x[1])) + (cos(x[1]) + (cos(x[1]) + (cos(x[1]) + (cos(x[1]) + cos(x[1])))))) + abs((cos(x[1]) + cos(x[1])))))) + abs(sin((x[1] + cos(x[1]))))), Age: 0, Complexity: 147\n",
      "2. Fitness: 0.24389, Fitness_val = 0.23364, Genome: ((abs(sin(x[1])) + ((cos(x[1]) + cos(x[1])) + ((abs(sin(x[1])) + (cos(x[1]) + (cos(x[1]) + (cos(x[1]) + (cos(x[1]) + cos(x[1])))))) + abs((cos(x[1]) + cos(x[1])))))) + abs(sin(x[0]))), Age: 0, Complexity: 111\n",
      "3. Fitness: 0.33832, Fitness_val = 0.31995, Genome: ((abs(sin(x[1])) + (cos(x[1]) + (cos(x[1]) + (cos(x[1]) + cos(x[1]))))) + (exp(cos(x[1])) + exp(cos(x[1])))), Age: 0, Complexity: 137\n",
      "4. Fitness: 0.35626, Fitness_val = 0.34105, Genome: ((abs(sin(x[0])) + (cos(x[1]) + (cos(x[1]) + (cos(x[1]) + (cos(x[1]) + cos(x[1])))))) + (exp(cos(x[1])) + exp(cos(x[1])))), Age: 11, Complexity: 146\n"
     ]
    },
    {
     "name": "stderr",
     "output_type": "stream",
     "text": [
      " 92%|█████████▎| 555/600 [1:23:54<08:57, 11.94s/it]"
     ]
    },
    {
     "name": "stdout",
     "output_type": "stream",
     "text": [
      "Initial: 575, Deduplicated: 91, Operation simplified: 0, Constant: 4, Complex: 185, Final: 295\n",
      "Population mean complexity: 110.17966101694915\n",
      "Population mean fitness: 176.85682462422687\n",
      "\n",
      "0. Fitness: 0.13539, Fitness_val = 0.13873, Genome: ((abs(sin(x[1])) + ((cos(x[1]) + cos(x[1])) + (cos(x[1]) + (cos(x[1]) + cos(x[1]))))) + (exp(cos(x[1])) + exp(cos(x[1])))), Age: 1, Complexity: 146\n",
      "1. Fitness: 0.14917, Fitness_val = 0.14880, Genome: ((abs(sin(x[1])) + ((cos(x[1]) + cos(x[1])) + ((abs(sin(x[1])) + (cos(x[1]) + (cos(x[1]) + (cos(x[1]) + (cos(x[1]) + cos(x[1])))))) + abs((cos(x[1]) + cos(x[1])))))) + abs(sin((x[1] + cos(x[1]))))), Age: 0, Complexity: 147\n",
      "2. Fitness: 0.24389, Fitness_val = 0.23364, Genome: ((abs(sin(x[1])) + ((cos(x[1]) + cos(x[1])) + ((abs(sin(x[1])) + (cos(x[1]) + (cos(x[1]) + (cos(x[1]) + (cos(x[1]) + cos(x[1])))))) + abs((cos(x[1]) + cos(x[1])))))) + abs(sin(x[0]))), Age: 0, Complexity: 111\n",
      "3. Fitness: 0.31583, Fitness_val = 0.28781, Genome: ((abs(sin(x[1])) + ((cos(x[1]) + cos(x[1])) + ((abs(sin(x[1])) + (cos(x[1]) + (cos(x[1]) + (cos(x[1]) + (cos(x[1]) + cos(x[1])))))) + abs((cos(x[1]) + cos(x[1])))))) + abs(cos(x[1]))), Age: 0, Complexity: 111\n",
      "4. Fitness: 0.33832, Fitness_val = 0.31995, Genome: ((abs(sin(x[1])) + (cos(x[1]) + (cos(x[1]) + (cos(x[1]) + cos(x[1]))))) + (exp(cos(x[1])) + exp(cos(x[1])))), Age: 5, Complexity: 137\n"
     ]
    },
    {
     "name": "stderr",
     "output_type": "stream",
     "text": [
      " 95%|█████████▌| 570/600 [1:26:49<06:03, 12.10s/it]"
     ]
    },
    {
     "name": "stdout",
     "output_type": "stream",
     "text": [
      "Initial: 555, Deduplicated: 99, Operation simplified: 0, Constant: 3, Complex: 144, Final: 309\n",
      "Population mean complexity: 110.26860841423948\n",
      "Population mean fitness: 362.1651566601867\n",
      "\n",
      "0. Fitness: 0.13539, Fitness_val = 0.13873, Genome: ((abs(sin(x[1])) + (cos(x[1]) + (cos(x[1]) + (cos(x[1]) + (cos(x[1]) + cos(x[1])))))) + (exp(cos(x[1])) + exp(cos(x[1])))), Age: 1, Complexity: 146\n",
      "1. Fitness: 0.14917, Fitness_val = 0.14880, Genome: ((abs(sin(x[1])) + ((cos(x[1]) + cos(x[1])) + ((abs(sin(x[1])) + (cos(x[1]) + (cos(x[1]) + (cos(x[1]) + (cos(x[1]) + cos(x[1])))))) + abs((cos(x[1]) + cos(x[1])))))) + abs(sin((x[1] + cos(x[1]))))), Age: 0, Complexity: 147\n",
      "2. Fitness: 0.24570, Fitness_val = 0.22375, Genome: ((cos(x[1]) + ((cos(x[1]) + cos(x[1])) + ((abs(sin(x[1])) + (cos(x[1]) + (cos(x[1]) + (cos(x[1]) + (cos(x[1]) + cos(sin(x[0]))))))) + abs((cos(x[1]) + cos(x[1])))))) + abs(sin(x[0]))), Age: 0, Complexity: 138\n",
      "3. Fitness: 0.24389, Fitness_val = 0.23364, Genome: ((abs(sin(x[1])) + ((cos(x[1]) + cos(x[1])) + ((abs(sin(x[1])) + (cos(x[1]) + (cos(x[1]) + (cos(x[1]) + (cos(x[1]) + cos(x[1])))))) + abs((cos(x[1]) + cos(x[1])))))) + abs(sin(x[0]))), Age: 1, Complexity: 111\n",
      "4. Fitness: 0.24593, Fitness_val = 0.23671, Genome: ((abs(sin(x[1])) + ((cos(x[1]) + cos(x[1])) + ((abs(sin(x[1])) + (cos(x[1]) + (sin(cos(x[1])) + (cos(x[1]) + (cos(x[1]) + cos(x[1])))))) + abs((cos(x[1]) + cos(x[1])))))) + abs(sin(x[0]))), Age: 2, Complexity: 139\n"
     ]
    },
    {
     "name": "stderr",
     "output_type": "stream",
     "text": [
      " 98%|█████████▊| 585/600 [1:29:45<02:36, 10.45s/it]"
     ]
    },
    {
     "name": "stdout",
     "output_type": "stream",
     "text": [
      "Initial: 558, Deduplicated: 124, Operation simplified: 0, Constant: 3, Complex: 141, Final: 290\n",
      "Population mean complexity: 107.30344827586207\n",
      "Population mean fitness: 99.64921978447452\n",
      "\n",
      "0. Fitness: 0.13539, Fitness_val = 0.13873, Genome: ((abs(sin(x[1])) + (cos(x[1]) + (cos(x[1]) + (cos(x[1]) + (cos(x[1]) + cos(x[1])))))) + (exp(cos(x[1])) + exp(cos(x[1])))), Age: 0, Complexity: 146\n",
      "1. Fitness: 0.14917, Fitness_val = 0.14880, Genome: ((abs(sin(x[1])) + ((cos(x[1]) + cos(x[1])) + ((abs(sin(x[1])) + (cos(x[1]) + (cos(x[1]) + (cos(x[1]) + (cos(x[1]) + cos(x[1])))))) + abs((cos(x[1]) + cos(x[1])))))) + abs(sin((x[1] + cos(x[1]))))), Age: 0, Complexity: 147\n",
      "2. Fitness: 0.24570, Fitness_val = 0.22375, Genome: ((cos(x[1]) + ((cos(x[1]) + cos(x[1])) + ((abs(sin(x[1])) + (cos(x[1]) + (cos(x[1]) + (cos(x[1]) + (cos(x[1]) + cos(sin(x[0]))))))) + abs((cos(x[1]) + cos(x[1])))))) + abs(sin(x[0]))), Age: 0, Complexity: 138\n",
      "3. Fitness: 0.24389, Fitness_val = 0.23364, Genome: ((abs(sin(x[1])) + ((cos(x[1]) + cos(x[1])) + ((abs(sin(x[1])) + (cos(x[1]) + (cos(x[1]) + (cos(x[1]) + (cos(x[1]) + cos(x[1])))))) + abs((cos(x[1]) + cos(x[1])))))) + abs(sin(x[0]))), Age: 10, Complexity: 111\n",
      "4. Fitness: 0.24593, Fitness_val = 0.23671, Genome: ((abs(sin(x[1])) + ((cos(x[1]) + cos(x[1])) + ((abs(sin(x[1])) + (cos(x[1]) + (sin(cos(x[1])) + (cos(x[1]) + (cos(x[1]) + cos(x[1])))))) + abs((cos(x[1]) + cos(x[1])))))) + abs(sin(x[0]))), Age: 1, Complexity: 139\n"
     ]
    },
    {
     "name": "stderr",
     "output_type": "stream",
     "text": [
      "100%|██████████| 600/600 [1:32:33<00:00,  9.26s/it]"
     ]
    },
    {
     "name": "stdout",
     "output_type": "stream",
     "text": [
      "Initial: 539, Deduplicated: 103, Operation simplified: 0, Constant: 2, Complex: 149, Final: 285\n",
      "Population mean complexity: 112.01754385964912\n",
      "Population mean fitness: 244.600305552849\n",
      "\n",
      "0. Fitness: 0.13539, Fitness_val = 0.13873, Genome: ((abs(sin(x[1])) + ((cos(x[1]) + cos(x[1])) + (cos(x[1]) + (cos(x[1]) + cos(x[1]))))) + (exp(cos(x[1])) + exp(cos(x[1])))), Age: 0, Complexity: 146\n",
      "1. Fitness: 0.14917, Fitness_val = 0.14880, Genome: ((abs(sin(x[1])) + ((cos(x[1]) + cos(x[1])) + ((abs(sin(x[1])) + (cos(x[1]) + (cos(x[1]) + (cos(x[1]) + (cos(x[1]) + cos(x[1])))))) + abs((cos(x[1]) + cos(x[1])))))) + abs(sin((x[1] + cos(x[1]))))), Age: 0, Complexity: 147\n",
      "2. Fitness: 0.23200, Fitness_val = 0.22222, Genome: ((abs(sin(x[1])) + ((cos(x[1]) + cos(x[1])) + ((abs(sin(x[1])) + (cos(x[1]) + (cos(x[1]) + (cos(x[1]) + (cos(x[1]) + cos(x[1])))))) + abs((cos(x[1]) + cos(x[1])))))) + abs(sin(sin(x[0])))), Age: 0, Complexity: 139\n",
      "3. Fitness: 0.24570, Fitness_val = 0.22375, Genome: ((cos(x[1]) + ((cos(x[1]) + cos(x[1])) + ((abs(sin(x[1])) + (cos(x[1]) + (cos(x[1]) + (cos(x[1]) + (cos(x[1]) + cos(sin(x[0]))))))) + abs((cos(x[1]) + cos(x[1])))))) + abs(sin(x[0]))), Age: 13, Complexity: 138\n",
      "4. Fitness: 0.24593, Fitness_val = 0.23671, Genome: ((abs(sin(x[1])) + ((cos(x[1]) + cos(x[1])) + ((abs(sin(x[1])) + (cos(x[1]) + (sin(cos(x[1])) + (cos(x[1]) + (cos(x[1]) + cos(x[1])))))) + abs((cos(x[1]) + cos(x[1])))))) + abs(sin(x[0]))), Age: 16, Complexity: 139\n",
      "Best individual: Fitness = 0.10799462203117374: Genome = ((abs(sin(x[1])) + (cos(x[1]) + (cos(x[1]) + (cos(x[1]) + (sin(cos(x[1])) + cos(x[1])))))) + (exp(cos(x[1])) + exp(cos(x[1]))))\n",
      "Top 1: Fitness = 0.13538810211131472 Fitness_val = 0.13872683586329818 Genome = ((abs(sin(x[1])) + ((cos(x[1]) + cos(x[1])) + (cos(x[1]) + (cos(x[1]) + cos(x[1]))))) + (exp(cos(x[1])) + exp(cos(x[1]))))\n",
      "Top 2: Fitness = 0.1491741131728383 Fitness_val = 0.14880276748928797 Genome = ((abs(sin(x[1])) + ((cos(x[1]) + cos(x[1])) + ((abs(sin(x[1])) + (cos(x[1]) + (cos(x[1]) + (cos(x[1]) + (cos(x[1]) + cos(x[1])))))) + abs((cos(x[1]) + cos(x[1])))))) + abs(sin((x[1] + cos(x[1])))))\n",
      "Top 3: Fitness = 0.23199550640064545 Fitness_val = 0.2222216892192531 Genome = ((abs(sin(x[1])) + ((cos(x[1]) + cos(x[1])) + ((abs(sin(x[1])) + (cos(x[1]) + (cos(x[1]) + (cos(x[1]) + (cos(x[1]) + cos(x[1])))))) + abs((cos(x[1]) + cos(x[1])))))) + abs(sin(sin(x[0]))))\n",
      "Top 4: Fitness = 0.24570063100187717 Fitness_val = 0.22375398105001598 Genome = ((cos(x[1]) + ((cos(x[1]) + cos(x[1])) + ((abs(sin(x[1])) + (cos(x[1]) + (cos(x[1]) + (cos(x[1]) + (cos(x[1]) + cos(sin(x[0]))))))) + abs((cos(x[1]) + cos(x[1])))))) + abs(sin(x[0])))\n",
      "Top 5: Fitness = 0.2459283231351041 Fitness_val = 0.23670691420893747 Genome = ((abs(sin(x[1])) + ((cos(x[1]) + cos(x[1])) + ((abs(sin(x[1])) + (cos(x[1]) + (sin(cos(x[1])) + (cos(x[1]) + (cos(x[1]) + cos(x[1])))))) + abs((cos(x[1]) + cos(x[1])))))) + abs(sin(x[0])))\n",
      "Top 6: Fitness = 0.24829164887884003 Fitness_val = 0.238609911725374 Genome = ((abs(sin(x[1])) + ((cos(x[1]) + cos(x[1])) + ((abs(sin(x[1])) + (cos(x[1]) + (cos(x[1]) + (cos(x[1]) + (cos(x[1]) + cos(x[1])))))) + abs((cos(x[1]) + cos(x[1])))))) + abs(sin(cos(x[0]))))\n",
      "Top 7: Fitness = 0.3071641882805186 Fitness_val = 0.2816373784927462 Genome = ((abs(sin(x[1])) + ((cos(x[1]) + cos(x[1])) + ((abs(sin(x[1])) + (cos(x[1]) + (cos(x[1]) + (cos(x[1]) + (cos(x[1]) + cos(x[1])))))) + abs((cos(x[1]) + cos(x[1])))))) + abs(sin(cos(x[1]))))\n",
      "Top 8: Fitness = 0.33831726844711774 Fitness_val = 0.31994800011380964 Genome = ((abs(sin(x[1])) + ((cos(x[1]) + cos(x[1])) + (cos(x[1]) + cos(x[1])))) + (exp(cos(x[1])) + exp(cos(x[1]))))\n",
      "Top 9: Fitness = 0.462230002844495 Fitness_val = 0.4278415582944164 Genome = ((cos(x[1]) + ((cos(x[1]) + cos(x[1])) + ((abs(sin(x[1])) + (cos(x[1]) + (cos(x[1]) + (cos(x[1]) + (cos(x[1]) + cos(sin(x[1]))))))) + abs((cos(x[1]) + cos(x[1])))))) + abs(sin(x[0])))\n",
      "Top 10: Fitness = 0.5199278195828914 Fitness_val = 0.5169158379488406 Genome = ((cos(x[1]) + ((cos(x[1]) + cos(x[1])) + ((abs(sin(x[1])) + (cos(x[1]) + (cos(x[1]) + (cos(x[1]) + (cos(x[1]) + cos(sin(x[1]))))))) + abs((abs(sin(x[1])) + cos(x[1])))))) + abs(sin(x[0])))\n",
      "Top 11: Fitness = 0.6070038279188179 Fitness_val = 0.6028674251042916 Genome = ((abs(cos(x[1])) + (cos(x[1]) + (cos(x[1]) + (cos(x[1]) + (cos(x[1]) + cos(x[1])))))) + (exp(cos(x[1])) + exp(cos(x[1]))))\n",
      "Top 12: Fitness = 0.7793478770791389 Fitness_val = 0.7299081580711226 Genome = ((abs(sin(x[1])) + (cos(x[1]) + ((abs(sin(x[1])) + (cos(x[1]) + (cos(x[1]) + (cos(x[1]) + (cos(x[1]) + cos(x[1])))))) + abs((cos(x[1]) + cos(x[1])))))) + abs(sin(cos(x[1]))))\n",
      "Top 13: Fitness = 0.7459645776090794 Fitness_val = 0.7604859345723697 Genome = ((abs(sin(x[1])) + ((cos(x[1]) + cos(x[1])) + ((abs(sin(x[1])) + (cos(x[1]) + (cos(x[1]) + (cos(x[1]) + (cos(x[1]) + cos(x[1])))))) + abs((cos(x[1]) + abs(sin(x[1]))))))) + abs(sin(cos(x[1]))))\n",
      "Top 14: Fitness = 0.7973519554656328 Fitness_val = 0.7694367617227421 Genome = ((abs(sin(x[1])) + (cos(x[1]) + (cos(x[1]) + (cos(x[1]) + (abs(sin(x[1])) + cos(x[1])))))) + (exp(cos(x[1])) + exp(cos(x[1]))))\n",
      "Top 15: Fitness = 0.8365940842703788 Fitness_val = 0.7702877415544671 Genome = (((abs(sin(x[1])) + (cos(x[1]) + (cos(x[1]) + (cos(x[1]) + (cos(x[1]) + cos(x[1])))))) + abs((cos(x[1]) + cos(x[1])))) + exp(cos(x[1])))\n",
      "Mean fitness of the population:  244.600305552849\n",
      "Population size:  285\n",
      "Population mean complexity: 112.01754385964912\n"
     ]
    },
    {
     "name": "stderr",
     "output_type": "stream",
     "text": [
      "\n"
     ]
    }
   ],
   "source": [
    "problem = np.load(\"data/problem_4.npz\")\n",
    "x = problem[\"x\"]\n",
    "y = problem[\"y\"]\n",
    "print(\"x.shape:\", x.shape)\n",
    "print(\"y.shape:\", y.shape)\n",
    "x_train, y_train, x_val, y_val = split_dataset(x,y,0.8)\n",
    "print(\"x_train.shape: \", x_train.shape)\n",
    "print(\"x_val.shape: \", x_val.shape)\n",
    "print(\"y_train.shape: \", y_train.shape)\n",
    "print(\"y_val.shape: \", y_val.shape)\n",
    "my_pop_4 = evolve(x_train,y_train,x_val,y_val,conf)\n"
   ]
  },
  {
   "cell_type": "code",
   "execution_count": 14,
   "metadata": {},
   "outputs": [
    {
     "name": "stdout",
     "output_type": "stream",
     "text": [
      "x.shape: (2, 5000)\n",
      "y.shape: (5000,)\n",
      "x_train.shape:  (2, 4000)\n",
      "x_val.shape:  (2, 1000)\n",
      "y_train.shape:  (4000,)\n",
      "y_val.shape:  (1000,)\n",
      "Population is creating with a size:  100\n",
      "Population has created.\n",
      "Individual fitness values are assigning\n",
      " Population size: 64\n",
      "Population mean fitness: 4.926271615528446e+123\n",
      "Population mean complexity: 1766.46875\n",
      "Top 1: Fitness = 0.00000 Fitness_val = 0.00000 Genome = log(cos(abs(log(cos(tan(log([0.75773852])))))))\n",
      "Top 2: Fitness = 0.00002 Fitness_val = 0.00002 Genome = sin(abs((tan(((sin([-1.08699759]) + abs([-0.86672997])) * tan(abs([-0.3447128])))) * sin(sin(((x[1] + x[0]) - (x[1] * x[1])))))))\n",
      "Top 3: Fitness = 0.06101 Fitness_val = 0.06101 Genome = ([-0.95724946] * [0.25803281])\n",
      "Top 4: Fitness = 0.13273 Fitness_val = 0.13273 Genome = tan([-0.3493725])\n",
      "Top 5: Fitness = 0.14105 Fitness_val = 0.14105 Genome = abs([0.3755623])\n"
     ]
    },
    {
     "name": "stderr",
     "output_type": "stream",
     "text": [
      "  1%|          | 5/600 [01:41<3:27:21, 20.91s/it]"
     ]
    },
    {
     "name": "stdout",
     "output_type": "stream",
     "text": [
      "New best result found: Individual(genome=log(cos(abs(log(cos(log([0.75773852])))))), fitness=np.float64(5.777044323241739e-07), fitness_val=np.float64(5.777043838510696e-07), age=0, T=1)\n"
     ]
    },
    {
     "name": "stderr",
     "output_type": "stream",
     "text": [
      "  1%|▏         | 8/600 [02:48<3:38:39, 22.16s/it]"
     ]
    },
    {
     "name": "stdout",
     "output_type": "stream",
     "text": [
      "New best result found: Individual(genome=sin(abs((tan(((sin([-1.08699759]) + abs([-0.86672997])) * tan(tan(((sin([-1.08699759]) + abs([-0.86672997])) * tan(abs([-0.3447128]))))))) * sin(sin(((x[1] + [0.3755623]) - (x[1] * x[1]))))))), fitness=np.float64(5.0004084798982915e-09), fitness_val=np.float64(4.96576647617728e-09), age=0, T=1)\n"
     ]
    },
    {
     "name": "stderr",
     "output_type": "stream",
     "text": [
      "  2%|▏         | 9/600 [03:15<3:53:02, 23.66s/it]"
     ]
    },
    {
     "name": "stdout",
     "output_type": "stream",
     "text": [
      "New best result found: Individual(genome=log(cos(abs(log(cos(((sin([-1.08699759]) + abs([-0.86672997])) * tan(abs([-0.3447128])))))))), fitness=np.float64(5.285523242758737e-18), fitness_val=np.float64(5.607128667072887e-18), age=0, T=1)\n"
     ]
    },
    {
     "name": "stderr",
     "output_type": "stream",
     "text": [
      "  2%|▎         | 15/600 [06:53<5:51:20, 36.04s/it]"
     ]
    },
    {
     "name": "stdout",
     "output_type": "stream",
     "text": [
      "Initial: 482, Deduplicated: 99, Operation simplified: 0, Constant: 206, Complex: 130, Final: 47\n",
      "Population mean complexity: 31.78723404255319\n",
      "Population mean fitness: 1.4753282593733303e+21\n",
      "\n",
      "0. Fitness: 0.00000, Fitness_val = 0.00000, Genome: (tan((([-0.88523435] + (x[1] + [0.3755623])) * [0.2928829])) * [-0.00125532]), Age: 0, Complexity: 34\n",
      "1. Fitness: 0.00001, Fitness_val = 0.00001, Genome: abs(([-0.00664406] * sin(sin((([0.49808569] + x[1]) / (x[1] * [-0.40378637])))))), Age: 0, Complexity: 135\n",
      "2. Fitness: 0.00001, Fitness_val = 0.00001, Genome: abs(([-0.00664406] * sin(sin((([0.49808569] + x[1]) / (x[1] * x[1])))))), Age: 0, Complexity: 135\n",
      "3. Fitness: 0.00002, Fitness_val = 0.00002, Genome: abs(([-0.00664406] * sin(sin(((x[1] + x[0]) - x[1]))))), Age: 9, Complexity: 103\n",
      "4. Fitness: 0.01393, Fitness_val = 0.01408, Genome: abs(([-0.18506734] * sin(sin(((x[1] + x[0]) - x[1]))))), Age: 7, Complexity: 103\n"
     ]
    },
    {
     "name": "stderr",
     "output_type": "stream",
     "text": [
      "  5%|▌         | 30/600 [13:48<6:00:18, 37.93s/it]"
     ]
    },
    {
     "name": "stdout",
     "output_type": "stream",
     "text": [
      "Initial: 444, Deduplicated: 95, Operation simplified: 0, Constant: 125, Complex: 74, Final: 150\n",
      "Population mean complexity: 56.29333333333334\n",
      "Population mean fitness: 3.0078366290711557e+25\n",
      "\n",
      "0. Fitness: 0.00000, Fitness_val = 0.00000, Genome: abs(([-0.00664406] * sin(abs(([-0.00664406] * abs((sin(([-0.00664406] * x[1])) * [-5.54140851e-08]))))))), Age: 0, Complexity: 95\n",
      "1. Fitness: 0.00000, Fitness_val = 0.00000, Genome: abs(([-0.00664406] * sin(abs(([-0.00664406] * abs((sin((([8.34039036e-06] + x[0]) / x[1])) * [-1.04698195e-08]))))))), Age: 0, Complexity: 127\n",
      "2. Fitness: 0.00000, Fitness_val = 0.00000, Genome: abs(([-0.00664406] * sin(abs(([-0.00664406] * abs((sin((([8.34039036e-06] + x[0]) / x[1])) * [-5.54140851e-08]))))))), Age: 0, Complexity: 127\n",
      "3. Fitness: 0.00000, Fitness_val = 0.00000, Genome: ([-0.00125532] * sin(((sin(([-0.00125531] / (x[1] / x[1]))) * [-0.00125531]) * [-0.00125531]))), Age: 0, Complexity: 118\n",
      "4. Fitness: 0.00000, Fitness_val = 0.00000, Genome: ([-0.00125532] * sin(((sin(([-0.00125531] / (x[1] / x[1]))) * [-0.00125531]) * [-0.00125531]))), Age: 1, Complexity: 118\n"
     ]
    },
    {
     "name": "stderr",
     "output_type": "stream",
     "text": [
      "  7%|▋         | 40/600 [20:59<7:04:47, 45.51s/it]"
     ]
    },
    {
     "name": "stdout",
     "output_type": "stream",
     "text": [
      "New best result found: Individual(genome=([-0.00664406] * abs([-5.54140851e-08])), fitness=np.float64(5.218926018785195e-18), fitness_val=np.float64(5.53258485498214e-18), age=0, T=1)\n"
     ]
    },
    {
     "name": "stderr",
     "output_type": "stream",
     "text": [
      "  7%|▋         | 41/600 [21:43<7:00:43, 45.16s/it]"
     ]
    },
    {
     "name": "stdout",
     "output_type": "stream",
     "text": [
      "New best result found: Individual(genome=([0.55106818] * sin(((sin((([-0.00125531] / (x[1] / x[1])) / [2.89475377])) * [-0.00125531]) * [-0.00125531]))), fitness=np.float64(5.215553567971159e-18), fitness_val=np.float64(5.5286766771813344e-18), age=0, T=1)\n"
     ]
    },
    {
     "name": "stderr",
     "output_type": "stream",
     "text": [
      "  8%|▊         | 45/600 [24:22<6:29:00, 42.06s/it]"
     ]
    },
    {
     "name": "stdout",
     "output_type": "stream",
     "text": [
      "Initial: 425, Deduplicated: 112, Operation simplified: 0, Constant: 63, Complex: 90, Final: 160\n",
      "Population mean complexity: 72.825\n",
      "Population mean fitness: 1219590674644.0178\n",
      "\n",
      "0. Fitness: 0.00000, Fitness_val = 0.00000, Genome: ([0.55106818] * sin(((sin((([-0.00125531] / (x[1] / x[1])) / [2.89475377])) * [-0.00125531]) * [-0.00125531]))), Age: 0, Complexity: 150\n",
      "1. Fitness: 0.00000, Fitness_val = 0.00000, Genome: ([0.55106818] * sin(((sin(([-0.00125531] / (x[1] / x[1]))) * [-0.00125531]) * [-0.00125531]))), Age: 0, Complexity: 118\n",
      "2. Fitness: 0.00000, Fitness_val = 0.00000, Genome: ([-0.00664406] * abs((sin((x[1] / x[1])) * [-1.04698195e-08]))), Age: 0, Complexity: 21\n",
      "3. Fitness: 0.00000, Fitness_val = 0.00000, Genome: ([-0.00664406] * abs((sin((x[1] / abs(([-0.00664406] * abs(([-0.00664406] * abs((sin(([-0.00664406] * x[1])) * [-5.54140851e-08])))))))) * [-1.04698195e-08]))), Age: 5, Complexity: 117\n",
      "4. Fitness: 0.00000, Fitness_val = 0.00000, Genome: ([-0.00664406] * abs((sin((([8.34039036e-06] + x[0]) / x[1])) * [-1.04698195e-08]))), Age: 3, Complexity: 29\n"
     ]
    },
    {
     "name": "stderr",
     "output_type": "stream",
     "text": [
      " 10%|█         | 60/600 [34:29<6:06:51, 40.76s/it]"
     ]
    },
    {
     "name": "stdout",
     "output_type": "stream",
     "text": [
      "Initial: 434, Deduplicated: 89, Operation simplified: 0, Constant: 62, Complex: 70, Final: 213\n",
      "Population mean complexity: 54.85446009389671\n",
      "Population mean fitness: 1.961270016606099e+21\n",
      "\n",
      "0. Fitness: 0.00000, Fitness_val = 0.00000, Genome: ([0.55106818] * sin(((sin((([-0.00125531] / (x[1] / x[1])) / [2.89475377])) * [-0.00125531]) * [-0.00125531]))), Age: 0, Complexity: 150\n",
      "1. Fitness: 0.00000, Fitness_val = 0.00000, Genome: ([-0.00664406] * abs((x[0] * [-1.04698195e-08]))), Age: 0, Complexity: 6\n",
      "2. Fitness: 0.00000, Fitness_val = 0.00000, Genome: ([-0.00664406] * abs((x[1] * [-1.04698195e-08]))), Age: 0, Complexity: 6\n",
      "3. Fitness: 0.00000, Fitness_val = 0.00000, Genome: ([0.55106818] * sin(((sin(([-0.00125531] / (x[1] / x[1]))) * [-0.00125531]) * [-0.00125531]))), Age: 1, Complexity: 118\n",
      "4. Fitness: 0.00000, Fitness_val = 0.00000, Genome: ([-0.00664406] * abs((x[1] * sin(abs(([-0.75211771] * abs((sin((([8.34039036e-06] + x[0]) / [-5.54140851e-08])) * [-1.04698195e-08])))))))), Age: 1, Complexity: 129\n"
     ]
    },
    {
     "name": "stderr",
     "output_type": "stream",
     "text": [
      " 12%|█▎        | 75/600 [45:24<7:01:58, 48.23s/it]"
     ]
    },
    {
     "name": "stdout",
     "output_type": "stream",
     "text": [
      "Initial: 412, Deduplicated: 97, Operation simplified: 0, Constant: 59, Complex: 25, Final: 231\n",
      "Population mean complexity: 43.81818181818182\n",
      "Population mean fitness: 7.10596403215835e+17\n",
      "\n",
      "0. Fitness: 0.00000, Fitness_val = 0.00000, Genome: ([0.55106818] * sin(((sin((([-0.00125531] / (x[1] / x[1])) / [2.89475377])) * [-0.00125531]) * [-0.00125531]))), Age: 0, Complexity: 150\n",
      "1. Fitness: 0.00000, Fitness_val = 0.00000, Genome: ([-0.00664406] * abs((x[1] * sin(abs((x[0] * [9.21350179e-09])))))), Age: 0, Complexity: 25\n",
      "2. Fitness: 0.00000, Fitness_val = 0.00000, Genome: ([-0.00664406] * abs((x[0] * [-1.04698195e-08]))), Age: 0, Complexity: 6\n",
      "3. Fitness: 0.00000, Fitness_val = 0.00000, Genome: ([-0.00664406] * abs((x[1] * [-1.04698195e-08]))), Age: 0, Complexity: 6\n",
      "4. Fitness: 0.00000, Fitness_val = 0.00000, Genome: ([-0.00664406] * (x[1] * abs((sin(([-0.00664406] + x[0])) * [-5.54140851e-08])))), Age: 6, Complexity: 23\n"
     ]
    },
    {
     "name": "stderr",
     "output_type": "stream",
     "text": [
      " 14%|█▍        | 85/600 [54:37<8:16:24, 57.83s/it]"
     ]
    },
    {
     "name": "stdout",
     "output_type": "stream",
     "text": [
      "New best result found: Individual(genome=([-0.00664406] * sin(([-0.00664406] * ([-0.00664406] * abs(([-0.00664406] * abs([0.39756202]))))))), fitness=np.float64(5.217570993261014e-18), fitness_val=np.float64(5.5053029281141745e-18), age=0, T=1)\n"
     ]
    },
    {
     "name": "stderr",
     "output_type": "stream",
     "text": [
      " 14%|█▍        | 86/600 [55:35<8:13:43, 57.63s/it]"
     ]
    },
    {
     "name": "stdout",
     "output_type": "stream",
     "text": [
      "New best result found: Individual(genome=([-0.00664406] * sin(([-0.00664406] * ([-0.00664406] * abs(([-0.00664406] * abs((sin(([-0.66295789] + (x[1] * [7.2552058e-17]))) * [0.55106818])))))))), fitness=np.float64(5.184634310857746e-18), fitness_val=np.float64(5.4796247640472835e-18), age=0, T=1)\n"
     ]
    },
    {
     "name": "stderr",
     "output_type": "stream",
     "text": [
      " 15%|█▌        | 90/600 [1:00:23<10:02:31, 70.89s/it]"
     ]
    },
    {
     "name": "stdout",
     "output_type": "stream",
     "text": [
      "Initial: 469, Deduplicated: 86, Operation simplified: 0, Constant: 83, Complex: 47, Final: 253\n",
      "Population mean complexity: 44.71146245059288\n",
      "Population mean fitness: 1.870453207333628e+26\n",
      "\n",
      "0. Fitness: 0.00000, Fitness_val = 0.00000, Genome: ([0.55106818] * sin(((sin((([-0.00125531] / (x[1] / x[1])) / [2.89475377])) * [-0.00125531]) * [-0.00125531]))), Age: 0, Complexity: 150\n",
      "1. Fitness: 0.00000, Fitness_val = 0.00000, Genome: ([-0.0892416] * abs((sin(((x[1] + x[0]) + x[0])) * [-1.04698195e-08]))), Age: 0, Complexity: 29\n",
      "2. Fitness: 0.00000, Fitness_val = 0.00000, Genome: ([-0.00664406] * (x[1] * [3.20760701e-08])), Age: 0, Complexity: 5\n",
      "3. Fitness: 0.00000, Fitness_val = 0.00000, Genome: ([-0.00664406] * sin(([-0.00664406] * ([-0.00664406] * abs(([-0.00664406] * abs((sin(([-0.66295789] + x[0])) * [0.55106818])))))))), Age: 6, Complexity: 110\n",
      "4. Fitness: 0.00000, Fitness_val = 0.00000, Genome: ([-0.00664406] * (x[0] * [3.20760701e-08])), Age: 1, Complexity: 5\n"
     ]
    },
    {
     "name": "stderr",
     "output_type": "stream",
     "text": [
      " 16%|█▋        | 98/600 [1:08:33<9:17:50, 66.67s/it] "
     ]
    },
    {
     "name": "stdout",
     "output_type": "stream",
     "text": [
      "New best result found: Individual(genome=([-0.00664406] * ((((x[0] * [-1.04698195e-08]) + [1.4532548]) + [1.4532548]) * [3.20760701e-08])), fitness=np.float64(5.179072511402928e-18), fitness_val=np.float64(5.476708037333902e-18), age=0, T=1)\n"
     ]
    },
    {
     "name": "stderr",
     "output_type": "stream",
     "text": [
      " 17%|█▋        | 104/600 [1:15:31<9:28:16, 68.74s/it]"
     ]
    },
    {
     "name": "stdout",
     "output_type": "stream",
     "text": [
      "New best result found: Individual(genome=([-0.00664406] * ((((x[0] * [-0.00664406]) + [1.4532548]) + [1.4532548]) * [3.20760701e-08])), fitness=np.float64(5.178762734134488e-18), fitness_val=np.float64(5.476621815195131e-18), age=0, T=1)\n"
     ]
    },
    {
     "name": "stderr",
     "output_type": "stream",
     "text": [
      " 18%|█▊        | 105/600 [1:16:51<9:53:09, 71.90s/it]"
     ]
    },
    {
     "name": "stdout",
     "output_type": "stream",
     "text": [
      "Initial: 427, Deduplicated: 74, Operation simplified: 0, Constant: 89, Complex: 56, Final: 208\n",
      "Population mean complexity: 50.08173076923077\n",
      "Population mean fitness: 8.799166981727854e+16\n",
      "\n",
      "0. Fitness: 0.00000, Fitness_val = 0.00000, Genome: ([-0.00664406] * ((((x[0] * [-0.00664406]) + [1.4532548]) + [1.4532548]) * [3.20760701e-08])), Age: 0, Complexity: 11\n",
      "1. Fitness: 0.00000, Fitness_val = 0.00000, Genome: ([-0.00664406] * ((((x[0] * ([-0.00664406] * abs(sin(((((((x[0] * [-1.04698195e-08]) + [1.4532548]) + [1.4532548]) * [3.20760701e-08]) * [-1.04698195e-08]) + [1.4532548]))))) + [1.4532548]) + [1.4532548]) * [3.20760701e-08])), Age: 0, Complexity: 69\n",
      "2. Fitness: 0.00000, Fitness_val = 0.00000, Genome: ([-0.00664406] * ((((x[0] * ([-0.00664406] * abs(sin(((x[0] * [-1.04698195e-08]) + [1.4532548]))))) + [1.4532548]) + [1.4532548]) * [3.20760701e-08])), Age: 0, Complexity: 37\n",
      "3. Fitness: 0.00000, Fitness_val = 0.00000, Genome: ([-0.00664406] * ((((x[0] * [-1.04698195e-08]) + [1.4532548]) + [1.4532548]) * [3.20760701e-08])), Age: 0, Complexity: 11\n",
      "4. Fitness: 0.00000, Fitness_val = 0.00000, Genome: ([-0.00664406] * ((((x[0] * [-6.19422113e-10]) + [1.4532548]) + [1.4532548]) * [3.20760701e-08])), Age: 2, Complexity: 11\n"
     ]
    },
    {
     "name": "stderr",
     "output_type": "stream",
     "text": [
      " 18%|█▊        | 107/600 [1:19:28<6:06:12, 44.57s/it]\n"
     ]
    },
    {
     "ename": "KeyboardInterrupt",
     "evalue": "",
     "output_type": "error",
     "traceback": [
      "\u001b[1;31m---------------------------------------------------------------------------\u001b[0m",
      "\u001b[1;31mKeyboardInterrupt\u001b[0m                         Traceback (most recent call last)",
      "Cell \u001b[1;32mIn[14], line 11\u001b[0m\n\u001b[0;32m      9\u001b[0m \u001b[38;5;28mprint\u001b[39m(\u001b[38;5;124m\"\u001b[39m\u001b[38;5;124my_train.shape: \u001b[39m\u001b[38;5;124m\"\u001b[39m, y_train\u001b[38;5;241m.\u001b[39mshape)\n\u001b[0;32m     10\u001b[0m \u001b[38;5;28mprint\u001b[39m(\u001b[38;5;124m\"\u001b[39m\u001b[38;5;124my_val.shape: \u001b[39m\u001b[38;5;124m\"\u001b[39m, y_val\u001b[38;5;241m.\u001b[39mshape)\n\u001b[1;32m---> 11\u001b[0m my_pop_5 \u001b[38;5;241m=\u001b[39m \u001b[43mevolve\u001b[49m\u001b[43m(\u001b[49m\u001b[43mx_train\u001b[49m\u001b[43m,\u001b[49m\u001b[43my_train\u001b[49m\u001b[43m,\u001b[49m\u001b[43mx_val\u001b[49m\u001b[43m,\u001b[49m\u001b[43my_val\u001b[49m\u001b[43m,\u001b[49m\u001b[43mconf\u001b[49m\u001b[43m)\u001b[49m\n",
      "Cell \u001b[1;32mIn[7], line 75\u001b[0m, in \u001b[0;36mevolve\u001b[1;34m(train_x, train_y, val_x, val_y, conf)\u001b[0m\n\u001b[0;32m     72\u001b[0m             my_population\u001b[38;5;241m.\u001b[39mappend(child)\n\u001b[0;32m     73\u001b[0m             num_succesfull_mut\u001b[38;5;241m+\u001b[39m\u001b[38;5;241m=\u001b[39m\u001b[38;5;241m1\u001b[39m\n\u001b[1;32m---> 75\u001b[0m \u001b[43massign_population_fitness_train\u001b[49m\u001b[43m(\u001b[49m\u001b[43mmy_population\u001b[49m\u001b[43m,\u001b[49m\u001b[43mtrain_x\u001b[49m\u001b[43m,\u001b[49m\u001b[43mtrain_y\u001b[49m\u001b[43m)\u001b[49m\n\u001b[0;32m     76\u001b[0m assign_population_fitness_val(my_population,val_x,val_y)\n\u001b[0;32m     78\u001b[0m \u001b[38;5;66;03m# print(f\"xover: {num_xover}, mut: {num_mut}, succesfull mut: {num_succesfull_mut}\")\u001b[39;00m\n",
      "File \u001b[1;32mc:\\Users\\abayr\\OneDrive\\Desktop\\Computational_Intelligence\\Projects\\CI_project_draft\\src\\utils.py:245\u001b[0m, in \u001b[0;36massign_population_fitness_train\u001b[1;34m(population, x, y)\u001b[0m\n\u001b[0;32m    242\u001b[0m warnings\u001b[38;5;241m.\u001b[39msimplefilter(\u001b[38;5;124m\"\u001b[39m\u001b[38;5;124malways\u001b[39m\u001b[38;5;124m\"\u001b[39m)\n\u001b[0;32m    244\u001b[0m \u001b[38;5;28;01mif\u001b[39;00m individual\u001b[38;5;241m.\u001b[39mfitness \u001b[38;5;129;01mis\u001b[39;00m \u001b[38;5;28;01mNone\u001b[39;00m:\n\u001b[1;32m--> 245\u001b[0m     ind_cost \u001b[38;5;241m=\u001b[39m \u001b[43mcost\u001b[49m\u001b[43m(\u001b[49m\u001b[43mindividual\u001b[49m\u001b[38;5;241;43m.\u001b[39;49m\u001b[43mgenome\u001b[49m\u001b[43m,\u001b[49m\u001b[43m \u001b[49m\u001b[43mx\u001b[49m\u001b[43m,\u001b[49m\u001b[43m \u001b[49m\u001b[43my\u001b[49m\u001b[43m)\u001b[49m\n\u001b[0;32m    246\u001b[0m     \u001b[38;5;28;01mif\u001b[39;00m \u001b[38;5;28mlen\u001b[39m(w) \u001b[38;5;241m==\u001b[39m \u001b[38;5;241m0\u001b[39m:\n\u001b[0;32m    247\u001b[0m         individual\u001b[38;5;241m.\u001b[39mfitness \u001b[38;5;241m=\u001b[39m ind_cost\n",
      "File \u001b[1;32mc:\\Users\\abayr\\OneDrive\\Desktop\\Computational_Intelligence\\Projects\\CI_project_draft\\src\\utils.py:226\u001b[0m, in \u001b[0;36mcost\u001b[1;34m(genome, x, y)\u001b[0m\n\u001b[0;32m    225\u001b[0m \u001b[38;5;28;01mdef\u001b[39;00m \u001b[38;5;21mcost\u001b[39m(genome,x,y):\n\u001b[1;32m--> 226\u001b[0m     predictions \u001b[38;5;241m=\u001b[39m np\u001b[38;5;241m.\u001b[39marray([genome\u001b[38;5;241m.\u001b[39mevaluate(x[:, i]) \u001b[38;5;28;01mfor\u001b[39;00m i \u001b[38;5;129;01min\u001b[39;00m \u001b[38;5;28mrange\u001b[39m(x\u001b[38;5;241m.\u001b[39mshape[\u001b[38;5;241m1\u001b[39m])])\n\u001b[0;32m    227\u001b[0m     mse \u001b[38;5;241m=\u001b[39m np\u001b[38;5;241m.\u001b[39mmean((predictions \u001b[38;5;241m-\u001b[39m y) \u001b[38;5;241m*\u001b[39m\u001b[38;5;241m*\u001b[39m \u001b[38;5;241m2\u001b[39m)\n\u001b[0;32m    228\u001b[0m     \u001b[38;5;28;01mreturn\u001b[39;00m mse\n",
      "File \u001b[1;32mc:\\Users\\abayr\\OneDrive\\Desktop\\Computational_Intelligence\\Projects\\CI_project_draft\\src\\utils.py:226\u001b[0m, in \u001b[0;36m<listcomp>\u001b[1;34m(.0)\u001b[0m\n\u001b[0;32m    225\u001b[0m \u001b[38;5;28;01mdef\u001b[39;00m \u001b[38;5;21mcost\u001b[39m(genome,x,y):\n\u001b[1;32m--> 226\u001b[0m     predictions \u001b[38;5;241m=\u001b[39m np\u001b[38;5;241m.\u001b[39marray([\u001b[43mgenome\u001b[49m\u001b[38;5;241;43m.\u001b[39;49m\u001b[43mevaluate\u001b[49m\u001b[43m(\u001b[49m\u001b[43mx\u001b[49m\u001b[43m[\u001b[49m\u001b[43m:\u001b[49m\u001b[43m,\u001b[49m\u001b[43m \u001b[49m\u001b[43mi\u001b[49m\u001b[43m]\u001b[49m\u001b[43m)\u001b[49m \u001b[38;5;28;01mfor\u001b[39;00m i \u001b[38;5;129;01min\u001b[39;00m \u001b[38;5;28mrange\u001b[39m(x\u001b[38;5;241m.\u001b[39mshape[\u001b[38;5;241m1\u001b[39m])])\n\u001b[0;32m    227\u001b[0m     mse \u001b[38;5;241m=\u001b[39m np\u001b[38;5;241m.\u001b[39mmean((predictions \u001b[38;5;241m-\u001b[39m y) \u001b[38;5;241m*\u001b[39m\u001b[38;5;241m*\u001b[39m \u001b[38;5;241m2\u001b[39m)\n\u001b[0;32m    228\u001b[0m     \u001b[38;5;28;01mreturn\u001b[39;00m mse\n",
      "File \u001b[1;32mc:\\Users\\abayr\\OneDrive\\Desktop\\Computational_Intelligence\\Projects\\CI_project_draft\\src\\node.py:108\u001b[0m, in \u001b[0;36mNode.evaluate\u001b[1;34m(self, x)\u001b[0m\n\u001b[0;32m    105\u001b[0m     \u001b[38;5;28;01mreturn\u001b[39;00m \u001b[38;5;28mself\u001b[39m\u001b[38;5;241m.\u001b[39mvalue(operand_value)\n\u001b[0;32m    107\u001b[0m left_value \u001b[38;5;241m=\u001b[39m \u001b[38;5;28mself\u001b[39m\u001b[38;5;241m.\u001b[39mleft\u001b[38;5;241m.\u001b[39mevaluate(x)\n\u001b[1;32m--> 108\u001b[0m right_value \u001b[38;5;241m=\u001b[39m \u001b[38;5;28;43mself\u001b[39;49m\u001b[38;5;241;43m.\u001b[39;49m\u001b[43mright\u001b[49m\u001b[38;5;241;43m.\u001b[39;49m\u001b[43mevaluate\u001b[49m\u001b[43m(\u001b[49m\u001b[43mx\u001b[49m\u001b[43m)\u001b[49m\n\u001b[0;32m    109\u001b[0m \u001b[38;5;66;03m#print(left_value)\u001b[39;00m\n\u001b[0;32m    110\u001b[0m \u001b[38;5;66;03m#print(right_value)\u001b[39;00m\n\u001b[0;32m    111\u001b[0m \u001b[38;5;28;01mreturn\u001b[39;00m \u001b[38;5;28mself\u001b[39m\u001b[38;5;241m.\u001b[39mvalue(left_value, right_value)\n",
      "File \u001b[1;32mc:\\Users\\abayr\\OneDrive\\Desktop\\Computational_Intelligence\\Projects\\CI_project_draft\\src\\node.py:107\u001b[0m, in \u001b[0;36mNode.evaluate\u001b[1;34m(self, x)\u001b[0m\n\u001b[0;32m    104\u001b[0m     \u001b[38;5;66;03m#print(\"tek\",operand_value)\u001b[39;00m\n\u001b[0;32m    105\u001b[0m     \u001b[38;5;28;01mreturn\u001b[39;00m \u001b[38;5;28mself\u001b[39m\u001b[38;5;241m.\u001b[39mvalue(operand_value)\n\u001b[1;32m--> 107\u001b[0m left_value \u001b[38;5;241m=\u001b[39m \u001b[38;5;28;43mself\u001b[39;49m\u001b[38;5;241;43m.\u001b[39;49m\u001b[43mleft\u001b[49m\u001b[38;5;241;43m.\u001b[39;49m\u001b[43mevaluate\u001b[49m\u001b[43m(\u001b[49m\u001b[43mx\u001b[49m\u001b[43m)\u001b[49m\n\u001b[0;32m    108\u001b[0m right_value \u001b[38;5;241m=\u001b[39m \u001b[38;5;28mself\u001b[39m\u001b[38;5;241m.\u001b[39mright\u001b[38;5;241m.\u001b[39mevaluate(x)\n\u001b[0;32m    109\u001b[0m \u001b[38;5;66;03m#print(left_value)\u001b[39;00m\n\u001b[0;32m    110\u001b[0m \u001b[38;5;66;03m#print(right_value)\u001b[39;00m\n",
      "File \u001b[1;32mc:\\Users\\abayr\\OneDrive\\Desktop\\Computational_Intelligence\\Projects\\CI_project_draft\\src\\node.py:107\u001b[0m, in \u001b[0;36mNode.evaluate\u001b[1;34m(self, x)\u001b[0m\n\u001b[0;32m    104\u001b[0m     \u001b[38;5;66;03m#print(\"tek\",operand_value)\u001b[39;00m\n\u001b[0;32m    105\u001b[0m     \u001b[38;5;28;01mreturn\u001b[39;00m \u001b[38;5;28mself\u001b[39m\u001b[38;5;241m.\u001b[39mvalue(operand_value)\n\u001b[1;32m--> 107\u001b[0m left_value \u001b[38;5;241m=\u001b[39m \u001b[38;5;28;43mself\u001b[39;49m\u001b[38;5;241;43m.\u001b[39;49m\u001b[43mleft\u001b[49m\u001b[38;5;241;43m.\u001b[39;49m\u001b[43mevaluate\u001b[49m\u001b[43m(\u001b[49m\u001b[43mx\u001b[49m\u001b[43m)\u001b[49m\n\u001b[0;32m    108\u001b[0m right_value \u001b[38;5;241m=\u001b[39m \u001b[38;5;28mself\u001b[39m\u001b[38;5;241m.\u001b[39mright\u001b[38;5;241m.\u001b[39mevaluate(x)\n\u001b[0;32m    109\u001b[0m \u001b[38;5;66;03m#print(left_value)\u001b[39;00m\n\u001b[0;32m    110\u001b[0m \u001b[38;5;66;03m#print(right_value)\u001b[39;00m\n",
      "File \u001b[1;32mc:\\Users\\abayr\\OneDrive\\Desktop\\Computational_Intelligence\\Projects\\CI_project_draft\\src\\node.py:107\u001b[0m, in \u001b[0;36mNode.evaluate\u001b[1;34m(self, x)\u001b[0m\n\u001b[0;32m    104\u001b[0m     \u001b[38;5;66;03m#print(\"tek\",operand_value)\u001b[39;00m\n\u001b[0;32m    105\u001b[0m     \u001b[38;5;28;01mreturn\u001b[39;00m \u001b[38;5;28mself\u001b[39m\u001b[38;5;241m.\u001b[39mvalue(operand_value)\n\u001b[1;32m--> 107\u001b[0m left_value \u001b[38;5;241m=\u001b[39m \u001b[38;5;28;43mself\u001b[39;49m\u001b[38;5;241;43m.\u001b[39;49m\u001b[43mleft\u001b[49m\u001b[38;5;241;43m.\u001b[39;49m\u001b[43mevaluate\u001b[49m\u001b[43m(\u001b[49m\u001b[43mx\u001b[49m\u001b[43m)\u001b[49m\n\u001b[0;32m    108\u001b[0m right_value \u001b[38;5;241m=\u001b[39m \u001b[38;5;28mself\u001b[39m\u001b[38;5;241m.\u001b[39mright\u001b[38;5;241m.\u001b[39mevaluate(x)\n\u001b[0;32m    109\u001b[0m \u001b[38;5;66;03m#print(left_value)\u001b[39;00m\n\u001b[0;32m    110\u001b[0m \u001b[38;5;66;03m#print(right_value)\u001b[39;00m\n",
      "File \u001b[1;32mc:\\Users\\abayr\\OneDrive\\Desktop\\Computational_Intelligence\\Projects\\CI_project_draft\\src\\node.py:108\u001b[0m, in \u001b[0;36mNode.evaluate\u001b[1;34m(self, x)\u001b[0m\n\u001b[0;32m    105\u001b[0m     \u001b[38;5;28;01mreturn\u001b[39;00m \u001b[38;5;28mself\u001b[39m\u001b[38;5;241m.\u001b[39mvalue(operand_value)\n\u001b[0;32m    107\u001b[0m left_value \u001b[38;5;241m=\u001b[39m \u001b[38;5;28mself\u001b[39m\u001b[38;5;241m.\u001b[39mleft\u001b[38;5;241m.\u001b[39mevaluate(x)\n\u001b[1;32m--> 108\u001b[0m right_value \u001b[38;5;241m=\u001b[39m \u001b[38;5;28;43mself\u001b[39;49m\u001b[38;5;241;43m.\u001b[39;49m\u001b[43mright\u001b[49m\u001b[38;5;241;43m.\u001b[39;49m\u001b[43mevaluate\u001b[49m\u001b[43m(\u001b[49m\u001b[43mx\u001b[49m\u001b[43m)\u001b[49m\n\u001b[0;32m    109\u001b[0m \u001b[38;5;66;03m#print(left_value)\u001b[39;00m\n\u001b[0;32m    110\u001b[0m \u001b[38;5;66;03m#print(right_value)\u001b[39;00m\n\u001b[0;32m    111\u001b[0m \u001b[38;5;28;01mreturn\u001b[39;00m \u001b[38;5;28mself\u001b[39m\u001b[38;5;241m.\u001b[39mvalue(left_value, right_value)\n",
      "File \u001b[1;32mc:\\Users\\abayr\\OneDrive\\Desktop\\Computational_Intelligence\\Projects\\CI_project_draft\\src\\node.py:108\u001b[0m, in \u001b[0;36mNode.evaluate\u001b[1;34m(self, x)\u001b[0m\n\u001b[0;32m    105\u001b[0m     \u001b[38;5;28;01mreturn\u001b[39;00m \u001b[38;5;28mself\u001b[39m\u001b[38;5;241m.\u001b[39mvalue(operand_value)\n\u001b[0;32m    107\u001b[0m left_value \u001b[38;5;241m=\u001b[39m \u001b[38;5;28mself\u001b[39m\u001b[38;5;241m.\u001b[39mleft\u001b[38;5;241m.\u001b[39mevaluate(x)\n\u001b[1;32m--> 108\u001b[0m right_value \u001b[38;5;241m=\u001b[39m \u001b[38;5;28;43mself\u001b[39;49m\u001b[38;5;241;43m.\u001b[39;49m\u001b[43mright\u001b[49m\u001b[38;5;241;43m.\u001b[39;49m\u001b[43mevaluate\u001b[49m\u001b[43m(\u001b[49m\u001b[43mx\u001b[49m\u001b[43m)\u001b[49m\n\u001b[0;32m    109\u001b[0m \u001b[38;5;66;03m#print(left_value)\u001b[39;00m\n\u001b[0;32m    110\u001b[0m \u001b[38;5;66;03m#print(right_value)\u001b[39;00m\n\u001b[0;32m    111\u001b[0m \u001b[38;5;28;01mreturn\u001b[39;00m \u001b[38;5;28mself\u001b[39m\u001b[38;5;241m.\u001b[39mvalue(left_value, right_value)\n",
      "File \u001b[1;32mc:\\Users\\abayr\\OneDrive\\Desktop\\Computational_Intelligence\\Projects\\CI_project_draft\\src\\node.py:103\u001b[0m, in \u001b[0;36mNode.evaluate\u001b[1;34m(self, x)\u001b[0m\n\u001b[0;32m    101\u001b[0m \u001b[38;5;66;03m# if it is an operator\u001b[39;00m\n\u001b[0;32m    102\u001b[0m \u001b[38;5;28;01mif\u001b[39;00m \u001b[38;5;28mself\u001b[39m\u001b[38;5;241m.\u001b[39mvalue \u001b[38;5;129;01min\u001b[39;00m \u001b[38;5;28mself\u001b[39m\u001b[38;5;241m.\u001b[39munary_operators:\n\u001b[1;32m--> 103\u001b[0m     operand_value \u001b[38;5;241m=\u001b[39m \u001b[38;5;28;43mself\u001b[39;49m\u001b[38;5;241;43m.\u001b[39;49m\u001b[43mleft\u001b[49m\u001b[38;5;241;43m.\u001b[39;49m\u001b[43mevaluate\u001b[49m\u001b[43m(\u001b[49m\u001b[43mx\u001b[49m\u001b[43m)\u001b[49m\n\u001b[0;32m    104\u001b[0m     \u001b[38;5;66;03m#print(\"tek\",operand_value)\u001b[39;00m\n\u001b[0;32m    105\u001b[0m     \u001b[38;5;28;01mreturn\u001b[39;00m \u001b[38;5;28mself\u001b[39m\u001b[38;5;241m.\u001b[39mvalue(operand_value)\n",
      "File \u001b[1;32mc:\\Users\\abayr\\OneDrive\\Desktop\\Computational_Intelligence\\Projects\\CI_project_draft\\src\\node.py:103\u001b[0m, in \u001b[0;36mNode.evaluate\u001b[1;34m(self, x)\u001b[0m\n\u001b[0;32m    101\u001b[0m \u001b[38;5;66;03m# if it is an operator\u001b[39;00m\n\u001b[0;32m    102\u001b[0m \u001b[38;5;28;01mif\u001b[39;00m \u001b[38;5;28mself\u001b[39m\u001b[38;5;241m.\u001b[39mvalue \u001b[38;5;129;01min\u001b[39;00m \u001b[38;5;28mself\u001b[39m\u001b[38;5;241m.\u001b[39munary_operators:\n\u001b[1;32m--> 103\u001b[0m     operand_value \u001b[38;5;241m=\u001b[39m \u001b[38;5;28;43mself\u001b[39;49m\u001b[38;5;241;43m.\u001b[39;49m\u001b[43mleft\u001b[49m\u001b[38;5;241;43m.\u001b[39;49m\u001b[43mevaluate\u001b[49m\u001b[43m(\u001b[49m\u001b[43mx\u001b[49m\u001b[43m)\u001b[49m\n\u001b[0;32m    104\u001b[0m     \u001b[38;5;66;03m#print(\"tek\",operand_value)\u001b[39;00m\n\u001b[0;32m    105\u001b[0m     \u001b[38;5;28;01mreturn\u001b[39;00m \u001b[38;5;28mself\u001b[39m\u001b[38;5;241m.\u001b[39mvalue(operand_value)\n",
      "File \u001b[1;32mc:\\Users\\abayr\\OneDrive\\Desktop\\Computational_Intelligence\\Projects\\CI_project_draft\\src\\node.py:107\u001b[0m, in \u001b[0;36mNode.evaluate\u001b[1;34m(self, x)\u001b[0m\n\u001b[0;32m    104\u001b[0m     \u001b[38;5;66;03m#print(\"tek\",operand_value)\u001b[39;00m\n\u001b[0;32m    105\u001b[0m     \u001b[38;5;28;01mreturn\u001b[39;00m \u001b[38;5;28mself\u001b[39m\u001b[38;5;241m.\u001b[39mvalue(operand_value)\n\u001b[1;32m--> 107\u001b[0m left_value \u001b[38;5;241m=\u001b[39m \u001b[38;5;28;43mself\u001b[39;49m\u001b[38;5;241;43m.\u001b[39;49m\u001b[43mleft\u001b[49m\u001b[38;5;241;43m.\u001b[39;49m\u001b[43mevaluate\u001b[49m\u001b[43m(\u001b[49m\u001b[43mx\u001b[49m\u001b[43m)\u001b[49m\n\u001b[0;32m    108\u001b[0m right_value \u001b[38;5;241m=\u001b[39m \u001b[38;5;28mself\u001b[39m\u001b[38;5;241m.\u001b[39mright\u001b[38;5;241m.\u001b[39mevaluate(x)\n\u001b[0;32m    109\u001b[0m \u001b[38;5;66;03m#print(left_value)\u001b[39;00m\n\u001b[0;32m    110\u001b[0m \u001b[38;5;66;03m#print(right_value)\u001b[39;00m\n",
      "File \u001b[1;32mc:\\Users\\abayr\\OneDrive\\Desktop\\Computational_Intelligence\\Projects\\CI_project_draft\\src\\node.py:107\u001b[0m, in \u001b[0;36mNode.evaluate\u001b[1;34m(self, x)\u001b[0m\n\u001b[0;32m    104\u001b[0m     \u001b[38;5;66;03m#print(\"tek\",operand_value)\u001b[39;00m\n\u001b[0;32m    105\u001b[0m     \u001b[38;5;28;01mreturn\u001b[39;00m \u001b[38;5;28mself\u001b[39m\u001b[38;5;241m.\u001b[39mvalue(operand_value)\n\u001b[1;32m--> 107\u001b[0m left_value \u001b[38;5;241m=\u001b[39m \u001b[38;5;28;43mself\u001b[39;49m\u001b[38;5;241;43m.\u001b[39;49m\u001b[43mleft\u001b[49m\u001b[38;5;241;43m.\u001b[39;49m\u001b[43mevaluate\u001b[49m\u001b[43m(\u001b[49m\u001b[43mx\u001b[49m\u001b[43m)\u001b[49m\n\u001b[0;32m    108\u001b[0m right_value \u001b[38;5;241m=\u001b[39m \u001b[38;5;28mself\u001b[39m\u001b[38;5;241m.\u001b[39mright\u001b[38;5;241m.\u001b[39mevaluate(x)\n\u001b[0;32m    109\u001b[0m \u001b[38;5;66;03m#print(left_value)\u001b[39;00m\n\u001b[0;32m    110\u001b[0m \u001b[38;5;66;03m#print(right_value)\u001b[39;00m\n",
      "File \u001b[1;32mc:\\Users\\abayr\\OneDrive\\Desktop\\Computational_Intelligence\\Projects\\CI_project_draft\\src\\node.py:107\u001b[0m, in \u001b[0;36mNode.evaluate\u001b[1;34m(self, x)\u001b[0m\n\u001b[0;32m    104\u001b[0m     \u001b[38;5;66;03m#print(\"tek\",operand_value)\u001b[39;00m\n\u001b[0;32m    105\u001b[0m     \u001b[38;5;28;01mreturn\u001b[39;00m \u001b[38;5;28mself\u001b[39m\u001b[38;5;241m.\u001b[39mvalue(operand_value)\n\u001b[1;32m--> 107\u001b[0m left_value \u001b[38;5;241m=\u001b[39m \u001b[38;5;28;43mself\u001b[39;49m\u001b[38;5;241;43m.\u001b[39;49m\u001b[43mleft\u001b[49m\u001b[38;5;241;43m.\u001b[39;49m\u001b[43mevaluate\u001b[49m\u001b[43m(\u001b[49m\u001b[43mx\u001b[49m\u001b[43m)\u001b[49m\n\u001b[0;32m    108\u001b[0m right_value \u001b[38;5;241m=\u001b[39m \u001b[38;5;28mself\u001b[39m\u001b[38;5;241m.\u001b[39mright\u001b[38;5;241m.\u001b[39mevaluate(x)\n\u001b[0;32m    109\u001b[0m \u001b[38;5;66;03m#print(left_value)\u001b[39;00m\n\u001b[0;32m    110\u001b[0m \u001b[38;5;66;03m#print(right_value)\u001b[39;00m\n",
      "File \u001b[1;32mc:\\Users\\abayr\\OneDrive\\Desktop\\Computational_Intelligence\\Projects\\CI_project_draft\\src\\node.py:108\u001b[0m, in \u001b[0;36mNode.evaluate\u001b[1;34m(self, x)\u001b[0m\n\u001b[0;32m    105\u001b[0m     \u001b[38;5;28;01mreturn\u001b[39;00m \u001b[38;5;28mself\u001b[39m\u001b[38;5;241m.\u001b[39mvalue(operand_value)\n\u001b[0;32m    107\u001b[0m left_value \u001b[38;5;241m=\u001b[39m \u001b[38;5;28mself\u001b[39m\u001b[38;5;241m.\u001b[39mleft\u001b[38;5;241m.\u001b[39mevaluate(x)\n\u001b[1;32m--> 108\u001b[0m right_value \u001b[38;5;241m=\u001b[39m \u001b[38;5;28;43mself\u001b[39;49m\u001b[38;5;241;43m.\u001b[39;49m\u001b[43mright\u001b[49m\u001b[38;5;241;43m.\u001b[39;49m\u001b[43mevaluate\u001b[49m\u001b[43m(\u001b[49m\u001b[43mx\u001b[49m\u001b[43m)\u001b[49m\n\u001b[0;32m    109\u001b[0m \u001b[38;5;66;03m#print(left_value)\u001b[39;00m\n\u001b[0;32m    110\u001b[0m \u001b[38;5;66;03m#print(right_value)\u001b[39;00m\n\u001b[0;32m    111\u001b[0m \u001b[38;5;28;01mreturn\u001b[39;00m \u001b[38;5;28mself\u001b[39m\u001b[38;5;241m.\u001b[39mvalue(left_value, right_value)\n",
      "File \u001b[1;32mc:\\Users\\abayr\\OneDrive\\Desktop\\Computational_Intelligence\\Projects\\CI_project_draft\\src\\node.py:95\u001b[0m, in \u001b[0;36mNode.evaluate\u001b[1;34m(self, x)\u001b[0m\n\u001b[0;32m     89\u001b[0m \u001b[38;5;28;01mdef\u001b[39;00m \u001b[38;5;21mevaluate\u001b[39m(\u001b[38;5;28mself\u001b[39m,x\u001b[38;5;241m=\u001b[39m\u001b[38;5;28;01mNone\u001b[39;00m):\n\u001b[0;32m     90\u001b[0m     \u001b[38;5;66;03m# first check if it is an operator \u001b[39;00m\n\u001b[0;32m     91\u001b[0m     \u001b[38;5;66;03m# if not proceed\u001b[39;00m\n\u001b[0;32m     93\u001b[0m     \u001b[38;5;28;01mif\u001b[39;00m \u001b[38;5;129;01mnot\u001b[39;00m \u001b[38;5;28mself\u001b[39m\u001b[38;5;241m.\u001b[39mis_operator(\u001b[38;5;28mself\u001b[39m\u001b[38;5;241m.\u001b[39mvalue):\n\u001b[0;32m     94\u001b[0m         \u001b[38;5;66;03m#print(\"index\",self.feature_index)\u001b[39;00m\n\u001b[1;32m---> 95\u001b[0m         \u001b[38;5;28;01mif\u001b[39;00m \u001b[38;5;28;43mself\u001b[39;49m\u001b[38;5;241;43m.\u001b[39;49m\u001b[43mfeature_index\u001b[49m\u001b[38;5;241;43m!=\u001b[39;49m\u001b[43m \u001b[49m\u001b[38;5;28;43;01mNone\u001b[39;49;00m:\n\u001b[0;32m     96\u001b[0m             \u001b[38;5;66;03m#print(\"ben inputun indexiyim\")\u001b[39;00m\n\u001b[0;32m     97\u001b[0m             \u001b[38;5;28;01mreturn\u001b[39;00m x[\u001b[38;5;28mself\u001b[39m\u001b[38;5;241m.\u001b[39mfeature_index]\n\u001b[0;32m     98\u001b[0m         \u001b[38;5;28;01melse\u001b[39;00m:\n\u001b[0;32m     99\u001b[0m             \u001b[38;5;66;03m#print(\"ben bir sayıyım\")\u001b[39;00m\n",
      "\u001b[1;31mKeyboardInterrupt\u001b[0m: "
     ]
    }
   ],
   "source": [
    "\n",
    "problem = np.load(\"data/problem_5.npz\")\n",
    "x = problem[\"x\"]\n",
    "y = problem[\"y\"]\n",
    "print(\"x.shape:\", x.shape)\n",
    "print(\"y.shape:\", y.shape)\n",
    "x_train, y_train, x_val, y_val = split_dataset(x,y,0.8)\n",
    "print(\"x_train.shape: \", x_train.shape)\n",
    "print(\"x_val.shape: \", x_val.shape)\n",
    "print(\"y_train.shape: \", y_train.shape)\n",
    "print(\"y_val.shape: \", y_val.shape)\n",
    "my_pop_5 = evolve(x_train,y_train,x_val,y_val,conf)\n"
   ]
  },
  {
   "cell_type": "code",
   "execution_count": 15,
   "metadata": {},
   "outputs": [
    {
     "name": "stdout",
     "output_type": "stream",
     "text": [
      "x.shape: (2, 5000)\n",
      "y.shape: (5000,)\n",
      "x_train.shape:  (2, 4000)\n",
      "x_val.shape:  (2, 1000)\n",
      "y_train.shape:  (4000,)\n",
      "y_val.shape:  (1000,)\n",
      "Population is creating with a size:  100\n",
      "Population has created.\n",
      "Individual fitness values are assigning\n",
      " Population size: 65\n",
      "Population mean fitness: 8001.500253521459\n",
      "Population mean complexity: 1552.876923076923\n",
      "Top 1: Fitness = 2.68648 Fitness_val = 2.67806 Genome = (x[1] + x[1])\n",
      "Top 2: Fitness = 16.23226 Fitness_val = 15.69467 Genome = ([-0.91500031] - [1.11067302])\n",
      "Top 3: Fitness = 18.10004 Fitness_val = 17.46128 Genome = log(tan(tan(exp(tan(sin(tan([-1.44314053])))))))\n",
      "Top 4: Fitness = 19.20174 Fitness_val = 18.51342 Genome = ([-0.649137] + [-0.62291889])\n",
      "Top 5: Fitness = 20.57079 Fitness_val = 19.82736 Genome = log([0.36914677])\n"
     ]
    },
    {
     "name": "stderr",
     "output_type": "stream",
     "text": [
      "  2%|▎         | 15/600 [03:17<1:23:11,  8.53s/it]"
     ]
    },
    {
     "name": "stdout",
     "output_type": "stream",
     "text": [
      "Initial: 577, Deduplicated: 299, Operation simplified: 0, Constant: 139, Complex: 31, Final: 108\n",
      "Population mean complexity: 25.296296296296298\n",
      "Population mean fitness: 278.6312271615491\n",
      "\n",
      "0. Fitness: 2.68648, Fitness_val = 2.67806, Genome: (x[1] + x[1]), Age: 0, Complexity: 3\n",
      "1. Fitness: 8.29871, Fitness_val = 8.14984, Genome: x[1], Age: 0, Complexity: 1\n",
      "2. Fitness: 9.95411, Fitness_val = 9.43270, Genome: ((x[1] + x[1]) + x[1]), Age: 0, Complexity: 5\n",
      "3. Fitness: 13.49491, Fitness_val = 13.28660, Genome: (x[1] + (x[0] / x[0])), Age: 7, Complexity: 5\n",
      "4. Fitness: 16.34981, Fitness_val = 16.43638, Genome: ((x[1] + x[1]) + x[0]), Age: 1, Complexity: 5\n"
     ]
    },
    {
     "name": "stderr",
     "output_type": "stream",
     "text": [
      "  5%|▌         | 30/600 [05:37<1:02:56,  6.63s/it]"
     ]
    },
    {
     "name": "stdout",
     "output_type": "stream",
     "text": [
      "Initial: 587, Deduplicated: 395, Operation simplified: 0, Constant: 70, Complex: 0, Final: 122\n",
      "Population mean complexity: 11.721311475409836\n",
      "Population mean fitness: 133.65963641788306\n",
      "\n",
      "0. Fitness: 2.68648, Fitness_val = 2.67806, Genome: (x[1] + x[1]), Age: 0, Complexity: 3\n",
      "1. Fitness: 7.65786, Fitness_val = 7.56981, Genome: (x[1] + cos(x[1])), Age: 0, Complexity: 10\n",
      "2. Fitness: 8.29871, Fitness_val = 8.14984, Genome: x[1], Age: 0, Complexity: 1\n",
      "3. Fitness: 8.76527, Fitness_val = 8.66912, Genome: (sin(exp((x[1] + x[1]))) + x[1]), Age: 11, Complexity: 86\n",
      "4. Fitness: 9.20918, Fitness_val = 9.06654, Genome: (sin(exp(x[1])) + x[1]), Age: 12, Complexity: 46\n"
     ]
    },
    {
     "name": "stderr",
     "output_type": "stream",
     "text": [
      "  8%|▊         | 45/600 [07:27<37:59,  4.11s/it]  "
     ]
    },
    {
     "name": "stdout",
     "output_type": "stream",
     "text": [
      "Initial: 540, Deduplicated: 355, Operation simplified: 0, Constant: 38, Complex: 4, Final: 143\n",
      "Population mean complexity: 10.0\n",
      "Population mean fitness: 12342.011616121863\n",
      "\n",
      "0. Fitness: 2.68648, Fitness_val = 2.67806, Genome: ((x[1] + (x[1] + x[1])) - x[1]), Age: 4, Complexity: 7\n",
      "1. Fitness: 3.09655, Fitness_val = 3.12367, Genome: ((sin(exp((x[1] + x[1]))) + x[1]) + x[1]), Age: 0, Complexity: 88\n",
      "2. Fitness: 3.09655, Fitness_val = 3.12367, Genome: (sin(exp((x[1] + x[1]))) + (x[1] + x[1])), Age: 0, Complexity: 88\n",
      "3. Fitness: 3.34573, Fitness_val = 3.29228, Genome: (sin(x[1]) + (x[1] + x[1])), Age: 1, Complexity: 12\n",
      "4. Fitness: 7.65786, Fitness_val = 7.56981, Genome: (x[1] + cos(x[1])), Age: 14, Complexity: 10\n"
     ]
    },
    {
     "name": "stderr",
     "output_type": "stream",
     "text": [
      " 10%|█         | 60/600 [09:19<49:47,  5.53s/it]  "
     ]
    },
    {
     "name": "stdout",
     "output_type": "stream",
     "text": [
      "Initial: 569, Deduplicated: 377, Operation simplified: 0, Constant: 33, Complex: 1, Final: 158\n",
      "Population mean complexity: 9.050632911392405\n",
      "Population mean fitness: 231.8587887569467\n",
      "\n",
      "0. Fitness: 2.68648, Fitness_val = 2.67806, Genome: ((x[1] + (x[1] + x[1])) - x[1]), Age: 7, Complexity: 7\n",
      "1. Fitness: 3.09655, Fitness_val = 3.12367, Genome: ((sin(exp((x[1] + x[1]))) + x[1]) + x[1]), Age: 0, Complexity: 88\n",
      "2. Fitness: 3.09655, Fitness_val = 3.12367, Genome: (sin(exp((x[1] + x[1]))) + (x[1] + x[1])), Age: 0, Complexity: 88\n",
      "3. Fitness: 3.22624, Fitness_val = 3.23697, Genome: ((sin(x[0]) + x[1]) + x[1]), Age: 14, Complexity: 12\n",
      "4. Fitness: 3.34573, Fitness_val = 3.29228, Genome: (sin(x[1]) + (x[1] + x[1])), Age: 0, Complexity: 12\n"
     ]
    },
    {
     "name": "stderr",
     "output_type": "stream",
     "text": [
      " 11%|█         | 66/600 [10:12<1:05:30,  7.36s/it]"
     ]
    },
    {
     "name": "stdout",
     "output_type": "stream",
     "text": [
      "New best result found: Individual(genome=((x[1] + (x[1] + x[1])) - (x[1] + x[0])), fitness=np.float64(1.60548019092702), fitness_val=np.float64(1.576680005965091), age=0, T=1)\n"
     ]
    },
    {
     "name": "stderr",
     "output_type": "stream",
     "text": [
      " 12%|█▎        | 75/600 [11:17<1:01:40,  7.05s/it]"
     ]
    },
    {
     "name": "stdout",
     "output_type": "stream",
     "text": [
      "Initial: 557, Deduplicated: 326, Operation simplified: 0, Constant: 36, Complex: 7, Final: 188\n",
      "Population mean complexity: 17.5\n",
      "Population mean fitness: 126.61838426058625\n",
      "\n",
      "0. Fitness: 1.60548, Fitness_val = 1.57668, Genome: ((x[1] + (x[1] + x[1])) - (x[1] + x[0])), Age: 0, Complexity: 9\n",
      "1. Fitness: 2.00538, Fitness_val = 1.90749, Genome: (x[1] + (cos(x[0]) + x[1])), Age: 0, Complexity: 12\n",
      "2. Fitness: 2.74436, Fitness_val = 2.59432, Genome: ((x[1] + x[1]) - (x[1] + x[0])), Age: 0, Complexity: 7\n",
      "3. Fitness: 2.66097, Fitness_val = 2.62621, Genome: ((x[1] + (x[1] + x[1])) - (x[1] + sin(exp((x[1] + x[1]))))), Age: 4, Complexity: 92\n",
      "4. Fitness: 2.68648, Fitness_val = 2.67806, Genome: (x[1] + x[1]), Age: 0, Complexity: 3\n"
     ]
    },
    {
     "name": "stderr",
     "output_type": "stream",
     "text": [
      " 15%|█▌        | 90/600 [13:32<1:19:17,  9.33s/it]"
     ]
    },
    {
     "name": "stdout",
     "output_type": "stream",
     "text": [
      "Initial: 566, Deduplicated: 222, Operation simplified: 0, Constant: 15, Complex: 33, Final: 296\n",
      "Population mean complexity: 32.476351351351354\n",
      "Population mean fitness: 69.94532483068862\n",
      "\n",
      "0. Fitness: 1.60548, Fitness_val = 1.57668, Genome: ((x[1] + (x[1] + x[1])) - (x[1] + x[0])), Age: 0, Complexity: 9\n",
      "1. Fitness: 1.84411, Fitness_val = 1.85748, Genome: ((x[1] + (x[1] + x[1])) - ((x[1] + x[0]) + sin((x[1] + x[1])))), Age: 0, Complexity: 26\n",
      "2. Fitness: 2.00538, Fitness_val = 1.90749, Genome: (x[1] + (cos(x[0]) + x[1])), Age: 0, Complexity: 12\n",
      "3. Fitness: 1.98889, Fitness_val = 1.97779, Genome: ((x[1] + (x[1] + x[1])) - ((x[1] + x[0]) + sin((x[1] + (cos(x[0]) + x[1]))))), Age: 3, Complexity: 62\n",
      "4. Fitness: 2.08053, Fitness_val = 1.98919, Genome: ((x[1] + (x[1] + x[1])) - ((x[1] + x[0]) + sin(((x[1] + (x[1] + x[1])) + (x[1] + x[0]))))), Age: 1, Complexity: 50\n"
     ]
    },
    {
     "name": "stderr",
     "output_type": "stream",
     "text": [
      " 18%|█▊        | 105/600 [15:41<1:04:46,  7.85s/it]"
     ]
    },
    {
     "name": "stdout",
     "output_type": "stream",
     "text": [
      "Initial: 584, Deduplicated: 257, Operation simplified: 0, Constant: 13, Complex: 22, Final: 292\n",
      "Population mean complexity: 33.06849315068493\n",
      "Population mean fitness: 813.8733603671222\n",
      "\n",
      "0. Fitness: 1.60548, Fitness_val = 1.57668, Genome: ((x[1] + (x[1] + x[1])) - (x[1] + x[0])), Age: 0, Complexity: 9\n",
      "1. Fitness: 1.65339, Fitness_val = 1.59421, Genome: ((x[1] + (x[1] + x[1])) - ((x[1] + x[0]) + sin(((x[0] + (x[1] + ((x[1] * sin(x[1])) + x[1]))) - (x[1] + x[0]))))), Age: 0, Complexity: 94\n",
      "2. Fitness: 1.78128, Fitness_val = 1.75651, Genome: ((x[1] + (x[1] + x[1])) - (((x[1] + cos(x[0])) + x[0]) + sin((x[1] + x[1])))), Age: 0, Complexity: 35\n",
      "3. Fitness: 1.84411, Fitness_val = 1.85748, Genome: ((x[1] + (x[1] + x[1])) - ((x[1] + x[0]) + sin((x[1] + x[1])))), Age: 10, Complexity: 26\n",
      "4. Fitness: 2.01621, Fitness_val = 1.90109, Genome: ((x[1] + (x[1] + (cos(x[0]) + x[1]))) - (x[1] + sin(exp((x[1] + (x[1] + x[1])))))), Age: 12, Complexity: 141\n"
     ]
    },
    {
     "name": "stderr",
     "output_type": "stream",
     "text": [
      " 19%|█▉        | 113/600 [16:53<1:15:35,  9.31s/it]"
     ]
    },
    {
     "name": "stdout",
     "output_type": "stream",
     "text": [
      "New best result found: Individual(genome=(((x[1] + x[1]) + x[1]) - ((x[1] + x[0]) + sin((x[1] - (x[1] / x[0]))))), fitness=np.float64(1.4627549591565039), fitness_val=np.float64(1.3543128790671668), age=0, T=1)\n"
     ]
    },
    {
     "name": "stderr",
     "output_type": "stream",
     "text": [
      " 20%|█▉        | 119/600 [17:41<1:03:05,  7.87s/it]"
     ]
    },
    {
     "name": "stdout",
     "output_type": "stream",
     "text": [
      "New best result found: Individual(genome=(((x[1] + x[1]) + x[1]) - ((x[1] + x[0]) + sin((x[0] - (x[1] / x[0]))))), fitness=np.float64(1.3257412335388494), fitness_val=np.float64(1.3329462015821343), age=0, T=1)\n"
     ]
    },
    {
     "name": "stderr",
     "output_type": "stream",
     "text": [
      " 20%|██        | 120/600 [17:48<1:00:54,  7.61s/it]"
     ]
    },
    {
     "name": "stdout",
     "output_type": "stream",
     "text": [
      "Initial: 550, Deduplicated: 211, Operation simplified: 0, Constant: 6, Complex: 18, Final: 315\n",
      "Population mean complexity: 39.81269841269841\n",
      "Population mean fitness: 1341.0669325069239\n",
      "\n",
      "0. Fitness: 1.32574, Fitness_val = 1.33295, Genome: (((x[1] + x[1]) + x[1]) - ((x[1] + x[0]) + sin((x[0] - (x[1] / x[0]))))), Age: 0, Complexity: 34\n",
      "1. Fitness: 1.46275, Fitness_val = 1.35431, Genome: (((x[1] + x[1]) + x[1]) - ((x[1] + x[0]) + sin((x[1] - (x[1] / x[0]))))), Age: 0, Complexity: 34\n",
      "2. Fitness: 1.55641, Fitness_val = 1.49293, Genome: ((x[1] + (x[1] + x[1])) - (((x[1] + cos(x[0])) + x[0]) + sin((x[1] - x[1])))), Age: 0, Complexity: 35\n",
      "3. Fitness: 1.55900, Fitness_val = 1.52208, Genome: ((x[1] + (x[1] + x[1])) - ((x[1] + x[0]) + sin(((cos(x[0]) + (x[1] + sin((x[1] + x[1])))) - x[1])))), Age: 1, Complexity: 130\n",
      "4. Fitness: 1.60548, Fitness_val = 1.57668, Genome: (((x[1] + x[1]) + x[1]) - ((x[1] + x[0]) + sin((x[1] - x[1])))), Age: 0, Complexity: 26\n"
     ]
    },
    {
     "name": "stderr",
     "output_type": "stream",
     "text": [
      " 22%|██▏       | 133/600 [19:50<1:13:03,  9.39s/it]"
     ]
    },
    {
     "name": "stdout",
     "output_type": "stream",
     "text": [
      "New best result found: Individual(genome=(((x[1] + x[1]) + x[1]) - ((x[1] + x[0]) + sin((x[1] / x[0])))), fitness=np.float64(1.3010944846108121), fitness_val=np.float64(1.2401333226539122), age=0, T=1)\n"
     ]
    },
    {
     "name": "stderr",
     "output_type": "stream",
     "text": [
      " 22%|██▎       | 135/600 [20:09<1:14:50,  9.66s/it]"
     ]
    },
    {
     "name": "stdout",
     "output_type": "stream",
     "text": [
      "Initial: 552, Deduplicated: 199, Operation simplified: 0, Constant: 7, Complex: 29, Final: 317\n",
      "Population mean complexity: 41.072555205047315\n",
      "Population mean fitness: 459.85345784721187\n",
      "\n",
      "0. Fitness: 1.30109, Fitness_val = 1.24013, Genome: (((x[1] + x[1]) + x[1]) - ((x[1] + x[0]) + sin((x[1] / x[0])))), Age: 0, Complexity: 26\n",
      "1. Fitness: 1.45178, Fitness_val = 1.31993, Genome: ((x[1] + (x[1] + x[1])) - (((x[1] + cos(x[0])) + x[0]) + sin((x[1] / x[0])))), Age: 0, Complexity: 35\n",
      "2. Fitness: 1.32574, Fitness_val = 1.33295, Genome: (((x[1] + x[1]) + x[1]) - ((x[1] + x[0]) + sin((x[0] - (x[1] / x[0]))))), Age: 0, Complexity: 34\n",
      "3. Fitness: 1.46275, Fitness_val = 1.35431, Genome: ((x[1] + (x[1] + x[1])) - ((x[1] + x[0]) + sin((x[1] - (x[1] / x[0]))))), Age: 2, Complexity: 34\n",
      "4. Fitness: 1.41757, Fitness_val = 1.36327, Genome: ((x[1] + (x[1] + x[1])) - (((x[1] + x[0]) + sin((x[0] - (x[1] / x[0])))) + sin((x[1] - (x[1] / x[0]))))), Age: 3, Complexity: 59\n"
     ]
    },
    {
     "name": "stderr",
     "output_type": "stream",
     "text": [
      " 24%|██▍       | 144/600 [21:40<1:11:50,  9.45s/it]"
     ]
    },
    {
     "name": "stdout",
     "output_type": "stream",
     "text": [
      "New best result found: Individual(genome=(((x[1] + x[1]) + x[1]) - ((x[1] + x[0]) + sin(((((x[1] + x[1]) - ((x[1] + x[0]) + sin((x[1] - (x[1] / x[0]))))) / x[0]) - (x[1] / x[0]))))), fitness=np.float64(0.9123686682715482), fitness_val=np.float64(0.9046565025341021), age=0, T=1)\n"
     ]
    },
    {
     "name": "stderr",
     "output_type": "stream",
     "text": [
      " 24%|██▍       | 146/600 [21:57<1:09:41,  9.21s/it]"
     ]
    },
    {
     "name": "stdout",
     "output_type": "stream",
     "text": [
      "New best result found: Individual(genome=(((x[1] + x[1]) + x[1]) - ((x[1] + x[0]) + sin(((((x[1] + x[1]) - ((x[1] + x[0]) + sin(x[0]))) / x[0]) - (x[1] / x[0]))))), fitness=np.float64(0.8620028611031867), fitness_val=np.float64(0.8547781401101024), age=0, T=1)\n"
     ]
    },
    {
     "name": "stderr",
     "output_type": "stream",
     "text": [
      " 25%|██▌       | 150/600 [22:41<1:18:22, 10.45s/it]"
     ]
    },
    {
     "name": "stdout",
     "output_type": "stream",
     "text": [
      "Initial: 588, Deduplicated: 179, Operation simplified: 0, Constant: 4, Complex: 57, Final: 348\n",
      "Population mean complexity: 46.05747126436781\n",
      "Population mean fitness: 409.6438176642018\n",
      "\n",
      "0. Fitness: 0.86200, Fitness_val = 0.85478, Genome: (((x[1] + x[1]) + x[1]) - ((x[1] + x[0]) + sin(((((x[1] + x[1]) - ((x[1] + x[0]) + sin(x[0]))) / x[0]) - (x[1] / x[0]))))), Age: 0, Complexity: 102\n",
      "1. Fitness: 1.30109, Fitness_val = 1.24013, Genome: (((x[1] + x[1]) + x[1]) - ((x[1] + x[0]) + sin((((x[1] + x[1]) / x[0]) - (x[1] / x[0]))))), Age: 0, Complexity: 50\n",
      "2. Fitness: 1.29618, Fitness_val = 1.30541, Genome: (((x[1] + x[1]) + x[1]) - ((x[1] + x[0]) + sin(((((x[1] + x[1]) - (x[0] + sin(x[0]))) / x[0]) - (x[1] / x[0]))))), Age: 0, Complexity: 94\n",
      "3. Fitness: 1.29618, Fitness_val = 1.30541, Genome: (((x[1] + x[1]) + x[1]) - ((x[1] + x[0]) + sin((((((x[1] + x[1]) + x[1]) - ((x[1] + x[0]) + sin(x[0]))) / x[0]) - (x[1] / x[0]))))), Age: 0, Complexity: 110\n",
      "4. Fitness: 1.45178, Fitness_val = 1.31993, Genome: ((x[1] + (x[1] + x[1])) - (((x[1] + cos(x[0])) + x[0]) + sin((x[1] / x[0])))), Age: 7, Complexity: 35\n"
     ]
    },
    {
     "name": "stderr",
     "output_type": "stream",
     "text": [
      " 25%|██▌       | 152/600 [23:00<1:15:42, 10.14s/it]"
     ]
    },
    {
     "name": "stdout",
     "output_type": "stream",
     "text": [
      "New best result found: Individual(genome=(((x[1] + x[1]) + x[1]) - ((x[1] + x[0]) + sin(((((x[1] + x[1]) - ((x[1] + x[0]) + sin(x[0]))) / x[0]) - ((x[1] + x[0]) / x[0]))))), fitness=np.float64(0.6620807817731763), fitness_val=np.float64(0.647525143775031), age=0, T=1)\n"
     ]
    },
    {
     "name": "stderr",
     "output_type": "stream",
     "text": [
      " 28%|██▊       | 165/600 [25:38<1:32:05, 12.70s/it]"
     ]
    },
    {
     "name": "stdout",
     "output_type": "stream",
     "text": [
      "Initial: 547, Deduplicated: 156, Operation simplified: 0, Constant: 5, Complex: 36, Final: 350\n",
      "Population mean complexity: 67.08\n",
      "Population mean fitness: 4300.565437969265\n",
      "\n",
      "0. Fitness: 0.66208, Fitness_val = 0.64753, Genome: (((x[1] + x[1]) + x[1]) - ((x[1] + x[0]) + sin(((((x[1] + x[1]) - ((x[1] + x[0]) + sin(x[0]))) / x[0]) - ((x[1] + x[0]) / x[0]))))), Age: 0, Complexity: 110\n",
      "1. Fitness: 0.72967, Fitness_val = 0.71027, Genome: (((x[1] + x[1]) + x[1]) - ((x[1] + x[0]) + sin(((((x[1] + sin(x[0])) - x[0]) / x[0]) - (x[1] / x[0]))))), Age: 0, Complexity: 86\n",
      "2. Fitness: 0.75404, Fitness_val = 0.74901, Genome: (((x[1] + x[1]) + x[1]) - ((x[1] + x[0]) + sin((((((x[0] + x[1]) + x[1]) - (((x[1] + x[0]) + x[0]) + x[0])) / x[0]) - (x[1] / x[0]))))), Age: 0, Complexity: 90\n",
      "3. Fitness: 0.76048, Fitness_val = 0.75368, Genome: (((x[1] + x[1]) + x[1]) - ((x[1] + x[0]) + sin((((x[1] - x[0]) / x[0]) - (x[1] / x[0]))))), Age: 0, Complexity: 50\n",
      "4. Fitness: 0.85547, Fitness_val = 0.85207, Genome: (((x[1] + x[1]) + x[1]) - ((x[1] + x[0]) + sin(((((x[1] + x[1]) - ((x[1] + x[1]) + sin(x[0]))) / x[1]) - ((x[1] + x[1]) / x[1]))))), Age: 0, Complexity: 110\n"
     ]
    },
    {
     "name": "stderr",
     "output_type": "stream",
     "text": [
      " 29%|██▉       | 175/600 [28:06<1:44:38, 14.77s/it]"
     ]
    },
    {
     "name": "stdout",
     "output_type": "stream",
     "text": [
      "New best result found: Individual(genome=(((x[1] + x[1]) + x[1]) - ((x[1] + x[0]) + sin(((((x[1] + x[1]) - (((x[1] + x[0]) + sin(((((x[1] + x[1]) - ((x[1] + x[0]) + sin(x[0]))) / x[0]) - ((x[1] + x[0]) / x[0])))) + sin(x[0]))) / x[0]) - ((x[1] + x[0]) / x[0]))))), fitness=np.float64(0.63081483944103), fitness_val=np.float64(0.6070339793346504), age=0, T=1)\n"
     ]
    },
    {
     "name": "stderr",
     "output_type": "stream",
     "text": [
      " 30%|███       | 180/600 [29:23<1:45:14, 15.03s/it]"
     ]
    },
    {
     "name": "stdout",
     "output_type": "stream",
     "text": [
      "Initial: 568, Deduplicated: 119, Operation simplified: 0, Constant: 3, Complex: 85, Final: 361\n",
      "Population mean complexity: 77.98614958448753\n",
      "Population mean fitness: 96.12715681976854\n",
      "\n",
      "0. Fitness: 0.66208, Fitness_val = 0.64753, Genome: (((x[1] + x[1]) + x[0]) - ((x[0] + x[0]) + sin(((((x[1] + x[1]) - ((x[1] + x[0]) + sin(x[0]))) / x[0]) - ((x[1] + x[0]) / x[0]))))), Age: 0, Complexity: 110\n",
      "1. Fitness: 0.72967, Fitness_val = 0.71027, Genome: (((x[1] + x[1]) + x[1]) - ((x[1] + x[0]) + sin((((((sin(x[0]) + x[1]) + x[1]) - (x[1] + x[0])) / x[0]) - (x[1] / x[0]))))), Age: 0, Complexity: 102\n",
      "2. Fitness: 0.72967, Fitness_val = 0.71027, Genome: (((x[1] + x[1]) + x[1]) - ((x[1] + x[0]) + sin(((((x[1] + sin(x[0])) - x[0]) / x[0]) - (x[1] / x[0]))))), Age: 0, Complexity: 86\n",
      "3. Fitness: 0.75404, Fitness_val = 0.74901, Genome: (((x[1] + x[1]) + x[1]) - ((x[1] + x[0]) + sin((((((x[0] + x[1]) + x[1]) - (((x[1] + x[0]) + x[0]) + x[0])) / x[0]) - (x[1] / x[0]))))), Age: 10, Complexity: 90\n",
      "4. Fitness: 0.76048, Fitness_val = 0.75368, Genome: (((x[1] + x[1]) + x[1]) - ((x[1] + x[0]) + sin(((((x[0] + x[1]) - ((x[1] - x[1]) + x[1])) / x[0]) - ((x[1] + x[1]) / x[1]))))), Age: 9, Complexity: 82\n"
     ]
    },
    {
     "name": "stderr",
     "output_type": "stream",
     "text": [
      " 32%|███▎      | 195/600 [32:50<1:34:10, 13.95s/it]"
     ]
    },
    {
     "name": "stdout",
     "output_type": "stream",
     "text": [
      "Initial: 582, Deduplicated: 137, Operation simplified: 0, Constant: 4, Complex: 56, Final: 385\n",
      "Population mean complexity: 84.75324675324676\n",
      "Population mean fitness: 122955.4846955943\n",
      "\n",
      "0. Fitness: 0.66208, Fitness_val = 0.64753, Genome: (((x[1] + x[1]) + x[0]) - ((x[0] + x[0]) + sin(((((x[1] + x[1]) - ((x[1] + x[0]) + sin(x[0]))) / x[0]) - ((x[1] + x[0]) / x[0]))))), Age: 2, Complexity: 110\n",
      "1. Fitness: 0.72967, Fitness_val = 0.71027, Genome: (((x[1] + x[1]) + x[1]) - ((x[1] + x[0]) + sin((((((sin(x[0]) + x[1]) + x[1]) - (x[1] + x[0])) / x[0]) - (x[1] / x[0]))))), Age: 0, Complexity: 102\n",
      "2. Fitness: 0.72967, Fitness_val = 0.71027, Genome: (((x[1] + x[1]) + x[1]) - ((x[1] + x[0]) + sin(((((x[1] + sin(x[0])) - x[0]) / x[0]) - (x[1] / x[0]))))), Age: 0, Complexity: 86\n",
      "3. Fitness: 0.73802, Fitness_val = 0.73017, Genome: (((x[1] + x[1]) + x[1]) - ((x[1] + x[0]) + sin(((((x[1] + x[1]) - ((x[1] + x[0]) + (((((x[0] + x[1]) + x[1]) - x[1]) / x[0]) - (x[1] / x[0])))) / x[0]) - (x[1] / x[0]))))), Age: 0, Complexity: 122\n",
      "4. Fitness: 0.75404, Fitness_val = 0.74901, Genome: (((x[1] + x[1]) + x[1]) - ((x[1] + x[0]) + sin(((((x[1] + x[1]) - x[0]) / x[0]) - ((x[1] + (x[0] + x[1])) / x[0]))))), Age: 7, Complexity: 74\n"
     ]
    },
    {
     "name": "stderr",
     "output_type": "stream",
     "text": [
      " 35%|███▌      | 210/600 [36:09<1:26:29, 13.31s/it]"
     ]
    },
    {
     "name": "stdout",
     "output_type": "stream",
     "text": [
      "Initial: 565, Deduplicated: 120, Operation simplified: 0, Constant: 1, Complex: 60, Final: 384\n",
      "Population mean complexity: 85.03645833333333\n",
      "Population mean fitness: 246137.08563719023\n",
      "\n",
      "0. Fitness: 0.66208, Fitness_val = 0.64753, Genome: (((x[1] + x[1]) + x[1]) - ((x[1] + x[0]) + sin(((((x[1] + x[1]) - (x[1] + sin(x[0]))) / x[0]) - (((x[0] + x[1]) + x[0]) / x[0]))))), Age: 0, Complexity: 110\n",
      "1. Fitness: 0.72967, Fitness_val = 0.71027, Genome: (((x[1] + x[1]) + x[1]) - ((x[1] + x[0]) + sin((((((sin(x[0]) + x[1]) + x[1]) - (x[1] + x[0])) / x[0]) - (x[1] / x[0]))))), Age: 0, Complexity: 102\n",
      "2. Fitness: 0.72967, Fitness_val = 0.71027, Genome: (((x[1] + x[1]) + x[1]) - ((x[1] + x[0]) + sin(((((x[1] + sin(x[0])) - x[0]) / x[0]) - (x[1] / x[0]))))), Age: 0, Complexity: 86\n",
      "3. Fitness: 0.73802, Fitness_val = 0.73017, Genome: (((x[1] + x[1]) + x[1]) - ((x[1] + x[0]) + sin(((((x[0] + x[1]) - ((x[1] + x[0]) + (((((x[0] + x[1]) + x[1]) - x[1]) / x[0]) - (x[1] / x[0])))) / x[0]) - (x[0] / x[0]))))), Age: 8, Complexity: 122\n",
      "4. Fitness: 0.75404, Fitness_val = 0.74901, Genome: (((x[1] + x[1]) + x[1]) - ((x[1] + x[0]) + sin(((((x[1] + x[1]) - x[0]) / x[0]) - ((x[1] + (x[0] + x[1])) / x[0]))))), Age: 2, Complexity: 74\n"
     ]
    },
    {
     "name": "stderr",
     "output_type": "stream",
     "text": [
      " 37%|███▋      | 221/600 [38:43<1:25:35, 13.55s/it]"
     ]
    },
    {
     "name": "stdout",
     "output_type": "stream",
     "text": [
      "New best result found: Individual(genome=(((x[1] + x[1]) + x[0]) - ((x[0] + x[0]) + sin(((((x[1] + x[1]) - ((((((((sin(x[0]) + x[1]) + x[1]) - (x[1] + x[0])) / x[0]) - (x[1] / x[0])) + x[1]) + x[0]) + sin(x[0]))) / x[0]) - ((x[1] + x[0]) / x[0]))))), fitness=np.float64(0.5865305689006466), fitness_val=np.float64(0.5695707691939703), age=0, T=1)\n"
     ]
    },
    {
     "name": "stderr",
     "output_type": "stream",
     "text": [
      " 38%|███▊      | 225/600 [39:39<1:26:51, 13.90s/it]"
     ]
    },
    {
     "name": "stdout",
     "output_type": "stream",
     "text": [
      "Initial: 595, Deduplicated: 126, Operation simplified: 0, Constant: 5, Complex: 79, Final: 385\n",
      "Population mean complexity: 87.4\n",
      "Population mean fitness: 5032609.44991718\n",
      "\n",
      "0. Fitness: 0.66208, Fitness_val = 0.64753, Genome: (((x[1] + x[1]) + x[1]) - ((x[1] + x[0]) + sin(((((x[1] + x[1]) - (x[1] + sin(x[0]))) / x[0]) - (((x[0] + x[1]) + x[0]) / x[0]))))), Age: 0, Complexity: 110\n",
      "1. Fitness: 0.72967, Fitness_val = 0.71027, Genome: (((x[1] + x[1]) + x[1]) - ((x[1] + x[0]) + sin((((((sin(x[0]) + x[1]) + x[1]) - (x[1] + x[0])) / x[0]) - (x[1] / x[0]))))), Age: 0, Complexity: 102\n",
      "2. Fitness: 0.72967, Fitness_val = 0.71027, Genome: (((x[1] + x[1]) + x[1]) - ((x[1] + x[0]) + sin(((((x[1] + sin(x[0])) - x[0]) / x[0]) - (x[1] / x[0]))))), Age: 0, Complexity: 86\n",
      "3. Fitness: 0.73292, Fitness_val = 0.72726, Genome: (((x[1] + x[1]) + x[1]) - ((x[1] + x[0]) + sin((sin((x[0] - (x[1] / x[0]))) - (x[1] / x[1]))))), Age: 6, Complexity: 126\n",
      "4. Fitness: 0.73802, Fitness_val = 0.73017, Genome: (((x[1] + x[1]) + x[0]) - ((x[0] + x[0]) + sin(((((x[1] + x[1]) - ((x[1] + x[0]) + x[1])) / x[0]) - ((x[0] / x[0]) / x[0]))))), Age: 10, Complexity: 82\n"
     ]
    },
    {
     "name": "stderr",
     "output_type": "stream",
     "text": [
      " 40%|████      | 240/600 [42:53<1:19:40, 13.28s/it]"
     ]
    },
    {
     "name": "stdout",
     "output_type": "stream",
     "text": [
      "Initial: 578, Deduplicated: 148, Operation simplified: 0, Constant: 3, Complex: 77, Final: 350\n",
      "Population mean complexity: 88.11428571428571\n",
      "Population mean fitness: 8263.664709445831\n",
      "\n",
      "0. Fitness: 0.66208, Fitness_val = 0.64753, Genome: (((x[1] + x[1]) + x[0]) - ((x[0] + x[0]) + sin(((((x[1] + x[1]) - ((x[0] + x[1]) + sin(x[0]))) / x[0]) - ((x[1] + x[0]) / x[0]))))), Age: 0, Complexity: 110\n",
      "1. Fitness: 0.72967, Fitness_val = 0.71027, Genome: (((x[1] + x[1]) + x[1]) - ((x[1] + x[0]) + sin((((((sin(x[0]) + x[1]) + x[1]) - (x[1] + x[0])) / x[0]) - (x[1] / x[0]))))), Age: 0, Complexity: 102\n",
      "2. Fitness: 0.72967, Fitness_val = 0.71027, Genome: (((x[1] + x[1]) + x[1]) - ((x[1] + x[0]) + sin(((((x[1] + sin(x[0])) - x[0]) / x[0]) - (x[1] / x[0]))))), Age: 0, Complexity: 86\n",
      "3. Fitness: 0.73292, Fitness_val = 0.72726, Genome: (((x[1] + x[1]) + x[1]) - ((x[1] + x[0]) + sin((sin((x[0] - (x[1] / x[0]))) - (x[1] / x[1]))))), Age: 3, Complexity: 126\n",
      "4. Fitness: 0.73802, Fitness_val = 0.73017, Genome: (((x[1] + x[1]) + x[0]) - ((x[0] + x[0]) + sin(((((x[1] + x[1]) - ((x[1] + x[0]) + x[1])) / x[0]) - ((x[0] / x[0]) / x[0]))))), Age: 10, Complexity: 82\n"
     ]
    },
    {
     "name": "stderr",
     "output_type": "stream",
     "text": [
      " 42%|████▎     | 255/600 [46:24<1:23:15, 14.48s/it]"
     ]
    },
    {
     "name": "stdout",
     "output_type": "stream",
     "text": [
      "Initial: 586, Deduplicated: 110, Operation simplified: 0, Constant: 5, Complex: 62, Final: 409\n",
      "Population mean complexity: 88.5916870415648\n",
      "Population mean fitness: 116052.58097491108\n",
      "\n",
      "0. Fitness: 0.66208, Fitness_val = 0.64753, Genome: (((x[1] + x[1]) + x[1]) - ((x[1] + x[0]) + sin(((((x[1] + x[1]) - ((x[0] + x[1]) + sin(x[0]))) / x[0]) - ((x[1] + x[0]) / x[0]))))), Age: 0, Complexity: 110\n",
      "1. Fitness: 0.72967, Fitness_val = 0.71027, Genome: (((x[1] + x[1]) + x[1]) - ((x[1] + x[0]) + sin((((((sin(x[0]) + x[1]) + x[1]) - (x[1] + x[0])) / x[0]) - (x[1] / x[0]))))), Age: 0, Complexity: 102\n",
      "2. Fitness: 0.72967, Fitness_val = 0.71027, Genome: (((x[1] + x[1]) + x[1]) - ((x[1] + x[0]) + sin(((((x[1] + sin(x[0])) - x[0]) / x[0]) - (x[1] / x[0]))))), Age: 0, Complexity: 86\n",
      "3. Fitness: 0.73802, Fitness_val = 0.73017, Genome: (((x[1] + x[1]) + x[0]) - ((x[0] + x[0]) + sin(((((x[1] + x[1]) - ((x[1] + x[0]) + x[1])) / x[0]) - ((x[0] / x[0]) / x[0]))))), Age: 1, Complexity: 82\n",
      "4. Fitness: 0.75404, Fitness_val = 0.74901, Genome: (((x[1] + x[1]) + x[0]) - ((x[0] + x[0]) + sin(((((x[1] + x[1]) - x[1]) / x[0]) - (((x[0] + x[1]) + x[0]) / x[0]))))), Age: 8, Complexity: 74\n"
     ]
    },
    {
     "name": "stderr",
     "output_type": "stream",
     "text": [
      " 45%|████▌     | 270/600 [49:34<1:04:41, 11.76s/it]"
     ]
    },
    {
     "name": "stdout",
     "output_type": "stream",
     "text": [
      "Initial: 592, Deduplicated: 146, Operation simplified: 0, Constant: 4, Complex: 73, Final: 369\n",
      "Population mean complexity: 86.23306233062331\n",
      "Population mean fitness: 296473.6698691416\n",
      "\n",
      "0. Fitness: 0.66208, Fitness_val = 0.64753, Genome: (((x[1] + x[1]) + x[0]) - ((x[0] + x[0]) + sin(((((x[1] + x[1]) - ((x[0] + x[1]) + sin(x[0]))) / x[0]) - ((x[1] + x[0]) / x[0]))))), Age: 0, Complexity: 110\n",
      "1. Fitness: 0.72967, Fitness_val = 0.71027, Genome: (((x[1] + x[1]) + x[1]) - ((x[1] + x[0]) + sin((((((sin(x[0]) + x[1]) + x[1]) - (x[1] + x[0])) / x[0]) - (x[1] / x[0]))))), Age: 0, Complexity: 102\n",
      "2. Fitness: 0.72967, Fitness_val = 0.71027, Genome: (((x[1] + x[1]) + x[1]) - ((x[1] + x[0]) + sin(((((x[1] + sin(x[0])) - x[0]) / x[0]) - (x[1] / x[0]))))), Age: 0, Complexity: 86\n",
      "3. Fitness: 0.73802, Fitness_val = 0.73017, Genome: (((x[1] + x[1]) + x[0]) - ((x[0] + x[0]) + sin(((((x[1] + x[1]) - ((x[1] + x[0]) + x[1])) / x[0]) - ((x[0] / x[0]) / x[0]))))), Age: 8, Complexity: 82\n",
      "4. Fitness: 0.75404, Fitness_val = 0.74901, Genome: (((x[1] + x[1]) + x[1]) - ((x[1] + x[0]) + sin((((((x[1] + x[1]) + x[1]) - ((x[1] + x[1]) + x[0])) / x[0]) - ((x[1] + x[0]) / x[0]))))), Age: 4, Complexity: 90\n"
     ]
    },
    {
     "name": "stderr",
     "output_type": "stream",
     "text": [
      " 48%|████▊     | 285/600 [52:13<57:31, 10.96s/it]  "
     ]
    },
    {
     "name": "stdout",
     "output_type": "stream",
     "text": [
      "Initial: 557, Deduplicated: 131, Operation simplified: 0, Constant: 4, Complex: 67, Final: 355\n",
      "Population mean complexity: 87.11830985915493\n",
      "Population mean fitness: 84.14267369746123\n",
      "\n",
      "0. Fitness: 0.66208, Fitness_val = 0.64753, Genome: (((x[1] + x[1]) + x[0]) - ((x[0] + x[0]) + sin(((((x[1] + x[1]) - ((x[0] + x[1]) + sin(x[0]))) / x[0]) - ((x[1] + x[0]) / x[0]))))), Age: 0, Complexity: 110\n",
      "1. Fitness: 0.72967, Fitness_val = 0.71027, Genome: (((x[1] + x[1]) + x[1]) - ((x[1] + x[0]) + sin((((((sin(x[0]) + x[1]) + x[1]) - (x[1] + x[0])) / x[0]) - (x[1] / x[0]))))), Age: 0, Complexity: 102\n",
      "2. Fitness: 0.72967, Fitness_val = 0.71027, Genome: (((x[1] + x[1]) + x[1]) - ((x[1] + x[0]) + sin(((((x[1] + sin(x[0])) - x[0]) / x[0]) - (x[1] / x[0]))))), Age: 0, Complexity: 86\n",
      "3. Fitness: 0.73802, Fitness_val = 0.73017, Genome: (((x[1] + x[1]) + x[0]) - ((x[0] + x[0]) + sin(((((x[1] + x[1]) - ((x[1] + x[0]) + x[1])) / x[0]) - ((x[0] / x[0]) / x[0]))))), Age: 0, Complexity: 82\n",
      "4. Fitness: 0.75404, Fitness_val = 0.74901, Genome: (((x[1] + x[1]) + x[1]) - ((x[1] + x[0]) + sin((((((x[1] + x[1]) + x[1]) - ((x[1] + x[1]) + x[0])) / x[0]) - ((x[1] + x[0]) / x[0]))))), Age: 10, Complexity: 90\n"
     ]
    },
    {
     "name": "stderr",
     "output_type": "stream",
     "text": [
      " 50%|█████     | 300/600 [55:02<57:17, 11.46s/it]  "
     ]
    },
    {
     "name": "stdout",
     "output_type": "stream",
     "text": [
      "Initial: 588, Deduplicated: 143, Operation simplified: 0, Constant: 3, Complex: 75, Final: 367\n",
      "Population mean complexity: 87.66757493188011\n",
      "Population mean fitness: 5.264078805097021e+295\n",
      "\n",
      "0. Fitness: 0.66208, Fitness_val = 0.64753, Genome: (((x[1] + x[1]) + x[1]) - ((x[1] + x[0]) + sin(((((x[1] + x[1]) - ((sin(x[0]) + x[1]) + x[0])) / x[0]) - ((x[1] + x[0]) / x[0]))))), Age: 0, Complexity: 110\n",
      "1. Fitness: 0.72967, Fitness_val = 0.71027, Genome: (((x[1] + x[1]) + x[1]) - ((x[1] + x[0]) + sin((((((sin(x[0]) + x[1]) + x[1]) - (x[1] + x[0])) / x[0]) - (x[1] / x[0]))))), Age: 0, Complexity: 102\n",
      "2. Fitness: 0.72967, Fitness_val = 0.71027, Genome: (((x[1] + x[1]) + x[1]) - ((x[1] + x[0]) + sin(((((x[1] + sin(x[0])) - x[0]) / x[0]) - (x[1] / x[0]))))), Age: 0, Complexity: 86\n",
      "3. Fitness: 0.73802, Fitness_val = 0.73017, Genome: (((x[1] + x[1]) + x[0]) - ((x[0] + x[0]) + sin(((((x[1] + x[1]) - ((x[1] + x[0]) + x[1])) / x[0]) - ((x[0] / x[0]) / x[0]))))), Age: 15, Complexity: 82\n",
      "4. Fitness: 0.75404, Fitness_val = 0.74901, Genome: (((x[1] + x[1]) + x[0]) - ((x[0] + x[0]) + sin(((((x[1] + x[1]) - ((x[0] + x[1]) + x[1])) / x[0]) - (x[0] / x[0]))))), Age: 4, Complexity: 74\n"
     ]
    },
    {
     "name": "stderr",
     "output_type": "stream",
     "text": [
      " 52%|█████▎    | 315/600 [57:42<54:33, 11.49s/it]"
     ]
    },
    {
     "name": "stdout",
     "output_type": "stream",
     "text": [
      "Initial: 571, Deduplicated: 143, Operation simplified: 0, Constant: 2, Complex: 56, Final: 370\n",
      "Population mean complexity: 87.96216216216216\n",
      "Population mean fitness: 383668.48733261315\n",
      "\n",
      "0. Fitness: 0.66208, Fitness_val = 0.64753, Genome: (((x[1] + x[1]) + x[1]) - ((x[1] + x[0]) + sin(((((x[1] + x[1]) - ((x[0] + x[1]) + sin(x[0]))) / x[0]) - ((x[1] + x[0]) / x[0]))))), Age: 3, Complexity: 110\n",
      "1. Fitness: 0.72967, Fitness_val = 0.71027, Genome: (((x[1] + x[1]) + x[1]) - ((x[1] + x[0]) + sin((((((sin(x[0]) + x[1]) + x[1]) - (x[1] + x[0])) / x[0]) - (x[1] / x[0]))))), Age: 0, Complexity: 102\n",
      "2. Fitness: 0.72967, Fitness_val = 0.71027, Genome: (((x[1] + x[1]) + x[1]) - ((x[1] + x[0]) + sin(((((x[1] + sin(x[0])) - x[0]) / x[0]) - (x[1] / x[0]))))), Age: 0, Complexity: 86\n",
      "3. Fitness: 0.73802, Fitness_val = 0.73017, Genome: (((x[1] + x[1]) + x[1]) - ((x[1] + x[0]) + sin((((x[1] - (((x[1] / x[0]) / (x[1] / x[0])) + x[0])) / x[0]) - (x[1] / x[0]))))), Age: 11, Complexity: 82\n",
      "4. Fitness: 0.75404, Fitness_val = 0.74901, Genome: (((x[1] + x[1]) + x[0]) - ((x[0] + x[0]) + sin(((((x[1] + x[1]) - ((x[0] + x[1]) + x[1])) / x[0]) - (x[0] / x[0]))))), Age: 1, Complexity: 74\n"
     ]
    },
    {
     "name": "stderr",
     "output_type": "stream",
     "text": [
      " 55%|█████▌    | 330/600 [1:00:37<51:17, 11.40s/it]"
     ]
    },
    {
     "name": "stdout",
     "output_type": "stream",
     "text": [
      "Initial: 581, Deduplicated: 126, Operation simplified: 0, Constant: 6, Complex: 80, Final: 369\n",
      "Population mean complexity: 87.79674796747967\n",
      "Population mean fitness: 384675.88538803364\n",
      "\n",
      "0. Fitness: 0.66208, Fitness_val = 0.64753, Genome: (((x[1] + x[1]) + x[0]) - ((x[0] + x[0]) + sin(((((x[1] + x[1]) - ((x[0] + x[1]) + sin(x[0]))) / x[0]) - ((x[1] + x[0]) / x[0]))))), Age: 0, Complexity: 110\n",
      "1. Fitness: 0.68416, Fitness_val = 0.67810, Genome: (((x[1] + x[1]) + x[0]) - ((x[0] + x[0]) + sin(((((x[1] + x[1]) - ((((((x[1] + sin(x[0])) - x[0]) / x[0]) - (x[1] / x[0])) + x[1]) + x[0])) / x[0]) - ((x[1] + x[0]) / x[0]))))), Age: 0, Complexity: 150\n",
      "2. Fitness: 0.72967, Fitness_val = 0.71027, Genome: (((x[1] + x[1]) + x[1]) - ((x[1] + x[0]) + sin((((((sin(x[0]) + x[1]) + x[1]) - (x[1] + x[0])) / x[0]) - (x[1] / x[0]))))), Age: 0, Complexity: 102\n",
      "3. Fitness: 0.72967, Fitness_val = 0.71027, Genome: (((x[1] + x[1]) + x[1]) - ((x[1] + x[0]) + sin(((((x[1] + sin(x[0])) - x[0]) / x[0]) - (x[1] / x[0]))))), Age: 9, Complexity: 86\n",
      "4. Fitness: 0.73923, Fitness_val = 0.72475, Genome: (((x[1] + x[1]) + x[1]) - ((x[1] + x[0]) + sin(((((x[1] + x[1]) - ((x[0] + x[1]) + (x[1] / (x[1] + (((x[1] + x[1]) - (x[1] / x[0])) / x[0]))))) / x[0]) - ((x[1] + x[0]) / x[0]))))), Age: 6, Complexity: 130\n"
     ]
    },
    {
     "name": "stderr",
     "output_type": "stream",
     "text": [
      " 57%|█████▊    | 345/600 [1:03:40<58:33, 13.78s/it]"
     ]
    },
    {
     "name": "stdout",
     "output_type": "stream",
     "text": [
      "Initial: 577, Deduplicated: 120, Operation simplified: 0, Constant: 1, Complex: 108, Final: 348\n",
      "Population mean complexity: 88.52873563218391\n",
      "Population mean fitness: 135877.73094310937\n",
      "\n",
      "0. Fitness: 0.66208, Fitness_val = 0.64753, Genome: (((x[1] + x[1]) + x[0]) - ((x[0] + x[0]) + sin(((((x[1] + x[1]) - ((x[0] + x[1]) + sin(x[0]))) / x[0]) - ((x[1] + x[0]) / x[0]))))), Age: 2, Complexity: 110\n",
      "1. Fitness: 0.68416, Fitness_val = 0.67810, Genome: (((x[1] + x[1]) + x[0]) - ((x[0] + x[0]) + sin(((((x[1] + x[1]) - ((((((x[1] + sin(x[0])) - x[0]) / x[0]) - (x[1] / x[0])) + x[1]) + x[0])) / x[0]) - ((x[1] + x[0]) / x[0]))))), Age: 0, Complexity: 150\n",
      "2. Fitness: 0.72847, Fitness_val = 0.70354, Genome: (((x[1] + x[1]) + x[1]) - ((x[1] + x[0]) + sin(((((x[1] + x[1]) - ((x[0] + x[1]) + (x[1] / (x[1] + (((x[1] + x[1]) - (x[1] / x[1])) / x[0]))))) / x[0]) - ((x[1] + x[0]) / x[0]))))), Age: 0, Complexity: 130\n",
      "3. Fitness: 0.72967, Fitness_val = 0.71027, Genome: (((x[1] + x[1]) + x[1]) - ((x[1] + x[0]) + sin((((((sin(x[0]) + x[1]) + x[1]) - (x[1] + x[0])) / x[0]) - (x[1] / x[0]))))), Age: 10, Complexity: 102\n",
      "4. Fitness: 0.72967, Fitness_val = 0.71027, Genome: (((x[1] + x[1]) + x[1]) - ((x[1] + x[0]) + sin(((((x[1] + sin(x[0])) - x[0]) / x[0]) - (x[1] / x[0]))))), Age: 8, Complexity: 86\n"
     ]
    },
    {
     "name": "stderr",
     "output_type": "stream",
     "text": [
      " 60%|██████    | 360/600 [1:06:49<53:10, 13.29s/it]"
     ]
    },
    {
     "name": "stdout",
     "output_type": "stream",
     "text": [
      "Initial: 534, Deduplicated: 100, Operation simplified: 0, Constant: 5, Complex: 93, Final: 336\n",
      "Population mean complexity: 91.44345238095238\n",
      "Population mean fitness: 49449.91769832695\n",
      "\n",
      "0. Fitness: 0.66208, Fitness_val = 0.64753, Genome: (((x[1] + x[1]) + x[1]) - ((x[1] + x[0]) + sin(((((x[1] + x[1]) - ((x[0] + x[1]) + sin(x[0]))) / x[0]) - ((x[1] + x[0]) / x[0]))))), Age: 0, Complexity: 110\n",
      "1. Fitness: 0.68416, Fitness_val = 0.67810, Genome: (((x[1] + x[1]) + x[0]) - ((x[0] + x[0]) + sin(((((x[1] + x[1]) - ((((((x[1] + sin(x[0])) - x[0]) / x[0]) - (x[1] / x[0])) + x[1]) + x[0])) / x[0]) - ((x[1] + x[0]) / x[0]))))), Age: 0, Complexity: 150\n",
      "2. Fitness: 0.71171, Fitness_val = 0.68871, Genome: (((x[1] + x[1]) + x[1]) - ((x[1] + x[0]) + sin(((((x[1] + x[1]) - ((x[0] + x[1]) + (x[1] / (x[1] + (((x[1] + x[1]) - (x[1] / (x[0] + x[0]))) / x[0]))))) / x[0]) - ((x[1] + x[0]) / x[0]))))), Age: 0, Complexity: 138\n",
      "3. Fitness: 0.72847, Fitness_val = 0.70354, Genome: (((x[1] + x[0]) + x[1]) - ((x[0] + x[0]) + sin(((((x[1] + x[1]) - ((x[0] + x[1]) + (x[1] / (x[1] + (((x[1] + x[1]) - (x[1] / x[1])) / x[0]))))) / x[0]) - ((x[1] + x[0]) / x[0]))))), Age: 0, Complexity: 130\n",
      "4. Fitness: 0.72967, Fitness_val = 0.71027, Genome: (((x[1] + x[1]) + x[1]) - ((x[1] + x[0]) + sin(((((x[1] + sin(x[0])) - x[0]) / x[0]) - (x[1] / x[0]))))), Age: 10, Complexity: 86\n"
     ]
    },
    {
     "name": "stderr",
     "output_type": "stream",
     "text": [
      " 62%|██████▎   | 375/600 [1:10:04<49:47, 13.28s/it]"
     ]
    },
    {
     "name": "stdout",
     "output_type": "stream",
     "text": [
      "Initial: 552, Deduplicated: 107, Operation simplified: 0, Constant: 2, Complex: 107, Final: 336\n",
      "Population mean complexity: 93.14285714285714\n",
      "Population mean fitness: 140554.68713679156\n",
      "\n",
      "0. Fitness: 0.69013, Fitness_val = 0.64474, Genome: (((x[1] + x[1]) + x[1]) - ((x[1] + x[0]) + sin(((((x[1] + x[1]) - ((x[0] + x[1]) + (x[1] / (x[1] + ((x[1] + x[1]) / x[0]))))) / x[0]) - ((x[1] + x[0]) / x[0]))))), Age: 0, Complexity: 114\n",
      "1. Fitness: 0.66208, Fitness_val = 0.64753, Genome: (((x[1] + x[1]) + x[0]) - ((x[0] + x[0]) + sin(((((x[1] + x[1]) - ((x[0] + x[1]) + sin(x[0]))) / x[0]) - ((x[1] + x[0]) / x[0]))))), Age: 3, Complexity: 110\n",
      "2. Fitness: 0.70043, Fitness_val = 0.65586, Genome: (((x[1] + x[0]) + x[1]) - ((x[0] + x[0]) + sin(((((x[1] + x[1]) - ((x[0] + x[1]) + (x[1] / (x[1] * (((x[1] + x[1]) - (x[1] / x[1])) / x[0]))))) / x[0]) - ((x[1] + x[0]) / x[0]))))), Age: 0, Complexity: 130\n",
      "3. Fitness: 0.67219, Fitness_val = 0.65855, Genome: (((x[1] + x[1]) + x[1]) - ((x[1] + x[0]) + sin(((((x[1] + x[1]) - (x[1] + (x[1] / (x[1] + (((x[1] + (x[1] + x[0])) - (x[1] / x[1])) / x[0]))))) / x[0]) - ((x[1] + x[0]) / x[0]))))), Age: 2, Complexity: 130\n",
      "4. Fitness: 0.69938, Fitness_val = 0.66240, Genome: (((x[1] + x[1]) + x[1]) - ((x[1] + x[0]) + sin(((((x[1] + x[1]) - ((x[0] + x[1]) + (x[1] / (x[1] + (((x[1] + x[1]) - (x[1] / (x[1] + x[1]))) / x[0]))))) / x[0]) - ((x[1] + x[0]) / x[0]))))), Age: 7, Complexity: 138\n"
     ]
    },
    {
     "name": "stderr",
     "output_type": "stream",
     "text": [
      " 65%|██████▌   | 390/600 [1:13:34<51:19, 14.66s/it]"
     ]
    },
    {
     "name": "stdout",
     "output_type": "stream",
     "text": [
      "Initial: 561, Deduplicated: 103, Operation simplified: 0, Constant: 2, Complex: 107, Final: 349\n",
      "Population mean complexity: 100.91404011461319\n",
      "Population mean fitness: 165487.68943013792\n",
      "\n",
      "0. Fitness: 0.69013, Fitness_val = 0.64474, Genome: (((x[1] + x[1]) + x[1]) - ((x[1] + x[0]) + sin(((((x[1] + x[1]) - ((x[0] + x[1]) + (x[1] / (x[1] + ((x[1] + x[1]) / x[0]))))) / x[0]) - ((x[1] + x[0]) / x[0]))))), Age: 0, Complexity: 114\n",
      "1. Fitness: 0.66208, Fitness_val = 0.64753, Genome: (((x[1] + x[1]) + x[0]) - ((x[0] + x[0]) + sin(((((x[1] + x[1]) - ((x[0] + x[1]) + sin(x[0]))) / x[0]) - ((x[1] + x[0]) / x[0]))))), Age: 3, Complexity: 110\n",
      "2. Fitness: 0.70043, Fitness_val = 0.65586, Genome: (((x[1] + x[0]) + x[1]) - ((x[0] + x[0]) + sin(((((x[1] + x[1]) - ((x[0] + x[1]) + (x[1] / (x[1] * (((x[1] + x[1]) - (x[1] / x[1])) / x[0]))))) / x[0]) - ((x[1] + x[0]) / x[0]))))), Age: 0, Complexity: 130\n",
      "3. Fitness: 0.67219, Fitness_val = 0.65855, Genome: (((x[1] + x[1]) + x[1]) - ((x[1] + x[0]) + sin(((((x[1] + x[1]) - (x[1] + (x[1] / (x[1] + (((x[1] + (x[1] + x[0])) - (x[1] / x[1])) / x[0]))))) / x[0]) - ((x[1] + x[0]) / x[0]))))), Age: 7, Complexity: 130\n",
      "4. Fitness: 0.69938, Fitness_val = 0.66240, Genome: (((x[1] + x[1]) + x[1]) - ((x[1] + x[0]) + sin(((((x[1] + x[1]) - ((x[0] + x[1]) + (x[1] / (x[1] + (((x[1] + x[1]) - (x[1] / (x[1] + x[1]))) / x[0]))))) / x[0]) - ((x[1] + x[0]) / x[0]))))), Age: 5, Complexity: 138\n"
     ]
    },
    {
     "name": "stderr",
     "output_type": "stream",
     "text": [
      " 67%|██████▋   | 404/600 [1:16:28<44:37, 13.66s/it]"
     ]
    },
    {
     "name": "stdout",
     "output_type": "stream",
     "text": [
      "New best result found: Individual(genome=(((x[1] + x[1]) + x[1]) - ((x[1] + x[0]) + sin(((((x[0] + x[1]) - (x[0] + (x[1] / (x[1] + (((((x[0] + x[1]) - (x[0] + (x[1] / (x[1] + x[1])))) / x[0]) - (x[1] / (x[0] + x[0]))) / x[0]))))) / x[0]) - ((x[1] + x[0]) / x[0]))))), fitness=np.float64(0.5886634836745427), fitness_val=np.float64(0.564227621182987), age=0, T=1)\n"
     ]
    },
    {
     "name": "stderr",
     "output_type": "stream",
     "text": [
      " 68%|██████▊   | 405/600 [1:16:45<48:00, 14.77s/it]"
     ]
    },
    {
     "name": "stdout",
     "output_type": "stream",
     "text": [
      "Initial: 547, Deduplicated: 109, Operation simplified: 0, Constant: 4, Complex: 99, Final: 335\n",
      "Population mean complexity: 98.18805970149253\n",
      "Population mean fitness: 90559.5850759909\n",
      "\n",
      "0. Fitness: 0.61036, Fitness_val = 0.59893, Genome: (((x[1] + x[1]) + x[1]) - ((x[1] + x[0]) + sin(((((x[0] + x[1]) - (x[0] + (x[1] / (x[1] + (((((x[0] + x[1]) - x[0]) / x[0]) - (x[1] / (x[0] + x[0]))) / x[0]))))) / x[0]) - ((x[1] + x[0]) / x[0]))))), Age: 0, Complexity: 146\n",
      "1. Fitness: 0.63370, Fitness_val = 0.61203, Genome: (((x[1] + x[1]) + x[1]) - ((x[1] + x[0]) + sin(((((x[0] + x[1]) - (x[0] + (x[1] / (x[1] + ((((x[1] + x[0]) / x[0]) - (x[1] / (x[0] + x[0]))) / x[0]))))) / x[0]) - ((x[1] + x[0]) / x[0]))))), Age: 0, Complexity: 138\n",
      "2. Fitness: 0.62809, Fitness_val = 0.62801, Genome: (((x[1] + x[1]) + x[1]) - ((x[1] + x[0]) + sin(((((x[0] + x[1]) - (x[0] + (x[1] / (x[1] + ((((x[1] + x[0]) / x[0]) - (x[1] / ((x[1] + x[1]) / x[0]))) / x[0]))))) / x[0]) - ((x[1] + x[0]) / x[0]))))), Age: 0, Complexity: 146\n",
      "3. Fitness: 0.65831, Fitness_val = 0.64347, Genome: (((x[1] + x[1]) + x[1]) - ((x[1] + x[0]) + sin(((((x[1] + x[1]) - ((x[0] + x[1]) + (x[0] / (x[1] + (((x[1] + x[1]) - ((x[1] + x[1]) / x[1])) / x[0]))))) / x[0]) - ((x[1] + x[0]) / x[0]))))), Age: 1, Complexity: 138\n",
      "4. Fitness: 0.69013, Fitness_val = 0.64474, Genome: (((x[1] + x[1]) + x[1]) - ((x[1] + x[0]) + sin(((((x[1] + x[1]) - ((x[0] + x[1]) + (x[1] / (x[1] + ((x[1] + x[1]) / x[0]))))) / x[0]) - ((x[1] + x[0]) / x[0]))))), Age: 3, Complexity: 114\n"
     ]
    },
    {
     "name": "stderr",
     "output_type": "stream",
     "text": [
      " 70%|███████   | 420/600 [1:20:25<46:52, 15.62s/it]"
     ]
    },
    {
     "name": "stdout",
     "output_type": "stream",
     "text": [
      "Initial: 556, Deduplicated: 90, Operation simplified: 0, Constant: 2, Complex: 127, Final: 337\n",
      "Population mean complexity: 106.24925816023739\n",
      "Population mean fitness: 455762.0468252387\n",
      "\n",
      "0. Fitness: 0.61036, Fitness_val = 0.59893, Genome: (((x[1] + x[1]) + x[1]) - ((x[1] + x[0]) + sin(((((x[0] + x[1]) - (x[0] + (x[1] / (x[1] + (((((x[0] + x[1]) - x[0]) / x[0]) - (x[1] / (x[0] + x[0]))) / x[0]))))) / x[0]) - ((x[1] + x[0]) / x[0]))))), Age: 0, Complexity: 146\n",
      "1. Fitness: 0.63370, Fitness_val = 0.61203, Genome: (((x[1] + x[1]) + x[1]) - ((x[1] + x[0]) + sin(((((x[0] + x[1]) - (x[0] + (x[1] / (x[1] + ((((x[1] + x[0]) / x[0]) - (x[1] / (x[0] + x[0]))) / x[0]))))) / x[0]) - ((x[1] + x[0]) / x[0]))))), Age: 0, Complexity: 138\n",
      "2. Fitness: 0.64919, Fitness_val = 0.62584, Genome: (((x[1] + x[1]) + x[1]) - ((x[1] + x[0]) + sin(((((x[0] + x[1]) - (x[0] + (x[1] / (x[1] + (((x[1] / x[0]) - (x[1] / ((x[1] + x[1]) / x[0]))) / x[0]))))) / x[0]) - ((x[1] + x[0]) / x[0]))))), Age: 0, Complexity: 138\n",
      "3. Fitness: 0.62809, Fitness_val = 0.62801, Genome: (((x[1] + x[1]) + x[1]) - ((x[1] + x[0]) + sin(((((x[0] + x[1]) - (x[0] + (x[1] / (x[1] + ((((x[1] + x[0]) / x[0]) - (x[1] / ((x[1] + x[1]) / x[0]))) / x[0]))))) / x[0]) - ((x[1] + x[0]) / x[0]))))), Age: 6, Complexity: 146\n",
      "4. Fitness: 0.63951, Fitness_val = 0.62855, Genome: (((x[1] + x[1]) + x[1]) - ((x[1] + x[0]) + sin(((((x[0] + x[1]) - (x[0] + (x[1] / (x[1] + ((((x[1] + x[1]) / x[0]) - (x[1] / (x[0] + x[0]))) / x[0]))))) / x[0]) - ((x[1] + x[0]) / x[0]))))), Age: 3, Complexity: 138\n"
     ]
    },
    {
     "name": "stderr",
     "output_type": "stream",
     "text": [
      " 72%|███████▎  | 435/600 [1:23:58<41:38, 15.15s/it]"
     ]
    },
    {
     "name": "stdout",
     "output_type": "stream",
     "text": [
      "Initial: 536, Deduplicated: 105, Operation simplified: 0, Constant: 0, Complex: 95, Final: 336\n",
      "Population mean complexity: 109.61011904761905\n",
      "Population mean fitness: 492054.7682497171\n",
      "\n",
      "0. Fitness: 0.61036, Fitness_val = 0.59893, Genome: (((x[1] + x[1]) + x[1]) - ((x[1] + x[0]) + sin(((((x[0] + x[1]) - (x[0] + (x[1] / (x[1] + (((((x[0] + x[1]) - x[0]) / x[0]) - (x[1] / (x[0] + x[0]))) / x[0]))))) / x[0]) - ((x[1] + x[0]) / x[0]))))), Age: 0, Complexity: 146\n",
      "1. Fitness: 0.63370, Fitness_val = 0.61203, Genome: (((x[1] + x[1]) + x[1]) - ((x[1] + x[0]) + sin(((((x[0] + x[1]) - (x[0] + (x[1] / (x[1] + ((((x[1] + x[0]) / x[0]) - (x[1] / (x[0] + x[0]))) / x[0]))))) / x[0]) - ((x[1] + x[0]) / x[0]))))), Age: 0, Complexity: 138\n",
      "2. Fitness: 0.62692, Fitness_val = 0.61544, Genome: (((x[1] + x[1]) + x[1]) - ((x[1] + x[0]) + sin(((((x[0] + x[1]) - (x[0] + (x[1] / (x[1] + ((((x[0] + x[1]) / x[0]) - (x[1] / x[1])) / x[0]))))) / x[0]) - ((x[1] + x[0]) / x[0]))))), Age: 0, Complexity: 130\n",
      "3. Fitness: 0.64919, Fitness_val = 0.62584, Genome: (((x[1] + x[1]) + x[1]) - ((x[1] + x[0]) + sin(((((x[0] + x[1]) - (x[0] + (x[1] / (x[1] + (((x[1] / x[0]) - (x[1] / ((x[1] + x[1]) / x[0]))) / x[0]))))) / x[0]) - ((x[1] + x[0]) / x[0]))))), Age: 12, Complexity: 138\n",
      "4. Fitness: 0.63951, Fitness_val = 0.62855, Genome: (((x[1] + x[1]) + x[1]) - ((x[1] + x[0]) + sin(((((x[0] + x[1]) - (x[0] + (x[1] / (x[1] + ((((x[1] + x[1]) / x[0]) - (x[1] / (x[0] + x[0]))) / x[0]))))) / x[0]) - ((x[1] + x[0]) / x[0]))))), Age: 2, Complexity: 138\n"
     ]
    },
    {
     "name": "stderr",
     "output_type": "stream",
     "text": [
      " 75%|███████▌  | 450/600 [1:28:18<45:02, 18.02s/it]"
     ]
    },
    {
     "name": "stdout",
     "output_type": "stream",
     "text": [
      "Initial: 563, Deduplicated: 106, Operation simplified: 0, Constant: 1, Complex: 176, Final: 280\n",
      "Population mean complexity: 105.5\n",
      "Population mean fitness: 42340.95916358798\n",
      "\n",
      "0. Fitness: 0.61036, Fitness_val = 0.59893, Genome: (((x[1] + x[1]) + x[1]) - ((x[1] + x[0]) + sin(((((x[0] + x[1]) - (x[0] + (x[1] / (x[1] + (((((x[0] + x[1]) - x[0]) / x[0]) - (x[1] / (x[0] + x[0]))) / x[0]))))) / x[0]) - ((x[1] + x[0]) / x[0]))))), Age: 0, Complexity: 146\n",
      "1. Fitness: 0.63370, Fitness_val = 0.61203, Genome: (((x[1] + x[1]) + x[1]) - ((x[1] + x[0]) + sin(((((x[0] + x[1]) - (x[0] + (x[1] / (x[1] + ((((x[1] + x[0]) / x[0]) - (x[1] / (x[0] + x[0]))) / x[0]))))) / x[0]) - ((x[1] + x[0]) / x[0]))))), Age: 0, Complexity: 138\n",
      "2. Fitness: 0.62692, Fitness_val = 0.61544, Genome: (((x[1] + x[1]) + x[1]) - ((x[1] + x[0]) + sin(((((x[0] + x[1]) - (x[0] + (x[1] / (x[1] + ((((x[0] + x[1]) / x[0]) - (x[1] / x[1])) / x[0]))))) / x[0]) - ((x[1] + x[0]) / x[0]))))), Age: 0, Complexity: 130\n",
      "3. Fitness: 0.63940, Fitness_val = 0.63098, Genome: (((x[1] + x[1]) + x[1]) - ((x[1] + x[0]) + sin(((((x[0] + x[1]) - (x[0] + (x[1] / (x[1] + (((((x[0] + x[1]) - x[0]) / x[0]) - x[1]) / x[0]))))) / x[0]) - ((x[1] + x[0]) / x[0]))))), Age: 3, Complexity: 130\n",
      "4. Fitness: 0.64297, Fitness_val = 0.63219, Genome: (((x[1] + x[1]) + x[1]) - ((x[1] + x[0]) + sin(((((x[0] + x[1]) - (x[0] + (x[1] / (x[1] + ((((x[1] + x[1]) / x[0]) - (x[1] / ((x[0] + x[0]) + x[0]))) / x[0]))))) / x[0]) - ((x[1] + x[0]) / x[0]))))), Age: 0, Complexity: 146\n"
     ]
    },
    {
     "name": "stderr",
     "output_type": "stream",
     "text": [
      " 76%|███████▌  | 455/600 [1:29:27<36:02, 14.91s/it]"
     ]
    },
    {
     "name": "stdout",
     "output_type": "stream",
     "text": [
      "New best result found: Individual(genome=(((x[1] + x[1]) + x[1]) - ((x[1] + x[0]) + sin(((((x[0] + x[1]) - (x[0] + (x[1] / (x[1] + ((((x[1] + sin(((((x[0] + x[1]) - (x[0] + (x[1] / (x[1] + (((x[1] / x[0]) - (x[1] / x[1])) / x[0]))))) / x[0]) - ((x[1] + x[0]) / x[0])))) / x[0]) - (x[1] / ((x[0] + x[0]) + x[0]))) / x[0]))))) / x[0]) - ((x[1] + x[0]) / x[0]))))), fitness=np.float64(0.583372812125881), fitness_val=np.float64(0.558439838496624), age=0, T=1)\n"
     ]
    },
    {
     "name": "stderr",
     "output_type": "stream",
     "text": [
      " 78%|███████▊  | 465/600 [1:32:10<37:48, 16.80s/it]"
     ]
    },
    {
     "name": "stdout",
     "output_type": "stream",
     "text": [
      "Initial: 556, Deduplicated: 126, Operation simplified: 0, Constant: 3, Complex: 147, Final: 280\n",
      "Population mean complexity: 102.49285714285715\n",
      "Population mean fitness: 716714.2130458242\n",
      "\n",
      "0. Fitness: 0.61036, Fitness_val = 0.59893, Genome: (((x[1] + x[1]) + x[1]) - ((x[1] + x[0]) + sin(((((x[0] + x[1]) - (x[0] + (x[1] / (x[1] + (((((x[0] + x[1]) - x[0]) / x[0]) - (x[1] / (x[0] + x[0]))) / x[0]))))) / x[0]) - ((x[1] + x[0]) / x[0]))))), Age: 0, Complexity: 146\n",
      "1. Fitness: 0.63370, Fitness_val = 0.61203, Genome: (((x[1] + x[1]) + x[1]) - ((x[1] + x[0]) + sin(((((x[0] + x[1]) - (x[0] + (x[1] / (x[1] + ((((x[1] + x[0]) / x[0]) - (x[1] / (x[0] + x[0]))) / x[0]))))) / x[0]) - ((x[1] + x[0]) / x[0]))))), Age: 0, Complexity: 138\n",
      "2. Fitness: 0.62692, Fitness_val = 0.61544, Genome: (((x[1] + x[1]) + x[1]) - ((x[1] + x[0]) + sin(((((x[0] + x[1]) - (x[0] + (x[1] / (x[1] + ((((x[0] + x[1]) - x[0]) / x[0]) / x[0]))))) / x[0]) - ((x[1] + x[0]) / x[0]))))), Age: 0, Complexity: 122\n",
      "3. Fitness: 0.63951, Fitness_val = 0.62855, Genome: (((x[1] + x[1]) + x[1]) - ((x[1] + x[0]) + sin(((((x[0] + x[1]) - (x[0] + (x[1] / (x[1] + ((((x[1] + x[1]) / x[0]) - (x[1] / (x[0] + x[0]))) / x[0]))))) / x[0]) - ((x[1] + x[0]) / x[0]))))), Age: 9, Complexity: 138\n",
      "4. Fitness: 0.63940, Fitness_val = 0.63098, Genome: (((x[1] + x[1]) + x[1]) - ((x[1] + x[0]) + sin(((((x[0] + x[1]) - (x[0] + (x[1] / (x[1] + (((x[1] / x[0]) - x[1]) / x[0]))))) / x[0]) - ((x[1] + x[0]) / x[0]))))), Age: 6, Complexity: 114\n"
     ]
    },
    {
     "name": "stderr",
     "output_type": "stream",
     "text": [
      " 79%|███████▉  | 473/600 [1:34:13<34:29, 16.30s/it]"
     ]
    },
    {
     "name": "stdout",
     "output_type": "stream",
     "text": [
      "New best result found: Individual(genome=(((x[1] + x[1]) + x[1]) - ((((x[0] + x[1]) - (x[0] + (x[1] / (x[1] + (((((x[0] + x[1]) - x[0]) / x[0]) - x[1]) / x[0]))))) + x[0]) + sin(((((x[0] + x[1]) - ((x[0] - (x[0] + (x[1] / (x[1] + ((((x[1] + x[1]) / x[0]) - (x[0] / ((x[0] + x[0]) + x[0]))) / x[0]))))) + (x[1] / (x[1] + (x[1] / x[0]))))) / x[0]) - (x[0] / x[0]))))), fitness=np.float64(0.5366725709564851), fitness_val=np.float64(0.5290105971189023), age=0, T=1)\n"
     ]
    },
    {
     "name": "stderr",
     "output_type": "stream",
     "text": [
      " 79%|███████▉  | 476/600 [1:35:08<36:13, 17.52s/it]"
     ]
    },
    {
     "name": "stdout",
     "output_type": "stream",
     "text": [
      "New best result found: Individual(genome=(((x[1] + x[1]) + x[1]) - ((((x[0] + x[1]) - (x[0] + (x[1] / (x[1] + (((((x[0] + x[1]) - x[0]) / x[0]) - x[1]) / x[0]))))) + x[0]) + sin(((((x[0] + x[1]) - ((x[0] - (x[0] + (x[1] / (x[1] + ((((x[1] + x[1]) / x[0]) - (x[0] / ((x[0] + x[0]) + x[0]))) / x[0]))))) + x[0])) / x[1]) - (x[0] / x[0]))))), fitness=np.float64(0.5062800553111182), fitness_val=np.float64(0.49590280037330775), age=0, T=1)\n"
     ]
    },
    {
     "name": "stderr",
     "output_type": "stream",
     "text": [
      " 80%|████████  | 480/600 [1:36:22<37:08, 18.57s/it]"
     ]
    },
    {
     "name": "stdout",
     "output_type": "stream",
     "text": [
      "Initial: 560, Deduplicated: 85, Operation simplified: 0, Constant: 3, Complex: 150, Final: 322\n",
      "Population mean complexity: 99.83540372670808\n",
      "Population mean fitness: 1069934.3488597043\n",
      "\n",
      "0. Fitness: 0.53140, Fitness_val = 0.52274, Genome: (((x[1] + x[1]) + x[1]) - ((((x[0] + x[1]) - (x[0] + (x[1] / (x[1] + (((((x[0] + x[1]) - x[0]) / x[0]) - x[1]) / x[0]))))) + x[0]) + sin(((x[1] / x[1]) - (x[0] / x[0]))))), Age: 0, Complexity: 62\n",
      "1. Fitness: 0.61036, Fitness_val = 0.59893, Genome: (((x[1] + x[1]) + x[1]) - ((x[1] + x[0]) + sin(((((x[0] + x[1]) - (x[0] + (x[1] / (x[1] + (((((x[0] + x[1]) - x[0]) / x[0]) - (x[1] / (x[0] + x[0]))) / x[0]))))) / x[0]) - ((x[1] + x[0]) / x[0]))))), Age: 0, Complexity: 146\n",
      "2. Fitness: 0.61619, Fitness_val = 0.60461, Genome: (((x[1] + x[1]) + x[1]) - ((x[1] + x[0]) + sin(((((x[0] + x[1]) - (x[0] + (x[1] / (x[1] + ((((x[1] + x[1]) / x[0]) * (x[0] / ((x[0] + x[0]) + x[0]))) / x[0]))))) / x[0]) - ((x[1] + x[0]) / x[0]))))), Age: 0, Complexity: 146\n",
      "3. Fitness: 0.64345, Fitness_val = 0.60883, Genome: (((x[1] + x[1]) + x[1]) - ((x[1] + x[0]) + sin(((((x[0] + x[1]) - (x[0] + (x[1] / (x[1] + ((x[1] - ((((x[0] + x[1]) - x[0]) / x[0]) / x[0])) / x[0]))))) / x[0]) - ((x[1] + x[0]) / x[0]))))), Age: 6, Complexity: 138\n",
      "4. Fitness: 0.63370, Fitness_val = 0.61203, Genome: (((x[1] + x[1]) + x[1]) - ((x[1] + x[0]) + sin(((((x[0] + x[1]) - (x[0] + (x[1] / (x[1] + ((((x[1] + x[0]) / x[0]) - (x[1] / (x[0] + x[0]))) / x[0]))))) / x[0]) - ((x[1] + x[0]) / x[0]))))), Age: 11, Complexity: 138\n"
     ]
    },
    {
     "name": "stderr",
     "output_type": "stream",
     "text": [
      " 81%|████████  | 487/600 [1:38:06<28:23, 15.08s/it]"
     ]
    },
    {
     "name": "stdout",
     "output_type": "stream",
     "text": [
      "New best result found: Individual(genome=(((x[1] + x[1]) + x[1]) - ((((x[0] + x[1]) - (x[0] + (x[1] / (x[1] + (((((x[0] + x[1]) - x[0]) / x[0]) - x[1]) / x[0]))))) + x[0]) + sin(((((x[0] + x[1]) - ((x[0] - (x[0] + (x[0] / x[0]))) + (x[1] / (x[1] + (x[1] / x[0]))))) / x[0]) - (x[0] / x[0]))))), fitness=np.float64(0.5004480272494781), fitness_val=np.float64(0.4508173448273234), age=0, T=1)\n"
     ]
    },
    {
     "name": "stderr",
     "output_type": "stream",
     "text": [
      " 82%|████████▎ | 495/600 [1:40:05<26:29, 15.13s/it]"
     ]
    },
    {
     "name": "stdout",
     "output_type": "stream",
     "text": [
      "Initial: 519, Deduplicated: 80, Operation simplified: 0, Constant: 3, Complex: 92, Final: 344\n",
      "Population mean complexity: 93.93313953488372\n",
      "Population mean fitness: 3732992.694931778\n",
      "\n",
      "0. Fitness: 0.50045, Fitness_val = 0.45082, Genome: (((x[1] + x[1]) + x[1]) - ((((x[0] + x[1]) - (x[0] + (x[1] / (x[1] + (((((x[0] + x[1]) - x[0]) / x[0]) - x[1]) / x[0]))))) + x[0]) + sin(((((x[0] + x[1]) - ((x[0] - (x[0] + (x[0] / x[0]))) + (x[1] / (x[1] + (x[1] / x[0]))))) / x[0]) - (x[0] / x[0]))))), Age: 0, Complexity: 134\n",
      "1. Fitness: 0.53140, Fitness_val = 0.52274, Genome: (((x[1] + x[1]) + x[1]) - (((x[1] - (x[0] + (x[1] / (x[1] + (((((x[0] + x[1]) - x[0]) / x[0]) - x[1]) / x[0]))))) + x[0]) + x[0])), Age: 0, Complexity: 29\n",
      "2. Fitness: 0.61036, Fitness_val = 0.59893, Genome: (((x[1] + x[1]) + x[1]) - ((x[1] + x[0]) + sin(((((x[0] + x[1]) - (x[0] + (x[1] / (x[1] + (((((x[0] + x[1]) - x[0]) / x[0]) - (x[1] / (x[0] + x[0]))) / x[0]))))) / x[0]) - ((x[1] + x[0]) / x[0]))))), Age: 0, Complexity: 146\n",
      "3. Fitness: 0.61619, Fitness_val = 0.60461, Genome: (((x[1] + x[1]) + x[1]) - ((x[1] + x[0]) + sin(((((x[0] + x[1]) - (x[0] + (x[1] / (x[1] + ((((x[1] + x[1]) / x[0]) * (x[0] / ((x[0] + x[0]) + x[0]))) / x[0]))))) / x[0]) - ((x[1] + x[0]) / x[0]))))), Age: 9, Complexity: 146\n",
      "4. Fitness: 0.63370, Fitness_val = 0.61203, Genome: (((x[1] + x[1]) + x[1]) - ((x[1] + x[0]) + sin(((((x[0] + x[1]) - (x[0] + (x[1] / (x[1] + ((((x[1] + x[0]) / x[0]) - (x[1] / (x[0] + x[0]))) / x[0]))))) / x[0]) - ((x[1] + x[0]) / x[0]))))), Age: 12, Complexity: 138\n"
     ]
    },
    {
     "name": "stderr",
     "output_type": "stream",
     "text": [
      " 85%|████████▌ | 510/600 [1:44:07<25:07, 16.75s/it]"
     ]
    },
    {
     "name": "stdout",
     "output_type": "stream",
     "text": [
      "Initial: 541, Deduplicated: 78, Operation simplified: 0, Constant: 2, Complex: 88, Final: 373\n",
      "Population mean complexity: 94.65951742627345\n",
      "Population mean fitness: 3811403.201279097\n",
      "\n",
      "0. Fitness: 0.50045, Fitness_val = 0.45082, Genome: (((x[1] + x[1]) + x[1]) - ((((x[0] + x[1]) - (x[0] + (x[1] / (x[1] + (((((x[0] + x[1]) - x[0]) / x[0]) - x[1]) / x[0]))))) + x[0]) + sin(((((x[0] + x[1]) - ((x[0] - (x[0] + (x[0] / x[0]))) + (x[1] / (x[1] + (x[1] / x[0]))))) / x[0]) - (x[0] / x[0]))))), Age: 0, Complexity: 134\n",
      "1. Fitness: 0.53140, Fitness_val = 0.52274, Genome: (((x[1] + x[1]) + x[1]) - (((x[1] - (x[0] + (x[1] / (x[1] + (((((x[0] + x[1]) - x[0]) / x[0]) - x[1]) / x[0]))))) + x[0]) + x[0])), Age: 0, Complexity: 29\n",
      "2. Fitness: 0.58428, Fitness_val = 0.54310, Genome: (((x[1] + x[1]) + x[1]) - ((((x[0] + x[1]) - (x[0] + (x[1] / (x[1] + (((((x[0] + x[1]) - x[0]) / x[0]) - x[1]) / x[0]))))) + x[0]) + sin(((((x[0] + x[1]) - ((x[0] - (x[0] + (x[1] / x[0]))) * (x[1] / (x[1] + (x[1] / x[0]))))) / x[0]) - (x[0] / x[0]))))), Age: 0, Complexity: 134\n",
      "3. Fitness: 0.57051, Fitness_val = 0.55718, Genome: (((x[1] + x[1]) + x[1]) - ((((x[0] + x[1]) - (x[0] + (x[1] / (x[1] + (((((x[0] + x[1]) - x[0]) / x[0]) - x[1]) / x[0]))))) + x[0]) + sin(((((x[0] + x[1]) - ((x[0] - (x[0] + (x[0] / x[0]))) + (x[1] / (x[1] + (x[1] / x[0]))))) / (x[1] + x[0])) - (x[0] / x[0]))))), Age: 4, Complexity: 142\n",
      "4. Fitness: 0.61036, Fitness_val = 0.59893, Genome: (((x[1] + x[1]) + x[1]) - ((x[1] + x[0]) + sin(((((x[0] + x[1]) - (x[0] + (x[1] / (x[1] + (((((x[0] + x[1]) - x[0]) / x[0]) - (x[1] / (x[0] + x[0]))) / x[0]))))) / x[0]) - ((x[1] + x[0]) / x[0]))))), Age: 0, Complexity: 146\n"
     ]
    },
    {
     "name": "stderr",
     "output_type": "stream",
     "text": [
      " 88%|████████▊ | 525/600 [1:48:01<19:18, 15.44s/it]"
     ]
    },
    {
     "name": "stdout",
     "output_type": "stream",
     "text": [
      "Initial: 559, Deduplicated: 87, Operation simplified: 0, Constant: 4, Complex: 56, Final: 412\n",
      "Population mean complexity: 88.56067961165049\n",
      "Population mean fitness: 2198392.944807563\n",
      "\n",
      "0. Fitness: 0.50045, Fitness_val = 0.45082, Genome: (((x[1] + x[1]) + x[1]) - ((((x[0] + x[1]) - (x[0] + (x[1] / (x[1] + (((((x[0] + x[1]) - x[0]) / x[0]) - x[1]) / x[0]))))) + x[0]) + sin(((((x[0] + x[1]) - ((x[0] - (x[0] + (x[0] / x[0]))) + (x[1] / (x[1] + (x[1] / x[0]))))) / x[0]) - (x[0] / x[0]))))), Age: 0, Complexity: 134\n",
      "1. Fitness: 0.53140, Fitness_val = 0.52274, Genome: (((x[1] + x[1]) + x[1]) - (((x[1] - (x[0] + (x[1] / (x[1] + (((x[1] / x[0]) - x[1]) / x[0]))))) + x[0]) + x[0])), Age: 0, Complexity: 25\n",
      "2. Fitness: 0.54476, Fitness_val = 0.53258, Genome: (((x[1] + x[1]) + x[1]) - (((x[1] - (x[0] + (x[1] / (x[1] + (((((x[0] + (x[1] + x[1])) - x[0]) / x[0]) - x[1]) / x[0]))))) + x[0]) + x[0])), Age: 0, Complexity: 31\n",
      "3. Fitness: 0.58428, Fitness_val = 0.54310, Genome: (((x[1] + x[1]) + x[1]) - ((((x[0] + x[1]) - (x[0] + (x[1] / (x[1] + (((((x[0] + x[1]) - x[0]) / x[0]) - x[1]) / x[0]))))) + x[0]) + sin(((((x[0] + x[1]) - ((x[0] - (x[0] + (x[1] / x[0]))) * (x[1] / (x[1] + (x[1] / x[0]))))) / x[0]) - (x[0] / x[0]))))), Age: 3, Complexity: 134\n",
      "4. Fitness: 0.56249, Fitness_val = 0.54713, Genome: (((x[1] + x[1]) + x[1]) - ((((x[0] + x[1]) - (x[0] + (x[1] / (x[1] + x[1])))) + x[0]) + sin(((((x[0] + x[1]) - ((x[1] / (x[0] + x[0])) + (x[1] / (x[1] + (x[1] / x[0]))))) / x[0]) - (x[0] / x[0]))))), Age: 1, Complexity: 116\n"
     ]
    },
    {
     "name": "stderr",
     "output_type": "stream",
     "text": [
      " 90%|█████████ | 540/600 [1:52:01<16:26, 16.43s/it]"
     ]
    },
    {
     "name": "stdout",
     "output_type": "stream",
     "text": [
      "Initial: 582, Deduplicated: 116, Operation simplified: 0, Constant: 2, Complex: 52, Final: 412\n",
      "Population mean complexity: 84.60679611650485\n",
      "Population mean fitness: 2415297.2238925574\n",
      "\n",
      "0. Fitness: 0.50045, Fitness_val = 0.45082, Genome: (((x[1] + x[1]) + x[1]) - ((((x[0] + x[1]) - (x[0] + (x[1] / (x[1] + (((((x[0] + x[1]) - x[0]) / x[0]) - x[1]) / x[0]))))) + x[0]) + sin(((((x[0] + x[1]) - ((x[0] - (x[0] + (x[0] / x[0]))) + (x[1] / (x[1] + (x[1] / x[0]))))) / x[0]) - (x[0] / x[0]))))), Age: 0, Complexity: 134\n",
      "1. Fitness: 0.52929, Fitness_val = 0.51920, Genome: (((x[1] + x[1]) + x[1]) - (((x[1] - (x[0] + (x[1] / (x[1] + ((((x[1] + (((((x[0] + (x[1] + x[1])) - x[0]) / x[0]) - x[1]) / (x[0] + (x[1] / (x[1] + (((x[1] / x[0]) - x[1]) / x[0])))))) / x[0]) - x[1]) / x[0]))))) + x[0]) + x[0])), Age: 0, Complexity: 51\n",
      "2. Fitness: 0.57265, Fitness_val = 0.51947, Genome: (((x[1] + x[1]) + x[1]) - ((((x[0] + x[1]) - (x[0] + (x[1] / (x[1] + (((((x[0] + x[1]) - x[0]) / x[0]) - x[1]) / x[0]))))) + x[0]) + sin(((((((x[1] + x[0]) / x[0]) + x[1]) - ((x[0] - (x[0] + (x[0] / x[0]))) - (x[1] / (x[1] + (x[1] / x[0]))))) / x[0]) - (x[0] / x[0]))))), Age: 0, Complexity: 150\n",
      "3. Fitness: 0.53140, Fitness_val = 0.52274, Genome: (((x[1] + x[1]) + x[1]) - (((x[1] - (x[0] + (x[1] / (x[1] + (((x[1] / x[0]) - x[1]) / x[0]))))) + x[0]) + x[0])), Age: 1, Complexity: 25\n",
      "4. Fitness: 0.53512, Fitness_val = 0.52525, Genome: (((x[1] + x[1]) + x[1]) - (((x[1] - (x[0] + (x[1] / (x[1] + ((((x[1] + (((((x[0] + (x[1] + x[1])) - x[0]) / x[0]) - x[1]) / x[0])) / x[0]) - x[1]) / x[0]))))) + x[0]) + x[0])), Age: 2, Complexity: 39\n"
     ]
    },
    {
     "name": "stderr",
     "output_type": "stream",
     "text": [
      " 92%|█████████▎| 555/600 [1:56:23<14:20, 19.12s/it]"
     ]
    },
    {
     "name": "stdout",
     "output_type": "stream",
     "text": [
      "Initial: 554, Deduplicated: 89, Operation simplified: 0, Constant: 2, Complex: 71, Final: 392\n",
      "Population mean complexity: 89.21683673469387\n",
      "Population mean fitness: 4.2061503399634664e+16\n",
      "\n",
      "0. Fitness: 0.50045, Fitness_val = 0.45082, Genome: (((x[1] + x[1]) + x[1]) - ((((x[0] + x[1]) - (x[0] + (x[1] / (x[1] + (((((x[0] + x[1]) - x[0]) / x[0]) - x[1]) / x[0]))))) + x[0]) + sin(((((x[0] + x[1]) - ((x[0] - (x[0] + (x[0] / x[0]))) + (x[1] / (x[1] + (x[1] / x[0]))))) / x[0]) - (x[0] / x[0]))))), Age: 0, Complexity: 134\n",
      "1. Fitness: 0.52929, Fitness_val = 0.51920, Genome: (((x[1] + x[1]) + x[1]) - (((x[1] - (x[0] + (x[1] / (x[1] + ((((x[1] + (((((x[0] + (x[1] + x[1])) - x[0]) / x[0]) - x[1]) / (x[0] + (x[1] / (x[1] + (((x[1] / x[0]) - x[1]) / x[0])))))) / x[0]) - x[1]) / x[0]))))) + x[0]) + x[0])), Age: 0, Complexity: 51\n",
      "2. Fitness: 0.57265, Fitness_val = 0.51947, Genome: (((x[1] + x[1]) + x[1]) - ((((x[0] + x[1]) - (x[0] + (x[1] / (x[1] + (((((x[0] + x[1]) - x[0]) / x[0]) - x[1]) / x[0]))))) + x[0]) + sin(((((((x[1] + x[0]) / x[0]) + x[1]) - ((x[0] - (x[0] + (x[0] / x[0]))) - (x[1] / (x[1] + (x[1] / x[0]))))) / x[0]) - (x[0] / x[0]))))), Age: 0, Complexity: 150\n",
      "3. Fitness: 0.53140, Fitness_val = 0.52274, Genome: (((x[1] + x[1]) + x[1]) - (((x[1] - (x[0] + (x[1] / (x[1] + (((x[1] / x[0]) - x[1]) / x[0]))))) + x[0]) + x[0])), Age: 5, Complexity: 25\n",
      "4. Fitness: 0.53512, Fitness_val = 0.52525, Genome: (((x[1] + x[1]) + x[1]) - (((x[1] - (x[0] + (x[1] / (x[1] + ((((x[1] + (((((x[0] + (x[1] + x[1])) - x[0]) / x[0]) - x[1]) / x[0])) / x[0]) - x[1]) / x[0]))))) + x[0]) + x[0])), Age: 1, Complexity: 39\n"
     ]
    },
    {
     "name": "stderr",
     "output_type": "stream",
     "text": [
      " 95%|█████████▌| 570/600 [2:00:42<08:16, 16.55s/it]"
     ]
    },
    {
     "name": "stdout",
     "output_type": "stream",
     "text": [
      "Initial: 588, Deduplicated: 104, Operation simplified: 0, Constant: 3, Complex: 65, Final: 416\n",
      "Population mean complexity: 78.23317307692308\n",
      "Population mean fitness: 9.535287883775636e+37\n",
      "\n",
      "0. Fitness: 0.50045, Fitness_val = 0.45082, Genome: (((x[1] + x[1]) + x[1]) - ((((x[0] + x[1]) - (x[0] + (x[1] / (x[1] + (((((x[0] + x[1]) - x[0]) / x[0]) - x[1]) / x[0]))))) + x[0]) + sin(((((x[0] + x[1]) - ((x[0] - (x[0] + (x[0] / x[0]))) + (x[1] / (x[1] + (x[1] / x[0]))))) / x[0]) - (x[0] / x[0]))))), Age: 0, Complexity: 134\n",
      "1. Fitness: 0.51855, Fitness_val = 0.50367, Genome: (((x[1] + x[1]) + x[1]) - (((x[1] - (x[0] + (x[1] / (x[1] + ((((x[1] + (((((x[0] + (x[1] + x[1])) - x[0]) / x[0]) - x[1]) / (x[0] + (x[1] / (x[1] + (((x[1] / x[0]) - x[1]) / x[0])))))) / x[0]) - x[1]) / (x[0] + (x[0] / x[0]))))))) + x[0]) + x[0])), Age: 0, Complexity: 55\n",
      "2. Fitness: 0.55838, Fitness_val = 0.51380, Genome: (((x[1] + x[1]) + x[1]) - (((x[1] - (x[0] + (x[1] / (x[1] + ((((x[1] + (((((x[0] + ((x[1] + x[1]) + x[1])) - x[0]) / x[0]) - x[1]) / (x[0] + (x[1] / (x[1] + ((((x[1] / (x[0] + x[0])) / x[0]) - x[1]) / x[0])))))) / x[0]) - x[1]) / x[0]))))) + x[0]) + x[0])), Age: 0, Complexity: 57\n",
      "3. Fitness: 0.52929, Fitness_val = 0.51920, Genome: (((x[1] + x[1]) + x[1]) - (((x[1] - (x[0] + (x[1] / (x[1] + ((((x[1] + (((((x[0] + (x[1] + x[1])) - x[0]) / x[0]) - x[1]) / (x[0] + (x[1] / (x[1] + (((x[1] / x[0]) - x[1]) / x[0])))))) / x[0]) - x[1]) / x[0]))))) + x[0]) + x[0])), Age: 4, Complexity: 51\n",
      "4. Fitness: 0.57265, Fitness_val = 0.51947, Genome: (((x[1] + x[1]) + x[1]) - ((((x[0] + x[1]) - (x[0] + (x[1] / (x[1] + (((((x[0] + x[1]) - x[0]) / x[0]) - x[1]) / x[0]))))) + x[0]) + sin(((((((x[1] + x[0]) / x[0]) + x[1]) - ((x[0] - (x[0] + (x[0] / x[0]))) - (x[1] / (x[1] + (x[1] / x[0]))))) / x[0]) - (x[0] / x[0]))))), Age: 8, Complexity: 150\n"
     ]
    },
    {
     "name": "stderr",
     "output_type": "stream",
     "text": [
      " 98%|█████████▊| 585/600 [2:05:30<05:10, 20.68s/it]"
     ]
    },
    {
     "name": "stdout",
     "output_type": "stream",
     "text": [
      "Initial: 583, Deduplicated: 66, Operation simplified: 0, Constant: 1, Complex: 65, Final: 451\n",
      "Population mean complexity: 73.16851441241685\n",
      "Population mean fitness: 8.795298801886174e+37\n",
      "\n",
      "0. Fitness: 0.50045, Fitness_val = 0.45082, Genome: (((x[1] + x[1]) + x[1]) - ((((x[0] + x[1]) - (x[0] + (x[1] / (x[1] + (((((x[0] + x[1]) - x[0]) / x[0]) - x[1]) / x[0]))))) + x[0]) + sin(((((x[0] + x[1]) - ((x[0] - (x[0] + (x[0] / x[0]))) + (x[1] / (x[1] + (x[1] / x[0]))))) / x[0]) - (x[0] / x[0]))))), Age: 0, Complexity: 134\n",
      "1. Fitness: 0.51749, Fitness_val = 0.49902, Genome: (((x[1] + x[1]) + x[1]) - (((x[1] - (x[0] + (x[1] / (x[1] + ((((x[1] + (((((x[0] + (x[1] + x[1])) - x[0]) / x[0]) - x[1]) / (x[0] + (x[1] / (x[1] + (((x[1] / (x[0] + (x[1] / (((x[1] + x[1]) + x[1]) - (((x[1] - (x[0] + (x[1] / (x[1] + (((x[1] + (((x[0] / x[0]) - x[1]) / x[0])) - x[1]) / (x[0] + x[1])))))) + x[0]) + x[0]))))) - x[1]) / x[0])))))) / x[0]) - x[1]) / (x[0] + (x[0] / x[0]))))))) + x[0]) + x[0])), Age: 0, Complexity: 91\n",
      "2. Fitness: 0.53834, Fitness_val = 0.50095, Genome: (((x[1] + x[1]) + x[1]) - (((x[1] - (x[0] + (x[1] / (x[1] + ((((x[1] + (((((x[0] + (x[1] + x[1])) - x[0]) / x[0]) - x[1]) / (x[0] + (x[1] / (x[1] + (((x[1] / (x[0] + (x[1] / (((x[1] + x[1]) + x[1]) - (((x[1] - (x[0] + (x[1] / (x[1] + x[1])))) + x[0]) + x[0]))))) - x[1]) / x[0])))))) / x[0]) - x[1]) / (x[0] + (x[0] / x[0]))))))) + x[0]) + x[0])), Age: 0, Complexity: 77\n",
      "3. Fitness: 0.51601, Fitness_val = 0.50098, Genome: (((x[1] + x[1]) + x[1]) - (((x[1] - (x[0] + (x[1] / (x[1] + ((((x[1] + (((((x[0] + (x[1] + x[1])) - x[0]) / x[0]) - x[1]) / (x[0] + (x[1] / (x[1] + x[1]))))) / x[0]) - x[1]) / (x[0] + (x[0] / x[0]))))))) + x[0]) + x[0])), Age: 1, Complexity: 49\n",
      "4. Fitness: 0.53296, Fitness_val = 0.50104, Genome: (((x[1] + x[1]) + x[1]) - (((x[1] - (x[0] + (x[1] / (x[1] + ((((x[1] + (((((x[0] + (x[1] + x[1])) - x[0]) / x[0]) - x[1]) / (x[0] + (x[1] / (x[1] + (((x[1] / (x[0] + (x[1] / (((x[1] + x[1]) + x[1]) - (((x[1] - (x[0] + (x[1] / (x[1] + (x[1] / (x[0] + (x[0] / x[0]))))))) + x[0]) + x[0]))))) - x[1]) / x[0])))))) / x[0]) - x[1]) / (x[0] + (x[0] / x[0]))))))) + x[0]) + x[0])), Age: 4, Complexity: 83\n"
     ]
    },
    {
     "name": "stderr",
     "output_type": "stream",
     "text": [
      " 99%|█████████▊| 592/600 [2:08:16<03:16, 24.53s/it]"
     ]
    },
    {
     "name": "stdout",
     "output_type": "stream",
     "text": [
      "New best result found: Individual(genome=(((x[1] + x[1]) + x[1]) - ((((x[0] + x[1]) - (x[0] + (x[1] / (x[1] + (((((x[0] + x[1]) - x[0]) / x[0]) - x[1]) / x[0]))))) + x[0]) + sin((((((x[0] + (x[1] / (x[1] + (((x[1] / (x[0] + (x[1] / x[1]))) - x[1]) / x[0])))) + x[1]) - ((x[0] - (x[0] + (x[0] / x[0]))) + (x[1] / (x[1] + (x[1] / x[0]))))) / x[0]) - (x[0] / x[0]))))), fitness=np.float64(0.47965456838159476), fitness_val=np.float64(0.44743989498549813), age=0, T=1)\n"
     ]
    },
    {
     "name": "stderr",
     "output_type": "stream",
     "text": [
      " 99%|█████████▉| 596/600 [2:10:01<01:45, 26.33s/it]"
     ]
    },
    {
     "name": "stdout",
     "output_type": "stream",
     "text": [
      "New best result found: Individual(genome=(((x[1] + x[1]) + x[1]) - ((((x[0] + x[1]) - (x[0] + (x[1] / (x[1] + (((((x[0] + x[1]) - x[0]) / x[0]) - x[1]) / x[0]))))) + x[0]) + sin((((((x[0] + (x[1] / (x[1] + (((x[1] / (x[0] + (x[1] / x[1]))) - x[1]) / ((x[0] + x[1]) - (x[0] + (x[1] / (x[1] + (((((x[0] + x[1]) - x[0]) / x[0]) - x[1]) / x[0]))))))))) + x[1]) - ((x[0] - (x[0] + (x[0] / x[0]))) + (x[1] / (x[1] + (x[1] / x[0]))))) / x[0]) - (x[0] / x[0]))))), fitness=np.float64(0.5043679484624831), fitness_val=np.float64(0.44743794347369914), age=0, T=1)\n"
     ]
    },
    {
     "name": "stderr",
     "output_type": "stream",
     "text": [
      "100%|█████████▉| 597/600 [2:10:25<01:17, 25.68s/it]"
     ]
    },
    {
     "name": "stdout",
     "output_type": "stream",
     "text": [
      "New best result found: Individual(genome=(((x[1] + x[1]) + x[1]) - ((((x[0] + x[1]) - (x[0] + (x[1] / (x[1] + (((((x[0] + x[1]) - x[0]) / x[0]) - x[1]) / x[0]))))) + x[0]) + sin((((((x[0] + (x[1] / (x[1] + (((x[1] / (x[0] + (x[1] / (x[1] + (((((x[0] + x[1]) - x[0]) / x[0]) - x[1]) / x[0]))))) - x[1]) / x[0])))) + x[1]) - ((x[0] - (x[0] * (x[0] / x[0]))) + (x[1] / (x[1] + (x[1] / x[0]))))) / x[0]) - (x[0] / x[0]))))), fitness=np.float64(0.43123806973643125), fitness_val=np.float64(0.42533594208223396), age=0, T=1)\n"
     ]
    },
    {
     "name": "stderr",
     "output_type": "stream",
     "text": [
      "100%|█████████▉| 598/600 [2:10:56<00:54, 27.24s/it]"
     ]
    },
    {
     "name": "stdout",
     "output_type": "stream",
     "text": [
      "New best result found: Individual(genome=(((x[1] + x[1]) + x[1]) - ((((x[0] + x[1]) - (x[0] + (x[1] / (x[1] + (((((x[0] + x[1]) - x[0]) / x[0]) - x[1]) / x[0]))))) + x[0]) + sin((((((x[0] + (x[1] / (x[1] + (((x[1] / (x[0] + ((x[1] / (x[0] + (x[1] / (x[1] + (((((x[1] + x[1]) + x[1]) - (((((x[1] + x[1]) + x[1]) - (x[0] + (x[1] / (x[1] + (((((x[0] + x[1]) - x[0]) / x[0]) - x[1]) / x[0]))))) + x[0]) + sin(((((x[0] + x[1]) - ((x[0] - (x[0] + (x[1] / x[0]))) + (x[1] / (x[1] + (x[1] / x[0]))))) / x[0]) - (x[0] / x[0]))))) - x[1]) / x[0]))))) - x[1]))) - x[1]) / x[0])))) + x[1]) - ((x[0] - (x[0] + (x[0] / x[0]))) + (x[1] / (x[1] + (x[1] / x[0]))))) / x[0]) - (x[0] / x[0]))))), fitness=np.float64(0.4855479690089733), fitness_val=np.float64(0.40916292807399507), age=0, T=1)\n"
     ]
    },
    {
     "name": "stderr",
     "output_type": "stream",
     "text": [
      "100%|██████████| 600/600 [2:11:55<00:00, 13.19s/it]"
     ]
    },
    {
     "name": "stdout",
     "output_type": "stream",
     "text": [
      "Initial: 600, Deduplicated: 74, Operation simplified: 0, Constant: 2, Complex: 120, Final: 404\n",
      "Population mean complexity: 76.86386138613861\n",
      "Population mean fitness: 73124241858.52788\n",
      "\n",
      "0. Fitness: 0.50045, Fitness_val = 0.45082, Genome: (((x[1] + x[1]) + x[1]) - ((((x[0] + x[1]) - (x[0] + (x[1] / (x[1] + (((((x[0] + x[1]) - x[0]) / x[0]) - x[1]) / x[0]))))) + x[0]) + sin(((((x[0] + x[1]) - ((x[0] - (x[0] + (x[0] / x[0]))) + (x[1] / (x[1] + (x[1] / x[0]))))) / x[0]) - (x[0] / x[0]))))), Age: 0, Complexity: 134\n",
      "1. Fitness: 0.51177, Fitness_val = 0.49652, Genome: (((x[1] + x[1]) + x[1]) - (((x[1] - (x[0] + (x[1] / (x[1] + ((((x[1] + (((((x[0] + (x[1] + x[1])) - x[0]) / x[0]) - x[1]) / (x[0] + (x[1] / (x[1] + (((x[1] / (x[0] + (x[1] / x[1]))) - x[1]) / x[0])))))) / x[0]) - x[1]) / (x[0] + (x[0] / x[0]))))))) + x[0]) + x[0])), Age: 0, Complexity: 59\n",
      "2. Fitness: 0.51225, Fitness_val = 0.49782, Genome: (((x[1] + x[1]) + x[1]) - (((x[1] - (x[0] + (x[1] / (x[1] + ((((x[1] + (((((x[0] + (x[1] + x[1])) - x[0]) / x[0]) - x[1]) / (x[0] + (x[1] / (x[1] + (((x[1] / (x[0] + (x[1] / x[1]))) - x[1]) / x[0])))))) / x[0]) - x[1]) / (x[0] + ((x[0] + (x[1] / (x[1] + (((((x[0] + x[1]) - x[0]) / x[0]) - x[1]) / x[0])))) / x[0]))))))) + x[0]) + x[0])), Age: 0, Complexity: 75\n",
      "3. Fitness: 0.51380, Fitness_val = 0.49884, Genome: (((x[1] + x[1]) + x[1]) - (((x[1] - (x[0] + (x[1] / (x[1] + ((((x[1] + (((((x[0] + (x[1] + x[1])) - x[0]) / x[0]) - x[1]) / (x[0] + (x[1] / (x[1] + (((x[1] / (x[0] + (x[1] / x[1]))) - x[1]) / x[0])))))) / x[0]) - x[1]) / (x[0] + ((x[0] + (x[1] / (x[1] + (((((x[0] + x[1]) - x[0]) / x[0]) - (x[1] + x[1])) / x[0])))) / x[0]))))))) + x[0]) + x[0])), Age: 1, Complexity: 77\n",
      "4. Fitness: 0.51749, Fitness_val = 0.49902, Genome: (((x[1] + x[1]) + x[1]) - (((x[1] - (x[0] + (x[1] / (x[1] + ((((x[1] + (((((x[0] + (x[1] + x[1])) - x[0]) / x[0]) - x[1]) / (x[0] + (x[1] / (x[1] + (((x[1] / (x[0] + (x[1] / (((x[1] + x[1]) + x[1]) - (((x[1] - (x[0] + (x[1] / (x[1] + (((x[1] + (((x[0] / x[0]) - x[1]) / x[0])) - x[1]) / (x[0] + x[1])))))) + x[0]) + x[0]))))) - x[1]) / x[0])))))) / x[0]) - x[1]) / (x[0] + (x[0] / x[0]))))))) + x[0]) + x[0])), Age: 14, Complexity: 91\n",
      "Best individual: Fitness = 0.4855479690089733: Genome = (((x[1] + x[1]) + x[1]) - ((((x[0] + x[1]) - (x[0] + (x[1] / (x[1] + (((((x[0] + x[1]) - x[0]) / x[0]) - x[1]) / x[0]))))) + x[0]) + sin((((((x[0] + (x[1] / (x[1] + (((x[1] / (x[0] + ((x[1] / (x[0] + (x[1] / (x[1] + (((((x[1] + x[1]) + x[1]) - (((((x[1] + x[1]) + x[1]) - (x[0] + (x[1] / (x[1] + (((((x[0] + x[1]) - x[0]) / x[0]) - x[1]) / x[0]))))) + x[0]) + sin(((((x[0] + x[1]) - ((x[0] - (x[0] + (x[1] / x[0]))) + (x[1] / (x[1] + (x[1] / x[0]))))) / x[0]) - (x[0] / x[0]))))) - x[1]) / x[0]))))) - x[1]))) - x[1]) / x[0])))) + x[1]) - ((x[0] - (x[0] + (x[0] / x[0]))) + (x[1] / (x[1] + (x[1] / x[0]))))) / x[0]) - (x[0] / x[0])))))\n",
      "Top 1: Fitness = 0.5004480272494781 Fitness_val = 0.4508173448273234 Genome = (((x[1] + x[1]) + x[1]) - ((((x[0] + x[1]) - (x[0] + (x[1] / (x[1] + (((((x[0] + x[1]) - x[0]) / x[0]) - x[1]) / x[0]))))) + x[0]) + sin(((((x[0] + x[1]) - ((x[0] - (x[0] + (x[0] / x[0]))) + (x[1] / (x[1] + (x[1] / x[0]))))) / x[0]) - (x[0] / x[0])))))\n",
      "Top 2: Fitness = 0.5117699937224764 Fitness_val = 0.49652451732473474 Genome = (((x[1] + x[1]) + x[1]) - (((x[1] - (x[0] + (x[1] / (x[1] + ((((x[1] + (((((x[0] + (x[1] + x[1])) - x[0]) / x[0]) - x[1]) / (x[0] + (x[1] / (x[1] + (((x[1] / (x[0] + (x[1] / x[1]))) - x[1]) / x[0])))))) / x[0]) - x[1]) / (x[0] + (x[0] / x[0]))))))) + x[0]) + x[0]))\n",
      "Top 3: Fitness = 0.5122519716734287 Fitness_val = 0.4978190747942149 Genome = (((x[1] + x[1]) + x[1]) - (((x[1] - (x[0] + (x[1] / (x[1] + ((((x[1] + (((((x[0] + (x[1] + x[1])) - x[0]) / x[0]) - x[1]) / (x[0] + (x[1] / (x[1] + (((x[1] / (x[0] + (x[1] / x[1]))) - x[1]) / x[0])))))) / x[0]) - x[1]) / (x[0] + ((x[0] + (x[1] / (x[1] + (((((x[0] + x[1]) - x[0]) / x[0]) - x[1]) / x[0])))) / x[0]))))))) + x[0]) + x[0]))\n",
      "Top 4: Fitness = 0.5137965327546273 Fitness_val = 0.49883562363814354 Genome = (((x[1] + x[1]) + x[1]) - (((x[1] - (x[0] + (x[1] / (x[1] + ((((x[1] + (((((x[0] + (x[1] + x[1])) - x[0]) / x[0]) - x[1]) / (x[0] + (x[1] / (x[1] + (((x[1] / (x[0] + (x[1] / x[1]))) - x[1]) / x[0])))))) / x[0]) - x[1]) / (x[0] + ((x[0] + (x[1] / (x[1] + (((((x[0] + x[1]) - x[0]) / x[0]) - (x[1] + x[1])) / x[0])))) / x[0]))))))) + x[0]) + x[0]))\n",
      "Top 5: Fitness = 0.5174857355207286 Fitness_val = 0.4990202632917422 Genome = (((x[1] + x[1]) + x[1]) - (((x[1] - (x[0] + (x[1] / (x[1] + ((((x[1] + (((((x[0] + (x[1] + x[1])) - x[0]) / x[0]) - x[1]) / (x[0] + (x[1] / (x[1] + (((x[1] / (x[0] + (x[1] / (((x[1] + x[1]) + x[1]) - (((x[1] - (x[0] + (x[1] / (x[1] + (((x[1] + (((x[0] / x[0]) - x[1]) / x[0])) - x[1]) / (x[0] + x[1])))))) + x[0]) + x[0]))))) - x[1]) / x[0])))))) / x[0]) - x[1]) / (x[0] + (x[0] / x[0]))))))) + x[0]) + x[0]))\n",
      "Top 6: Fitness = 2.8470708034160994 Fitness_val = 0.49936207010458994 Genome = (((x[1] + x[1]) + x[1]) - (((x[1] - (x[0] + (x[1] / (x[1] + ((((x[1] + (((((x[0] + (x[1] + x[1])) - x[0]) / x[0]) - x[1]) / (x[0] + (x[1] / (x[1] + (((x[1] / (x[0] + (x[1] / (((x[1] + x[1]) + x[1]) - (((x[1] - (x[0] + (x[1] / (x[1] + (((x[1] + ((x[0] - x[1]) / x[0])) - x[1]) / (x[0] + x[1])))))) + x[0]) + x[0]))))) - x[1]) / x[0])))))) / x[0]) - x[1]) / (x[0] + (x[0] / x[0]))))))) + x[0]) + x[0]))\n",
      "Top 7: Fitness = 0.5221917583706833 Fitness_val = 0.5001738797870223 Genome = (((x[1] + x[1]) + x[1]) - (((x[1] - (x[0] + (x[1] / (x[1] + ((((x[1] + (((((x[0] + (x[1] + x[1])) - x[0]) / x[0]) - x[1]) / (x[0] + (x[1] / (x[1] + (((x[1] / (x[0] + (x[1] / (((x[1] + x[1]) + x[1]) - (((x[1] - (x[0] + (x[1] / (x[1] + ((((x[1] + (((((x[0] + (x[1] + x[1])) - x[0]) / x[0]) - x[1]) / (x[0] + (x[1] / (x[1] + (((x[1] / x[0]) - x[1]) / x[0])))))) / x[0]) - ((((x[1] + (((((x[0] + (x[1] + x[1])) - x[0]) / x[0]) - x[1]) / x[0])) / x[0]) - x[1]) / (x[0] + (x[0] / x[0])))) / (x[0] + (x[0] / x[0]))))))) + x[0]) + x[0]))))) - x[1]) / x[0])))))) / x[0]) - x[1]) / (x[0] + (x[0] / x[0]))))))) + x[0]) + x[0]))\n",
      "Top 8: Fitness = 0.5383429242863651 Fitness_val = 0.5009500516580656 Genome = (((x[1] + x[1]) + x[1]) - (((x[1] - (x[0] + (x[1] / (x[1] + ((((x[1] + (((((x[0] + (x[1] + x[1])) - x[0]) / x[0]) - x[1]) / (x[0] + (x[1] / (x[1] + (((x[1] / (x[0] + (x[1] / (((x[1] + x[1]) + x[1]) - (((x[1] - (x[0] + (x[1] / (x[1] + x[1])))) + x[0]) + x[0]))))) - x[1]) / x[0])))))) / x[0]) - x[1]) / (x[0] + (x[0] / x[0]))))))) + x[0]) + x[0]))\n",
      "Top 9: Fitness = 0.5178104625646944 Fitness_val = 0.5009808984500613 Genome = (((x[1] + x[1]) + x[1]) - (((x[1] - (x[0] + (x[1] / (x[1] + ((((x[1] + (((((x[0] + (x[1] + x[1])) - x[0]) / x[0]) - x[1]) / (x[0] + (x[1] / (x[1] + (((x[1] / (x[0] + (x[1] / (((x[1] + x[1]) + x[1]) - (((x[1] - (x[0] + (x[1] / (x[1] + ((((x[1] + (((((x[0] + (x[1] + x[1])) - x[0]) / x[0]) - x[1]) / (x[0] + (x[1] / (x[1] + (((x[1] / x[0]) - x[1]) / x[0])))))) / x[0]) - (x[1] / (x[0] + (x[0] / x[0])))) / (x[0] + (x[0] / x[0]))))))) + x[0]) + x[0]))))) - x[1]) / x[0])))))) / x[0]) - x[1]) / (x[0] + (x[0] / x[0]))))))) + x[0]) + x[0]))\n",
      "Top 10: Fitness = 0.5160137222404376 Fitness_val = 0.5009811584720864 Genome = (((x[1] + x[1]) + x[1]) - (((x[1] - (x[0] + (x[1] / (x[1] + ((((x[1] + (((((x[0] + (x[1] + x[1])) - x[0]) / x[0]) - x[1]) / (x[0] + (x[1] / (x[1] + x[1]))))) / x[0]) - x[1]) / (x[0] + (x[0] / x[0]))))))) + x[0]) + x[0]))\n",
      "Top 11: Fitness = 0.5340596492785976 Fitness_val = 0.5010117356614121 Genome = (((x[1] + x[1]) + x[1]) - (((x[1] - (x[0] + (x[1] / (x[1] + ((((x[1] + (((((x[0] + (x[1] + x[1])) - x[0]) / x[0]) - x[1]) / (x[0] + (x[1] / (x[1] + (((x[1] / (x[0] + (x[1] / (((x[1] + x[1]) + x[1]) - (((x[1] - (x[0] + (x[1] / (x[1] + ((((x[1] + (((((x[0] + (x[1] + x[1])) - x[0]) / x[0]) - x[1]) / (x[0] + (x[1] / (x[1] + (((x[1] / x[0]) - x[1]) / x[0])))))) / x[0]) - ((((x[1] + x[0]) / x[0]) - x[1]) / (x[0] + (x[0] / x[0])))) / (x[0] + (x[0] / x[0]))))))) + x[0]) + x[0]))))) - x[1]) / x[0])))))) / x[0]) - x[1]) / (x[0] + (x[0] / x[0]))))))) + x[0]) + x[0]))\n",
      "Top 12: Fitness = 0.532962694793094 Fitness_val = 0.5010402133991441 Genome = (((x[1] + x[1]) + x[1]) - (((x[1] - (x[0] + (x[1] / (x[1] + ((((x[1] + (((((x[0] + (x[1] + x[1])) - x[0]) / x[0]) - x[1]) / (x[0] + (x[1] / (x[1] + (((x[1] / (x[0] + (x[1] / (((x[1] + x[1]) + x[1]) - (((x[1] - (x[0] + (x[1] / (x[1] + (x[1] / (x[0] + (x[0] / x[0]))))))) + x[0]) + x[0]))))) - x[1]) / x[0])))))) / x[0]) - x[1]) / (x[0] + (x[0] / x[0]))))))) + x[0]) + x[0]))\n",
      "Top 13: Fitness = 0.5165479521319496 Fitness_val = 0.501089371072305 Genome = (((x[1] + x[1]) + x[1]) - (((x[1] - (x[0] + (x[1] / (x[1] + ((((x[1] + (((x[1] / x[0]) - x[1]) / (x[0] + (x[1] / (x[1] + (((x[1] / (x[0] + x[0])) - x[1]) / x[0])))))) / x[0]) - x[1]) / (x[0] + (x[0] / x[0]))))))) + x[0]) + x[0]))\n",
      "Top 14: Fitness = 0.517411971216954 Fitness_val = 0.5011346138269069 Genome = (((x[1] + x[1]) + x[1]) - (((x[1] - (x[0] + (x[1] / (x[1] + ((((x[1] + (((((x[0] + (x[1] + x[1])) - x[0]) / x[0]) - x[1]) / (x[0] + (x[1] / (x[1] + (((x[1] / (x[0] + (x[1] / (((x[1] + x[1]) + x[1]) - (((x[1] - (x[0] + (x[1] / (x[1] + ((((x[1] + ((((((x[1] / (x[0] + (x[1] / (x[1] + (((((x[0] + (x[0] + (x[1] + x[1]))) - x[0]) / x[0]) - x[1]) / x[0]))))) - x[1]) / x[0]) / x[0]) - x[1]) / (x[0] + (x[1] / (x[1] + (((x[1] / x[0]) - x[1]) / x[0])))))) / x[0]) - x[1]) / (x[0] + (x[0] / x[0]))))))) + x[0]) + x[0]))))) - x[1]) / x[0])))))) / x[0]) - x[1]) / (x[0] + (x[0] / x[0]))))))) + x[0]) + x[0]))\n",
      "Top 15: Fitness = 0.5197175551683315 Fitness_val = 0.5012576270521371 Genome = (((x[1] + x[1]) + x[1]) - (((x[1] - (x[0] + (x[1] / (x[1] + ((((x[1] + (((((x[0] + (x[1] + x[1])) - x[0]) / x[0]) - x[1]) / (x[0] + (x[1] / (x[1] + (((x[1] / (x[0] + (x[1] / (((x[1] + x[1]) + x[1]) - (((x[1] - (x[0] + (x[1] / (x[1] + ((((x[1] + (((((x[0] + (x[1] + x[1])) - x[0]) / x[0]) - x[1]) / (x[0] + (x[1] / (x[1] + (((x[1] / x[0]) - x[1]) / x[0])))))) / x[0]) - ((((x[1] + (((((x[0] + (x[1] + x[1])) - x[0]) / x[0]) - x[1]) / (x[0] + (x[1] / (x[1] + (((x[1] / x[0]) - x[1]) / x[0])))))) / x[0]) - x[1]) / (x[0] + (x[0] / x[0])))) / (x[0] + (x[0] / x[0]))))))) + x[0]) + x[0]))))) - x[1]) / x[0])))))) / x[0]) - x[1]) / (x[0] + (x[0] / x[0]))))))) + x[0]) + x[0]))\n",
      "Mean fitness of the population:  73124241858.52788\n",
      "Population size:  404\n",
      "Population mean complexity: 76.86386138613861\n"
     ]
    },
    {
     "name": "stderr",
     "output_type": "stream",
     "text": [
      "\n"
     ]
    }
   ],
   "source": [
    "\n",
    "problem = np.load(\"data/problem_6.npz\")\n",
    "x = problem[\"x\"]\n",
    "y = problem[\"y\"]\n",
    "print(\"x.shape:\", x.shape)\n",
    "print(\"y.shape:\", y.shape)\n",
    "x_train, y_train, x_val, y_val = split_dataset(x,y,0.8)\n",
    "print(\"x_train.shape: \", x_train.shape)\n",
    "print(\"x_val.shape: \", x_val.shape)\n",
    "print(\"y_train.shape: \", y_train.shape)\n",
    "print(\"y_val.shape: \", y_val.shape)\n",
    "my_pop_6 = evolve(x_train,y_train,x_val,y_val,conf)"
   ]
  },
  {
   "cell_type": "code",
   "execution_count": 16,
   "metadata": {},
   "outputs": [
    {
     "name": "stdout",
     "output_type": "stream",
     "text": [
      "x.shape: (2, 5000)\n",
      "y.shape: (5000,)\n",
      "x_train.shape:  (2, 4000)\n",
      "x_val.shape:  (2, 1000)\n",
      "y_train.shape:  (4000,)\n",
      "y_val.shape:  (1000,)\n",
      "Population is creating with a size:  100\n",
      "Population has created.\n",
      "Individual fitness values are assigning\n",
      " Population size: 56\n",
      "Population mean fitness: 2141.743597218953\n",
      "Population mean complexity: 1031.142857142857\n",
      "Top 1: Fitness = 782.04315 Fitness_val = 754.54078 Genome = exp(x[0])\n",
      "Top 2: Fitness = 779.68248 Fitness_val = 757.00905 Genome = tan(tan(abs(tan(abs(cos(abs([0.78516356])))))))\n",
      "Top 3: Fitness = 786.32121 Fitness_val = 763.03167 Genome = tan([1.07150504])\n",
      "Top 4: Fitness = 791.22784 Fitness_val = 767.26238 Genome = exp(sin(sin(abs((sin(([-0.469954] / x[0])) / sin(sin(x[0])))))))\n",
      "Top 5: Fitness = 795.06895 Fitness_val = 770.75395 Genome = abs(x[0])\n"
     ]
    },
    {
     "name": "stderr",
     "output_type": "stream",
     "text": [
      "  0%|          | 1/600 [00:15<2:33:06, 15.34s/it]"
     ]
    },
    {
     "name": "stdout",
     "output_type": "stream",
     "text": [
      "New best result found: Individual(genome=exp(x[1]), fitness=np.float64(782.4370224225), fitness_val=np.float64(753.8593800888364), age=0, T=1)\n"
     ]
    },
    {
     "name": "stderr",
     "output_type": "stream",
     "text": [
      "  0%|          | 2/600 [00:28<2:22:48, 14.33s/it]"
     ]
    },
    {
     "name": "stdout",
     "output_type": "stream",
     "text": [
      "New best result found: Individual(genome=exp([0.99685928]), fitness=np.float64(772.1027945372973), fitness_val=np.float64(750.1717393026648), age=0, T=1)\n"
     ]
    },
    {
     "name": "stderr",
     "output_type": "stream",
     "text": [
      "  0%|          | 3/600 [00:45<2:33:09, 15.39s/it]"
     ]
    },
    {
     "name": "stdout",
     "output_type": "stream",
     "text": [
      "New best result found: Individual(genome=exp([2.02178897]), fitness=np.float64(721.2154437705079), fitness_val=np.float64(706.7918065955769), age=0, T=1)\n"
     ]
    },
    {
     "name": "stderr",
     "output_type": "stream",
     "text": [
      "  2%|▏         | 12/600 [02:43<2:14:43, 13.75s/it]"
     ]
    },
    {
     "name": "stdout",
     "output_type": "stream",
     "text": [
      "New best result found: Individual(genome=exp([2.24175126]), fitness=np.float64(714.1376929578488), fitness_val=np.float64(702.594764860519), age=0, T=1)\n"
     ]
    },
    {
     "name": "stderr",
     "output_type": "stream",
     "text": [
      "  2%|▎         | 15/600 [03:29<2:24:40, 14.84s/it]"
     ]
    },
    {
     "name": "stdout",
     "output_type": "stream",
     "text": [
      "Initial: 596, Deduplicated: 307, Operation simplified: 0, Constant: 193, Complex: 34, Final: 62\n",
      "Population mean complexity: 13.580645161290322\n",
      "Population mean fitness: 5190.997596481508\n",
      "\n",
      "0. Fitness: 748.36756, Fitness_val = 725.13220, Genome: exp(abs(x[1])), Age: 0, Complexity: 15\n",
      "1. Fitness: 748.10254, Fitness_val = 726.24387, Genome: exp(abs(x[0])), Age: 0, Complexity: 15\n",
      "2. Fitness: 782.43702, Fitness_val = 753.85938, Genome: exp(x[1]), Age: 0, Complexity: 10\n",
      "3. Fitness: 782.04315, Fitness_val = 754.54078, Genome: exp(x[0]), Age: 0, Complexity: 10\n",
      "4. Fitness: 783.10531, Fitness_val = 758.73934, Genome: (x[0] * x[0]), Age: 6, Complexity: 3\n"
     ]
    },
    {
     "name": "stderr",
     "output_type": "stream",
     "text": [
      "  5%|▌         | 30/600 [06:41<2:13:27, 14.05s/it]"
     ]
    },
    {
     "name": "stdout",
     "output_type": "stream",
     "text": [
      "Initial: 539, Deduplicated: 282, Operation simplified: 0, Constant: 150, Complex: 1, Final: 106\n",
      "Population mean complexity: 19.830188679245282\n",
      "Population mean fitness: 49569989.00003576\n",
      "\n",
      "0. Fitness: 717.84330, Fitness_val = 706.08598, Genome: ([7.55182281] + exp(x[1])), Age: 0, Complexity: 12\n",
      "1. Fitness: 749.84314, Fitness_val = 720.02794, Genome: (exp(x[0]) + exp(x[1])), Age: 0, Complexity: 21\n",
      "2. Fitness: 748.36756, Fitness_val = 725.13220, Genome: exp(abs(x[1])), Age: 0, Complexity: 15\n",
      "3. Fitness: 748.10254, Fitness_val = 726.24387, Genome: exp(abs(x[0])), Age: 0, Complexity: 15\n",
      "4. Fitness: 741.77074, Fitness_val = 727.30335, Genome: abs((([7.55182281] - x[0]) * x[1])), Age: 4, Complexity: 6\n"
     ]
    },
    {
     "name": "stderr",
     "output_type": "stream",
     "text": [
      "  8%|▊         | 45/600 [11:08<2:57:09, 19.15s/it]"
     ]
    },
    {
     "name": "stdout",
     "output_type": "stream",
     "text": [
      "Initial: 548, Deduplicated: 239, Operation simplified: 0, Constant: 152, Complex: 0, Final: 157\n",
      "Population mean complexity: 17.85987261146497\n",
      "Population mean fitness: 9.31987763291717e+81\n",
      "\n",
      "0. Fitness: 715.75084, Fitness_val = 703.24995, Genome: ([7.55182281] + exp((([0.04945817] * exp(abs(x[1]))) - [-0.0487266]))), Age: 0, Complexity: 102\n",
      "1. Fitness: 716.36648, Fitness_val = 703.57460, Genome: ([7.55182281] + exp((([0.04945817] * x[1]) - [-0.0487266]))), Age: 0, Complexity: 32\n",
      "2. Fitness: 716.54808, Fitness_val = 703.67490, Genome: ([7.55182281] + exp(([0.] * x[1]))), Age: 0, Complexity: 22\n",
      "3. Fitness: 716.85811, Fitness_val = 704.02199, Genome: ([7.55182281] + abs(x[1])), Age: 9, Complexity: 4\n",
      "4. Fitness: 1463220788367995652662387150548222913985248908133521894975540384348779471340046385152.00000, Fitness_val = 704.61229, Genome: ([7.55182281] + exp((([0.04945817] / x[1]) - [-0.0487266]))), Age: 4, Complexity: 32\n"
     ]
    },
    {
     "name": "stderr",
     "output_type": "stream",
     "text": [
      "  8%|▊         | 48/600 [12:20<3:28:20, 22.65s/it]"
     ]
    },
    {
     "name": "stdout",
     "output_type": "stream",
     "text": [
      "New best result found: Individual(genome=[9.50929555], fitness=np.float64(713.9534273910418), fitness_val=np.float64(702.5647693846774), age=0, T=1)\n"
     ]
    },
    {
     "name": "stderr",
     "output_type": "stream",
     "text": [
      "  8%|▊         | 51/600 [13:40<3:58:47, 26.10s/it]"
     ]
    },
    {
     "name": "stdout",
     "output_type": "stream",
     "text": [
      "New best result found: Individual(genome=(((([7.55182281] + exp([-1.69705765])) + abs([0.18280805])) + exp([-1.69705765])) + abs([1.51448149])), fitness=np.float64(713.7785055833222), fitness_val=np.float64(702.5545999567189), age=0, T=1)\n"
     ]
    },
    {
     "name": "stderr",
     "output_type": "stream",
     "text": [
      " 10%|█         | 60/600 [17:51<4:06:44, 27.42s/it]"
     ]
    },
    {
     "name": "stdout",
     "output_type": "stream",
     "text": [
      "Initial: 532, Deduplicated: 138, Operation simplified: 0, Constant: 153, Complex: 7, Final: 234\n",
      "Population mean complexity: 22.641025641025642\n",
      "Population mean fitness: 7.6833405880883645e+31\n",
      "\n",
      "0. Fitness: 714.36827, Fitness_val = 702.65339, Genome: ([9.25078706] + (([0.04945817] * x[0]) - [-0.0487266])), Age: 0, Complexity: 7\n",
      "1. Fitness: 713.24533, Fitness_val = 702.92148, Genome: ([7.55182281] + exp((([0.04945817] * x[0]) - [-0.96954168]))), Age: 0, Complexity: 32\n",
      "2. Fitness: 713.59567, Fitness_val = 703.11500, Genome: ((([1.36981057] + abs(x[1])) + [0.18322183]) + [7.55182281]), Age: 0, Complexity: 8\n",
      "3. Fitness: 715.15192, Fitness_val = 703.14946, Genome: ((([7.73504464] + abs(x[1])) + [0.18322183]) + [0.18322183]), Age: 10, Complexity: 8\n",
      "4. Fitness: 715.15297, Fitness_val = 703.14989, Genome: ([8.10107452] + abs(x[1])), Age: 4, Complexity: 4\n"
     ]
    },
    {
     "name": "stderr",
     "output_type": "stream",
     "text": [
      " 12%|█▎        | 75/600 [24:31<3:52:02, 26.52s/it]"
     ]
    },
    {
     "name": "stdout",
     "output_type": "stream",
     "text": [
      "Initial: 520, Deduplicated: 131, Operation simplified: 0, Constant: 99, Complex: 5, Final: 285\n",
      "Population mean complexity: 19.775438596491227\n",
      "Population mean fitness: 6.308427009167271e+31\n",
      "\n",
      "0. Fitness: 713.79290, Fitness_val = 702.55540, Genome: ((([0.04945817] * (([1.36981057] + abs(x[1])) + [0.18322183])) - (([0.04945817] * (([0.04945817] * x[0]) - [-0.96954168])) - [-0.96954168])) + [10.49768355]), Age: 0, Complexity: 20\n",
      "1. Fitness: 714.26649, Fitness_val = 702.62606, Genome: (([0.04945817] * x[0]) + [9.34743018]), Age: 0, Complexity: 5\n",
      "2. Fitness: 714.36827, Fitness_val = 702.65339, Genome: ([9.25078706] + (([0.04945817] * x[0]) - [-0.0487266])), Age: 0, Complexity: 7\n",
      "3. Fitness: 714.50657, Fitness_val = 702.70032, Genome: ([6.46645641] + exp((([0.04945817] * abs(x[1])) - [-0.96954168]))), Age: 10, Complexity: 37\n",
      "4. Fitness: 713.25997, Fitness_val = 702.80718, Genome: ([7.55182281] + exp((([-0.0299987] * (([0.04945817] * x[0]) - [-0.96954168])) - [-0.96954168]))), Age: 2, Complexity: 52\n"
     ]
    },
    {
     "name": "stderr",
     "output_type": "stream",
     "text": [
      " 15%|█▌        | 90/600 [36:45<6:49:20, 48.16s/it]"
     ]
    },
    {
     "name": "stdout",
     "output_type": "stream",
     "text": [
      "Initial: 538, Deduplicated: 88, Operation simplified: 0, Constant: 119, Complex: 2, Final: 329\n",
      "Population mean complexity: 21.346504559270517\n",
      "Population mean fitness: 2.9387888101133752e+57\n",
      "\n",
      "0. Fitness: 713.79290, Fitness_val = 702.55540, Genome: ((([0.04945817] * (([1.36981057] + abs(x[1])) + [0.18322183])) - (([0.04945817] * (([0.04945817] * x[0]) - [-0.96954168])) - [-0.96954168])) + [10.49768355]), Age: 0, Complexity: 20\n",
      "1. Fitness: 713.47918, Fitness_val = 702.61019, Genome: ((([0.04945817] * (abs(([-0.06359068] + x[0])) - [10.49768355])) - [0.18322183]) + [10.49768355]), Age: 0, Complexity: 12\n",
      "2. Fitness: 713.47357, Fitness_val = 702.61422, Genome: ((([0.04945817] * (abs(([0.81418491] + x[0])) - [10.54714172])) - [0.18322183]) + [10.49768355]), Age: 0, Complexity: 12\n",
      "3. Fitness: 714.26649, Fitness_val = 702.62606, Genome: (([0.04945817] * x[0]) + [9.34743018]), Age: 9, Complexity: 5\n",
      "4. Fitness: 713.96334, Fitness_val = 702.64291, Genome: ((([-0.01552206] * ((((([0.04945817] * (([1.36981057] + abs(x[1])) + [0.18322183])) - ([0.04945817] * abs(x[1]))) + [10.49768355]) * ([1.5530324] + exp(abs(x[0])))) - abs(x[1]))) - [0.18322183]) + [10.49768355]), Age: 7, Complexity: 42\n"
     ]
    },
    {
     "name": "stderr",
     "output_type": "stream",
     "text": [
      " 18%|█▊        | 105/600 [54:11<10:15:32, 74.61s/it]"
     ]
    },
    {
     "name": "stdout",
     "output_type": "stream",
     "text": [
      "Initial: 474, Deduplicated: 85, Operation simplified: 0, Constant: 69, Complex: 0, Final: 320\n",
      "Population mean complexity: 20.090625\n",
      "Population mean fitness: 753.7464349456552\n",
      "\n",
      "0. Fitness: 713.79290, Fitness_val = 702.55540, Genome: ((([0.04945817] * (([1.36981057] + abs(x[1])) + [0.18322183])) - (([0.04945817] * (([0.04945817] * x[0]) - [-0.96954168])) - [-0.96954168])) + [10.49768355]), Age: 0, Complexity: 20\n",
      "1. Fitness: 713.83646, Fitness_val = 702.55557, Genome: ((([0.04945817] * (abs(([0.04945817] * ([1.4561566] + abs(x[1])))) - [10.49768355])) - [0.40570983]) + [10.49768355]), Age: 0, Complexity: 15\n",
      "2. Fitness: 713.78369, Fitness_val = 702.55940, Genome: (((([0.04945817] * ([1.36981057] + abs(([0.04945817] * ([1.36981057] + abs(([0.04945817] * x[1]))))))) * ([-0.88752803] - (([1.36981057] + abs(x[1])) + [0.18322183]))) - ([0.04945817] * (([1.36981057] + abs(x[1])) + [10.49768355]))) + [10.49768355]), Age: 0, Complexity: 33\n",
      "3. Fitness: 713.96288, Fitness_val = 702.56588, Genome: ((([0.04945817] * ([1.36981057] + abs(([0.04945817] * ([1.36981057] + abs(([0.04945817] * x[1]))))))) - [0.18322183]) + [9.61592126]), Age: 1, Complexity: 17\n",
      "4. Fitness: 713.55446, Fitness_val = 702.58279, Genome: ((([-0.37237476] * ([1.36981057] + abs(([0.04945817] * ([1.36981057] + abs(([0.04945817] * x[1]))))))) - [0.18322183]) + [10.49768355]), Age: 6, Complexity: 17\n"
     ]
    },
    {
     "name": "stderr",
     "output_type": "stream",
     "text": [
      " 20%|██        | 120/600 [1:23:04<16:43:52, 125.49s/it]"
     ]
    },
    {
     "name": "stdout",
     "output_type": "stream",
     "text": [
      "Initial: 489, Deduplicated: 60, Operation simplified: 0, Constant: 65, Complex: 0, Final: 364\n",
      "Population mean complexity: 26.557692307692307\n",
      "Population mean fitness: 729.1390715600642\n",
      "\n",
      "0. Fitness: 713.79290, Fitness_val = 702.55540, Genome: ((([0.04945817] * (([1.36981057] + abs(x[1])) + [0.18322183])) - (([0.04945817] * (([0.04945817] * x[0]) - [-0.96954168])) - [-0.96954168])) + [10.49768355]), Age: 0, Complexity: 20\n",
      "1. Fitness: 713.83646, Fitness_val = 702.55557, Genome: ((([0.04945817] * (abs(([0.04945817] * ([1.4561566] + abs(x[1])))) - [10.49768355])) - [0.40570983]) + [10.49768355]), Age: 0, Complexity: 15\n",
      "2. Fitness: 713.78369, Fitness_val = 702.55940, Genome: (((([0.04945817] * ([1.36981057] + abs(([0.04945817] * ([1.36981057] + abs(([0.04945817] * x[1]))))))) * ([-0.88752803] - (([1.36981057] + abs(x[1])) + [0.18322183]))) - ([0.04945817] * (([1.36981057] + abs(x[1])) + [10.49768355]))) + [10.49768355]), Age: 0, Complexity: 33\n",
      "3. Fitness: 713.68751, Fitness_val = 702.56003, Genome: ((([0.04945817] * ([-0.00076769] - (([1.36981057] + abs(x[1])) + [10.49768355]))) - [0.18322183]) + [10.49768355]), Age: 13, Complexity: 14\n",
      "4. Fitness: 713.96288, Fitness_val = 702.56588, Genome: ((([0.04945817] * ([1.36981057] + abs(([0.04945817] * ([1.36981057] + abs(([0.04945817] * x[1]))))))) - [0.18322183]) + [9.61592126]), Age: 16, Complexity: 17\n"
     ]
    },
    {
     "name": "stderr",
     "output_type": "stream",
     "text": [
      " 22%|██▎       | 135/600 [2:07:50<27:18:44, 211.45s/it]"
     ]
    },
    {
     "name": "stdout",
     "output_type": "stream",
     "text": [
      "Initial: 494, Deduplicated: 59, Operation simplified: 0, Constant: 58, Complex: 1, Final: 376\n",
      "Population mean complexity: 40.651595744680854\n",
      "Population mean fitness: 727.360185504531\n",
      "\n",
      "0. Fitness: 713.79290, Fitness_val = 702.55540, Genome: ((([0.04945817] * (([1.36981057] + abs(x[1])) + [0.18322183])) - (([0.04945817] * (([0.04945817] * x[0]) - [-0.96954168])) - [-0.96954168])) + [10.49768355]), Age: 0, Complexity: 20\n",
      "1. Fitness: 713.83646, Fitness_val = 702.55557, Genome: ((([0.04945817] * (abs(([0.04945817] * ([1.4561566] + abs(x[1])))) - [10.49768355])) - [0.40570983]) + [10.49768355]), Age: 0, Complexity: 15\n",
      "2. Fitness: 713.78369, Fitness_val = 702.55940, Genome: (((([0.04945817] * ([1.36981057] + abs(([0.04945817] * ([1.36981057] + abs(([0.04945817] * x[1]))))))) * ([-0.88752803] - (([1.36981057] + abs(x[1])) + [0.18322183]))) - ([0.04945817] * (([1.36981057] + abs(x[1])) + [10.49768355]))) + [10.49768355]), Age: 0, Complexity: 33\n",
      "3. Fitness: 713.78980, Fitness_val = 702.55942, Genome: ((([0.07236904] * ([-0.88752803] - (([1.36981057] + abs(x[1])) + [0.18322183]))) - ([0.04945817] * (([1.36981057] + abs(x[1])) + [10.49768355]))) + [10.49768355]), Age: 13, Complexity: 21\n",
      "4. Fitness: 713.49822, Fitness_val = 702.60131, Genome: ([-0.55910696] + ((abs(([0.04945817] * ([1.36981057] + ([0.04945817] * ([1.36981057] + ([0.04945817] * x[0])))))) - [0.18322183]) + [10.49768355])), Age: 1, Complexity: 18\n"
     ]
    },
    {
     "name": "stderr",
     "output_type": "stream",
     "text": [
      " 24%|██▍       | 147/600 [3:08:43<9:41:35, 77.03s/it]  \n"
     ]
    },
    {
     "ename": "KeyboardInterrupt",
     "evalue": "",
     "output_type": "error",
     "traceback": [
      "\u001b[1;31m---------------------------------------------------------------------------\u001b[0m",
      "\u001b[1;31mKeyboardInterrupt\u001b[0m                         Traceback (most recent call last)",
      "Cell \u001b[1;32mIn[16], line 11\u001b[0m\n\u001b[0;32m      9\u001b[0m \u001b[38;5;28mprint\u001b[39m(\u001b[38;5;124m\"\u001b[39m\u001b[38;5;124my_train.shape: \u001b[39m\u001b[38;5;124m\"\u001b[39m, y_train\u001b[38;5;241m.\u001b[39mshape)\n\u001b[0;32m     10\u001b[0m \u001b[38;5;28mprint\u001b[39m(\u001b[38;5;124m\"\u001b[39m\u001b[38;5;124my_val.shape: \u001b[39m\u001b[38;5;124m\"\u001b[39m, y_val\u001b[38;5;241m.\u001b[39mshape)\n\u001b[1;32m---> 11\u001b[0m my_pop_7 \u001b[38;5;241m=\u001b[39m \u001b[43mevolve\u001b[49m\u001b[43m(\u001b[49m\u001b[43mx_train\u001b[49m\u001b[43m,\u001b[49m\u001b[43my_train\u001b[49m\u001b[43m,\u001b[49m\u001b[43mx_val\u001b[49m\u001b[43m,\u001b[49m\u001b[43my_val\u001b[49m\u001b[43m,\u001b[49m\u001b[43mconf\u001b[49m\u001b[43m)\u001b[49m\n",
      "Cell \u001b[1;32mIn[7], line 75\u001b[0m, in \u001b[0;36mevolve\u001b[1;34m(train_x, train_y, val_x, val_y, conf)\u001b[0m\n\u001b[0;32m     72\u001b[0m             my_population\u001b[38;5;241m.\u001b[39mappend(child)\n\u001b[0;32m     73\u001b[0m             num_succesfull_mut\u001b[38;5;241m+\u001b[39m\u001b[38;5;241m=\u001b[39m\u001b[38;5;241m1\u001b[39m\n\u001b[1;32m---> 75\u001b[0m \u001b[43massign_population_fitness_train\u001b[49m\u001b[43m(\u001b[49m\u001b[43mmy_population\u001b[49m\u001b[43m,\u001b[49m\u001b[43mtrain_x\u001b[49m\u001b[43m,\u001b[49m\u001b[43mtrain_y\u001b[49m\u001b[43m)\u001b[49m\n\u001b[0;32m     76\u001b[0m assign_population_fitness_val(my_population,val_x,val_y)\n\u001b[0;32m     78\u001b[0m \u001b[38;5;66;03m# print(f\"xover: {num_xover}, mut: {num_mut}, succesfull mut: {num_succesfull_mut}\")\u001b[39;00m\n",
      "File \u001b[1;32mc:\\Users\\abayr\\OneDrive\\Desktop\\Computational_Intelligence\\Projects\\CI_project_draft\\src\\utils.py:245\u001b[0m, in \u001b[0;36massign_population_fitness_train\u001b[1;34m(population, x, y)\u001b[0m\n\u001b[0;32m    242\u001b[0m warnings\u001b[38;5;241m.\u001b[39msimplefilter(\u001b[38;5;124m\"\u001b[39m\u001b[38;5;124malways\u001b[39m\u001b[38;5;124m\"\u001b[39m)\n\u001b[0;32m    244\u001b[0m \u001b[38;5;28;01mif\u001b[39;00m individual\u001b[38;5;241m.\u001b[39mfitness \u001b[38;5;129;01mis\u001b[39;00m \u001b[38;5;28;01mNone\u001b[39;00m:\n\u001b[1;32m--> 245\u001b[0m     ind_cost \u001b[38;5;241m=\u001b[39m \u001b[43mcost\u001b[49m\u001b[43m(\u001b[49m\u001b[43mindividual\u001b[49m\u001b[38;5;241;43m.\u001b[39;49m\u001b[43mgenome\u001b[49m\u001b[43m,\u001b[49m\u001b[43m \u001b[49m\u001b[43mx\u001b[49m\u001b[43m,\u001b[49m\u001b[43m \u001b[49m\u001b[43my\u001b[49m\u001b[43m)\u001b[49m\n\u001b[0;32m    246\u001b[0m     \u001b[38;5;28;01mif\u001b[39;00m \u001b[38;5;28mlen\u001b[39m(w) \u001b[38;5;241m==\u001b[39m \u001b[38;5;241m0\u001b[39m:\n\u001b[0;32m    247\u001b[0m         individual\u001b[38;5;241m.\u001b[39mfitness \u001b[38;5;241m=\u001b[39m ind_cost\n",
      "File \u001b[1;32mc:\\Users\\abayr\\OneDrive\\Desktop\\Computational_Intelligence\\Projects\\CI_project_draft\\src\\utils.py:226\u001b[0m, in \u001b[0;36mcost\u001b[1;34m(genome, x, y)\u001b[0m\n\u001b[0;32m    225\u001b[0m \u001b[38;5;28;01mdef\u001b[39;00m \u001b[38;5;21mcost\u001b[39m(genome,x,y):\n\u001b[1;32m--> 226\u001b[0m     predictions \u001b[38;5;241m=\u001b[39m np\u001b[38;5;241m.\u001b[39marray([genome\u001b[38;5;241m.\u001b[39mevaluate(x[:, i]) \u001b[38;5;28;01mfor\u001b[39;00m i \u001b[38;5;129;01min\u001b[39;00m \u001b[38;5;28mrange\u001b[39m(x\u001b[38;5;241m.\u001b[39mshape[\u001b[38;5;241m1\u001b[39m])])\n\u001b[0;32m    227\u001b[0m     mse \u001b[38;5;241m=\u001b[39m np\u001b[38;5;241m.\u001b[39mmean((predictions \u001b[38;5;241m-\u001b[39m y) \u001b[38;5;241m*\u001b[39m\u001b[38;5;241m*\u001b[39m \u001b[38;5;241m2\u001b[39m)\n\u001b[0;32m    228\u001b[0m     \u001b[38;5;28;01mreturn\u001b[39;00m mse\n",
      "File \u001b[1;32mc:\\Users\\abayr\\OneDrive\\Desktop\\Computational_Intelligence\\Projects\\CI_project_draft\\src\\utils.py:226\u001b[0m, in \u001b[0;36m<listcomp>\u001b[1;34m(.0)\u001b[0m\n\u001b[0;32m    225\u001b[0m \u001b[38;5;28;01mdef\u001b[39;00m \u001b[38;5;21mcost\u001b[39m(genome,x,y):\n\u001b[1;32m--> 226\u001b[0m     predictions \u001b[38;5;241m=\u001b[39m np\u001b[38;5;241m.\u001b[39marray([\u001b[43mgenome\u001b[49m\u001b[38;5;241;43m.\u001b[39;49m\u001b[43mevaluate\u001b[49m\u001b[43m(\u001b[49m\u001b[43mx\u001b[49m\u001b[43m[\u001b[49m\u001b[43m:\u001b[49m\u001b[43m,\u001b[49m\u001b[43m \u001b[49m\u001b[43mi\u001b[49m\u001b[43m]\u001b[49m\u001b[43m)\u001b[49m \u001b[38;5;28;01mfor\u001b[39;00m i \u001b[38;5;129;01min\u001b[39;00m \u001b[38;5;28mrange\u001b[39m(x\u001b[38;5;241m.\u001b[39mshape[\u001b[38;5;241m1\u001b[39m])])\n\u001b[0;32m    227\u001b[0m     mse \u001b[38;5;241m=\u001b[39m np\u001b[38;5;241m.\u001b[39mmean((predictions \u001b[38;5;241m-\u001b[39m y) \u001b[38;5;241m*\u001b[39m\u001b[38;5;241m*\u001b[39m \u001b[38;5;241m2\u001b[39m)\n\u001b[0;32m    228\u001b[0m     \u001b[38;5;28;01mreturn\u001b[39;00m mse\n",
      "File \u001b[1;32mc:\\Users\\abayr\\OneDrive\\Desktop\\Computational_Intelligence\\Projects\\CI_project_draft\\src\\node.py:107\u001b[0m, in \u001b[0;36mNode.evaluate\u001b[1;34m(self, x)\u001b[0m\n\u001b[0;32m    104\u001b[0m     \u001b[38;5;66;03m#print(\"tek\",operand_value)\u001b[39;00m\n\u001b[0;32m    105\u001b[0m     \u001b[38;5;28;01mreturn\u001b[39;00m \u001b[38;5;28mself\u001b[39m\u001b[38;5;241m.\u001b[39mvalue(operand_value)\n\u001b[1;32m--> 107\u001b[0m left_value \u001b[38;5;241m=\u001b[39m \u001b[38;5;28;43mself\u001b[39;49m\u001b[38;5;241;43m.\u001b[39;49m\u001b[43mleft\u001b[49m\u001b[38;5;241;43m.\u001b[39;49m\u001b[43mevaluate\u001b[49m\u001b[43m(\u001b[49m\u001b[43mx\u001b[49m\u001b[43m)\u001b[49m\n\u001b[0;32m    108\u001b[0m right_value \u001b[38;5;241m=\u001b[39m \u001b[38;5;28mself\u001b[39m\u001b[38;5;241m.\u001b[39mright\u001b[38;5;241m.\u001b[39mevaluate(x)\n\u001b[0;32m    109\u001b[0m \u001b[38;5;66;03m#print(left_value)\u001b[39;00m\n\u001b[0;32m    110\u001b[0m \u001b[38;5;66;03m#print(right_value)\u001b[39;00m\n",
      "File \u001b[1;32mc:\\Users\\abayr\\OneDrive\\Desktop\\Computational_Intelligence\\Projects\\CI_project_draft\\src\\node.py:107\u001b[0m, in \u001b[0;36mNode.evaluate\u001b[1;34m(self, x)\u001b[0m\n\u001b[0;32m    104\u001b[0m     \u001b[38;5;66;03m#print(\"tek\",operand_value)\u001b[39;00m\n\u001b[0;32m    105\u001b[0m     \u001b[38;5;28;01mreturn\u001b[39;00m \u001b[38;5;28mself\u001b[39m\u001b[38;5;241m.\u001b[39mvalue(operand_value)\n\u001b[1;32m--> 107\u001b[0m left_value \u001b[38;5;241m=\u001b[39m \u001b[38;5;28;43mself\u001b[39;49m\u001b[38;5;241;43m.\u001b[39;49m\u001b[43mleft\u001b[49m\u001b[38;5;241;43m.\u001b[39;49m\u001b[43mevaluate\u001b[49m\u001b[43m(\u001b[49m\u001b[43mx\u001b[49m\u001b[43m)\u001b[49m\n\u001b[0;32m    108\u001b[0m right_value \u001b[38;5;241m=\u001b[39m \u001b[38;5;28mself\u001b[39m\u001b[38;5;241m.\u001b[39mright\u001b[38;5;241m.\u001b[39mevaluate(x)\n\u001b[0;32m    109\u001b[0m \u001b[38;5;66;03m#print(left_value)\u001b[39;00m\n\u001b[0;32m    110\u001b[0m \u001b[38;5;66;03m#print(right_value)\u001b[39;00m\n",
      "File \u001b[1;32mc:\\Users\\abayr\\OneDrive\\Desktop\\Computational_Intelligence\\Projects\\CI_project_draft\\src\\node.py:103\u001b[0m, in \u001b[0;36mNode.evaluate\u001b[1;34m(self, x)\u001b[0m\n\u001b[0;32m    101\u001b[0m \u001b[38;5;66;03m# if it is an operator\u001b[39;00m\n\u001b[0;32m    102\u001b[0m \u001b[38;5;28;01mif\u001b[39;00m \u001b[38;5;28mself\u001b[39m\u001b[38;5;241m.\u001b[39mvalue \u001b[38;5;129;01min\u001b[39;00m \u001b[38;5;28mself\u001b[39m\u001b[38;5;241m.\u001b[39munary_operators:\n\u001b[1;32m--> 103\u001b[0m     operand_value \u001b[38;5;241m=\u001b[39m \u001b[38;5;28;43mself\u001b[39;49m\u001b[38;5;241;43m.\u001b[39;49m\u001b[43mleft\u001b[49m\u001b[38;5;241;43m.\u001b[39;49m\u001b[43mevaluate\u001b[49m\u001b[43m(\u001b[49m\u001b[43mx\u001b[49m\u001b[43m)\u001b[49m\n\u001b[0;32m    104\u001b[0m     \u001b[38;5;66;03m#print(\"tek\",operand_value)\u001b[39;00m\n\u001b[0;32m    105\u001b[0m     \u001b[38;5;28;01mreturn\u001b[39;00m \u001b[38;5;28mself\u001b[39m\u001b[38;5;241m.\u001b[39mvalue(operand_value)\n",
      "File \u001b[1;32mc:\\Users\\abayr\\OneDrive\\Desktop\\Computational_Intelligence\\Projects\\CI_project_draft\\src\\node.py:108\u001b[0m, in \u001b[0;36mNode.evaluate\u001b[1;34m(self, x)\u001b[0m\n\u001b[0;32m    105\u001b[0m     \u001b[38;5;28;01mreturn\u001b[39;00m \u001b[38;5;28mself\u001b[39m\u001b[38;5;241m.\u001b[39mvalue(operand_value)\n\u001b[0;32m    107\u001b[0m left_value \u001b[38;5;241m=\u001b[39m \u001b[38;5;28mself\u001b[39m\u001b[38;5;241m.\u001b[39mleft\u001b[38;5;241m.\u001b[39mevaluate(x)\n\u001b[1;32m--> 108\u001b[0m right_value \u001b[38;5;241m=\u001b[39m \u001b[38;5;28;43mself\u001b[39;49m\u001b[38;5;241;43m.\u001b[39;49m\u001b[43mright\u001b[49m\u001b[38;5;241;43m.\u001b[39;49m\u001b[43mevaluate\u001b[49m\u001b[43m(\u001b[49m\u001b[43mx\u001b[49m\u001b[43m)\u001b[49m\n\u001b[0;32m    109\u001b[0m \u001b[38;5;66;03m#print(left_value)\u001b[39;00m\n\u001b[0;32m    110\u001b[0m \u001b[38;5;66;03m#print(right_value)\u001b[39;00m\n\u001b[0;32m    111\u001b[0m \u001b[38;5;28;01mreturn\u001b[39;00m \u001b[38;5;28mself\u001b[39m\u001b[38;5;241m.\u001b[39mvalue(left_value, right_value)\n",
      "File \u001b[1;32mc:\\Users\\abayr\\OneDrive\\Desktop\\Computational_Intelligence\\Projects\\CI_project_draft\\src\\node.py:108\u001b[0m, in \u001b[0;36mNode.evaluate\u001b[1;34m(self, x)\u001b[0m\n\u001b[0;32m    105\u001b[0m     \u001b[38;5;28;01mreturn\u001b[39;00m \u001b[38;5;28mself\u001b[39m\u001b[38;5;241m.\u001b[39mvalue(operand_value)\n\u001b[0;32m    107\u001b[0m left_value \u001b[38;5;241m=\u001b[39m \u001b[38;5;28mself\u001b[39m\u001b[38;5;241m.\u001b[39mleft\u001b[38;5;241m.\u001b[39mevaluate(x)\n\u001b[1;32m--> 108\u001b[0m right_value \u001b[38;5;241m=\u001b[39m \u001b[38;5;28;43mself\u001b[39;49m\u001b[38;5;241;43m.\u001b[39;49m\u001b[43mright\u001b[49m\u001b[38;5;241;43m.\u001b[39;49m\u001b[43mevaluate\u001b[49m\u001b[43m(\u001b[49m\u001b[43mx\u001b[49m\u001b[43m)\u001b[49m\n\u001b[0;32m    109\u001b[0m \u001b[38;5;66;03m#print(left_value)\u001b[39;00m\n\u001b[0;32m    110\u001b[0m \u001b[38;5;66;03m#print(right_value)\u001b[39;00m\n\u001b[0;32m    111\u001b[0m \u001b[38;5;28;01mreturn\u001b[39;00m \u001b[38;5;28mself\u001b[39m\u001b[38;5;241m.\u001b[39mvalue(left_value, right_value)\n",
      "    \u001b[1;31m[... skipping similar frames: Node.evaluate at line 108 (4 times)]\u001b[0m\n",
      "File \u001b[1;32mc:\\Users\\abayr\\OneDrive\\Desktop\\Computational_Intelligence\\Projects\\CI_project_draft\\src\\node.py:107\u001b[0m, in \u001b[0;36mNode.evaluate\u001b[1;34m(self, x)\u001b[0m\n\u001b[0;32m    104\u001b[0m     \u001b[38;5;66;03m#print(\"tek\",operand_value)\u001b[39;00m\n\u001b[0;32m    105\u001b[0m     \u001b[38;5;28;01mreturn\u001b[39;00m \u001b[38;5;28mself\u001b[39m\u001b[38;5;241m.\u001b[39mvalue(operand_value)\n\u001b[1;32m--> 107\u001b[0m left_value \u001b[38;5;241m=\u001b[39m \u001b[38;5;28;43mself\u001b[39;49m\u001b[38;5;241;43m.\u001b[39;49m\u001b[43mleft\u001b[49m\u001b[38;5;241;43m.\u001b[39;49m\u001b[43mevaluate\u001b[49m\u001b[43m(\u001b[49m\u001b[43mx\u001b[49m\u001b[43m)\u001b[49m\n\u001b[0;32m    108\u001b[0m right_value \u001b[38;5;241m=\u001b[39m \u001b[38;5;28mself\u001b[39m\u001b[38;5;241m.\u001b[39mright\u001b[38;5;241m.\u001b[39mevaluate(x)\n\u001b[0;32m    109\u001b[0m \u001b[38;5;66;03m#print(left_value)\u001b[39;00m\n\u001b[0;32m    110\u001b[0m \u001b[38;5;66;03m#print(right_value)\u001b[39;00m\n",
      "    \u001b[1;31m[... skipping similar frames: Node.evaluate at line 108 (1 times)]\u001b[0m\n",
      "File \u001b[1;32mc:\\Users\\abayr\\OneDrive\\Desktop\\Computational_Intelligence\\Projects\\CI_project_draft\\src\\node.py:107\u001b[0m, in \u001b[0;36mNode.evaluate\u001b[1;34m(self, x)\u001b[0m\n\u001b[0;32m    104\u001b[0m     \u001b[38;5;66;03m#print(\"tek\",operand_value)\u001b[39;00m\n\u001b[0;32m    105\u001b[0m     \u001b[38;5;28;01mreturn\u001b[39;00m \u001b[38;5;28mself\u001b[39m\u001b[38;5;241m.\u001b[39mvalue(operand_value)\n\u001b[1;32m--> 107\u001b[0m left_value \u001b[38;5;241m=\u001b[39m \u001b[38;5;28;43mself\u001b[39;49m\u001b[38;5;241;43m.\u001b[39;49m\u001b[43mleft\u001b[49m\u001b[38;5;241;43m.\u001b[39;49m\u001b[43mevaluate\u001b[49m\u001b[43m(\u001b[49m\u001b[43mx\u001b[49m\u001b[43m)\u001b[49m\n\u001b[0;32m    108\u001b[0m right_value \u001b[38;5;241m=\u001b[39m \u001b[38;5;28mself\u001b[39m\u001b[38;5;241m.\u001b[39mright\u001b[38;5;241m.\u001b[39mevaluate(x)\n\u001b[0;32m    109\u001b[0m \u001b[38;5;66;03m#print(left_value)\u001b[39;00m\n\u001b[0;32m    110\u001b[0m \u001b[38;5;66;03m#print(right_value)\u001b[39;00m\n",
      "File \u001b[1;32mc:\\Users\\abayr\\OneDrive\\Desktop\\Computational_Intelligence\\Projects\\CI_project_draft\\src\\node.py:107\u001b[0m, in \u001b[0;36mNode.evaluate\u001b[1;34m(self, x)\u001b[0m\n\u001b[0;32m    104\u001b[0m     \u001b[38;5;66;03m#print(\"tek\",operand_value)\u001b[39;00m\n\u001b[0;32m    105\u001b[0m     \u001b[38;5;28;01mreturn\u001b[39;00m \u001b[38;5;28mself\u001b[39m\u001b[38;5;241m.\u001b[39mvalue(operand_value)\n\u001b[1;32m--> 107\u001b[0m left_value \u001b[38;5;241m=\u001b[39m \u001b[38;5;28;43mself\u001b[39;49m\u001b[38;5;241;43m.\u001b[39;49m\u001b[43mleft\u001b[49m\u001b[38;5;241;43m.\u001b[39;49m\u001b[43mevaluate\u001b[49m\u001b[43m(\u001b[49m\u001b[43mx\u001b[49m\u001b[43m)\u001b[49m\n\u001b[0;32m    108\u001b[0m right_value \u001b[38;5;241m=\u001b[39m \u001b[38;5;28mself\u001b[39m\u001b[38;5;241m.\u001b[39mright\u001b[38;5;241m.\u001b[39mevaluate(x)\n\u001b[0;32m    109\u001b[0m \u001b[38;5;66;03m#print(left_value)\u001b[39;00m\n\u001b[0;32m    110\u001b[0m \u001b[38;5;66;03m#print(right_value)\u001b[39;00m\n",
      "File \u001b[1;32mc:\\Users\\abayr\\OneDrive\\Desktop\\Computational_Intelligence\\Projects\\CI_project_draft\\src\\node.py:108\u001b[0m, in \u001b[0;36mNode.evaluate\u001b[1;34m(self, x)\u001b[0m\n\u001b[0;32m    105\u001b[0m     \u001b[38;5;28;01mreturn\u001b[39;00m \u001b[38;5;28mself\u001b[39m\u001b[38;5;241m.\u001b[39mvalue(operand_value)\n\u001b[0;32m    107\u001b[0m left_value \u001b[38;5;241m=\u001b[39m \u001b[38;5;28mself\u001b[39m\u001b[38;5;241m.\u001b[39mleft\u001b[38;5;241m.\u001b[39mevaluate(x)\n\u001b[1;32m--> 108\u001b[0m right_value \u001b[38;5;241m=\u001b[39m \u001b[38;5;28;43mself\u001b[39;49m\u001b[38;5;241;43m.\u001b[39;49m\u001b[43mright\u001b[49m\u001b[38;5;241;43m.\u001b[39;49m\u001b[43mevaluate\u001b[49m\u001b[43m(\u001b[49m\u001b[43mx\u001b[49m\u001b[43m)\u001b[49m\n\u001b[0;32m    109\u001b[0m \u001b[38;5;66;03m#print(left_value)\u001b[39;00m\n\u001b[0;32m    110\u001b[0m \u001b[38;5;66;03m#print(right_value)\u001b[39;00m\n\u001b[0;32m    111\u001b[0m \u001b[38;5;28;01mreturn\u001b[39;00m \u001b[38;5;28mself\u001b[39m\u001b[38;5;241m.\u001b[39mvalue(left_value, right_value)\n",
      "File \u001b[1;32mc:\\Users\\abayr\\OneDrive\\Desktop\\Computational_Intelligence\\Projects\\CI_project_draft\\src\\node.py:95\u001b[0m, in \u001b[0;36mNode.evaluate\u001b[1;34m(self, x)\u001b[0m\n\u001b[0;32m     89\u001b[0m \u001b[38;5;28;01mdef\u001b[39;00m \u001b[38;5;21mevaluate\u001b[39m(\u001b[38;5;28mself\u001b[39m,x\u001b[38;5;241m=\u001b[39m\u001b[38;5;28;01mNone\u001b[39;00m):\n\u001b[0;32m     90\u001b[0m     \u001b[38;5;66;03m# first check if it is an operator \u001b[39;00m\n\u001b[0;32m     91\u001b[0m     \u001b[38;5;66;03m# if not proceed\u001b[39;00m\n\u001b[0;32m     93\u001b[0m     \u001b[38;5;28;01mif\u001b[39;00m \u001b[38;5;129;01mnot\u001b[39;00m \u001b[38;5;28mself\u001b[39m\u001b[38;5;241m.\u001b[39mis_operator(\u001b[38;5;28mself\u001b[39m\u001b[38;5;241m.\u001b[39mvalue):\n\u001b[0;32m     94\u001b[0m         \u001b[38;5;66;03m#print(\"index\",self.feature_index)\u001b[39;00m\n\u001b[1;32m---> 95\u001b[0m         \u001b[38;5;28;01mif\u001b[39;00m \u001b[38;5;28;43mself\u001b[39;49m\u001b[38;5;241;43m.\u001b[39;49m\u001b[43mfeature_index\u001b[49m\u001b[38;5;241;43m!=\u001b[39;49m\u001b[43m \u001b[49m\u001b[38;5;28;43;01mNone\u001b[39;49;00m:\n\u001b[0;32m     96\u001b[0m             \u001b[38;5;66;03m#print(\"ben inputun indexiyim\")\u001b[39;00m\n\u001b[0;32m     97\u001b[0m             \u001b[38;5;28;01mreturn\u001b[39;00m x[\u001b[38;5;28mself\u001b[39m\u001b[38;5;241m.\u001b[39mfeature_index]\n\u001b[0;32m     98\u001b[0m         \u001b[38;5;28;01melse\u001b[39;00m:\n\u001b[0;32m     99\u001b[0m             \u001b[38;5;66;03m#print(\"ben bir sayıyım\")\u001b[39;00m\n",
      "\u001b[1;31mKeyboardInterrupt\u001b[0m: "
     ]
    }
   ],
   "source": [
    "problem = np.load(\"data/problem_7.npz\")\n",
    "x = problem[\"x\"]\n",
    "y = problem[\"y\"]\n",
    "print(\"x.shape:\", x.shape)\n",
    "print(\"y.shape:\", y.shape)\n",
    "x_train, y_train, x_val, y_val = split_dataset(x,y,0.8)\n",
    "print(\"x_train.shape: \", x_train.shape)\n",
    "print(\"x_val.shape: \", x_val.shape)\n",
    "print(\"y_train.shape: \", y_train.shape)\n",
    "print(\"y_val.shape: \", y_val.shape)\n",
    "my_pop_7 = evolve(x_train,y_train,x_val,y_val,conf)\n"
   ]
  },
  {
   "cell_type": "code",
   "execution_count": 17,
   "metadata": {},
   "outputs": [
    {
     "name": "stdout",
     "output_type": "stream",
     "text": [
      "x.shape: (6, 50000)\n",
      "y.shape: (50000,)\n",
      "x_train.shape:  (6, 40000)\n",
      "x_val.shape:  (6, 10000)\n",
      "y_train.shape:  (40000,)\n",
      "y_val.shape:  (10000,)\n",
      "Population is creating with a size:  100\n",
      "Population has created.\n",
      "Individual fitness values are assigning\n"
     ]
    },
    {
     "ename": "MemoryError",
     "evalue": "Unable to allocate 11.9 GiB for an array with shape (40000, 40000) and data type float64",
     "output_type": "error",
     "traceback": [
      "\u001b[1;31m---------------------------------------------------------------------------\u001b[0m",
      "\u001b[1;31mMemoryError\u001b[0m                               Traceback (most recent call last)",
      "Cell \u001b[1;32mIn[17], line 11\u001b[0m\n\u001b[0;32m      9\u001b[0m \u001b[38;5;28mprint\u001b[39m(\u001b[38;5;124m\"\u001b[39m\u001b[38;5;124my_train.shape: \u001b[39m\u001b[38;5;124m\"\u001b[39m, y_train\u001b[38;5;241m.\u001b[39mshape)\n\u001b[0;32m     10\u001b[0m \u001b[38;5;28mprint\u001b[39m(\u001b[38;5;124m\"\u001b[39m\u001b[38;5;124my_val.shape: \u001b[39m\u001b[38;5;124m\"\u001b[39m, y_val\u001b[38;5;241m.\u001b[39mshape)\n\u001b[1;32m---> 11\u001b[0m my_pop_8 \u001b[38;5;241m=\u001b[39m \u001b[43mevolve\u001b[49m\u001b[43m(\u001b[49m\u001b[43mx_train\u001b[49m\u001b[43m,\u001b[49m\u001b[43my_train\u001b[49m\u001b[43m,\u001b[49m\u001b[43mx_val\u001b[49m\u001b[43m,\u001b[49m\u001b[43my_val\u001b[49m\u001b[43m,\u001b[49m\u001b[43mconf\u001b[49m\u001b[43m)\u001b[49m\n",
      "Cell \u001b[1;32mIn[7], line 22\u001b[0m, in \u001b[0;36mevolve\u001b[1;34m(train_x, train_y, val_x, val_y, conf)\u001b[0m\n\u001b[0;32m     20\u001b[0m \u001b[38;5;28mprint\u001b[39m(\u001b[38;5;124m\"\u001b[39m\u001b[38;5;124mPopulation has created.\u001b[39m\u001b[38;5;124m\"\u001b[39m)\n\u001b[0;32m     21\u001b[0m \u001b[38;5;28mprint\u001b[39m(\u001b[38;5;124m\"\u001b[39m\u001b[38;5;124mIndividual fitness values are assigning\u001b[39m\u001b[38;5;124m\"\u001b[39m)\n\u001b[1;32m---> 22\u001b[0m \u001b[43massign_population_fitness_train\u001b[49m\u001b[43m(\u001b[49m\u001b[43mmy_population\u001b[49m\u001b[43m,\u001b[49m\u001b[43mtrain_x\u001b[49m\u001b[43m,\u001b[49m\u001b[43mtrain_y\u001b[49m\u001b[43m)\u001b[49m\n\u001b[0;32m     23\u001b[0m assign_population_fitness_val(my_population,val_x,val_y)\n\u001b[0;32m     24\u001b[0m \u001b[38;5;28mprint\u001b[39m(\u001b[38;5;124mf\u001b[39m\u001b[38;5;124m\"\u001b[39m\u001b[38;5;124m Population size: \u001b[39m\u001b[38;5;132;01m{\u001b[39;00m\u001b[38;5;28mlen\u001b[39m(my_population)\u001b[38;5;132;01m}\u001b[39;00m\u001b[38;5;124m\"\u001b[39m)\n",
      "File \u001b[1;32mc:\\Users\\abayr\\OneDrive\\Desktop\\Computational_Intelligence\\Projects\\CI_project_draft\\src\\utils.py:245\u001b[0m, in \u001b[0;36massign_population_fitness_train\u001b[1;34m(population, x, y)\u001b[0m\n\u001b[0;32m    242\u001b[0m warnings\u001b[38;5;241m.\u001b[39msimplefilter(\u001b[38;5;124m\"\u001b[39m\u001b[38;5;124malways\u001b[39m\u001b[38;5;124m\"\u001b[39m)\n\u001b[0;32m    244\u001b[0m \u001b[38;5;28;01mif\u001b[39;00m individual\u001b[38;5;241m.\u001b[39mfitness \u001b[38;5;129;01mis\u001b[39;00m \u001b[38;5;28;01mNone\u001b[39;00m:\n\u001b[1;32m--> 245\u001b[0m     ind_cost \u001b[38;5;241m=\u001b[39m \u001b[43mcost\u001b[49m\u001b[43m(\u001b[49m\u001b[43mindividual\u001b[49m\u001b[38;5;241;43m.\u001b[39;49m\u001b[43mgenome\u001b[49m\u001b[43m,\u001b[49m\u001b[43m \u001b[49m\u001b[43mx\u001b[49m\u001b[43m,\u001b[49m\u001b[43m \u001b[49m\u001b[43my\u001b[49m\u001b[43m)\u001b[49m\n\u001b[0;32m    246\u001b[0m     \u001b[38;5;28;01mif\u001b[39;00m \u001b[38;5;28mlen\u001b[39m(w) \u001b[38;5;241m==\u001b[39m \u001b[38;5;241m0\u001b[39m:\n\u001b[0;32m    247\u001b[0m         individual\u001b[38;5;241m.\u001b[39mfitness \u001b[38;5;241m=\u001b[39m ind_cost\n",
      "File \u001b[1;32mc:\\Users\\abayr\\OneDrive\\Desktop\\Computational_Intelligence\\Projects\\CI_project_draft\\src\\utils.py:227\u001b[0m, in \u001b[0;36mcost\u001b[1;34m(genome, x, y)\u001b[0m\n\u001b[0;32m    225\u001b[0m \u001b[38;5;28;01mdef\u001b[39;00m \u001b[38;5;21mcost\u001b[39m(genome,x,y):\n\u001b[0;32m    226\u001b[0m     predictions \u001b[38;5;241m=\u001b[39m np\u001b[38;5;241m.\u001b[39marray([genome\u001b[38;5;241m.\u001b[39mevaluate(x[:, i]) \u001b[38;5;28;01mfor\u001b[39;00m i \u001b[38;5;129;01min\u001b[39;00m \u001b[38;5;28mrange\u001b[39m(x\u001b[38;5;241m.\u001b[39mshape[\u001b[38;5;241m1\u001b[39m])])\n\u001b[1;32m--> 227\u001b[0m     mse \u001b[38;5;241m=\u001b[39m np\u001b[38;5;241m.\u001b[39mmean(\u001b[43m(\u001b[49m\u001b[43mpredictions\u001b[49m\u001b[43m \u001b[49m\u001b[38;5;241;43m-\u001b[39;49m\u001b[43m \u001b[49m\u001b[43my\u001b[49m\u001b[43m)\u001b[49m\u001b[43m \u001b[49m\u001b[38;5;241;43m*\u001b[39;49m\u001b[38;5;241;43m*\u001b[39;49m\u001b[43m \u001b[49m\u001b[38;5;241;43m2\u001b[39;49m)\n\u001b[0;32m    228\u001b[0m     \u001b[38;5;28;01mreturn\u001b[39;00m mse\n",
      "\u001b[1;31mMemoryError\u001b[0m: Unable to allocate 11.9 GiB for an array with shape (40000, 40000) and data type float64"
     ]
    }
   ],
   "source": [
    "\n",
    "problem = np.load(\"data/problem_8.npz\")\n",
    "x = problem[\"x\"]\n",
    "y = problem[\"y\"]\n",
    "print(\"x.shape:\", x.shape)\n",
    "print(\"y.shape:\", y.shape)\n",
    "x_train, y_train, x_val, y_val = split_dataset(x,y,0.8)\n",
    "print(\"x_train.shape: \", x_train.shape)\n",
    "print(\"x_val.shape: \", x_val.shape)\n",
    "print(\"y_train.shape: \", y_train.shape)\n",
    "print(\"y_val.shape: \", y_val.shape)\n",
    "my_pop_8 = evolve(x_train,y_train,x_val,y_val,conf)\n"
   ]
  },
  {
   "cell_type": "code",
   "execution_count": null,
   "metadata": {},
   "outputs": [],
   "source": []
  },
  {
   "cell_type": "code",
   "execution_count": null,
   "metadata": {},
   "outputs": [],
   "source": []
  }
 ],
 "metadata": {
  "kernelspec": {
   "display_name": "ci",
   "language": "python",
   "name": "python3"
  },
  "language_info": {
   "codemirror_mode": {
    "name": "ipython",
    "version": 3
   },
   "file_extension": ".py",
   "mimetype": "text/x-python",
   "name": "python",
   "nbconvert_exporter": "python",
   "pygments_lexer": "ipython3",
   "version": "3.10.15"
  }
 },
 "nbformat": 4,
 "nbformat_minor": 2
}
