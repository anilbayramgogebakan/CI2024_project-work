{
 "cells": [
  {
   "cell_type": "code",
   "execution_count": 1,
   "metadata": {},
   "outputs": [],
   "source": [
    "import numpy as np\n",
    "from src.utils import *\n",
    "from tqdm import tqdm\n",
    "\n",
    "operators=[np.add, np.subtract, np.multiply, np.sin, np.cos, np.exp]\n",
    "one_arg_op=[np.sin, np.cos, np.exp]"
   ]
  },
  {
   "cell_type": "code",
   "execution_count": 14,
   "metadata": {},
   "outputs": [
    {
     "name": "stdout",
     "output_type": "stream",
     "text": [
      "x.shape: (2, 1000)\n",
      "y.shape: (1000,)\n"
     ]
    }
   ],
   "source": [
    "problem_0 = np.load(\"data/problem_0.npz\")\n",
    "x = problem_0[\"x\"]\n",
    "y = problem_0[\"y\"]\n",
    "print(\"x.shape:\", x.shape)\n",
    "print(\"y.shape:\", y.shape)"
   ]
  },
  {
   "cell_type": "code",
   "execution_count": 15,
   "metadata": {},
   "outputs": [],
   "source": [
    "NUM_POPULATION = 60\n",
    "my_population = create_population(NUM_POPULATION,5,x.shape[0])"
   ]
  },
  {
   "cell_type": "code",
   "execution_count": 16,
   "metadata": {},
   "outputs": [
    {
     "name": "stdout",
     "output_type": "stream",
     "text": [
      "59\n",
      "Cost population:  6.678978862885219e+21\n",
      "Best cost:  1.8910558431660756\n"
     ]
    }
   ],
   "source": [
    "cost_pop = cost_population(my_population,x,y)\n",
    "print(len(my_population))\n",
    "print(\"Cost population: \", cost_pop.mean())\n",
    "print(\"Best cost: \", cost_pop.min())"
   ]
  },
  {
   "cell_type": "code",
   "execution_count": 17,
   "metadata": {},
   "outputs": [
    {
     "name": "stdout",
     "output_type": "stream",
     "text": [
      "Best individual:  sin(x[0])\n"
     ]
    }
   ],
   "source": [
    "min_index = np.argmin(cost_pop)\n",
    "print(\"Best individual: \", my_population[min_index])"
   ]
  },
  {
   "cell_type": "code",
   "execution_count": 26,
   "metadata": {},
   "outputs": [
    {
     "name": "stderr",
     "output_type": "stream",
     "text": [
      "100%|██████████| 21/21 [00:03<00:00,  5.71it/s]\n"
     ]
    }
   ],
   "source": [
    "NUM_GENERATIONS = 21\n",
    "DEDUPE_INTERVAL = 2\n",
    "operators=[np.add, np.subtract, np.multiply, np.sin, np.cos, np.exp]\n",
    "one_arg_op=[np.sin, np.cos, np.exp]\n",
    "XOVER = 0.5\n",
    "MUTATION = 0.5\n",
    "\n",
    "for generation in tqdm(range(NUM_GENERATIONS)):\n",
    "    cost_pop = cost_population(my_population,x,y)\n",
    "    best_ind, worst_ind = tournament_selection(cost_pop,15)\n",
    "    \n",
    "    while len(my_population) - len(worst_ind) <= NUM_POPULATION:\n",
    "        if random.random() < XOVER:\n",
    "            # Xover the best individual and replace worst individuals\n",
    "            parent1 = my_population[best_ind[np.random.choice(len(best_ind))]]\n",
    "            parent2 = my_population[best_ind[np.random.choice(len(best_ind))]]\n",
    "            child1, child2 = crossover(parent1,parent2)\n",
    "            my_population.append(child1)\n",
    "            my_population.append(child2)\n",
    "\n",
    "        if random.random() < MUTATION:\n",
    "            # Mutate best individuals and replace worst individuals\n",
    "            parent = my_population[best_ind[np.random.choice(len(best_ind))]]\n",
    "            child = mutation(parent, x.shape[0])\n",
    "            my_population.append(child)\n",
    "    for ind in sorted(worst_ind, reverse=True):\n",
    "        del my_population[ind]\n",
    "        \n",
    "    # Deduplicate every few iterations\n",
    "    if generation % DEDUPE_INTERVAL == 0:\n",
    "        print(\"Deduplicating population\")\n",
    "        my_population = list(dict.fromkeys(my_population))"
   ]
  },
  {
   "cell_type": "code",
   "execution_count": 24,
   "metadata": {},
   "outputs": [
    {
     "name": "stdout",
     "output_type": "stream",
     "text": [
      "my_population.shape: 61\n",
      "Cost population:  0.5906985414885839\n",
      "Best cost:  0.01067566400550203\n"
     ]
    }
   ],
   "source": [
    "print(\"my_population.shape:\", len(my_population))\n",
    "cost_pop = cost_population(my_population,x,y)\n",
    "print(\"Cost population: \", cost_pop.mean())\n",
    "print(\"Best cost: \", cost_pop.min())"
   ]
  },
  {
   "cell_type": "code",
   "execution_count": 25,
   "metadata": {},
   "outputs": [
    {
     "name": "stdout",
     "output_type": "stream",
     "text": [
      "Best individual:  x[0]\n"
     ]
    }
   ],
   "source": [
    "min_index = np.argmin(cost_pop)\n",
    "print(\"Best individual: \", my_population[min_index])"
   ]
  },
  {
   "cell_type": "code",
   "execution_count": 21,
   "metadata": {},
   "outputs": [
    {
     "name": "stdout",
     "output_type": "stream",
     "text": [
      "Individual:  x[0]\n",
      "Cost:  0.01067566400550203\n",
      "\n",
      "Individual:  x[0]\n",
      "Cost:  0.01067566400550203\n",
      "\n",
      "Individual:  x[0]\n",
      "Cost:  0.01067566400550203\n",
      "\n",
      "Individual:  x[0]\n",
      "Cost:  0.01067566400550203\n",
      "\n",
      "Individual:  x[0]\n",
      "Cost:  0.01067566400550203\n",
      "\n",
      "Individual:  x[0]\n",
      "Cost:  0.01067566400550203\n",
      "\n",
      "Individual:  x[0]\n",
      "Cost:  0.01067566400550203\n",
      "\n",
      "Individual:  x[0]\n",
      "Cost:  0.01067566400550203\n",
      "\n",
      "Individual:  x[0]\n",
      "Cost:  0.01067566400550203\n",
      "\n",
      "Individual:  x[0]\n",
      "Cost:  0.01067566400550203\n",
      "\n",
      "Individual:  x[0]\n",
      "Cost:  0.01067566400550203\n",
      "\n",
      "Individual:  x[0]\n",
      "Cost:  0.01067566400550203\n",
      "\n",
      "Individual:  x[0]\n",
      "Cost:  0.01067566400550203\n",
      "\n",
      "Individual:  x[0]\n",
      "Cost:  0.01067566400550203\n",
      "\n",
      "Individual:  x[0]\n",
      "Cost:  0.01067566400550203\n",
      "\n",
      "Individual:  x[0]\n",
      "Cost:  0.01067566400550203\n",
      "\n",
      "Individual:  x[0]\n",
      "Cost:  0.01067566400550203\n",
      "\n",
      "Individual:  x[0]\n",
      "Cost:  0.01067566400550203\n",
      "\n",
      "Individual:  x[0]\n",
      "Cost:  0.01067566400550203\n",
      "\n",
      "Individual:  x[0]\n",
      "Cost:  0.01067566400550203\n",
      "\n",
      "Individual:  x[0]\n",
      "Cost:  0.01067566400550203\n",
      "\n",
      "Individual:  x[0]\n",
      "Cost:  0.01067566400550203\n",
      "\n",
      "Individual:  x[0]\n",
      "Cost:  0.01067566400550203\n",
      "\n",
      "Individual:  x[0]\n",
      "Cost:  0.01067566400550203\n",
      "\n",
      "Individual:  x[0]\n",
      "Cost:  0.01067566400550203\n",
      "\n",
      "Individual:  x[0]\n",
      "Cost:  0.01067566400550203\n",
      "\n",
      "Individual:  x[0]\n",
      "Cost:  0.01067566400550203\n",
      "\n",
      "Individual:  x[0]\n",
      "Cost:  0.01067566400550203\n",
      "\n",
      "Individual:  x[0]\n",
      "Cost:  0.01067566400550203\n",
      "\n",
      "Individual:  x[0]\n",
      "Cost:  0.01067566400550203\n",
      "\n"
     ]
    }
   ],
   "source": [
    "# print the top 10 individuals witg lowest cost\n",
    "sorted_index = np.argsort(cost_pop)\n",
    "for i in range(30):\n",
    "    print(\"Individual: \", my_population[sorted_index[i]])\n",
    "    print(\"Cost: \", cost_pop[sorted_index[i]])\n",
    "    print(\"\")"
   ]
  },
  {
   "cell_type": "code",
   "execution_count": 22,
   "metadata": {},
   "outputs": [
    {
     "name": "stdout",
     "output_type": "stream",
     "text": [
      "[1, 2, 3, 4, 5, 6, 7, 8]\n"
     ]
    }
   ],
   "source": [
    "a = [1,1,1,2,3,4,5,5,6,7,8]\n",
    "a = list(dict.fromkeys(a))\n",
    "print(a)"
   ]
  },
  {
   "cell_type": "code",
   "execution_count": null,
   "metadata": {},
   "outputs": [],
   "source": []
  }
 ],
 "metadata": {
  "kernelspec": {
   "display_name": "ci",
   "language": "python",
   "name": "python3"
  },
  "language_info": {
   "codemirror_mode": {
    "name": "ipython",
    "version": 3
   },
   "file_extension": ".py",
   "mimetype": "text/x-python",
   "name": "python",
   "nbconvert_exporter": "python",
   "pygments_lexer": "ipython3",
   "version": "3.10.15"
  }
 },
 "nbformat": 4,
 "nbformat_minor": 2
}
