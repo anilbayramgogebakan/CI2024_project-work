{
 "cells": [
  {
   "cell_type": "code",
   "execution_count": 3,
   "metadata": {},
   "outputs": [],
   "source": [
    "import numpy as np\n",
    "from src.utils import *\n",
    "from tqdm import tqdm\n",
    "\n",
    "unary_operators=[np.sin, np.cos, np.exp, np.abs, np.log, np.tan]\n",
    "binary_operators=[np.add, np.subtract, np.multiply, np.divide]\n",
    "\n",
    "\n",
    "operators = unary_operators + binary_operators"
   ]
  },
  {
   "cell_type": "code",
   "execution_count": 4,
   "metadata": {},
   "outputs": [
    {
     "name": "stdout",
     "output_type": "stream",
     "text": [
      "x.shape: (2, 1000)\n",
      "y.shape: (1000,)\n"
     ]
    }
   ],
   "source": [
    "problem = np.load(\"data/problem_0.npz\")\n",
    "x = problem[\"x\"]\n",
    "y = problem[\"y\"]\n",
    "print(\"x.shape:\", x.shape)\n",
    "print(\"y.shape:\", y.shape)"
   ]
  },
  {
   "cell_type": "code",
   "execution_count": 5,
   "metadata": {},
   "outputs": [
    {
     "name": "stdout",
     "output_type": "stream",
     "text": [
      "(2, 800)\n",
      "(2, 200)\n",
      "(800,)\n",
      "(200,)\n"
     ]
    }
   ],
   "source": [
    "x_train,y_train,x_val,y_val = split_dataset(x,y,0.8)\n",
    "print(x_train.shape)\n",
    "print(x_val.shape)\n",
    "print(y_train.shape)\n",
    "print(y_val.shape)"
   ]
  },
  {
   "cell_type": "code",
   "execution_count": 6,
   "metadata": {},
   "outputs": [],
   "source": [
    "# my_node = Node(value=np.add, left=Node(value=None, feature_index=0), right=Node(value=np.multiply, left=Node(value=0.2), right=Node(value=None, feature_index=1)))\n",
    "# my_inv = Individual(genome=my_node)\n",
    "# assign_population_fitness_train([my_inv], train_x, train_y)\n",
    "# print(my_inv.fitness)\n",
    "# assign_population_fitness_val([my_inv], val_x, val_y)\n",
    "# print(my_inv.fitness_val)"
   ]
  },
  {
   "cell_type": "code",
   "execution_count": 7,
   "metadata": {},
   "outputs": [],
   "source": [
    "def evolve(train_x,train_y,val_x,val_y):\n",
    "\n",
    "    NUM_POPULATION = 100\n",
    "    NUM_GENERATIONS = 600\n",
    "    MAX_DEPTH_INITIAL = 5\n",
    "    DEDUPE_INTERVAL = 15\n",
    "    ELITISM = False\n",
    "    ELITE_COUNT = 3\n",
    "    TOURNAMENT_SUBSET_SIZE = 3\n",
    "    TOURNAMENT_WINNER_SIZE = 20\n",
    "    XOVER = 0.8\n",
    "    MUTATION = 0.8\n",
    "    BREED_NEW = 15\n",
    "    KILL_AGE = 16\n",
    "    MAX_COMPLEXITY = 100\n",
    "    CONSTANT_FIT_INTERVAL = 30\n",
    "    CONSTANT_FIT_ITERATION = 6\n",
    "\n",
    "    print(\"Population is creating with a size: \", NUM_POPULATION)\n",
    "    my_population = create_population(NUM_POPULATION,MAX_DEPTH_INITIAL,train_x.shape[0])\n",
    "    print(\"Population has created.\")\n",
    "    print(\"Individual fitness values are assigning\")\n",
    "    assign_population_fitness_train(my_population,train_x,train_y)\n",
    "    assign_population_fitness_val(my_population,val_x,val_y)\n",
    "    print(f\" Population size: {len(my_population)}\")\n",
    "    print(f\"Population mean fitness: {calculate_mean_fitness(my_population)}\")\n",
    "    print(f\"Population mean complexity: {calculate_mean_complexity(my_population)}\")\n",
    "\n",
    "    # Sort the population by fitness (ascending), then take the top 5\n",
    "    top_5_individuals = top_n_individuals(my_population, 5)\n",
    "\n",
    "    # Print the top 5 individuals with the minimum fitness\n",
    "    for i, individual in enumerate(top_5_individuals, 1):\n",
    "        print(f\"Top {i}: Fitness = {individual.fitness:.4f} Fitness_val = {individual.fitness_val:.4f} Genome = {individual.genome}\")\n",
    "    #----------------------------------------------------------------------------\n",
    "    assign_population_fitness_train(my_population,train_x,train_y)\n",
    "    assign_population_fitness_val(my_population,val_x,val_y)\n",
    "    best_result = top_n_individuals(my_population, 1)[0]\n",
    "    for generation in tqdm(range(NUM_GENERATIONS)):\n",
    "        num_xover=0\n",
    "        num_mut=0\n",
    "        num_succesfull_mut=0\n",
    "        age_population(my_population)\n",
    "        \n",
    "\n",
    "        # Kill eldest individuals\n",
    "        kill_eldest(my_population, KILL_AGE)\n",
    "        # print(\"Population size before killing constants: \", len(my_population))\n",
    "        \n",
    "        # print(\"Population size after killing constants: \", len(my_population))\n",
    "\n",
    "\n",
    "        best_ind = tournament_selection(my_population,TOURNAMENT_SUBSET_SIZE,TOURNAMENT_WINNER_SIZE,ELITISM=ELITISM, elite_count=ELITE_COUNT)\n",
    "\n",
    "        \n",
    "        for _ in range(BREED_NEW): # CHECK\n",
    "            if random.random() < XOVER:\n",
    "                # Xover the best individual and replace worst individuals\n",
    "                parent1 = my_population[best_ind[np.random.choice(len(best_ind))]]\n",
    "                parent2 = my_population[best_ind[np.random.choice(len(best_ind))]]\n",
    "                child1, child2 = crossover(parent1,parent2)\n",
    "                my_population.append(child1)\n",
    "                my_population.append(child2)\n",
    "                num_xover+=1\n",
    "\n",
    "            if random.random() < MUTATION:\n",
    "                # Mutate best individuals and replace worst individuals\n",
    "                parent = my_population[best_ind[np.random.choice(len(best_ind))]]\n",
    "                \n",
    "                child, success = mutation_w_sa(parent, x.shape[0], train_x, train_y)\n",
    "                num_mut+=1\n",
    "                if success:                \n",
    "                    my_population.append(child)\n",
    "                    num_succesfull_mut+=1\n",
    "\n",
    "        assign_population_fitness_train(my_population,train_x,train_y)\n",
    "        assign_population_fitness_val(my_population,val_x,val_y)\n",
    "\n",
    "        # print(f\"xover: {num_xover}, mut: {num_mut}, succesfull mut: {num_succesfull_mut}\")\n",
    "        simplify_constant_population(my_population)\n",
    "        # Update elites age as 0\n",
    "        elites = top_n_individuals(my_population, ELITE_COUNT)\n",
    "        if best_result.fitness_val > elites[0].fitness_val:\n",
    "            best_result = elites[0]\n",
    "            print(f\"New best result found: {best_result}\")\n",
    "        \n",
    "        for elite in elites:\n",
    "            my_population.remove(elite)\n",
    "            elite.age = 0\n",
    "            my_population.append(elite)\n",
    "\n",
    "        # Deduplicate every few iterations\n",
    "        if generation % DEDUPE_INTERVAL == DEDUPE_INTERVAL-1:\n",
    "            init_population = len(my_population)\n",
    "            my_population = deduplicate_population(my_population)\n",
    "            dedup_population = len(my_population)\n",
    "            simplify_operation_population(my_population)\n",
    "            simplified_operations = len(my_population)\n",
    "            kill_constant(my_population)\n",
    "            no_constant = len(my_population)\n",
    "            kill_complex(my_population, MAX_COMPLEXITY)\n",
    "            no_complex = len(my_population)\n",
    "\n",
    "            print(f\"Initial: {init_population}, Deduplicated: {init_population-dedup_population}, Operation simplified: {dedup_population-simplified_operations}, Constant: {simplified_operations-no_constant}, Complex: {no_constant - no_complex}, Final: {no_complex}\")\n",
    "            print(f\"Population mean complexity: {calculate_mean_complexity(my_population)}\")\n",
    "            print(f\"Population mean fitness: {calculate_mean_fitness(my_population)}\")\n",
    "            print()\n",
    "\n",
    "            elites = top_n_individuals(my_population, ELITE_COUNT)\n",
    "            for elite in elites:\n",
    "                my_population.remove(elite)\n",
    "                elite.age = 0\n",
    "                my_population.append(elite)\n",
    "                \n",
    "            best_5 = top_n_individuals(my_population, 5)\n",
    "            for ind in range(len(best_5)):\n",
    "                print(f\"{ind}. Fitness: {best_5[ind].fitness:.4f}, Fitness_val = {best_5[ind].fitness_val:.4f}, Genome: {best_5[ind].genome}, Age: {best_5[ind].age}, Complexity: {best_5[ind].genome.complexity}\")\n",
    "                \n",
    "        #     # Fit constants of every individual\n",
    "        if generation % CONSTANT_FIT_INTERVAL == CONSTANT_FIT_INTERVAL-1:\n",
    "            print(f\"Generation {generation}: Mean fitness {calculate_mean_fitness(my_population)}\")\n",
    "            for ind in range(len(my_population)):\n",
    "                stronger_inv = fit_constants(my_population[ind],CONSTANT_FIT_ITERATION, train_x, train_y)\n",
    "                my_population[ind] = stronger_inv\n",
    "            assign_population_fitness_val(my_population,val_x,val_y)\n",
    "            print(f\"Population mean fitness after constant fit: {calculate_mean_fitness(my_population)}\")\n",
    "            best_5 = top_n_individuals(my_population, 5)\n",
    "            for ind in range(len(best_5)):\n",
    "                print(f\"{ind}. Fitness: {best_5[ind].fitness:.4f}, Fitness_val = {best_5[ind].fitness_val:.4f}, Genome: {best_5[ind].genome}, Age: {best_5[ind].age}, Complexity: {best_5[ind].genome.complexity}\")\n",
    "        \n",
    "\n",
    "    my_population = deduplicate_population(my_population)\n",
    "    #-------------------------------------------------------------------------------------------------------\n",
    "    assign_population_fitness_train(my_population,train_x,train_y)\n",
    "    for i in my_population:\n",
    "        if i.fitness == None:\n",
    "            print('Cannot assign fitness')\n",
    "            return my_population\n",
    "    assign_population_fitness_val(my_population,val_x,val_y)\n",
    "    for i in my_population:\n",
    "        if i.fitness_val == None:\n",
    "            print('Cannot assign fitness_val')\n",
    "            return my_population\n",
    "    # Sort the population by fitness (ascending), then take the top 5\n",
    "    top_5_individuals = top_n_individuals(my_population, 15)\n",
    "\n",
    "    # Print the best individual\n",
    "    print(f\"Best individual: Fitness = {best_result.fitness}: Genome = {best_result.genome}\")\n",
    "    # Print the top 5 individuals with the minimum fitness in population\n",
    "    for i, individual in enumerate(top_5_individuals, 1):\n",
    "        print(f\"Top {i}: Fitness = {individual.fitness} Fitness_val = {individual.fitness_val} Genome = {individual.genome}\")\n",
    "\n",
    "    # Print the mean fitness of the population\n",
    "    print(\"Mean fitness of the population: \", calculate_mean_fitness(my_population))\n",
    "    print(\"Population size: \", len(my_population))\n",
    "    print(f\"Population mean complexity: {calculate_mean_complexity(my_population)}\")\n",
    "    \n",
    "    return my_population"
   ]
  },
  {
   "cell_type": "code",
   "execution_count": null,
   "metadata": {},
   "outputs": [],
   "source": [
    "\n",
    "problem = np.load(\"data/problem_0.npz\")\n",
    "x = problem[\"x\"]\n",
    "y = problem[\"y\"]\n",
    "print(\"x.shape:\", x.shape)\n",
    "print(\"y.shape:\", y.shape)\n",
    "print(\"x_train.shape: \", x_train.shape)\n",
    "print(\"x_val.shape: \", x_val.shape)\n",
    "print(\"y_train.shape: \", y_train.shape)\n",
    "print(\"y_val.shape: \", y_val.shape)\n",
    "x_train, y_train, x_val, y_val = split_dataset(x,y,0.8)\n",
    "my_pop_0 = evolve(x_train,y_train,x_val,y_val)\n"
   ]
  },
  {
   "cell_type": "code",
   "execution_count": 8,
   "metadata": {},
   "outputs": [
    {
     "name": "stdout",
     "output_type": "stream",
     "text": [
      "x.shape: (1, 500)\n",
      "y.shape: (500,)\n",
      "x_train.shape:  (2, 800)\n",
      "x_val.shape:  (2, 200)\n",
      "y_train.shape:  (800,)\n",
      "y_val.shape:  (200,)\n",
      "Population is creating with a size:  100\n",
      "Population has created.\n",
      "Individual fitness values are assigning\n",
      " Population size: 69\n",
      "Population mean fitness: 9.757507581658523e+256\n",
      "Population mean complexity: 244.85507246376812\n",
      "Top 1: Fitness = 0.0000 Fitness_val = 0.0000 Genome = sin(x[0])\n",
      "Top 2: Fitness = 0.0548 Fitness_val = 0.0502 Genome = tan(x[0])\n",
      "Top 3: Fitness = 0.2550 Fitness_val = 0.2518 Genome = (x[0] - x[0])\n",
      "Top 4: Fitness = 0.2550 Fitness_val = 0.2523 Genome = ((sin(abs((x[0] - [0.90868873]))) * tan((([-1.93671622] / x[0]) - cos([1.66923625])))) * abs(log(cos(log([0.97654505])))))\n",
      "Top 5: Fitness = 0.2708 Fitness_val = 0.2729 Genome = abs([0.1043224])\n"
     ]
    },
    {
     "name": "stderr",
     "output_type": "stream",
     "text": [
      "  2%|▎         | 15/600 [00:08<03:59,  2.44it/s]"
     ]
    },
    {
     "name": "stdout",
     "output_type": "stream",
     "text": [
      "Initial: 517, Deduplicated: 328, Operation simplified: 0, Constant: 103, Complex: 24, Final: 62\n",
      "Population mean complexity: 26.677419354838708\n",
      "Population mean fitness: 253.869982974211\n",
      "\n",
      "0. Fitness: 0.0000, Fitness_val = 0.0000, Genome: sin(x[0]), Age: 0, Complexity: 8\n",
      "1. Fitness: 0.0016, Fitness_val = 0.0015, Genome: sin(sin(x[0])), Age: 0, Complexity: 36\n",
      "2. Fitness: 0.0033, Fitness_val = 0.0031, Genome: x[0], Age: 0, Complexity: 1\n",
      "3. Fitness: 0.0548, Fitness_val = 0.0502, Genome: tan(x[0]), Age: 15, Complexity: 8\n",
      "4. Fitness: 0.0605, Fitness_val = 0.0573, Genome: (sin(x[0]) + log(cos(x[0]))), Age: 11, Complexity: 54\n"
     ]
    },
    {
     "name": "stderr",
     "output_type": "stream",
     "text": [
      "  5%|▍         | 29/600 [00:15<03:12,  2.96it/s]"
     ]
    },
    {
     "name": "stdout",
     "output_type": "stream",
     "text": [
      "Initial: 441, Deduplicated: 303, Operation simplified: 0, Constant: 71, Complex: 5, Final: 62\n",
      "Population mean complexity: 28.5\n",
      "Population mean fitness: 30.7245468536767\n",
      "\n",
      "0. Fitness: 0.0000, Fitness_val = 0.0000, Genome: sin(x[0]), Age: 0, Complexity: 8\n",
      "1. Fitness: 0.0016, Fitness_val = 0.0015, Genome: sin(sin(x[0])), Age: 0, Complexity: 36\n",
      "2. Fitness: 0.0033, Fitness_val = 0.0031, Genome: x[0], Age: 0, Complexity: 1\n",
      "3. Fitness: 0.0699, Fitness_val = 0.0715, Genome: sin((sin(x[0]) + x[0])), Age: 13, Complexity: 44\n",
      "4. Fitness: 0.0718, Fitness_val = 0.0737, Genome: sin((x[0] + x[0])), Age: 8, Complexity: 16\n",
      "Generation 29: Mean fitness 30.724546853676703\n"
     ]
    },
    {
     "name": "stderr",
     "output_type": "stream",
     "text": [
      "  5%|▍         | 29/600 [00:27<08:55,  1.07it/s]\n"
     ]
    },
    {
     "ename": "KeyboardInterrupt",
     "evalue": "",
     "output_type": "error",
     "traceback": [
      "\u001b[1;31m---------------------------------------------------------------------------\u001b[0m",
      "\u001b[1;31mKeyboardInterrupt\u001b[0m                         Traceback (most recent call last)",
      "Cell \u001b[1;32mIn[8], line 11\u001b[0m\n\u001b[0;32m      9\u001b[0m \u001b[38;5;28mprint\u001b[39m(\u001b[38;5;124m\"\u001b[39m\u001b[38;5;124my_val.shape: \u001b[39m\u001b[38;5;124m\"\u001b[39m, y_val\u001b[38;5;241m.\u001b[39mshape)\n\u001b[0;32m     10\u001b[0m x_train, y_train, x_val, y_val \u001b[38;5;241m=\u001b[39m split_dataset(x,y,\u001b[38;5;241m0.8\u001b[39m)\n\u001b[1;32m---> 11\u001b[0m my_pop_1 \u001b[38;5;241m=\u001b[39m \u001b[43mevolve\u001b[49m\u001b[43m(\u001b[49m\u001b[43mx_train\u001b[49m\u001b[43m,\u001b[49m\u001b[43my_train\u001b[49m\u001b[43m,\u001b[49m\u001b[43mx_val\u001b[49m\u001b[43m,\u001b[49m\u001b[43my_val\u001b[49m\u001b[43m)\u001b[49m\n",
      "Cell \u001b[1;32mIn[7], line 123\u001b[0m, in \u001b[0;36mevolve\u001b[1;34m(train_x, train_y, val_x, val_y)\u001b[0m\n\u001b[0;32m    121\u001b[0m \u001b[38;5;28mprint\u001b[39m(\u001b[38;5;124mf\u001b[39m\u001b[38;5;124m\"\u001b[39m\u001b[38;5;124mGeneration \u001b[39m\u001b[38;5;132;01m{\u001b[39;00mgeneration\u001b[38;5;132;01m}\u001b[39;00m\u001b[38;5;124m: Mean fitness \u001b[39m\u001b[38;5;132;01m{\u001b[39;00mcalculate_mean_fitness(my_population)\u001b[38;5;132;01m}\u001b[39;00m\u001b[38;5;124m\"\u001b[39m)\n\u001b[0;32m    122\u001b[0m \u001b[38;5;28;01mfor\u001b[39;00m ind \u001b[38;5;129;01min\u001b[39;00m \u001b[38;5;28mrange\u001b[39m(\u001b[38;5;28mlen\u001b[39m(my_population)):\n\u001b[1;32m--> 123\u001b[0m     stronger_inv \u001b[38;5;241m=\u001b[39m \u001b[43mfit_constants\u001b[49m\u001b[43m(\u001b[49m\u001b[43mmy_population\u001b[49m\u001b[43m[\u001b[49m\u001b[43mind\u001b[49m\u001b[43m]\u001b[49m\u001b[43m,\u001b[49m\u001b[43mCONSTANT_FIT_ITERATION\u001b[49m\u001b[43m,\u001b[49m\u001b[43m \u001b[49m\u001b[43mtrain_x\u001b[49m\u001b[43m,\u001b[49m\u001b[43m \u001b[49m\u001b[43mtrain_y\u001b[49m\u001b[43m)\u001b[49m\n\u001b[0;32m    124\u001b[0m     my_population[ind] \u001b[38;5;241m=\u001b[39m stronger_inv\n\u001b[0;32m    125\u001b[0m assign_population_fitness_val(my_population,val_x,val_y)\n",
      "File \u001b[1;32mc:\\Users\\abayr\\OneDrive\\Desktop\\Computational_Intelligence\\Projects\\CI_project_draft\\src\\utils.py:428\u001b[0m, in \u001b[0;36mfit_constants\u001b[1;34m(individual, iter, x, y)\u001b[0m\n\u001b[0;32m    426\u001b[0m \u001b[38;5;28;01mfor\u001b[39;00m _ \u001b[38;5;129;01min\u001b[39;00m \u001b[38;5;28mrange\u001b[39m(\u001b[38;5;28miter\u001b[39m):\n\u001b[0;32m    427\u001b[0m     \u001b[38;5;28;01mif\u001b[39;00m individual\u001b[38;5;241m.\u001b[39mgenome\u001b[38;5;241m.\u001b[39mcomplexity \u001b[38;5;241m!=\u001b[39m \u001b[38;5;241m1\u001b[39m:\n\u001b[1;32m--> 428\u001b[0m         child, success \u001b[38;5;241m=\u001b[39m \u001b[43mmutation_w_sa\u001b[49m\u001b[43m(\u001b[49m\u001b[43mindividual\u001b[49m\u001b[43m,\u001b[49m\u001b[43m \u001b[49m\u001b[43mx\u001b[49m\u001b[38;5;241;43m.\u001b[39;49m\u001b[43mshape\u001b[49m\u001b[43m[\u001b[49m\u001b[38;5;241;43m1\u001b[39;49m\u001b[43m]\u001b[49m\u001b[43m,\u001b[49m\u001b[43mx\u001b[49m\u001b[43m,\u001b[49m\u001b[43my\u001b[49m\u001b[43m,\u001b[49m\u001b[43m \u001b[49m\u001b[43mONLY_CONSTANT\u001b[49m\u001b[38;5;241;43m=\u001b[39;49m\u001b[38;5;28;43;01mTrue\u001b[39;49;00m\u001b[43m)\u001b[49m\n\u001b[0;32m    429\u001b[0m         \u001b[38;5;28;01mif\u001b[39;00m success:\n\u001b[0;32m    430\u001b[0m             child\u001b[38;5;241m.\u001b[39mT \u001b[38;5;241m=\u001b[39m individual\u001b[38;5;241m.\u001b[39mT\n",
      "File \u001b[1;32mc:\\Users\\abayr\\OneDrive\\Desktop\\Computational_Intelligence\\Projects\\CI_project_draft\\src\\utils.py:399\u001b[0m, in \u001b[0;36mmutation_w_sa\u001b[1;34m(individual, feature_count, x, y, ONLY_CONSTANT, alpha)\u001b[0m\n\u001b[0;32m    397\u001b[0m \u001b[38;5;28;01mwith\u001b[39;00m warnings\u001b[38;5;241m.\u001b[39mcatch_warnings(record\u001b[38;5;241m=\u001b[39m\u001b[38;5;28;01mTrue\u001b[39;00m) \u001b[38;5;28;01mas\u001b[39;00m w:\n\u001b[0;32m    398\u001b[0m         warnings\u001b[38;5;241m.\u001b[39msimplefilter(\u001b[38;5;124m\"\u001b[39m\u001b[38;5;124malways\u001b[39m\u001b[38;5;124m\"\u001b[39m)\n\u001b[1;32m--> 399\u001b[0m         ind_cost \u001b[38;5;241m=\u001b[39m \u001b[43mcost\u001b[49m\u001b[43m(\u001b[49m\u001b[43mchild\u001b[49m\u001b[38;5;241;43m.\u001b[39;49m\u001b[43mgenome\u001b[49m\u001b[43m,\u001b[49m\u001b[43mx\u001b[49m\u001b[43m,\u001b[49m\u001b[43my\u001b[49m\u001b[43m)\u001b[49m\n\u001b[0;32m    400\u001b[0m         \u001b[38;5;28;01mif\u001b[39;00m \u001b[38;5;28mlen\u001b[39m(w) \u001b[38;5;241m==\u001b[39m \u001b[38;5;241m0\u001b[39m:\n\u001b[0;32m    401\u001b[0m             child\u001b[38;5;241m.\u001b[39mfitness \u001b[38;5;241m=\u001b[39m ind_cost\n",
      "File \u001b[1;32mc:\\Users\\abayr\\OneDrive\\Desktop\\Computational_Intelligence\\Projects\\CI_project_draft\\src\\utils.py:226\u001b[0m, in \u001b[0;36mcost\u001b[1;34m(genome, x, y)\u001b[0m\n\u001b[0;32m    225\u001b[0m \u001b[38;5;28;01mdef\u001b[39;00m \u001b[38;5;21mcost\u001b[39m(genome,x,y):\n\u001b[1;32m--> 226\u001b[0m     predictions \u001b[38;5;241m=\u001b[39m np\u001b[38;5;241m.\u001b[39marray([genome\u001b[38;5;241m.\u001b[39mevaluate(x[:, i]) \u001b[38;5;28;01mfor\u001b[39;00m i \u001b[38;5;129;01min\u001b[39;00m \u001b[38;5;28mrange\u001b[39m(x\u001b[38;5;241m.\u001b[39mshape[\u001b[38;5;241m1\u001b[39m])])\n\u001b[0;32m    227\u001b[0m     mse \u001b[38;5;241m=\u001b[39m np\u001b[38;5;241m.\u001b[39mmean((predictions \u001b[38;5;241m-\u001b[39m y) \u001b[38;5;241m*\u001b[39m\u001b[38;5;241m*\u001b[39m \u001b[38;5;241m2\u001b[39m)\n\u001b[0;32m    228\u001b[0m     \u001b[38;5;28;01mreturn\u001b[39;00m mse\n",
      "File \u001b[1;32mc:\\Users\\abayr\\OneDrive\\Desktop\\Computational_Intelligence\\Projects\\CI_project_draft\\src\\utils.py:226\u001b[0m, in \u001b[0;36m<listcomp>\u001b[1;34m(.0)\u001b[0m\n\u001b[0;32m    225\u001b[0m \u001b[38;5;28;01mdef\u001b[39;00m \u001b[38;5;21mcost\u001b[39m(genome,x,y):\n\u001b[1;32m--> 226\u001b[0m     predictions \u001b[38;5;241m=\u001b[39m np\u001b[38;5;241m.\u001b[39marray([\u001b[43mgenome\u001b[49m\u001b[38;5;241;43m.\u001b[39;49m\u001b[43mevaluate\u001b[49m\u001b[43m(\u001b[49m\u001b[43mx\u001b[49m\u001b[43m[\u001b[49m\u001b[43m:\u001b[49m\u001b[43m,\u001b[49m\u001b[43m \u001b[49m\u001b[43mi\u001b[49m\u001b[43m]\u001b[49m\u001b[43m)\u001b[49m \u001b[38;5;28;01mfor\u001b[39;00m i \u001b[38;5;129;01min\u001b[39;00m \u001b[38;5;28mrange\u001b[39m(x\u001b[38;5;241m.\u001b[39mshape[\u001b[38;5;241m1\u001b[39m])])\n\u001b[0;32m    227\u001b[0m     mse \u001b[38;5;241m=\u001b[39m np\u001b[38;5;241m.\u001b[39mmean((predictions \u001b[38;5;241m-\u001b[39m y) \u001b[38;5;241m*\u001b[39m\u001b[38;5;241m*\u001b[39m \u001b[38;5;241m2\u001b[39m)\n\u001b[0;32m    228\u001b[0m     \u001b[38;5;28;01mreturn\u001b[39;00m mse\n",
      "File \u001b[1;32mc:\\Users\\abayr\\OneDrive\\Desktop\\Computational_Intelligence\\Projects\\CI_project_draft\\src\\node.py:103\u001b[0m, in \u001b[0;36mNode.evaluate\u001b[1;34m(self, x)\u001b[0m\n\u001b[0;32m    101\u001b[0m \u001b[38;5;66;03m# if it is an operator\u001b[39;00m\n\u001b[0;32m    102\u001b[0m \u001b[38;5;28;01mif\u001b[39;00m \u001b[38;5;28mself\u001b[39m\u001b[38;5;241m.\u001b[39mvalue \u001b[38;5;129;01min\u001b[39;00m \u001b[38;5;28mself\u001b[39m\u001b[38;5;241m.\u001b[39munary_operators:\n\u001b[1;32m--> 103\u001b[0m     operand_value \u001b[38;5;241m=\u001b[39m \u001b[38;5;28;43mself\u001b[39;49m\u001b[38;5;241;43m.\u001b[39;49m\u001b[43mleft\u001b[49m\u001b[38;5;241;43m.\u001b[39;49m\u001b[43mevaluate\u001b[49m\u001b[43m(\u001b[49m\u001b[43mx\u001b[49m\u001b[43m)\u001b[49m\n\u001b[0;32m    104\u001b[0m     \u001b[38;5;66;03m#print(\"tek\",operand_value)\u001b[39;00m\n\u001b[0;32m    105\u001b[0m     \u001b[38;5;28;01mreturn\u001b[39;00m \u001b[38;5;28mself\u001b[39m\u001b[38;5;241m.\u001b[39mvalue(operand_value)\n",
      "File \u001b[1;32mc:\\Users\\abayr\\OneDrive\\Desktop\\Computational_Intelligence\\Projects\\CI_project_draft\\src\\node.py:103\u001b[0m, in \u001b[0;36mNode.evaluate\u001b[1;34m(self, x)\u001b[0m\n\u001b[0;32m    101\u001b[0m \u001b[38;5;66;03m# if it is an operator\u001b[39;00m\n\u001b[0;32m    102\u001b[0m \u001b[38;5;28;01mif\u001b[39;00m \u001b[38;5;28mself\u001b[39m\u001b[38;5;241m.\u001b[39mvalue \u001b[38;5;129;01min\u001b[39;00m \u001b[38;5;28mself\u001b[39m\u001b[38;5;241m.\u001b[39munary_operators:\n\u001b[1;32m--> 103\u001b[0m     operand_value \u001b[38;5;241m=\u001b[39m \u001b[38;5;28;43mself\u001b[39;49m\u001b[38;5;241;43m.\u001b[39;49m\u001b[43mleft\u001b[49m\u001b[38;5;241;43m.\u001b[39;49m\u001b[43mevaluate\u001b[49m\u001b[43m(\u001b[49m\u001b[43mx\u001b[49m\u001b[43m)\u001b[49m\n\u001b[0;32m    104\u001b[0m     \u001b[38;5;66;03m#print(\"tek\",operand_value)\u001b[39;00m\n\u001b[0;32m    105\u001b[0m     \u001b[38;5;28;01mreturn\u001b[39;00m \u001b[38;5;28mself\u001b[39m\u001b[38;5;241m.\u001b[39mvalue(operand_value)\n",
      "\u001b[1;31mKeyboardInterrupt\u001b[0m: "
     ]
    }
   ],
   "source": [
    "\n",
    "problem = np.load(\"data/problem_1.npz\")\n",
    "x = problem[\"x\"]\n",
    "y = problem[\"y\"]\n",
    "print(\"x.shape:\", x.shape)\n",
    "print(\"y.shape:\", y.shape)\n",
    "print(\"x_train.shape: \", x_train.shape)\n",
    "print(\"x_val.shape: \", x_val.shape)\n",
    "print(\"y_train.shape: \", y_train.shape)\n",
    "print(\"y_val.shape: \", y_val.shape)\n",
    "x_train, y_train, x_val, y_val = split_dataset(x,y,0.8)\n",
    "my_pop_1 = evolve(x_train,y_train,x_val,y_val)\n"
   ]
  },
  {
   "cell_type": "code",
   "execution_count": null,
   "metadata": {},
   "outputs": [
    {
     "name": "stdout",
     "output_type": "stream",
     "text": [
      "x.shape: (3, 5000)\n",
      "y.shape: (5000,)\n",
      "x_train.shape:  (1, 400)\n",
      "x_val.shape:  (1, 100)\n",
      "y_train.shape:  (400,)\n",
      "y_val.shape:  (100,)\n",
      "Population is creating with a size:  100\n",
      "Population has created.\n",
      "Individual fitness values are assigning\n",
      " Population size: 66\n",
      "Population mean fitness: 29524810111923.305\n",
      "Population mean complexity: 162.83333333333334\n",
      "Top 1: Fitness = 29524701472459.5430 Fitness_val = 29985551587121.1367 Genome = exp(x[0])\n",
      "Top 2: Fitness = 29524783331679.5039 Fitness_val = 29985631766254.0078 Genome = exp(x[1])\n",
      "Top 3: Fitness = 29524780499453.8164 Fitness_val = 29985634520632.1758 Genome = exp(x[2])\n",
      "Top 4: Fitness = 29524823299209.3594 Fitness_val = 29985648160356.5430 Genome = tan((exp(cos(cos(x[1]))) / (sin(cos(x[0])) + ((x[1] / x[2]) * cos(x[2])))))\n",
      "Top 5: Fitness = 29524790345413.5977 Fitness_val = 29985654002376.6484 Genome = (x[0] + x[2])\n"
     ]
    },
    {
     "name": "stderr",
     "output_type": "stream",
     "text": [
      "  0%|          | 3/600 [00:43<2:22:07, 14.28s/it]"
     ]
    },
    {
     "name": "stdout",
     "output_type": "stream",
     "text": [
      "New best result found: Individual(genome=(([-1.61456221] + exp((log([0.38027449]) - ([1.0602722] * x[2])))) / exp(x[2])), fitness=np.float64(29524789830885.04), fitness_val=np.float64(29985488721454.3), age=0, T=1)\n"
     ]
    },
    {
     "name": "stderr",
     "output_type": "stream",
     "text": [
      "  2%|▏         | 12/600 [01:46<57:36,  5.88s/it] "
     ]
    },
    {
     "name": "stdout",
     "output_type": "stream",
     "text": [
      "New best result found: Individual(genome=(([-1.61456221] + exp(([0.61712626] - ([1.0602722] * x[2])))) / exp(x[2])), fitness=np.float64(29524754803028.957), fitness_val=np.float64(29984779310023.16), age=0, T=1)\n"
     ]
    },
    {
     "name": "stderr",
     "output_type": "stream",
     "text": [
      "  2%|▏         | 13/600 [01:52<57:26,  5.87s/it]"
     ]
    },
    {
     "name": "stdout",
     "output_type": "stream",
     "text": [
      "New best result found: Individual(genome=(x[2] + exp((x[0] + x[0]))), fitness=np.float64(29516861425659.258), fitness_val=np.float64(29975970146091.664), age=0, T=1)\n"
     ]
    },
    {
     "name": "stderr",
     "output_type": "stream",
     "text": [
      "  2%|▎         | 15/600 [01:56<39:34,  4.06s/it]"
     ]
    },
    {
     "name": "stdout",
     "output_type": "stream",
     "text": [
      "New best result found: Individual(genome=(x[0] + exp((x[0] + x[0]))), fitness=np.float64(29516847225458.496), fitness_val=np.float64(29975955661453.027), age=0, T=1)\n",
      "Initial: 588, Deduplicated: 330, Operation simplified: 0, Constant: 116, Complex: 40, Final: 102\n",
      "Population mean complexity: 18.441176470588236\n",
      "Population mean fitness: 7.355822100420346e+127\n",
      "\n",
      "0. Fitness: 29516847225458.4961, Fitness_val = 29975955661453.0273, Genome: (x[0] + exp((x[0] + x[0]))), Age: 0, Complexity: 22\n",
      "1. Fitness: 29516861425659.2578, Fitness_val = 29975970146091.6641, Genome: (x[2] + exp((x[0] + x[0]))), Age: 0, Complexity: 22\n",
      "2. Fitness: 29516865959254.4883, Fitness_val = 29975974610291.0469, Genome: exp((x[0] + x[0])), Age: 0, Complexity: 20\n",
      "3. Fitness: 29524754803028.9570, Fitness_val = 29984779310023.1602, Genome: (([-1.61456221] + exp(([0.61712626] - ([1.0602722] * x[2])))) / exp(x[2])), Age: 1, Complexity: 43\n",
      "4. Fitness: 29524416932985.1523, Fitness_val = 29984911673668.9844, Genome: (x[2] + exp((x[0] + x[1]))), Age: 0, Complexity: 22\n"
     ]
    },
    {
     "name": "stderr",
     "output_type": "stream",
     "text": [
      "  3%|▎         | 16/600 [02:02<45:22,  4.66s/it]"
     ]
    },
    {
     "name": "stdout",
     "output_type": "stream",
     "text": [
      "New best result found: Individual(genome=exp((x[0] + (x[0] + x[0]))), fitness=np.float64(28917327312487.477), fitness_val=np.float64(29286225920890.188), age=0, T=1)\n"
     ]
    },
    {
     "name": "stderr",
     "output_type": "stream",
     "text": [
      "  3%|▎         | 18/600 [02:19<1:04:47,  6.68s/it]"
     ]
    },
    {
     "name": "stdout",
     "output_type": "stream",
     "text": [
      "New best result found: Individual(genome=(exp((x[0] + (x[0] + x[0]))) + x[0]), fitness=np.float64(28917309464735.152), fitness_val=np.float64(29286208382535.098), age=0, T=1)\n"
     ]
    },
    {
     "name": "stderr",
     "output_type": "stream",
     "text": [
      "  4%|▍         | 26/600 [03:09<58:28,  6.11s/it]  "
     ]
    },
    {
     "name": "stdout",
     "output_type": "stream",
     "text": [
      "New best result found: Individual(genome=(exp((x[0] + x[0])) + exp((x[0] + (x[0] + x[0])))), fitness=np.float64(28911820829185.07), fitness_val=np.float64(29280966805946.332), age=0, T=1)\n"
     ]
    },
    {
     "name": "stderr",
     "output_type": "stream",
     "text": [
      "  4%|▍         | 27/600 [03:16<1:00:14,  6.31s/it]"
     ]
    }
   ],
   "source": [
    "problem = np.load(\"data/problem_2.npz\")\n",
    "x = problem[\"x\"]\n",
    "y = problem[\"y\"]\n",
    "print(\"x.shape:\", x.shape)\n",
    "print(\"y.shape:\", y.shape)\n",
    "print(\"x_train.shape: \", x_train.shape)\n",
    "print(\"x_val.shape: \", x_val.shape)\n",
    "print(\"y_train.shape: \", y_train.shape)\n",
    "print(\"y_val.shape: \", y_val.shape)\n",
    "x_train, y_train, x_val, y_val = split_dataset(x,y,0.8)\n",
    "my_pop_2 = evolve(x_train,y_train,x_val,y_val)"
   ]
  },
  {
   "cell_type": "code",
   "execution_count": null,
   "metadata": {},
   "outputs": [],
   "source": [
    "try:\n",
    "    problem = np.load(\"data/problem_3.npz\")\n",
    "    x = problem[\"x\"]\n",
    "    y = problem[\"y\"]\n",
    "    print(\"x.shape:\", x.shape)\n",
    "    print(\"y.shape:\", y.shape)\n",
    "    my_pop_3 = evolve(x,y)\n",
    "except: \n",
    "    print(\"ERROR\")"
   ]
  },
  {
   "cell_type": "code",
   "execution_count": null,
   "metadata": {},
   "outputs": [],
   "source": [
    "try:\n",
    "    problem = np.load(\"data/problem_4.npz\")\n",
    "    x = problem[\"x\"]\n",
    "    y = problem[\"y\"]\n",
    "    print(\"x.shape:\", x.shape)\n",
    "    print(\"y.shape:\", y.shape)\n",
    "    my_pop_4 = evolve(x,y)\n",
    "except: \n",
    "    print(\"ERROR\")"
   ]
  },
  {
   "cell_type": "code",
   "execution_count": null,
   "metadata": {},
   "outputs": [],
   "source": [
    "try:\n",
    "    problem = np.load(\"data/problem_5.npz\")\n",
    "    x = problem[\"x\"]\n",
    "    y = problem[\"y\"]\n",
    "    print(\"x.shape:\", x.shape)\n",
    "    print(\"y.shape:\", y.shape)\n",
    "    my_pop_5 = evolve(x,y)\n",
    "except: \n",
    "    print(\"ERROR\")"
   ]
  },
  {
   "cell_type": "code",
   "execution_count": null,
   "metadata": {},
   "outputs": [],
   "source": [
    "try:\n",
    "    problem = np.load(\"data/problem_6.npz\")\n",
    "    x = problem[\"x\"]\n",
    "    y = problem[\"y\"]\n",
    "    print(\"x.shape:\", x.shape)\n",
    "    print(\"y.shape:\", y.shape)\n",
    "    my_pop_6 = evolve(x,y)\n",
    "except: \n",
    "    print(\"ERROR\")"
   ]
  },
  {
   "cell_type": "code",
   "execution_count": null,
   "metadata": {},
   "outputs": [],
   "source": [
    "try:\n",
    "    problem = np.load(\"data/problem_7.npz\")\n",
    "    x = problem[\"x\"]\n",
    "    y = problem[\"y\"]\n",
    "    print(\"x.shape:\", x.shape)\n",
    "    print(\"y.shape:\", y.shape)\n",
    "    my_pop_7 = evolve(x,y)\n",
    "except: \n",
    "    print(\"ERROR\")"
   ]
  },
  {
   "cell_type": "code",
   "execution_count": null,
   "metadata": {},
   "outputs": [],
   "source": [
    "try:\n",
    "    problem = np.load(\"data/problem_8.npz\")\n",
    "    x = problem[\"x\"]\n",
    "    y = problem[\"y\"]\n",
    "    print(\"x.shape:\", x.shape)\n",
    "    print(\"y.shape:\", y.shape)\n",
    "    my_pop_8 = evolve(x,y)\n",
    "except: \n",
    "    print(\"ERROR\")"
   ]
  },
  {
   "cell_type": "code",
   "execution_count": null,
   "metadata": {},
   "outputs": [],
   "source": []
  },
  {
   "cell_type": "code",
   "execution_count": null,
   "metadata": {},
   "outputs": [],
   "source": []
  }
 ],
 "metadata": {
  "kernelspec": {
   "display_name": "ci",
   "language": "python",
   "name": "python3"
  },
  "language_info": {
   "codemirror_mode": {
    "name": "ipython",
    "version": 3
   },
   "file_extension": ".py",
   "mimetype": "text/x-python",
   "name": "python",
   "nbconvert_exporter": "python",
   "pygments_lexer": "ipython3",
   "version": "3.10.15"
  }
 },
 "nbformat": 4,
 "nbformat_minor": 2
}
