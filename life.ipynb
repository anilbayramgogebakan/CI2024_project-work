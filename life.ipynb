{
 "cells": [
  {
   "cell_type": "code",
   "execution_count": 1,
   "metadata": {},
   "outputs": [],
   "source": [
    "import numpy as np\n",
    "from src.utils import *\n",
    "from tqdm import tqdm\n",
    "\n",
    "unary_operators=[np.sin, np.cos, np.exp, np.abs, np.log, np.tan]\n",
    "binary_operators=[np.add, np.subtract, np.multiply, np.divide]\n",
    "\n",
    "\n",
    "operators = unary_operators + binary_operators"
   ]
  },
  {
   "cell_type": "code",
   "execution_count": 2,
   "metadata": {},
   "outputs": [],
   "source": [
    "def evolve(x,y):\n",
    "    try:\n",
    "        NUM_POPULATION = 100\n",
    "        NUM_GENERATIONS = 600\n",
    "        MAX_DEPTH_INITIAL = 5\n",
    "        DEDUPE_INTERVAL = 15\n",
    "        ELITISM = False\n",
    "        ELITE_COUNT = 3\n",
    "        TOURNAMENT_SUBSET_SIZE = 3\n",
    "        TOURNAMENT_WINNER_SIZE = 20\n",
    "        XOVER = 0.8\n",
    "        MUTATION = 0.8\n",
    "        BREED_NEW = 15\n",
    "        KILL_AGE = 16\n",
    "        CONSTANT_FIT_INTERVAL = 30\n",
    "        CONSTANT_FIT_ITERATION = 6\n",
    "\n",
    "        print(\"Population is creating with a size: \", NUM_POPULATION)\n",
    "        my_population = create_population(NUM_POPULATION,MAX_DEPTH_INITIAL,x.shape[0])\n",
    "        print(\"Population has created.\")\n",
    "        print(\"Individual fitness values are assigning\")\n",
    "        assign_population_fitness(my_population,x,y)\n",
    "        print(f\" Population size: {len(my_population)}\")\n",
    "        print(f\"Population mean fitness: {calculate_mean_fitness(my_population)}\")\n",
    "        print(f\"Population mean complexity: {calculate_mean_complexity(my_population)}\")\n",
    "\n",
    "        # Sort the population by fitness (ascending), then take the top 5\n",
    "        top_5_individuals = top_n_individuals(my_population, 5)\n",
    "\n",
    "        # Print the top 5 individuals with the minimum fitness\n",
    "        for i, individual in enumerate(top_5_individuals, 1):\n",
    "            print(f\"Top {i}: Fitness = {individual.fitness}: Genome = {individual.genome}\")\n",
    "        #----------------------------------------------------------------------------\n",
    "        assign_population_fitness(my_population,x,y)\n",
    "        best_result = top_n_individuals(my_population, 1)[0]\n",
    "        for generation in tqdm(range(NUM_GENERATIONS)):\n",
    "            num_xover=0\n",
    "            num_mut=0\n",
    "            num_succesfull_mut=0\n",
    "            age_population(my_population)\n",
    "            \n",
    "\n",
    "            # Kill eldest individuals\n",
    "            kill_eldest(my_population, KILL_AGE)\n",
    "            # print(\"Population size before killing constants: \", len(my_population))\n",
    "            \n",
    "            # print(\"Population size after killing constants: \", len(my_population))\n",
    "\n",
    "\n",
    "            best_ind = tournament_selection(my_population,TOURNAMENT_SUBSET_SIZE,TOURNAMENT_WINNER_SIZE,ELITISM=ELITISM, elite_count=ELITE_COUNT)\n",
    "\n",
    "            \n",
    "            for _ in range(BREED_NEW): # CHECK\n",
    "                if random.random() < XOVER:\n",
    "                    # Xover the best individual and replace worst individuals\n",
    "                    parent1 = my_population[best_ind[np.random.choice(len(best_ind))]]\n",
    "                    parent2 = my_population[best_ind[np.random.choice(len(best_ind))]]\n",
    "                    child1, child2 = crossover(parent1,parent2)\n",
    "                    my_population.append(child1)\n",
    "                    my_population.append(child2)\n",
    "                    num_xover+=1\n",
    "\n",
    "                if random.random() < MUTATION:\n",
    "                    # Mutate best individuals and replace worst individuals\n",
    "                    parent = my_population[best_ind[np.random.choice(len(best_ind))]]\n",
    "                    \n",
    "                    child, success = mutation_w_sa(parent, x.shape[0], x, y)\n",
    "                    num_mut+=1\n",
    "                    if success:                \n",
    "                        my_population.append(child)\n",
    "                        num_succesfull_mut+=1\n",
    "\n",
    "            assign_population_fitness(my_population,x,y)\n",
    "            # print(f\"xover: {num_xover}, mut: {num_mut}, succesfull mut: {num_succesfull_mut}\")\n",
    "            simplify_constant_population(my_population)\n",
    "            # Update elites age as 0\n",
    "            elites = top_n_individuals(my_population, ELITE_COUNT)\n",
    "            if best_result.fitness > elites[0].fitness:\n",
    "                best_result = elites[0]\n",
    "                print(f\"New best result found: {best_result}\")\n",
    "            \n",
    "            for elite in elites:\n",
    "                my_population.remove(elite)\n",
    "                elite.age = 0\n",
    "                my_population.append(elite)\n",
    "\n",
    "            # Deduplicate every few iterations\n",
    "            if generation % DEDUPE_INTERVAL == DEDUPE_INTERVAL-1:\n",
    "                init_population = len(my_population)\n",
    "                my_population = deduplicate_population(my_population)\n",
    "                dedup_population = len(my_population)\n",
    "                simplify_operation_population(my_population)\n",
    "                simplified_operations = len(my_population)\n",
    "                kill_constant(my_population)\n",
    "                no_constant = len(my_population)\n",
    "\n",
    "                print(f\"Initial: {init_population}, Deduplicated: {init_population-dedup_population}, Operation simplified: {dedup_population-simplified_operations}, Constant: {simplified_operations-no_constant}, Final: {no_constant}\")\n",
    "                print(f\"Population mean complexity: {calculate_mean_complexity(my_population)}\")\n",
    "                print(f\"Population mean fitness: {calculate_mean_fitness(my_population)}\")\n",
    "                print()\n",
    "                best_5 = top_n_individuals(my_population, 5)\n",
    "                for ind in range(len(best_5)):\n",
    "                    print(f\"{ind}. Fitness: {best_5[ind].fitness:.3f}, Genome: {best_5[ind].genome}, Age: {best_5[ind].age}\")\n",
    "            #     # Fit constants of every individual\n",
    "            if generation % CONSTANT_FIT_INTERVAL == CONSTANT_FIT_INTERVAL-1:\n",
    "                print(f\"Generation {generation}: Mean fitness {calculate_mean_fitness(my_population)}\")\n",
    "                for ind in range(len(my_population)):\n",
    "                    stronger_inv = fit_constants(my_population[ind],CONSTANT_FIT_ITERATION, x, y)\n",
    "                    my_population[ind] = stronger_inv\n",
    "                print(f\"Population mean fitness after constant fit: {calculate_mean_fitness(my_population)}\")\n",
    "                best_5 = top_n_individuals(my_population, 5)\n",
    "                for ind in range(len(best_5)):\n",
    "                    print(f\"{ind}. Fitness: {best_5[ind].fitness:.3f}, Genome: {best_5[ind].genome}, Age: {best_5[ind].age}\")\n",
    "            \n",
    "\n",
    "        my_population = deduplicate_population(my_population)\n",
    "        #-------------------------------------------------------------------------------------------------------\n",
    "        assign_population_fitness(my_population,x,y)\n",
    "        # Sort the population by fitness (ascending), then take the top 5\n",
    "        top_5_individuals = top_n_individuals(my_population, 15)\n",
    "\n",
    "        # Print the best individual\n",
    "        print(f\"Best individual: Fitness = {best_result.fitness}: Genome = {best_result.genome}\")\n",
    "        # Print the top 5 individuals with the minimum fitness in population\n",
    "        for i, individual in enumerate(top_5_individuals, 1):\n",
    "            print(f\"Top {i}: Fitness = {individual.fitness}: Genome = {individual.genome}\")\n",
    "\n",
    "        # Print the mean fitness of the population\n",
    "        print(\"Mean fitness of the population: \", calculate_mean_fitness(my_population))\n",
    "        print(\"Population size: \", len(my_population))\n",
    "        print(f\"Population mean complexity: {calculate_mean_complexity(my_population)}\")\n",
    "        \n",
    "        return my_population\n",
    "    except:\n",
    "        print(\"ERROR\")\n",
    "        return my_population"
   ]
  },
  {
   "cell_type": "code",
   "execution_count": 3,
   "metadata": {},
   "outputs": [
    {
     "name": "stdout",
     "output_type": "stream",
     "text": [
      "x.shape: (2, 1000)\n",
      "y.shape: (1000,)\n",
      "Population is creating with a size:  100\n",
      "Population has created.\n",
      "Individual fitness values are assigning\n",
      " Population size: 69\n",
      "Population mean fitness: 3.7094940078423864e+103\n",
      "Population mean complexity: 246.17391304347825\n",
      "Top 1: Fitness = 0.21878415413758193: Genome = (x[0] + x[1])\n",
      "Top 2: Fitness = 2.7836504775468094: Genome = abs(sin((tan(exp(x[0])) - sin(exp(x[0])))))\n",
      "Top 3: Fitness = 3.3938689706093967: Genome = ([0.19655428] * [0.26409258])\n",
      "Top 4: Fitness = 3.3944628114054063: Genome = cos([-1.52966511])\n",
      "Top 5: Fitness = 3.3954610008132042: Genome = abs([-0.11965962])\n"
     ]
    },
    {
     "name": "stderr",
     "output_type": "stream",
     "text": [
      "  0%|          | 1/600 [00:02<20:32,  2.06s/it]"
     ]
    },
    {
     "name": "stdout",
     "output_type": "stream",
     "text": [
      "New best result found: Individual(genome=x[0], fitness=np.float64(0.01067566400550203), age=0, T=1)\n"
     ]
    },
    {
     "name": "stderr",
     "output_type": "stream",
     "text": [
      "  2%|▎         | 15/600 [00:17<07:21,  1.32it/s]"
     ]
    },
    {
     "name": "stdout",
     "output_type": "stream",
     "text": [
      "Initial: 581, Deduplicated: 359, Operation simplified: 0, Constant: 114, Final: 108\n",
      "Population mean complexity: 265.6111111111111\n",
      "Population mean fitness: 2.3699545050104135e+103\n",
      "\n",
      "0. Fitness: 0.011, Genome: x[0], Age: 0\n",
      "1. Fitness: 0.219, Genome: (x[1] + x[0]), Age: 3\n",
      "2. Fitness: 0.328, Genome: (x[0] - cos(abs(exp(x[1])))), Age: 9\n",
      "3. Fitness: 1.136, Genome: (x[0] * abs(x[1])), Age: 11\n",
      "4. Fitness: 1.994, Genome: sin(sin(x[0])), Age: 13\n"
     ]
    },
    {
     "name": "stderr",
     "output_type": "stream",
     "text": [
      "  5%|▍         | 29/600 [00:32<06:35,  1.45it/s]"
     ]
    },
    {
     "name": "stdout",
     "output_type": "stream",
     "text": [
      "Initial: 534, Deduplicated: 350, Operation simplified: 0, Constant: 76, Final: 108\n",
      "Population mean complexity: 107.60185185185185\n",
      "Population mean fitness: 2.130152795261837e+22\n",
      "\n",
      "0. Fitness: 0.011, Genome: x[0], Age: 0\n",
      "1. Fitness: 0.219, Genome: (x[1] + x[0]), Age: 3\n",
      "2. Fitness: 0.328, Genome: (x[0] - cos(abs(exp(x[1])))), Age: 3\n",
      "3. Fitness: 0.405, Genome: (x[0] - cos(abs(exp(exp(x[1]))))), Age: 13\n",
      "4. Fitness: 0.454, Genome: (x[0] - x[1]), Age: 14\n",
      "Generation 29: Mean fitness 2.130152795261837e+22\n"
     ]
    },
    {
     "name": "stderr",
     "output_type": "stream",
     "text": [
      "  5%|▌         | 30/600 [01:23<2:30:00, 15.79s/it]"
     ]
    },
    {
     "name": "stdout",
     "output_type": "stream",
     "text": [
      "Population mean fitness after constant fit: 1.2616271149061566e+27\n",
      "0. Fitness: 0.011, Genome: x[0], Age: 0\n",
      "1. Fitness: 0.219, Genome: (x[1] + x[0]), Age: 3\n",
      "2. Fitness: 0.328, Genome: (x[0] - cos(abs(exp(x[1])))), Age: 3\n",
      "3. Fitness: 0.405, Genome: (x[0] - cos(abs(exp(exp(x[1]))))), Age: 13\n",
      "4. Fitness: 0.454, Genome: (x[0] - x[1]), Age: 14\n"
     ]
    },
    {
     "name": "stderr",
     "output_type": "stream",
     "text": [
      "  8%|▊         | 45/600 [01:35<06:15,  1.48it/s]  "
     ]
    },
    {
     "name": "stdout",
     "output_type": "stream",
     "text": [
      "Initial: 532, Deduplicated: 373, Operation simplified: 0, Constant: 58, Final: 101\n",
      "Population mean complexity: 73.31683168316832\n",
      "Population mean fitness: 1.150500655249907e+27\n",
      "\n",
      "0. Fitness: 0.011, Genome: x[0], Age: 0\n",
      "1. Fitness: 0.219, Genome: (x[1] + x[0]), Age: 5\n",
      "2. Fitness: 0.315, Genome: (cos((cos(abs(x[0])) + x[0])) + x[0]), Age: 5\n",
      "3. Fitness: 0.328, Genome: (x[0] - cos(abs(exp(x[1])))), Age: 9\n",
      "4. Fitness: 0.336, Genome: (x[0] - abs(x[1])), Age: 12\n"
     ]
    },
    {
     "name": "stderr",
     "output_type": "stream",
     "text": [
      " 10%|▉         | 59/600 [01:45<04:42,  1.91it/s]"
     ]
    },
    {
     "name": "stdout",
     "output_type": "stream",
     "text": [
      "gen:  x[1]\n",
      "gen.left:  [0.52743104]\n",
      "gen.right:  None\n",
      "gen.feature_index:  1\n",
      "Initial: 506, Deduplicated: 365, Operation simplified: 0, Constant: 58, Final: 83\n",
      "Population mean complexity: 34.46987951807229\n",
      "Population mean fitness: 130848.68416501314\n",
      "\n",
      "0. Fitness: 0.011, Genome: x[0], Age: 0\n",
      "1. Fitness: 0.219, Genome: (x[0] + x[1]), Age: 1\n",
      "2. Fitness: 0.277, Genome: (x[0] - sin(abs(x[1]))), Age: 13\n",
      "3. Fitness: 0.504, Genome: (x[0] - sin(x[0])), Age: 11\n",
      "4. Fitness: 0.510, Genome: (x[0] - cos(x[0])), Age: 8\n",
      "Generation 59: Mean fitness 130848.68416501314\n"
     ]
    },
    {
     "name": "stderr",
     "output_type": "stream",
     "text": [
      " 10%|█         | 60/600 [02:16<1:24:55,  9.44s/it]"
     ]
    },
    {
     "name": "stdout",
     "output_type": "stream",
     "text": [
      "Population mean fitness after constant fit: 130848.74507135236\n",
      "0. Fitness: 0.011, Genome: x[0], Age: 0\n",
      "1. Fitness: 0.219, Genome: (x[0] + x[1]), Age: 1\n",
      "2. Fitness: 0.277, Genome: (x[0] - sin(abs(x[1]))), Age: 13\n",
      "3. Fitness: 0.504, Genome: (x[0] - sin(x[0])), Age: 11\n",
      "4. Fitness: 0.510, Genome: (x[0] - cos(x[0])), Age: 8\n"
     ]
    },
    {
     "name": "stderr",
     "output_type": "stream",
     "text": [
      " 12%|█▎        | 75/600 [02:28<05:48,  1.51it/s]  "
     ]
    },
    {
     "name": "stdout",
     "output_type": "stream",
     "text": [
      "gen:  x[1]\n",
      "gen.left:  [0.52743104]\n",
      "gen.right:  None\n",
      "gen.feature_index:  1\n",
      "Initial: 528, Deduplicated: 367, Operation simplified: 0, Constant: 72, Final: 89\n",
      "Population mean complexity: 28.617977528089888\n",
      "Population mean fitness: 36.56717782116585\n",
      "\n",
      "0. Fitness: 0.011, Genome: x[0], Age: 0\n",
      "1. Fitness: 0.219, Genome: (x[1] + x[0]), Age: 6\n",
      "2. Fitness: 0.240, Genome: (x[0] - sin(sin(abs(x[1])))), Age: 10\n",
      "3. Fitness: 0.277, Genome: (x[0] - sin(abs(x[1]))), Age: 10\n",
      "4. Fitness: 0.336, Genome: (x[0] - abs(x[1])), Age: 10\n"
     ]
    },
    {
     "name": "stderr",
     "output_type": "stream",
     "text": [
      " 15%|█▍        | 89/600 [02:37<03:37,  2.35it/s]"
     ]
    },
    {
     "name": "stdout",
     "output_type": "stream",
     "text": [
      "gen:  x[1]\n",
      "gen.left:  [0.52743104]\n",
      "gen.right:  None\n",
      "gen.feature_index:  1\n",
      "gen:  x[1]\n",
      "gen.left:  [0.52743104]\n",
      "gen.right:  None\n",
      "gen.feature_index:  1\n",
      "Initial: 481, Deduplicated: 345, Operation simplified: 0, Constant: 58, Final: 78\n",
      "Population mean complexity: 14.346153846153847\n",
      "Population mean fitness: 61.275021524664005\n",
      "\n",
      "0. Fitness: 0.011, Genome: x[0], Age: 0\n",
      "1. Fitness: 0.219, Genome: (x[1] + x[0]), Age: 12\n",
      "2. Fitness: 0.240, Genome: (x[0] - sin(sin(abs(x[1])))), Age: 7\n",
      "3. Fitness: 0.336, Genome: (x[0] - abs(x[1])), Age: 9\n",
      "4. Fitness: 0.381, Genome: (x[0] - sin(sin((x[0] + x[0])))), Age: 14\n",
      "Generation 89: Mean fitness 61.275021524664005\n"
     ]
    },
    {
     "name": "stderr",
     "output_type": "stream",
     "text": [
      " 15%|█▌        | 90/600 [03:06<1:16:10,  8.96s/it]"
     ]
    },
    {
     "name": "stdout",
     "output_type": "stream",
     "text": [
      "Population mean fitness after constant fit: 64.23707791317386\n",
      "0. Fitness: 0.011, Genome: x[0], Age: 0\n",
      "1. Fitness: 0.219, Genome: (x[1] + x[0]), Age: 12\n",
      "2. Fitness: 0.240, Genome: (x[0] - sin(sin(abs(x[1])))), Age: 7\n",
      "3. Fitness: 0.336, Genome: (x[0] - abs(x[1])), Age: 9\n",
      "4. Fitness: 0.381, Genome: (x[0] - sin(sin((x[0] + x[0])))), Age: 14\n"
     ]
    },
    {
     "name": "stderr",
     "output_type": "stream",
     "text": [
      " 18%|█▊        | 105/600 [03:17<05:43,  1.44it/s] "
     ]
    },
    {
     "name": "stdout",
     "output_type": "stream",
     "text": [
      "gen:  x[1]\n",
      "gen.left:  [0.52743104]\n",
      "gen.right:  None\n",
      "gen.feature_index:  1\n",
      "gen:  x[1]\n",
      "gen.left:  [0.52743104]\n",
      "gen.right:  None\n",
      "gen.feature_index:  1\n",
      "gen:  x[0]\n",
      "gen.left:  [1.02061652]\n",
      "gen.right:  None\n",
      "gen.feature_index:  0\n",
      "gen:  x[0]\n",
      "gen.left:  [1.02061652]\n",
      "gen.right:  None\n",
      "gen.feature_index:  0\n",
      "Initial: 527, Deduplicated: 365, Operation simplified: 0, Constant: 62, Final: 100\n",
      "Population mean complexity: 7.76\n",
      "Population mean fitness: 64.94714594423958\n",
      "\n",
      "0. Fitness: 0.011, Genome: x[0], Age: 0\n",
      "1. Fitness: 0.219, Genome: (x[1] + x[0]), Age: 12\n",
      "2. Fitness: 0.240, Genome: (x[0] - sin(sin(abs(x[1])))), Age: 14\n",
      "3. Fitness: 0.318, Genome: (x[0] - sin(exp((x[0] + x[0])))), Age: 10\n",
      "4. Fitness: 0.336, Genome: (x[0] - abs(x[1])), Age: 3\n"
     ]
    },
    {
     "name": "stderr",
     "output_type": "stream",
     "text": [
      " 20%|█▉        | 119/600 [03:31<05:38,  1.42it/s]"
     ]
    },
    {
     "name": "stdout",
     "output_type": "stream",
     "text": [
      "gen:  x[1]\n",
      "gen.left:  [0.52743104]\n",
      "gen.right:  None\n",
      "gen.feature_index:  1\n",
      "gen:  x[1]\n",
      "gen.left:  [0.52743104]\n",
      "gen.right:  None\n",
      "gen.feature_index:  1\n",
      "gen:  x[1]\n",
      "gen.left:  [0.52743104]\n",
      "gen.right:  None\n",
      "gen.feature_index:  1\n",
      "Initial: 562, Deduplicated: 386, Operation simplified: 0, Constant: 76, Final: 100\n",
      "Population mean complexity: 6.7\n",
      "Population mean fitness: 29.636660586014123\n",
      "\n",
      "0. Fitness: 0.011, Genome: x[0], Age: 0\n",
      "1. Fitness: 0.219, Genome: (x[1] + x[0]), Age: 8\n",
      "2. Fitness: 0.278, Genome: (x[0] + sin(abs(x[1]))), Age: 13\n",
      "3. Fitness: 0.304, Genome: (x[0] - sin(exp((x[0] + (x[0] - abs(x[1])))))), Age: 13\n",
      "4. Fitness: 0.318, Genome: (x[0] - sin(exp((x[0] + x[0])))), Age: 12\n",
      "Generation 119: Mean fitness 29.636660586014123\n"
     ]
    },
    {
     "name": "stderr",
     "output_type": "stream",
     "text": [
      " 20%|██        | 120/600 [04:08<1:34:05, 11.76s/it]"
     ]
    },
    {
     "name": "stdout",
     "output_type": "stream",
     "text": [
      "Population mean fitness after constant fit: 72.43722656980454\n",
      "0. Fitness: 0.011, Genome: x[0], Age: 0\n",
      "1. Fitness: 0.219, Genome: (x[1] + x[0]), Age: 8\n",
      "2. Fitness: 0.278, Genome: (x[0] + sin(abs(x[1]))), Age: 13\n",
      "3. Fitness: 0.304, Genome: (x[0] - sin(exp((x[0] + (x[0] - abs(x[1])))))), Age: 13\n",
      "4. Fitness: 0.318, Genome: (x[0] - sin(exp((x[0] + x[0])))), Age: 12\n"
     ]
    },
    {
     "name": "stderr",
     "output_type": "stream",
     "text": [
      " 22%|██▎       | 135/600 [04:21<05:05,  1.52it/s]  "
     ]
    },
    {
     "name": "stdout",
     "output_type": "stream",
     "text": [
      "gen:  x[1]\n",
      "gen.left:  [0.52743104]\n",
      "gen.right:  None\n",
      "gen.feature_index:  1\n",
      "gen:  x[1]\n",
      "gen.left:  [0.52743104]\n",
      "gen.right:  None\n",
      "gen.feature_index:  1\n",
      "gen:  x[1]\n",
      "gen.left:  [0.52743104]\n",
      "gen.right:  None\n",
      "gen.feature_index:  1\n",
      "gen:  x[1]\n",
      "gen.left:  [0.52743104]\n",
      "gen.right:  None\n",
      "gen.feature_index:  1\n",
      "gen:  x[1]\n",
      "gen.left:  [0.52743104]\n",
      "gen.right:  None\n",
      "gen.feature_index:  1\n",
      "Initial: 527, Deduplicated: 342, Operation simplified: 0, Constant: 57, Final: 128\n",
      "Population mean complexity: 14.6953125\n",
      "Population mean fitness: 87.7103792527852\n",
      "\n",
      "0. Fitness: 0.011, Genome: x[0], Age: 0\n",
      "1. Fitness: 0.206, Genome: (x[0] - (x[1] * x[1])), Age: 7\n",
      "2. Fitness: 0.219, Genome: (x[0] + x[1]), Age: 7\n",
      "3. Fitness: 0.277, Genome: (x[0] - sin(abs(x[1]))), Age: 3\n",
      "4. Fitness: 0.278, Genome: (x[0] + sin(abs(x[1]))), Age: 13\n"
     ]
    },
    {
     "name": "stderr",
     "output_type": "stream",
     "text": [
      " 25%|██▍       | 149/600 [04:33<04:41,  1.60it/s]"
     ]
    },
    {
     "name": "stdout",
     "output_type": "stream",
     "text": [
      "gen:  x[1]\n",
      "gen.left:  [0.52743104]\n",
      "gen.right:  None\n",
      "gen.feature_index:  1\n",
      "gen:  x[1]\n",
      "gen.left:  [0.52743104]\n",
      "gen.right:  None\n",
      "gen.feature_index:  1\n",
      "Initial: 518, Deduplicated: 339, Operation simplified: 0, Constant: 55, Final: 124\n",
      "Population mean complexity: 9.185483870967742\n",
      "Population mean fitness: 20.62917375892452\n",
      "\n",
      "0. Fitness: 0.011, Genome: x[0], Age: 0\n",
      "1. Fitness: 0.141, Genome: (x[0] + sin(sin(x[1]))), Age: 12\n",
      "2. Fitness: 0.163, Genome: (x[0] + sin(sin((x[1] - sin(abs(x[1])))))), Age: 11\n",
      "3. Fitness: 0.171, Genome: (x[0] + sin(x[1])), Age: 12\n",
      "4. Fitness: 0.173, Genome: (x[0] - sin((x[1] * x[1]))), Age: 5\n",
      "Generation 149: Mean fitness 20.62917375892452\n"
     ]
    },
    {
     "name": "stderr",
     "output_type": "stream",
     "text": [
      " 25%|██▌       | 150/600 [05:21<1:50:33, 14.74s/it]"
     ]
    },
    {
     "name": "stdout",
     "output_type": "stream",
     "text": [
      "Population mean fitness after constant fit: 31.784399829274765\n",
      "0. Fitness: 0.011, Genome: x[0], Age: 0\n",
      "1. Fitness: 0.141, Genome: (x[0] + sin(sin(x[1]))), Age: 12\n",
      "2. Fitness: 0.163, Genome: (x[0] + sin(sin((x[1] - sin(abs(x[1])))))), Age: 11\n",
      "3. Fitness: 0.171, Genome: (x[0] + sin(x[1])), Age: 12\n",
      "4. Fitness: 0.173, Genome: (x[0] - sin((x[1] * x[1]))), Age: 5\n"
     ]
    },
    {
     "name": "stderr",
     "output_type": "stream",
     "text": [
      " 28%|██▊       | 165/600 [05:32<04:24,  1.64it/s]  "
     ]
    },
    {
     "name": "stdout",
     "output_type": "stream",
     "text": [
      "Initial: 511, Deduplicated: 312, Operation simplified: 0, Constant: 67, Final: 132\n",
      "Population mean complexity: 13.469696969696969\n",
      "Population mean fitness: 4237953.976721494\n",
      "\n",
      "0. Fitness: 0.011, Genome: x[0], Age: 0\n",
      "1. Fitness: 0.139, Genome: (x[0] - sin(((x[1] - sin(abs(x[1]))) * x[1]))), Age: 7\n",
      "2. Fitness: 0.141, Genome: (x[0] + sin(sin(x[1]))), Age: 1\n",
      "3. Fitness: 0.145, Genome: (x[0] - sin((((x[1] - sin(abs(x[1]))) * (x[0] - sin(x[1]))) * (x[1] * x[1])))), Age: 14\n",
      "4. Fitness: 0.160, Genome: (x[0] + sin(sin((x[1] - sin(abs(sin(x[1]))))))), Age: 10\n"
     ]
    },
    {
     "name": "stderr",
     "output_type": "stream",
     "text": [
      " 30%|██▉       | 179/600 [05:41<03:51,  1.82it/s]"
     ]
    },
    {
     "name": "stdout",
     "output_type": "stream",
     "text": [
      "Initial: 540, Deduplicated: 354, Operation simplified: 0, Constant: 59, Final: 127\n",
      "Population mean complexity: 22.62992125984252\n",
      "Population mean fitness: 4404782.399455512\n",
      "\n",
      "0. Fitness: 0.011, Genome: x[0], Age: 0\n",
      "1. Fitness: 0.120, Genome: (x[0] + sin(sin(sin(x[1])))), Age: 11\n",
      "2. Fitness: 0.130, Genome: (x[0] - sin((abs(sin((x[1] * x[1]))) / x[0]))), Age: 7\n",
      "3. Fitness: 0.139, Genome: (x[0] - sin(((x[1] - sin(abs(x[1]))) * x[1]))), Age: 13\n",
      "4. Fitness: 0.141, Genome: (x[0] + sin(sin(x[1]))), Age: 16\n",
      "Generation 179: Mean fitness 4404782.399455512\n"
     ]
    },
    {
     "name": "stderr",
     "output_type": "stream",
     "text": [
      " 30%|██▉       | 179/600 [05:48<13:39,  1.95s/it]"
     ]
    },
    {
     "name": "stdout",
     "output_type": "stream",
     "text": [
      "ERROR\n"
     ]
    },
    {
     "name": "stderr",
     "output_type": "stream",
     "text": [
      "\n"
     ]
    }
   ],
   "source": [
    "try:\n",
    "    problem = np.load(\"data/problem_0.npz\")\n",
    "    x = problem[\"x\"]\n",
    "    y = problem[\"y\"]\n",
    "    print(\"x.shape:\", x.shape)\n",
    "    print(\"y.shape:\", y.shape)\n",
    "    my_pop_0 = evolve(x,y)\n",
    "except:\n",
    "    print(\"ERROR\")"
   ]
  },
  {
   "cell_type": "code",
   "execution_count": null,
   "metadata": {},
   "outputs": [],
   "source": [
    "try:\n",
    "    problem = np.load(\"data/problem_1.npz\")\n",
    "    x = problem[\"x\"]\n",
    "    y = problem[\"y\"]\n",
    "    print(\"x.shape:\", x.shape)\n",
    "    print(\"y.shape:\", y.shape)\n",
    "    my_pop_1 = evolve(x,y)\n",
    "except:\n",
    "    print(\"ERROR\")"
   ]
  },
  {
   "cell_type": "code",
   "execution_count": null,
   "metadata": {},
   "outputs": [],
   "source": [
    "try:\n",
    "    problem = np.load(\"data/problem_2.npz\")\n",
    "    x = problem[\"x\"]\n",
    "    y = problem[\"y\"]\n",
    "    print(\"x.shape:\", x.shape)\n",
    "    print(\"y.shape:\", y.shape)\n",
    "    my_pop_2 = evolve(x,y)\n",
    "except:\n",
    "    print(\"ERROR\")"
   ]
  },
  {
   "cell_type": "code",
   "execution_count": null,
   "metadata": {},
   "outputs": [],
   "source": [
    "try:\n",
    "    problem = np.load(\"data/problem_3.npz\")\n",
    "    x = problem[\"x\"]\n",
    "    y = problem[\"y\"]\n",
    "    print(\"x.shape:\", x.shape)\n",
    "    print(\"y.shape:\", y.shape)\n",
    "    my_pop_3 = evolve(x,y)\n",
    "except: \n",
    "    print(\"ERROR\")"
   ]
  },
  {
   "cell_type": "code",
   "execution_count": null,
   "metadata": {},
   "outputs": [],
   "source": [
    "try:\n",
    "    problem = np.load(\"data/problem_4.npz\")\n",
    "    x = problem[\"x\"]\n",
    "    y = problem[\"y\"]\n",
    "    print(\"x.shape:\", x.shape)\n",
    "    print(\"y.shape:\", y.shape)\n",
    "    my_pop_4 = evolve(x,y)\n",
    "except: \n",
    "    print(\"ERROR\")"
   ]
  },
  {
   "cell_type": "code",
   "execution_count": null,
   "metadata": {},
   "outputs": [],
   "source": [
    "try:\n",
    "    problem = np.load(\"data/problem_5.npz\")\n",
    "    x = problem[\"x\"]\n",
    "    y = problem[\"y\"]\n",
    "    print(\"x.shape:\", x.shape)\n",
    "    print(\"y.shape:\", y.shape)\n",
    "    my_pop_5 = evolve(x,y)\n",
    "except: \n",
    "    print(\"ERROR\")"
   ]
  },
  {
   "cell_type": "code",
   "execution_count": null,
   "metadata": {},
   "outputs": [],
   "source": [
    "try:\n",
    "    problem = np.load(\"data/problem_6.npz\")\n",
    "    x = problem[\"x\"]\n",
    "    y = problem[\"y\"]\n",
    "    print(\"x.shape:\", x.shape)\n",
    "    print(\"y.shape:\", y.shape)\n",
    "    my_pop_6 = evolve(x,y)\n",
    "except: \n",
    "    print(\"ERROR\")"
   ]
  },
  {
   "cell_type": "code",
   "execution_count": null,
   "metadata": {},
   "outputs": [],
   "source": [
    "try:\n",
    "    problem = np.load(\"data/problem_7.npz\")\n",
    "    x = problem[\"x\"]\n",
    "    y = problem[\"y\"]\n",
    "    print(\"x.shape:\", x.shape)\n",
    "    print(\"y.shape:\", y.shape)\n",
    "    my_pop_7 = evolve(x,y)\n",
    "except: \n",
    "    print(\"ERROR\")"
   ]
  },
  {
   "cell_type": "code",
   "execution_count": null,
   "metadata": {},
   "outputs": [],
   "source": [
    "try:\n",
    "    problem = np.load(\"data/problem_8.npz\")\n",
    "    x = problem[\"x\"]\n",
    "    y = problem[\"y\"]\n",
    "    print(\"x.shape:\", x.shape)\n",
    "    print(\"y.shape:\", y.shape)\n",
    "    my_pop_8 = evolve(x,y)\n",
    "except: \n",
    "    print(\"ERROR\")"
   ]
  },
  {
   "cell_type": "code",
   "execution_count": null,
   "metadata": {},
   "outputs": [],
   "source": []
  },
  {
   "cell_type": "code",
   "execution_count": null,
   "metadata": {},
   "outputs": [],
   "source": []
  }
 ],
 "metadata": {
  "kernelspec": {
   "display_name": "ci",
   "language": "python",
   "name": "python3"
  },
  "language_info": {
   "codemirror_mode": {
    "name": "ipython",
    "version": 3
   },
   "file_extension": ".py",
   "mimetype": "text/x-python",
   "name": "python",
   "nbconvert_exporter": "python",
   "pygments_lexer": "ipython3",
   "version": "3.10.15"
  }
 },
 "nbformat": 4,
 "nbformat_minor": 2
}
