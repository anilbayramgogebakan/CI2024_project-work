{
 "cells": [
  {
   "cell_type": "code",
   "execution_count": 1,
   "metadata": {},
   "outputs": [],
   "source": [
    "import numpy as np\n",
    "from src.utils import *\n",
    "from tqdm import tqdm\n",
    "\n",
    "unary_operators=[np.sin, np.cos, np.exp, np.abs, np.log, np.tan]\n",
    "binary_operators=[np.add, np.subtract, np.multiply, np.divide]\n",
    "\n",
    "\n",
    "operators = unary_operators + binary_operators"
   ]
  },
  {
   "cell_type": "code",
   "execution_count": 2,
   "metadata": {},
   "outputs": [
    {
     "name": "stdout",
     "output_type": "stream",
     "text": [
      "x.shape: (2, 1000)\n",
      "y.shape: (1000,)\n"
     ]
    }
   ],
   "source": [
    "problem = np.load(\"data/problem_0.npz\")\n",
    "x = problem[\"x\"]\n",
    "y = problem[\"y\"]\n",
    "print(\"x.shape:\", x.shape)\n",
    "print(\"y.shape:\", y.shape)"
   ]
  },
  {
   "cell_type": "code",
   "execution_count": 3,
   "metadata": {},
   "outputs": [
    {
     "data": {
      "text/plain": [
       "1000"
      ]
     },
     "execution_count": 3,
     "metadata": {},
     "output_type": "execute_result"
    }
   ],
   "source": [
    "x.shape[1]"
   ]
  },
  {
   "cell_type": "code",
   "execution_count": 4,
   "metadata": {},
   "outputs": [
    {
     "name": "stdout",
     "output_type": "stream",
     "text": [
      "(2, 800)\n",
      "(2, 200)\n",
      "(800,)\n",
      "(200,)\n"
     ]
    }
   ],
   "source": [
    "train_split_ratio = 0.8\n",
    "train_len = int(x.shape[1]*train_split_ratio)\n",
    "train_x = x[:,:train_len]\n",
    "val_x = x[:,train_len:]\n",
    "train_y = y[:train_len]\n",
    "val_y = y[train_len:]\n",
    "print(train_x.shape)\n",
    "print(val_x.shape)\n",
    "print(train_y.shape)\n",
    "print(val_y.shape)"
   ]
  },
  {
   "cell_type": "code",
   "execution_count": 5,
   "metadata": {},
   "outputs": [
    {
     "name": "stdout",
     "output_type": "stream",
     "text": [
      "0.00014421615402757763\n",
      "0.00013792776500560924\n"
     ]
    }
   ],
   "source": [
    "my_node = Node(value=np.add, left=Node(value=None, feature_index=0), right=Node(value=np.multiply, left=Node(value=0.2), right=Node(value=None, feature_index=1)))\n",
    "my_inv = Individual(genome=my_node)\n",
    "assign_population_fitness_train([my_inv], train_x, train_y)\n",
    "print(my_inv.fitness)\n",
    "assign_population_fitness_val([my_inv], val_x, val_y)\n",
    "print(my_inv.fitness_val)"
   ]
  },
  {
   "cell_type": "code",
   "execution_count": null,
   "metadata": {},
   "outputs": [],
   "source": [
    "def evolve(train_x,train_y,val_x,val_y):\n",
    "\n",
    "    NUM_POPULATION = 100\n",
    "    NUM_GENERATIONS = 600\n",
    "    MAX_DEPTH_INITIAL = 5\n",
    "    DEDUPE_INTERVAL = 15\n",
    "    ELITISM = False\n",
    "    ELITE_COUNT = 3\n",
    "    TOURNAMENT_SUBSET_SIZE = 3\n",
    "    TOURNAMENT_WINNER_SIZE = 20\n",
    "    XOVER = 0.8\n",
    "    MUTATION = 0.8\n",
    "    BREED_NEW = 15\n",
    "    KILL_AGE = 16\n",
    "    MAX_COMPLEXITY = 100\n",
    "    CONSTANT_FIT_INTERVAL = 30\n",
    "    CONSTANT_FIT_ITERATION = 6\n",
    "\n",
    "    print(\"Population is creating with a size: \", NUM_POPULATION)\n",
    "    my_population = create_population(NUM_POPULATION,MAX_DEPTH_INITIAL,train_x.shape[0])\n",
    "    print(\"Population has created.\")\n",
    "    print(\"Individual fitness values are assigning\")\n",
    "    assign_population_fitness_train(my_population,train_x,train_y)\n",
    "    assign_population_fitness_val(my_population,val_x,val_y)\n",
    "    print(f\" Population size: {len(my_population)}\")\n",
    "    print(f\"Population mean fitness: {calculate_mean_fitness(my_population)}\")\n",
    "    print(f\"Population mean complexity: {calculate_mean_complexity(my_population)}\")\n",
    "\n",
    "    # Sort the population by fitness (ascending), then take the top 5\n",
    "    top_5_individuals = top_n_individuals(my_population, 5)\n",
    "\n",
    "    # Print the top 5 individuals with the minimum fitness\n",
    "    for i, individual in enumerate(top_5_individuals, 1):\n",
    "        print(f\"Top {i}: Fitness = {individual.fitness:.4f} Fitness_val = {individual.fitness_val:.4f} Genome = {individual.genome}\")\n",
    "    #----------------------------------------------------------------------------\n",
    "    assign_population_fitness_train(my_population,train_x,train_y)\n",
    "    assign_population_fitness_val(my_population,val_x,val_y)\n",
    "    best_result = top_n_individuals(my_population, 1)[0]\n",
    "    for generation in tqdm(range(NUM_GENERATIONS)):\n",
    "        num_xover=0\n",
    "        num_mut=0\n",
    "        num_succesfull_mut=0\n",
    "        age_population(my_population)\n",
    "        \n",
    "\n",
    "        # Kill eldest individuals\n",
    "        kill_eldest(my_population, KILL_AGE)\n",
    "        # print(\"Population size before killing constants: \", len(my_population))\n",
    "        \n",
    "        # print(\"Population size after killing constants: \", len(my_population))\n",
    "\n",
    "\n",
    "        best_ind = tournament_selection(my_population,TOURNAMENT_SUBSET_SIZE,TOURNAMENT_WINNER_SIZE,ELITISM=ELITISM, elite_count=ELITE_COUNT)\n",
    "\n",
    "        \n",
    "        for _ in range(BREED_NEW): # CHECK\n",
    "            if random.random() < XOVER:\n",
    "                # Xover the best individual and replace worst individuals\n",
    "                parent1 = my_population[best_ind[np.random.choice(len(best_ind))]]\n",
    "                parent2 = my_population[best_ind[np.random.choice(len(best_ind))]]\n",
    "                child1, child2 = crossover(parent1,parent2)\n",
    "                my_population.append(child1)\n",
    "                my_population.append(child2)\n",
    "                num_xover+=1\n",
    "\n",
    "            if random.random() < MUTATION:\n",
    "                # Mutate best individuals and replace worst individuals\n",
    "                parent = my_population[best_ind[np.random.choice(len(best_ind))]]\n",
    "                \n",
    "                child, success = mutation_w_sa(parent, x.shape[0], train_x, train_y)\n",
    "                num_mut+=1\n",
    "                if success:                \n",
    "                    my_population.append(child)\n",
    "                    num_succesfull_mut+=1\n",
    "\n",
    "        assign_population_fitness_train(my_population,train_x,train_y)\n",
    "        assign_population_fitness_val(my_population,val_x,val_y)\n",
    "\n",
    "        # print(f\"xover: {num_xover}, mut: {num_mut}, succesfull mut: {num_succesfull_mut}\")\n",
    "        simplify_constant_population(my_population)\n",
    "        # Update elites age as 0\n",
    "        elites = top_n_individuals(my_population, ELITE_COUNT)\n",
    "        if best_result.fitness_val > elites[0].fitness_val:\n",
    "            best_result = elites[0]\n",
    "            print(f\"New best result found: {best_result}\")\n",
    "        \n",
    "        for elite in elites:\n",
    "            my_population.remove(elite)\n",
    "            elite.age = 0\n",
    "            my_population.append(elite)\n",
    "\n",
    "        # Deduplicate every few iterations\n",
    "        if generation % DEDUPE_INTERVAL == DEDUPE_INTERVAL-1:\n",
    "            init_population = len(my_population)\n",
    "            my_population = deduplicate_population(my_population)\n",
    "            dedup_population = len(my_population)\n",
    "            simplify_operation_population(my_population)\n",
    "            simplified_operations = len(my_population)\n",
    "            kill_constant(my_population)\n",
    "            no_constant = len(my_population)\n",
    "            kill_complex(my_population, MAX_COMPLEXITY)\n",
    "            no_complex = len(my_population)\n",
    "\n",
    "            print(f\"Initial: {init_population}, Deduplicated: {init_population-dedup_population}, Operation simplified: {dedup_population-simplified_operations}, Constant: {simplified_operations-no_constant}, Complex: {no_constant - no_complex}, Final: {no_complex}\")\n",
    "            print(f\"Population mean complexity: {calculate_mean_complexity(my_population)}\")\n",
    "            print(f\"Population mean fitness: {calculate_mean_fitness(my_population)}\")\n",
    "            print()\n",
    "            best_5 = top_n_individuals(my_population, 5)\n",
    "            for ind in range(len(best_5)):\n",
    "                print(f\"{ind}. Fitness: {best_5[ind].fitness:.4f}, Fitness_val = {best_5[ind].fitness_val:.4f}, Genome: {best_5[ind].genome}, Age: {best_5[ind].age}, Complexity: {best_5[ind].genome.complexity}\")\n",
    "                \n",
    "        #     # Fit constants of every individual\n",
    "        if generation % CONSTANT_FIT_INTERVAL == CONSTANT_FIT_INTERVAL-1:\n",
    "            print(f\"Generation {generation}: Mean fitness {calculate_mean_fitness(my_population)}\")\n",
    "            for ind in range(len(my_population)):\n",
    "                stronger_inv = fit_constants(my_population[ind],CONSTANT_FIT_ITERATION, train_x, train_y)\n",
    "                my_population[ind] = stronger_inv\n",
    "            assign_population_fitness_val(my_population,val_x,val_y)\n",
    "            print(f\"Population mean fitness after constant fit: {calculate_mean_fitness(my_population)}\")\n",
    "            best_5 = top_n_individuals(my_population, 5)\n",
    "            for ind in range(len(best_5)):\n",
    "                print(f\"{ind}. Fitness: {best_5[ind].fitness:.4f}, Fitness_val = {best_5[ind].fitness_val:.4f}, Genome: {best_5[ind].genome}, Age: {best_5[ind].age}, Complexity: {best_5[ind].genome.complexity}\")\n",
    "        \n",
    "\n",
    "    my_population = deduplicate_population(my_population)\n",
    "    #-------------------------------------------------------------------------------------------------------\n",
    "    assign_population_fitness_train(my_population,train_x,train_y)\n",
    "    for i in my_population:\n",
    "        if i.fitness == None:\n",
    "            print('Cannot assign fitness')\n",
    "            return my_population\n",
    "    assign_population_fitness_val(my_population,val_x,val_y)\n",
    "    for i in my_population:\n",
    "        if i.fitness_val == None:\n",
    "            print('Cannot assign fitness_val')\n",
    "            return my_population\n",
    "    # Sort the population by fitness (ascending), then take the top 5\n",
    "    top_5_individuals = top_n_individuals(my_population, 15)\n",
    "\n",
    "    # Print the best individual\n",
    "    print(f\"Best individual: Fitness = {best_result.fitness}: Genome = {best_result.genome}\")\n",
    "    # Print the top 5 individuals with the minimum fitness in population\n",
    "    for i, individual in enumerate(top_5_individuals, 1):\n",
    "        print(f\"Top {i}: Fitness = {individual.fitness} Fitness_val = {individual.fitness_val} Genome = {individual.genome}\")\n",
    "\n",
    "    # Print the mean fitness of the population\n",
    "    print(\"Mean fitness of the population: \", calculate_mean_fitness(my_population))\n",
    "    print(\"Population size: \", len(my_population))\n",
    "    print(f\"Population mean complexity: {calculate_mean_complexity(my_population)}\")\n",
    "    \n",
    "    return my_population"
   ]
  },
  {
   "cell_type": "code",
   "execution_count": 7,
   "metadata": {},
   "outputs": [
    {
     "name": "stdout",
     "output_type": "stream",
     "text": [
      "x.shape: (2, 1000)\n",
      "y.shape: (1000,)\n",
      "Population is creating with a size:  100\n",
      "Population has created.\n",
      "Individual fitness values are assigning\n",
      " Population size: 68\n",
      "Population mean fitness: 2.0807124385420348e+16\n",
      "Population mean complexity: 150.61764705882354\n",
      "Top 1: Fitness = 0.2207 Fitness_val = 0.2113 Genome = (x[0] + x[1])\n",
      "Top 2: Fitness = 0.2207 Fitness_val = 0.2113 Genome = (x[0] + x[1])\n",
      "Top 3: Fitness = 0.2207 Fitness_val = 0.2113 Genome = (x[1] + x[0])\n",
      "Top 4: Fitness = 1.8755 Fitness_val = 1.9533 Genome = sin(x[0])\n",
      "Top 5: Fitness = 1.8755 Fitness_val = 1.9533 Genome = sin(x[0])\n"
     ]
    },
    {
     "name": "stderr",
     "output_type": "stream",
     "text": [
      "  0%|          | 1/600 [00:01<14:21,  1.44s/it]"
     ]
    },
    {
     "name": "stdout",
     "output_type": "stream",
     "text": [
      "New best result found: Individual(genome=x[0], fitness=np.float64(0.010763171848597946), fitness_val=np.float64(0.010325632633118373), age=0, T=1)\n"
     ]
    },
    {
     "name": "stderr",
     "output_type": "stream",
     "text": [
      "  2%|▎         | 15/600 [00:14<06:31,  1.49it/s]"
     ]
    },
    {
     "name": "stdout",
     "output_type": "stream",
     "text": [
      "Initial: 597, Deduplicated: 406, Operation simplified: 0, Constant: 97, Complex: 30, Final: 64\n",
      "Population mean complexity: 4.75\n",
      "Population mean fitness: 635.2966413711011\n",
      "\n",
      "0. Fitness: 0.0108, Fitness_val = 0.0103, Genome: x[0], Age: 0\n",
      "1. Fitness: 0.2207, Fitness_val = 0.2113, Genome: (x[0] + x[1]), Age: 11\n",
      "2. Fitness: 1.1778, Fitness_val = 1.1209, Genome: (x[0] + (x[0] * x[1])), Age: 14\n",
      "3. Fitness: 1.8755, Fitness_val = 1.9533, Genome: sin(x[0]), Age: 0\n",
      "4. Fitness: 3.6512, Fitness_val = 3.4961, Genome: abs(x[1]), Age: 11\n"
     ]
    },
    {
     "name": "stderr",
     "output_type": "stream",
     "text": [
      "  5%|▍         | 29/600 [00:26<07:39,  1.24it/s]"
     ]
    },
    {
     "name": "stdout",
     "output_type": "stream",
     "text": [
      "Initial: 535, Deduplicated: 386, Operation simplified: 0, Constant: 92, Complex: 0, Final: 57\n",
      "Population mean complexity: 4.017543859649122\n",
      "Population mean fitness: 117.14301090810487\n",
      "\n",
      "0. Fitness: 0.0108, Fitness_val = 0.0103, Genome: x[0], Age: 0\n",
      "1. Fitness: 0.2207, Fitness_val = 0.2113, Genome: (x[0] + x[1]), Age: 8\n",
      "2. Fitness: 0.3392, Fitness_val = 0.3282, Genome: (x[0] + abs(x[1])), Age: 9\n",
      "3. Fitness: 1.1778, Fitness_val = 1.1209, Genome: (x[0] + (x[1] * x[0])), Age: 4\n",
      "4. Fitness: 1.8755, Fitness_val = 1.9533, Genome: sin(x[0]), Age: 14\n",
      "Generation 29: Mean fitness 117.14301090810487\n"
     ]
    },
    {
     "name": "stderr",
     "output_type": "stream",
     "text": [
      "  5%|▌         | 30/600 [00:47<1:05:10,  6.86s/it]"
     ]
    },
    {
     "name": "stdout",
     "output_type": "stream",
     "text": [
      "Population mean fitness after constant fit: 120.87587688723491\n",
      "0. Fitness: 0.0108, Fitness_val = 0.0103, Genome: x[0], Age: 0\n",
      "1. Fitness: 0.2207, Fitness_val = 0.2113, Genome: (x[0] + x[1]), Age: 8\n",
      "2. Fitness: 0.3392, Fitness_val = 0.3282, Genome: (x[0] + abs(x[1])), Age: 9\n",
      "3. Fitness: 1.1778, Fitness_val = 1.1209, Genome: (x[0] + (x[1] * x[0])), Age: 4\n",
      "4. Fitness: 1.8755, Fitness_val = 1.9533, Genome: sin(x[0]), Age: 14\n"
     ]
    },
    {
     "name": "stderr",
     "output_type": "stream",
     "text": [
      "  8%|▊         | 45/600 [00:59<08:07,  1.14it/s]  "
     ]
    },
    {
     "name": "stdout",
     "output_type": "stream",
     "text": [
      "Initial: 548, Deduplicated: 402, Operation simplified: 0, Constant: 78, Complex: 0, Final: 68\n",
      "Population mean complexity: 3.426470588235294\n",
      "Population mean fitness: 453.3420541117525\n",
      "\n",
      "0. Fitness: 0.0108, Fitness_val = 0.0103, Genome: x[0], Age: 0\n",
      "1. Fitness: 0.0813, Fitness_val = 0.0784, Genome: ((x[1] * (x[1] * x[1])) + x[0]), Age: 6\n",
      "2. Fitness: 0.2065, Fitness_val = 0.2005, Genome: ((x[1] * x[1]) + x[0]), Age: 11\n",
      "3. Fitness: 0.2207, Fitness_val = 0.2113, Genome: (x[0] + x[1]), Age: 0\n",
      "4. Fitness: 0.3392, Fitness_val = 0.3282, Genome: (x[0] + abs(x[1])), Age: 12\n"
     ]
    },
    {
     "name": "stderr",
     "output_type": "stream",
     "text": [
      " 10%|▉         | 59/600 [01:10<07:32,  1.19it/s]"
     ]
    },
    {
     "name": "stdout",
     "output_type": "stream",
     "text": [
      "Initial: 510, Deduplicated: 380, Operation simplified: 0, Constant: 64, Complex: 0, Final: 66\n",
      "Population mean complexity: 5.318181818181818\n",
      "Population mean fitness: 158.26026598402566\n",
      "\n",
      "0. Fitness: 0.0108, Fitness_val = 0.0103, Genome: x[0], Age: 0\n",
      "1. Fitness: 0.2065, Fitness_val = 0.2005, Genome: ((x[1] * x[1]) + x[0]), Age: 8\n",
      "2. Fitness: 0.2207, Fitness_val = 0.2113, Genome: (x[0] + x[1]), Age: 1\n",
      "3. Fitness: 0.4584, Fitness_val = 0.4391, Genome: (x[0] - x[1]), Age: 4\n",
      "4. Fitness: 1.1778, Fitness_val = 1.1209, Genome: ((x[1] * x[0]) + x[0]), Age: 8\n",
      "Generation 59: Mean fitness 158.26026598402566\n"
     ]
    },
    {
     "name": "stderr",
     "output_type": "stream",
     "text": [
      " 10%|█         | 60/600 [01:35<1:11:41,  7.97s/it]"
     ]
    },
    {
     "name": "stdout",
     "output_type": "stream",
     "text": [
      "Population mean fitness after constant fit: 157.69421921200234\n",
      "0. Fitness: 0.0108, Fitness_val = 0.0103, Genome: x[0], Age: 0\n",
      "1. Fitness: 0.2065, Fitness_val = 0.2005, Genome: ((x[1] * x[1]) + x[0]), Age: 8\n",
      "2. Fitness: 0.2207, Fitness_val = 0.2113, Genome: (x[0] + x[1]), Age: 1\n",
      "3. Fitness: 0.4584, Fitness_val = 0.4391, Genome: (x[0] - x[1]), Age: 4\n",
      "4. Fitness: 1.1778, Fitness_val = 1.1209, Genome: ((x[1] * x[0]) + x[0]), Age: 8\n"
     ]
    },
    {
     "name": "stderr",
     "output_type": "stream",
     "text": [
      " 12%|█▎        | 75/600 [01:48<07:10,  1.22it/s]  "
     ]
    },
    {
     "name": "stdout",
     "output_type": "stream",
     "text": [
      "Initial: 539, Deduplicated: 390, Operation simplified: 0, Constant: 88, Complex: 0, Final: 61\n",
      "Population mean complexity: 3.819672131147541\n",
      "Population mean fitness: 26.67955027826248\n",
      "\n",
      "0. Fitness: 0.0108, Fitness_val = 0.0103, Genome: x[0], Age: 0\n",
      "1. Fitness: 0.2065, Fitness_val = 0.2005, Genome: ((x[1] * x[1]) + x[0]), Age: 11\n",
      "2. Fitness: 0.2207, Fitness_val = 0.2113, Genome: (x[1] + x[0]), Age: 1\n",
      "3. Fitness: 0.4584, Fitness_val = 0.4391, Genome: (x[0] - x[1]), Age: 1\n",
      "4. Fitness: 1.1778, Fitness_val = 1.1209, Genome: ((x[0] * x[1]) + x[0]), Age: 11\n"
     ]
    },
    {
     "name": "stderr",
     "output_type": "stream",
     "text": [
      " 15%|█▍        | 89/600 [02:00<05:43,  1.49it/s]"
     ]
    },
    {
     "name": "stdout",
     "output_type": "stream",
     "text": [
      "Initial: 538, Deduplicated: 380, Operation simplified: 0, Constant: 83, Complex: 0, Final: 75\n",
      "Population mean complexity: 3.84\n",
      "Population mean fitness: 24.947914365564078\n",
      "\n",
      "0. Fitness: 0.0108, Fitness_val = 0.0103, Genome: x[0], Age: 0\n",
      "1. Fitness: 0.2065, Fitness_val = 0.2005, Genome: ((x[1] * x[1]) + x[0]), Age: 14\n",
      "2. Fitness: 0.2207, Fitness_val = 0.2113, Genome: (x[1] + x[0]), Age: 0\n",
      "3. Fitness: 0.4584, Fitness_val = 0.4391, Genome: (x[0] - x[1]), Age: 11\n",
      "4. Fitness: 0.5193, Fitness_val = 0.4937, Genome: (cos(x[0]) + x[0]), Age: 1\n",
      "Generation 89: Mean fitness 24.947914365564078\n"
     ]
    },
    {
     "name": "stderr",
     "output_type": "stream",
     "text": [
      " 15%|█▌        | 90/600 [02:33<1:27:43, 10.32s/it]"
     ]
    },
    {
     "name": "stdout",
     "output_type": "stream",
     "text": [
      "Population mean fitness after constant fit: 27.655427060727465\n",
      "0. Fitness: 0.0108, Fitness_val = 0.0103, Genome: x[0], Age: 0\n",
      "1. Fitness: 0.2065, Fitness_val = 0.2005, Genome: ((x[1] * x[1]) + x[0]), Age: 14\n",
      "2. Fitness: 0.2207, Fitness_val = 0.2113, Genome: (x[1] + x[0]), Age: 0\n",
      "3. Fitness: 0.4584, Fitness_val = 0.4391, Genome: (x[0] - x[1]), Age: 11\n",
      "4. Fitness: 0.5193, Fitness_val = 0.4937, Genome: (cos(x[0]) + x[0]), Age: 1\n"
     ]
    },
    {
     "name": "stderr",
     "output_type": "stream",
     "text": [
      " 18%|█▊        | 105/600 [02:47<05:16,  1.56it/s] "
     ]
    },
    {
     "name": "stdout",
     "output_type": "stream",
     "text": [
      "Initial: 570, Deduplicated: 413, Operation simplified: 0, Constant: 63, Complex: 0, Final: 94\n",
      "Population mean complexity: 4.053191489361702\n",
      "Population mean fitness: 66.99464914473054\n",
      "\n",
      "0. Fitness: 0.0108, Fitness_val = 0.0103, Genome: x[0], Age: 0\n",
      "1. Fitness: 0.2065, Fitness_val = 0.2005, Genome: ((x[1] * x[1]) + x[0]), Age: 13\n",
      "2. Fitness: 0.2207, Fitness_val = 0.2113, Genome: (x[1] + x[0]), Age: 3\n",
      "3. Fitness: 0.4229, Fitness_val = 0.3824, Genome: ((x[1] * x[1]) + (x[1] + x[0])), Age: 12\n",
      "4. Fitness: 0.4584, Fitness_val = 0.4391, Genome: (x[0] - x[1]), Age: 11\n"
     ]
    },
    {
     "name": "stderr",
     "output_type": "stream",
     "text": [
      " 20%|█▉        | 119/600 [03:02<06:54,  1.16it/s]"
     ]
    },
    {
     "name": "stdout",
     "output_type": "stream",
     "text": [
      "Initial: 549, Deduplicated: 363, Operation simplified: 0, Constant: 74, Complex: 0, Final: 112\n",
      "Population mean complexity: 4.892857142857143\n",
      "Population mean fitness: 77.22920067748193\n",
      "\n",
      "0. Fitness: 0.0108, Fitness_val = 0.0103, Genome: x[0], Age: 0\n",
      "1. Fitness: 0.0813, Fitness_val = 0.0784, Genome: (((x[1] * x[1]) * x[1]) + x[0]), Age: 9\n",
      "2. Fitness: 0.1173, Fitness_val = 0.0911, Genome: (((x[1] * x[1]) * cos(x[0])) + x[0]), Age: 11\n",
      "3. Fitness: 0.0995, Fitness_val = 0.0960, Genome: (((x[1] * x[1]) * cos(x[1])) + x[0]), Age: 11\n",
      "4. Fitness: 0.2207, Fitness_val = 0.2113, Genome: (x[0] + x[1]), Age: 0\n",
      "Generation 119: Mean fitness 77.22920067748193\n"
     ]
    },
    {
     "name": "stderr",
     "output_type": "stream",
     "text": [
      " 20%|██        | 120/600 [03:52<2:05:21, 15.67s/it]"
     ]
    },
    {
     "name": "stdout",
     "output_type": "stream",
     "text": [
      "Population mean fitness after constant fit: 134.2171193686607\n",
      "0. Fitness: 0.0108, Fitness_val = 0.0103, Genome: x[0], Age: 0\n",
      "1. Fitness: 0.0813, Fitness_val = 0.0784, Genome: (((x[1] * x[1]) * x[1]) + x[0]), Age: 9\n",
      "2. Fitness: 0.1173, Fitness_val = 0.0911, Genome: (((x[1] * x[1]) * cos(x[0])) + x[0]), Age: 11\n",
      "3. Fitness: 0.0995, Fitness_val = 0.0960, Genome: (((x[1] * x[1]) * cos(x[1])) + x[0]), Age: 11\n",
      "4. Fitness: 0.2207, Fitness_val = 0.2113, Genome: (x[0] + x[1]), Age: 0\n"
     ]
    },
    {
     "name": "stderr",
     "output_type": "stream",
     "text": [
      " 22%|██▎       | 135/600 [04:05<05:55,  1.31it/s]  "
     ]
    },
    {
     "name": "stdout",
     "output_type": "stream",
     "text": [
      "Initial: 562, Deduplicated: 370, Operation simplified: 0, Constant: 61, Complex: 0, Final: 131\n",
      "Population mean complexity: 5.648854961832061\n",
      "Population mean fitness: 166.97555579675165\n",
      "\n",
      "0. Fitness: 0.0108, Fitness_val = 0.0103, Genome: x[0], Age: 0\n",
      "1. Fitness: 0.0813, Fitness_val = 0.0784, Genome: (((x[1] * x[1]) * x[1]) + x[0]), Age: 11\n",
      "2. Fitness: 0.0995, Fitness_val = 0.0960, Genome: (((x[1] * x[1]) * cos(x[1])) + x[0]), Age: 10\n",
      "3. Fitness: 0.1211, Fitness_val = 0.1157, Genome: (((x[1] * x[1]) * cos((x[1] * x[1]))) + x[0]), Age: 13\n",
      "4. Fitness: 0.2065, Fitness_val = 0.2005, Genome: (x[0] + (x[1] * x[1])), Age: 3\n"
     ]
    },
    {
     "name": "stderr",
     "output_type": "stream",
     "text": [
      " 25%|██▍       | 149/600 [04:18<06:27,  1.16it/s]"
     ]
    },
    {
     "name": "stdout",
     "output_type": "stream",
     "text": [
      "Initial: 546, Deduplicated: 381, Operation simplified: 0, Constant: 63, Complex: 0, Final: 102\n",
      "Population mean complexity: 6.303921568627451\n",
      "Population mean fitness: 56.281479881413965\n",
      "\n",
      "0. Fitness: 0.0108, Fitness_val = 0.0103, Genome: x[0], Age: 0\n",
      "1. Fitness: 0.0813, Fitness_val = 0.0784, Genome: (((x[1] * x[1]) * x[1]) + x[0]), Age: 14\n",
      "2. Fitness: 0.0990, Fitness_val = 0.0958, Genome: ((x[1] * cos(x[1])) + x[0]), Age: 8\n",
      "3. Fitness: 0.0995, Fitness_val = 0.0960, Genome: (((x[1] * x[1]) * cos(x[1])) + x[0]), Age: 12\n",
      "4. Fitness: 0.2225, Fitness_val = 0.1998, Genome: ((x[1] * (x[1] + ((x[1] * x[1]) * cos(x[1])))) + x[0]), Age: 14\n",
      "Generation 149: Mean fitness 56.281479881413965\n"
     ]
    },
    {
     "name": "stderr",
     "output_type": "stream",
     "text": [
      " 25%|██▌       | 150/600 [04:56<1:31:58, 12.26s/it]"
     ]
    },
    {
     "name": "stdout",
     "output_type": "stream",
     "text": [
      "Population mean fitness after constant fit: 55.84618809757306\n",
      "0. Fitness: 0.0108, Fitness_val = 0.0103, Genome: x[0], Age: 0\n",
      "1. Fitness: 0.0813, Fitness_val = 0.0784, Genome: (((x[1] * x[1]) * x[1]) + x[0]), Age: 14\n",
      "2. Fitness: 0.0990, Fitness_val = 0.0958, Genome: ((x[1] * cos(x[1])) + x[0]), Age: 8\n",
      "3. Fitness: 0.0995, Fitness_val = 0.0960, Genome: (((x[1] * x[1]) * cos(x[1])) + x[0]), Age: 12\n",
      "4. Fitness: 0.2225, Fitness_val = 0.1998, Genome: ((x[1] * (x[1] + ((x[1] * x[1]) * cos(x[1])))) + x[0]), Age: 14\n"
     ]
    },
    {
     "name": "stderr",
     "output_type": "stream",
     "text": [
      " 28%|██▊       | 165/600 [05:12<06:10,  1.18it/s]  "
     ]
    },
    {
     "name": "stdout",
     "output_type": "stream",
     "text": [
      "Initial: 557, Deduplicated: 334, Operation simplified: 0, Constant: 56, Complex: 0, Final: 167\n",
      "Population mean complexity: 7.0\n",
      "Population mean fitness: 65.38723914215653\n",
      "\n",
      "0. Fitness: 0.0108, Fitness_val = 0.0103, Genome: x[0], Age: 0\n",
      "1. Fitness: 0.0594, Fitness_val = 0.0586, Genome: (((x[1] * x[0]) * (x[1] / (x[0] + x[0]))) + x[0]), Age: 4\n",
      "2. Fitness: 0.0813, Fitness_val = 0.0784, Genome: (((x[1] * x[1]) * x[1]) + x[0]), Age: 6\n",
      "3. Fitness: 0.1173, Fitness_val = 0.0911, Genome: (((x[1] * x[1]) * cos(x[0])) + x[0]), Age: 14\n",
      "4. Fitness: 0.0990, Fitness_val = 0.0958, Genome: ((x[1] * cos(x[1])) + x[0]), Age: 13\n"
     ]
    },
    {
     "name": "stderr",
     "output_type": "stream",
     "text": [
      " 30%|██▉       | 179/600 [05:24<05:10,  1.36it/s]"
     ]
    },
    {
     "name": "stdout",
     "output_type": "stream",
     "text": [
      "Initial: 538, Deduplicated: 340, Operation simplified: 0, Constant: 60, Complex: 0, Final: 138\n",
      "Population mean complexity: 7.898550724637682\n",
      "Population mean fitness: 14.17919508503095\n",
      "\n",
      "0. Fitness: 0.0108, Fitness_val = 0.0103, Genome: x[0], Age: 0\n",
      "1. Fitness: 0.0335, Fitness_val = 0.0321, Genome: ((x[0] * (x[1] / (x[0] + x[0]))) + x[0]), Age: 10\n",
      "2. Fitness: 0.0813, Fitness_val = 0.0784, Genome: (x[0] + ((x[1] * x[1]) * x[1])), Age: 3\n",
      "3. Fitness: 0.1173, Fitness_val = 0.0911, Genome: (((cos(x[0]) * x[1]) * x[1]) + x[0]), Age: 0\n",
      "4. Fitness: 0.1173, Fitness_val = 0.1105, Genome: (((cos((x[0] + x[0])) * x[1]) * x[1]) + x[0]), Age: 12\n",
      "Generation 179: Mean fitness 14.17919508503095\n"
     ]
    },
    {
     "name": "stderr",
     "output_type": "stream",
     "text": [
      " 30%|███       | 180/600 [06:13<1:47:50, 15.41s/it]"
     ]
    },
    {
     "name": "stdout",
     "output_type": "stream",
     "text": [
      "Population mean fitness after constant fit: 13.998483856511065\n",
      "0. Fitness: 0.0108, Fitness_val = 0.0103, Genome: x[0], Age: 0\n",
      "1. Fitness: 0.0335, Fitness_val = 0.0321, Genome: ((x[0] * (x[1] / (x[0] + x[0]))) + x[0]), Age: 10\n",
      "2. Fitness: 0.0813, Fitness_val = 0.0784, Genome: (x[0] + ((x[1] * x[1]) * x[1])), Age: 3\n",
      "3. Fitness: 0.1173, Fitness_val = 0.0911, Genome: (((cos(x[0]) * x[1]) * x[1]) + x[0]), Age: 0\n",
      "4. Fitness: 0.1173, Fitness_val = 0.1105, Genome: (((cos((x[0] + x[0])) * x[1]) * x[1]) + x[0]), Age: 12\n"
     ]
    },
    {
     "name": "stderr",
     "output_type": "stream",
     "text": [
      " 32%|███▎      | 195/600 [06:25<04:22,  1.54it/s]  "
     ]
    },
    {
     "name": "stdout",
     "output_type": "stream",
     "text": [
      "Initial: 535, Deduplicated: 331, Operation simplified: 0, Constant: 51, Complex: 1, Final: 152\n",
      "Population mean complexity: 8.743421052631579\n",
      "Population mean fitness: 5.210123983599531\n",
      "\n",
      "0. Fitness: 0.0108, Fitness_val = 0.0103, Genome: x[0], Age: 0\n",
      "1. Fitness: 0.0335, Fitness_val = 0.0321, Genome: ((x[0] * (x[1] / (x[0] + x[0]))) + x[0]), Age: 1\n",
      "2. Fitness: 0.0563, Fitness_val = 0.0549, Genome: (((x[1] * ((x[1] * cos(x[0])) * cos(x[1]))) * (x[1] * ((x[0] * cos(x[0])) * cos(x[1])))) + x[0]), Age: 9\n",
      "3. Fitness: 0.0939, Fitness_val = 0.0761, Genome: ((((cos(x[0]) * x[1]) * x[1]) * x[1]) + x[0]), Age: 6\n",
      "4. Fitness: 0.0813, Fitness_val = 0.0784, Genome: (x[0] + ((x[1] * x[1]) * x[1])), Age: 8\n"
     ]
    },
    {
     "name": "stderr",
     "output_type": "stream",
     "text": [
      " 35%|███▍      | 209/600 [06:38<04:38,  1.41it/s]"
     ]
    },
    {
     "name": "stdout",
     "output_type": "stream",
     "text": [
      "Initial: 541, Deduplicated: 327, Operation simplified: 0, Constant: 56, Complex: 1, Final: 157\n",
      "Population mean complexity: 10.834394904458598\n",
      "Population mean fitness: 906.6193320785395\n",
      "\n",
      "0. Fitness: 0.0108, Fitness_val = 0.0103, Genome: x[0], Age: 0\n",
      "1. Fitness: 0.0146, Fitness_val = 0.0136, Genome: (((x[1] * ((x[1] * cos(x[0])) * cos(x[1]))) * (x[1] * (((cos(((x[1] * cos(((x[1] * x[1]) * x[0]))) + x[0])) * x[1]) * cos(x[0])) * cos(x[1])))) + x[0]), Age: 12\n",
      "2. Fitness: 0.0335, Fitness_val = 0.0321, Genome: ((x[0] * (x[1] / (x[0] + x[0]))) + x[0]), Age: 14\n",
      "3. Fitness: 0.0365, Fitness_val = 0.0383, Genome: (((x[1] * ((x[1] * cos(x[0])) * cos(x[1]))) * (x[1] * ((x[0] * cos(x[1])) * cos(x[1])))) + x[0]), Age: 10\n",
      "4. Fitness: 0.0523, Fitness_val = 0.0526, Genome: (x[0] + ((x[1] * ((cos(x[1]) * x[1]) * x[1])) * x[1])), Age: 11\n",
      "Generation 209: Mean fitness 906.6193320785395\n"
     ]
    },
    {
     "name": "stderr",
     "output_type": "stream",
     "text": [
      " 35%|███▌      | 210/600 [07:40<2:02:59, 18.92s/it]"
     ]
    },
    {
     "name": "stdout",
     "output_type": "stream",
     "text": [
      "Population mean fitness after constant fit: 906.8688623737071\n",
      "0. Fitness: 0.0108, Fitness_val = 0.0103, Genome: x[0], Age: 0\n",
      "1. Fitness: 0.0146, Fitness_val = 0.0136, Genome: (((x[1] * ((x[1] * cos(x[0])) * cos(x[1]))) * (x[1] * (((cos(((x[1] * cos(((x[1] * x[1]) * x[0]))) + x[0])) * x[1]) * cos(x[0])) * cos(x[1])))) + x[0]), Age: 12\n",
      "2. Fitness: 0.0335, Fitness_val = 0.0321, Genome: ((x[0] * (x[1] / (x[0] + x[0]))) + x[0]), Age: 14\n",
      "3. Fitness: 0.0365, Fitness_val = 0.0383, Genome: (((x[1] * ((x[1] * cos(x[0])) * cos(x[1]))) * (x[1] * ((x[0] * cos(x[1])) * cos(x[1])))) + x[0]), Age: 10\n",
      "4. Fitness: 0.0523, Fitness_val = 0.0526, Genome: (x[0] + ((x[1] * ((cos(x[1]) * x[1]) * x[1])) * x[1])), Age: 11\n"
     ]
    },
    {
     "name": "stderr",
     "output_type": "stream",
     "text": [
      " 35%|███▌      | 211/600 [07:41<1:28:51, 13.71s/it]"
     ]
    },
    {
     "name": "stdout",
     "output_type": "stream",
     "text": [
      "New best result found: Individual(genome=((x[1] * (x[1] * (((cos(((x[1] * cos(((x[1] * x[1]) * x[0]))) + x[0])) * x[1]) * cos(x[0])) * cos(x[1])))) + x[0]), fitness=np.float64(0.007508876256149364), fitness_val=np.float64(0.007715977606901027), age=0, T=1)\n"
     ]
    },
    {
     "name": "stderr",
     "output_type": "stream",
     "text": [
      " 35%|███▌      | 212/600 [07:43<1:04:47, 10.02s/it]"
     ]
    },
    {
     "name": "stdout",
     "output_type": "stream",
     "text": [
      "New best result found: Individual(genome=((x[1] * (x[1] * (((cos(((x[1] * x[1]) + x[0])) * x[1]) * cos(x[0])) * cos(x[1])))) + x[0]), fitness=np.float64(0.008333169102568459), fitness_val=np.float64(0.00679839813979076), age=0, T=1)\n"
     ]
    },
    {
     "name": "stderr",
     "output_type": "stream",
     "text": [
      " 36%|███▌      | 213/600 [07:45<48:47,  7.56s/it]  "
     ]
    },
    {
     "name": "stdout",
     "output_type": "stream",
     "text": [
      "New best result found: Individual(genome=(((x[1] * ((x[1] * cos(x[1])) * cos(x[1]))) * (x[1] * (((x[1] * ((cos(x[1]) * x[1]) * x[1])) * x[1]) * cos(x[1])))) + x[0]), fitness=np.float64(0.005855186207982976), fitness_val=np.float64(0.00571348116100999), age=0, T=1)\n"
     ]
    },
    {
     "name": "stderr",
     "output_type": "stream",
     "text": [
      " 36%|███▋      | 218/600 [07:52<14:59,  2.35s/it]"
     ]
    },
    {
     "name": "stdout",
     "output_type": "stream",
     "text": [
      "New best result found: Individual(genome=(((x[1] * ((x[1] * cos(x[1])) * cos(x[1]))) * (x[1] * cos(x[1]))) + x[0]), fitness=np.float64(0.0005671103253012482), fitness_val=np.float64(0.0005508331672540446), age=0, T=1)\n"
     ]
    },
    {
     "name": "stderr",
     "output_type": "stream",
     "text": [
      " 38%|███▊      | 225/600 [08:06<15:07,  2.42s/it]"
     ]
    },
    {
     "name": "stdout",
     "output_type": "stream",
     "text": [
      "Initial: 493, Deduplicated: 174, Operation simplified: 0, Constant: 18, Complex: 8, Final: 293\n",
      "Population mean complexity: 7.112627986348123\n",
      "Population mean fitness: 465140.7803735425\n",
      "\n",
      "0. Fitness: 0.0006, Fitness_val = 0.0006, Genome: (((x[1] * ((x[1] * cos(x[1])) * cos(x[1]))) * (x[1] * cos(x[1]))) + x[0]), Age: 0\n",
      "1. Fitness: 0.0031, Fitness_val = 0.0031, Genome: (((x[1] * ((x[1] * cos(x[1])) * cos(x[1]))) * (x[1] * cos(((x[1] * cos(x[0])) * cos(x[1]))))) + x[0]), Age: 0\n",
      "2. Fitness: 0.0039, Fitness_val = 0.0042, Genome: (((x[1] * ((x[1] * cos(x[1])) * cos(x[1]))) * (x[1] * (((cos(((((x[0] * x[1]) * x[1]) * (x[1] * ((x[1] * cos(x[1])) * cos(x[1])))) + x[0])) + ((cos(((x[1] * cos(((x[1] * x[1]) * x[0]))) + x[0])) * x[1]) * (x[1] * cos(x[1])))) * cos(x[0])) * cos(x[1])))) + x[0]), Age: 0\n",
      "3. Fitness: 0.0041, Fitness_val = 0.0043, Genome: (((x[1] * ((x[1] * cos(x[1])) * cos(x[1]))) * (x[1] * (((cos(((x[1] * ((x[1] * cos(x[1])) * cos(x[1]))) + x[0])) + ((cos(((x[1] * cos(((x[1] * x[1]) * x[0]))) + x[0])) * x[1]) * (x[1] * cos(x[1])))) * cos(x[0])) * cos(x[1])))) + x[0]), Age: 1\n",
      "4. Fitness: 0.0040, Fitness_val = 0.0043, Genome: (((x[1] * ((x[1] * cos(x[1])) * cos(x[1]))) * (x[1] * (((cos(((((cos(x[1]) * x[1]) * x[1]) * (x[1] * ((x[1] * cos(x[1])) * cos(x[1])))) + x[0])) + ((cos(((x[1] * cos(((x[1] * x[1]) * x[0]))) + x[0])) * x[1]) * (x[1] * cos(x[1])))) * cos(x[0])) * cos(x[1])))) + x[0]), Age: 3\n"
     ]
    },
    {
     "name": "stderr",
     "output_type": "stream",
     "text": [
      " 38%|███▊      | 229/600 [08:19<18:40,  3.02s/it]"
     ]
    },
    {
     "name": "stdout",
     "output_type": "stream",
     "text": [
      "New best result found: Individual(genome=(((x[1] * (((x[1] * cos(x[1])) * cos(x[1])) * cos(x[1]))) * (x[1] * cos(((x[1] * cos(x[0])) * cos(x[1]))))) + x[0]), fitness=np.float64(0.0004965272044112413), fitness_val=np.float64(0.0004890115212520144), age=0, T=1)\n"
     ]
    },
    {
     "name": "stderr",
     "output_type": "stream",
     "text": [
      " 40%|███▉      | 239/600 [08:48<17:43,  2.95s/it]"
     ]
    },
    {
     "name": "stdout",
     "output_type": "stream",
     "text": [
      "New best result found: Individual(genome=(((x[1] * (((x[1] * cos(x[1])) * cos(x[1])) * cos(x[1]))) * (x[1] * cos(((x[1] * cos(x[1])) * cos(x[1]))))) + x[0]), fitness=np.float64(0.00047367608309492685), fitness_val=np.float64(0.0004779563626097908), age=0, T=1)\n",
      "New best result found: Individual(genome=(((x[1] * (((x[1] * cos(x[1])) * cos(x[1])) * cos(x[1]))) * (x[1] * cos(((x[1] * cos(((cos(((x[1] * cos(x[0])) * cos(x[1]))) * cos(x[1])) + x[0]))) * cos(x[1]))))) + x[0]), fitness=np.float64(0.0004958602878817124), fitness_val=np.float64(0.00046410827366776127), age=0, T=1)\n",
      "Initial: 503, Deduplicated: 96, Operation simplified: 0, Constant: 5, Complex: 5, Final: 397\n",
      "Population mean complexity: 6.120906801007557\n",
      "Population mean fitness: 344168.5422160078\n",
      "\n",
      "0. Fitness: 0.0005, Fitness_val = 0.0005, Genome: (((x[1] * (((x[1] * cos(x[1])) * cos(x[1])) * cos(x[1]))) * (x[1] * cos(((x[1] * cos(((cos(((x[1] * cos(x[0])) * cos(x[1]))) * cos(x[1])) + x[0]))) * cos(x[1]))))) + x[0]), Age: 0\n",
      "1. Fitness: 0.0005, Fitness_val = 0.0005, Genome: (((x[1] * (((x[1] * cos(x[1])) * cos(x[1])) * cos(x[1]))) * (x[1] * cos(((x[1] * cos(x[1])) * cos(x[1]))))) + x[0]), Age: 0\n",
      "2. Fitness: 0.0005, Fitness_val = 0.0005, Genome: (((x[1] * (((x[1] * cos(x[1])) * cos(x[1])) * cos(x[1]))) * (x[1] * cos(((x[1] * cos(((x[1] * cos(x[1])) + x[0]))) * cos(x[1]))))) + x[0]), Age: 0\n",
      "3. Fitness: 0.0005, Fitness_val = 0.0005, Genome: (((x[1] * (((x[1] * cos(x[1])) * cos(x[1])) * cos(x[1]))) * (x[1] * cos(((x[1] * cos(x[0])) * cos(x[1]))))) + x[0]), Age: 0\n",
      "4. Fitness: 0.0006, Fitness_val = 0.0006, Genome: (((x[1] * ((x[1] * cos(x[1])) * cos(x[1]))) * (x[1] * cos(x[1]))) + x[0]), Age: 0\n",
      "Generation 239: Mean fitness 344168.5422160078\n"
     ]
    },
    {
     "name": "stderr",
     "output_type": "stream",
     "text": [
      " 40%|███▉      | 239/600 [11:06<16:47,  2.79s/it]\n"
     ]
    },
    {
     "ename": "KeyboardInterrupt",
     "evalue": "",
     "output_type": "error",
     "traceback": [
      "\u001b[1;31m---------------------------------------------------------------------------\u001b[0m",
      "\u001b[1;31mKeyboardInterrupt\u001b[0m                         Traceback (most recent call last)",
      "Cell \u001b[1;32mIn[7], line 6\u001b[0m\n\u001b[0;32m      4\u001b[0m \u001b[38;5;28mprint\u001b[39m(\u001b[38;5;124m\"\u001b[39m\u001b[38;5;124mx.shape:\u001b[39m\u001b[38;5;124m\"\u001b[39m, x\u001b[38;5;241m.\u001b[39mshape)\n\u001b[0;32m      5\u001b[0m \u001b[38;5;28mprint\u001b[39m(\u001b[38;5;124m\"\u001b[39m\u001b[38;5;124my.shape:\u001b[39m\u001b[38;5;124m\"\u001b[39m, y\u001b[38;5;241m.\u001b[39mshape)\n\u001b[1;32m----> 6\u001b[0m my_pop_0 \u001b[38;5;241m=\u001b[39m \u001b[43mevolve\u001b[49m\u001b[43m(\u001b[49m\u001b[43mtrain_x\u001b[49m\u001b[43m,\u001b[49m\u001b[43mtrain_y\u001b[49m\u001b[43m,\u001b[49m\u001b[43mval_x\u001b[49m\u001b[43m,\u001b[49m\u001b[43mval_y\u001b[49m\u001b[43m)\u001b[49m\n",
      "Cell \u001b[1;32mIn[6], line 116\u001b[0m, in \u001b[0;36mevolve\u001b[1;34m(train_x, train_y, val_x, val_y)\u001b[0m\n\u001b[0;32m    114\u001b[0m \u001b[38;5;28mprint\u001b[39m(\u001b[38;5;124mf\u001b[39m\u001b[38;5;124m\"\u001b[39m\u001b[38;5;124mGeneration \u001b[39m\u001b[38;5;132;01m{\u001b[39;00mgeneration\u001b[38;5;132;01m}\u001b[39;00m\u001b[38;5;124m: Mean fitness \u001b[39m\u001b[38;5;132;01m{\u001b[39;00mcalculate_mean_fitness(my_population)\u001b[38;5;132;01m}\u001b[39;00m\u001b[38;5;124m\"\u001b[39m)\n\u001b[0;32m    115\u001b[0m \u001b[38;5;28;01mfor\u001b[39;00m ind \u001b[38;5;129;01min\u001b[39;00m \u001b[38;5;28mrange\u001b[39m(\u001b[38;5;28mlen\u001b[39m(my_population)):\n\u001b[1;32m--> 116\u001b[0m     stronger_inv \u001b[38;5;241m=\u001b[39m \u001b[43mfit_constants\u001b[49m\u001b[43m(\u001b[49m\u001b[43mmy_population\u001b[49m\u001b[43m[\u001b[49m\u001b[43mind\u001b[49m\u001b[43m]\u001b[49m\u001b[43m,\u001b[49m\u001b[43mCONSTANT_FIT_ITERATION\u001b[49m\u001b[43m,\u001b[49m\u001b[43m \u001b[49m\u001b[43mtrain_x\u001b[49m\u001b[43m,\u001b[49m\u001b[43m \u001b[49m\u001b[43mtrain_y\u001b[49m\u001b[43m)\u001b[49m\n\u001b[0;32m    117\u001b[0m     my_population[ind] \u001b[38;5;241m=\u001b[39m stronger_inv\n\u001b[0;32m    118\u001b[0m assign_population_fitness_val(my_population,val_x,val_y)\n",
      "File \u001b[1;32mc:\\Users\\abayr\\OneDrive\\Desktop\\Computational_Intelligence\\Projects\\CI_project_draft\\src\\utils.py:388\u001b[0m, in \u001b[0;36mfit_constants\u001b[1;34m(individual, iter, x, y)\u001b[0m\n\u001b[0;32m    377\u001b[0m \u001b[38;5;250m\u001b[39m\u001b[38;5;124;03m\"\"\"\u001b[39;00m\n\u001b[0;32m    378\u001b[0m \u001b[38;5;124;03mFit the constant value of a node to minimize the cost function.\u001b[39;00m\n\u001b[0;32m    379\u001b[0m \u001b[38;5;124;03m\u001b[39;00m\n\u001b[1;32m   (...)\u001b[0m\n\u001b[0;32m    384\u001b[0m \u001b[38;5;124;03m    y (np.ndarray): Target data.\u001b[39;00m\n\u001b[0;32m    385\u001b[0m \u001b[38;5;124;03m\"\"\"\u001b[39;00m\n\u001b[0;32m    387\u001b[0m \u001b[38;5;28;01mfor\u001b[39;00m _ \u001b[38;5;129;01min\u001b[39;00m \u001b[38;5;28mrange\u001b[39m(\u001b[38;5;28miter\u001b[39m):\n\u001b[1;32m--> 388\u001b[0m     child, success \u001b[38;5;241m=\u001b[39m \u001b[43mmutation_w_sa\u001b[49m\u001b[43m(\u001b[49m\u001b[43mindividual\u001b[49m\u001b[43m,\u001b[49m\u001b[43m \u001b[49m\u001b[43mx\u001b[49m\u001b[38;5;241;43m.\u001b[39;49m\u001b[43mshape\u001b[49m\u001b[43m[\u001b[49m\u001b[38;5;241;43m1\u001b[39;49m\u001b[43m]\u001b[49m\u001b[43m,\u001b[49m\u001b[43mx\u001b[49m\u001b[43m,\u001b[49m\u001b[43my\u001b[49m\u001b[43m,\u001b[49m\u001b[43m \u001b[49m\u001b[43mONLY_CONSTANT\u001b[49m\u001b[38;5;241;43m=\u001b[39;49m\u001b[38;5;28;43;01mTrue\u001b[39;49;00m\u001b[43m)\u001b[49m\n\u001b[0;32m    389\u001b[0m     \u001b[38;5;28;01mif\u001b[39;00m success:\n\u001b[0;32m    390\u001b[0m         child\u001b[38;5;241m.\u001b[39mT \u001b[38;5;241m=\u001b[39m individual\u001b[38;5;241m.\u001b[39mT\n",
      "File \u001b[1;32mc:\\Users\\abayr\\OneDrive\\Desktop\\Computational_Intelligence\\Projects\\CI_project_draft\\src\\utils.py:360\u001b[0m, in \u001b[0;36mmutation_w_sa\u001b[1;34m(individual, feature_count, x, y, ONLY_CONSTANT, alpha)\u001b[0m\n\u001b[0;32m    358\u001b[0m \u001b[38;5;28;01mwith\u001b[39;00m warnings\u001b[38;5;241m.\u001b[39mcatch_warnings(record\u001b[38;5;241m=\u001b[39m\u001b[38;5;28;01mTrue\u001b[39;00m) \u001b[38;5;28;01mas\u001b[39;00m w:\n\u001b[0;32m    359\u001b[0m         warnings\u001b[38;5;241m.\u001b[39msimplefilter(\u001b[38;5;124m\"\u001b[39m\u001b[38;5;124malways\u001b[39m\u001b[38;5;124m\"\u001b[39m)\n\u001b[1;32m--> 360\u001b[0m         ind_cost \u001b[38;5;241m=\u001b[39m \u001b[43mcost\u001b[49m\u001b[43m(\u001b[49m\u001b[43mchild\u001b[49m\u001b[38;5;241;43m.\u001b[39;49m\u001b[43mgenome\u001b[49m\u001b[43m,\u001b[49m\u001b[43mx\u001b[49m\u001b[43m,\u001b[49m\u001b[43my\u001b[49m\u001b[43m)\u001b[49m\n\u001b[0;32m    361\u001b[0m         \u001b[38;5;28;01mif\u001b[39;00m \u001b[38;5;28mlen\u001b[39m(w) \u001b[38;5;241m==\u001b[39m \u001b[38;5;241m0\u001b[39m:\n\u001b[0;32m    362\u001b[0m             child\u001b[38;5;241m.\u001b[39mfitness \u001b[38;5;241m=\u001b[39m ind_cost\n",
      "File \u001b[1;32mc:\\Users\\abayr\\OneDrive\\Desktop\\Computational_Intelligence\\Projects\\CI_project_draft\\src\\utils.py:213\u001b[0m, in \u001b[0;36mcost\u001b[1;34m(genome, x, y)\u001b[0m\n\u001b[0;32m    212\u001b[0m \u001b[38;5;28;01mdef\u001b[39;00m \u001b[38;5;21mcost\u001b[39m(genome,x,y):\n\u001b[1;32m--> 213\u001b[0m     predictions \u001b[38;5;241m=\u001b[39m np\u001b[38;5;241m.\u001b[39marray([genome\u001b[38;5;241m.\u001b[39mevaluate(x[:, i]) \u001b[38;5;28;01mfor\u001b[39;00m i \u001b[38;5;129;01min\u001b[39;00m \u001b[38;5;28mrange\u001b[39m(x\u001b[38;5;241m.\u001b[39mshape[\u001b[38;5;241m1\u001b[39m])])\n\u001b[0;32m    214\u001b[0m     mse \u001b[38;5;241m=\u001b[39m np\u001b[38;5;241m.\u001b[39mmean((predictions \u001b[38;5;241m-\u001b[39m y) \u001b[38;5;241m*\u001b[39m\u001b[38;5;241m*\u001b[39m \u001b[38;5;241m2\u001b[39m)\n\u001b[0;32m    215\u001b[0m     \u001b[38;5;28;01mreturn\u001b[39;00m mse\n",
      "File \u001b[1;32mc:\\Users\\abayr\\OneDrive\\Desktop\\Computational_Intelligence\\Projects\\CI_project_draft\\src\\utils.py:213\u001b[0m, in \u001b[0;36m<listcomp>\u001b[1;34m(.0)\u001b[0m\n\u001b[0;32m    212\u001b[0m \u001b[38;5;28;01mdef\u001b[39;00m \u001b[38;5;21mcost\u001b[39m(genome,x,y):\n\u001b[1;32m--> 213\u001b[0m     predictions \u001b[38;5;241m=\u001b[39m np\u001b[38;5;241m.\u001b[39marray([\u001b[43mgenome\u001b[49m\u001b[38;5;241;43m.\u001b[39;49m\u001b[43mevaluate\u001b[49m\u001b[43m(\u001b[49m\u001b[43mx\u001b[49m\u001b[43m[\u001b[49m\u001b[43m:\u001b[49m\u001b[43m,\u001b[49m\u001b[43m \u001b[49m\u001b[43mi\u001b[49m\u001b[43m]\u001b[49m\u001b[43m)\u001b[49m \u001b[38;5;28;01mfor\u001b[39;00m i \u001b[38;5;129;01min\u001b[39;00m \u001b[38;5;28mrange\u001b[39m(x\u001b[38;5;241m.\u001b[39mshape[\u001b[38;5;241m1\u001b[39m])])\n\u001b[0;32m    214\u001b[0m     mse \u001b[38;5;241m=\u001b[39m np\u001b[38;5;241m.\u001b[39mmean((predictions \u001b[38;5;241m-\u001b[39m y) \u001b[38;5;241m*\u001b[39m\u001b[38;5;241m*\u001b[39m \u001b[38;5;241m2\u001b[39m)\n\u001b[0;32m    215\u001b[0m     \u001b[38;5;28;01mreturn\u001b[39;00m mse\n",
      "File \u001b[1;32mc:\\Users\\abayr\\OneDrive\\Desktop\\Computational_Intelligence\\Projects\\CI_project_draft\\src\\node.py:107\u001b[0m, in \u001b[0;36mNode.evaluate\u001b[1;34m(self, x)\u001b[0m\n\u001b[0;32m    104\u001b[0m     \u001b[38;5;66;03m#print(\"tek\",operand_value)\u001b[39;00m\n\u001b[0;32m    105\u001b[0m     \u001b[38;5;28;01mreturn\u001b[39;00m \u001b[38;5;28mself\u001b[39m\u001b[38;5;241m.\u001b[39mvalue(operand_value)\n\u001b[1;32m--> 107\u001b[0m left_value \u001b[38;5;241m=\u001b[39m \u001b[38;5;28;43mself\u001b[39;49m\u001b[38;5;241;43m.\u001b[39;49m\u001b[43mleft\u001b[49m\u001b[38;5;241;43m.\u001b[39;49m\u001b[43mevaluate\u001b[49m\u001b[43m(\u001b[49m\u001b[43mx\u001b[49m\u001b[43m)\u001b[49m\n\u001b[0;32m    108\u001b[0m right_value \u001b[38;5;241m=\u001b[39m \u001b[38;5;28mself\u001b[39m\u001b[38;5;241m.\u001b[39mright\u001b[38;5;241m.\u001b[39mevaluate(x)\n\u001b[0;32m    109\u001b[0m \u001b[38;5;66;03m#print(left_value)\u001b[39;00m\n\u001b[0;32m    110\u001b[0m \u001b[38;5;66;03m#print(right_value)\u001b[39;00m\n",
      "File \u001b[1;32mc:\\Users\\abayr\\OneDrive\\Desktop\\Computational_Intelligence\\Projects\\CI_project_draft\\src\\node.py:108\u001b[0m, in \u001b[0;36mNode.evaluate\u001b[1;34m(self, x)\u001b[0m\n\u001b[0;32m    105\u001b[0m     \u001b[38;5;28;01mreturn\u001b[39;00m \u001b[38;5;28mself\u001b[39m\u001b[38;5;241m.\u001b[39mvalue(operand_value)\n\u001b[0;32m    107\u001b[0m left_value \u001b[38;5;241m=\u001b[39m \u001b[38;5;28mself\u001b[39m\u001b[38;5;241m.\u001b[39mleft\u001b[38;5;241m.\u001b[39mevaluate(x)\n\u001b[1;32m--> 108\u001b[0m right_value \u001b[38;5;241m=\u001b[39m \u001b[38;5;28;43mself\u001b[39;49m\u001b[38;5;241;43m.\u001b[39;49m\u001b[43mright\u001b[49m\u001b[38;5;241;43m.\u001b[39;49m\u001b[43mevaluate\u001b[49m\u001b[43m(\u001b[49m\u001b[43mx\u001b[49m\u001b[43m)\u001b[49m\n\u001b[0;32m    109\u001b[0m \u001b[38;5;66;03m#print(left_value)\u001b[39;00m\n\u001b[0;32m    110\u001b[0m \u001b[38;5;66;03m#print(right_value)\u001b[39;00m\n\u001b[0;32m    111\u001b[0m \u001b[38;5;28;01mreturn\u001b[39;00m \u001b[38;5;28mself\u001b[39m\u001b[38;5;241m.\u001b[39mvalue(left_value, right_value)\n",
      "File \u001b[1;32mc:\\Users\\abayr\\OneDrive\\Desktop\\Computational_Intelligence\\Projects\\CI_project_draft\\src\\node.py:108\u001b[0m, in \u001b[0;36mNode.evaluate\u001b[1;34m(self, x)\u001b[0m\n\u001b[0;32m    105\u001b[0m     \u001b[38;5;28;01mreturn\u001b[39;00m \u001b[38;5;28mself\u001b[39m\u001b[38;5;241m.\u001b[39mvalue(operand_value)\n\u001b[0;32m    107\u001b[0m left_value \u001b[38;5;241m=\u001b[39m \u001b[38;5;28mself\u001b[39m\u001b[38;5;241m.\u001b[39mleft\u001b[38;5;241m.\u001b[39mevaluate(x)\n\u001b[1;32m--> 108\u001b[0m right_value \u001b[38;5;241m=\u001b[39m \u001b[38;5;28;43mself\u001b[39;49m\u001b[38;5;241;43m.\u001b[39;49m\u001b[43mright\u001b[49m\u001b[38;5;241;43m.\u001b[39;49m\u001b[43mevaluate\u001b[49m\u001b[43m(\u001b[49m\u001b[43mx\u001b[49m\u001b[43m)\u001b[49m\n\u001b[0;32m    109\u001b[0m \u001b[38;5;66;03m#print(left_value)\u001b[39;00m\n\u001b[0;32m    110\u001b[0m \u001b[38;5;66;03m#print(right_value)\u001b[39;00m\n\u001b[0;32m    111\u001b[0m \u001b[38;5;28;01mreturn\u001b[39;00m \u001b[38;5;28mself\u001b[39m\u001b[38;5;241m.\u001b[39mvalue(left_value, right_value)\n",
      "File \u001b[1;32mc:\\Users\\abayr\\OneDrive\\Desktop\\Computational_Intelligence\\Projects\\CI_project_draft\\src\\node.py:107\u001b[0m, in \u001b[0;36mNode.evaluate\u001b[1;34m(self, x)\u001b[0m\n\u001b[0;32m    104\u001b[0m     \u001b[38;5;66;03m#print(\"tek\",operand_value)\u001b[39;00m\n\u001b[0;32m    105\u001b[0m     \u001b[38;5;28;01mreturn\u001b[39;00m \u001b[38;5;28mself\u001b[39m\u001b[38;5;241m.\u001b[39mvalue(operand_value)\n\u001b[1;32m--> 107\u001b[0m left_value \u001b[38;5;241m=\u001b[39m \u001b[38;5;28;43mself\u001b[39;49m\u001b[38;5;241;43m.\u001b[39;49m\u001b[43mleft\u001b[49m\u001b[38;5;241;43m.\u001b[39;49m\u001b[43mevaluate\u001b[49m\u001b[43m(\u001b[49m\u001b[43mx\u001b[49m\u001b[43m)\u001b[49m\n\u001b[0;32m    108\u001b[0m right_value \u001b[38;5;241m=\u001b[39m \u001b[38;5;28mself\u001b[39m\u001b[38;5;241m.\u001b[39mright\u001b[38;5;241m.\u001b[39mevaluate(x)\n\u001b[0;32m    109\u001b[0m \u001b[38;5;66;03m#print(left_value)\u001b[39;00m\n\u001b[0;32m    110\u001b[0m \u001b[38;5;66;03m#print(right_value)\u001b[39;00m\n",
      "    \u001b[1;31m[... skipping similar frames: Node.evaluate at line 107 (1 times)]\u001b[0m\n",
      "File \u001b[1;32mc:\\Users\\abayr\\OneDrive\\Desktop\\Computational_Intelligence\\Projects\\CI_project_draft\\src\\node.py:107\u001b[0m, in \u001b[0;36mNode.evaluate\u001b[1;34m(self, x)\u001b[0m\n\u001b[0;32m    104\u001b[0m     \u001b[38;5;66;03m#print(\"tek\",operand_value)\u001b[39;00m\n\u001b[0;32m    105\u001b[0m     \u001b[38;5;28;01mreturn\u001b[39;00m \u001b[38;5;28mself\u001b[39m\u001b[38;5;241m.\u001b[39mvalue(operand_value)\n\u001b[1;32m--> 107\u001b[0m left_value \u001b[38;5;241m=\u001b[39m \u001b[38;5;28;43mself\u001b[39;49m\u001b[38;5;241;43m.\u001b[39;49m\u001b[43mleft\u001b[49m\u001b[38;5;241;43m.\u001b[39;49m\u001b[43mevaluate\u001b[49m\u001b[43m(\u001b[49m\u001b[43mx\u001b[49m\u001b[43m)\u001b[49m\n\u001b[0;32m    108\u001b[0m right_value \u001b[38;5;241m=\u001b[39m \u001b[38;5;28mself\u001b[39m\u001b[38;5;241m.\u001b[39mright\u001b[38;5;241m.\u001b[39mevaluate(x)\n\u001b[0;32m    109\u001b[0m \u001b[38;5;66;03m#print(left_value)\u001b[39;00m\n\u001b[0;32m    110\u001b[0m \u001b[38;5;66;03m#print(right_value)\u001b[39;00m\n",
      "File \u001b[1;32mc:\\Users\\abayr\\OneDrive\\Desktop\\Computational_Intelligence\\Projects\\CI_project_draft\\src\\node.py:103\u001b[0m, in \u001b[0;36mNode.evaluate\u001b[1;34m(self, x)\u001b[0m\n\u001b[0;32m    101\u001b[0m \u001b[38;5;66;03m# if it is an operator\u001b[39;00m\n\u001b[0;32m    102\u001b[0m \u001b[38;5;28;01mif\u001b[39;00m \u001b[38;5;28mself\u001b[39m\u001b[38;5;241m.\u001b[39mvalue \u001b[38;5;129;01min\u001b[39;00m \u001b[38;5;28mself\u001b[39m\u001b[38;5;241m.\u001b[39munary_operators:\n\u001b[1;32m--> 103\u001b[0m     operand_value \u001b[38;5;241m=\u001b[39m \u001b[38;5;28;43mself\u001b[39;49m\u001b[38;5;241;43m.\u001b[39;49m\u001b[43mleft\u001b[49m\u001b[38;5;241;43m.\u001b[39;49m\u001b[43mevaluate\u001b[49m\u001b[43m(\u001b[49m\u001b[43mx\u001b[49m\u001b[43m)\u001b[49m\n\u001b[0;32m    104\u001b[0m     \u001b[38;5;66;03m#print(\"tek\",operand_value)\u001b[39;00m\n\u001b[0;32m    105\u001b[0m     \u001b[38;5;28;01mreturn\u001b[39;00m \u001b[38;5;28mself\u001b[39m\u001b[38;5;241m.\u001b[39mvalue(operand_value)\n",
      "File \u001b[1;32mc:\\Users\\abayr\\OneDrive\\Desktop\\Computational_Intelligence\\Projects\\CI_project_draft\\src\\node.py:107\u001b[0m, in \u001b[0;36mNode.evaluate\u001b[1;34m(self, x)\u001b[0m\n\u001b[0;32m    104\u001b[0m     \u001b[38;5;66;03m#print(\"tek\",operand_value)\u001b[39;00m\n\u001b[0;32m    105\u001b[0m     \u001b[38;5;28;01mreturn\u001b[39;00m \u001b[38;5;28mself\u001b[39m\u001b[38;5;241m.\u001b[39mvalue(operand_value)\n\u001b[1;32m--> 107\u001b[0m left_value \u001b[38;5;241m=\u001b[39m \u001b[38;5;28;43mself\u001b[39;49m\u001b[38;5;241;43m.\u001b[39;49m\u001b[43mleft\u001b[49m\u001b[38;5;241;43m.\u001b[39;49m\u001b[43mevaluate\u001b[49m\u001b[43m(\u001b[49m\u001b[43mx\u001b[49m\u001b[43m)\u001b[49m\n\u001b[0;32m    108\u001b[0m right_value \u001b[38;5;241m=\u001b[39m \u001b[38;5;28mself\u001b[39m\u001b[38;5;241m.\u001b[39mright\u001b[38;5;241m.\u001b[39mevaluate(x)\n\u001b[0;32m    109\u001b[0m \u001b[38;5;66;03m#print(left_value)\u001b[39;00m\n\u001b[0;32m    110\u001b[0m \u001b[38;5;66;03m#print(right_value)\u001b[39;00m\n",
      "File \u001b[1;32mc:\\Users\\abayr\\OneDrive\\Desktop\\Computational_Intelligence\\Projects\\CI_project_draft\\src\\node.py:108\u001b[0m, in \u001b[0;36mNode.evaluate\u001b[1;34m(self, x)\u001b[0m\n\u001b[0;32m    105\u001b[0m     \u001b[38;5;28;01mreturn\u001b[39;00m \u001b[38;5;28mself\u001b[39m\u001b[38;5;241m.\u001b[39mvalue(operand_value)\n\u001b[0;32m    107\u001b[0m left_value \u001b[38;5;241m=\u001b[39m \u001b[38;5;28mself\u001b[39m\u001b[38;5;241m.\u001b[39mleft\u001b[38;5;241m.\u001b[39mevaluate(x)\n\u001b[1;32m--> 108\u001b[0m right_value \u001b[38;5;241m=\u001b[39m \u001b[38;5;28;43mself\u001b[39;49m\u001b[38;5;241;43m.\u001b[39;49m\u001b[43mright\u001b[49m\u001b[38;5;241;43m.\u001b[39;49m\u001b[43mevaluate\u001b[49m\u001b[43m(\u001b[49m\u001b[43mx\u001b[49m\u001b[43m)\u001b[49m\n\u001b[0;32m    109\u001b[0m \u001b[38;5;66;03m#print(left_value)\u001b[39;00m\n\u001b[0;32m    110\u001b[0m \u001b[38;5;66;03m#print(right_value)\u001b[39;00m\n\u001b[0;32m    111\u001b[0m \u001b[38;5;28;01mreturn\u001b[39;00m \u001b[38;5;28mself\u001b[39m\u001b[38;5;241m.\u001b[39mvalue(left_value, right_value)\n",
      "File \u001b[1;32mc:\\Users\\abayr\\OneDrive\\Desktop\\Computational_Intelligence\\Projects\\CI_project_draft\\src\\node.py:108\u001b[0m, in \u001b[0;36mNode.evaluate\u001b[1;34m(self, x)\u001b[0m\n\u001b[0;32m    105\u001b[0m     \u001b[38;5;28;01mreturn\u001b[39;00m \u001b[38;5;28mself\u001b[39m\u001b[38;5;241m.\u001b[39mvalue(operand_value)\n\u001b[0;32m    107\u001b[0m left_value \u001b[38;5;241m=\u001b[39m \u001b[38;5;28mself\u001b[39m\u001b[38;5;241m.\u001b[39mleft\u001b[38;5;241m.\u001b[39mevaluate(x)\n\u001b[1;32m--> 108\u001b[0m right_value \u001b[38;5;241m=\u001b[39m \u001b[38;5;28;43mself\u001b[39;49m\u001b[38;5;241;43m.\u001b[39;49m\u001b[43mright\u001b[49m\u001b[38;5;241;43m.\u001b[39;49m\u001b[43mevaluate\u001b[49m\u001b[43m(\u001b[49m\u001b[43mx\u001b[49m\u001b[43m)\u001b[49m\n\u001b[0;32m    109\u001b[0m \u001b[38;5;66;03m#print(left_value)\u001b[39;00m\n\u001b[0;32m    110\u001b[0m \u001b[38;5;66;03m#print(right_value)\u001b[39;00m\n\u001b[0;32m    111\u001b[0m \u001b[38;5;28;01mreturn\u001b[39;00m \u001b[38;5;28mself\u001b[39m\u001b[38;5;241m.\u001b[39mvalue(left_value, right_value)\n",
      "File \u001b[1;32mc:\\Users\\abayr\\OneDrive\\Desktop\\Computational_Intelligence\\Projects\\CI_project_draft\\src\\node.py:107\u001b[0m, in \u001b[0;36mNode.evaluate\u001b[1;34m(self, x)\u001b[0m\n\u001b[0;32m    104\u001b[0m     \u001b[38;5;66;03m#print(\"tek\",operand_value)\u001b[39;00m\n\u001b[0;32m    105\u001b[0m     \u001b[38;5;28;01mreturn\u001b[39;00m \u001b[38;5;28mself\u001b[39m\u001b[38;5;241m.\u001b[39mvalue(operand_value)\n\u001b[1;32m--> 107\u001b[0m left_value \u001b[38;5;241m=\u001b[39m \u001b[38;5;28;43mself\u001b[39;49m\u001b[38;5;241;43m.\u001b[39;49m\u001b[43mleft\u001b[49m\u001b[38;5;241;43m.\u001b[39;49m\u001b[43mevaluate\u001b[49m\u001b[43m(\u001b[49m\u001b[43mx\u001b[49m\u001b[43m)\u001b[49m\n\u001b[0;32m    108\u001b[0m right_value \u001b[38;5;241m=\u001b[39m \u001b[38;5;28mself\u001b[39m\u001b[38;5;241m.\u001b[39mright\u001b[38;5;241m.\u001b[39mevaluate(x)\n\u001b[0;32m    109\u001b[0m \u001b[38;5;66;03m#print(left_value)\u001b[39;00m\n\u001b[0;32m    110\u001b[0m \u001b[38;5;66;03m#print(right_value)\u001b[39;00m\n",
      "File \u001b[1;32mc:\\Users\\abayr\\OneDrive\\Desktop\\Computational_Intelligence\\Projects\\CI_project_draft\\src\\node.py:108\u001b[0m, in \u001b[0;36mNode.evaluate\u001b[1;34m(self, x)\u001b[0m\n\u001b[0;32m    105\u001b[0m     \u001b[38;5;28;01mreturn\u001b[39;00m \u001b[38;5;28mself\u001b[39m\u001b[38;5;241m.\u001b[39mvalue(operand_value)\n\u001b[0;32m    107\u001b[0m left_value \u001b[38;5;241m=\u001b[39m \u001b[38;5;28mself\u001b[39m\u001b[38;5;241m.\u001b[39mleft\u001b[38;5;241m.\u001b[39mevaluate(x)\n\u001b[1;32m--> 108\u001b[0m right_value \u001b[38;5;241m=\u001b[39m \u001b[38;5;28;43mself\u001b[39;49m\u001b[38;5;241;43m.\u001b[39;49m\u001b[43mright\u001b[49m\u001b[38;5;241;43m.\u001b[39;49m\u001b[43mevaluate\u001b[49m\u001b[43m(\u001b[49m\u001b[43mx\u001b[49m\u001b[43m)\u001b[49m\n\u001b[0;32m    109\u001b[0m \u001b[38;5;66;03m#print(left_value)\u001b[39;00m\n\u001b[0;32m    110\u001b[0m \u001b[38;5;66;03m#print(right_value)\u001b[39;00m\n\u001b[0;32m    111\u001b[0m \u001b[38;5;28;01mreturn\u001b[39;00m \u001b[38;5;28mself\u001b[39m\u001b[38;5;241m.\u001b[39mvalue(left_value, right_value)\n",
      "File \u001b[1;32mc:\\Users\\abayr\\OneDrive\\Desktop\\Computational_Intelligence\\Projects\\CI_project_draft\\src\\node.py:103\u001b[0m, in \u001b[0;36mNode.evaluate\u001b[1;34m(self, x)\u001b[0m\n\u001b[0;32m    101\u001b[0m \u001b[38;5;66;03m# if it is an operator\u001b[39;00m\n\u001b[0;32m    102\u001b[0m \u001b[38;5;28;01mif\u001b[39;00m \u001b[38;5;28mself\u001b[39m\u001b[38;5;241m.\u001b[39mvalue \u001b[38;5;129;01min\u001b[39;00m \u001b[38;5;28mself\u001b[39m\u001b[38;5;241m.\u001b[39munary_operators:\n\u001b[1;32m--> 103\u001b[0m     operand_value \u001b[38;5;241m=\u001b[39m \u001b[38;5;28;43mself\u001b[39;49m\u001b[38;5;241;43m.\u001b[39;49m\u001b[43mleft\u001b[49m\u001b[38;5;241;43m.\u001b[39;49m\u001b[43mevaluate\u001b[49m\u001b[43m(\u001b[49m\u001b[43mx\u001b[49m\u001b[43m)\u001b[49m\n\u001b[0;32m    104\u001b[0m     \u001b[38;5;66;03m#print(\"tek\",operand_value)\u001b[39;00m\n\u001b[0;32m    105\u001b[0m     \u001b[38;5;28;01mreturn\u001b[39;00m \u001b[38;5;28mself\u001b[39m\u001b[38;5;241m.\u001b[39mvalue(operand_value)\n",
      "File \u001b[1;32mc:\\Users\\abayr\\OneDrive\\Desktop\\Computational_Intelligence\\Projects\\CI_project_draft\\src\\node.py:107\u001b[0m, in \u001b[0;36mNode.evaluate\u001b[1;34m(self, x)\u001b[0m\n\u001b[0;32m    104\u001b[0m     \u001b[38;5;66;03m#print(\"tek\",operand_value)\u001b[39;00m\n\u001b[0;32m    105\u001b[0m     \u001b[38;5;28;01mreturn\u001b[39;00m \u001b[38;5;28mself\u001b[39m\u001b[38;5;241m.\u001b[39mvalue(operand_value)\n\u001b[1;32m--> 107\u001b[0m left_value \u001b[38;5;241m=\u001b[39m \u001b[38;5;28;43mself\u001b[39;49m\u001b[38;5;241;43m.\u001b[39;49m\u001b[43mleft\u001b[49m\u001b[38;5;241;43m.\u001b[39;49m\u001b[43mevaluate\u001b[49m\u001b[43m(\u001b[49m\u001b[43mx\u001b[49m\u001b[43m)\u001b[49m\n\u001b[0;32m    108\u001b[0m right_value \u001b[38;5;241m=\u001b[39m \u001b[38;5;28mself\u001b[39m\u001b[38;5;241m.\u001b[39mright\u001b[38;5;241m.\u001b[39mevaluate(x)\n\u001b[0;32m    109\u001b[0m \u001b[38;5;66;03m#print(left_value)\u001b[39;00m\n\u001b[0;32m    110\u001b[0m \u001b[38;5;66;03m#print(right_value)\u001b[39;00m\n",
      "File \u001b[1;32mc:\\Users\\abayr\\OneDrive\\Desktop\\Computational_Intelligence\\Projects\\CI_project_draft\\src\\node.py:108\u001b[0m, in \u001b[0;36mNode.evaluate\u001b[1;34m(self, x)\u001b[0m\n\u001b[0;32m    105\u001b[0m     \u001b[38;5;28;01mreturn\u001b[39;00m \u001b[38;5;28mself\u001b[39m\u001b[38;5;241m.\u001b[39mvalue(operand_value)\n\u001b[0;32m    107\u001b[0m left_value \u001b[38;5;241m=\u001b[39m \u001b[38;5;28mself\u001b[39m\u001b[38;5;241m.\u001b[39mleft\u001b[38;5;241m.\u001b[39mevaluate(x)\n\u001b[1;32m--> 108\u001b[0m right_value \u001b[38;5;241m=\u001b[39m \u001b[38;5;28;43mself\u001b[39;49m\u001b[38;5;241;43m.\u001b[39;49m\u001b[43mright\u001b[49m\u001b[38;5;241;43m.\u001b[39;49m\u001b[43mevaluate\u001b[49m\u001b[43m(\u001b[49m\u001b[43mx\u001b[49m\u001b[43m)\u001b[49m\n\u001b[0;32m    109\u001b[0m \u001b[38;5;66;03m#print(left_value)\u001b[39;00m\n\u001b[0;32m    110\u001b[0m \u001b[38;5;66;03m#print(right_value)\u001b[39;00m\n\u001b[0;32m    111\u001b[0m \u001b[38;5;28;01mreturn\u001b[39;00m \u001b[38;5;28mself\u001b[39m\u001b[38;5;241m.\u001b[39mvalue(left_value, right_value)\n",
      "File \u001b[1;32mc:\\Users\\abayr\\OneDrive\\Desktop\\Computational_Intelligence\\Projects\\CI_project_draft\\src\\node.py:108\u001b[0m, in \u001b[0;36mNode.evaluate\u001b[1;34m(self, x)\u001b[0m\n\u001b[0;32m    105\u001b[0m     \u001b[38;5;28;01mreturn\u001b[39;00m \u001b[38;5;28mself\u001b[39m\u001b[38;5;241m.\u001b[39mvalue(operand_value)\n\u001b[0;32m    107\u001b[0m left_value \u001b[38;5;241m=\u001b[39m \u001b[38;5;28mself\u001b[39m\u001b[38;5;241m.\u001b[39mleft\u001b[38;5;241m.\u001b[39mevaluate(x)\n\u001b[1;32m--> 108\u001b[0m right_value \u001b[38;5;241m=\u001b[39m \u001b[38;5;28;43mself\u001b[39;49m\u001b[38;5;241;43m.\u001b[39;49m\u001b[43mright\u001b[49m\u001b[38;5;241;43m.\u001b[39;49m\u001b[43mevaluate\u001b[49m\u001b[43m(\u001b[49m\u001b[43mx\u001b[49m\u001b[43m)\u001b[49m\n\u001b[0;32m    109\u001b[0m \u001b[38;5;66;03m#print(left_value)\u001b[39;00m\n\u001b[0;32m    110\u001b[0m \u001b[38;5;66;03m#print(right_value)\u001b[39;00m\n\u001b[0;32m    111\u001b[0m \u001b[38;5;28;01mreturn\u001b[39;00m \u001b[38;5;28mself\u001b[39m\u001b[38;5;241m.\u001b[39mvalue(left_value, right_value)\n",
      "File \u001b[1;32mc:\\Users\\abayr\\OneDrive\\Desktop\\Computational_Intelligence\\Projects\\CI_project_draft\\src\\node.py:107\u001b[0m, in \u001b[0;36mNode.evaluate\u001b[1;34m(self, x)\u001b[0m\n\u001b[0;32m    104\u001b[0m     \u001b[38;5;66;03m#print(\"tek\",operand_value)\u001b[39;00m\n\u001b[0;32m    105\u001b[0m     \u001b[38;5;28;01mreturn\u001b[39;00m \u001b[38;5;28mself\u001b[39m\u001b[38;5;241m.\u001b[39mvalue(operand_value)\n\u001b[1;32m--> 107\u001b[0m left_value \u001b[38;5;241m=\u001b[39m \u001b[38;5;28;43mself\u001b[39;49m\u001b[38;5;241;43m.\u001b[39;49m\u001b[43mleft\u001b[49m\u001b[38;5;241;43m.\u001b[39;49m\u001b[43mevaluate\u001b[49m\u001b[43m(\u001b[49m\u001b[43mx\u001b[49m\u001b[43m)\u001b[49m\n\u001b[0;32m    108\u001b[0m right_value \u001b[38;5;241m=\u001b[39m \u001b[38;5;28mself\u001b[39m\u001b[38;5;241m.\u001b[39mright\u001b[38;5;241m.\u001b[39mevaluate(x)\n\u001b[0;32m    109\u001b[0m \u001b[38;5;66;03m#print(left_value)\u001b[39;00m\n\u001b[0;32m    110\u001b[0m \u001b[38;5;66;03m#print(right_value)\u001b[39;00m\n",
      "    \u001b[1;31m[... skipping similar frames: Node.evaluate at line 107 (1 times)]\u001b[0m\n",
      "File \u001b[1;32mc:\\Users\\abayr\\OneDrive\\Desktop\\Computational_Intelligence\\Projects\\CI_project_draft\\src\\node.py:107\u001b[0m, in \u001b[0;36mNode.evaluate\u001b[1;34m(self, x)\u001b[0m\n\u001b[0;32m    104\u001b[0m     \u001b[38;5;66;03m#print(\"tek\",operand_value)\u001b[39;00m\n\u001b[0;32m    105\u001b[0m     \u001b[38;5;28;01mreturn\u001b[39;00m \u001b[38;5;28mself\u001b[39m\u001b[38;5;241m.\u001b[39mvalue(operand_value)\n\u001b[1;32m--> 107\u001b[0m left_value \u001b[38;5;241m=\u001b[39m \u001b[38;5;28;43mself\u001b[39;49m\u001b[38;5;241;43m.\u001b[39;49m\u001b[43mleft\u001b[49m\u001b[38;5;241;43m.\u001b[39;49m\u001b[43mevaluate\u001b[49m\u001b[43m(\u001b[49m\u001b[43mx\u001b[49m\u001b[43m)\u001b[49m\n\u001b[0;32m    108\u001b[0m right_value \u001b[38;5;241m=\u001b[39m \u001b[38;5;28mself\u001b[39m\u001b[38;5;241m.\u001b[39mright\u001b[38;5;241m.\u001b[39mevaluate(x)\n\u001b[0;32m    109\u001b[0m \u001b[38;5;66;03m#print(left_value)\u001b[39;00m\n\u001b[0;32m    110\u001b[0m \u001b[38;5;66;03m#print(right_value)\u001b[39;00m\n",
      "File \u001b[1;32mc:\\Users\\abayr\\OneDrive\\Desktop\\Computational_Intelligence\\Projects\\CI_project_draft\\src\\node.py:103\u001b[0m, in \u001b[0;36mNode.evaluate\u001b[1;34m(self, x)\u001b[0m\n\u001b[0;32m    101\u001b[0m \u001b[38;5;66;03m# if it is an operator\u001b[39;00m\n\u001b[0;32m    102\u001b[0m \u001b[38;5;28;01mif\u001b[39;00m \u001b[38;5;28mself\u001b[39m\u001b[38;5;241m.\u001b[39mvalue \u001b[38;5;129;01min\u001b[39;00m \u001b[38;5;28mself\u001b[39m\u001b[38;5;241m.\u001b[39munary_operators:\n\u001b[1;32m--> 103\u001b[0m     operand_value \u001b[38;5;241m=\u001b[39m \u001b[38;5;28;43mself\u001b[39;49m\u001b[38;5;241;43m.\u001b[39;49m\u001b[43mleft\u001b[49m\u001b[38;5;241;43m.\u001b[39;49m\u001b[43mevaluate\u001b[49m\u001b[43m(\u001b[49m\u001b[43mx\u001b[49m\u001b[43m)\u001b[49m\n\u001b[0;32m    104\u001b[0m     \u001b[38;5;66;03m#print(\"tek\",operand_value)\u001b[39;00m\n\u001b[0;32m    105\u001b[0m     \u001b[38;5;28;01mreturn\u001b[39;00m \u001b[38;5;28mself\u001b[39m\u001b[38;5;241m.\u001b[39mvalue(operand_value)\n",
      "\u001b[1;31mKeyboardInterrupt\u001b[0m: "
     ]
    }
   ],
   "source": [
    "\n",
    "problem = np.load(\"data/problem_0.npz\")\n",
    "x = problem[\"x\"]\n",
    "y = problem[\"y\"]\n",
    "print(\"x.shape:\", x.shape)\n",
    "print(\"y.shape:\", y.shape)\n",
    "my_pop_0 = evolve(train_x,train_y,val_x,val_y)\n"
   ]
  },
  {
   "cell_type": "code",
   "execution_count": 8,
   "metadata": {},
   "outputs": [
    {
     "name": "stdout",
     "output_type": "stream",
     "text": [
      "Individual(genome=(x[1] + [0.088712]), fitness=np.float64(3.7002002015699924), fitness_val=None, age=7, T=0.95)\n",
      "Individual(genome=(x[0] + [-0.03616122]), fitness=np.float64(6.722314206526185), fitness_val=None, age=3, T=0.9025)\n",
      "Individual(genome=(x[1] * [0.70026515]), fitness=np.float64(3.5309897151822), fitness_val=None, age=4, T=0.9025)\n",
      "Individual(genome=(([-1.48695261] - x[1]) + x[1]), fitness=np.float64(5.681532851278359), fitness_val=None, age=7, T=0.95)\n",
      "Individual(genome=((cos(([0.20600998] * (x[0] - x[0]))) / [-0.3464315]) - sin(abs(((x[1] * x[1]) / [-1.26208132])))), fitness=np.float64(13.46252847794535), fitness_val=None, age=7, T=0.95)\n",
      "Individual(genome=(x[0] + (x[1] - [-0.20322285])), fitness=np.float64(7.11882153764157), fitness_val=None, age=7, T=0.95)\n",
      "Individual(genome=(cos((tan(abs(x[0])) / ([-2.19689199] - ([0.32484093] / x[0])))) / sin(sin(([0.09893525] + ([-0.23092444] / x[1]))))), fitness=np.float64(97.41867745323358), fitness_val=None, age=1, T=0.8573749999999999)\n",
      "Individual(genome=(x[0] - [-1.19955821]), fitness=np.float64(8.160777805934574), fitness_val=None, age=7, T=0.95)\n",
      "Individual(genome=(x[1] * [-0.25362681]), fitness=np.float64(3.3908523928235756), fitness_val=None, age=4, T=0.95)\n",
      "Individual(genome=(x[1] / [0.85764869]), fitness=np.float64(3.816752430280743), fitness_val=None, age=1, T=0.8573749999999999)\n",
      "Individual(genome=(([-0.05602912] - x[1]) + [0.91257453]), fitness=np.float64(4.3760343769131245), fitness_val=None, age=6, T=0.95)\n",
      "Individual(genome=(x[0] * [0.54739975]), fitness=np.float64(4.373357727319898), fitness_val=None, age=1, T=0.8573749999999999)\n",
      "Individual(genome=([-1.42173248] + x[0]), fitness=np.float64(8.741397671827679), fitness_val=None, age=6, T=0.95)\n",
      "Individual(genome=cos((sin(x[0]) + [0.80851867])), fitness=np.float64(3.8105256045074873), fitness_val=None, age=6, T=0.9025)\n",
      "Individual(genome=cos((sin(x[0]) + ([1.25732861] + cos(([-0.00595791] - x[0]))))), fitness=np.float64(3.940363353473737), fitness_val=None, age=3, T=0.8573749999999999)\n",
      "Individual(genome=(x[1] + [-0.82569504]), fitness=np.float64(4.438238931897524), fitness_val=None, age=6, T=0.95)\n",
      "Individual(genome=([-0.29128342] + x[0]), fitness=np.float64(6.805680967616578), fitness_val=None, age=3, T=0.9025)\n",
      "Individual(genome=(x[1] / [-0.37785736]), fitness=np.float64(5.672047123367625), fitness_val=None, age=6, T=0.95)\n",
      "Individual(genome=(x[0] + [0.01835135]), fitness=np.float64(6.7213800179739875), fitness_val=None, age=1, T=0.8573749999999999)\n",
      "Individual(genome=(x[1] + [-0.21194373]), fitness=np.float64(3.7583384344352213), fitness_val=None, age=3, T=0.9025)\n",
      "Individual(genome=(exp(sin(([0.96860612] - (x[1] + x[0])))) * [0.85998728]), fitness=np.float64(4.998304205820776), fitness_val=None, age=6, T=0.95)\n",
      "Individual(genome=abs(([-1.96502935] + x[0])), fitness=np.float64(10.304442285540611), fitness_val=None, age=3, T=0.9025)\n",
      "Individual(genome=((cos(([0.20600998] * (x[0] - x[0]))) / [0.67004926]) - sin(abs((((x[0] * x[0]) / x[1]) / [0.68696647])))), fitness=np.float64(5.5132483619623756), fitness_val=None, age=5, T=0.95)\n",
      "Individual(genome=(sin(x[0]) + [-0.33422996]), fitness=np.float64(3.970476609115341), fitness_val=None, age=5, T=0.95)\n",
      "Individual(genome=sin((sin(x[0]) + [-1.38251226])), fitness=np.float64(4.0200545439161655), fitness_val=None, age=2, T=0.9025)\n",
      "Individual(genome=(x[0] * [0.10892561]), fitness=np.float64(3.4092629372650096), fitness_val=None, age=2, T=0.9025)\n",
      "Individual(genome=([1.8218243] + x[0]), fitness=np.float64(10.041300320428542), fitness_val=None, age=5, T=0.95)\n",
      "Individual(genome=cos((sin(x[0]) / ([1.3783837] + cos(([0.17954688] - x[0]))))), fitness=np.float64(3.9691380068132216), fitness_val=None, age=5, T=0.95)\n",
      "Individual(genome=(x[0] - [-0.89782496]), fitness=np.float64(7.527724569478928), fitness_val=None, age=0, T=0.8145062499999999)\n",
      "Individual(genome=(sin(x[0]) + [-1.82510251]), fitness=np.float64(7.170911339553144), fitness_val=None, age=4, T=0.95)\n",
      "Individual(genome=((cos(([0.20600998] * (x[0] + x[0]))) / [0.15858656]) - sin(abs((((x[0] * x[0]) * x[1]) / [-1.52177392])))), fitness=np.float64(24.12705114949966), fitness_val=None, age=1, T=0.9025)\n",
      "Individual(genome=((x[0] / [-1.03849189]) - sin(abs((((x[0] * x[0]) * x[1]) / [-1.52177392])))), fitness=np.float64(6.8597122342437), fitness_val=None, age=2, T=0.95)\n",
      "Individual(genome=([-0.23092766] + x[0]), fitness=np.float64(6.774203125727712), fitness_val=None, age=0, T=0.9025)\n",
      "Individual(genome=(x[0] + [1.79884849]), fitness=np.float64(9.95809696718771), fitness_val=None, age=0, T=0.9025)\n",
      "Individual(genome=([-0.86393732] + x[0]), fitness=np.float64(7.466837384371685), fitness_val=None, age=0, T=0.95)\n"
     ]
    }
   ],
   "source": [
    "broken_inv = []\n",
    "for i in my_pop_0:\n",
    "    if i.fitness_val == None:\n",
    "        broken_inv.append(i)\n",
    "        print(i)"
   ]
  },
  {
   "cell_type": "code",
   "execution_count": null,
   "metadata": {},
   "outputs": [],
   "source": [
    "try:\n",
    "    problem = np.load(\"data/problem_1.npz\")\n",
    "    x = problem[\"x\"]\n",
    "    y = problem[\"y\"]\n",
    "    print(\"x.shape:\", x.shape)\n",
    "    print(\"y.shape:\", y.shape)\n",
    "    my_pop_1 = evolve(x,y)\n",
    "except:\n",
    "    print(\"ERROR\")"
   ]
  },
  {
   "cell_type": "code",
   "execution_count": null,
   "metadata": {},
   "outputs": [],
   "source": [
    "try:\n",
    "    problem = np.load(\"data/problem_2.npz\")\n",
    "    x = problem[\"x\"]\n",
    "    y = problem[\"y\"]\n",
    "    print(\"x.shape:\", x.shape)\n",
    "    print(\"y.shape:\", y.shape)\n",
    "    my_pop_2 = evolve(x,y)\n",
    "except:\n",
    "    print(\"ERROR\")"
   ]
  },
  {
   "cell_type": "code",
   "execution_count": null,
   "metadata": {},
   "outputs": [],
   "source": [
    "try:\n",
    "    problem = np.load(\"data/problem_3.npz\")\n",
    "    x = problem[\"x\"]\n",
    "    y = problem[\"y\"]\n",
    "    print(\"x.shape:\", x.shape)\n",
    "    print(\"y.shape:\", y.shape)\n",
    "    my_pop_3 = evolve(x,y)\n",
    "except: \n",
    "    print(\"ERROR\")"
   ]
  },
  {
   "cell_type": "code",
   "execution_count": null,
   "metadata": {},
   "outputs": [],
   "source": [
    "try:\n",
    "    problem = np.load(\"data/problem_4.npz\")\n",
    "    x = problem[\"x\"]\n",
    "    y = problem[\"y\"]\n",
    "    print(\"x.shape:\", x.shape)\n",
    "    print(\"y.shape:\", y.shape)\n",
    "    my_pop_4 = evolve(x,y)\n",
    "except: \n",
    "    print(\"ERROR\")"
   ]
  },
  {
   "cell_type": "code",
   "execution_count": null,
   "metadata": {},
   "outputs": [],
   "source": [
    "try:\n",
    "    problem = np.load(\"data/problem_5.npz\")\n",
    "    x = problem[\"x\"]\n",
    "    y = problem[\"y\"]\n",
    "    print(\"x.shape:\", x.shape)\n",
    "    print(\"y.shape:\", y.shape)\n",
    "    my_pop_5 = evolve(x,y)\n",
    "except: \n",
    "    print(\"ERROR\")"
   ]
  },
  {
   "cell_type": "code",
   "execution_count": null,
   "metadata": {},
   "outputs": [],
   "source": [
    "try:\n",
    "    problem = np.load(\"data/problem_6.npz\")\n",
    "    x = problem[\"x\"]\n",
    "    y = problem[\"y\"]\n",
    "    print(\"x.shape:\", x.shape)\n",
    "    print(\"y.shape:\", y.shape)\n",
    "    my_pop_6 = evolve(x,y)\n",
    "except: \n",
    "    print(\"ERROR\")"
   ]
  },
  {
   "cell_type": "code",
   "execution_count": null,
   "metadata": {},
   "outputs": [],
   "source": [
    "try:\n",
    "    problem = np.load(\"data/problem_7.npz\")\n",
    "    x = problem[\"x\"]\n",
    "    y = problem[\"y\"]\n",
    "    print(\"x.shape:\", x.shape)\n",
    "    print(\"y.shape:\", y.shape)\n",
    "    my_pop_7 = evolve(x,y)\n",
    "except: \n",
    "    print(\"ERROR\")"
   ]
  },
  {
   "cell_type": "code",
   "execution_count": null,
   "metadata": {},
   "outputs": [],
   "source": [
    "try:\n",
    "    problem = np.load(\"data/problem_8.npz\")\n",
    "    x = problem[\"x\"]\n",
    "    y = problem[\"y\"]\n",
    "    print(\"x.shape:\", x.shape)\n",
    "    print(\"y.shape:\", y.shape)\n",
    "    my_pop_8 = evolve(x,y)\n",
    "except: \n",
    "    print(\"ERROR\")"
   ]
  },
  {
   "cell_type": "code",
   "execution_count": null,
   "metadata": {},
   "outputs": [],
   "source": []
  },
  {
   "cell_type": "code",
   "execution_count": null,
   "metadata": {},
   "outputs": [],
   "source": []
  }
 ],
 "metadata": {
  "kernelspec": {
   "display_name": "ci",
   "language": "python",
   "name": "python3"
  },
  "language_info": {
   "codemirror_mode": {
    "name": "ipython",
    "version": 3
   },
   "file_extension": ".py",
   "mimetype": "text/x-python",
   "name": "python",
   "nbconvert_exporter": "python",
   "pygments_lexer": "ipython3",
   "version": "3.10.15"
  }
 },
 "nbformat": 4,
 "nbformat_minor": 2
}
