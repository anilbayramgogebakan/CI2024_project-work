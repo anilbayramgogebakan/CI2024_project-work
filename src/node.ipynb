{
 "cells": [
  {
   "cell_type": "code",
   "execution_count": 4,
   "metadata": {},
   "outputs": [],
   "source": [
    "import numpy as np\n",
    "import random\n",
    "import math"
   ]
  },
  {
   "cell_type": "code",
   "execution_count": 10,
   "metadata": {},
   "outputs": [],
   "source": [
    "operators=[np.add, np.subtract, np.multiply, np.sin, np.cos, np.exp]\n",
    "one_arg_op=[np.sin, np.cos, np.exp]\n",
    "\n",
    "def is_operator(val):\n",
    "        return val in operators"
   ]
  },
  {
   "cell_type": "code",
   "execution_count": 14,
   "metadata": {},
   "outputs": [],
   "source": [
    "class Node:\n",
    "    op_list = {\n",
    "        np.add: '+',\n",
    "        np.subtract: '-',\n",
    "        np.multiply: '*',\n",
    "        np.sin: 'sin',\n",
    "        np.cos: 'cos',\n",
    "        np.exp: 'exp',  \n",
    "    }\n",
    "    def __init__(self, value=None, feature_index=None, left=None, right=None):\n",
    "        self.value = value \n",
    "        self.feature_index = feature_index\n",
    "        self.left = left\n",
    "        self.right = right\n",
    "\n",
    "    def evaluate(self,x=None):\n",
    "        # first check if it is an operator \n",
    "        # if not proceed\n",
    "        \n",
    "        if not is_operator(self.value):\n",
    "            #print(\"index\",self.feature_index)\n",
    "            if self.feature_index!= None:\n",
    "                #print(\"ben inputun indexiyim\")\n",
    "                return x[self.feature_index]\n",
    "            else:\n",
    "                #print(\"ben bir sayıyım\")\n",
    "                return self.value\n",
    "        # if it is an operator\n",
    "        if self.value in one_arg_op:\n",
    "            operand_value = self.left.evaluate(x)\n",
    "            #print(\"tek\",operand_value)\n",
    "            return self.value(operand_value)\n",
    "        \n",
    "        left_value = self.left.evaluate(x)\n",
    "        right_value = self.right.evaluate(x)\n",
    "        #print(left_value)\n",
    "        #print(right_value)\n",
    "        return self.value(left_value, right_value)\n",
    "    def __str__(self):\n",
    "        if not is_operator(self.value):\n",
    "            if self.feature_index != None:\n",
    "                return f\"x[{self.feature_index}]\"\n",
    "            return str(self.value)\n",
    "\n",
    "        operator_symbol = self.op_list[self.value]\n",
    "\n",
    "        if self.value in {np.sin, np.cos, np.log, np.exp}:\n",
    "            return f\"{operator_symbol}({self.left})\"\n",
    "\n",
    "        return f\"({self.left} {operator_symbol} {self.right})\""
   ]
  },
  {
   "cell_type": "code",
   "execution_count": 15,
   "metadata": {},
   "outputs": [
    {
     "name": "stdout",
     "output_type": "stream",
     "text": [
      "(x[0] + (2 * sin((x[1] + 10))))\n"
     ]
    }
   ],
   "source": [
    "meric = Node(value=np.add,left=Node(feature_index=0),right=Node(value=np.multiply,left=Node(value=2),right=Node(value=np.sin,left=Node(value=np.add,left=Node(feature_index=1),right=Node(value=10)))))\n",
    "print(meric)"
   ]
  },
  {
   "cell_type": "code",
   "execution_count": 16,
   "metadata": {},
   "outputs": [
    {
     "name": "stdout",
     "output_type": "stream",
     "text": [
      "2.840334073653282\n"
     ]
    }
   ],
   "source": [
    "x=[2,3]\n",
    "print(meric.evaluate(x))"
   ]
  },
  {
   "cell_type": "code",
   "execution_count": 17,
   "metadata": {},
   "outputs": [],
   "source": [
    "def random_tree(depth, num_features):\n",
    "    if depth == 0:\n",
    "        if random.random() < 0.5:\n",
    "            return Node(feature_index=random.randint(0, num_features - 1))\n",
    "        else:\n",
    "            return Node(value=random.randint(1, 10))\n",
    "\n",
    "    operator = random.choice(operators)\n",
    "    node = Node(value=operator)\n",
    "\n",
    "    if operator in one_arg_op:\n",
    "        node.left = random_tree(depth - 1, num_features)\n",
    "        node.right = None\n",
    "    else:\n",
    "        node.left = random_tree(depth - 1, num_features)\n",
    "        node.right = random_tree(depth - 1, num_features)\n",
    "\n",
    "    return node"
   ]
  },
  {
   "cell_type": "code",
   "execution_count": 22,
   "metadata": {},
   "outputs": [
    {
     "name": "stdout",
     "output_type": "stream",
     "text": [
      "sin(exp(cos(((x[1] - 10) + (x[1] * 6)))))\n"
     ]
    }
   ],
   "source": [
    "bayram=random_tree(5,2)\n",
    "print(bayram)"
   ]
  },
  {
   "cell_type": "code",
   "execution_count": 23,
   "metadata": {},
   "outputs": [
    {
     "data": {
      "text/plain": [
       "np.float64(0.8438592135744756)"
      ]
     },
     "execution_count": 23,
     "metadata": {},
     "output_type": "execute_result"
    }
   ],
   "source": [
    "bayram.evaluate(x)"
   ]
  },
  {
   "cell_type": "code",
   "execution_count": null,
   "metadata": {},
   "outputs": [],
   "source": [
    "def population(num_peop):"
   ]
  }
 ],
 "metadata": {
  "kernelspec": {
   "display_name": "Python 3",
   "language": "python",
   "name": "python3"
  },
  "language_info": {
   "codemirror_mode": {
    "name": "ipython",
    "version": 3
   },
   "file_extension": ".py",
   "mimetype": "text/x-python",
   "name": "python",
   "nbconvert_exporter": "python",
   "pygments_lexer": "ipython3",
   "version": "3.12.6"
  }
 },
 "nbformat": 4,
 "nbformat_minor": 2
}
